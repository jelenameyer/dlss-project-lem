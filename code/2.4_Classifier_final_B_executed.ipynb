{
 "cells": [
  {
   "cell_type": "markdown",
   "id": "c1f1e0cb",
   "metadata": {
    "id": "c1f1e0cb"
   },
   "source": [
    "# Fine-tuning Classifier LLM\n"
   ]
  },
  {
   "cell_type": "code",
   "execution_count": 1,
   "id": "ckZZS35tHw5Y",
   "metadata": {
    "colab": {
     "base_uri": "https://localhost:8080/"
    },
    "collapsed": true,
    "id": "ckZZS35tHw5Y",
    "jupyter": {
     "outputs_hidden": true
    },
    "outputId": "b5946f27-964b-4963-ef5b-e509b8715ec9",
    "scrolled": true
   },
   "outputs": [
    {
     "name": "stdout",
     "output_type": "stream",
     "text": [
      "Requirement already satisfied: optuna in /opt/conda/lib/python3.11/site-packages (4.4.0)\n",
      "Requirement already satisfied: alembic>=1.5.0 in /opt/conda/lib/python3.11/site-packages (from optuna) (1.12.0)\n",
      "Requirement already satisfied: colorlog in /opt/conda/lib/python3.11/site-packages (from optuna) (6.9.0)\n",
      "Requirement already satisfied: numpy in /opt/conda/lib/python3.11/site-packages (from optuna) (1.24.4)\n",
      "Requirement already satisfied: packaging>=20.0 in /opt/conda/lib/python3.11/site-packages (from optuna) (23.2)\n",
      "Requirement already satisfied: sqlalchemy>=1.4.2 in /opt/conda/lib/python3.11/site-packages (from optuna) (2.0.22)\n",
      "Requirement already satisfied: tqdm in /opt/conda/lib/python3.11/site-packages (from optuna) (4.67.1)\n",
      "Requirement already satisfied: PyYAML in /opt/conda/lib/python3.11/site-packages (from optuna) (6.0.1)\n",
      "Requirement already satisfied: Mako in /opt/conda/lib/python3.11/site-packages (from alembic>=1.5.0->optuna) (1.2.4)\n",
      "Requirement already satisfied: typing-extensions>=4 in /opt/conda/lib/python3.11/site-packages (from alembic>=1.5.0->optuna) (4.14.1)\n",
      "Requirement already satisfied: greenlet!=0.4.17 in /opt/conda/lib/python3.11/site-packages (from sqlalchemy>=1.4.2->optuna) (3.0.0)\n",
      "Requirement already satisfied: MarkupSafe>=0.9.2 in /opt/conda/lib/python3.11/site-packages (from Mako->alembic>=1.5.0->optuna) (2.1.3)\n",
      "Requirement already satisfied: typing in /opt/conda/lib/python3.11/site-packages (3.7.4.3)\n",
      "Requirement already satisfied: evaluate in /opt/conda/lib/python3.11/site-packages (0.4.5)\n",
      "Requirement already satisfied: datasets>=2.0.0 in /opt/conda/lib/python3.11/site-packages (from evaluate) (4.0.0)\n",
      "Requirement already satisfied: numpy>=1.17 in /opt/conda/lib/python3.11/site-packages (from evaluate) (1.24.4)\n",
      "Requirement already satisfied: dill in /opt/conda/lib/python3.11/site-packages (from evaluate) (0.3.8)\n",
      "Requirement already satisfied: pandas in /opt/conda/lib/python3.11/site-packages (from evaluate) (2.1.1)\n",
      "Requirement already satisfied: requests>=2.19.0 in /opt/conda/lib/python3.11/site-packages (from evaluate) (2.32.4)\n",
      "Requirement already satisfied: tqdm>=4.62.1 in /opt/conda/lib/python3.11/site-packages (from evaluate) (4.67.1)\n",
      "Requirement already satisfied: xxhash in /opt/conda/lib/python3.11/site-packages (from evaluate) (3.5.0)\n",
      "Requirement already satisfied: multiprocess in /opt/conda/lib/python3.11/site-packages (from evaluate) (0.70.16)\n",
      "Requirement already satisfied: fsspec>=2021.05.0 in /opt/conda/lib/python3.11/site-packages (from fsspec[http]>=2021.05.0->evaluate) (2023.9.2)\n",
      "Requirement already satisfied: huggingface-hub>=0.7.0 in /opt/conda/lib/python3.11/site-packages (from evaluate) (0.34.3)\n",
      "Requirement already satisfied: packaging in /opt/conda/lib/python3.11/site-packages (from evaluate) (23.2)\n",
      "Requirement already satisfied: filelock in /opt/conda/lib/python3.11/site-packages (from datasets>=2.0.0->evaluate) (3.18.0)\n",
      "Requirement already satisfied: pyarrow>=15.0.0 in /opt/conda/lib/python3.11/site-packages (from datasets>=2.0.0->evaluate) (21.0.0)\n",
      "Requirement already satisfied: pyyaml>=5.1 in /opt/conda/lib/python3.11/site-packages (from datasets>=2.0.0->evaluate) (6.0.1)\n",
      "Requirement already satisfied: aiohttp!=4.0.0a0,!=4.0.0a1 in /opt/conda/lib/python3.11/site-packages (from fsspec[http]>=2021.05.0->evaluate) (3.8.6)\n",
      "Requirement already satisfied: typing-extensions>=3.7.4.3 in /opt/conda/lib/python3.11/site-packages (from huggingface-hub>=0.7.0->evaluate) (4.14.1)\n",
      "Requirement already satisfied: hf-xet<2.0.0,>=1.1.3 in /opt/conda/lib/python3.11/site-packages (from huggingface-hub>=0.7.0->evaluate) (1.1.5)\n",
      "Requirement already satisfied: charset_normalizer<4,>=2 in /opt/conda/lib/python3.11/site-packages (from requests>=2.19.0->evaluate) (3.3.0)\n",
      "Requirement already satisfied: idna<4,>=2.5 in /opt/conda/lib/python3.11/site-packages (from requests>=2.19.0->evaluate) (3.4)\n",
      "Requirement already satisfied: urllib3<3,>=1.21.1 in /opt/conda/lib/python3.11/site-packages (from requests>=2.19.0->evaluate) (2.0.7)\n",
      "Requirement already satisfied: certifi>=2017.4.17 in /opt/conda/lib/python3.11/site-packages (from requests>=2.19.0->evaluate) (2023.7.22)\n",
      "Requirement already satisfied: python-dateutil>=2.8.2 in /opt/conda/lib/python3.11/site-packages (from pandas->evaluate) (2.8.2)\n",
      "Requirement already satisfied: pytz>=2020.1 in /opt/conda/lib/python3.11/site-packages (from pandas->evaluate) (2023.3.post1)\n",
      "Requirement already satisfied: tzdata>=2022.1 in /opt/conda/lib/python3.11/site-packages (from pandas->evaluate) (2023.3)\n",
      "Requirement already satisfied: attrs>=17.3.0 in /opt/conda/lib/python3.11/site-packages (from aiohttp!=4.0.0a0,!=4.0.0a1->fsspec[http]>=2021.05.0->evaluate) (23.1.0)\n",
      "Requirement already satisfied: multidict<7.0,>=4.5 in /opt/conda/lib/python3.11/site-packages (from aiohttp!=4.0.0a0,!=4.0.0a1->fsspec[http]>=2021.05.0->evaluate) (6.0.4)\n",
      "Requirement already satisfied: async-timeout<5.0,>=4.0.0a3 in /opt/conda/lib/python3.11/site-packages (from aiohttp!=4.0.0a0,!=4.0.0a1->fsspec[http]>=2021.05.0->evaluate) (4.0.3)\n",
      "Requirement already satisfied: yarl<2.0,>=1.0 in /opt/conda/lib/python3.11/site-packages (from aiohttp!=4.0.0a0,!=4.0.0a1->fsspec[http]>=2021.05.0->evaluate) (1.9.2)\n",
      "Requirement already satisfied: frozenlist>=1.1.1 in /opt/conda/lib/python3.11/site-packages (from aiohttp!=4.0.0a0,!=4.0.0a1->fsspec[http]>=2021.05.0->evaluate) (1.4.0)\n",
      "Requirement already satisfied: aiosignal>=1.1.2 in /opt/conda/lib/python3.11/site-packages (from aiohttp!=4.0.0a0,!=4.0.0a1->fsspec[http]>=2021.05.0->evaluate) (1.3.1)\n",
      "Requirement already satisfied: six>=1.5 in /opt/conda/lib/python3.11/site-packages (from python-dateutil>=2.8.2->pandas->evaluate) (1.16.0)\n",
      "Requirement already satisfied: torch in /opt/conda/lib/python3.11/site-packages (2.7.1)\n",
      "Requirement already satisfied: filelock in /opt/conda/lib/python3.11/site-packages (from torch) (3.18.0)\n",
      "Requirement already satisfied: typing-extensions>=4.10.0 in /opt/conda/lib/python3.11/site-packages (from torch) (4.14.1)\n",
      "Requirement already satisfied: sympy>=1.13.3 in /opt/conda/lib/python3.11/site-packages (from torch) (1.14.0)\n",
      "Requirement already satisfied: networkx in /opt/conda/lib/python3.11/site-packages (from torch) (3.2)\n",
      "Requirement already satisfied: jinja2 in /opt/conda/lib/python3.11/site-packages (from torch) (3.1.2)\n",
      "Requirement already satisfied: fsspec in /opt/conda/lib/python3.11/site-packages (from torch) (2023.9.2)\n",
      "Requirement already satisfied: nvidia-cuda-nvrtc-cu12==12.6.77 in /opt/conda/lib/python3.11/site-packages (from torch) (12.6.77)\n",
      "Requirement already satisfied: nvidia-cuda-runtime-cu12==12.6.77 in /opt/conda/lib/python3.11/site-packages (from torch) (12.6.77)\n",
      "Requirement already satisfied: nvidia-cuda-cupti-cu12==12.6.80 in /opt/conda/lib/python3.11/site-packages (from torch) (12.6.80)\n",
      "Requirement already satisfied: nvidia-cudnn-cu12==9.5.1.17 in /opt/conda/lib/python3.11/site-packages (from torch) (9.5.1.17)\n",
      "Requirement already satisfied: nvidia-cublas-cu12==12.6.4.1 in /opt/conda/lib/python3.11/site-packages (from torch) (12.6.4.1)\n",
      "Requirement already satisfied: nvidia-cufft-cu12==11.3.0.4 in /opt/conda/lib/python3.11/site-packages (from torch) (11.3.0.4)\n",
      "Requirement already satisfied: nvidia-curand-cu12==10.3.7.77 in /opt/conda/lib/python3.11/site-packages (from torch) (10.3.7.77)\n",
      "Requirement already satisfied: nvidia-cusolver-cu12==11.7.1.2 in /opt/conda/lib/python3.11/site-packages (from torch) (11.7.1.2)\n",
      "Requirement already satisfied: nvidia-cusparse-cu12==12.5.4.2 in /opt/conda/lib/python3.11/site-packages (from torch) (12.5.4.2)\n",
      "Requirement already satisfied: nvidia-cusparselt-cu12==0.6.3 in /opt/conda/lib/python3.11/site-packages (from torch) (0.6.3)\n",
      "Requirement already satisfied: nvidia-nccl-cu12==2.26.2 in /opt/conda/lib/python3.11/site-packages (from torch) (2.26.2)\n",
      "Requirement already satisfied: nvidia-nvtx-cu12==12.6.77 in /opt/conda/lib/python3.11/site-packages (from torch) (12.6.77)\n",
      "Requirement already satisfied: nvidia-nvjitlink-cu12==12.6.85 in /opt/conda/lib/python3.11/site-packages (from torch) (12.6.85)\n",
      "Requirement already satisfied: nvidia-cufile-cu12==1.11.1.6 in /opt/conda/lib/python3.11/site-packages (from torch) (1.11.1.6)\n",
      "Requirement already satisfied: triton==3.3.1 in /opt/conda/lib/python3.11/site-packages (from torch) (3.3.1)\n",
      "Requirement already satisfied: setuptools>=40.8.0 in /opt/conda/lib/python3.11/site-packages (from triton==3.3.1->torch) (68.2.2)\n",
      "Requirement already satisfied: mpmath<1.4,>=1.1.0 in /opt/conda/lib/python3.11/site-packages (from sympy>=1.13.3->torch) (1.3.0)\n",
      "Requirement already satisfied: MarkupSafe>=2.0 in /opt/conda/lib/python3.11/site-packages (from jinja2->torch) (2.1.3)\n",
      "Requirement already satisfied: transformers in /opt/conda/lib/python3.11/site-packages (4.54.1)\n",
      "Requirement already satisfied: filelock in /opt/conda/lib/python3.11/site-packages (from transformers) (3.18.0)\n",
      "Requirement already satisfied: huggingface-hub<1.0,>=0.34.0 in /opt/conda/lib/python3.11/site-packages (from transformers) (0.34.3)\n",
      "Requirement already satisfied: numpy>=1.17 in /opt/conda/lib/python3.11/site-packages (from transformers) (1.24.4)\n",
      "Requirement already satisfied: packaging>=20.0 in /opt/conda/lib/python3.11/site-packages (from transformers) (23.2)\n",
      "Requirement already satisfied: pyyaml>=5.1 in /opt/conda/lib/python3.11/site-packages (from transformers) (6.0.1)\n",
      "Requirement already satisfied: regex!=2019.12.17 in /opt/conda/lib/python3.11/site-packages (from transformers) (2025.7.34)\n",
      "Requirement already satisfied: requests in /opt/conda/lib/python3.11/site-packages (from transformers) (2.32.4)\n",
      "Requirement already satisfied: tokenizers<0.22,>=0.21 in /opt/conda/lib/python3.11/site-packages (from transformers) (0.21.4)\n",
      "Requirement already satisfied: safetensors>=0.4.3 in /opt/conda/lib/python3.11/site-packages (from transformers) (0.5.3)\n",
      "Requirement already satisfied: tqdm>=4.27 in /opt/conda/lib/python3.11/site-packages (from transformers) (4.67.1)\n",
      "Requirement already satisfied: fsspec>=2023.5.0 in /opt/conda/lib/python3.11/site-packages (from huggingface-hub<1.0,>=0.34.0->transformers) (2023.9.2)\n",
      "Requirement already satisfied: typing-extensions>=3.7.4.3 in /opt/conda/lib/python3.11/site-packages (from huggingface-hub<1.0,>=0.34.0->transformers) (4.14.1)\n",
      "Requirement already satisfied: hf-xet<2.0.0,>=1.1.3 in /opt/conda/lib/python3.11/site-packages (from huggingface-hub<1.0,>=0.34.0->transformers) (1.1.5)\n",
      "Requirement already satisfied: charset_normalizer<4,>=2 in /opt/conda/lib/python3.11/site-packages (from requests->transformers) (3.3.0)\n",
      "Requirement already satisfied: idna<4,>=2.5 in /opt/conda/lib/python3.11/site-packages (from requests->transformers) (3.4)\n",
      "Requirement already satisfied: urllib3<3,>=1.21.1 in /opt/conda/lib/python3.11/site-packages (from requests->transformers) (2.0.7)\n",
      "Requirement already satisfied: certifi>=2017.4.17 in /opt/conda/lib/python3.11/site-packages (from requests->transformers) (2023.7.22)\n"
     ]
    }
   ],
   "source": [
    "!pip install optuna\n",
    "!pip install typing\n",
    "!pip install evaluate\n",
    "!pip install torch\n",
    "!pip install transformers\n",
    "pip install accelerate>=0.26.0"
   ]
  },
  {
   "cell_type": "code",
   "execution_count": 1,
   "id": "605d0b0a",
   "metadata": {
    "colab": {
     "base_uri": "https://localhost:8080/"
    },
    "id": "605d0b0a",
    "outputId": "8980a456-fc7c-4c36-a0f8-5949320a0271"
   },
   "outputs": [
    {
     "name": "stdout",
     "output_type": "stream",
     "text": [
      "cuda\n"
     ]
    }
   ],
   "source": [
    "# setup - load packages\n",
    "import pandas as pd\n",
    "from datasets import Dataset, load_dataset\n",
    "import torch\n",
    "import numpy as np\n",
    "from transformers import AutoTokenizer, AutoModelForSequenceClassification\n",
    "import torch.nn.functional as F\n",
    "from sklearn.metrics import (\n",
    "    accuracy_score,\n",
    "    classification_report,\n",
    "    confusion_matrix,\n",
    "    f1_score,\n",
    "    precision_score,\n",
    "    recall_score,\n",
    "    balanced_accuracy_score\n",
    ")\n",
    "import matplotlib.pyplot as plt\n",
    "import seaborn as sns\n",
    "from transformers import TrainingArguments, Trainer, DataCollatorWithPadding\n",
    "from typing import Union, Mapping, List, Dict, Any\n",
    "import evaluate\n",
    "from tqdm import tqdm\n",
    "import zipfile\n",
    "import os\n",
    "import accelerate\n",
    "\n",
    "\n",
    "# Set up device (is available use GPU to speed up computations)\n",
    "device = torch.device(\"cuda\" if torch.cuda.is_available() else \"cpu\")\n",
    "print(device)\n",
    "\n",
    "seed = 13"
   ]
  },
  {
   "cell_type": "markdown",
   "id": "cTDSganZ_MP6",
   "metadata": {
    "id": "cTDSganZ_MP6"
   },
   "source": [
    "## VERSION B"
   ]
  },
  {
   "cell_type": "code",
   "execution_count": 2,
   "id": "9124e7b1",
   "metadata": {
    "colab": {
     "base_uri": "https://localhost:8080/"
    },
    "id": "9124e7b1",
    "outputId": "510231c3-05ad-42c2-d55c-3e883203816e"
   },
   "outputs": [
    {
     "name": "stdout",
     "output_type": "stream",
     "text": [
      "Training samples party: 25281\n",
      "Test samples party: 5418\n",
      "Validation samples party: 5418\n"
     ]
    }
   ],
   "source": [
    "classifier_data = pd.read_csv(\"../data/classifier_data_B.csv\")\n",
    "# converting to huggingface dataset format\n",
    "data = Dataset.from_pandas(classifier_data)\n",
    "# splitting into train, test and validation sets\n",
    "# party data\n",
    "raw_dataset = data.shuffle(seed=seed)\n",
    "\n",
    "# 70% train, 15% test, 15% validation data\n",
    "split = raw_dataset.train_test_split(test_size=0.3, seed=seed)\n",
    "train_data = split[\"train\"]\n",
    "text_and_val_data = split[\"test\"]\n",
    "split = text_and_val_data.train_test_split(test_size=0.5, seed=seed)\n",
    "test_data = split[\"train\"]\n",
    "val_data = split[\"test\"]\n",
    "\n",
    "print(f\"Training samples party: {len(train_data)}\")\n",
    "print(f\"Test samples party: {len(test_data)}\")\n",
    "print(f\"Validation samples party: {len(val_data)}\")\n",
    "\n",
    "\n",
    "\n",
    "# data balancing??\n"
   ]
  },
  {
   "cell_type": "code",
   "execution_count": 3,
   "id": "e176c9d3",
   "metadata": {
    "id": "e176c9d3"
   },
   "outputs": [],
   "source": [
    "WINDOW_LENGTH = 512\n",
    "STRIDE = 256"
   ]
  },
  {
   "cell_type": "code",
   "execution_count": 4,
   "id": "fd8bc2b5",
   "metadata": {
    "colab": {
     "base_uri": "https://localhost:8080/",
     "height": 252,
     "referenced_widgets": [
      "70e28700433441aaa8d5cd7cfbd62d5f",
      "d0a726bdfc794fc1a9cf220200ed3051",
      "e77321f8f7be42b2be396b2b21792709",
      "aeb2ce2bc0034f16965777c1fcd64ef5",
      "72a13ba09ad74ce492d81101c1fa4542",
      "2638b7e5cace4f43b78e72eb3c66f3fb",
      "2b21583767d840f4b97231bab6205c1d",
      "0f8644423d424373afd81b7be748573b",
      "4441b099b7a5430e928446f2c94ff34f",
      "2da663b483724216a662cb656275f51c",
      "6073b15cef70484a860dad09d5356994",
      "a91fb81a2fbe45af8a4ef496694f2f31",
      "4383882caa8246ff93e3006dab90e211",
      "be44e551de4b4ac7a43277bf754b88a2",
      "845debd6eaec493991d4f541e4ab623c",
      "a09c316b04b84706bb1eee4aa3fb5394",
      "99c6e60f79574c079f1959249d32993a",
      "a1f41814e2e6474db770328fd30ea11f",
      "d35ab330d3244708a7ee165d15c9fce2",
      "eaee5c04d8e643c1a4da3adbd636e7aa",
      "b83e37c9a21448ef8702a80f69d8296b",
      "db70dcaaff234329b82e5b8a3040df7a",
      "1c4c5d207798476681a5270edb9fb70b",
      "bff4a201fcf842ef871121ccf114eaf6",
      "e18b51efac6147adafccad9d2cfdfa91",
      "a3ef521bc6f84d6b8259725273d45120",
      "8f5388133f8145a3bbe2b61ca58de44d",
      "716d8a6bbe184628836e955bb14ffd18",
      "a334d7df1e5343dfaf1e78af6979baff",
      "fb6eb0ea305b45949e90f1d3a8c1231d",
      "488df2db8a7b481db7527f09f1580434",
      "c06b1fa97a144c3cab976627cd0e077a",
      "132c45efb37a47bc80ecbaf7621d05e2",
      "e2e7903d40e844baa5c0e987839ca85d",
      "20711b75b41243988ec5182117da5701",
      "b9c9698338d84cac9dc108d8ba205592",
      "e4428267f97945078a3f10f53aab921d",
      "e62a2b3e92cf43d98c7f686b5a96a1e4",
      "5437dd08a0dd4c68adcf979e02748e61",
      "2a7179f0a1f64fdaa9768c111bfa0b5b",
      "cc9ea91505fe48fab23132295b02a920",
      "fb27a91800a94603817104c06d7b8ef8",
      "eeb7d61254ad4d61b9a9e9e187ee771e",
      "f2bfea95fe6c491f9a3fc29cff3f49c6"
     ]
    },
    "id": "fd8bc2b5",
    "outputId": "ab5174a2-ec9c-4439-f6f2-1bbe0802748d"
   },
   "outputs": [],
   "source": [
    "# Load Tokenizer\n",
    "model_name = \"bert-base-german-cased\"\n",
    "num_labels = 6\n",
    "tokenizer = AutoTokenizer.from_pretrained(\n",
    "    model_name,\n",
    "    model_max_length=WINDOW_LENGTH\n",
    ")\n"
   ]
  },
  {
   "cell_type": "code",
   "execution_count": 5,
   "id": "58a3ea65",
   "metadata": {
    "id": "58a3ea65"
   },
   "outputs": [],
   "source": [
    "label_names = ['CDU/CSU', 'SPD', 'GRÜNE', 'FDP', 'AfD', 'LINKE']\n",
    "label2id = {label: i for i, label in enumerate(sorted(label_names))}\n",
    "id2label = {i: label for label, i in label2id.items()}"
   ]
  },
  {
   "cell_type": "code",
   "execution_count": 6,
   "id": "9f3ed929",
   "metadata": {
    "id": "9f3ed929"
   },
   "outputs": [],
   "source": [
    "def sliding_window_tokenize(batch):\n",
    "    texts = batch[\"speech_text\"]\n",
    "    labels = batch[\"label\"]  # ensure this is a flat list of ints\n",
    "\n",
    "    tokenized = tokenizer(\n",
    "        texts,\n",
    "        truncation=True,\n",
    "        padding=\"max_length\",\n",
    "        max_length=WINDOW_LENGTH,\n",
    "        stride=STRIDE,\n",
    "        return_overflowing_tokens=True,\n",
    "    )\n",
    "\n",
    "    # Assign each overflow window the correct label\n",
    "    tokenized[\"labels\"] = [label2id[labels[i]] for i in tokenized[\"overflow_to_sample_mapping\"]]\n",
    "\n",
    "    return tokenized\n"
   ]
  },
  {
   "cell_type": "code",
   "execution_count": 7,
   "id": "15808c33",
   "metadata": {
    "colab": {
     "base_uri": "https://localhost:8080/",
     "height": 81,
     "referenced_widgets": [
      "94b2f0de43154f9099cd436702491afa",
      "90de35c09ffc4b5684a6556c7c0e7683",
      "e67f549809784041941d0c32efa00a6c",
      "b657874ebe5b49499062e4a1bd46379f",
      "44095bffe7bc42f7878b7c0316fd4dfb",
      "baa7005ccfbc4f32a129e93985531751",
      "c8b2624294884c91a8d1422b49b24562",
      "6f207c49de124722b34280aac4513f1c",
      "d3eeb8e888464a61a3a95b2af0d93c97",
      "e56dd4a842964411b381b406938aa070",
      "648f4ca349054e08b213fe012bb462cf",
      "e745988faf994777b1d3104b6b13710d",
      "53e10673dcb2453689e47a4b9b3270dc",
      "0e9e4299bcc3440d9d823e9cd69ccb48",
      "4d3f50a398ff4d30a4993bd5046e5f97",
      "6ea8d3bedcb44d628eeae0d89abb2d39",
      "6eae1c0e8c6f4b558e1602c0760e3e43",
      "6cc62f32b1c24febbd6a9e5c51c6ad54",
      "82eb85eb46f04a67b8cbed27df3777bd",
      "1c29b173483d43ad8bba36042c4da089",
      "0e8fbffd1985465e895a2e7fc4e82bdd",
      "4bd6e1e5752248d69328dff4cb3f4198"
     ]
    },
    "id": "15808c33",
    "outputId": "c0c24ad4-18b5-4261-f3ea-9aaf96b73012"
   },
   "outputs": [
    {
     "data": {
      "application/vnd.jupyter.widget-view+json": {
       "model_id": "03a7cf2277ad4d47b9354db5a1e37be0",
       "version_major": 2,
       "version_minor": 0
      },
      "text/plain": [
       "Map:   0%|          | 0/25281 [00:00<?, ? examples/s]"
      ]
     },
     "metadata": {},
     "output_type": "display_data"
    },
    {
     "data": {
      "application/vnd.jupyter.widget-view+json": {
       "model_id": "0cb227e9719a469bad06a020c2411a40",
       "version_major": 2,
       "version_minor": 0
      },
      "text/plain": [
       "Map:   0%|          | 0/5418 [00:00<?, ? examples/s]"
      ]
     },
     "metadata": {},
     "output_type": "display_data"
    }
   ],
   "source": [
    "tokenized_train_data = train_data.map(\n",
    "    sliding_window_tokenize,\n",
    "    batched=True,\n",
    "    remove_columns=train_data.column_names\n",
    ")\n",
    "\n",
    "tokenized_val_data = val_data.map(\n",
    "    sliding_window_tokenize,\n",
    "    batched=True,\n",
    "    remove_columns=train_data.column_names\n",
    ")"
   ]
  },
  {
   "cell_type": "code",
   "execution_count": 8,
   "id": "1SKBN41QNXj7",
   "metadata": {
    "colab": {
     "base_uri": "https://localhost:8080/",
     "height": 149,
     "referenced_widgets": [
      "292badff2ee1436a8fd8edd7444cac01",
      "f5c69920efcd406e943d915c16568424",
      "97e6727085954305ad202d94830df0d2",
      "9c3c970540ae4fd5ab746ab3f451c86d",
      "d356eaccff924466a7e62df6039c01e9",
      "6b0cf1c0f21d4bf8bfa1cd9486bca0fd",
      "6bda7cac2a9b481fbcf8df25e934a1d9",
      "1c62963740364e66b9526c072addf73b",
      "bb79a675d18542f991b579c44337151f",
      "840c4abe8c7f40469393ec2489fca99d",
      "00cdf24ff8594b90b5a902cef9f21af3",
      "ad9e322eb8584d31bb6b6ef0fd1b0b36",
      "86211e4736184c948c76102fb48fd94e",
      "e1fc5fe3f5c542dfb37b63dc1fd81f44",
      "e3c5802d37664dbf949620d73dab8c91",
      "41fb51849ff3465d8bde2a2fee6f9a62",
      "8ef605f68a414c3695daa18878e594c1",
      "83ab9d9d0c0e4c66b2410381fa8e97e5",
      "246db317d4aa4139a7a6ec3de9017fea",
      "70bf8e35d7d5490c9251660cda49f2ec",
      "5ed988657c91479faa48887ed6c09539",
      "7c0345be3ef6497bba5eae504fd068de",
      "0b9d3fd8e11647eebaabf5abf46ddcab",
      "e207811c142f4aefb694d155e89f516f",
      "ee692411fb7643e7ac822db38842a149",
      "64ac474c08754fba8da4e8a360c95ee7",
      "66aa95ae2d5f41be8e952e6f36db83a2",
      "d13f1c848bf14ac7a86d65534701849c",
      "a2d2ad0745fe4664be15710ea35102e8",
      "55bc134d7e6e4d34bb87330015efc78b",
      "9abc79b18a2449489a1b38be0f021243",
      "f9041976f3e8432198e88b933fdca829",
      "88a52f8934ae4ca3911aa4c83ef5cfe4"
     ]
    },
    "id": "1SKBN41QNXj7",
    "outputId": "db6c5500-1ebf-4ffb-90bb-b835f8544732"
   },
   "outputs": [
    {
     "name": "stderr",
     "output_type": "stream",
     "text": [
      "Some weights of BertForSequenceClassification were not initialized from the model checkpoint at bert-base-german-cased and are newly initialized: ['classifier.bias', 'classifier.weight']\n",
      "You should probably TRAIN this model on a down-stream task to be able to use it for predictions and inference.\n"
     ]
    }
   ],
   "source": [
    "model = AutoModelForSequenceClassification.from_pretrained(\n",
    "    \"bert-base-german-cased\",\n",
    "    num_labels=len(label_names),\n",
    "    id2label=id2label,\n",
    "    label2id=label2id\n",
    ")\n",
    "\n",
    "accuracy_metric = evaluate.load(\"accuracy\")\n",
    "f1_metric = evaluate.load(\"f1\")\n",
    "\n",
    "def compute_metrics(eval_pred):\n",
    "    logits, labels = eval_pred\n",
    "    preds = np.argmax(logits, axis=1)\n",
    "\n",
    "    acc = accuracy_metric.compute(predictions=preds, references=labels)[\"accuracy\"]\n",
    "    f1 = f1_metric.compute(predictions=preds, references=labels, average=\"macro\")[\"f1\"]\n",
    "\n",
    "    return {\n",
    "        \"accuracy\": acc,\n",
    "        \"f1\": f1\n",
    "    }\n"
   ]
  },
  {
   "cell_type": "markdown",
   "id": "LhF3tcZIFst8",
   "metadata": {
    "id": "LhF3tcZIFst8"
   },
   "source": [
    "## Hyperparameter Tuning"
   ]
  },
  {
   "cell_type": "code",
   "execution_count": 9,
   "id": "qfJbYmMMFu37",
   "metadata": {
    "colab": {
     "base_uri": "https://localhost:8080/"
    },
    "id": "qfJbYmMMFu37",
    "outputId": "a7d4635c-08d2-46da-919c-a5a35474bea9"
   },
   "outputs": [
    {
     "name": "stderr",
     "output_type": "stream",
     "text": [
      "/tmp/ipykernel_2676/3039629573.py:25: FutureWarning: `tokenizer` is deprecated and will be removed in version 5.0.0 for `Trainer.__init__`. Use `processing_class` instead.\n",
      "  trainer = Trainer(\n",
      "Some weights of BertForSequenceClassification were not initialized from the model checkpoint at bert-base-german-cased and are newly initialized: ['classifier.bias', 'classifier.weight']\n",
      "You should probably TRAIN this model on a down-stream task to be able to use it for predictions and inference.\n",
      "[I 2025-08-01 16:57:57,777] A new study created in memory with name: no-name-da855184-2fc6-43f4-86d0-16055b932a64\n",
      "Some weights of BertForSequenceClassification were not initialized from the model checkpoint at bert-base-german-cased and are newly initialized: ['classifier.bias', 'classifier.weight']\n",
      "You should probably TRAIN this model on a down-stream task to be able to use it for predictions and inference.\n",
      "/opt/conda/lib/python3.11/site-packages/torch/nn/modules/module.py:1762: FutureWarning: `encoder_attention_mask` is deprecated and will be removed in version 4.55.0 for `BertSdpaSelfAttention.forward`.\n",
      "  return forward_call(*args, **kwargs)\n"
     ]
    },
    {
     "name": "stdout",
     "output_type": "stream",
     "text": [
      "{'loss': 1.4537, 'grad_norm': 5.947567939758301, 'learning_rate': 1.8528543363470492e-05, 'epoch': 0.5995203836930456}\n",
      "{'eval_loss': 1.061736822128296, 'eval_accuracy': 0.5855413230391296, 'eval_f1': 0.5856789812325323, 'eval_runtime': 80.5806, 'eval_samples_per_second': 70.724, 'eval_steps_per_second': 8.848, 'epoch': 1.0}\n"
     ]
    },
    {
     "name": "stderr",
     "output_type": "stream",
     "text": [
      "/opt/conda/lib/python3.11/site-packages/torch/nn/modules/module.py:1762: FutureWarning: `encoder_attention_mask` is deprecated and will be removed in version 4.55.0 for `BertSdpaSelfAttention.forward`.\n",
      "  return forward_call(*args, **kwargs)\n"
     ]
    },
    {
     "name": "stdout",
     "output_type": "stream",
     "text": [
      "{'loss': 1.1109, 'grad_norm': 10.283782958984375, 'learning_rate': 1.526302638013061e-05, 'epoch': 1.1990407673860912}\n",
      "{'loss': 0.9223, 'grad_norm': 16.60808753967285, 'learning_rate': 1.1997509396790729e-05, 'epoch': 1.7985611510791366}\n",
      "{'eval_loss': 0.9230913519859314, 'eval_accuracy': 0.6378311984558694, 'eval_f1': 0.6322667488641837, 'eval_runtime': 79.7667, 'eval_samples_per_second': 71.446, 'eval_steps_per_second': 8.939, 'epoch': 2.0}\n"
     ]
    },
    {
     "name": "stderr",
     "output_type": "stream",
     "text": [
      "/opt/conda/lib/python3.11/site-packages/torch/nn/modules/module.py:1762: FutureWarning: `encoder_attention_mask` is deprecated and will be removed in version 4.55.0 for `BertSdpaSelfAttention.forward`.\n",
      "  return forward_call(*args, **kwargs)\n"
     ]
    },
    {
     "name": "stdout",
     "output_type": "stream",
     "text": [
      "{'loss': 0.7618, 'grad_norm': 13.900824546813965, 'learning_rate': 8.731992413450846e-06, 'epoch': 2.3980815347721824}\n",
      "{'loss': 0.6844, 'grad_norm': 10.650286674499512, 'learning_rate': 5.466475430110963e-06, 'epoch': 2.997601918465228}\n",
      "{'eval_loss': 0.9260182976722717, 'eval_accuracy': 0.6559045446569574, 'eval_f1': 0.6501574948791311, 'eval_runtime': 80.3917, 'eval_samples_per_second': 70.89, 'eval_steps_per_second': 8.869, 'epoch': 3.0}\n"
     ]
    },
    {
     "name": "stderr",
     "output_type": "stream",
     "text": [
      "/opt/conda/lib/python3.11/site-packages/torch/nn/modules/module.py:1762: FutureWarning: `encoder_attention_mask` is deprecated and will be removed in version 4.55.0 for `BertSdpaSelfAttention.forward`.\n",
      "  return forward_call(*args, **kwargs)\n"
     ]
    },
    {
     "name": "stdout",
     "output_type": "stream",
     "text": [
      "{'loss': 0.5273, 'grad_norm': 10.9815673828125, 'learning_rate': 2.2009584467710808e-06, 'epoch': 3.597122302158273}\n",
      "{'eval_loss': 0.9637743234634399, 'eval_accuracy': 0.6543253202316196, 'eval_f1': 0.6554568677327564, 'eval_runtime': 79.7398, 'eval_samples_per_second': 71.47, 'eval_steps_per_second': 8.942, 'epoch': 4.0}\n",
      "{'train_runtime': 4249.6591, 'train_samples_per_second': 25.093, 'train_steps_per_second': 0.785, 'train_loss': 0.8687293192179655, 'epoch': 4.0}\n"
     ]
    },
    {
     "name": "stderr",
     "output_type": "stream",
     "text": [
      "[I 2025-08-01 18:08:48,873] Trial 0 finished with value: 0.6543253202316196 and parameters: {'learning_rate': 2.1787529312843695e-05, 'per_device_train_batch_size': 32, 'num_train_epochs': 4, 'weight_decay': 0.17377118733943814}. Best is trial 0 with value: 0.6543253202316196.\n",
      "Some weights of BertForSequenceClassification were not initialized from the model checkpoint at bert-base-german-cased and are newly initialized: ['classifier.bias', 'classifier.weight']\n",
      "You should probably TRAIN this model on a down-stream task to be able to use it for predictions and inference.\n",
      "/opt/conda/lib/python3.11/site-packages/torch/nn/modules/module.py:1762: FutureWarning: `encoder_attention_mask` is deprecated and will be removed in version 4.55.0 for `BertSdpaSelfAttention.forward`.\n",
      "  return forward_call(*args, **kwargs)\n"
     ]
    },
    {
     "name": "stdout",
     "output_type": "stream",
     "text": [
      "{'loss': 1.7306, 'grad_norm': 8.447221755981445, 'learning_rate': 3.495948518605665e-05, 'epoch': 0.15001500150015}\n",
      "{'loss': 1.6048, 'grad_norm': 32.88897705078125, 'learning_rate': 3.359739194261955e-05, 'epoch': 0.3000300030003}\n",
      "{'loss': 1.5337, 'grad_norm': 9.852897644042969, 'learning_rate': 3.2235298699182446e-05, 'epoch': 0.45004500450045004}\n",
      "{'loss': 1.4379, 'grad_norm': 94.99247741699219, 'learning_rate': 3.087320545574535e-05, 'epoch': 0.6000600060006}\n",
      "{'loss': 1.4015, 'grad_norm': 11.775771141052246, 'learning_rate': 2.9511112212308245e-05, 'epoch': 0.7500750075007501}\n",
      "{'loss': 1.3522, 'grad_norm': 7.481191158294678, 'learning_rate': 2.8149018968871142e-05, 'epoch': 0.9000900090009001}\n",
      "{'eval_loss': 1.3086260557174683, 'eval_accuracy': 0.4930689594665731, 'eval_f1': 0.41231148553808966, 'eval_runtime': 80.1324, 'eval_samples_per_second': 71.12, 'eval_steps_per_second': 8.898, 'epoch': 1.0}\n"
     ]
    },
    {
     "name": "stderr",
     "output_type": "stream",
     "text": [
      "/opt/conda/lib/python3.11/site-packages/torch/nn/modules/module.py:1762: FutureWarning: `encoder_attention_mask` is deprecated and will be removed in version 4.55.0 for `BertSdpaSelfAttention.forward`.\n",
      "  return forward_call(*args, **kwargs)\n"
     ]
    },
    {
     "name": "stdout",
     "output_type": "stream",
     "text": [
      "{'loss': 1.3132, 'grad_norm': 10.767287254333496, 'learning_rate': 2.678692572543404e-05, 'epoch': 1.05010501050105}\n",
      "{'loss': 1.2649, 'grad_norm': 23.12171173095703, 'learning_rate': 2.5424832481996938e-05, 'epoch': 1.2001200120012}\n",
      "{'loss': 1.2406, 'grad_norm': 10.577842712402344, 'learning_rate': 2.4062739238559836e-05, 'epoch': 1.3501350135013501}\n",
      "{'loss': 1.1908, 'grad_norm': 21.127695083618164, 'learning_rate': 2.2700645995122737e-05, 'epoch': 1.5001500150015001}\n",
      "{'loss': 1.1479, 'grad_norm': 13.480355262756348, 'learning_rate': 2.1338552751685635e-05, 'epoch': 1.6501650165016502}\n",
      "{'loss': 1.0983, 'grad_norm': 26.9051570892334, 'learning_rate': 1.9976459508248532e-05, 'epoch': 1.8001800180018002}\n",
      "{'loss': 1.0699, 'grad_norm': 27.675125122070312, 'learning_rate': 1.861436626481143e-05, 'epoch': 1.9501950195019502}\n",
      "{'eval_loss': 1.18199622631073, 'eval_accuracy': 0.5693981400245657, 'eval_f1': 0.5570309152034459, 'eval_runtime': 80.3794, 'eval_samples_per_second': 70.901, 'eval_steps_per_second': 8.87, 'epoch': 2.0}\n"
     ]
    },
    {
     "name": "stderr",
     "output_type": "stream",
     "text": [
      "/opt/conda/lib/python3.11/site-packages/torch/nn/modules/module.py:1762: FutureWarning: `encoder_attention_mask` is deprecated and will be removed in version 4.55.0 for `BertSdpaSelfAttention.forward`.\n",
      "  return forward_call(*args, **kwargs)\n"
     ]
    },
    {
     "name": "stdout",
     "output_type": "stream",
     "text": [
      "{'loss': 1.0162, 'grad_norm': 19.061208724975586, 'learning_rate': 1.7252273021374328e-05, 'epoch': 2.1002100210021}\n",
      "{'loss': 0.9165, 'grad_norm': 19.91899299621582, 'learning_rate': 1.589017977793723e-05, 'epoch': 2.25022502250225}\n",
      "{'loss': 0.9397, 'grad_norm': 27.931062698364258, 'learning_rate': 1.4528086534500127e-05, 'epoch': 2.4002400240024}\n",
      "{'loss': 0.9474, 'grad_norm': 10.376792907714844, 'learning_rate': 1.3165993291063024e-05, 'epoch': 2.5502550255025502}\n",
      "{'loss': 0.9011, 'grad_norm': 52.54730987548828, 'learning_rate': 1.1803900047625922e-05, 'epoch': 2.7002700270027002}\n",
      "{'loss': 0.8764, 'grad_norm': 36.312355041503906, 'learning_rate': 1.0441806804188822e-05, 'epoch': 2.8502850285028503}\n",
      "{'eval_loss': 1.0593117475509644, 'eval_accuracy': 0.6157220565011405, 'eval_f1': 0.6007828871338664, 'eval_runtime': 84.1413, 'eval_samples_per_second': 67.731, 'eval_steps_per_second': 8.474, 'epoch': 3.0}\n"
     ]
    },
    {
     "name": "stderr",
     "output_type": "stream",
     "text": [
      "/opt/conda/lib/python3.11/site-packages/torch/nn/modules/module.py:1762: FutureWarning: `encoder_attention_mask` is deprecated and will be removed in version 4.55.0 for `BertSdpaSelfAttention.forward`.\n",
      "  return forward_call(*args, **kwargs)\n"
     ]
    },
    {
     "name": "stdout",
     "output_type": "stream",
     "text": [
      "{'loss': 0.8828, 'grad_norm': 23.85162353515625, 'learning_rate': 9.07971356075172e-06, 'epoch': 3.0003000300030003}\n",
      "{'loss': 0.7173, 'grad_norm': 34.265785217285156, 'learning_rate': 7.717620317314617e-06, 'epoch': 3.1503150315031503}\n",
      "{'loss': 0.7227, 'grad_norm': 40.49232482910156, 'learning_rate': 6.355527073877516e-06, 'epoch': 3.3003300330033003}\n",
      "{'loss': 0.7424, 'grad_norm': 22.092140197753906, 'learning_rate': 4.993433830440414e-06, 'epoch': 3.4503450345034503}\n",
      "{'loss': 0.7454, 'grad_norm': 47.0213508605957, 'learning_rate': 3.631340587003313e-06, 'epoch': 3.6003600360036003}\n",
      "{'loss': 0.6696, 'grad_norm': 19.92720603942871, 'learning_rate': 2.269247343566211e-06, 'epoch': 3.7503750375037503}\n",
      "{'loss': 0.6962, 'grad_norm': 29.740478515625, 'learning_rate': 9.071541001291096e-07, 'epoch': 3.9003900390039004}\n",
      "{'eval_loss': 1.083469271659851, 'eval_accuracy': 0.6311633619933321, 'eval_f1': 0.6262641313353853, 'eval_runtime': 81.2527, 'eval_samples_per_second': 70.139, 'eval_steps_per_second': 8.775, 'epoch': 4.0}\n",
      "{'train_runtime': 4666.5395, 'train_samples_per_second': 22.851, 'train_steps_per_second': 2.857, 'train_loss': 1.073871668630486, 'epoch': 4.0}\n"
     ]
    },
    {
     "name": "stderr",
     "output_type": "stream",
     "text": [
      "[I 2025-08-01 19:26:36,699] Trial 1 finished with value: 0.6311633619933321 and parameters: {'learning_rate': 3.631885424300688e-05, 'per_device_train_batch_size': 8, 'num_train_epochs': 4, 'weight_decay': 0.05718841552421505}. Best is trial 0 with value: 0.6543253202316196.\n",
      "Some weights of BertForSequenceClassification were not initialized from the model checkpoint at bert-base-german-cased and are newly initialized: ['classifier.bias', 'classifier.weight']\n",
      "You should probably TRAIN this model on a down-stream task to be able to use it for predictions and inference.\n",
      "/opt/conda/lib/python3.11/site-packages/torch/nn/modules/module.py:1762: FutureWarning: `encoder_attention_mask` is deprecated and will be removed in version 4.55.0 for `BertSdpaSelfAttention.forward`.\n",
      "  return forward_call(*args, **kwargs)\n"
     ]
    },
    {
     "name": "stdout",
     "output_type": "stream",
     "text": [
      "{'loss': 1.3955, 'grad_norm': 7.277722358703613, 'learning_rate': 3.910347437691134e-05, 'epoch': 0.5995203836930456}\n",
      "{'eval_loss': 0.999954104423523, 'eval_accuracy': 0.6050184242849622, 'eval_f1': 0.5967833710195204, 'eval_runtime': 79.75, 'eval_samples_per_second': 71.461, 'eval_steps_per_second': 8.94, 'epoch': 1.0}\n"
     ]
    },
    {
     "name": "stderr",
     "output_type": "stream",
     "text": [
      "/opt/conda/lib/python3.11/site-packages/torch/nn/modules/module.py:1762: FutureWarning: `encoder_attention_mask` is deprecated and will be removed in version 4.55.0 for `BertSdpaSelfAttention.forward`.\n",
      "  return forward_call(*args, **kwargs)\n"
     ]
    },
    {
     "name": "stdout",
     "output_type": "stream",
     "text": [
      "{'loss': 1.0441, 'grad_norm': 10.821451187133789, 'learning_rate': 3.2211779914995345e-05, 'epoch': 1.1990407673860912}\n",
      "{'loss': 0.8593, 'grad_norm': 20.454172134399414, 'learning_rate': 2.5320085453079357e-05, 'epoch': 1.7985611510791366}\n",
      "{'eval_loss': 0.916075587272644, 'eval_accuracy': 0.6434462186348482, 'eval_f1': 0.6300214304331898, 'eval_runtime': 79.9019, 'eval_samples_per_second': 71.325, 'eval_steps_per_second': 8.923, 'epoch': 2.0}\n"
     ]
    },
    {
     "name": "stderr",
     "output_type": "stream",
     "text": [
      "/opt/conda/lib/python3.11/site-packages/torch/nn/modules/module.py:1762: FutureWarning: `encoder_attention_mask` is deprecated and will be removed in version 4.55.0 for `BertSdpaSelfAttention.forward`.\n",
      "  return forward_call(*args, **kwargs)\n"
     ]
    },
    {
     "name": "stdout",
     "output_type": "stream",
     "text": [
      "{'loss': 0.6663, 'grad_norm': 15.334062576293945, 'learning_rate': 1.8428390991163363e-05, 'epoch': 2.3980815347721824}\n",
      "{'loss': 0.579, 'grad_norm': 12.408621788024902, 'learning_rate': 1.1536696529247371e-05, 'epoch': 2.997601918465228}\n",
      "{'eval_loss': 0.9472567439079285, 'eval_accuracy': 0.6609931566941569, 'eval_f1': 0.653818295054949, 'eval_runtime': 80.1954, 'eval_samples_per_second': 71.064, 'eval_steps_per_second': 8.891, 'epoch': 3.0}\n"
     ]
    },
    {
     "name": "stderr",
     "output_type": "stream",
     "text": [
      "/opt/conda/lib/python3.11/site-packages/torch/nn/modules/module.py:1762: FutureWarning: `encoder_attention_mask` is deprecated and will be removed in version 4.55.0 for `BertSdpaSelfAttention.forward`.\n",
      "  return forward_call(*args, **kwargs)\n"
     ]
    },
    {
     "name": "stdout",
     "output_type": "stream",
     "text": [
      "{'loss': 0.357, 'grad_norm': 13.704679489135742, 'learning_rate': 4.645002067331378e-06, 'epoch': 3.597122302158273}\n",
      "{'eval_loss': 1.0625407695770264, 'eval_accuracy': 0.66344972802246, 'eval_f1': 0.66278193798667, 'eval_runtime': 79.8753, 'eval_samples_per_second': 71.349, 'eval_steps_per_second': 8.926, 'epoch': 4.0}\n",
      "{'train_runtime': 4247.1743, 'train_samples_per_second': 25.108, 'train_steps_per_second': 0.785, 'train_loss': 0.7676925727789351, 'epoch': 4.0}\n"
     ]
    },
    {
     "name": "stderr",
     "output_type": "stream",
     "text": [
      "[I 2025-08-01 20:37:25,129] Trial 2 finished with value: 0.66344972802246 and parameters: {'learning_rate': 4.59813854499035e-05, 'per_device_train_batch_size': 32, 'num_train_epochs': 4, 'weight_decay': 0.21941660232006788}. Best is trial 2 with value: 0.66344972802246.\n",
      "Some weights of BertForSequenceClassification were not initialized from the model checkpoint at bert-base-german-cased and are newly initialized: ['classifier.bias', 'classifier.weight']\n",
      "You should probably TRAIN this model on a down-stream task to be able to use it for predictions and inference.\n",
      "/opt/conda/lib/python3.11/site-packages/torch/nn/modules/module.py:1762: FutureWarning: `encoder_attention_mask` is deprecated and will be removed in version 4.55.0 for `BertSdpaSelfAttention.forward`.\n",
      "  return forward_call(*args, **kwargs)\n"
     ]
    },
    {
     "name": "stdout",
     "output_type": "stream",
     "text": [
      "{'loss': 1.7597, 'grad_norm': 4.577311038970947, 'learning_rate': 3.713922391342888e-05, 'epoch': 0.15001500150015}\n",
      "{'loss': 1.7498, 'grad_norm': 7.358942985534668, 'learning_rate': 3.5184527917985254e-05, 'epoch': 0.3000300030003}\n",
      "{'loss': 1.7418, 'grad_norm': 6.218388557434082, 'learning_rate': 3.322983192254163e-05, 'epoch': 0.45004500450045004}\n",
      "{'loss': 1.727, 'grad_norm': 6.527444839477539, 'learning_rate': 3.1275135927098e-05, 'epoch': 0.6000600060006}\n",
      "{'loss': 1.7351, 'grad_norm': 6.40305233001709, 'learning_rate': 2.9320439931654376e-05, 'epoch': 0.7500750075007501}\n",
      "{'loss': 1.7361, 'grad_norm': 7.609278202056885, 'learning_rate': 2.7365743936210753e-05, 'epoch': 0.9000900090009001}\n",
      "{'eval_loss': 1.7522971630096436, 'eval_accuracy': 0.2654851728373399, 'eval_f1': 0.06992974671843225, 'eval_runtime': 78.5837, 'eval_samples_per_second': 72.521, 'eval_steps_per_second': 9.073, 'epoch': 1.0}\n"
     ]
    },
    {
     "name": "stderr",
     "output_type": "stream",
     "text": [
      "/opt/conda/lib/python3.11/site-packages/torch/nn/modules/module.py:1762: FutureWarning: `encoder_attention_mask` is deprecated and will be removed in version 4.55.0 for `BertSdpaSelfAttention.forward`.\n",
      "  return forward_call(*args, **kwargs)\n"
     ]
    },
    {
     "name": "stdout",
     "output_type": "stream",
     "text": [
      "{'loss': 1.7229, 'grad_norm': 5.871448993682861, 'learning_rate': 2.5411047940767124e-05, 'epoch': 1.05010501050105}\n",
      "{'loss': 1.7323, 'grad_norm': 3.804692029953003, 'learning_rate': 2.34563519453235e-05, 'epoch': 1.2001200120012}\n",
      "{'loss': 1.7332, 'grad_norm': 3.1752943992614746, 'learning_rate': 2.150165594987988e-05, 'epoch': 1.3501350135013501}\n",
      "{'loss': 1.7207, 'grad_norm': 4.494482040405273, 'learning_rate': 1.954695995443625e-05, 'epoch': 1.5001500150015001}\n",
      "{'loss': 1.7313, 'grad_norm': 4.692550182342529, 'learning_rate': 1.7592263958992627e-05, 'epoch': 1.6501650165016502}\n",
      "{'loss': 1.7311, 'grad_norm': 4.576578617095947, 'learning_rate': 1.5637567963549e-05, 'epoch': 1.8001800180018002}\n",
      "{'loss': 1.7336, 'grad_norm': 5.250627517700195, 'learning_rate': 1.3682871968105377e-05, 'epoch': 1.9501950195019502}\n",
      "{'eval_loss': 1.7327665090560913, 'eval_accuracy': 0.2654851728373399, 'eval_f1': 0.06992974671843225, 'eval_runtime': 79.8256, 'eval_samples_per_second': 71.393, 'eval_steps_per_second': 8.932, 'epoch': 2.0}\n"
     ]
    },
    {
     "name": "stderr",
     "output_type": "stream",
     "text": [
      "/opt/conda/lib/python3.11/site-packages/torch/nn/modules/module.py:1762: FutureWarning: `encoder_attention_mask` is deprecated and will be removed in version 4.55.0 for `BertSdpaSelfAttention.forward`.\n",
      "  return forward_call(*args, **kwargs)\n"
     ]
    },
    {
     "name": "stdout",
     "output_type": "stream",
     "text": [
      "{'loss': 1.7337, 'grad_norm': 4.193598747253418, 'learning_rate': 1.172817597266175e-05, 'epoch': 2.1002100210021}\n",
      "{'loss': 1.7142, 'grad_norm': 4.224034309387207, 'learning_rate': 9.773479977218125e-06, 'epoch': 2.25022502250225}\n",
      "{'loss': 1.7333, 'grad_norm': 5.126185417175293, 'learning_rate': 7.8187839817745e-06, 'epoch': 2.4002400240024}\n",
      "{'loss': 1.7303, 'grad_norm': 3.0372958183288574, 'learning_rate': 5.864087986330875e-06, 'epoch': 2.5502550255025502}\n",
      "{'loss': 1.7162, 'grad_norm': 4.151998519897461, 'learning_rate': 3.90939199088725e-06, 'epoch': 2.7002700270027002}\n",
      "{'loss': 1.6536, 'grad_norm': 6.818431377410889, 'learning_rate': 1.954695995443625e-06, 'epoch': 2.8502850285028503}\n",
      "{'eval_loss': 1.6069438457489014, 'eval_accuracy': 0.31426566064221795, 'eval_f1': 0.14861697373813137, 'eval_runtime': 79.8675, 'eval_samples_per_second': 71.356, 'eval_steps_per_second': 8.927, 'epoch': 3.0}\n",
      "{'train_runtime': 3740.0052, 'train_samples_per_second': 21.384, 'train_steps_per_second': 2.674, 'train_loss': 1.7218989477072708, 'epoch': 3.0}\n"
     ]
    },
    {
     "name": "stderr",
     "output_type": "stream",
     "text": [
      "[I 2025-08-01 21:39:46,401] Trial 3 finished with value: 0.31426566064221795 and parameters: {'learning_rate': 3.9090010516881616e-05, 'per_device_train_batch_size': 8, 'num_train_epochs': 3, 'weight_decay': 0.29806962128746783}. Best is trial 2 with value: 0.66344972802246.\n",
      "Some weights of BertForSequenceClassification were not initialized from the model checkpoint at bert-base-german-cased and are newly initialized: ['classifier.bias', 'classifier.weight']\n",
      "You should probably TRAIN this model on a down-stream task to be able to use it for predictions and inference.\n",
      "/opt/conda/lib/python3.11/site-packages/torch/nn/modules/module.py:1762: FutureWarning: `encoder_attention_mask` is deprecated and will be removed in version 4.55.0 for `BertSdpaSelfAttention.forward`.\n",
      "  return forward_call(*args, **kwargs)\n"
     ]
    },
    {
     "name": "stdout",
     "output_type": "stream",
     "text": [
      "{'loss': 1.4707, 'grad_norm': 7.994380950927734, 'learning_rate': 1.0184688005320043e-05, 'epoch': 0.5995203836930456}\n",
      "{'eval_loss': 1.1748024225234985, 'eval_accuracy': 0.533602386383576, 'eval_f1': 0.5190698293562787, 'eval_runtime': 80.3431, 'eval_samples_per_second': 70.933, 'eval_steps_per_second': 8.874, 'epoch': 1.0}\n"
     ]
    },
    {
     "name": "stderr",
     "output_type": "stream",
     "text": [
      "/opt/conda/lib/python3.11/site-packages/torch/nn/modules/module.py:1762: FutureWarning: `encoder_attention_mask` is deprecated and will be removed in version 4.55.0 for `BertSdpaSelfAttention.forward`.\n",
      "  return forward_call(*args, **kwargs)\n"
     ]
    },
    {
     "name": "stdout",
     "output_type": "stream",
     "text": [
      "{'loss': 1.2104, 'grad_norm': 8.844426155090332, 'learning_rate': 8.3897130308188e-06, 'epoch': 1.1990407673860912}\n",
      "{'loss': 1.0268, 'grad_norm': 15.250950813293457, 'learning_rate': 6.59473805631756e-06, 'epoch': 1.7985611510791366}\n",
      "{'eval_loss': 0.9959552884101868, 'eval_accuracy': 0.6080014037550447, 'eval_f1': 0.6077275569233633, 'eval_runtime': 37.6406, 'eval_samples_per_second': 151.406, 'eval_steps_per_second': 18.942, 'epoch': 2.0}\n"
     ]
    },
    {
     "name": "stderr",
     "output_type": "stream",
     "text": [
      "/opt/conda/lib/python3.11/site-packages/torch/nn/modules/module.py:1762: FutureWarning: `encoder_attention_mask` is deprecated and will be removed in version 4.55.0 for `BertSdpaSelfAttention.forward`.\n",
      "  return forward_call(*args, **kwargs)\n"
     ]
    },
    {
     "name": "stdout",
     "output_type": "stream",
     "text": [
      "{'loss': 0.891, 'grad_norm': 14.344752311706543, 'learning_rate': 4.799763081816318e-06, 'epoch': 2.3980815347721824}\n",
      "{'loss': 0.8259, 'grad_norm': 13.60208797454834, 'learning_rate': 3.0047881073150774e-06, 'epoch': 2.997601918465228}\n",
      "{'eval_loss': 0.9475002884864807, 'eval_accuracy': 0.6395858922618003, 'eval_f1': 0.6308113956068795, 'eval_runtime': 37.6234, 'eval_samples_per_second': 151.475, 'eval_steps_per_second': 18.951, 'epoch': 3.0}\n"
     ]
    },
    {
     "name": "stderr",
     "output_type": "stream",
     "text": [
      "/opt/conda/lib/python3.11/site-packages/torch/nn/modules/module.py:1762: FutureWarning: `encoder_attention_mask` is deprecated and will be removed in version 4.55.0 for `BertSdpaSelfAttention.forward`.\n",
      "  return forward_call(*args, **kwargs)\n"
     ]
    },
    {
     "name": "stdout",
     "output_type": "stream",
     "text": [
      "{'loss': 0.7256, 'grad_norm': 12.31307315826416, 'learning_rate': 1.2098131328138365e-06, 'epoch': 3.597122302158273}\n",
      "{'eval_loss': 0.9602210521697998, 'eval_accuracy': 0.6318652395157045, 'eval_f1': 0.6332539365383422, 'eval_runtime': 37.5464, 'eval_samples_per_second': 151.786, 'eval_steps_per_second': 18.99, 'epoch': 4.0}\n",
      "{'train_runtime': 2587.49, 'train_samples_per_second': 41.212, 'train_steps_per_second': 1.289, 'train_loss': 0.9922336285634579, 'epoch': 4.0}\n"
     ]
    },
    {
     "name": "stderr",
     "output_type": "stream",
     "text": [
      "[I 2025-08-01 22:22:55,172] Trial 4 finished with value: 0.6318652395157045 and parameters: {'learning_rate': 1.197607302987228e-05, 'per_device_train_batch_size': 32, 'num_train_epochs': 4, 'weight_decay': 0.1118295687729018}. Best is trial 2 with value: 0.66344972802246.\n",
      "Some weights of BertForSequenceClassification were not initialized from the model checkpoint at bert-base-german-cased and are newly initialized: ['classifier.bias', 'classifier.weight']\n",
      "You should probably TRAIN this model on a down-stream task to be able to use it for predictions and inference.\n",
      "/opt/conda/lib/python3.11/site-packages/torch/nn/modules/module.py:1762: FutureWarning: `encoder_attention_mask` is deprecated and will be removed in version 4.55.0 for `BertSdpaSelfAttention.forward`.\n",
      "  return forward_call(*args, **kwargs)\n"
     ]
    },
    {
     "name": "stdout",
     "output_type": "stream",
     "text": [
      "{'loss': 1.5486, 'grad_norm': 10.697694778442383, 'learning_rate': 1.1639475289629497e-05, 'epoch': 0.29994001199760045}\n",
      "{'loss': 1.3375, 'grad_norm': 12.028133392333984, 'learning_rate': 1.0696091006145181e-05, 'epoch': 0.5998800239952009}\n",
      "{'loss': 1.2119, 'grad_norm': 8.412325859069824, 'learning_rate': 9.752706722660864e-06, 'epoch': 0.8998200359928015}\n",
      "{'eval_loss': 1.0578627586364746, 'eval_accuracy': 0.5783470784348131, 'eval_f1': 0.5728201141002277, 'eval_runtime': 37.5856, 'eval_samples_per_second': 151.627, 'eval_steps_per_second': 18.97, 'epoch': 1.0}\n"
     ]
    },
    {
     "name": "stderr",
     "output_type": "stream",
     "text": [
      "/opt/conda/lib/python3.11/site-packages/torch/nn/modules/module.py:1762: FutureWarning: `encoder_attention_mask` is deprecated and will be removed in version 4.55.0 for `BertSdpaSelfAttention.forward`.\n",
      "  return forward_call(*args, **kwargs)\n"
     ]
    },
    {
     "name": "stdout",
     "output_type": "stream",
     "text": [
      "{'loss': 1.0508, 'grad_norm': 18.18069839477539, 'learning_rate': 8.809322439176548e-06, 'epoch': 1.1997600479904018}\n",
      "{'loss': 0.9546, 'grad_norm': 27.85676383972168, 'learning_rate': 7.865938155692233e-06, 'epoch': 1.4997000599880024}\n",
      "{'loss': 0.9197, 'grad_norm': 19.607519149780273, 'learning_rate': 6.922553872207915e-06, 'epoch': 1.799640071985603}\n",
      "{'eval_loss': 0.9436349868774414, 'eval_accuracy': 0.6351991577469731, 'eval_f1': 0.6331626030700789, 'eval_runtime': 37.7916, 'eval_samples_per_second': 150.801, 'eval_steps_per_second': 18.867, 'epoch': 2.0}\n"
     ]
    },
    {
     "name": "stderr",
     "output_type": "stream",
     "text": [
      "/opt/conda/lib/python3.11/site-packages/torch/nn/modules/module.py:1762: FutureWarning: `encoder_attention_mask` is deprecated and will be removed in version 4.55.0 for `BertSdpaSelfAttention.forward`.\n",
      "  return forward_call(*args, **kwargs)\n"
     ]
    },
    {
     "name": "stdout",
     "output_type": "stream",
     "text": [
      "{'loss': 0.8497, 'grad_norm': 12.758941650390625, 'learning_rate': 5.979169588723598e-06, 'epoch': 2.0995800839832035}\n",
      "{'loss': 0.7363, 'grad_norm': 26.483840942382812, 'learning_rate': 5.035785305239282e-06, 'epoch': 2.3995200959808036}\n",
      "{'loss': 0.7302, 'grad_norm': 34.604103088378906, 'learning_rate': 4.092401021754965e-06, 'epoch': 2.699460107978404}\n",
      "{'loss': 0.7038, 'grad_norm': 18.7579288482666, 'learning_rate': 3.149016738270649e-06, 'epoch': 2.9994001199760048}\n",
      "{'eval_loss': 0.9210144281387329, 'eval_accuracy': 0.6588875241270399, 'eval_f1': 0.656044146946713, 'eval_runtime': 37.8119, 'eval_samples_per_second': 150.72, 'eval_steps_per_second': 18.857, 'epoch': 3.0}\n"
     ]
    },
    {
     "name": "stderr",
     "output_type": "stream",
     "text": [
      "/opt/conda/lib/python3.11/site-packages/torch/nn/modules/module.py:1762: FutureWarning: `encoder_attention_mask` is deprecated and will be removed in version 4.55.0 for `BertSdpaSelfAttention.forward`.\n",
      "  return forward_call(*args, **kwargs)\n"
     ]
    },
    {
     "name": "stdout",
     "output_type": "stream",
     "text": [
      "{'loss': 0.5791, 'grad_norm': 15.093894004821777, 'learning_rate': 2.2056324547863323e-06, 'epoch': 3.2993401319736053}\n",
      "{'loss': 0.5872, 'grad_norm': 33.22097396850586, 'learning_rate': 1.2622481713020154e-06, 'epoch': 3.599280143971206}\n",
      "{'loss': 0.5605, 'grad_norm': 10.859090805053711, 'learning_rate': 3.1886388781769903e-07, 'epoch': 3.8992201559688064}\n",
      "{'eval_loss': 0.961851179599762, 'eval_accuracy': 0.6525706264256887, 'eval_f1': 0.6566040658826694, 'eval_runtime': 37.8076, 'eval_samples_per_second': 150.737, 'eval_steps_per_second': 18.859, 'epoch': 4.0}\n",
      "{'train_runtime': 2052.5083, 'train_samples_per_second': 51.954, 'train_steps_per_second': 3.249, 'train_loss': 0.8969270537982247, 'epoch': 4.0}\n"
     ]
    },
    {
     "name": "stderr",
     "output_type": "stream",
     "text": [
      "[I 2025-08-01 22:57:08,776] Trial 5 finished with value: 0.6525706264256887 and parameters: {'learning_rate': 1.2580972804546846e-05, 'per_device_train_batch_size': 16, 'num_train_epochs': 4, 'weight_decay': 0.0686923404819531}. Best is trial 2 with value: 0.66344972802246.\n",
      "Some weights of BertForSequenceClassification were not initialized from the model checkpoint at bert-base-german-cased and are newly initialized: ['classifier.bias', 'classifier.weight']\n",
      "You should probably TRAIN this model on a down-stream task to be able to use it for predictions and inference.\n",
      "/opt/conda/lib/python3.11/site-packages/torch/nn/modules/module.py:1762: FutureWarning: `encoder_attention_mask` is deprecated and will be removed in version 4.55.0 for `BertSdpaSelfAttention.forward`.\n",
      "  return forward_call(*args, **kwargs)\n"
     ]
    },
    {
     "name": "stdout",
     "output_type": "stream",
     "text": [
      "{'loss': 1.6132, 'grad_norm': 7.645420074462891, 'learning_rate': 2.500394736242887e-05, 'epoch': 0.15001500150015}\n",
      "{'loss': 1.4219, 'grad_norm': 15.37460708618164, 'learning_rate': 2.4029742291033683e-05, 'epoch': 0.3000300030003}\n",
      "{'loss': 1.3498, 'grad_norm': 23.142534255981445, 'learning_rate': 2.3055537219638497e-05, 'epoch': 0.45004500450045004}\n",
      "{'loss': 1.2062, 'grad_norm': 9.419940948486328, 'learning_rate': 2.2081332148243308e-05, 'epoch': 0.6000600060006}\n",
      "{'loss': 1.1438, 'grad_norm': 12.361284255981445, 'learning_rate': 2.110712707684812e-05, 'epoch': 0.7500750075007501}\n",
      "{'loss': 1.1056, 'grad_norm': 18.70070457458496, 'learning_rate': 2.0132922005452936e-05, 'epoch': 0.9000900090009001}\n",
      "{'eval_loss': 1.0175377130508423, 'eval_accuracy': 0.6067731180908932, 'eval_f1': 0.5995843849354824, 'eval_runtime': 37.8083, 'eval_samples_per_second': 150.734, 'eval_steps_per_second': 18.858, 'epoch': 1.0}\n"
     ]
    },
    {
     "name": "stderr",
     "output_type": "stream",
     "text": [
      "/opt/conda/lib/python3.11/site-packages/torch/nn/modules/module.py:1762: FutureWarning: `encoder_attention_mask` is deprecated and will be removed in version 4.55.0 for `BertSdpaSelfAttention.forward`.\n",
      "  return forward_call(*args, **kwargs)\n"
     ]
    },
    {
     "name": "stdout",
     "output_type": "stream",
     "text": [
      "{'loss': 1.0317, 'grad_norm': 20.549762725830078, 'learning_rate': 1.915871693405775e-05, 'epoch': 1.05010501050105}\n",
      "{'loss': 0.9068, 'grad_norm': 22.784406661987305, 'learning_rate': 1.818451186266256e-05, 'epoch': 1.2001200120012}\n",
      "{'loss': 0.8847, 'grad_norm': 28.953094482421875, 'learning_rate': 1.7210306791267374e-05, 'epoch': 1.3501350135013501}\n",
      "{'loss': 0.875, 'grad_norm': 17.938974380493164, 'learning_rate': 1.623610171987219e-05, 'epoch': 1.5001500150015001}\n",
      "{'loss': 0.8533, 'grad_norm': 11.379889488220215, 'learning_rate': 1.5261896648477e-05, 'epoch': 1.6501650165016502}\n",
      "{'loss': 0.8379, 'grad_norm': 18.909099578857422, 'learning_rate': 1.4287691577081813e-05, 'epoch': 1.8001800180018002}\n",
      "{'loss': 0.8052, 'grad_norm': 27.410083770751953, 'learning_rate': 1.3313486505686625e-05, 'epoch': 1.9501950195019502}\n",
      "{'eval_loss': 0.9549838900566101, 'eval_accuracy': 0.6362519740305317, 'eval_f1': 0.633289194662922, 'eval_runtime': 37.6614, 'eval_samples_per_second': 151.322, 'eval_steps_per_second': 18.932, 'epoch': 2.0}\n"
     ]
    },
    {
     "name": "stderr",
     "output_type": "stream",
     "text": [
      "/opt/conda/lib/python3.11/site-packages/torch/nn/modules/module.py:1762: FutureWarning: `encoder_attention_mask` is deprecated and will be removed in version 4.55.0 for `BertSdpaSelfAttention.forward`.\n",
      "  return forward_call(*args, **kwargs)\n"
     ]
    },
    {
     "name": "stdout",
     "output_type": "stream",
     "text": [
      "{'loss': 0.6944, 'grad_norm': 25.372718811035156, 'learning_rate': 1.233928143429144e-05, 'epoch': 2.1002100210021}\n",
      "{'loss': 0.6, 'grad_norm': 26.096466064453125, 'learning_rate': 1.1365076362896252e-05, 'epoch': 2.25022502250225}\n",
      "{'loss': 0.5934, 'grad_norm': 27.69170379638672, 'learning_rate': 1.0390871291501064e-05, 'epoch': 2.4002400240024}\n",
      "{'loss': 0.6129, 'grad_norm': 28.166915893554688, 'learning_rate': 9.416666220105878e-06, 'epoch': 2.5502550255025502}\n",
      "{'loss': 0.5775, 'grad_norm': 30.282426834106445, 'learning_rate': 8.44246114871069e-06, 'epoch': 2.7002700270027002}\n",
      "{'loss': 0.5757, 'grad_norm': 44.19147872924805, 'learning_rate': 7.468256077315504e-06, 'epoch': 2.8502850285028503}\n",
      "{'eval_loss': 0.983411431312561, 'eval_accuracy': 0.6664327074925426, 'eval_f1': 0.6643142653244971, 'eval_runtime': 37.6239, 'eval_samples_per_second': 151.473, 'eval_steps_per_second': 18.951, 'epoch': 3.0}\n",
      "{'loss': 0.5544, 'grad_norm': 29.45746421813965, 'learning_rate': 6.494051005920317e-06, 'epoch': 3.0003000300030003}\n"
     ]
    },
    {
     "name": "stderr",
     "output_type": "stream",
     "text": [
      "/opt/conda/lib/python3.11/site-packages/torch/nn/modules/module.py:1762: FutureWarning: `encoder_attention_mask` is deprecated and will be removed in version 4.55.0 for `BertSdpaSelfAttention.forward`.\n",
      "  return forward_call(*args, **kwargs)\n"
     ]
    },
    {
     "name": "stdout",
     "output_type": "stream",
     "text": [
      "{'loss': 0.3585, 'grad_norm': 32.284446716308594, 'learning_rate': 5.51984593452513e-06, 'epoch': 3.1503150315031503}\n",
      "{'loss': 0.3656, 'grad_norm': 21.853315353393555, 'learning_rate': 4.545640863129943e-06, 'epoch': 3.3003300330033003}\n",
      "{'loss': 0.3826, 'grad_norm': 36.43042755126953, 'learning_rate': 3.571435791734756e-06, 'epoch': 3.4503450345034503}\n",
      "{'loss': 0.3638, 'grad_norm': 28.935213088989258, 'learning_rate': 2.5972307203395687e-06, 'epoch': 3.6003600360036003}\n",
      "{'loss': 0.352, 'grad_norm': 38.27227020263672, 'learning_rate': 1.6230256489443816e-06, 'epoch': 3.7503750375037503}\n",
      "{'loss': 0.3651, 'grad_norm': 38.64236831665039, 'learning_rate': 6.488205775491945e-07, 'epoch': 3.9003900390039004}\n",
      "{'eval_loss': 1.2479426860809326, 'eval_accuracy': 0.6706439726267767, 'eval_f1': 0.670705355372517, 'eval_runtime': 39.5256, 'eval_samples_per_second': 144.185, 'eval_steps_per_second': 18.039, 'epoch': 4.0}\n",
      "{'train_runtime': 2250.833, 'train_samples_per_second': 47.376, 'train_steps_per_second': 5.923, 'train_loss': 0.7746078395070952, 'epoch': 4.0}\n"
     ]
    },
    {
     "name": "stderr",
     "output_type": "stream",
     "text": [
      "[I 2025-08-01 23:34:40,993] Trial 6 finished with value: 0.6706439726267767 and parameters: {'learning_rate': 2.5976204023681267e-05, 'per_device_train_batch_size': 8, 'num_train_epochs': 4, 'weight_decay': 0.07629723788316208}. Best is trial 6 with value: 0.6706439726267767.\n",
      "Some weights of BertForSequenceClassification were not initialized from the model checkpoint at bert-base-german-cased and are newly initialized: ['classifier.bias', 'classifier.weight']\n",
      "You should probably TRAIN this model on a down-stream task to be able to use it for predictions and inference.\n",
      "/opt/conda/lib/python3.11/site-packages/torch/nn/modules/module.py:1762: FutureWarning: `encoder_attention_mask` is deprecated and will be removed in version 4.55.0 for `BertSdpaSelfAttention.forward`.\n",
      "  return forward_call(*args, **kwargs)\n"
     ]
    },
    {
     "name": "stdout",
     "output_type": "stream",
     "text": [
      "{'loss': 1.3898, 'grad_norm': 7.828648090362549, 'learning_rate': 3.45157332064703e-05, 'epoch': 0.5995203836930456}\n",
      "{'eval_loss': 0.9991999268531799, 'eval_accuracy': 0.6088787506580102, 'eval_f1': 0.6085752103841441, 'eval_runtime': 37.658, 'eval_samples_per_second': 151.336, 'eval_steps_per_second': 18.934, 'epoch': 1.0}\n"
     ]
    },
    {
     "name": "stderr",
     "output_type": "stream",
     "text": [
      "/opt/conda/lib/python3.11/site-packages/torch/nn/modules/module.py:1762: FutureWarning: `encoder_attention_mask` is deprecated and will be removed in version 4.55.0 for `BertSdpaSelfAttention.forward`.\n",
      "  return forward_call(*args, **kwargs)\n"
     ]
    },
    {
     "name": "stdout",
     "output_type": "stream",
     "text": [
      "{'loss': 1.0418, 'grad_norm': 10.473342895507812, 'learning_rate': 2.8432593762256286e-05, 'epoch': 1.1990407673860912}\n",
      "{'loss': 0.8631, 'grad_norm': 17.31819725036621, 'learning_rate': 2.234945431804228e-05, 'epoch': 1.7985611510791366}\n",
      "{'eval_loss': 0.9118499159812927, 'eval_accuracy': 0.6462537287243376, 'eval_f1': 0.6426467297222495, 'eval_runtime': 37.6477, 'eval_samples_per_second': 151.377, 'eval_steps_per_second': 18.939, 'epoch': 2.0}\n"
     ]
    },
    {
     "name": "stderr",
     "output_type": "stream",
     "text": [
      "/opt/conda/lib/python3.11/site-packages/torch/nn/modules/module.py:1762: FutureWarning: `encoder_attention_mask` is deprecated and will be removed in version 4.55.0 for `BertSdpaSelfAttention.forward`.\n",
      "  return forward_call(*args, **kwargs)\n"
     ]
    },
    {
     "name": "stdout",
     "output_type": "stream",
     "text": [
      "{'loss': 0.6768, 'grad_norm': 13.972012519836426, 'learning_rate': 1.6266314873828264e-05, 'epoch': 2.3980815347721824}\n",
      "{'loss': 0.5824, 'grad_norm': 8.609002113342285, 'learning_rate': 1.0183175429614255e-05, 'epoch': 2.997601918465228}\n",
      "{'eval_loss': 0.9353725910186768, 'eval_accuracy': 0.6669591156343219, 'eval_f1': 0.6604096079380722, 'eval_runtime': 37.6934, 'eval_samples_per_second': 151.194, 'eval_steps_per_second': 18.916, 'epoch': 3.0}\n"
     ]
    },
    {
     "name": "stderr",
     "output_type": "stream",
     "text": [
      "/opt/conda/lib/python3.11/site-packages/torch/nn/modules/module.py:1762: FutureWarning: `encoder_attention_mask` is deprecated and will be removed in version 4.55.0 for `BertSdpaSelfAttention.forward`.\n",
      "  return forward_call(*args, **kwargs)\n"
     ]
    },
    {
     "name": "stdout",
     "output_type": "stream",
     "text": [
      "{'loss': 0.3714, 'grad_norm': 10.684033393859863, 'learning_rate': 4.1000359854002435e-06, 'epoch': 3.597122302158273}\n",
      "{'eval_loss': 1.0072349309921265, 'eval_accuracy': 0.6708194420073698, 'eval_f1': 0.6703683030093779, 'eval_runtime': 37.6357, 'eval_samples_per_second': 151.425, 'eval_steps_per_second': 18.945, 'epoch': 4.0}\n",
      "{'train_runtime': 2029.9214, 'train_samples_per_second': 52.532, 'train_steps_per_second': 1.643, 'train_loss': 0.7724193188783933, 'epoch': 4.0}\n"
     ]
    },
    {
     "name": "stderr",
     "output_type": "stream",
     "text": [
      "[I 2025-08-02 00:08:32,452] Trial 7 finished with value: 0.6708194420073698 and parameters: {'learning_rate': 4.058670637179588e-05, 'per_device_train_batch_size': 32, 'num_train_epochs': 4, 'weight_decay': 0.18336963954777766}. Best is trial 7 with value: 0.6708194420073698.\n",
      "Some weights of BertForSequenceClassification were not initialized from the model checkpoint at bert-base-german-cased and are newly initialized: ['classifier.bias', 'classifier.weight']\n",
      "You should probably TRAIN this model on a down-stream task to be able to use it for predictions and inference.\n",
      "/opt/conda/lib/python3.11/site-packages/torch/nn/modules/module.py:1762: FutureWarning: `encoder_attention_mask` is deprecated and will be removed in version 4.55.0 for `BertSdpaSelfAttention.forward`.\n",
      "  return forward_call(*args, **kwargs)\n"
     ]
    },
    {
     "name": "stdout",
     "output_type": "stream",
     "text": [
      "{'loss': 1.6164, 'grad_norm': 13.59861946105957, 'learning_rate': 2.0993369954377246e-05, 'epoch': 0.15001500150015}\n",
      "{'loss': 1.4211, 'grad_norm': 16.232032775878906, 'learning_rate': 1.9888455746252128e-05, 'epoch': 0.3000300030003}\n",
      "{'loss': 1.3535, 'grad_norm': 15.464179039001465, 'learning_rate': 1.878354153812701e-05, 'epoch': 0.45004500450045004}\n",
      "{'loss': 1.2169, 'grad_norm': 9.996145248413086, 'learning_rate': 1.767862733000189e-05, 'epoch': 0.6000600060006}\n",
      "{'loss': 1.1379, 'grad_norm': 11.16698932647705, 'learning_rate': 1.6573713121876775e-05, 'epoch': 0.7500750075007501}\n",
      "{'loss': 1.116, 'grad_norm': 19.618427276611328, 'learning_rate': 1.5468798913751657e-05, 'epoch': 0.9000900090009001}\n",
      "{'eval_loss': 1.02041757106781, 'eval_accuracy': 0.5988769959642043, 'eval_f1': 0.5937703622431075, 'eval_runtime': 37.811, 'eval_samples_per_second': 150.723, 'eval_steps_per_second': 18.857, 'epoch': 1.0}\n"
     ]
    },
    {
     "name": "stderr",
     "output_type": "stream",
     "text": [
      "/opt/conda/lib/python3.11/site-packages/torch/nn/modules/module.py:1762: FutureWarning: `encoder_attention_mask` is deprecated and will be removed in version 4.55.0 for `BertSdpaSelfAttention.forward`.\n",
      "  return forward_call(*args, **kwargs)\n"
     ]
    },
    {
     "name": "stdout",
     "output_type": "stream",
     "text": [
      "{'loss': 1.0324, 'grad_norm': 48.592350006103516, 'learning_rate': 1.4363884705626536e-05, 'epoch': 1.05010501050105}\n",
      "{'loss': 0.912, 'grad_norm': 31.042821884155273, 'learning_rate': 1.3258970497501418e-05, 'epoch': 1.2001200120012}\n",
      "{'loss': 0.8749, 'grad_norm': 29.7739315032959, 'learning_rate': 1.2154056289376302e-05, 'epoch': 1.3501350135013501}\n",
      "{'loss': 0.8677, 'grad_norm': 23.99934196472168, 'learning_rate': 1.1049142081251182e-05, 'epoch': 1.5001500150015001}\n",
      "{'loss': 0.847, 'grad_norm': 20.572202682495117, 'learning_rate': 9.944227873126064e-06, 'epoch': 1.6501650165016502}\n",
      "{'loss': 0.8149, 'grad_norm': 18.290952682495117, 'learning_rate': 8.839313665000945e-06, 'epoch': 1.8001800180018002}\n",
      "{'loss': 0.8035, 'grad_norm': 25.063861846923828, 'learning_rate': 7.734399456875828e-06, 'epoch': 1.9501950195019502}\n",
      "{'eval_loss': 0.9150165915489197, 'eval_accuracy': 0.6516932795227233, 'eval_f1': 0.6442840079663544, 'eval_runtime': 38.0147, 'eval_samples_per_second': 149.916, 'eval_steps_per_second': 18.756, 'epoch': 2.0}\n"
     ]
    },
    {
     "name": "stderr",
     "output_type": "stream",
     "text": [
      "/opt/conda/lib/python3.11/site-packages/torch/nn/modules/module.py:1762: FutureWarning: `encoder_attention_mask` is deprecated and will be removed in version 4.55.0 for `BertSdpaSelfAttention.forward`.\n",
      "  return forward_call(*args, **kwargs)\n"
     ]
    },
    {
     "name": "stdout",
     "output_type": "stream",
     "text": [
      "{'loss': 0.6853, 'grad_norm': 45.00600814819336, 'learning_rate': 6.629485248750709e-06, 'epoch': 2.1002100210021}\n",
      "{'loss': 0.6009, 'grad_norm': 20.26804542541504, 'learning_rate': 5.524571040625591e-06, 'epoch': 2.25022502250225}\n",
      "{'loss': 0.5859, 'grad_norm': 37.0764274597168, 'learning_rate': 4.419656832500472e-06, 'epoch': 2.4002400240024}\n",
      "{'loss': 0.6036, 'grad_norm': 21.833894729614258, 'learning_rate': 3.3147426243753544e-06, 'epoch': 2.5502550255025502}\n",
      "{'loss': 0.5657, 'grad_norm': 34.02779006958008, 'learning_rate': 2.209828416250236e-06, 'epoch': 2.7002700270027002}\n",
      "{'loss': 0.55, 'grad_norm': 56.79747009277344, 'learning_rate': 1.104914208125118e-06, 'epoch': 2.8502850285028503}\n",
      "{'eval_loss': 0.9713751673698425, 'eval_accuracy': 0.6630987892612739, 'eval_f1': 0.6639498069213958, 'eval_runtime': 37.7881, 'eval_samples_per_second': 150.815, 'eval_steps_per_second': 18.868, 'epoch': 3.0}\n",
      "{'train_runtime': 1672.3125, 'train_samples_per_second': 47.824, 'train_steps_per_second': 5.979, 'train_loss': 0.9074438205539304, 'epoch': 3.0}\n"
     ]
    },
    {
     "name": "stderr",
     "output_type": "stream",
     "text": [
      "[I 2025-08-02 00:36:25,905] Trial 8 finished with value: 0.6630987892612739 and parameters: {'learning_rate': 2.2096074334086114e-05, 'per_device_train_batch_size': 8, 'num_train_epochs': 3, 'weight_decay': 0.09600511663603951}. Best is trial 7 with value: 0.6708194420073698.\n",
      "Some weights of BertForSequenceClassification were not initialized from the model checkpoint at bert-base-german-cased and are newly initialized: ['classifier.bias', 'classifier.weight']\n",
      "You should probably TRAIN this model on a down-stream task to be able to use it for predictions and inference.\n",
      "/opt/conda/lib/python3.11/site-packages/torch/nn/modules/module.py:1762: FutureWarning: `encoder_attention_mask` is deprecated and will be removed in version 4.55.0 for `BertSdpaSelfAttention.forward`.\n",
      "  return forward_call(*args, **kwargs)\n"
     ]
    },
    {
     "name": "stdout",
     "output_type": "stream",
     "text": [
      "{'loss': 1.7554, 'grad_norm': 5.0842390060424805, 'learning_rate': 4.7402039846005027e-05, 'epoch': 0.15001500150015}\n",
      "{'loss': 1.7489, 'grad_norm': 8.039613723754883, 'learning_rate': 4.555515915380504e-05, 'epoch': 0.3000300030003}\n",
      "{'loss': 1.7448, 'grad_norm': 6.890608787536621, 'learning_rate': 4.370827846160504e-05, 'epoch': 0.45004500450045004}\n",
      "{'loss': 1.7269, 'grad_norm': 7.151069641113281, 'learning_rate': 4.186139776940505e-05, 'epoch': 0.6000600060006}\n",
      "{'loss': 1.7366, 'grad_norm': 7.050571441650391, 'learning_rate': 4.0014517077205055e-05, 'epoch': 0.7500750075007501}\n",
      "{'loss': 1.7374, 'grad_norm': 8.329668998718262, 'learning_rate': 3.8167636385005066e-05, 'epoch': 0.9000900090009001}\n"
     ]
    },
    {
     "name": "stderr",
     "output_type": "stream",
     "text": [
      "[I 2025-08-02 00:45:43,005] Trial 9 pruned. \n"
     ]
    },
    {
     "name": "stdout",
     "output_type": "stream",
     "text": [
      "{'eval_loss': 1.7511155605316162, 'eval_accuracy': 0.2654851728373399, 'eval_f1': 0.06992974671843225, 'eval_runtime': 37.7912, 'eval_samples_per_second': 150.802, 'eval_steps_per_second': 18.867, 'epoch': 1.0}\n"
     ]
    },
    {
     "name": "stderr",
     "output_type": "stream",
     "text": [
      "Some weights of BertForSequenceClassification were not initialized from the model checkpoint at bert-base-german-cased and are newly initialized: ['classifier.bias', 'classifier.weight']\n",
      "You should probably TRAIN this model on a down-stream task to be able to use it for predictions and inference.\n",
      "/opt/conda/lib/python3.11/site-packages/torch/nn/modules/module.py:1762: FutureWarning: `encoder_attention_mask` is deprecated and will be removed in version 4.55.0 for `BertSdpaSelfAttention.forward`.\n",
      "  return forward_call(*args, **kwargs)\n"
     ]
    },
    {
     "name": "stdout",
     "output_type": "stream",
     "text": [
      "{'loss': 1.5074, 'grad_norm': 11.955113410949707, 'learning_rate': 2.8042379084625337e-05, 'epoch': 0.29994001199760045}\n",
      "{'loss': 1.2624, 'grad_norm': 8.62268352508545, 'learning_rate': 2.4927943379980146e-05, 'epoch': 0.5998800239952009}\n",
      "{'loss': 1.142, 'grad_norm': 8.649127006530762, 'learning_rate': 2.181350767533495e-05, 'epoch': 0.8998200359928015}\n",
      "{'eval_loss': 1.0132594108581543, 'eval_accuracy': 0.5967713633970873, 'eval_f1': 0.5915897176325734, 'eval_runtime': 37.7146, 'eval_samples_per_second': 151.108, 'eval_steps_per_second': 18.905, 'epoch': 1.0}\n"
     ]
    },
    {
     "name": "stderr",
     "output_type": "stream",
     "text": [
      "/opt/conda/lib/python3.11/site-packages/torch/nn/modules/module.py:1762: FutureWarning: `encoder_attention_mask` is deprecated and will be removed in version 4.55.0 for `BertSdpaSelfAttention.forward`.\n",
      "  return forward_call(*args, **kwargs)\n"
     ]
    },
    {
     "name": "stdout",
     "output_type": "stream",
     "text": [
      "{'loss': 0.9768, 'grad_norm': 29.08860969543457, 'learning_rate': 1.8699071970689755e-05, 'epoch': 1.1997600479904018}\n",
      "{'loss': 0.8832, 'grad_norm': 27.207441329956055, 'learning_rate': 1.558463626604456e-05, 'epoch': 1.4997000599880024}\n",
      "{'loss': 0.841, 'grad_norm': 13.732091903686523, 'learning_rate': 1.2470200561399361e-05, 'epoch': 1.799640071985603}\n",
      "{'eval_loss': 0.9210802316665649, 'eval_accuracy': 0.6504649938585717, 'eval_f1': 0.6473258888544068, 'eval_runtime': 37.6098, 'eval_samples_per_second': 151.529, 'eval_steps_per_second': 18.958, 'epoch': 2.0}\n"
     ]
    },
    {
     "name": "stderr",
     "output_type": "stream",
     "text": [
      "/opt/conda/lib/python3.11/site-packages/torch/nn/modules/module.py:1762: FutureWarning: `encoder_attention_mask` is deprecated and will be removed in version 4.55.0 for `BertSdpaSelfAttention.forward`.\n",
      "  return forward_call(*args, **kwargs)\n"
     ]
    },
    {
     "name": "stdout",
     "output_type": "stream",
     "text": [
      "{'loss': 0.7444, 'grad_norm': 13.95425033569336, 'learning_rate': 9.355764856754166e-06, 'epoch': 2.0995800839832035}\n",
      "{'loss': 0.5967, 'grad_norm': 20.677427291870117, 'learning_rate': 6.241329152108971e-06, 'epoch': 2.3995200959808036}\n",
      "{'loss': 0.5904, 'grad_norm': 30.512723922729492, 'learning_rate': 3.1268934474637765e-06, 'epoch': 2.699460107978404}\n",
      "{'loss': 0.5582, 'grad_norm': 7.648320198059082, 'learning_rate': 1.2457742818580782e-08, 'epoch': 2.9994001199760048}\n",
      "{'eval_loss': 0.9311506152153015, 'eval_accuracy': 0.6639761361642393, 'eval_f1': 0.6666455838850364, 'eval_runtime': 37.8357, 'eval_samples_per_second': 150.625, 'eval_steps_per_second': 18.845, 'epoch': 3.0}\n",
      "{'train_runtime': 1534.4917, 'train_samples_per_second': 52.12, 'train_steps_per_second': 3.259, 'train_loss': 0.9100847143133839, 'epoch': 3.0}\n"
     ]
    },
    {
     "name": "stderr",
     "output_type": "stream",
     "text": [
      "[I 2025-08-02 01:11:18,660] Trial 10 finished with value: 0.6639761361642393 and parameters: {'learning_rate': 3.1150585917861244e-05, 'per_device_train_batch_size': 16, 'num_train_epochs': 3, 'weight_decay': 0.23100132920522845}. Best is trial 7 with value: 0.6708194420073698.\n",
      "Some weights of BertForSequenceClassification were not initialized from the model checkpoint at bert-base-german-cased and are newly initialized: ['classifier.bias', 'classifier.weight']\n",
      "You should probably TRAIN this model on a down-stream task to be able to use it for predictions and inference.\n",
      "/opt/conda/lib/python3.11/site-packages/torch/nn/modules/module.py:1762: FutureWarning: `encoder_attention_mask` is deprecated and will be removed in version 4.55.0 for `BertSdpaSelfAttention.forward`.\n",
      "  return forward_call(*args, **kwargs)\n"
     ]
    },
    {
     "name": "stdout",
     "output_type": "stream",
     "text": [
      "{'loss': 1.4536, 'grad_norm': 3.9133267402648926, 'learning_rate': 2.3391802485445706e-05, 'epoch': 0.5995203836930456}\n"
     ]
    },
    {
     "name": "stderr",
     "output_type": "stream",
     "text": [
      "[I 2025-08-02 01:19:46,779] Trial 11 pruned. \n"
     ]
    },
    {
     "name": "stdout",
     "output_type": "stream",
     "text": [
      "{'eval_loss': 1.044995665550232, 'eval_accuracy': 0.5892261800315844, 'eval_f1': 0.5860441082037408, 'eval_runtime': 37.5913, 'eval_samples_per_second': 151.604, 'eval_steps_per_second': 18.967, 'epoch': 1.0}\n",
      "Best hyperparameters:\n",
      "{'learning_rate': 4.058670637179588e-05, 'per_device_train_batch_size': 32, 'num_train_epochs': 4, 'weight_decay': 0.18336963954777766}\n"
     ]
    }
   ],
   "source": [
    "# training arguments for hyperparameter tuning\n",
    "def model_init():\n",
    "    return AutoModelForSequenceClassification.from_pretrained(\n",
    "        model_name,\n",
    "        num_labels=num_labels\n",
    "    )\n",
    "\n",
    "training_args = TrainingArguments(\n",
    "    output_dir=\"./results\",\n",
    "    eval_strategy=\"epoch\",\n",
    "    save_strategy=\"no\",  # don't save checkpoints during tuning\n",
    "    logging_dir=\"./logs\",\n",
    "    disable_tqdm=True,  # speed up tuning\n",
    "    report_to=\"none\",   # optional: disable W&B or other logging\n",
    ")\n",
    "\n",
    "def hp_space(trial):\n",
    "    return {\n",
    "        \"learning_rate\": trial.suggest_float(\"learning_rate\", 1e-5, 5e-5, log=True),\n",
    "        \"per_device_train_batch_size\": trial.suggest_categorical(\"per_device_train_batch_size\", [8, 16, 32]),\n",
    "        \"num_train_epochs\": trial.suggest_int(\"num_train_epochs\", 3, 4),\n",
    "        \"weight_decay\": trial.suggest_float(\"weight_decay\", 0.0, 0.3),\n",
    "    }\n",
    "\n",
    "trainer = Trainer(\n",
    "    model_init=model_init,\n",
    "    args=training_args,\n",
    "    train_dataset=tokenized_train_data,\n",
    "    eval_dataset=tokenized_val_data,\n",
    "    tokenizer=tokenizer,\n",
    "    compute_metrics=compute_metrics\n",
    ")\n",
    "\n",
    "best_run = trainer.hyperparameter_search(\n",
    "    direction=\"maximize\",        # because we want to maximize accuracy\n",
    "    hp_space=hp_space,\n",
    "    n_trials=12,                 # how many combinations to try\n",
    "    compute_objective=lambda metrics: metrics[\"eval_accuracy\"],\n",
    "    backend=\"optuna\"\n",
    ")\n",
    "\n",
    "print(\"Best hyperparameters:\")\n",
    "print(best_run.hyperparameters)\n"
   ]
  },
  {
   "cell_type": "code",
   "execution_count": 10,
   "id": "bIuAOBYAKxw1",
   "metadata": {
    "id": "bIuAOBYAKxw1"
   },
   "outputs": [],
   "source": [
    "best_run_A_df = pd.DataFrame(best_run)\n",
    "best_run_A_df.to_csv(\"hyperpara_B.csv\",index=False)"
   ]
  },
  {
   "cell_type": "markdown",
   "id": "cARBzNCBGUw1",
   "metadata": {
    "id": "cARBzNCBGUw1"
   },
   "source": [
    "## Training with best Tuning Parameters\n"
   ]
  },
  {
   "cell_type": "code",
   "execution_count": 11,
   "id": "c5bfef97",
   "metadata": {
    "colab": {
     "base_uri": "https://localhost:8080/",
     "height": 370
    },
    "id": "c5bfef97",
    "outputId": "5c5cdcb5-56b8-4479-bc38-3837e75b66c3"
   },
   "outputs": [
    {
     "name": "stderr",
     "output_type": "stream",
     "text": [
      "/tmp/ipykernel_2676/3548648206.py:15: FutureWarning: `tokenizer` is deprecated and will be removed in version 5.0.0 for `Trainer.__init__`. Use `processing_class` instead.\n",
      "  trainer = Trainer(\n",
      "/opt/conda/lib/python3.11/site-packages/torch/nn/modules/module.py:1762: FutureWarning: `encoder_attention_mask` is deprecated and will be removed in version 4.55.0 for `BertSdpaSelfAttention.forward`.\n",
      "  return forward_call(*args, **kwargs)\n"
     ]
    },
    {
     "data": {
      "text/html": [
       "\n",
       "    <div>\n",
       "      \n",
       "      <progress value='3336' max='3336' style='width:300px; height:20px; vertical-align: middle;'></progress>\n",
       "      [3336/3336 07:35, Epoch 4/4]\n",
       "    </div>\n",
       "    <table border=\"1\" class=\"dataframe\">\n",
       "  <thead>\n",
       " <tr style=\"text-align: left;\">\n",
       "      <th>Epoch</th>\n",
       "      <th>Training Loss</th>\n",
       "      <th>Validation Loss</th>\n",
       "      <th>Accuracy</th>\n",
       "      <th>F1</th>\n",
       "    </tr>\n",
       "  </thead>\n",
       "  <tbody>\n",
       "    <tr>\n",
       "      <td>1</td>\n",
       "      <td>1.409700</td>\n",
       "      <td>1.007001</td>\n",
       "      <td>0.610984</td>\n",
       "      <td>0.603266</td>\n",
       "    </tr>\n",
       "    <tr>\n",
       "      <td>2</td>\n",
       "      <td>0.865900</td>\n",
       "      <td>0.912571</td>\n",
       "      <td>0.639937</td>\n",
       "      <td>0.639139</td>\n",
       "    </tr>\n",
       "    <tr>\n",
       "      <td>3</td>\n",
       "      <td>0.584100</td>\n",
       "      <td>0.910643</td>\n",
       "      <td>0.675733</td>\n",
       "      <td>0.671737</td>\n",
       "    </tr>\n",
       "    <tr>\n",
       "      <td>4</td>\n",
       "      <td>0.372200</td>\n",
       "      <td>0.992627</td>\n",
       "      <td>0.675382</td>\n",
       "      <td>0.675238</td>\n",
       "    </tr>\n",
       "  </tbody>\n",
       "</table><p>"
      ],
      "text/plain": [
       "<IPython.core.display.HTML object>"
      ]
     },
     "metadata": {},
     "output_type": "display_data"
    },
    {
     "name": "stderr",
     "output_type": "stream",
     "text": [
      "/opt/conda/lib/python3.11/site-packages/torch/nn/modules/module.py:1762: FutureWarning: `encoder_attention_mask` is deprecated and will be removed in version 4.55.0 for `BertSdpaSelfAttention.forward`.\n",
      "  return forward_call(*args, **kwargs)\n",
      "/opt/conda/lib/python3.11/site-packages/torch/nn/modules/module.py:1762: FutureWarning: `encoder_attention_mask` is deprecated and will be removed in version 4.55.0 for `BertSdpaSelfAttention.forward`.\n",
      "  return forward_call(*args, **kwargs)\n",
      "/opt/conda/lib/python3.11/site-packages/torch/nn/modules/module.py:1762: FutureWarning: `encoder_attention_mask` is deprecated and will be removed in version 4.55.0 for `BertSdpaSelfAttention.forward`.\n",
      "  return forward_call(*args, **kwargs)\n"
     ]
    },
    {
     "data": {
      "text/plain": [
       "TrainOutput(global_step=3336, training_loss=0.7817067025090865, metrics={'train_runtime': 455.3439, 'train_samples_per_second': 234.188, 'train_steps_per_second': 7.326, 'total_flos': 2.805811815326515e+16, 'train_loss': 0.7817067025090865, 'epoch': 4.0})"
      ]
     },
     "execution_count": 11,
     "metadata": {},
     "output_type": "execute_result"
    }
   ],
   "source": [
    "training_args = TrainingArguments(\n",
    "    output_dir=\"./results\",\n",
    "    learning_rate=best_run.hyperparameters[\"learning_rate\"],\n",
    "    per_device_train_batch_size=best_run.hyperparameters[\"per_device_train_batch_size\"],\n",
    "    num_train_epochs=best_run.hyperparameters[\"num_train_epochs\"],\n",
    "    weight_decay=best_run.hyperparameters[\"weight_decay\"],\n",
    "    eval_strategy=\"epoch\",\n",
    "    save_strategy=\"epoch\",\n",
    "    per_device_eval_batch_size=16,\n",
    "    load_best_model_at_end=True,\n",
    "    fp16=torch.cuda.is_available(),\n",
    "    report_to=\"none\",\n",
    ")\n",
    "\n",
    "trainer = Trainer(\n",
    "    model=model,\n",
    "    args=training_args,\n",
    "    train_dataset=tokenized_train_data,\n",
    "    eval_dataset=tokenized_val_data,\n",
    "    tokenizer=tokenizer,\n",
    "    data_collator=DataCollatorWithPadding(tokenizer),\n",
    "    compute_metrics=compute_metrics,\n",
    ")\n",
    "\n",
    "trainer.train()\n"
   ]
  },
  {
   "cell_type": "code",
   "execution_count": 12,
   "id": "42bade2f",
   "metadata": {
    "colab": {
     "base_uri": "https://localhost:8080/"
    },
    "id": "42bade2f",
    "outputId": "861b605d-e59b-4d0d-98e8-5f9f044fd532"
   },
   "outputs": [
    {
     "data": {
      "text/plain": [
       "('classifier_final_B/tokenizer_config.json',\n",
       " 'classifier_final_B/special_tokens_map.json',\n",
       " 'classifier_final_B/vocab.txt',\n",
       " 'classifier_final_B/added_tokens.json',\n",
       " 'classifier_final_B/tokenizer.json')"
      ]
     },
     "execution_count": 12,
     "metadata": {},
     "output_type": "execute_result"
    }
   ],
   "source": [
    "model.save_pretrained(\"classifier_final_B/\")\n",
    "tokenizer.save_pretrained(\"classifier_final_B/\")"
   ]
  },
  {
   "cell_type": "code",
   "execution_count": 13,
   "id": "nVyP9xcmPnVc",
   "metadata": {
    "id": "nVyP9xcmPnVc"
   },
   "outputs": [],
   "source": [
    "# model und tokenizer müssen schon geladen sein\n",
    "model.eval()\n",
    "\n",
    "def tokenize_sliding_windows(example: Dict[str, Any]) -> Dict[str, Any]:\n",
    "    encoding = tokenizer(\n",
    "        example[\"speech_text\"],\n",
    "        truncation=True,\n",
    "        padding=\"max_length\",\n",
    "        max_length=WINDOW_LENGTH,\n",
    "        stride=STRIDE,\n",
    "        return_overflowing_tokens=True,\n",
    "        return_offsets_mapping=False,\n",
    "        return_tensors=\"pt\"\n",
    "    )\n",
    "    return encoding\n",
    "\n",
    "def predict_proba_for_dataset(dataset: Dataset, label_names) -> List[Dict[str, Any]]:\n",
    "    results = []\n",
    "\n",
    "    for example in tqdm(dataset):\n",
    "        tokenized = tokenize_sliding_windows(example)\n",
    "        input_ids = tokenized[\"input_ids\"].to(model.device)\n",
    "        attention_mask = tokenized[\"attention_mask\"].to(model.device)\n",
    "\n",
    "        with torch.no_grad():\n",
    "            outputs = model(input_ids=input_ids, attention_mask=attention_mask)\n",
    "            probs = torch.nn.functional.softmax(outputs.logits, dim=-1).cpu().numpy()\n",
    "\n",
    "        avg_probs = probs.mean(axis=0)\n",
    "        results.append({\n",
    "            \"probs\": avg_probs.tolist(),\n",
    "            \"label\": example[\"label\"]  # falls du wahren Wert mitgeben willst\n",
    "        })\n",
    "\n",
    "    for item in results:\n",
    "      probs = item[\"probs\"]\n",
    "      pred_idx = int(np.argmax(probs))\n",
    "      item[\"prediction_label\"] = label_names[pred_idx]\n",
    "    return results\n"
   ]
  },
  {
   "cell_type": "markdown",
   "id": "DOsyPySjBU-a",
   "metadata": {
    "id": "DOsyPySjBU-a"
   },
   "source": [
    "### Validation"
   ]
  },
  {
   "cell_type": "code",
   "execution_count": 14,
   "id": "nK9JVhMCBuM8",
   "metadata": {
    "colab": {
     "base_uri": "https://localhost:8080/"
    },
    "id": "nK9JVhMCBuM8",
    "outputId": "27322ce0-8b18-4ed8-c68b-025d9362e4e8"
   },
   "outputs": [
    {
     "name": "stderr",
     "output_type": "stream",
     "text": [
      "  0%|          | 0/5418 [00:00<?, ?it/s]/opt/conda/lib/python3.11/site-packages/torch/nn/modules/module.py:1762: FutureWarning: `encoder_attention_mask` is deprecated and will be removed in version 4.55.0 for `BertSdpaSelfAttention.forward`.\n",
      "  return forward_call(*args, **kwargs)\n",
      "100%|██████████| 5418/5418 [00:35<00:00, 153.21it/s]\n"
     ]
    }
   ],
   "source": [
    "results_val_B = predict_proba_for_dataset(val_data, sorted(label_names))"
   ]
  },
  {
   "cell_type": "code",
   "execution_count": 15,
   "id": "F8io9c-RUMk3",
   "metadata": {
    "id": "F8io9c-RUMk3"
   },
   "outputs": [],
   "source": [
    "results_val_B_df = pd.DataFrame(results_val_B)"
   ]
  },
  {
   "cell_type": "code",
   "execution_count": 16,
   "id": "LQPypCKBV08p",
   "metadata": {
    "id": "LQPypCKBV08p"
   },
   "outputs": [],
   "source": [
    "results_val_B_df.to_csv(\"classifier_final_B_validation_results.csv\",index=False)"
   ]
  },
  {
   "cell_type": "markdown",
   "id": "PM4LNZAGBXa9",
   "metadata": {
    "id": "PM4LNZAGBXa9"
   },
   "source": [
    "### TEST"
   ]
  },
  {
   "cell_type": "code",
   "execution_count": 17,
   "id": "dnkrbj3WB6kc",
   "metadata": {
    "colab": {
     "base_uri": "https://localhost:8080/"
    },
    "id": "dnkrbj3WB6kc",
    "outputId": "ecc0be4c-c435-4413-be84-349151e08282"
   },
   "outputs": [
    {
     "name": "stderr",
     "output_type": "stream",
     "text": [
      "100%|██████████| 5418/5418 [00:35<00:00, 153.34it/s]\n"
     ]
    }
   ],
   "source": [
    "results_test_B = predict_proba_for_dataset(test_data, sorted(label_names))"
   ]
  },
  {
   "cell_type": "code",
   "execution_count": 18,
   "id": "hsV5vkohB6kf",
   "metadata": {
    "id": "hsV5vkohB6kf"
   },
   "outputs": [],
   "source": [
    "results_test_B_df = pd.DataFrame(results_test_B)"
   ]
  },
  {
   "cell_type": "code",
   "execution_count": 19,
   "id": "0CMbbUOJB6kg",
   "metadata": {
    "id": "0CMbbUOJB6kg"
   },
   "outputs": [],
   "source": [
    "results_test_B_df.to_csv(\"classifier_final_B_test_results.csv\", index=False)"
   ]
  },
  {
   "cell_type": "code",
   "execution_count": 20,
   "id": "jszPHfJ_NoyX",
   "metadata": {
    "id": "jszPHfJ_NoyX"
   },
   "outputs": [],
   "source": [
    "\n",
    "# Name of the zip file you want to create\n",
    "zip_filename = \"allresultsB.zip\"\n",
    "\n",
    "# Create a zip file\n",
    "with zipfile.ZipFile(zip_filename, 'w', zipfile.ZIP_DEFLATED) as zipf:\n",
    "    # Add model/tokenizer folder\n",
    "    for root, dirs, files in os.walk(\"classifier_final_B/\"):\n",
    "        for file in files:\n",
    "            filepath = os.path.join(root, file)\n",
    "            arcname = os.path.relpath(filepath, start=os.path.dirname(\"classifier_final_B/\"))\n",
    "            zipf.write(filepath, arcname=arcname)\n",
    "\n",
    "    # Add any CSVs you want\n",
    "    for csv_file in [\"hyperpara_B.csv\", \"classifier_final_B_validation_results.csv\", \"classifier_final_B_test_results.csv\"]:\n",
    "        if os.path.exists(csv_file):\n",
    "            zipf.write(csv_file)"
   ]
  }
 ],
 "metadata": {
  "accelerator": "GPU",
  "colab": {
   "gpuType": "T4",
   "provenance": []
  },
  "kernelspec": {
   "display_name": "Python 3 (ipykernel)",
   "language": "python",
   "name": "python3"
  },
  "language_info": {
   "codemirror_mode": {
    "name": "ipython",
    "version": 3
   },
   "file_extension": ".py",
   "mimetype": "text/x-python",
   "name": "python",
   "nbconvert_exporter": "python",
   "pygments_lexer": "ipython3",
   "version": "3.11.6"
  },
  "widgets": {
   "application/vnd.jupyter.widget-state+json": {
    "00cdf24ff8594b90b5a902cef9f21af3": {
     "model_module": "@jupyter-widgets/controls",
     "model_module_version": "1.5.0",
     "model_name": "DescriptionStyleModel",
     "state": {
      "_model_module": "@jupyter-widgets/controls",
      "_model_module_version": "1.5.0",
      "_model_name": "DescriptionStyleModel",
      "_view_count": null,
      "_view_module": "@jupyter-widgets/base",
      "_view_module_version": "1.2.0",
      "_view_name": "StyleView",
      "description_width": ""
     }
    },
    "0b9d3fd8e11647eebaabf5abf46ddcab": {
     "model_module": "@jupyter-widgets/controls",
     "model_module_version": "1.5.0",
     "model_name": "HBoxModel",
     "state": {
      "_dom_classes": [],
      "_model_module": "@jupyter-widgets/controls",
      "_model_module_version": "1.5.0",
      "_model_name": "HBoxModel",
      "_view_count": null,
      "_view_module": "@jupyter-widgets/controls",
      "_view_module_version": "1.5.0",
      "_view_name": "HBoxView",
      "box_style": "",
      "children": [
       "IPY_MODEL_e207811c142f4aefb694d155e89f516f",
       "IPY_MODEL_ee692411fb7643e7ac822db38842a149",
       "IPY_MODEL_64ac474c08754fba8da4e8a360c95ee7"
      ],
      "layout": "IPY_MODEL_66aa95ae2d5f41be8e952e6f36db83a2"
     }
    },
    "0e8fbffd1985465e895a2e7fc4e82bdd": {
     "model_module": "@jupyter-widgets/base",
     "model_module_version": "1.2.0",
     "model_name": "LayoutModel",
     "state": {
      "_model_module": "@jupyter-widgets/base",
      "_model_module_version": "1.2.0",
      "_model_name": "LayoutModel",
      "_view_count": null,
      "_view_module": "@jupyter-widgets/base",
      "_view_module_version": "1.2.0",
      "_view_name": "LayoutView",
      "align_content": null,
      "align_items": null,
      "align_self": null,
      "border": null,
      "bottom": null,
      "display": null,
      "flex": null,
      "flex_flow": null,
      "grid_area": null,
      "grid_auto_columns": null,
      "grid_auto_flow": null,
      "grid_auto_rows": null,
      "grid_column": null,
      "grid_gap": null,
      "grid_row": null,
      "grid_template_areas": null,
      "grid_template_columns": null,
      "grid_template_rows": null,
      "height": null,
      "justify_content": null,
      "justify_items": null,
      "left": null,
      "margin": null,
      "max_height": null,
      "max_width": null,
      "min_height": null,
      "min_width": null,
      "object_fit": null,
      "object_position": null,
      "order": null,
      "overflow": null,
      "overflow_x": null,
      "overflow_y": null,
      "padding": null,
      "right": null,
      "top": null,
      "visibility": null,
      "width": null
     }
    },
    "0e9e4299bcc3440d9d823e9cd69ccb48": {
     "model_module": "@jupyter-widgets/controls",
     "model_module_version": "1.5.0",
     "model_name": "FloatProgressModel",
     "state": {
      "_dom_classes": [],
      "_model_module": "@jupyter-widgets/controls",
      "_model_module_version": "1.5.0",
      "_model_name": "FloatProgressModel",
      "_view_count": null,
      "_view_module": "@jupyter-widgets/controls",
      "_view_module_version": "1.5.0",
      "_view_name": "ProgressView",
      "bar_style": "success",
      "description": "",
      "description_tooltip": null,
      "layout": "IPY_MODEL_82eb85eb46f04a67b8cbed27df3777bd",
      "max": 20,
      "min": 0,
      "orientation": "horizontal",
      "style": "IPY_MODEL_1c29b173483d43ad8bba36042c4da089",
      "value": 20
     }
    },
    "0f8644423d424373afd81b7be748573b": {
     "model_module": "@jupyter-widgets/base",
     "model_module_version": "1.2.0",
     "model_name": "LayoutModel",
     "state": {
      "_model_module": "@jupyter-widgets/base",
      "_model_module_version": "1.2.0",
      "_model_name": "LayoutModel",
      "_view_count": null,
      "_view_module": "@jupyter-widgets/base",
      "_view_module_version": "1.2.0",
      "_view_name": "LayoutView",
      "align_content": null,
      "align_items": null,
      "align_self": null,
      "border": null,
      "bottom": null,
      "display": null,
      "flex": null,
      "flex_flow": null,
      "grid_area": null,
      "grid_auto_columns": null,
      "grid_auto_flow": null,
      "grid_auto_rows": null,
      "grid_column": null,
      "grid_gap": null,
      "grid_row": null,
      "grid_template_areas": null,
      "grid_template_columns": null,
      "grid_template_rows": null,
      "height": null,
      "justify_content": null,
      "justify_items": null,
      "left": null,
      "margin": null,
      "max_height": null,
      "max_width": null,
      "min_height": null,
      "min_width": null,
      "object_fit": null,
      "object_position": null,
      "order": null,
      "overflow": null,
      "overflow_x": null,
      "overflow_y": null,
      "padding": null,
      "right": null,
      "top": null,
      "visibility": null,
      "width": null
     }
    },
    "132c45efb37a47bc80ecbaf7621d05e2": {
     "model_module": "@jupyter-widgets/controls",
     "model_module_version": "1.5.0",
     "model_name": "DescriptionStyleModel",
     "state": {
      "_model_module": "@jupyter-widgets/controls",
      "_model_module_version": "1.5.0",
      "_model_name": "DescriptionStyleModel",
      "_view_count": null,
      "_view_module": "@jupyter-widgets/base",
      "_view_module_version": "1.2.0",
      "_view_name": "StyleView",
      "description_width": ""
     }
    },
    "1c29b173483d43ad8bba36042c4da089": {
     "model_module": "@jupyter-widgets/controls",
     "model_module_version": "1.5.0",
     "model_name": "ProgressStyleModel",
     "state": {
      "_model_module": "@jupyter-widgets/controls",
      "_model_module_version": "1.5.0",
      "_model_name": "ProgressStyleModel",
      "_view_count": null,
      "_view_module": "@jupyter-widgets/base",
      "_view_module_version": "1.2.0",
      "_view_name": "StyleView",
      "bar_color": null,
      "description_width": ""
     }
    },
    "1c4c5d207798476681a5270edb9fb70b": {
     "model_module": "@jupyter-widgets/controls",
     "model_module_version": "1.5.0",
     "model_name": "HBoxModel",
     "state": {
      "_dom_classes": [],
      "_model_module": "@jupyter-widgets/controls",
      "_model_module_version": "1.5.0",
      "_model_name": "HBoxModel",
      "_view_count": null,
      "_view_module": "@jupyter-widgets/controls",
      "_view_module_version": "1.5.0",
      "_view_name": "HBoxView",
      "box_style": "",
      "children": [
       "IPY_MODEL_bff4a201fcf842ef871121ccf114eaf6",
       "IPY_MODEL_e18b51efac6147adafccad9d2cfdfa91",
       "IPY_MODEL_a3ef521bc6f84d6b8259725273d45120"
      ],
      "layout": "IPY_MODEL_8f5388133f8145a3bbe2b61ca58de44d"
     }
    },
    "1c62963740364e66b9526c072addf73b": {
     "model_module": "@jupyter-widgets/base",
     "model_module_version": "1.2.0",
     "model_name": "LayoutModel",
     "state": {
      "_model_module": "@jupyter-widgets/base",
      "_model_module_version": "1.2.0",
      "_model_name": "LayoutModel",
      "_view_count": null,
      "_view_module": "@jupyter-widgets/base",
      "_view_module_version": "1.2.0",
      "_view_name": "LayoutView",
      "align_content": null,
      "align_items": null,
      "align_self": null,
      "border": null,
      "bottom": null,
      "display": null,
      "flex": null,
      "flex_flow": null,
      "grid_area": null,
      "grid_auto_columns": null,
      "grid_auto_flow": null,
      "grid_auto_rows": null,
      "grid_column": null,
      "grid_gap": null,
      "grid_row": null,
      "grid_template_areas": null,
      "grid_template_columns": null,
      "grid_template_rows": null,
      "height": null,
      "justify_content": null,
      "justify_items": null,
      "left": null,
      "margin": null,
      "max_height": null,
      "max_width": null,
      "min_height": null,
      "min_width": null,
      "object_fit": null,
      "object_position": null,
      "order": null,
      "overflow": null,
      "overflow_x": null,
      "overflow_y": null,
      "padding": null,
      "right": null,
      "top": null,
      "visibility": null,
      "width": null
     }
    },
    "20711b75b41243988ec5182117da5701": {
     "model_module": "@jupyter-widgets/controls",
     "model_module_version": "1.5.0",
     "model_name": "HTMLModel",
     "state": {
      "_dom_classes": [],
      "_model_module": "@jupyter-widgets/controls",
      "_model_module_version": "1.5.0",
      "_model_name": "HTMLModel",
      "_view_count": null,
      "_view_module": "@jupyter-widgets/controls",
      "_view_module_version": "1.5.0",
      "_view_name": "HTMLView",
      "description": "",
      "description_tooltip": null,
      "layout": "IPY_MODEL_5437dd08a0dd4c68adcf979e02748e61",
      "placeholder": "​",
      "style": "IPY_MODEL_2a7179f0a1f64fdaa9768c111bfa0b5b",
      "value": "tokenizer.json: 100%"
     }
    },
    "246db317d4aa4139a7a6ec3de9017fea": {
     "model_module": "@jupyter-widgets/base",
     "model_module_version": "1.2.0",
     "model_name": "LayoutModel",
     "state": {
      "_model_module": "@jupyter-widgets/base",
      "_model_module_version": "1.2.0",
      "_model_name": "LayoutModel",
      "_view_count": null,
      "_view_module": "@jupyter-widgets/base",
      "_view_module_version": "1.2.0",
      "_view_name": "LayoutView",
      "align_content": null,
      "align_items": null,
      "align_self": null,
      "border": null,
      "bottom": null,
      "display": null,
      "flex": null,
      "flex_flow": null,
      "grid_area": null,
      "grid_auto_columns": null,
      "grid_auto_flow": null,
      "grid_auto_rows": null,
      "grid_column": null,
      "grid_gap": null,
      "grid_row": null,
      "grid_template_areas": null,
      "grid_template_columns": null,
      "grid_template_rows": null,
      "height": null,
      "justify_content": null,
      "justify_items": null,
      "left": null,
      "margin": null,
      "max_height": null,
      "max_width": null,
      "min_height": null,
      "min_width": null,
      "object_fit": null,
      "object_position": null,
      "order": null,
      "overflow": null,
      "overflow_x": null,
      "overflow_y": null,
      "padding": null,
      "right": null,
      "top": null,
      "visibility": null,
      "width": "20px"
     }
    },
    "2638b7e5cace4f43b78e72eb3c66f3fb": {
     "model_module": "@jupyter-widgets/base",
     "model_module_version": "1.2.0",
     "model_name": "LayoutModel",
     "state": {
      "_model_module": "@jupyter-widgets/base",
      "_model_module_version": "1.2.0",
      "_model_name": "LayoutModel",
      "_view_count": null,
      "_view_module": "@jupyter-widgets/base",
      "_view_module_version": "1.2.0",
      "_view_name": "LayoutView",
      "align_content": null,
      "align_items": null,
      "align_self": null,
      "border": null,
      "bottom": null,
      "display": null,
      "flex": null,
      "flex_flow": null,
      "grid_area": null,
      "grid_auto_columns": null,
      "grid_auto_flow": null,
      "grid_auto_rows": null,
      "grid_column": null,
      "grid_gap": null,
      "grid_row": null,
      "grid_template_areas": null,
      "grid_template_columns": null,
      "grid_template_rows": null,
      "height": null,
      "justify_content": null,
      "justify_items": null,
      "left": null,
      "margin": null,
      "max_height": null,
      "max_width": null,
      "min_height": null,
      "min_width": null,
      "object_fit": null,
      "object_position": null,
      "order": null,
      "overflow": null,
      "overflow_x": null,
      "overflow_y": null,
      "padding": null,
      "right": null,
      "top": null,
      "visibility": null,
      "width": null
     }
    },
    "292badff2ee1436a8fd8edd7444cac01": {
     "model_module": "@jupyter-widgets/controls",
     "model_module_version": "1.5.0",
     "model_name": "HBoxModel",
     "state": {
      "_dom_classes": [],
      "_model_module": "@jupyter-widgets/controls",
      "_model_module_version": "1.5.0",
      "_model_name": "HBoxModel",
      "_view_count": null,
      "_view_module": "@jupyter-widgets/controls",
      "_view_module_version": "1.5.0",
      "_view_name": "HBoxView",
      "box_style": "",
      "children": [
       "IPY_MODEL_f5c69920efcd406e943d915c16568424",
       "IPY_MODEL_97e6727085954305ad202d94830df0d2",
       "IPY_MODEL_9c3c970540ae4fd5ab746ab3f451c86d"
      ],
      "layout": "IPY_MODEL_d356eaccff924466a7e62df6039c01e9"
     }
    },
    "2a7179f0a1f64fdaa9768c111bfa0b5b": {
     "model_module": "@jupyter-widgets/controls",
     "model_module_version": "1.5.0",
     "model_name": "DescriptionStyleModel",
     "state": {
      "_model_module": "@jupyter-widgets/controls",
      "_model_module_version": "1.5.0",
      "_model_name": "DescriptionStyleModel",
      "_view_count": null,
      "_view_module": "@jupyter-widgets/base",
      "_view_module_version": "1.2.0",
      "_view_name": "StyleView",
      "description_width": ""
     }
    },
    "2b21583767d840f4b97231bab6205c1d": {
     "model_module": "@jupyter-widgets/controls",
     "model_module_version": "1.5.0",
     "model_name": "DescriptionStyleModel",
     "state": {
      "_model_module": "@jupyter-widgets/controls",
      "_model_module_version": "1.5.0",
      "_model_name": "DescriptionStyleModel",
      "_view_count": null,
      "_view_module": "@jupyter-widgets/base",
      "_view_module_version": "1.2.0",
      "_view_name": "StyleView",
      "description_width": ""
     }
    },
    "2da663b483724216a662cb656275f51c": {
     "model_module": "@jupyter-widgets/base",
     "model_module_version": "1.2.0",
     "model_name": "LayoutModel",
     "state": {
      "_model_module": "@jupyter-widgets/base",
      "_model_module_version": "1.2.0",
      "_model_name": "LayoutModel",
      "_view_count": null,
      "_view_module": "@jupyter-widgets/base",
      "_view_module_version": "1.2.0",
      "_view_name": "LayoutView",
      "align_content": null,
      "align_items": null,
      "align_self": null,
      "border": null,
      "bottom": null,
      "display": null,
      "flex": null,
      "flex_flow": null,
      "grid_area": null,
      "grid_auto_columns": null,
      "grid_auto_flow": null,
      "grid_auto_rows": null,
      "grid_column": null,
      "grid_gap": null,
      "grid_row": null,
      "grid_template_areas": null,
      "grid_template_columns": null,
      "grid_template_rows": null,
      "height": null,
      "justify_content": null,
      "justify_items": null,
      "left": null,
      "margin": null,
      "max_height": null,
      "max_width": null,
      "min_height": null,
      "min_width": null,
      "object_fit": null,
      "object_position": null,
      "order": null,
      "overflow": null,
      "overflow_x": null,
      "overflow_y": null,
      "padding": null,
      "right": null,
      "top": null,
      "visibility": null,
      "width": null
     }
    },
    "41fb51849ff3465d8bde2a2fee6f9a62": {
     "model_module": "@jupyter-widgets/base",
     "model_module_version": "1.2.0",
     "model_name": "LayoutModel",
     "state": {
      "_model_module": "@jupyter-widgets/base",
      "_model_module_version": "1.2.0",
      "_model_name": "LayoutModel",
      "_view_count": null,
      "_view_module": "@jupyter-widgets/base",
      "_view_module_version": "1.2.0",
      "_view_name": "LayoutView",
      "align_content": null,
      "align_items": null,
      "align_self": null,
      "border": null,
      "bottom": null,
      "display": null,
      "flex": null,
      "flex_flow": null,
      "grid_area": null,
      "grid_auto_columns": null,
      "grid_auto_flow": null,
      "grid_auto_rows": null,
      "grid_column": null,
      "grid_gap": null,
      "grid_row": null,
      "grid_template_areas": null,
      "grid_template_columns": null,
      "grid_template_rows": null,
      "height": null,
      "justify_content": null,
      "justify_items": null,
      "left": null,
      "margin": null,
      "max_height": null,
      "max_width": null,
      "min_height": null,
      "min_width": null,
      "object_fit": null,
      "object_position": null,
      "order": null,
      "overflow": null,
      "overflow_x": null,
      "overflow_y": null,
      "padding": null,
      "right": null,
      "top": null,
      "visibility": null,
      "width": null
     }
    },
    "4383882caa8246ff93e3006dab90e211": {
     "model_module": "@jupyter-widgets/controls",
     "model_module_version": "1.5.0",
     "model_name": "HTMLModel",
     "state": {
      "_dom_classes": [],
      "_model_module": "@jupyter-widgets/controls",
      "_model_module_version": "1.5.0",
      "_model_name": "HTMLModel",
      "_view_count": null,
      "_view_module": "@jupyter-widgets/controls",
      "_view_module_version": "1.5.0",
      "_view_name": "HTMLView",
      "description": "",
      "description_tooltip": null,
      "layout": "IPY_MODEL_99c6e60f79574c079f1959249d32993a",
      "placeholder": "​",
      "style": "IPY_MODEL_a1f41814e2e6474db770328fd30ea11f",
      "value": "config.json: 100%"
     }
    },
    "44095bffe7bc42f7878b7c0316fd4dfb": {
     "model_module": "@jupyter-widgets/base",
     "model_module_version": "1.2.0",
     "model_name": "LayoutModel",
     "state": {
      "_model_module": "@jupyter-widgets/base",
      "_model_module_version": "1.2.0",
      "_model_name": "LayoutModel",
      "_view_count": null,
      "_view_module": "@jupyter-widgets/base",
      "_view_module_version": "1.2.0",
      "_view_name": "LayoutView",
      "align_content": null,
      "align_items": null,
      "align_self": null,
      "border": null,
      "bottom": null,
      "display": null,
      "flex": null,
      "flex_flow": null,
      "grid_area": null,
      "grid_auto_columns": null,
      "grid_auto_flow": null,
      "grid_auto_rows": null,
      "grid_column": null,
      "grid_gap": null,
      "grid_row": null,
      "grid_template_areas": null,
      "grid_template_columns": null,
      "grid_template_rows": null,
      "height": null,
      "justify_content": null,
      "justify_items": null,
      "left": null,
      "margin": null,
      "max_height": null,
      "max_width": null,
      "min_height": null,
      "min_width": null,
      "object_fit": null,
      "object_position": null,
      "order": null,
      "overflow": null,
      "overflow_x": null,
      "overflow_y": null,
      "padding": null,
      "right": null,
      "top": null,
      "visibility": null,
      "width": null
     }
    },
    "4441b099b7a5430e928446f2c94ff34f": {
     "model_module": "@jupyter-widgets/controls",
     "model_module_version": "1.5.0",
     "model_name": "ProgressStyleModel",
     "state": {
      "_model_module": "@jupyter-widgets/controls",
      "_model_module_version": "1.5.0",
      "_model_name": "ProgressStyleModel",
      "_view_count": null,
      "_view_module": "@jupyter-widgets/base",
      "_view_module_version": "1.2.0",
      "_view_name": "StyleView",
      "bar_color": null,
      "description_width": ""
     }
    },
    "488df2db8a7b481db7527f09f1580434": {
     "model_module": "@jupyter-widgets/controls",
     "model_module_version": "1.5.0",
     "model_name": "ProgressStyleModel",
     "state": {
      "_model_module": "@jupyter-widgets/controls",
      "_model_module_version": "1.5.0",
      "_model_name": "ProgressStyleModel",
      "_view_count": null,
      "_view_module": "@jupyter-widgets/base",
      "_view_module_version": "1.2.0",
      "_view_name": "StyleView",
      "bar_color": null,
      "description_width": ""
     }
    },
    "4bd6e1e5752248d69328dff4cb3f4198": {
     "model_module": "@jupyter-widgets/controls",
     "model_module_version": "1.5.0",
     "model_name": "DescriptionStyleModel",
     "state": {
      "_model_module": "@jupyter-widgets/controls",
      "_model_module_version": "1.5.0",
      "_model_name": "DescriptionStyleModel",
      "_view_count": null,
      "_view_module": "@jupyter-widgets/base",
      "_view_module_version": "1.2.0",
      "_view_name": "StyleView",
      "description_width": ""
     }
    },
    "4d3f50a398ff4d30a4993bd5046e5f97": {
     "model_module": "@jupyter-widgets/controls",
     "model_module_version": "1.5.0",
     "model_name": "HTMLModel",
     "state": {
      "_dom_classes": [],
      "_model_module": "@jupyter-widgets/controls",
      "_model_module_version": "1.5.0",
      "_model_name": "HTMLModel",
      "_view_count": null,
      "_view_module": "@jupyter-widgets/controls",
      "_view_module_version": "1.5.0",
      "_view_name": "HTMLView",
      "description": "",
      "description_tooltip": null,
      "layout": "IPY_MODEL_0e8fbffd1985465e895a2e7fc4e82bdd",
      "placeholder": "​",
      "style": "IPY_MODEL_4bd6e1e5752248d69328dff4cb3f4198",
      "value": " 20/20 [00:00&lt;00:00, 271.98 examples/s]"
     }
    },
    "53e10673dcb2453689e47a4b9b3270dc": {
     "model_module": "@jupyter-widgets/controls",
     "model_module_version": "1.5.0",
     "model_name": "HTMLModel",
     "state": {
      "_dom_classes": [],
      "_model_module": "@jupyter-widgets/controls",
      "_model_module_version": "1.5.0",
      "_model_name": "HTMLModel",
      "_view_count": null,
      "_view_module": "@jupyter-widgets/controls",
      "_view_module_version": "1.5.0",
      "_view_name": "HTMLView",
      "description": "",
      "description_tooltip": null,
      "layout": "IPY_MODEL_6eae1c0e8c6f4b558e1602c0760e3e43",
      "placeholder": "​",
      "style": "IPY_MODEL_6cc62f32b1c24febbd6a9e5c51c6ad54",
      "value": "Map: 100%"
     }
    },
    "5437dd08a0dd4c68adcf979e02748e61": {
     "model_module": "@jupyter-widgets/base",
     "model_module_version": "1.2.0",
     "model_name": "LayoutModel",
     "state": {
      "_model_module": "@jupyter-widgets/base",
      "_model_module_version": "1.2.0",
      "_model_name": "LayoutModel",
      "_view_count": null,
      "_view_module": "@jupyter-widgets/base",
      "_view_module_version": "1.2.0",
      "_view_name": "LayoutView",
      "align_content": null,
      "align_items": null,
      "align_self": null,
      "border": null,
      "bottom": null,
      "display": null,
      "flex": null,
      "flex_flow": null,
      "grid_area": null,
      "grid_auto_columns": null,
      "grid_auto_flow": null,
      "grid_auto_rows": null,
      "grid_column": null,
      "grid_gap": null,
      "grid_row": null,
      "grid_template_areas": null,
      "grid_template_columns": null,
      "grid_template_rows": null,
      "height": null,
      "justify_content": null,
      "justify_items": null,
      "left": null,
      "margin": null,
      "max_height": null,
      "max_width": null,
      "min_height": null,
      "min_width": null,
      "object_fit": null,
      "object_position": null,
      "order": null,
      "overflow": null,
      "overflow_x": null,
      "overflow_y": null,
      "padding": null,
      "right": null,
      "top": null,
      "visibility": null,
      "width": null
     }
    },
    "55bc134d7e6e4d34bb87330015efc78b": {
     "model_module": "@jupyter-widgets/base",
     "model_module_version": "1.2.0",
     "model_name": "LayoutModel",
     "state": {
      "_model_module": "@jupyter-widgets/base",
      "_model_module_version": "1.2.0",
      "_model_name": "LayoutModel",
      "_view_count": null,
      "_view_module": "@jupyter-widgets/base",
      "_view_module_version": "1.2.0",
      "_view_name": "LayoutView",
      "align_content": null,
      "align_items": null,
      "align_self": null,
      "border": null,
      "bottom": null,
      "display": null,
      "flex": null,
      "flex_flow": null,
      "grid_area": null,
      "grid_auto_columns": null,
      "grid_auto_flow": null,
      "grid_auto_rows": null,
      "grid_column": null,
      "grid_gap": null,
      "grid_row": null,
      "grid_template_areas": null,
      "grid_template_columns": null,
      "grid_template_rows": null,
      "height": null,
      "justify_content": null,
      "justify_items": null,
      "left": null,
      "margin": null,
      "max_height": null,
      "max_width": null,
      "min_height": null,
      "min_width": null,
      "object_fit": null,
      "object_position": null,
      "order": null,
      "overflow": null,
      "overflow_x": null,
      "overflow_y": null,
      "padding": null,
      "right": null,
      "top": null,
      "visibility": null,
      "width": "20px"
     }
    },
    "5ed988657c91479faa48887ed6c09539": {
     "model_module": "@jupyter-widgets/base",
     "model_module_version": "1.2.0",
     "model_name": "LayoutModel",
     "state": {
      "_model_module": "@jupyter-widgets/base",
      "_model_module_version": "1.2.0",
      "_model_name": "LayoutModel",
      "_view_count": null,
      "_view_module": "@jupyter-widgets/base",
      "_view_module_version": "1.2.0",
      "_view_name": "LayoutView",
      "align_content": null,
      "align_items": null,
      "align_self": null,
      "border": null,
      "bottom": null,
      "display": null,
      "flex": null,
      "flex_flow": null,
      "grid_area": null,
      "grid_auto_columns": null,
      "grid_auto_flow": null,
      "grid_auto_rows": null,
      "grid_column": null,
      "grid_gap": null,
      "grid_row": null,
      "grid_template_areas": null,
      "grid_template_columns": null,
      "grid_template_rows": null,
      "height": null,
      "justify_content": null,
      "justify_items": null,
      "left": null,
      "margin": null,
      "max_height": null,
      "max_width": null,
      "min_height": null,
      "min_width": null,
      "object_fit": null,
      "object_position": null,
      "order": null,
      "overflow": null,
      "overflow_x": null,
      "overflow_y": null,
      "padding": null,
      "right": null,
      "top": null,
      "visibility": null,
      "width": null
     }
    },
    "6073b15cef70484a860dad09d5356994": {
     "model_module": "@jupyter-widgets/controls",
     "model_module_version": "1.5.0",
     "model_name": "DescriptionStyleModel",
     "state": {
      "_model_module": "@jupyter-widgets/controls",
      "_model_module_version": "1.5.0",
      "_model_name": "DescriptionStyleModel",
      "_view_count": null,
      "_view_module": "@jupyter-widgets/base",
      "_view_module_version": "1.2.0",
      "_view_name": "StyleView",
      "description_width": ""
     }
    },
    "648f4ca349054e08b213fe012bb462cf": {
     "model_module": "@jupyter-widgets/controls",
     "model_module_version": "1.5.0",
     "model_name": "DescriptionStyleModel",
     "state": {
      "_model_module": "@jupyter-widgets/controls",
      "_model_module_version": "1.5.0",
      "_model_name": "DescriptionStyleModel",
      "_view_count": null,
      "_view_module": "@jupyter-widgets/base",
      "_view_module_version": "1.2.0",
      "_view_name": "StyleView",
      "description_width": ""
     }
    },
    "64ac474c08754fba8da4e8a360c95ee7": {
     "model_module": "@jupyter-widgets/controls",
     "model_module_version": "1.5.0",
     "model_name": "HTMLModel",
     "state": {
      "_dom_classes": [],
      "_model_module": "@jupyter-widgets/controls",
      "_model_module_version": "1.5.0",
      "_model_name": "HTMLModel",
      "_view_count": null,
      "_view_module": "@jupyter-widgets/controls",
      "_view_module_version": "1.5.0",
      "_view_name": "HTMLView",
      "description": "",
      "description_tooltip": null,
      "layout": "IPY_MODEL_f9041976f3e8432198e88b933fdca829",
      "placeholder": "​",
      "style": "IPY_MODEL_88a52f8934ae4ca3911aa4c83ef5cfe4",
      "value": " 6.79k/? [00:00&lt;00:00, 307kB/s]"
     }
    },
    "66aa95ae2d5f41be8e952e6f36db83a2": {
     "model_module": "@jupyter-widgets/base",
     "model_module_version": "1.2.0",
     "model_name": "LayoutModel",
     "state": {
      "_model_module": "@jupyter-widgets/base",
      "_model_module_version": "1.2.0",
      "_model_name": "LayoutModel",
      "_view_count": null,
      "_view_module": "@jupyter-widgets/base",
      "_view_module_version": "1.2.0",
      "_view_name": "LayoutView",
      "align_content": null,
      "align_items": null,
      "align_self": null,
      "border": null,
      "bottom": null,
      "display": null,
      "flex": null,
      "flex_flow": null,
      "grid_area": null,
      "grid_auto_columns": null,
      "grid_auto_flow": null,
      "grid_auto_rows": null,
      "grid_column": null,
      "grid_gap": null,
      "grid_row": null,
      "grid_template_areas": null,
      "grid_template_columns": null,
      "grid_template_rows": null,
      "height": null,
      "justify_content": null,
      "justify_items": null,
      "left": null,
      "margin": null,
      "max_height": null,
      "max_width": null,
      "min_height": null,
      "min_width": null,
      "object_fit": null,
      "object_position": null,
      "order": null,
      "overflow": null,
      "overflow_x": null,
      "overflow_y": null,
      "padding": null,
      "right": null,
      "top": null,
      "visibility": null,
      "width": null
     }
    },
    "6b0cf1c0f21d4bf8bfa1cd9486bca0fd": {
     "model_module": "@jupyter-widgets/base",
     "model_module_version": "1.2.0",
     "model_name": "LayoutModel",
     "state": {
      "_model_module": "@jupyter-widgets/base",
      "_model_module_version": "1.2.0",
      "_model_name": "LayoutModel",
      "_view_count": null,
      "_view_module": "@jupyter-widgets/base",
      "_view_module_version": "1.2.0",
      "_view_name": "LayoutView",
      "align_content": null,
      "align_items": null,
      "align_self": null,
      "border": null,
      "bottom": null,
      "display": null,
      "flex": null,
      "flex_flow": null,
      "grid_area": null,
      "grid_auto_columns": null,
      "grid_auto_flow": null,
      "grid_auto_rows": null,
      "grid_column": null,
      "grid_gap": null,
      "grid_row": null,
      "grid_template_areas": null,
      "grid_template_columns": null,
      "grid_template_rows": null,
      "height": null,
      "justify_content": null,
      "justify_items": null,
      "left": null,
      "margin": null,
      "max_height": null,
      "max_width": null,
      "min_height": null,
      "min_width": null,
      "object_fit": null,
      "object_position": null,
      "order": null,
      "overflow": null,
      "overflow_x": null,
      "overflow_y": null,
      "padding": null,
      "right": null,
      "top": null,
      "visibility": null,
      "width": null
     }
    },
    "6bda7cac2a9b481fbcf8df25e934a1d9": {
     "model_module": "@jupyter-widgets/controls",
     "model_module_version": "1.5.0",
     "model_name": "DescriptionStyleModel",
     "state": {
      "_model_module": "@jupyter-widgets/controls",
      "_model_module_version": "1.5.0",
      "_model_name": "DescriptionStyleModel",
      "_view_count": null,
      "_view_module": "@jupyter-widgets/base",
      "_view_module_version": "1.2.0",
      "_view_name": "StyleView",
      "description_width": ""
     }
    },
    "6cc62f32b1c24febbd6a9e5c51c6ad54": {
     "model_module": "@jupyter-widgets/controls",
     "model_module_version": "1.5.0",
     "model_name": "DescriptionStyleModel",
     "state": {
      "_model_module": "@jupyter-widgets/controls",
      "_model_module_version": "1.5.0",
      "_model_name": "DescriptionStyleModel",
      "_view_count": null,
      "_view_module": "@jupyter-widgets/base",
      "_view_module_version": "1.2.0",
      "_view_name": "StyleView",
      "description_width": ""
     }
    },
    "6ea8d3bedcb44d628eeae0d89abb2d39": {
     "model_module": "@jupyter-widgets/base",
     "model_module_version": "1.2.0",
     "model_name": "LayoutModel",
     "state": {
      "_model_module": "@jupyter-widgets/base",
      "_model_module_version": "1.2.0",
      "_model_name": "LayoutModel",
      "_view_count": null,
      "_view_module": "@jupyter-widgets/base",
      "_view_module_version": "1.2.0",
      "_view_name": "LayoutView",
      "align_content": null,
      "align_items": null,
      "align_self": null,
      "border": null,
      "bottom": null,
      "display": null,
      "flex": null,
      "flex_flow": null,
      "grid_area": null,
      "grid_auto_columns": null,
      "grid_auto_flow": null,
      "grid_auto_rows": null,
      "grid_column": null,
      "grid_gap": null,
      "grid_row": null,
      "grid_template_areas": null,
      "grid_template_columns": null,
      "grid_template_rows": null,
      "height": null,
      "justify_content": null,
      "justify_items": null,
      "left": null,
      "margin": null,
      "max_height": null,
      "max_width": null,
      "min_height": null,
      "min_width": null,
      "object_fit": null,
      "object_position": null,
      "order": null,
      "overflow": null,
      "overflow_x": null,
      "overflow_y": null,
      "padding": null,
      "right": null,
      "top": null,
      "visibility": null,
      "width": null
     }
    },
    "6eae1c0e8c6f4b558e1602c0760e3e43": {
     "model_module": "@jupyter-widgets/base",
     "model_module_version": "1.2.0",
     "model_name": "LayoutModel",
     "state": {
      "_model_module": "@jupyter-widgets/base",
      "_model_module_version": "1.2.0",
      "_model_name": "LayoutModel",
      "_view_count": null,
      "_view_module": "@jupyter-widgets/base",
      "_view_module_version": "1.2.0",
      "_view_name": "LayoutView",
      "align_content": null,
      "align_items": null,
      "align_self": null,
      "border": null,
      "bottom": null,
      "display": null,
      "flex": null,
      "flex_flow": null,
      "grid_area": null,
      "grid_auto_columns": null,
      "grid_auto_flow": null,
      "grid_auto_rows": null,
      "grid_column": null,
      "grid_gap": null,
      "grid_row": null,
      "grid_template_areas": null,
      "grid_template_columns": null,
      "grid_template_rows": null,
      "height": null,
      "justify_content": null,
      "justify_items": null,
      "left": null,
      "margin": null,
      "max_height": null,
      "max_width": null,
      "min_height": null,
      "min_width": null,
      "object_fit": null,
      "object_position": null,
      "order": null,
      "overflow": null,
      "overflow_x": null,
      "overflow_y": null,
      "padding": null,
      "right": null,
      "top": null,
      "visibility": null,
      "width": null
     }
    },
    "6f207c49de124722b34280aac4513f1c": {
     "model_module": "@jupyter-widgets/base",
     "model_module_version": "1.2.0",
     "model_name": "LayoutModel",
     "state": {
      "_model_module": "@jupyter-widgets/base",
      "_model_module_version": "1.2.0",
      "_model_name": "LayoutModel",
      "_view_count": null,
      "_view_module": "@jupyter-widgets/base",
      "_view_module_version": "1.2.0",
      "_view_name": "LayoutView",
      "align_content": null,
      "align_items": null,
      "align_self": null,
      "border": null,
      "bottom": null,
      "display": null,
      "flex": null,
      "flex_flow": null,
      "grid_area": null,
      "grid_auto_columns": null,
      "grid_auto_flow": null,
      "grid_auto_rows": null,
      "grid_column": null,
      "grid_gap": null,
      "grid_row": null,
      "grid_template_areas": null,
      "grid_template_columns": null,
      "grid_template_rows": null,
      "height": null,
      "justify_content": null,
      "justify_items": null,
      "left": null,
      "margin": null,
      "max_height": null,
      "max_width": null,
      "min_height": null,
      "min_width": null,
      "object_fit": null,
      "object_position": null,
      "order": null,
      "overflow": null,
      "overflow_x": null,
      "overflow_y": null,
      "padding": null,
      "right": null,
      "top": null,
      "visibility": null,
      "width": null
     }
    },
    "70bf8e35d7d5490c9251660cda49f2ec": {
     "model_module": "@jupyter-widgets/controls",
     "model_module_version": "1.5.0",
     "model_name": "ProgressStyleModel",
     "state": {
      "_model_module": "@jupyter-widgets/controls",
      "_model_module_version": "1.5.0",
      "_model_name": "ProgressStyleModel",
      "_view_count": null,
      "_view_module": "@jupyter-widgets/base",
      "_view_module_version": "1.2.0",
      "_view_name": "StyleView",
      "bar_color": null,
      "description_width": ""
     }
    },
    "70e28700433441aaa8d5cd7cfbd62d5f": {
     "model_module": "@jupyter-widgets/controls",
     "model_module_version": "1.5.0",
     "model_name": "HBoxModel",
     "state": {
      "_dom_classes": [],
      "_model_module": "@jupyter-widgets/controls",
      "_model_module_version": "1.5.0",
      "_model_name": "HBoxModel",
      "_view_count": null,
      "_view_module": "@jupyter-widgets/controls",
      "_view_module_version": "1.5.0",
      "_view_name": "HBoxView",
      "box_style": "",
      "children": [
       "IPY_MODEL_d0a726bdfc794fc1a9cf220200ed3051",
       "IPY_MODEL_e77321f8f7be42b2be396b2b21792709",
       "IPY_MODEL_aeb2ce2bc0034f16965777c1fcd64ef5"
      ],
      "layout": "IPY_MODEL_72a13ba09ad74ce492d81101c1fa4542"
     }
    },
    "716d8a6bbe184628836e955bb14ffd18": {
     "model_module": "@jupyter-widgets/base",
     "model_module_version": "1.2.0",
     "model_name": "LayoutModel",
     "state": {
      "_model_module": "@jupyter-widgets/base",
      "_model_module_version": "1.2.0",
      "_model_name": "LayoutModel",
      "_view_count": null,
      "_view_module": "@jupyter-widgets/base",
      "_view_module_version": "1.2.0",
      "_view_name": "LayoutView",
      "align_content": null,
      "align_items": null,
      "align_self": null,
      "border": null,
      "bottom": null,
      "display": null,
      "flex": null,
      "flex_flow": null,
      "grid_area": null,
      "grid_auto_columns": null,
      "grid_auto_flow": null,
      "grid_auto_rows": null,
      "grid_column": null,
      "grid_gap": null,
      "grid_row": null,
      "grid_template_areas": null,
      "grid_template_columns": null,
      "grid_template_rows": null,
      "height": null,
      "justify_content": null,
      "justify_items": null,
      "left": null,
      "margin": null,
      "max_height": null,
      "max_width": null,
      "min_height": null,
      "min_width": null,
      "object_fit": null,
      "object_position": null,
      "order": null,
      "overflow": null,
      "overflow_x": null,
      "overflow_y": null,
      "padding": null,
      "right": null,
      "top": null,
      "visibility": null,
      "width": null
     }
    },
    "72a13ba09ad74ce492d81101c1fa4542": {
     "model_module": "@jupyter-widgets/base",
     "model_module_version": "1.2.0",
     "model_name": "LayoutModel",
     "state": {
      "_model_module": "@jupyter-widgets/base",
      "_model_module_version": "1.2.0",
      "_model_name": "LayoutModel",
      "_view_count": null,
      "_view_module": "@jupyter-widgets/base",
      "_view_module_version": "1.2.0",
      "_view_name": "LayoutView",
      "align_content": null,
      "align_items": null,
      "align_self": null,
      "border": null,
      "bottom": null,
      "display": null,
      "flex": null,
      "flex_flow": null,
      "grid_area": null,
      "grid_auto_columns": null,
      "grid_auto_flow": null,
      "grid_auto_rows": null,
      "grid_column": null,
      "grid_gap": null,
      "grid_row": null,
      "grid_template_areas": null,
      "grid_template_columns": null,
      "grid_template_rows": null,
      "height": null,
      "justify_content": null,
      "justify_items": null,
      "left": null,
      "margin": null,
      "max_height": null,
      "max_width": null,
      "min_height": null,
      "min_width": null,
      "object_fit": null,
      "object_position": null,
      "order": null,
      "overflow": null,
      "overflow_x": null,
      "overflow_y": null,
      "padding": null,
      "right": null,
      "top": null,
      "visibility": null,
      "width": null
     }
    },
    "7c0345be3ef6497bba5eae504fd068de": {
     "model_module": "@jupyter-widgets/controls",
     "model_module_version": "1.5.0",
     "model_name": "DescriptionStyleModel",
     "state": {
      "_model_module": "@jupyter-widgets/controls",
      "_model_module_version": "1.5.0",
      "_model_name": "DescriptionStyleModel",
      "_view_count": null,
      "_view_module": "@jupyter-widgets/base",
      "_view_module_version": "1.2.0",
      "_view_name": "StyleView",
      "description_width": ""
     }
    },
    "82eb85eb46f04a67b8cbed27df3777bd": {
     "model_module": "@jupyter-widgets/base",
     "model_module_version": "1.2.0",
     "model_name": "LayoutModel",
     "state": {
      "_model_module": "@jupyter-widgets/base",
      "_model_module_version": "1.2.0",
      "_model_name": "LayoutModel",
      "_view_count": null,
      "_view_module": "@jupyter-widgets/base",
      "_view_module_version": "1.2.0",
      "_view_name": "LayoutView",
      "align_content": null,
      "align_items": null,
      "align_self": null,
      "border": null,
      "bottom": null,
      "display": null,
      "flex": null,
      "flex_flow": null,
      "grid_area": null,
      "grid_auto_columns": null,
      "grid_auto_flow": null,
      "grid_auto_rows": null,
      "grid_column": null,
      "grid_gap": null,
      "grid_row": null,
      "grid_template_areas": null,
      "grid_template_columns": null,
      "grid_template_rows": null,
      "height": null,
      "justify_content": null,
      "justify_items": null,
      "left": null,
      "margin": null,
      "max_height": null,
      "max_width": null,
      "min_height": null,
      "min_width": null,
      "object_fit": null,
      "object_position": null,
      "order": null,
      "overflow": null,
      "overflow_x": null,
      "overflow_y": null,
      "padding": null,
      "right": null,
      "top": null,
      "visibility": null,
      "width": null
     }
    },
    "83ab9d9d0c0e4c66b2410381fa8e97e5": {
     "model_module": "@jupyter-widgets/controls",
     "model_module_version": "1.5.0",
     "model_name": "DescriptionStyleModel",
     "state": {
      "_model_module": "@jupyter-widgets/controls",
      "_model_module_version": "1.5.0",
      "_model_name": "DescriptionStyleModel",
      "_view_count": null,
      "_view_module": "@jupyter-widgets/base",
      "_view_module_version": "1.2.0",
      "_view_name": "StyleView",
      "description_width": ""
     }
    },
    "840c4abe8c7f40469393ec2489fca99d": {
     "model_module": "@jupyter-widgets/base",
     "model_module_version": "1.2.0",
     "model_name": "LayoutModel",
     "state": {
      "_model_module": "@jupyter-widgets/base",
      "_model_module_version": "1.2.0",
      "_model_name": "LayoutModel",
      "_view_count": null,
      "_view_module": "@jupyter-widgets/base",
      "_view_module_version": "1.2.0",
      "_view_name": "LayoutView",
      "align_content": null,
      "align_items": null,
      "align_self": null,
      "border": null,
      "bottom": null,
      "display": null,
      "flex": null,
      "flex_flow": null,
      "grid_area": null,
      "grid_auto_columns": null,
      "grid_auto_flow": null,
      "grid_auto_rows": null,
      "grid_column": null,
      "grid_gap": null,
      "grid_row": null,
      "grid_template_areas": null,
      "grid_template_columns": null,
      "grid_template_rows": null,
      "height": null,
      "justify_content": null,
      "justify_items": null,
      "left": null,
      "margin": null,
      "max_height": null,
      "max_width": null,
      "min_height": null,
      "min_width": null,
      "object_fit": null,
      "object_position": null,
      "order": null,
      "overflow": null,
      "overflow_x": null,
      "overflow_y": null,
      "padding": null,
      "right": null,
      "top": null,
      "visibility": null,
      "width": null
     }
    },
    "845debd6eaec493991d4f541e4ab623c": {
     "model_module": "@jupyter-widgets/controls",
     "model_module_version": "1.5.0",
     "model_name": "HTMLModel",
     "state": {
      "_dom_classes": [],
      "_model_module": "@jupyter-widgets/controls",
      "_model_module_version": "1.5.0",
      "_model_name": "HTMLModel",
      "_view_count": null,
      "_view_module": "@jupyter-widgets/controls",
      "_view_module_version": "1.5.0",
      "_view_name": "HTMLView",
      "description": "",
      "description_tooltip": null,
      "layout": "IPY_MODEL_b83e37c9a21448ef8702a80f69d8296b",
      "placeholder": "​",
      "style": "IPY_MODEL_db70dcaaff234329b82e5b8a3040df7a",
      "value": " 433/433 [00:00&lt;00:00, 14.5kB/s]"
     }
    },
    "86211e4736184c948c76102fb48fd94e": {
     "model_module": "@jupyter-widgets/controls",
     "model_module_version": "1.5.0",
     "model_name": "HTMLModel",
     "state": {
      "_dom_classes": [],
      "_model_module": "@jupyter-widgets/controls",
      "_model_module_version": "1.5.0",
      "_model_name": "HTMLModel",
      "_view_count": null,
      "_view_module": "@jupyter-widgets/controls",
      "_view_module_version": "1.5.0",
      "_view_name": "HTMLView",
      "description": "",
      "description_tooltip": null,
      "layout": "IPY_MODEL_8ef605f68a414c3695daa18878e594c1",
      "placeholder": "​",
      "style": "IPY_MODEL_83ab9d9d0c0e4c66b2410381fa8e97e5",
      "value": "Downloading builder script: "
     }
    },
    "88a52f8934ae4ca3911aa4c83ef5cfe4": {
     "model_module": "@jupyter-widgets/controls",
     "model_module_version": "1.5.0",
     "model_name": "DescriptionStyleModel",
     "state": {
      "_model_module": "@jupyter-widgets/controls",
      "_model_module_version": "1.5.0",
      "_model_name": "DescriptionStyleModel",
      "_view_count": null,
      "_view_module": "@jupyter-widgets/base",
      "_view_module_version": "1.2.0",
      "_view_name": "StyleView",
      "description_width": ""
     }
    },
    "8ef605f68a414c3695daa18878e594c1": {
     "model_module": "@jupyter-widgets/base",
     "model_module_version": "1.2.0",
     "model_name": "LayoutModel",
     "state": {
      "_model_module": "@jupyter-widgets/base",
      "_model_module_version": "1.2.0",
      "_model_name": "LayoutModel",
      "_view_count": null,
      "_view_module": "@jupyter-widgets/base",
      "_view_module_version": "1.2.0",
      "_view_name": "LayoutView",
      "align_content": null,
      "align_items": null,
      "align_self": null,
      "border": null,
      "bottom": null,
      "display": null,
      "flex": null,
      "flex_flow": null,
      "grid_area": null,
      "grid_auto_columns": null,
      "grid_auto_flow": null,
      "grid_auto_rows": null,
      "grid_column": null,
      "grid_gap": null,
      "grid_row": null,
      "grid_template_areas": null,
      "grid_template_columns": null,
      "grid_template_rows": null,
      "height": null,
      "justify_content": null,
      "justify_items": null,
      "left": null,
      "margin": null,
      "max_height": null,
      "max_width": null,
      "min_height": null,
      "min_width": null,
      "object_fit": null,
      "object_position": null,
      "order": null,
      "overflow": null,
      "overflow_x": null,
      "overflow_y": null,
      "padding": null,
      "right": null,
      "top": null,
      "visibility": null,
      "width": null
     }
    },
    "8f5388133f8145a3bbe2b61ca58de44d": {
     "model_module": "@jupyter-widgets/base",
     "model_module_version": "1.2.0",
     "model_name": "LayoutModel",
     "state": {
      "_model_module": "@jupyter-widgets/base",
      "_model_module_version": "1.2.0",
      "_model_name": "LayoutModel",
      "_view_count": null,
      "_view_module": "@jupyter-widgets/base",
      "_view_module_version": "1.2.0",
      "_view_name": "LayoutView",
      "align_content": null,
      "align_items": null,
      "align_self": null,
      "border": null,
      "bottom": null,
      "display": null,
      "flex": null,
      "flex_flow": null,
      "grid_area": null,
      "grid_auto_columns": null,
      "grid_auto_flow": null,
      "grid_auto_rows": null,
      "grid_column": null,
      "grid_gap": null,
      "grid_row": null,
      "grid_template_areas": null,
      "grid_template_columns": null,
      "grid_template_rows": null,
      "height": null,
      "justify_content": null,
      "justify_items": null,
      "left": null,
      "margin": null,
      "max_height": null,
      "max_width": null,
      "min_height": null,
      "min_width": null,
      "object_fit": null,
      "object_position": null,
      "order": null,
      "overflow": null,
      "overflow_x": null,
      "overflow_y": null,
      "padding": null,
      "right": null,
      "top": null,
      "visibility": null,
      "width": null
     }
    },
    "90de35c09ffc4b5684a6556c7c0e7683": {
     "model_module": "@jupyter-widgets/controls",
     "model_module_version": "1.5.0",
     "model_name": "HTMLModel",
     "state": {
      "_dom_classes": [],
      "_model_module": "@jupyter-widgets/controls",
      "_model_module_version": "1.5.0",
      "_model_name": "HTMLModel",
      "_view_count": null,
      "_view_module": "@jupyter-widgets/controls",
      "_view_module_version": "1.5.0",
      "_view_name": "HTMLView",
      "description": "",
      "description_tooltip": null,
      "layout": "IPY_MODEL_baa7005ccfbc4f32a129e93985531751",
      "placeholder": "​",
      "style": "IPY_MODEL_c8b2624294884c91a8d1422b49b24562",
      "value": "Map: 100%"
     }
    },
    "94b2f0de43154f9099cd436702491afa": {
     "model_module": "@jupyter-widgets/controls",
     "model_module_version": "1.5.0",
     "model_name": "HBoxModel",
     "state": {
      "_dom_classes": [],
      "_model_module": "@jupyter-widgets/controls",
      "_model_module_version": "1.5.0",
      "_model_name": "HBoxModel",
      "_view_count": null,
      "_view_module": "@jupyter-widgets/controls",
      "_view_module_version": "1.5.0",
      "_view_name": "HBoxView",
      "box_style": "",
      "children": [
       "IPY_MODEL_90de35c09ffc4b5684a6556c7c0e7683",
       "IPY_MODEL_e67f549809784041941d0c32efa00a6c",
       "IPY_MODEL_b657874ebe5b49499062e4a1bd46379f"
      ],
      "layout": "IPY_MODEL_44095bffe7bc42f7878b7c0316fd4dfb"
     }
    },
    "97e6727085954305ad202d94830df0d2": {
     "model_module": "@jupyter-widgets/controls",
     "model_module_version": "1.5.0",
     "model_name": "FloatProgressModel",
     "state": {
      "_dom_classes": [],
      "_model_module": "@jupyter-widgets/controls",
      "_model_module_version": "1.5.0",
      "_model_name": "FloatProgressModel",
      "_view_count": null,
      "_view_module": "@jupyter-widgets/controls",
      "_view_module_version": "1.5.0",
      "_view_name": "ProgressView",
      "bar_style": "success",
      "description": "",
      "description_tooltip": null,
      "layout": "IPY_MODEL_1c62963740364e66b9526c072addf73b",
      "max": 438844124,
      "min": 0,
      "orientation": "horizontal",
      "style": "IPY_MODEL_bb79a675d18542f991b579c44337151f",
      "value": 438844124
     }
    },
    "99c6e60f79574c079f1959249d32993a": {
     "model_module": "@jupyter-widgets/base",
     "model_module_version": "1.2.0",
     "model_name": "LayoutModel",
     "state": {
      "_model_module": "@jupyter-widgets/base",
      "_model_module_version": "1.2.0",
      "_model_name": "LayoutModel",
      "_view_count": null,
      "_view_module": "@jupyter-widgets/base",
      "_view_module_version": "1.2.0",
      "_view_name": "LayoutView",
      "align_content": null,
      "align_items": null,
      "align_self": null,
      "border": null,
      "bottom": null,
      "display": null,
      "flex": null,
      "flex_flow": null,
      "grid_area": null,
      "grid_auto_columns": null,
      "grid_auto_flow": null,
      "grid_auto_rows": null,
      "grid_column": null,
      "grid_gap": null,
      "grid_row": null,
      "grid_template_areas": null,
      "grid_template_columns": null,
      "grid_template_rows": null,
      "height": null,
      "justify_content": null,
      "justify_items": null,
      "left": null,
      "margin": null,
      "max_height": null,
      "max_width": null,
      "min_height": null,
      "min_width": null,
      "object_fit": null,
      "object_position": null,
      "order": null,
      "overflow": null,
      "overflow_x": null,
      "overflow_y": null,
      "padding": null,
      "right": null,
      "top": null,
      "visibility": null,
      "width": null
     }
    },
    "9abc79b18a2449489a1b38be0f021243": {
     "model_module": "@jupyter-widgets/controls",
     "model_module_version": "1.5.0",
     "model_name": "ProgressStyleModel",
     "state": {
      "_model_module": "@jupyter-widgets/controls",
      "_model_module_version": "1.5.0",
      "_model_name": "ProgressStyleModel",
      "_view_count": null,
      "_view_module": "@jupyter-widgets/base",
      "_view_module_version": "1.2.0",
      "_view_name": "StyleView",
      "bar_color": null,
      "description_width": ""
     }
    },
    "9c3c970540ae4fd5ab746ab3f451c86d": {
     "model_module": "@jupyter-widgets/controls",
     "model_module_version": "1.5.0",
     "model_name": "HTMLModel",
     "state": {
      "_dom_classes": [],
      "_model_module": "@jupyter-widgets/controls",
      "_model_module_version": "1.5.0",
      "_model_name": "HTMLModel",
      "_view_count": null,
      "_view_module": "@jupyter-widgets/controls",
      "_view_module_version": "1.5.0",
      "_view_name": "HTMLView",
      "description": "",
      "description_tooltip": null,
      "layout": "IPY_MODEL_840c4abe8c7f40469393ec2489fca99d",
      "placeholder": "​",
      "style": "IPY_MODEL_00cdf24ff8594b90b5a902cef9f21af3",
      "value": " 439M/439M [00:10&lt;00:00, 38.3MB/s]"
     }
    },
    "a09c316b04b84706bb1eee4aa3fb5394": {
     "model_module": "@jupyter-widgets/base",
     "model_module_version": "1.2.0",
     "model_name": "LayoutModel",
     "state": {
      "_model_module": "@jupyter-widgets/base",
      "_model_module_version": "1.2.0",
      "_model_name": "LayoutModel",
      "_view_count": null,
      "_view_module": "@jupyter-widgets/base",
      "_view_module_version": "1.2.0",
      "_view_name": "LayoutView",
      "align_content": null,
      "align_items": null,
      "align_self": null,
      "border": null,
      "bottom": null,
      "display": null,
      "flex": null,
      "flex_flow": null,
      "grid_area": null,
      "grid_auto_columns": null,
      "grid_auto_flow": null,
      "grid_auto_rows": null,
      "grid_column": null,
      "grid_gap": null,
      "grid_row": null,
      "grid_template_areas": null,
      "grid_template_columns": null,
      "grid_template_rows": null,
      "height": null,
      "justify_content": null,
      "justify_items": null,
      "left": null,
      "margin": null,
      "max_height": null,
      "max_width": null,
      "min_height": null,
      "min_width": null,
      "object_fit": null,
      "object_position": null,
      "order": null,
      "overflow": null,
      "overflow_x": null,
      "overflow_y": null,
      "padding": null,
      "right": null,
      "top": null,
      "visibility": null,
      "width": null
     }
    },
    "a1f41814e2e6474db770328fd30ea11f": {
     "model_module": "@jupyter-widgets/controls",
     "model_module_version": "1.5.0",
     "model_name": "DescriptionStyleModel",
     "state": {
      "_model_module": "@jupyter-widgets/controls",
      "_model_module_version": "1.5.0",
      "_model_name": "DescriptionStyleModel",
      "_view_count": null,
      "_view_module": "@jupyter-widgets/base",
      "_view_module_version": "1.2.0",
      "_view_name": "StyleView",
      "description_width": ""
     }
    },
    "a2d2ad0745fe4664be15710ea35102e8": {
     "model_module": "@jupyter-widgets/controls",
     "model_module_version": "1.5.0",
     "model_name": "DescriptionStyleModel",
     "state": {
      "_model_module": "@jupyter-widgets/controls",
      "_model_module_version": "1.5.0",
      "_model_name": "DescriptionStyleModel",
      "_view_count": null,
      "_view_module": "@jupyter-widgets/base",
      "_view_module_version": "1.2.0",
      "_view_name": "StyleView",
      "description_width": ""
     }
    },
    "a334d7df1e5343dfaf1e78af6979baff": {
     "model_module": "@jupyter-widgets/controls",
     "model_module_version": "1.5.0",
     "model_name": "DescriptionStyleModel",
     "state": {
      "_model_module": "@jupyter-widgets/controls",
      "_model_module_version": "1.5.0",
      "_model_name": "DescriptionStyleModel",
      "_view_count": null,
      "_view_module": "@jupyter-widgets/base",
      "_view_module_version": "1.2.0",
      "_view_name": "StyleView",
      "description_width": ""
     }
    },
    "a3ef521bc6f84d6b8259725273d45120": {
     "model_module": "@jupyter-widgets/controls",
     "model_module_version": "1.5.0",
     "model_name": "HTMLModel",
     "state": {
      "_dom_classes": [],
      "_model_module": "@jupyter-widgets/controls",
      "_model_module_version": "1.5.0",
      "_model_name": "HTMLModel",
      "_view_count": null,
      "_view_module": "@jupyter-widgets/controls",
      "_view_module_version": "1.5.0",
      "_view_name": "HTMLView",
      "description": "",
      "description_tooltip": null,
      "layout": "IPY_MODEL_c06b1fa97a144c3cab976627cd0e077a",
      "placeholder": "​",
      "style": "IPY_MODEL_132c45efb37a47bc80ecbaf7621d05e2",
      "value": " 255k/255k [00:00&lt;00:00, 2.81MB/s]"
     }
    },
    "a91fb81a2fbe45af8a4ef496694f2f31": {
     "model_module": "@jupyter-widgets/controls",
     "model_module_version": "1.5.0",
     "model_name": "HBoxModel",
     "state": {
      "_dom_classes": [],
      "_model_module": "@jupyter-widgets/controls",
      "_model_module_version": "1.5.0",
      "_model_name": "HBoxModel",
      "_view_count": null,
      "_view_module": "@jupyter-widgets/controls",
      "_view_module_version": "1.5.0",
      "_view_name": "HBoxView",
      "box_style": "",
      "children": [
       "IPY_MODEL_4383882caa8246ff93e3006dab90e211",
       "IPY_MODEL_be44e551de4b4ac7a43277bf754b88a2",
       "IPY_MODEL_845debd6eaec493991d4f541e4ab623c"
      ],
      "layout": "IPY_MODEL_a09c316b04b84706bb1eee4aa3fb5394"
     }
    },
    "ad9e322eb8584d31bb6b6ef0fd1b0b36": {
     "model_module": "@jupyter-widgets/controls",
     "model_module_version": "1.5.0",
     "model_name": "HBoxModel",
     "state": {
      "_dom_classes": [],
      "_model_module": "@jupyter-widgets/controls",
      "_model_module_version": "1.5.0",
      "_model_name": "HBoxModel",
      "_view_count": null,
      "_view_module": "@jupyter-widgets/controls",
      "_view_module_version": "1.5.0",
      "_view_name": "HBoxView",
      "box_style": "",
      "children": [
       "IPY_MODEL_86211e4736184c948c76102fb48fd94e",
       "IPY_MODEL_e1fc5fe3f5c542dfb37b63dc1fd81f44",
       "IPY_MODEL_e3c5802d37664dbf949620d73dab8c91"
      ],
      "layout": "IPY_MODEL_41fb51849ff3465d8bde2a2fee6f9a62"
     }
    },
    "aeb2ce2bc0034f16965777c1fcd64ef5": {
     "model_module": "@jupyter-widgets/controls",
     "model_module_version": "1.5.0",
     "model_name": "HTMLModel",
     "state": {
      "_dom_classes": [],
      "_model_module": "@jupyter-widgets/controls",
      "_model_module_version": "1.5.0",
      "_model_name": "HTMLModel",
      "_view_count": null,
      "_view_module": "@jupyter-widgets/controls",
      "_view_module_version": "1.5.0",
      "_view_name": "HTMLView",
      "description": "",
      "description_tooltip": null,
      "layout": "IPY_MODEL_2da663b483724216a662cb656275f51c",
      "placeholder": "​",
      "style": "IPY_MODEL_6073b15cef70484a860dad09d5356994",
      "value": " 49.0/49.0 [00:00&lt;00:00, 1.32kB/s]"
     }
    },
    "b657874ebe5b49499062e4a1bd46379f": {
     "model_module": "@jupyter-widgets/controls",
     "model_module_version": "1.5.0",
     "model_name": "HTMLModel",
     "state": {
      "_dom_classes": [],
      "_model_module": "@jupyter-widgets/controls",
      "_model_module_version": "1.5.0",
      "_model_name": "HTMLModel",
      "_view_count": null,
      "_view_module": "@jupyter-widgets/controls",
      "_view_module_version": "1.5.0",
      "_view_name": "HTMLView",
      "description": "",
      "description_tooltip": null,
      "layout": "IPY_MODEL_e56dd4a842964411b381b406938aa070",
      "placeholder": "​",
      "style": "IPY_MODEL_648f4ca349054e08b213fe012bb462cf",
      "value": " 20/20 [00:00&lt;00:00, 186.01 examples/s]"
     }
    },
    "b83e37c9a21448ef8702a80f69d8296b": {
     "model_module": "@jupyter-widgets/base",
     "model_module_version": "1.2.0",
     "model_name": "LayoutModel",
     "state": {
      "_model_module": "@jupyter-widgets/base",
      "_model_module_version": "1.2.0",
      "_model_name": "LayoutModel",
      "_view_count": null,
      "_view_module": "@jupyter-widgets/base",
      "_view_module_version": "1.2.0",
      "_view_name": "LayoutView",
      "align_content": null,
      "align_items": null,
      "align_self": null,
      "border": null,
      "bottom": null,
      "display": null,
      "flex": null,
      "flex_flow": null,
      "grid_area": null,
      "grid_auto_columns": null,
      "grid_auto_flow": null,
      "grid_auto_rows": null,
      "grid_column": null,
      "grid_gap": null,
      "grid_row": null,
      "grid_template_areas": null,
      "grid_template_columns": null,
      "grid_template_rows": null,
      "height": null,
      "justify_content": null,
      "justify_items": null,
      "left": null,
      "margin": null,
      "max_height": null,
      "max_width": null,
      "min_height": null,
      "min_width": null,
      "object_fit": null,
      "object_position": null,
      "order": null,
      "overflow": null,
      "overflow_x": null,
      "overflow_y": null,
      "padding": null,
      "right": null,
      "top": null,
      "visibility": null,
      "width": null
     }
    },
    "b9c9698338d84cac9dc108d8ba205592": {
     "model_module": "@jupyter-widgets/controls",
     "model_module_version": "1.5.0",
     "model_name": "FloatProgressModel",
     "state": {
      "_dom_classes": [],
      "_model_module": "@jupyter-widgets/controls",
      "_model_module_version": "1.5.0",
      "_model_name": "FloatProgressModel",
      "_view_count": null,
      "_view_module": "@jupyter-widgets/controls",
      "_view_module_version": "1.5.0",
      "_view_name": "ProgressView",
      "bar_style": "success",
      "description": "",
      "description_tooltip": null,
      "layout": "IPY_MODEL_cc9ea91505fe48fab23132295b02a920",
      "max": 485115,
      "min": 0,
      "orientation": "horizontal",
      "style": "IPY_MODEL_fb27a91800a94603817104c06d7b8ef8",
      "value": 485115
     }
    },
    "baa7005ccfbc4f32a129e93985531751": {
     "model_module": "@jupyter-widgets/base",
     "model_module_version": "1.2.0",
     "model_name": "LayoutModel",
     "state": {
      "_model_module": "@jupyter-widgets/base",
      "_model_module_version": "1.2.0",
      "_model_name": "LayoutModel",
      "_view_count": null,
      "_view_module": "@jupyter-widgets/base",
      "_view_module_version": "1.2.0",
      "_view_name": "LayoutView",
      "align_content": null,
      "align_items": null,
      "align_self": null,
      "border": null,
      "bottom": null,
      "display": null,
      "flex": null,
      "flex_flow": null,
      "grid_area": null,
      "grid_auto_columns": null,
      "grid_auto_flow": null,
      "grid_auto_rows": null,
      "grid_column": null,
      "grid_gap": null,
      "grid_row": null,
      "grid_template_areas": null,
      "grid_template_columns": null,
      "grid_template_rows": null,
      "height": null,
      "justify_content": null,
      "justify_items": null,
      "left": null,
      "margin": null,
      "max_height": null,
      "max_width": null,
      "min_height": null,
      "min_width": null,
      "object_fit": null,
      "object_position": null,
      "order": null,
      "overflow": null,
      "overflow_x": null,
      "overflow_y": null,
      "padding": null,
      "right": null,
      "top": null,
      "visibility": null,
      "width": null
     }
    },
    "bb79a675d18542f991b579c44337151f": {
     "model_module": "@jupyter-widgets/controls",
     "model_module_version": "1.5.0",
     "model_name": "ProgressStyleModel",
     "state": {
      "_model_module": "@jupyter-widgets/controls",
      "_model_module_version": "1.5.0",
      "_model_name": "ProgressStyleModel",
      "_view_count": null,
      "_view_module": "@jupyter-widgets/base",
      "_view_module_version": "1.2.0",
      "_view_name": "StyleView",
      "bar_color": null,
      "description_width": ""
     }
    },
    "be44e551de4b4ac7a43277bf754b88a2": {
     "model_module": "@jupyter-widgets/controls",
     "model_module_version": "1.5.0",
     "model_name": "FloatProgressModel",
     "state": {
      "_dom_classes": [],
      "_model_module": "@jupyter-widgets/controls",
      "_model_module_version": "1.5.0",
      "_model_name": "FloatProgressModel",
      "_view_count": null,
      "_view_module": "@jupyter-widgets/controls",
      "_view_module_version": "1.5.0",
      "_view_name": "ProgressView",
      "bar_style": "success",
      "description": "",
      "description_tooltip": null,
      "layout": "IPY_MODEL_d35ab330d3244708a7ee165d15c9fce2",
      "max": 433,
      "min": 0,
      "orientation": "horizontal",
      "style": "IPY_MODEL_eaee5c04d8e643c1a4da3adbd636e7aa",
      "value": 433
     }
    },
    "bff4a201fcf842ef871121ccf114eaf6": {
     "model_module": "@jupyter-widgets/controls",
     "model_module_version": "1.5.0",
     "model_name": "HTMLModel",
     "state": {
      "_dom_classes": [],
      "_model_module": "@jupyter-widgets/controls",
      "_model_module_version": "1.5.0",
      "_model_name": "HTMLModel",
      "_view_count": null,
      "_view_module": "@jupyter-widgets/controls",
      "_view_module_version": "1.5.0",
      "_view_name": "HTMLView",
      "description": "",
      "description_tooltip": null,
      "layout": "IPY_MODEL_716d8a6bbe184628836e955bb14ffd18",
      "placeholder": "​",
      "style": "IPY_MODEL_a334d7df1e5343dfaf1e78af6979baff",
      "value": "vocab.txt: 100%"
     }
    },
    "c06b1fa97a144c3cab976627cd0e077a": {
     "model_module": "@jupyter-widgets/base",
     "model_module_version": "1.2.0",
     "model_name": "LayoutModel",
     "state": {
      "_model_module": "@jupyter-widgets/base",
      "_model_module_version": "1.2.0",
      "_model_name": "LayoutModel",
      "_view_count": null,
      "_view_module": "@jupyter-widgets/base",
      "_view_module_version": "1.2.0",
      "_view_name": "LayoutView",
      "align_content": null,
      "align_items": null,
      "align_self": null,
      "border": null,
      "bottom": null,
      "display": null,
      "flex": null,
      "flex_flow": null,
      "grid_area": null,
      "grid_auto_columns": null,
      "grid_auto_flow": null,
      "grid_auto_rows": null,
      "grid_column": null,
      "grid_gap": null,
      "grid_row": null,
      "grid_template_areas": null,
      "grid_template_columns": null,
      "grid_template_rows": null,
      "height": null,
      "justify_content": null,
      "justify_items": null,
      "left": null,
      "margin": null,
      "max_height": null,
      "max_width": null,
      "min_height": null,
      "min_width": null,
      "object_fit": null,
      "object_position": null,
      "order": null,
      "overflow": null,
      "overflow_x": null,
      "overflow_y": null,
      "padding": null,
      "right": null,
      "top": null,
      "visibility": null,
      "width": null
     }
    },
    "c8b2624294884c91a8d1422b49b24562": {
     "model_module": "@jupyter-widgets/controls",
     "model_module_version": "1.5.0",
     "model_name": "DescriptionStyleModel",
     "state": {
      "_model_module": "@jupyter-widgets/controls",
      "_model_module_version": "1.5.0",
      "_model_name": "DescriptionStyleModel",
      "_view_count": null,
      "_view_module": "@jupyter-widgets/base",
      "_view_module_version": "1.2.0",
      "_view_name": "StyleView",
      "description_width": ""
     }
    },
    "cc9ea91505fe48fab23132295b02a920": {
     "model_module": "@jupyter-widgets/base",
     "model_module_version": "1.2.0",
     "model_name": "LayoutModel",
     "state": {
      "_model_module": "@jupyter-widgets/base",
      "_model_module_version": "1.2.0",
      "_model_name": "LayoutModel",
      "_view_count": null,
      "_view_module": "@jupyter-widgets/base",
      "_view_module_version": "1.2.0",
      "_view_name": "LayoutView",
      "align_content": null,
      "align_items": null,
      "align_self": null,
      "border": null,
      "bottom": null,
      "display": null,
      "flex": null,
      "flex_flow": null,
      "grid_area": null,
      "grid_auto_columns": null,
      "grid_auto_flow": null,
      "grid_auto_rows": null,
      "grid_column": null,
      "grid_gap": null,
      "grid_row": null,
      "grid_template_areas": null,
      "grid_template_columns": null,
      "grid_template_rows": null,
      "height": null,
      "justify_content": null,
      "justify_items": null,
      "left": null,
      "margin": null,
      "max_height": null,
      "max_width": null,
      "min_height": null,
      "min_width": null,
      "object_fit": null,
      "object_position": null,
      "order": null,
      "overflow": null,
      "overflow_x": null,
      "overflow_y": null,
      "padding": null,
      "right": null,
      "top": null,
      "visibility": null,
      "width": null
     }
    },
    "d0a726bdfc794fc1a9cf220200ed3051": {
     "model_module": "@jupyter-widgets/controls",
     "model_module_version": "1.5.0",
     "model_name": "HTMLModel",
     "state": {
      "_dom_classes": [],
      "_model_module": "@jupyter-widgets/controls",
      "_model_module_version": "1.5.0",
      "_model_name": "HTMLModel",
      "_view_count": null,
      "_view_module": "@jupyter-widgets/controls",
      "_view_module_version": "1.5.0",
      "_view_name": "HTMLView",
      "description": "",
      "description_tooltip": null,
      "layout": "IPY_MODEL_2638b7e5cace4f43b78e72eb3c66f3fb",
      "placeholder": "​",
      "style": "IPY_MODEL_2b21583767d840f4b97231bab6205c1d",
      "value": "tokenizer_config.json: 100%"
     }
    },
    "d13f1c848bf14ac7a86d65534701849c": {
     "model_module": "@jupyter-widgets/base",
     "model_module_version": "1.2.0",
     "model_name": "LayoutModel",
     "state": {
      "_model_module": "@jupyter-widgets/base",
      "_model_module_version": "1.2.0",
      "_model_name": "LayoutModel",
      "_view_count": null,
      "_view_module": "@jupyter-widgets/base",
      "_view_module_version": "1.2.0",
      "_view_name": "LayoutView",
      "align_content": null,
      "align_items": null,
      "align_self": null,
      "border": null,
      "bottom": null,
      "display": null,
      "flex": null,
      "flex_flow": null,
      "grid_area": null,
      "grid_auto_columns": null,
      "grid_auto_flow": null,
      "grid_auto_rows": null,
      "grid_column": null,
      "grid_gap": null,
      "grid_row": null,
      "grid_template_areas": null,
      "grid_template_columns": null,
      "grid_template_rows": null,
      "height": null,
      "justify_content": null,
      "justify_items": null,
      "left": null,
      "margin": null,
      "max_height": null,
      "max_width": null,
      "min_height": null,
      "min_width": null,
      "object_fit": null,
      "object_position": null,
      "order": null,
      "overflow": null,
      "overflow_x": null,
      "overflow_y": null,
      "padding": null,
      "right": null,
      "top": null,
      "visibility": null,
      "width": null
     }
    },
    "d356eaccff924466a7e62df6039c01e9": {
     "model_module": "@jupyter-widgets/base",
     "model_module_version": "1.2.0",
     "model_name": "LayoutModel",
     "state": {
      "_model_module": "@jupyter-widgets/base",
      "_model_module_version": "1.2.0",
      "_model_name": "LayoutModel",
      "_view_count": null,
      "_view_module": "@jupyter-widgets/base",
      "_view_module_version": "1.2.0",
      "_view_name": "LayoutView",
      "align_content": null,
      "align_items": null,
      "align_self": null,
      "border": null,
      "bottom": null,
      "display": null,
      "flex": null,
      "flex_flow": null,
      "grid_area": null,
      "grid_auto_columns": null,
      "grid_auto_flow": null,
      "grid_auto_rows": null,
      "grid_column": null,
      "grid_gap": null,
      "grid_row": null,
      "grid_template_areas": null,
      "grid_template_columns": null,
      "grid_template_rows": null,
      "height": null,
      "justify_content": null,
      "justify_items": null,
      "left": null,
      "margin": null,
      "max_height": null,
      "max_width": null,
      "min_height": null,
      "min_width": null,
      "object_fit": null,
      "object_position": null,
      "order": null,
      "overflow": null,
      "overflow_x": null,
      "overflow_y": null,
      "padding": null,
      "right": null,
      "top": null,
      "visibility": null,
      "width": null
     }
    },
    "d35ab330d3244708a7ee165d15c9fce2": {
     "model_module": "@jupyter-widgets/base",
     "model_module_version": "1.2.0",
     "model_name": "LayoutModel",
     "state": {
      "_model_module": "@jupyter-widgets/base",
      "_model_module_version": "1.2.0",
      "_model_name": "LayoutModel",
      "_view_count": null,
      "_view_module": "@jupyter-widgets/base",
      "_view_module_version": "1.2.0",
      "_view_name": "LayoutView",
      "align_content": null,
      "align_items": null,
      "align_self": null,
      "border": null,
      "bottom": null,
      "display": null,
      "flex": null,
      "flex_flow": null,
      "grid_area": null,
      "grid_auto_columns": null,
      "grid_auto_flow": null,
      "grid_auto_rows": null,
      "grid_column": null,
      "grid_gap": null,
      "grid_row": null,
      "grid_template_areas": null,
      "grid_template_columns": null,
      "grid_template_rows": null,
      "height": null,
      "justify_content": null,
      "justify_items": null,
      "left": null,
      "margin": null,
      "max_height": null,
      "max_width": null,
      "min_height": null,
      "min_width": null,
      "object_fit": null,
      "object_position": null,
      "order": null,
      "overflow": null,
      "overflow_x": null,
      "overflow_y": null,
      "padding": null,
      "right": null,
      "top": null,
      "visibility": null,
      "width": null
     }
    },
    "d3eeb8e888464a61a3a95b2af0d93c97": {
     "model_module": "@jupyter-widgets/controls",
     "model_module_version": "1.5.0",
     "model_name": "ProgressStyleModel",
     "state": {
      "_model_module": "@jupyter-widgets/controls",
      "_model_module_version": "1.5.0",
      "_model_name": "ProgressStyleModel",
      "_view_count": null,
      "_view_module": "@jupyter-widgets/base",
      "_view_module_version": "1.2.0",
      "_view_name": "StyleView",
      "bar_color": null,
      "description_width": ""
     }
    },
    "db70dcaaff234329b82e5b8a3040df7a": {
     "model_module": "@jupyter-widgets/controls",
     "model_module_version": "1.5.0",
     "model_name": "DescriptionStyleModel",
     "state": {
      "_model_module": "@jupyter-widgets/controls",
      "_model_module_version": "1.5.0",
      "_model_name": "DescriptionStyleModel",
      "_view_count": null,
      "_view_module": "@jupyter-widgets/base",
      "_view_module_version": "1.2.0",
      "_view_name": "StyleView",
      "description_width": ""
     }
    },
    "e18b51efac6147adafccad9d2cfdfa91": {
     "model_module": "@jupyter-widgets/controls",
     "model_module_version": "1.5.0",
     "model_name": "FloatProgressModel",
     "state": {
      "_dom_classes": [],
      "_model_module": "@jupyter-widgets/controls",
      "_model_module_version": "1.5.0",
      "_model_name": "FloatProgressModel",
      "_view_count": null,
      "_view_module": "@jupyter-widgets/controls",
      "_view_module_version": "1.5.0",
      "_view_name": "ProgressView",
      "bar_style": "success",
      "description": "",
      "description_tooltip": null,
      "layout": "IPY_MODEL_fb6eb0ea305b45949e90f1d3a8c1231d",
      "max": 254728,
      "min": 0,
      "orientation": "horizontal",
      "style": "IPY_MODEL_488df2db8a7b481db7527f09f1580434",
      "value": 254728
     }
    },
    "e1fc5fe3f5c542dfb37b63dc1fd81f44": {
     "model_module": "@jupyter-widgets/controls",
     "model_module_version": "1.5.0",
     "model_name": "FloatProgressModel",
     "state": {
      "_dom_classes": [],
      "_model_module": "@jupyter-widgets/controls",
      "_model_module_version": "1.5.0",
      "_model_name": "FloatProgressModel",
      "_view_count": null,
      "_view_module": "@jupyter-widgets/controls",
      "_view_module_version": "1.5.0",
      "_view_name": "ProgressView",
      "bar_style": "success",
      "description": "",
      "description_tooltip": null,
      "layout": "IPY_MODEL_246db317d4aa4139a7a6ec3de9017fea",
      "max": 1,
      "min": 0,
      "orientation": "horizontal",
      "style": "IPY_MODEL_70bf8e35d7d5490c9251660cda49f2ec",
      "value": 1
     }
    },
    "e207811c142f4aefb694d155e89f516f": {
     "model_module": "@jupyter-widgets/controls",
     "model_module_version": "1.5.0",
     "model_name": "HTMLModel",
     "state": {
      "_dom_classes": [],
      "_model_module": "@jupyter-widgets/controls",
      "_model_module_version": "1.5.0",
      "_model_name": "HTMLModel",
      "_view_count": null,
      "_view_module": "@jupyter-widgets/controls",
      "_view_module_version": "1.5.0",
      "_view_name": "HTMLView",
      "description": "",
      "description_tooltip": null,
      "layout": "IPY_MODEL_d13f1c848bf14ac7a86d65534701849c",
      "placeholder": "​",
      "style": "IPY_MODEL_a2d2ad0745fe4664be15710ea35102e8",
      "value": "Downloading builder script: "
     }
    },
    "e2e7903d40e844baa5c0e987839ca85d": {
     "model_module": "@jupyter-widgets/controls",
     "model_module_version": "1.5.0",
     "model_name": "HBoxModel",
     "state": {
      "_dom_classes": [],
      "_model_module": "@jupyter-widgets/controls",
      "_model_module_version": "1.5.0",
      "_model_name": "HBoxModel",
      "_view_count": null,
      "_view_module": "@jupyter-widgets/controls",
      "_view_module_version": "1.5.0",
      "_view_name": "HBoxView",
      "box_style": "",
      "children": [
       "IPY_MODEL_20711b75b41243988ec5182117da5701",
       "IPY_MODEL_b9c9698338d84cac9dc108d8ba205592",
       "IPY_MODEL_e4428267f97945078a3f10f53aab921d"
      ],
      "layout": "IPY_MODEL_e62a2b3e92cf43d98c7f686b5a96a1e4"
     }
    },
    "e3c5802d37664dbf949620d73dab8c91": {
     "model_module": "@jupyter-widgets/controls",
     "model_module_version": "1.5.0",
     "model_name": "HTMLModel",
     "state": {
      "_dom_classes": [],
      "_model_module": "@jupyter-widgets/controls",
      "_model_module_version": "1.5.0",
      "_model_name": "HTMLModel",
      "_view_count": null,
      "_view_module": "@jupyter-widgets/controls",
      "_view_module_version": "1.5.0",
      "_view_name": "HTMLView",
      "description": "",
      "description_tooltip": null,
      "layout": "IPY_MODEL_5ed988657c91479faa48887ed6c09539",
      "placeholder": "​",
      "style": "IPY_MODEL_7c0345be3ef6497bba5eae504fd068de",
      "value": " 4.20k/? [00:00&lt;00:00, 94.2kB/s]"
     }
    },
    "e4428267f97945078a3f10f53aab921d": {
     "model_module": "@jupyter-widgets/controls",
     "model_module_version": "1.5.0",
     "model_name": "HTMLModel",
     "state": {
      "_dom_classes": [],
      "_model_module": "@jupyter-widgets/controls",
      "_model_module_version": "1.5.0",
      "_model_name": "HTMLModel",
      "_view_count": null,
      "_view_module": "@jupyter-widgets/controls",
      "_view_module_version": "1.5.0",
      "_view_name": "HTMLView",
      "description": "",
      "description_tooltip": null,
      "layout": "IPY_MODEL_eeb7d61254ad4d61b9a9e9e187ee771e",
      "placeholder": "​",
      "style": "IPY_MODEL_f2bfea95fe6c491f9a3fc29cff3f49c6",
      "value": " 485k/485k [00:00&lt;00:00, 5.53MB/s]"
     }
    },
    "e56dd4a842964411b381b406938aa070": {
     "model_module": "@jupyter-widgets/base",
     "model_module_version": "1.2.0",
     "model_name": "LayoutModel",
     "state": {
      "_model_module": "@jupyter-widgets/base",
      "_model_module_version": "1.2.0",
      "_model_name": "LayoutModel",
      "_view_count": null,
      "_view_module": "@jupyter-widgets/base",
      "_view_module_version": "1.2.0",
      "_view_name": "LayoutView",
      "align_content": null,
      "align_items": null,
      "align_self": null,
      "border": null,
      "bottom": null,
      "display": null,
      "flex": null,
      "flex_flow": null,
      "grid_area": null,
      "grid_auto_columns": null,
      "grid_auto_flow": null,
      "grid_auto_rows": null,
      "grid_column": null,
      "grid_gap": null,
      "grid_row": null,
      "grid_template_areas": null,
      "grid_template_columns": null,
      "grid_template_rows": null,
      "height": null,
      "justify_content": null,
      "justify_items": null,
      "left": null,
      "margin": null,
      "max_height": null,
      "max_width": null,
      "min_height": null,
      "min_width": null,
      "object_fit": null,
      "object_position": null,
      "order": null,
      "overflow": null,
      "overflow_x": null,
      "overflow_y": null,
      "padding": null,
      "right": null,
      "top": null,
      "visibility": null,
      "width": null
     }
    },
    "e62a2b3e92cf43d98c7f686b5a96a1e4": {
     "model_module": "@jupyter-widgets/base",
     "model_module_version": "1.2.0",
     "model_name": "LayoutModel",
     "state": {
      "_model_module": "@jupyter-widgets/base",
      "_model_module_version": "1.2.0",
      "_model_name": "LayoutModel",
      "_view_count": null,
      "_view_module": "@jupyter-widgets/base",
      "_view_module_version": "1.2.0",
      "_view_name": "LayoutView",
      "align_content": null,
      "align_items": null,
      "align_self": null,
      "border": null,
      "bottom": null,
      "display": null,
      "flex": null,
      "flex_flow": null,
      "grid_area": null,
      "grid_auto_columns": null,
      "grid_auto_flow": null,
      "grid_auto_rows": null,
      "grid_column": null,
      "grid_gap": null,
      "grid_row": null,
      "grid_template_areas": null,
      "grid_template_columns": null,
      "grid_template_rows": null,
      "height": null,
      "justify_content": null,
      "justify_items": null,
      "left": null,
      "margin": null,
      "max_height": null,
      "max_width": null,
      "min_height": null,
      "min_width": null,
      "object_fit": null,
      "object_position": null,
      "order": null,
      "overflow": null,
      "overflow_x": null,
      "overflow_y": null,
      "padding": null,
      "right": null,
      "top": null,
      "visibility": null,
      "width": null
     }
    },
    "e67f549809784041941d0c32efa00a6c": {
     "model_module": "@jupyter-widgets/controls",
     "model_module_version": "1.5.0",
     "model_name": "FloatProgressModel",
     "state": {
      "_dom_classes": [],
      "_model_module": "@jupyter-widgets/controls",
      "_model_module_version": "1.5.0",
      "_model_name": "FloatProgressModel",
      "_view_count": null,
      "_view_module": "@jupyter-widgets/controls",
      "_view_module_version": "1.5.0",
      "_view_name": "ProgressView",
      "bar_style": "success",
      "description": "",
      "description_tooltip": null,
      "layout": "IPY_MODEL_6f207c49de124722b34280aac4513f1c",
      "max": 20,
      "min": 0,
      "orientation": "horizontal",
      "style": "IPY_MODEL_d3eeb8e888464a61a3a95b2af0d93c97",
      "value": 20
     }
    },
    "e745988faf994777b1d3104b6b13710d": {
     "model_module": "@jupyter-widgets/controls",
     "model_module_version": "1.5.0",
     "model_name": "HBoxModel",
     "state": {
      "_dom_classes": [],
      "_model_module": "@jupyter-widgets/controls",
      "_model_module_version": "1.5.0",
      "_model_name": "HBoxModel",
      "_view_count": null,
      "_view_module": "@jupyter-widgets/controls",
      "_view_module_version": "1.5.0",
      "_view_name": "HBoxView",
      "box_style": "",
      "children": [
       "IPY_MODEL_53e10673dcb2453689e47a4b9b3270dc",
       "IPY_MODEL_0e9e4299bcc3440d9d823e9cd69ccb48",
       "IPY_MODEL_4d3f50a398ff4d30a4993bd5046e5f97"
      ],
      "layout": "IPY_MODEL_6ea8d3bedcb44d628eeae0d89abb2d39"
     }
    },
    "e77321f8f7be42b2be396b2b21792709": {
     "model_module": "@jupyter-widgets/controls",
     "model_module_version": "1.5.0",
     "model_name": "FloatProgressModel",
     "state": {
      "_dom_classes": [],
      "_model_module": "@jupyter-widgets/controls",
      "_model_module_version": "1.5.0",
      "_model_name": "FloatProgressModel",
      "_view_count": null,
      "_view_module": "@jupyter-widgets/controls",
      "_view_module_version": "1.5.0",
      "_view_name": "ProgressView",
      "bar_style": "success",
      "description": "",
      "description_tooltip": null,
      "layout": "IPY_MODEL_0f8644423d424373afd81b7be748573b",
      "max": 49,
      "min": 0,
      "orientation": "horizontal",
      "style": "IPY_MODEL_4441b099b7a5430e928446f2c94ff34f",
      "value": 49
     }
    },
    "eaee5c04d8e643c1a4da3adbd636e7aa": {
     "model_module": "@jupyter-widgets/controls",
     "model_module_version": "1.5.0",
     "model_name": "ProgressStyleModel",
     "state": {
      "_model_module": "@jupyter-widgets/controls",
      "_model_module_version": "1.5.0",
      "_model_name": "ProgressStyleModel",
      "_view_count": null,
      "_view_module": "@jupyter-widgets/base",
      "_view_module_version": "1.2.0",
      "_view_name": "StyleView",
      "bar_color": null,
      "description_width": ""
     }
    },
    "ee692411fb7643e7ac822db38842a149": {
     "model_module": "@jupyter-widgets/controls",
     "model_module_version": "1.5.0",
     "model_name": "FloatProgressModel",
     "state": {
      "_dom_classes": [],
      "_model_module": "@jupyter-widgets/controls",
      "_model_module_version": "1.5.0",
      "_model_name": "FloatProgressModel",
      "_view_count": null,
      "_view_module": "@jupyter-widgets/controls",
      "_view_module_version": "1.5.0",
      "_view_name": "ProgressView",
      "bar_style": "success",
      "description": "",
      "description_tooltip": null,
      "layout": "IPY_MODEL_55bc134d7e6e4d34bb87330015efc78b",
      "max": 1,
      "min": 0,
      "orientation": "horizontal",
      "style": "IPY_MODEL_9abc79b18a2449489a1b38be0f021243",
      "value": 1
     }
    },
    "eeb7d61254ad4d61b9a9e9e187ee771e": {
     "model_module": "@jupyter-widgets/base",
     "model_module_version": "1.2.0",
     "model_name": "LayoutModel",
     "state": {
      "_model_module": "@jupyter-widgets/base",
      "_model_module_version": "1.2.0",
      "_model_name": "LayoutModel",
      "_view_count": null,
      "_view_module": "@jupyter-widgets/base",
      "_view_module_version": "1.2.0",
      "_view_name": "LayoutView",
      "align_content": null,
      "align_items": null,
      "align_self": null,
      "border": null,
      "bottom": null,
      "display": null,
      "flex": null,
      "flex_flow": null,
      "grid_area": null,
      "grid_auto_columns": null,
      "grid_auto_flow": null,
      "grid_auto_rows": null,
      "grid_column": null,
      "grid_gap": null,
      "grid_row": null,
      "grid_template_areas": null,
      "grid_template_columns": null,
      "grid_template_rows": null,
      "height": null,
      "justify_content": null,
      "justify_items": null,
      "left": null,
      "margin": null,
      "max_height": null,
      "max_width": null,
      "min_height": null,
      "min_width": null,
      "object_fit": null,
      "object_position": null,
      "order": null,
      "overflow": null,
      "overflow_x": null,
      "overflow_y": null,
      "padding": null,
      "right": null,
      "top": null,
      "visibility": null,
      "width": null
     }
    },
    "f2bfea95fe6c491f9a3fc29cff3f49c6": {
     "model_module": "@jupyter-widgets/controls",
     "model_module_version": "1.5.0",
     "model_name": "DescriptionStyleModel",
     "state": {
      "_model_module": "@jupyter-widgets/controls",
      "_model_module_version": "1.5.0",
      "_model_name": "DescriptionStyleModel",
      "_view_count": null,
      "_view_module": "@jupyter-widgets/base",
      "_view_module_version": "1.2.0",
      "_view_name": "StyleView",
      "description_width": ""
     }
    },
    "f5c69920efcd406e943d915c16568424": {
     "model_module": "@jupyter-widgets/controls",
     "model_module_version": "1.5.0",
     "model_name": "HTMLModel",
     "state": {
      "_dom_classes": [],
      "_model_module": "@jupyter-widgets/controls",
      "_model_module_version": "1.5.0",
      "_model_name": "HTMLModel",
      "_view_count": null,
      "_view_module": "@jupyter-widgets/controls",
      "_view_module_version": "1.5.0",
      "_view_name": "HTMLView",
      "description": "",
      "description_tooltip": null,
      "layout": "IPY_MODEL_6b0cf1c0f21d4bf8bfa1cd9486bca0fd",
      "placeholder": "​",
      "style": "IPY_MODEL_6bda7cac2a9b481fbcf8df25e934a1d9",
      "value": "model.safetensors: 100%"
     }
    },
    "f9041976f3e8432198e88b933fdca829": {
     "model_module": "@jupyter-widgets/base",
     "model_module_version": "1.2.0",
     "model_name": "LayoutModel",
     "state": {
      "_model_module": "@jupyter-widgets/base",
      "_model_module_version": "1.2.0",
      "_model_name": "LayoutModel",
      "_view_count": null,
      "_view_module": "@jupyter-widgets/base",
      "_view_module_version": "1.2.0",
      "_view_name": "LayoutView",
      "align_content": null,
      "align_items": null,
      "align_self": null,
      "border": null,
      "bottom": null,
      "display": null,
      "flex": null,
      "flex_flow": null,
      "grid_area": null,
      "grid_auto_columns": null,
      "grid_auto_flow": null,
      "grid_auto_rows": null,
      "grid_column": null,
      "grid_gap": null,
      "grid_row": null,
      "grid_template_areas": null,
      "grid_template_columns": null,
      "grid_template_rows": null,
      "height": null,
      "justify_content": null,
      "justify_items": null,
      "left": null,
      "margin": null,
      "max_height": null,
      "max_width": null,
      "min_height": null,
      "min_width": null,
      "object_fit": null,
      "object_position": null,
      "order": null,
      "overflow": null,
      "overflow_x": null,
      "overflow_y": null,
      "padding": null,
      "right": null,
      "top": null,
      "visibility": null,
      "width": null
     }
    },
    "fb27a91800a94603817104c06d7b8ef8": {
     "model_module": "@jupyter-widgets/controls",
     "model_module_version": "1.5.0",
     "model_name": "ProgressStyleModel",
     "state": {
      "_model_module": "@jupyter-widgets/controls",
      "_model_module_version": "1.5.0",
      "_model_name": "ProgressStyleModel",
      "_view_count": null,
      "_view_module": "@jupyter-widgets/base",
      "_view_module_version": "1.2.0",
      "_view_name": "StyleView",
      "bar_color": null,
      "description_width": ""
     }
    },
    "fb6eb0ea305b45949e90f1d3a8c1231d": {
     "model_module": "@jupyter-widgets/base",
     "model_module_version": "1.2.0",
     "model_name": "LayoutModel",
     "state": {
      "_model_module": "@jupyter-widgets/base",
      "_model_module_version": "1.2.0",
      "_model_name": "LayoutModel",
      "_view_count": null,
      "_view_module": "@jupyter-widgets/base",
      "_view_module_version": "1.2.0",
      "_view_name": "LayoutView",
      "align_content": null,
      "align_items": null,
      "align_self": null,
      "border": null,
      "bottom": null,
      "display": null,
      "flex": null,
      "flex_flow": null,
      "grid_area": null,
      "grid_auto_columns": null,
      "grid_auto_flow": null,
      "grid_auto_rows": null,
      "grid_column": null,
      "grid_gap": null,
      "grid_row": null,
      "grid_template_areas": null,
      "grid_template_columns": null,
      "grid_template_rows": null,
      "height": null,
      "justify_content": null,
      "justify_items": null,
      "left": null,
      "margin": null,
      "max_height": null,
      "max_width": null,
      "min_height": null,
      "min_width": null,
      "object_fit": null,
      "object_position": null,
      "order": null,
      "overflow": null,
      "overflow_x": null,
      "overflow_y": null,
      "padding": null,
      "right": null,
      "top": null,
      "visibility": null,
      "width": null
     }
    }
   }
  }
 },
 "nbformat": 4,
 "nbformat_minor": 5
}
