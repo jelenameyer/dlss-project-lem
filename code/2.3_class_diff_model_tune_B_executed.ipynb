{
 "cells": [
  {
   "cell_type": "markdown",
   "id": "c1f1e0cb",
   "metadata": {
    "id": "c1f1e0cb"
   },
   "source": [
    "# Fine-tuning Classifier LLM\n"
   ]
  },
  {
   "cell_type": "code",
   "execution_count": 1,
   "id": "ckZZS35tHw5Y",
   "metadata": {
    "colab": {
     "base_uri": "https://localhost:8080/"
    },
    "collapsed": true,
    "id": "ckZZS35tHw5Y",
    "jupyter": {
     "outputs_hidden": true
    },
    "outputId": "7305c179-0844-44d7-ed93-abef558dd5ed",
    "scrolled": true
   },
   "outputs": [
    {
     "name": "stdout",
     "output_type": "stream",
     "text": [
      "Requirement already satisfied: optuna in /opt/conda/lib/python3.11/site-packages (4.4.0)\n",
      "Requirement already satisfied: alembic>=1.5.0 in /opt/conda/lib/python3.11/site-packages (from optuna) (1.12.0)\n",
      "Requirement already satisfied: colorlog in /opt/conda/lib/python3.11/site-packages (from optuna) (6.9.0)\n",
      "Requirement already satisfied: numpy in /opt/conda/lib/python3.11/site-packages (from optuna) (1.24.4)\n",
      "Requirement already satisfied: packaging>=20.0 in /opt/conda/lib/python3.11/site-packages (from optuna) (23.2)\n",
      "Requirement already satisfied: sqlalchemy>=1.4.2 in /opt/conda/lib/python3.11/site-packages (from optuna) (2.0.22)\n",
      "Requirement already satisfied: tqdm in /opt/conda/lib/python3.11/site-packages (from optuna) (4.67.1)\n",
      "Requirement already satisfied: PyYAML in /opt/conda/lib/python3.11/site-packages (from optuna) (6.0.1)\n",
      "Requirement already satisfied: Mako in /opt/conda/lib/python3.11/site-packages (from alembic>=1.5.0->optuna) (1.2.4)\n",
      "Requirement already satisfied: typing-extensions>=4 in /opt/conda/lib/python3.11/site-packages (from alembic>=1.5.0->optuna) (4.14.1)\n",
      "Requirement already satisfied: greenlet!=0.4.17 in /opt/conda/lib/python3.11/site-packages (from sqlalchemy>=1.4.2->optuna) (3.0.0)\n",
      "Requirement already satisfied: MarkupSafe>=0.9.2 in /opt/conda/lib/python3.11/site-packages (from Mako->alembic>=1.5.0->optuna) (2.1.3)\n",
      "Requirement already satisfied: typing in /opt/conda/lib/python3.11/site-packages (3.7.4.3)\n",
      "Requirement already satisfied: evaluate in /opt/conda/lib/python3.11/site-packages (0.4.5)\n",
      "Requirement already satisfied: datasets>=2.0.0 in /opt/conda/lib/python3.11/site-packages (from evaluate) (4.0.0)\n",
      "Requirement already satisfied: numpy>=1.17 in /opt/conda/lib/python3.11/site-packages (from evaluate) (1.24.4)\n",
      "Requirement already satisfied: dill in /opt/conda/lib/python3.11/site-packages (from evaluate) (0.3.8)\n",
      "Requirement already satisfied: pandas in /opt/conda/lib/python3.11/site-packages (from evaluate) (2.1.1)\n",
      "Requirement already satisfied: requests>=2.19.0 in /opt/conda/lib/python3.11/site-packages (from evaluate) (2.32.4)\n",
      "Requirement already satisfied: tqdm>=4.62.1 in /opt/conda/lib/python3.11/site-packages (from evaluate) (4.67.1)\n",
      "Requirement already satisfied: xxhash in /opt/conda/lib/python3.11/site-packages (from evaluate) (3.5.0)\n",
      "Requirement already satisfied: multiprocess in /opt/conda/lib/python3.11/site-packages (from evaluate) (0.70.16)\n",
      "Requirement already satisfied: fsspec>=2021.05.0 in /opt/conda/lib/python3.11/site-packages (from fsspec[http]>=2021.05.0->evaluate) (2023.9.2)\n",
      "Requirement already satisfied: huggingface-hub>=0.7.0 in /opt/conda/lib/python3.11/site-packages (from evaluate) (0.34.3)\n",
      "Requirement already satisfied: packaging in /opt/conda/lib/python3.11/site-packages (from evaluate) (23.2)\n",
      "Requirement already satisfied: filelock in /opt/conda/lib/python3.11/site-packages (from datasets>=2.0.0->evaluate) (3.18.0)\n",
      "Requirement already satisfied: pyarrow>=15.0.0 in /opt/conda/lib/python3.11/site-packages (from datasets>=2.0.0->evaluate) (21.0.0)\n",
      "Requirement already satisfied: pyyaml>=5.1 in /opt/conda/lib/python3.11/site-packages (from datasets>=2.0.0->evaluate) (6.0.1)\n",
      "Requirement already satisfied: aiohttp!=4.0.0a0,!=4.0.0a1 in /opt/conda/lib/python3.11/site-packages (from fsspec[http]>=2021.05.0->evaluate) (3.8.6)\n",
      "Requirement already satisfied: typing-extensions>=3.7.4.3 in /opt/conda/lib/python3.11/site-packages (from huggingface-hub>=0.7.0->evaluate) (4.14.1)\n",
      "Requirement already satisfied: hf-xet<2.0.0,>=1.1.3 in /opt/conda/lib/python3.11/site-packages (from huggingface-hub>=0.7.0->evaluate) (1.1.5)\n",
      "Requirement already satisfied: charset_normalizer<4,>=2 in /opt/conda/lib/python3.11/site-packages (from requests>=2.19.0->evaluate) (3.3.0)\n",
      "Requirement already satisfied: idna<4,>=2.5 in /opt/conda/lib/python3.11/site-packages (from requests>=2.19.0->evaluate) (3.4)\n",
      "Requirement already satisfied: urllib3<3,>=1.21.1 in /opt/conda/lib/python3.11/site-packages (from requests>=2.19.0->evaluate) (2.0.7)\n",
      "Requirement already satisfied: certifi>=2017.4.17 in /opt/conda/lib/python3.11/site-packages (from requests>=2.19.0->evaluate) (2023.7.22)\n",
      "Requirement already satisfied: python-dateutil>=2.8.2 in /opt/conda/lib/python3.11/site-packages (from pandas->evaluate) (2.8.2)\n",
      "Requirement already satisfied: pytz>=2020.1 in /opt/conda/lib/python3.11/site-packages (from pandas->evaluate) (2023.3.post1)\n",
      "Requirement already satisfied: tzdata>=2022.1 in /opt/conda/lib/python3.11/site-packages (from pandas->evaluate) (2023.3)\n",
      "Requirement already satisfied: attrs>=17.3.0 in /opt/conda/lib/python3.11/site-packages (from aiohttp!=4.0.0a0,!=4.0.0a1->fsspec[http]>=2021.05.0->evaluate) (23.1.0)\n",
      "Requirement already satisfied: multidict<7.0,>=4.5 in /opt/conda/lib/python3.11/site-packages (from aiohttp!=4.0.0a0,!=4.0.0a1->fsspec[http]>=2021.05.0->evaluate) (6.0.4)\n",
      "Requirement already satisfied: async-timeout<5.0,>=4.0.0a3 in /opt/conda/lib/python3.11/site-packages (from aiohttp!=4.0.0a0,!=4.0.0a1->fsspec[http]>=2021.05.0->evaluate) (4.0.3)\n",
      "Requirement already satisfied: yarl<2.0,>=1.0 in /opt/conda/lib/python3.11/site-packages (from aiohttp!=4.0.0a0,!=4.0.0a1->fsspec[http]>=2021.05.0->evaluate) (1.9.2)\n",
      "Requirement already satisfied: frozenlist>=1.1.1 in /opt/conda/lib/python3.11/site-packages (from aiohttp!=4.0.0a0,!=4.0.0a1->fsspec[http]>=2021.05.0->evaluate) (1.4.0)\n",
      "Requirement already satisfied: aiosignal>=1.1.2 in /opt/conda/lib/python3.11/site-packages (from aiohttp!=4.0.0a0,!=4.0.0a1->fsspec[http]>=2021.05.0->evaluate) (1.3.1)\n",
      "Requirement already satisfied: six>=1.5 in /opt/conda/lib/python3.11/site-packages (from python-dateutil>=2.8.2->pandas->evaluate) (1.16.0)\n",
      "Requirement already satisfied: torch in /opt/conda/lib/python3.11/site-packages (2.7.1)\n",
      "Requirement already satisfied: filelock in /opt/conda/lib/python3.11/site-packages (from torch) (3.18.0)\n",
      "Requirement already satisfied: typing-extensions>=4.10.0 in /opt/conda/lib/python3.11/site-packages (from torch) (4.14.1)\n",
      "Requirement already satisfied: sympy>=1.13.3 in /opt/conda/lib/python3.11/site-packages (from torch) (1.14.0)\n",
      "Requirement already satisfied: networkx in /opt/conda/lib/python3.11/site-packages (from torch) (3.2)\n",
      "Requirement already satisfied: jinja2 in /opt/conda/lib/python3.11/site-packages (from torch) (3.1.2)\n",
      "Requirement already satisfied: fsspec in /opt/conda/lib/python3.11/site-packages (from torch) (2023.9.2)\n",
      "Requirement already satisfied: nvidia-cuda-nvrtc-cu12==12.6.77 in /opt/conda/lib/python3.11/site-packages (from torch) (12.6.77)\n",
      "Requirement already satisfied: nvidia-cuda-runtime-cu12==12.6.77 in /opt/conda/lib/python3.11/site-packages (from torch) (12.6.77)\n",
      "Requirement already satisfied: nvidia-cuda-cupti-cu12==12.6.80 in /opt/conda/lib/python3.11/site-packages (from torch) (12.6.80)\n",
      "Requirement already satisfied: nvidia-cudnn-cu12==9.5.1.17 in /opt/conda/lib/python3.11/site-packages (from torch) (9.5.1.17)\n",
      "Requirement already satisfied: nvidia-cublas-cu12==12.6.4.1 in /opt/conda/lib/python3.11/site-packages (from torch) (12.6.4.1)\n",
      "Requirement already satisfied: nvidia-cufft-cu12==11.3.0.4 in /opt/conda/lib/python3.11/site-packages (from torch) (11.3.0.4)\n",
      "Requirement already satisfied: nvidia-curand-cu12==10.3.7.77 in /opt/conda/lib/python3.11/site-packages (from torch) (10.3.7.77)\n",
      "Requirement already satisfied: nvidia-cusolver-cu12==11.7.1.2 in /opt/conda/lib/python3.11/site-packages (from torch) (11.7.1.2)\n",
      "Requirement already satisfied: nvidia-cusparse-cu12==12.5.4.2 in /opt/conda/lib/python3.11/site-packages (from torch) (12.5.4.2)\n",
      "Requirement already satisfied: nvidia-cusparselt-cu12==0.6.3 in /opt/conda/lib/python3.11/site-packages (from torch) (0.6.3)\n",
      "Requirement already satisfied: nvidia-nccl-cu12==2.26.2 in /opt/conda/lib/python3.11/site-packages (from torch) (2.26.2)\n",
      "Requirement already satisfied: nvidia-nvtx-cu12==12.6.77 in /opt/conda/lib/python3.11/site-packages (from torch) (12.6.77)\n",
      "Requirement already satisfied: nvidia-nvjitlink-cu12==12.6.85 in /opt/conda/lib/python3.11/site-packages (from torch) (12.6.85)\n",
      "Requirement already satisfied: nvidia-cufile-cu12==1.11.1.6 in /opt/conda/lib/python3.11/site-packages (from torch) (1.11.1.6)\n",
      "Requirement already satisfied: triton==3.3.1 in /opt/conda/lib/python3.11/site-packages (from torch) (3.3.1)\n",
      "Requirement already satisfied: setuptools>=40.8.0 in /opt/conda/lib/python3.11/site-packages (from triton==3.3.1->torch) (68.2.2)\n",
      "Requirement already satisfied: mpmath<1.4,>=1.1.0 in /opt/conda/lib/python3.11/site-packages (from sympy>=1.13.3->torch) (1.3.0)\n",
      "Requirement already satisfied: MarkupSafe>=2.0 in /opt/conda/lib/python3.11/site-packages (from jinja2->torch) (2.1.3)\n",
      "Collecting transformers\n",
      "  Downloading transformers-4.55.0-py3-none-any.whl.metadata (39 kB)\n",
      "Requirement already satisfied: filelock in /opt/conda/lib/python3.11/site-packages (from transformers) (3.18.0)\n",
      "Requirement already satisfied: huggingface-hub<1.0,>=0.34.0 in /opt/conda/lib/python3.11/site-packages (from transformers) (0.34.3)\n",
      "Requirement already satisfied: numpy>=1.17 in /opt/conda/lib/python3.11/site-packages (from transformers) (1.24.4)\n",
      "Requirement already satisfied: packaging>=20.0 in /opt/conda/lib/python3.11/site-packages (from transformers) (23.2)\n",
      "Requirement already satisfied: pyyaml>=5.1 in /opt/conda/lib/python3.11/site-packages (from transformers) (6.0.1)\n",
      "Collecting regex!=2019.12.17 (from transformers)\n",
      "  Using cached regex-2025.7.34-cp311-cp311-manylinux2014_x86_64.manylinux_2_17_x86_64.manylinux_2_28_x86_64.whl.metadata (40 kB)\n",
      "Requirement already satisfied: requests in /opt/conda/lib/python3.11/site-packages (from transformers) (2.32.4)\n",
      "Collecting tokenizers<0.22,>=0.21 (from transformers)\n",
      "  Using cached tokenizers-0.21.4-cp39-abi3-manylinux_2_17_x86_64.manylinux2014_x86_64.whl.metadata (6.7 kB)\n",
      "Collecting safetensors>=0.4.3 (from transformers)\n",
      "  Using cached safetensors-0.5.3-cp38-abi3-manylinux_2_17_x86_64.manylinux2014_x86_64.whl.metadata (3.8 kB)\n",
      "Requirement already satisfied: tqdm>=4.27 in /opt/conda/lib/python3.11/site-packages (from transformers) (4.67.1)\n",
      "Requirement already satisfied: fsspec>=2023.5.0 in /opt/conda/lib/python3.11/site-packages (from huggingface-hub<1.0,>=0.34.0->transformers) (2023.9.2)\n",
      "Requirement already satisfied: typing-extensions>=3.7.4.3 in /opt/conda/lib/python3.11/site-packages (from huggingface-hub<1.0,>=0.34.0->transformers) (4.14.1)\n",
      "Requirement already satisfied: hf-xet<2.0.0,>=1.1.3 in /opt/conda/lib/python3.11/site-packages (from huggingface-hub<1.0,>=0.34.0->transformers) (1.1.5)\n",
      "Requirement already satisfied: charset_normalizer<4,>=2 in /opt/conda/lib/python3.11/site-packages (from requests->transformers) (3.3.0)\n",
      "Requirement already satisfied: idna<4,>=2.5 in /opt/conda/lib/python3.11/site-packages (from requests->transformers) (3.4)\n",
      "Requirement already satisfied: urllib3<3,>=1.21.1 in /opt/conda/lib/python3.11/site-packages (from requests->transformers) (2.0.7)\n",
      "Requirement already satisfied: certifi>=2017.4.17 in /opt/conda/lib/python3.11/site-packages (from requests->transformers) (2023.7.22)\n",
      "Downloading transformers-4.55.0-py3-none-any.whl (11.3 MB)\n",
      "\u001b[2K   \u001b[90m━━━━━━━━━━━━━━━━━━━━━━━━━━━━━━━━━━━━━━━━\u001b[0m \u001b[32m11.3/11.3 MB\u001b[0m \u001b[31m37.6 MB/s\u001b[0m eta \u001b[36m0:00:00\u001b[0m00:01\u001b[0m0:01\u001b[0m\n",
      "\u001b[?25hUsing cached regex-2025.7.34-cp311-cp311-manylinux2014_x86_64.manylinux_2_17_x86_64.manylinux_2_28_x86_64.whl (798 kB)\n",
      "Using cached safetensors-0.5.3-cp38-abi3-manylinux_2_17_x86_64.manylinux2014_x86_64.whl (471 kB)\n",
      "Using cached tokenizers-0.21.4-cp39-abi3-manylinux_2_17_x86_64.manylinux2014_x86_64.whl (3.1 MB)\n",
      "Installing collected packages: safetensors, regex, tokenizers, transformers\n",
      "Successfully installed regex-2025.7.34 safetensors-0.5.3 tokenizers-0.21.4 transformers-4.55.0\n"
     ]
    }
   ],
   "source": [
    "!pip install optuna\n",
    "!pip install typing\n",
    "!pip install evaluate\n",
    "!pip install torch\n",
    "!pip install transformers\n",
    "!pip install accelerate>=0.26.0"
   ]
  },
  {
   "cell_type": "code",
   "execution_count": 2,
   "id": "605d0b0a",
   "metadata": {
    "colab": {
     "base_uri": "https://localhost:8080/"
    },
    "id": "605d0b0a",
    "outputId": "32e8b141-0bdf-4a97-e929-5411e74be9f5"
   },
   "outputs": [
    {
     "name": "stdout",
     "output_type": "stream",
     "text": [
      "cuda\n"
     ]
    }
   ],
   "source": [
    "# setup - load packages\n",
    "import pandas as pd\n",
    "from datasets import Dataset, load_dataset\n",
    "import torch\n",
    "import numpy as np\n",
    "from transformers import AutoTokenizer, AutoModelForSequenceClassification\n",
    "import torch.nn.functional as F\n",
    "from sklearn.metrics import (\n",
    "    accuracy_score,\n",
    "    classification_report,\n",
    "    confusion_matrix,\n",
    "    f1_score,\n",
    "    precision_score,\n",
    "    recall_score,\n",
    "    balanced_accuracy_score\n",
    ")\n",
    "import matplotlib.pyplot as plt\n",
    "import seaborn as sns\n",
    "from transformers import TrainingArguments, Trainer, DataCollatorWithPadding\n",
    "from typing import Union, Mapping, List, Dict, Any\n",
    "import evaluate\n",
    "from tqdm import tqdm\n",
    "import zipfile\n",
    "import os\n",
    "from sklearn.utils.class_weight import compute_class_weight\n",
    "\n",
    "# Set up device (is available use GPU to speed up computations)\n",
    "device = torch.device(\"cuda\" if torch.cuda.is_available() else \"cpu\")\n",
    "print(device)\n",
    "\n",
    "seed = 13"
   ]
  },
  {
   "cell_type": "markdown",
   "id": "cTDSganZ_MP6",
   "metadata": {
    "id": "cTDSganZ_MP6"
   },
   "source": [
    "## VERSION B"
   ]
  },
  {
   "cell_type": "code",
   "execution_count": 3,
   "id": "9124e7b1",
   "metadata": {
    "colab": {
     "base_uri": "https://localhost:8080/",
     "height": 104,
     "referenced_widgets": [
      "5a18a8608e0b4874b2147a8c4179f4ec",
      "f81db139a4d44fa89133f78c062537fa",
      "5ab9d8e85b5b4de196a01d0a7a07d5dd",
      "6cd0f87dad9a444daf182e209dfb23c5",
      "5214d01cc78f4f72b8a243a4861ad36d",
      "51e9de3ef2ec47ff9608f9e91abd09ce",
      "c281abb94bca41b48a2741256db3bb74",
      "789732f7667648b595d730352d32bc9f",
      "b44b6fb0b28c4a3b98d4c87259e6a10c",
      "2d629ce2c4584ce59530bb367a66a520",
      "4f7d83b11187462cb85f912ce147ae33"
     ]
    },
    "id": "9124e7b1",
    "outputId": "d2750469-10bb-4c77-ce81-de149ea01894"
   },
   "outputs": [
    {
     "data": {
      "application/vnd.jupyter.widget-view+json": {
       "model_id": "d885d38824444122ba5d516d35cd389e",
       "version_major": 2,
       "version_minor": 0
      },
      "text/plain": [
       "Map:   0%|          | 0/36117 [00:00<?, ? examples/s]"
      ]
     },
     "metadata": {},
     "output_type": "display_data"
    },
    {
     "name": "stdout",
     "output_type": "stream",
     "text": [
      "Training samples party: 25281\n",
      "Test samples party: 5418\n",
      "Validation samples party: 5418\n"
     ]
    }
   ],
   "source": [
    "classifier_data = pd.read_csv(\"../data/classifier_data_B.csv\")\n",
    "# converting to huggingface dataset format\n",
    "data = Dataset.from_pandas(classifier_data)\n",
    "# splitting into train, test and validation sets\n",
    "\n",
    "label_names = ['CDU/CSU', 'SPD', 'GRÜNE', 'FDP', 'AfD', 'LINKE']\n",
    "label2id = {label: i for i, label in enumerate(sorted(label_names))}\n",
    "id2label = {i: label for label, i in label2id.items()}\n",
    "def map_labels(example):\n",
    "    example[\"label\"] = label2id[example[\"label\"]]\n",
    "    return example\n",
    "data = data.map(map_labels)\n",
    "\n",
    "\n",
    "# shuffling data\n",
    "raw_dataset = data.shuffle(seed=seed)\n",
    "\n",
    "# 70% train, 15% test, 15% validation data\n",
    "split = raw_dataset.train_test_split(test_size=0.3, seed=seed)\n",
    "train_data = split[\"train\"]\n",
    "text_and_val_data = split[\"test\"]\n",
    "split = text_and_val_data.train_test_split(test_size=0.5, seed=seed)\n",
    "test_data = split[\"train\"]\n",
    "val_data = split[\"test\"]\n",
    "\n",
    "print(f\"Training samples party: {len(train_data)}\")\n",
    "print(f\"Test samples party: {len(test_data)}\")\n",
    "print(f\"Validation samples party: {len(val_data)}\")\n",
    "\n"
   ]
  },
  {
   "cell_type": "code",
   "execution_count": 4,
   "id": "d22cf633",
   "metadata": {
    "id": "d22cf633"
   },
   "outputs": [],
   "source": [
    "# subset of train and val data for auto-tuning\n",
    "train_data_for_tune = train_data.shuffle(seed=seed)\n",
    "val_data_for_tune = val_data.shuffle(seed=seed)\n",
    "\n",
    "# subsetting roughly 20-25% of train and vall data for tuning\n",
    "train_data_for_tune = train_data_for_tune.select(range(6000))\n",
    "val_data_for_tune = val_data_for_tune.select(range(1000))\n"
   ]
  },
  {
   "cell_type": "code",
   "execution_count": 5,
   "id": "VyE4O3KaH62E",
   "metadata": {
    "colab": {
     "base_uri": "https://localhost:8080/"
    },
    "id": "VyE4O3KaH62E",
    "outputId": "ad98541d-27f3-4ee5-a971-c5d091331a3f"
   },
   "outputs": [
    {
     "data": {
      "text/plain": [
       "tensor([1.1977, 0.6153, 1.2799, 1.1866, 1.7240, 0.7487])"
      ]
     },
     "execution_count": 5,
     "metadata": {},
     "output_type": "execute_result"
    }
   ],
   "source": [
    "# compute class weights\n",
    "# Get raw labels as a list of integers\n",
    "all_train_labels = train_data[\"label\"]\n",
    "\n",
    "# Compute unique class values\n",
    "unique_labels = np.unique(all_train_labels)\n",
    "\n",
    "# Compute weights\n",
    "class_weights = compute_class_weight(\n",
    "    class_weight=\"balanced\",\n",
    "    classes=unique_labels,\n",
    "    y=all_train_labels\n",
    ")\n",
    "class_weights = torch.tensor(class_weights, dtype=torch.float)\n",
    "class_weights"
   ]
  },
  {
   "cell_type": "code",
   "execution_count": 6,
   "id": "e176c9d3",
   "metadata": {
    "id": "e176c9d3"
   },
   "outputs": [],
   "source": [
    "WINDOW_LENGTH = 512\n",
    "STRIDE = 256"
   ]
  },
  {
   "cell_type": "code",
   "execution_count": 7,
   "id": "fd8bc2b5",
   "metadata": {
    "id": "fd8bc2b5"
   },
   "outputs": [],
   "source": [
    "# Load Tokenizer\n",
    "model_name = \"deepset/gbert-base\"\n",
    "num_labels = 6\n",
    "tokenizer = AutoTokenizer.from_pretrained(\n",
    "    model_name,\n",
    "    model_max_length=WINDOW_LENGTH\n",
    ")\n"
   ]
  },
  {
   "cell_type": "code",
   "execution_count": 8,
   "id": "9f3ed929",
   "metadata": {
    "id": "9f3ed929"
   },
   "outputs": [],
   "source": [
    "def sliding_window_tokenize(batch):\n",
    "    texts = batch[\"speech_text\"]\n",
    "    labels = batch[\"label\"]  # ensure this is a flat list of ints\n",
    "\n",
    "    tokenized = tokenizer(\n",
    "        texts,\n",
    "        truncation=True,\n",
    "        padding=\"max_length\",\n",
    "        max_length=WINDOW_LENGTH,\n",
    "        stride=STRIDE,\n",
    "        return_overflowing_tokens=True,\n",
    "    )\n",
    "\n",
    "    # Assign each overflow window the correct label\n",
    "    #tokenized[\"labels\"] = [label2id[labels[i]] for i in tokenized[\"overflow_to_sample_mapping\"]]\n",
    "    tokenized[\"labels\"] = [labels[i] for i in tokenized[\"overflow_to_sample_mapping\"]]\n",
    "\n",
    "    return tokenized\n"
   ]
  },
  {
   "cell_type": "code",
   "execution_count": 9,
   "id": "15808c33",
   "metadata": {
    "colab": {
     "base_uri": "https://localhost:8080/",
     "height": 145,
     "referenced_widgets": [
      "86791250ae264b4f95ec0d38c2e7a372",
      "73f34ed7d59641c4ac8551101cfe88f9",
      "ee6953e798bb46ebaee43099e81e419e",
      "f7afc93c60db4b0d917844593637d6f3",
      "efc8803428614d50bd9ff83c556aff98",
      "bd7d4a6adb314d6eb6d5868aca611f25",
      "d15edfea5c54436c8745daec6e090679",
      "88fcf138b2ac439ab6ca1eec7b417719",
      "53ae4c38ddbf43958eade1be9965b5bd",
      "63fd357087194ac2857966dc11688bb2",
      "d01434e07f4a47b5a941118285e4529b",
      "9732bfd00f944cf5974c1a5bcf9a4fbb",
      "8dc84cd0058746538195c54da457196f",
      "909c4950fa0b4484ae7265fdb4f9a940",
      "e3089dd334214893b1a54e6fa596ac49",
      "08f24ff01d84466cb1379a2ee812c094",
      "9fe2262ba59442f0af625b79352f52d5",
      "5e1aeb226fe74bf9982192cf0675d42d",
      "ce7ff5de58734d40bafabbc99cbc75ee",
      "5931061451994342921f8495030207e9",
      "b1d5a8acff4e477587a9bdcdff53928f",
      "380ecf5f60284919b8b3e28c8fcb8cb3",
      "3827160c78434ed984f85bfdaab631d6",
      "95088a70b1da48fbb11b37f882ce698f",
      "063831e71f0c40048db79e340c4c18f2",
      "113840af702445cdad8b5e7183a3fa2e",
      "3b02dea8ced64298920b601141c70f46",
      "421f8b4a35b64aa29b02893c243afcf6",
      "21fb6e69be744d3e9b98e1b522711d89",
      "c6f73ccbe582498f87b2d6376afc2a3a",
      "65fbe393de6d4c94969b4f02daf0cd4d",
      "af61ec3e5faf43e29446c0fa50d68150",
      "11d967520eec46da838462e9c50074d7",
      "1c4f18f5eaa948f2a88f4f5de8435b96",
      "9960664d1e1b48369f7427a35648c428",
      "c08f9dbd80734150bed5fbf3bd610eea",
      "91c2114d7b014557b6f7558e9ac22226",
      "81752dc9e51b49b79d147f30e407bb0d",
      "f6a7045d9a2d477faa4bb8c8fa848c4b",
      "e58008c959dc44c787282a44dc14f7a7",
      "b79dc6e0bccd40d2819a7bf04a7984f8",
      "2078cf1aa65448b3bd87ef58077a253a",
      "6ea7f3cbdbc448bca593a0d320681993",
      "59f07f1d31904cb781d8b7e997507a87"
     ]
    },
    "id": "15808c33",
    "outputId": "3a133423-b382-4d26-d5f3-494319135245"
   },
   "outputs": [
    {
     "data": {
      "application/vnd.jupyter.widget-view+json": {
       "model_id": "9f3a8ac7f65142f39f82216f04175335",
       "version_major": 2,
       "version_minor": 0
      },
      "text/plain": [
       "Map:   0%|          | 0/25281 [00:00<?, ? examples/s]"
      ]
     },
     "metadata": {},
     "output_type": "display_data"
    },
    {
     "data": {
      "application/vnd.jupyter.widget-view+json": {
       "model_id": "78968a6f04944d01a58ee02be5b62bb1",
       "version_major": 2,
       "version_minor": 0
      },
      "text/plain": [
       "Map:   0%|          | 0/5418 [00:00<?, ? examples/s]"
      ]
     },
     "metadata": {},
     "output_type": "display_data"
    },
    {
     "data": {
      "application/vnd.jupyter.widget-view+json": {
       "model_id": "eec149210b7946859e251f9eb66e848a",
       "version_major": 2,
       "version_minor": 0
      },
      "text/plain": [
       "Map:   0%|          | 0/6000 [00:00<?, ? examples/s]"
      ]
     },
     "metadata": {},
     "output_type": "display_data"
    },
    {
     "data": {
      "application/vnd.jupyter.widget-view+json": {
       "model_id": "638595ec9a484bd08a0771f3440ac2b0",
       "version_major": 2,
       "version_minor": 0
      },
      "text/plain": [
       "Map:   0%|          | 0/1000 [00:00<?, ? examples/s]"
      ]
     },
     "metadata": {},
     "output_type": "display_data"
    }
   ],
   "source": [
    "tokenized_train_data = train_data.map(\n",
    "    sliding_window_tokenize,\n",
    "    batched=True,\n",
    "    remove_columns=train_data.column_names\n",
    ")\n",
    "\n",
    "tokenized_val_data = val_data.map(\n",
    "    sliding_window_tokenize,\n",
    "    batched=True,\n",
    "    remove_columns=train_data.column_names\n",
    ")\n",
    "\n",
    "# also tokenizing subsets\n",
    "\n",
    "tokenized_train_data_subset = train_data_for_tune.map(\n",
    "    sliding_window_tokenize,\n",
    "    batched=True,\n",
    "    remove_columns=train_data_for_tune.column_names\n",
    ")\n",
    "\n",
    "tokenized_val_data_subset = val_data_for_tune.map(\n",
    "    sliding_window_tokenize,\n",
    "    batched=True,\n",
    "    remove_columns=val_data_for_tune.column_names\n",
    ")"
   ]
  },
  {
   "cell_type": "code",
   "execution_count": 10,
   "id": "1SKBN41QNXj7",
   "metadata": {
    "colab": {
     "base_uri": "https://localhost:8080/"
    },
    "id": "1SKBN41QNXj7",
    "outputId": "8414369c-25c2-4f3e-a29b-394c75378018"
   },
   "outputs": [
    {
     "name": "stderr",
     "output_type": "stream",
     "text": [
      "Some weights of BertForSequenceClassification were not initialized from the model checkpoint at deepset/gbert-base and are newly initialized: ['classifier.bias', 'classifier.weight']\n",
      "You should probably TRAIN this model on a down-stream task to be able to use it for predictions and inference.\n"
     ]
    }
   ],
   "source": [
    "model = AutoModelForSequenceClassification.from_pretrained(\n",
    "    \"deepset/gbert-base\",\n",
    "    num_labels=len(label_names),\n",
    "    id2label=id2label,\n",
    "    label2id=label2id\n",
    ")\n",
    "\n",
    "accuracy_metric = evaluate.load(\"accuracy\")\n",
    "f1_metric = evaluate.load(\"f1\")\n",
    "\n",
    "def compute_metrics(eval_pred):\n",
    "    logits, labels = eval_pred\n",
    "    preds = np.argmax(logits, axis=1)\n",
    "\n",
    "    acc = accuracy_metric.compute(predictions=preds, references=labels)[\"accuracy\"]\n",
    "    f1 = f1_metric.compute(predictions=preds, references=labels, average=\"macro\")[\"f1\"]\n",
    "\n",
    "    return {\n",
    "        \"accuracy\": acc,\n",
    "        \"f1\": f1\n",
    "    }\n"
   ]
  },
  {
   "cell_type": "code",
   "execution_count": 11,
   "id": "3d116950",
   "metadata": {
    "id": "3d116950"
   },
   "outputs": [],
   "source": [
    "class WeightedTrainer(Trainer):\n",
    "    def __init__(self, *args, class_weights=None, **kwargs):\n",
    "        super().__init__(*args, **kwargs)\n",
    "        self.class_weights = class_weights.to(self.model.device)\n",
    "\n",
    "    def compute_loss(self, model, inputs, return_outputs=False, **kwargs):\n",
    "        labels = inputs.pop(\"labels\")\n",
    "        outputs = model(**inputs)\n",
    "        logits = outputs.logits\n",
    "        loss = F.cross_entropy(logits, labels, weight=self.class_weights)\n",
    "        return (loss, outputs) if return_outputs else loss\n"
   ]
  },
  {
   "cell_type": "markdown",
   "id": "LhF3tcZIFst8",
   "metadata": {
    "id": "LhF3tcZIFst8"
   },
   "source": [
    "## Hyperparameter Tuning"
   ]
  },
  {
   "cell_type": "code",
   "execution_count": 12,
   "id": "qfJbYmMMFu37",
   "metadata": {
    "colab": {
     "base_uri": "https://localhost:8080/"
    },
    "id": "qfJbYmMMFu37",
    "outputId": "7b496cae-f299-4267-d657-e765acdf70e8"
   },
   "outputs": [
    {
     "name": "stderr",
     "output_type": "stream",
     "text": [
      "/tmp/ipykernel_360/2176245440.py:3: FutureWarning: `tokenizer` is deprecated and will be removed in version 5.0.0 for `WeightedTrainer.__init__`. Use `processing_class` instead.\n",
      "  super().__init__(*args, **kwargs)\n",
      "Some weights of BertForSequenceClassification were not initialized from the model checkpoint at deepset/gbert-base and are newly initialized: ['classifier.bias', 'classifier.weight']\n",
      "You should probably TRAIN this model on a down-stream task to be able to use it for predictions and inference.\n",
      "[I 2025-08-05 18:55:23,665] A new study created in memory with name: no-name-37b3eaa2-57c5-4e09-8420-cd6dea170200\n",
      "Some weights of BertForSequenceClassification were not initialized from the model checkpoint at deepset/gbert-base and are newly initialized: ['classifier.bias', 'classifier.weight']\n",
      "You should probably TRAIN this model on a down-stream task to be able to use it for predictions and inference.\n"
     ]
    },
    {
     "name": "stdout",
     "output_type": "stream",
     "text": [
      "{'eval_loss': 1.531762719154358, 'eval_accuracy': 0.37452107279693486, 'eval_f1': 0.3233489109684809, 'eval_runtime': 1.7135, 'eval_samples_per_second': 609.269, 'eval_steps_per_second': 76.45, 'epoch': 1.0}\n",
      "{'eval_loss': 1.3261348009109497, 'eval_accuracy': 0.44731800766283525, 'eval_f1': 0.44315389161150504, 'eval_runtime': 1.6838, 'eval_samples_per_second': 620.012, 'eval_steps_per_second': 77.798, 'epoch': 2.0}\n",
      "{'loss': 1.4528, 'grad_norm': 13.90131664276123, 'learning_rate': 1.1212121212121212e-05, 'epoch': 2.525252525252525}\n",
      "{'eval_loss': 1.2713702917099, 'eval_accuracy': 0.48659003831417624, 'eval_f1': 0.4955530032728142, 'eval_runtime': 1.6974, 'eval_samples_per_second': 615.046, 'eval_steps_per_second': 77.175, 'epoch': 3.0}\n",
      "{'eval_loss': 1.2345210313796997, 'eval_accuracy': 0.5134099616858238, 'eval_f1': 0.5214592882043614, 'eval_runtime': 1.6949, 'eval_samples_per_second': 615.983, 'eval_steps_per_second': 77.293, 'epoch': 4.0}\n",
      "{'train_runtime': 105.0446, 'train_samples_per_second': 240.622, 'train_steps_per_second': 7.54, 'train_loss': 1.2895384123831084, 'epoch': 4.0}\n"
     ]
    },
    {
     "name": "stderr",
     "output_type": "stream",
     "text": [
      "[I 2025-08-05 18:57:09,801] Trial 0 finished with value: 0.5134099616858238 and parameters: {'learning_rate': 3e-05, 'per_device_train_batch_size': 32, 'num_train_epochs': 4, 'weight_decay': 0.05}. Best is trial 0 with value: 0.5134099616858238.\n",
      "Some weights of BertForSequenceClassification were not initialized from the model checkpoint at deepset/gbert-base and are newly initialized: ['classifier.bias', 'classifier.weight']\n",
      "You should probably TRAIN this model on a down-stream task to be able to use it for predictions and inference.\n"
     ]
    },
    {
     "name": "stdout",
     "output_type": "stream",
     "text": [
      "{'loss': 1.8202, 'grad_norm': 4.362800598144531, 'learning_rate': 2.369620253164557e-05, 'epoch': 0.6329113924050633}\n",
      "{'eval_loss': 1.7937568426132202, 'eval_accuracy': 0.13697318007662834, 'eval_f1': 0.04015725919685482, 'eval_runtime': 1.8933, 'eval_samples_per_second': 551.422, 'eval_steps_per_second': 69.192, 'epoch': 1.0}\n",
      "{'loss': 1.7946, 'grad_norm': 12.103599548339844, 'learning_rate': 1.7367088607594936e-05, 'epoch': 1.2658227848101267}\n",
      "{'loss': 1.6692, 'grad_norm': 6.854897975921631, 'learning_rate': 1.1050632911392406e-05, 'epoch': 1.8987341772151898}\n",
      "{'eval_loss': 1.541243076324463, 'eval_accuracy': 0.3448275862068966, 'eval_f1': 0.23713989973795357, 'eval_runtime': 1.6814, 'eval_samples_per_second': 620.913, 'eval_steps_per_second': 77.911, 'epoch': 2.0}\n",
      "{'loss': 1.5045, 'grad_norm': 48.869651794433594, 'learning_rate': 4.721518987341772e-06, 'epoch': 2.5316455696202533}\n",
      "{'eval_loss': 1.4957523345947266, 'eval_accuracy': 0.32950191570881227, 'eval_f1': 0.2796022594903823, 'eval_runtime': 1.6824, 'eval_samples_per_second': 620.548, 'eval_steps_per_second': 77.866, 'epoch': 3.0}\n",
      "{'train_runtime': 106.5723, 'train_samples_per_second': 177.879, 'train_steps_per_second': 22.238, 'train_loss': 1.6604109752027294, 'epoch': 3.0}\n"
     ]
    },
    {
     "name": "stderr",
     "output_type": "stream",
     "text": [
      "[I 2025-08-05 18:58:57,379] Trial 1 finished with value: 0.32950191570881227 and parameters: {'learning_rate': 3e-05, 'per_device_train_batch_size': 8, 'num_train_epochs': 3, 'weight_decay': 0.01}. Best is trial 0 with value: 0.5134099616858238.\n",
      "Some weights of BertForSequenceClassification were not initialized from the model checkpoint at deepset/gbert-base and are newly initialized: ['classifier.bias', 'classifier.weight']\n",
      "You should probably TRAIN this model on a down-stream task to be able to use it for predictions and inference.\n"
     ]
    },
    {
     "name": "stdout",
     "output_type": "stream",
     "text": [
      "{'eval_loss': 1.626349687576294, 'eval_accuracy': 0.2978927203065134, 'eval_f1': 0.21892347761351508, 'eval_runtime': 1.6937, 'eval_samples_per_second': 616.392, 'eval_steps_per_second': 77.344, 'epoch': 1.0}\n",
      "{'eval_loss': 1.3832838535308838, 'eval_accuracy': 0.4109195402298851, 'eval_f1': 0.38736377984862497, 'eval_runtime': 1.6812, 'eval_samples_per_second': 620.997, 'eval_steps_per_second': 77.922, 'epoch': 2.0}\n",
      "{'loss': 1.5389, 'grad_norm': 25.706819534301758, 'learning_rate': 7.44949494949495e-06, 'epoch': 2.525252525252525}\n",
      "{'eval_loss': 1.3098632097244263, 'eval_accuracy': 0.49616858237547895, 'eval_f1': 0.47681423317050003, 'eval_runtime': 1.681, 'eval_samples_per_second': 621.06, 'eval_steps_per_second': 77.93, 'epoch': 3.0}\n",
      "{'eval_loss': 1.2680814266204834, 'eval_accuracy': 0.4952107279693487, 'eval_f1': 0.4830891249717188, 'eval_runtime': 1.6804, 'eval_samples_per_second': 621.272, 'eval_steps_per_second': 77.957, 'epoch': 4.0}\n",
      "{'train_runtime': 104.7102, 'train_samples_per_second': 241.39, 'train_steps_per_second': 7.564, 'train_loss': 1.3939812014801334, 'epoch': 4.0}\n"
     ]
    },
    {
     "name": "stderr",
     "output_type": "stream",
     "text": [
      "[I 2025-08-05 19:00:43,119] Trial 2 finished with value: 0.4952107279693487 and parameters: {'learning_rate': 2e-05, 'per_device_train_batch_size': 32, 'num_train_epochs': 4, 'weight_decay': 0.05}. Best is trial 0 with value: 0.5134099616858238.\n",
      "Some weights of BertForSequenceClassification were not initialized from the model checkpoint at deepset/gbert-base and are newly initialized: ['classifier.bias', 'classifier.weight']\n",
      "You should probably TRAIN this model on a down-stream task to be able to use it for predictions and inference.\n"
     ]
    },
    {
     "name": "stdout",
     "output_type": "stream",
     "text": [
      "{'loss': 1.7002, 'grad_norm': 13.915099143981934, 'learning_rate': 8.433544303797469e-06, 'epoch': 0.6329113924050633}\n",
      "{'eval_loss': 1.4135663509368896, 'eval_accuracy': 0.42624521072796934, 'eval_f1': 0.38657092234263013, 'eval_runtime': 1.685, 'eval_samples_per_second': 619.579, 'eval_steps_per_second': 77.744, 'epoch': 1.0}\n",
      "{'loss': 1.4589, 'grad_norm': 34.44203567504883, 'learning_rate': 6.851265822784811e-06, 'epoch': 1.2658227848101267}\n",
      "{'loss': 1.3164, 'grad_norm': 35.99567413330078, 'learning_rate': 5.268987341772152e-06, 'epoch': 1.8987341772151898}\n",
      "{'eval_loss': 1.3113077878952026, 'eval_accuracy': 0.4454022988505747, 'eval_f1': 0.45716430012822706, 'eval_runtime': 1.6828, 'eval_samples_per_second': 620.384, 'eval_steps_per_second': 77.845, 'epoch': 2.0}\n",
      "{'loss': 1.1532, 'grad_norm': 23.846620559692383, 'learning_rate': 3.6867088607594944e-06, 'epoch': 2.5316455696202533}\n",
      "{'eval_loss': 1.2678334712982178, 'eval_accuracy': 0.49137931034482757, 'eval_f1': 0.49108895089143884, 'eval_runtime': 1.898, 'eval_samples_per_second': 550.061, 'eval_steps_per_second': 69.021, 'epoch': 3.0}\n",
      "{'loss': 1.064, 'grad_norm': 29.912738800048828, 'learning_rate': 2.1044303797468356e-06, 'epoch': 3.1645569620253164}\n",
      "{'loss': 0.9435, 'grad_norm': 18.495779037475586, 'learning_rate': 5.253164556962026e-07, 'epoch': 3.7974683544303796}\n",
      "{'eval_loss': 1.2557392120361328, 'eval_accuracy': 0.5191570881226054, 'eval_f1': 0.521639599962387, 'eval_runtime': 1.6822, 'eval_samples_per_second': 620.625, 'eval_steps_per_second': 77.875, 'epoch': 4.0}\n",
      "{'train_runtime': 139.8522, 'train_samples_per_second': 180.734, 'train_steps_per_second': 22.595, 'train_loss': 1.2555624032322366, 'epoch': 4.0}\n"
     ]
    },
    {
     "name": "stderr",
     "output_type": "stream",
     "text": [
      "[I 2025-08-05 19:03:03,952] Trial 3 finished with value: 0.5191570881226054 and parameters: {'learning_rate': 1e-05, 'per_device_train_batch_size': 8, 'num_train_epochs': 4, 'weight_decay': 0.0}. Best is trial 3 with value: 0.5191570881226054.\n",
      "Some weights of BertForSequenceClassification were not initialized from the model checkpoint at deepset/gbert-base and are newly initialized: ['classifier.bias', 'classifier.weight']\n",
      "You should probably TRAIN this model on a down-stream task to be able to use it for predictions and inference.\n"
     ]
    },
    {
     "name": "stdout",
     "output_type": "stream",
     "text": [
      "{'eval_loss': 1.552567958831787, 'eval_accuracy': 0.34770114942528735, 'eval_f1': 0.29835509908676466, 'eval_runtime': 1.6852, 'eval_samples_per_second': 619.517, 'eval_steps_per_second': 77.736, 'epoch': 1.0}\n",
      "{'eval_loss': 1.3043673038482666, 'eval_accuracy': 0.4511494252873563, 'eval_f1': 0.4366705010966283, 'eval_runtime': 1.6873, 'eval_samples_per_second': 618.741, 'eval_steps_per_second': 77.639, 'epoch': 2.0}\n",
      "{'loss': 1.4494, 'grad_norm': 18.417043685913086, 'learning_rate': 1.1212121212121212e-05, 'epoch': 2.525252525252525}\n",
      "{'eval_loss': 1.2211287021636963, 'eval_accuracy': 0.5038314176245211, 'eval_f1': 0.5168466916124724, 'eval_runtime': 1.6886, 'eval_samples_per_second': 618.27, 'eval_steps_per_second': 77.58, 'epoch': 3.0}\n",
      "{'eval_loss': 1.2109596729278564, 'eval_accuracy': 0.5172413793103449, 'eval_f1': 0.5246986677985166, 'eval_runtime': 1.6779, 'eval_samples_per_second': 622.215, 'eval_steps_per_second': 78.075, 'epoch': 4.0}\n",
      "{'train_runtime': 104.2345, 'train_samples_per_second': 242.492, 'train_steps_per_second': 7.598, 'train_loss': 1.2807613334270438, 'epoch': 4.0}\n"
     ]
    },
    {
     "name": "stderr",
     "output_type": "stream",
     "text": [
      "[I 2025-08-05 19:04:49,151] Trial 4 finished with value: 0.5172413793103449 and parameters: {'learning_rate': 3e-05, 'per_device_train_batch_size': 32, 'num_train_epochs': 4, 'weight_decay': 0.0}. Best is trial 3 with value: 0.5191570881226054.\n",
      "Some weights of BertForSequenceClassification were not initialized from the model checkpoint at deepset/gbert-base and are newly initialized: ['classifier.bias', 'classifier.weight']\n",
      "You should probably TRAIN this model on a down-stream task to be able to use it for predictions and inference.\n"
     ]
    },
    {
     "name": "stdout",
     "output_type": "stream",
     "text": [
      "{'eval_loss': 1.7935348749160767, 'eval_accuracy': 0.13697318007662834, 'eval_f1': 0.04015725919685482, 'eval_runtime': 1.6777, 'eval_samples_per_second': 622.297, 'eval_steps_per_second': 78.085, 'epoch': 1.0}\n",
      "{'loss': 1.8084, 'grad_norm': 5.677724361419678, 'learning_rate': 1.741772151898734e-05, 'epoch': 1.2658227848101267}\n"
     ]
    },
    {
     "name": "stderr",
     "output_type": "stream",
     "text": [
      "[I 2025-08-05 19:05:47,927] Trial 5 pruned. \n",
      "Some weights of BertForSequenceClassification were not initialized from the model checkpoint at deepset/gbert-base and are newly initialized: ['classifier.bias', 'classifier.weight']\n",
      "You should probably TRAIN this model on a down-stream task to be able to use it for predictions and inference.\n"
     ]
    },
    {
     "name": "stdout",
     "output_type": "stream",
     "text": [
      "{'eval_loss': 1.7958850860595703, 'eval_accuracy': 0.2681992337164751, 'eval_f1': 0.07049345417925477, 'eval_runtime': 1.6778, 'eval_samples_per_second': 622.25, 'eval_steps_per_second': 78.079, 'epoch': 2.0}\n",
      "{'loss': 1.7529, 'grad_norm': 13.81121826171875, 'learning_rate': 1.6854430379746837e-05, 'epoch': 0.6329113924050633}\n",
      "{'eval_loss': 1.4376760721206665, 'eval_accuracy': 0.3946360153256705, 'eval_f1': 0.3170401035159423, 'eval_runtime': 1.6878, 'eval_samples_per_second': 618.558, 'eval_steps_per_second': 77.616, 'epoch': 1.0}\n",
      "{'loss': 1.5173, 'grad_norm': 25.151695251464844, 'learning_rate': 1.368987341772152e-05, 'epoch': 1.2658227848101267}\n",
      "{'loss': 1.3604, 'grad_norm': 16.759523391723633, 'learning_rate': 1.0531645569620254e-05, 'epoch': 1.8987341772151898}\n",
      "{'eval_loss': 1.3536783456802368, 'eval_accuracy': 0.44061302681992337, 'eval_f1': 0.44345610125031015, 'eval_runtime': 1.6895, 'eval_samples_per_second': 617.952, 'eval_steps_per_second': 77.54, 'epoch': 2.0}\n",
      "{'loss': 1.1935, 'grad_norm': 13.422284126281738, 'learning_rate': 7.373417721518989e-06, 'epoch': 2.5316455696202533}\n",
      "{'eval_loss': 1.351946234703064, 'eval_accuracy': 0.49233716475095785, 'eval_f1': 0.4798343044703383, 'eval_runtime': 1.6808, 'eval_samples_per_second': 621.124, 'eval_steps_per_second': 77.938, 'epoch': 3.0}\n",
      "{'loss': 1.0966, 'grad_norm': 27.869874954223633, 'learning_rate': 4.208860759493671e-06, 'epoch': 3.1645569620253164}\n",
      "{'loss': 0.9832, 'grad_norm': 15.413809776306152, 'learning_rate': 1.0443037974683546e-06, 'epoch': 3.7974683544303796}\n"
     ]
    },
    {
     "name": "stderr",
     "output_type": "stream",
     "text": [
      "[I 2025-08-05 19:08:10,347] Trial 6 pruned. \n",
      "Some weights of BertForSequenceClassification were not initialized from the model checkpoint at deepset/gbert-base and are newly initialized: ['classifier.bias', 'classifier.weight']\n",
      "You should probably TRAIN this model on a down-stream task to be able to use it for predictions and inference.\n"
     ]
    },
    {
     "name": "stdout",
     "output_type": "stream",
     "text": [
      "{'eval_loss': 1.3322138786315918, 'eval_accuracy': 0.4942528735632184, 'eval_f1': 0.48658986920351616, 'eval_runtime': 1.679, 'eval_samples_per_second': 621.783, 'eval_steps_per_second': 78.021, 'epoch': 4.0}\n",
      "{'eval_loss': 1.4014105796813965, 'eval_accuracy': 0.43582375478927204, 'eval_f1': 0.3998836454138816, 'eval_runtime': 1.6763, 'eval_samples_per_second': 622.808, 'eval_steps_per_second': 78.149, 'epoch': 1.0}\n",
      "{'loss': 1.5945, 'grad_norm': 21.875497817993164, 'learning_rate': 1.1645569620253165e-05, 'epoch': 1.2658227848101267}\n",
      "{'eval_loss': 1.3173110485076904, 'eval_accuracy': 0.4329501915708812, 'eval_f1': 0.4219765938195547, 'eval_runtime': 1.6784, 'eval_samples_per_second': 622.006, 'eval_steps_per_second': 78.049, 'epoch': 2.0}\n",
      "{'loss': 1.1939, 'grad_norm': 17.448806762695312, 'learning_rate': 3.206751054852321e-06, 'epoch': 2.5316455696202533}\n",
      "{'eval_loss': 1.2493890523910522, 'eval_accuracy': 0.49137931034482757, 'eval_f1': 0.4846528735635618, 'eval_runtime': 1.6895, 'eval_samples_per_second': 617.919, 'eval_steps_per_second': 77.536, 'epoch': 3.0}\n",
      "{'train_runtime': 87.9414, 'train_samples_per_second': 215.564, 'train_steps_per_second': 13.475, 'train_loss': 1.3395158727460772, 'epoch': 3.0}\n"
     ]
    },
    {
     "name": "stderr",
     "output_type": "stream",
     "text": [
      "[I 2025-08-05 19:09:39,294] Trial 7 finished with value: 0.49137931034482757 and parameters: {'learning_rate': 2e-05, 'per_device_train_batch_size': 16, 'num_train_epochs': 3, 'weight_decay': 0.05}. Best is trial 3 with value: 0.5191570881226054.\n",
      "Some weights of BertForSequenceClassification were not initialized from the model checkpoint at deepset/gbert-base and are newly initialized: ['classifier.bias', 'classifier.weight']\n",
      "You should probably TRAIN this model on a down-stream task to be able to use it for predictions and inference.\n"
     ]
    },
    {
     "name": "stdout",
     "output_type": "stream",
     "text": [
      "{'eval_loss': 1.5353761911392212, 'eval_accuracy': 0.3764367816091954, 'eval_f1': 0.34464134884660175, 'eval_runtime': 1.6878, 'eval_samples_per_second': 618.57, 'eval_steps_per_second': 77.618, 'epoch': 1.0}\n",
      "{'eval_loss': 1.297285556793213, 'eval_accuracy': 0.4492337164750958, 'eval_f1': 0.45260850852564877, 'eval_runtime': 1.69, 'eval_samples_per_second': 617.746, 'eval_steps_per_second': 77.514, 'epoch': 2.0}\n",
      "{'loss': 1.4385, 'grad_norm': 12.747803688049316, 'learning_rate': 4.898989898989899e-06, 'epoch': 2.525252525252525}\n"
     ]
    },
    {
     "name": "stderr",
     "output_type": "stream",
     "text": [
      "[I 2025-08-05 19:10:58,176] Trial 8 pruned. \n"
     ]
    },
    {
     "name": "stdout",
     "output_type": "stream",
     "text": [
      "{'eval_loss': 1.2615801095962524, 'eval_accuracy': 0.4875478927203065, 'eval_f1': 0.4884326855455001, 'eval_runtime': 1.6843, 'eval_samples_per_second': 619.838, 'eval_steps_per_second': 77.777, 'epoch': 3.0}\n"
     ]
    },
    {
     "name": "stderr",
     "output_type": "stream",
     "text": [
      "Some weights of BertForSequenceClassification were not initialized from the model checkpoint at deepset/gbert-base and are newly initialized: ['classifier.bias', 'classifier.weight']\n",
      "You should probably TRAIN this model on a down-stream task to be able to use it for predictions and inference.\n"
     ]
    },
    {
     "name": "stdout",
     "output_type": "stream",
     "text": [
      "{'loss': 1.753, 'grad_norm': 13.125106811523438, 'learning_rate': 1.6854430379746837e-05, 'epoch': 0.6329113924050633}\n"
     ]
    },
    {
     "name": "stderr",
     "output_type": "stream",
     "text": [
      "[I 2025-08-05 19:11:34,224] Trial 9 pruned. \n",
      "Some weights of BertForSequenceClassification were not initialized from the model checkpoint at deepset/gbert-base and are newly initialized: ['classifier.bias', 'classifier.weight']\n",
      "You should probably TRAIN this model on a down-stream task to be able to use it for predictions and inference.\n"
     ]
    },
    {
     "name": "stdout",
     "output_type": "stream",
     "text": [
      "{'eval_loss': 1.437331199645996, 'eval_accuracy': 0.41379310344827586, 'eval_f1': 0.3575769042625423, 'eval_runtime': 1.6873, 'eval_samples_per_second': 618.757, 'eval_steps_per_second': 77.641, 'epoch': 1.0}\n",
      "{'loss': 1.6993, 'grad_norm': 13.975700378417969, 'learning_rate': 8.430379746835444e-06, 'epoch': 0.6329113924050633}\n",
      "{'eval_loss': 1.4213415384292603, 'eval_accuracy': 0.4272030651340996, 'eval_f1': 0.3784903596239542, 'eval_runtime': 1.6864, 'eval_samples_per_second': 619.07, 'eval_steps_per_second': 77.68, 'epoch': 1.0}\n",
      "{'loss': 1.46, 'grad_norm': 35.77431869506836, 'learning_rate': 6.848101265822785e-06, 'epoch': 1.2658227848101267}\n",
      "{'loss': 1.3194, 'grad_norm': 32.39641571044922, 'learning_rate': 5.265822784810127e-06, 'epoch': 1.8987341772151898}\n",
      "{'eval_loss': 1.3075498342514038, 'eval_accuracy': 0.44061302681992337, 'eval_f1': 0.45326632022550456, 'eval_runtime': 1.6864, 'eval_samples_per_second': 619.081, 'eval_steps_per_second': 77.682, 'epoch': 2.0}\n",
      "{'loss': 1.1531, 'grad_norm': 23.54945945739746, 'learning_rate': 3.6835443037974687e-06, 'epoch': 2.5316455696202533}\n",
      "{'eval_loss': 1.2683320045471191, 'eval_accuracy': 0.49616858237547895, 'eval_f1': 0.4943104184352731, 'eval_runtime': 1.6839, 'eval_samples_per_second': 620.006, 'eval_steps_per_second': 77.798, 'epoch': 3.0}\n",
      "{'loss': 1.067, 'grad_norm': 30.932790756225586, 'learning_rate': 2.1044303797468356e-06, 'epoch': 3.1645569620253164}\n",
      "{'loss': 0.9468, 'grad_norm': 16.457530975341797, 'learning_rate': 5.221518987341773e-07, 'epoch': 3.7974683544303796}\n",
      "{'eval_loss': 1.2515546083450317, 'eval_accuracy': 0.5220306513409961, 'eval_f1': 0.5232959755286934, 'eval_runtime': 1.6871, 'eval_samples_per_second': 618.83, 'eval_steps_per_second': 77.65, 'epoch': 4.0}\n",
      "{'train_runtime': 139.2719, 'train_samples_per_second': 181.487, 'train_steps_per_second': 22.689, 'train_loss': 1.257128616526157, 'epoch': 4.0}\n"
     ]
    },
    {
     "name": "stderr",
     "output_type": "stream",
     "text": [
      "[I 2025-08-05 19:13:54,467] Trial 10 finished with value: 0.5220306513409961 and parameters: {'learning_rate': 1e-05, 'per_device_train_batch_size': 8, 'num_train_epochs': 4, 'weight_decay': 0.0}. Best is trial 10 with value: 0.5220306513409961.\n",
      "Some weights of BertForSequenceClassification were not initialized from the model checkpoint at deepset/gbert-base and are newly initialized: ['classifier.bias', 'classifier.weight']\n",
      "You should probably TRAIN this model on a down-stream task to be able to use it for predictions and inference.\n"
     ]
    },
    {
     "name": "stdout",
     "output_type": "stream",
     "text": [
      "{'loss': 1.6971, 'grad_norm': 12.597352027893066, 'learning_rate': 8.433544303797469e-06, 'epoch': 0.6329113924050633}\n"
     ]
    },
    {
     "name": "stderr",
     "output_type": "stream",
     "text": [
      "[I 2025-08-05 19:14:29,948] Trial 11 pruned. \n",
      "Some weights of BertForSequenceClassification were not initialized from the model checkpoint at deepset/gbert-base and are newly initialized: ['classifier.bias', 'classifier.weight']\n",
      "You should probably TRAIN this model on a down-stream task to be able to use it for predictions and inference.\n"
     ]
    },
    {
     "name": "stdout",
     "output_type": "stream",
     "text": [
      "{'eval_loss': 1.4272879362106323, 'eval_accuracy': 0.421455938697318, 'eval_f1': 0.37443235472214526, 'eval_runtime': 1.6845, 'eval_samples_per_second': 619.786, 'eval_steps_per_second': 77.77, 'epoch': 1.0}\n",
      "{'loss': 1.6964, 'grad_norm': 13.961868286132812, 'learning_rate': 8.433544303797469e-06, 'epoch': 0.6329113924050633}\n"
     ]
    },
    {
     "name": "stderr",
     "output_type": "stream",
     "text": [
      "[I 2025-08-05 19:15:05,482] Trial 12 pruned. \n",
      "Some weights of BertForSequenceClassification were not initialized from the model checkpoint at deepset/gbert-base and are newly initialized: ['classifier.bias', 'classifier.weight']\n",
      "You should probably TRAIN this model on a down-stream task to be able to use it for predictions and inference.\n"
     ]
    },
    {
     "name": "stdout",
     "output_type": "stream",
     "text": [
      "{'eval_loss': 1.4377565383911133, 'eval_accuracy': 0.40900383141762453, 'eval_f1': 0.3511415453938113, 'eval_runtime': 1.675, 'eval_samples_per_second': 623.286, 'eval_steps_per_second': 78.209, 'epoch': 1.0}\n",
      "{'loss': 1.6982, 'grad_norm': 13.666626930236816, 'learning_rate': 8.430379746835444e-06, 'epoch': 0.6329113924050633}\n"
     ]
    },
    {
     "name": "stderr",
     "output_type": "stream",
     "text": [
      "[I 2025-08-05 19:15:41,063] Trial 13 pruned. \n",
      "Some weights of BertForSequenceClassification were not initialized from the model checkpoint at deepset/gbert-base and are newly initialized: ['classifier.bias', 'classifier.weight']\n",
      "You should probably TRAIN this model on a down-stream task to be able to use it for predictions and inference.\n"
     ]
    },
    {
     "name": "stdout",
     "output_type": "stream",
     "text": [
      "{'eval_loss': 1.428550124168396, 'eval_accuracy': 0.4185823754789272, 'eval_f1': 0.3697379669928605, 'eval_runtime': 1.6848, 'eval_samples_per_second': 619.668, 'eval_steps_per_second': 77.755, 'epoch': 1.0}\n",
      "{'loss': 1.6997, 'grad_norm': 16.498985290527344, 'learning_rate': 8.433544303797469e-06, 'epoch': 0.6329113924050633}\n",
      "{'eval_loss': 1.4195839166641235, 'eval_accuracy': 0.42911877394636017, 'eval_f1': 0.3748981273100449, 'eval_runtime': 1.6892, 'eval_samples_per_second': 618.05, 'eval_steps_per_second': 77.552, 'epoch': 1.0}\n",
      "{'loss': 1.4612, 'grad_norm': 32.896724700927734, 'learning_rate': 6.851265822784811e-06, 'epoch': 1.2658227848101267}\n",
      "{'loss': 1.3234, 'grad_norm': 37.60753631591797, 'learning_rate': 5.268987341772152e-06, 'epoch': 1.8987341772151898}\n"
     ]
    },
    {
     "name": "stderr",
     "output_type": "stream",
     "text": [
      "[I 2025-08-05 19:16:51,540] Trial 14 pruned. \n",
      "Some weights of BertForSequenceClassification were not initialized from the model checkpoint at deepset/gbert-base and are newly initialized: ['classifier.bias', 'classifier.weight']\n",
      "You should probably TRAIN this model on a down-stream task to be able to use it for predictions and inference.\n"
     ]
    },
    {
     "name": "stdout",
     "output_type": "stream",
     "text": [
      "{'eval_loss': 1.3131643533706665, 'eval_accuracy': 0.4386973180076628, 'eval_f1': 0.44907248871461863, 'eval_runtime': 1.6852, 'eval_samples_per_second': 619.496, 'eval_steps_per_second': 77.734, 'epoch': 2.0}\n"
     ]
    },
    {
     "name": "stderr",
     "output_type": "stream",
     "text": [
      "[I 2025-08-05 19:17:21,457] Trial 15 pruned. \n"
     ]
    },
    {
     "name": "stdout",
     "output_type": "stream",
     "text": [
      "{'eval_loss': 1.5156493186950684, 'eval_accuracy': 0.38409961685823757, 'eval_f1': 0.33168506557941346, 'eval_runtime': 1.6904, 'eval_samples_per_second': 617.594, 'eval_steps_per_second': 77.495, 'epoch': 1.0}\n",
      "Best hyperparameters:\n",
      "{'learning_rate': 1e-05, 'per_device_train_batch_size': 8, 'num_train_epochs': 4, 'weight_decay': 0.0}\n"
     ]
    }
   ],
   "source": [
    "# # training arguments for hyperparameter tuning\n",
    "def model_init():\n",
    "    return AutoModelForSequenceClassification.from_pretrained(\n",
    "        model_name,\n",
    "        num_labels=num_labels\n",
    "    )\n",
    "\n",
    "training_args = TrainingArguments(\n",
    "    output_dir=\"./results\",\n",
    "    eval_strategy=\"epoch\",\n",
    "    save_strategy=\"no\",  # don't save checkpoints during tuning\n",
    "    logging_dir=\"./logs\",\n",
    "    disable_tqdm=True,  # speed up tuning\n",
    "    fp16=torch.cuda.is_available(),\n",
    "    report_to=\"none\",   # optional: disable W&B or other logging\n",
    ")\n",
    "\n",
    "def hp_space(trial):\n",
    "    return {\n",
    "        \"learning_rate\": trial.suggest_categorical(\"learning_rate\", [1e-5, 2e-5, 3e-5]),\n",
    "        \"per_device_train_batch_size\": trial.suggest_categorical(\"per_device_train_batch_size\", [8, 16, 32]),\n",
    "        \"num_train_epochs\": trial.suggest_int(\"num_train_epochs\", 3, 4),\n",
    "        \"weight_decay\": trial.suggest_categorical(\"weight_decay\", [0.0, 0.01, 0.05]),\n",
    "    }\n",
    "\n",
    "trainer = WeightedTrainer(\n",
    "    model_init=model_init,\n",
    "    args=training_args,\n",
    "    train_dataset=tokenized_train_data_subset,\n",
    "    eval_dataset=tokenized_val_data_subset,\n",
    "    tokenizer=tokenizer,\n",
    "    compute_metrics=compute_metrics,\n",
    "    class_weights=class_weights\n",
    ")\n",
    "\n",
    "best_run = trainer.hyperparameter_search(\n",
    "    direction=\"maximize\",        # because we want to maximize accuracy\n",
    "    hp_space=hp_space,\n",
    "    n_trials=16,                 # how many combinations to try\n",
    "    compute_objective=lambda metrics: metrics[\"eval_accuracy\"],\n",
    "    backend=\"optuna\"\n",
    ")\n",
    "\n",
    "print(\"Best hyperparameters:\")\n",
    "print(best_run.hyperparameters)\n"
   ]
  },
  {
   "cell_type": "code",
   "execution_count": 13,
   "id": "bIuAOBYAKxw1",
   "metadata": {
    "id": "bIuAOBYAKxw1"
   },
   "outputs": [],
   "source": [
    "best_run_B_df = pd.DataFrame(best_run)\n",
    "best_run_B_df.to_csv(\"hyperpara_A.csv\",index=False)"
   ]
  },
  {
   "cell_type": "markdown",
   "id": "cARBzNCBGUw1",
   "metadata": {
    "id": "cARBzNCBGUw1"
   },
   "source": [
    "## Training with best Tuning Parameters\n"
   ]
  },
  {
   "cell_type": "code",
   "execution_count": 14,
   "id": "c5bfef97",
   "metadata": {
    "colab": {
     "base_uri": "https://localhost:8080/",
     "height": 394
    },
    "id": "c5bfef97",
    "outputId": "99d5f647-0148-4dd5-8411-27ec8bbb54fa"
   },
   "outputs": [
    {
     "name": "stderr",
     "output_type": "stream",
     "text": [
      "/tmp/ipykernel_360/2176245440.py:3: FutureWarning: `tokenizer` is deprecated and will be removed in version 5.0.0 for `WeightedTrainer.__init__`. Use `processing_class` instead.\n",
      "  super().__init__(*args, **kwargs)\n"
     ]
    },
    {
     "data": {
      "text/html": [
       "\n",
       "    <div>\n",
       "      \n",
       "      <progress value='13248' max='13248' style='width:300px; height:20px; vertical-align: middle;'></progress>\n",
       "      [13248/13248 09:56, Epoch 4/4]\n",
       "    </div>\n",
       "    <table border=\"1\" class=\"dataframe\">\n",
       "  <thead>\n",
       " <tr style=\"text-align: left;\">\n",
       "      <th>Epoch</th>\n",
       "      <th>Training Loss</th>\n",
       "      <th>Validation Loss</th>\n",
       "      <th>Accuracy</th>\n",
       "      <th>F1</th>\n",
       "    </tr>\n",
       "  </thead>\n",
       "  <tbody>\n",
       "    <tr>\n",
       "      <td>1</td>\n",
       "      <td>1.278400</td>\n",
       "      <td>1.209121</td>\n",
       "      <td>0.470173</td>\n",
       "      <td>0.474671</td>\n",
       "    </tr>\n",
       "    <tr>\n",
       "      <td>2</td>\n",
       "      <td>0.972600</td>\n",
       "      <td>0.992795</td>\n",
       "      <td>0.590187</td>\n",
       "      <td>0.604182</td>\n",
       "    </tr>\n",
       "    <tr>\n",
       "      <td>3</td>\n",
       "      <td>0.798600</td>\n",
       "      <td>0.964270</td>\n",
       "      <td>0.635898</td>\n",
       "      <td>0.638073</td>\n",
       "    </tr>\n",
       "    <tr>\n",
       "      <td>4</td>\n",
       "      <td>0.662400</td>\n",
       "      <td>0.960256</td>\n",
       "      <td>0.633251</td>\n",
       "      <td>0.636918</td>\n",
       "    </tr>\n",
       "  </tbody>\n",
       "</table><p>"
      ],
      "text/plain": [
       "<IPython.core.display.HTML object>"
      ]
     },
     "metadata": {},
     "output_type": "display_data"
    },
    {
     "data": {
      "text/plain": [
       "TrainOutput(global_step=13248, training_loss=0.9830473747806273, metrics={'train_runtime': 596.9906, 'train_samples_per_second': 177.517, 'train_steps_per_second': 22.191, 'total_flos': 2.788445862007603e+16, 'train_loss': 0.9830473747806273, 'epoch': 4.0})"
      ]
     },
     "execution_count": 14,
     "metadata": {},
     "output_type": "execute_result"
    }
   ],
   "source": [
    "training_args = TrainingArguments(\n",
    "    output_dir=\"./results\",\n",
    "    learning_rate=best_run.hyperparameters[\"learning_rate\"],\n",
    "    per_device_train_batch_size=best_run.hyperparameters[\"per_device_train_batch_size\"],\n",
    "    num_train_epochs=best_run.hyperparameters[\"num_train_epochs\"],\n",
    "    weight_decay=best_run.hyperparameters[\"weight_decay\"],\n",
    "    eval_strategy=\"epoch\",\n",
    "    save_strategy=\"epoch\",\n",
    "    per_device_eval_batch_size=16,\n",
    "    load_best_model_at_end=True,\n",
    "    fp16=torch.cuda.is_available(),\n",
    "    report_to=\"none\",\n",
    ")\n",
    "\n",
    "trainer = WeightedTrainer(\n",
    "    model=model,\n",
    "    args=training_args,\n",
    "    train_dataset=tokenized_train_data,\n",
    "    eval_dataset=tokenized_val_data,\n",
    "    tokenizer=tokenizer,\n",
    "    data_collator=DataCollatorWithPadding(tokenizer),\n",
    "    compute_metrics=compute_metrics,\n",
    "    class_weights=class_weights\n",
    ")\n",
    "\n",
    "trainer.train()\n"
   ]
  },
  {
   "cell_type": "code",
   "execution_count": 15,
   "id": "42bade2f",
   "metadata": {
    "colab": {
     "base_uri": "https://localhost:8080/"
    },
    "id": "42bade2f",
    "outputId": "5c69c970-9a74-438b-f770-337ba21a504d"
   },
   "outputs": [
    {
     "data": {
      "text/plain": [
       "('classifier_final_B/tokenizer_config.json',\n",
       " 'classifier_final_B/special_tokens_map.json',\n",
       " 'classifier_final_B/vocab.txt',\n",
       " 'classifier_final_B/added_tokens.json',\n",
       " 'classifier_final_B/tokenizer.json')"
      ]
     },
     "execution_count": 15,
     "metadata": {},
     "output_type": "execute_result"
    }
   ],
   "source": [
    "model.save_pretrained(\"classifier_final_B/\")\n",
    "tokenizer.save_pretrained(\"classifier_final_B/\")"
   ]
  },
  {
   "cell_type": "code",
   "execution_count": 16,
   "id": "nVyP9xcmPnVc",
   "metadata": {
    "id": "nVyP9xcmPnVc"
   },
   "outputs": [],
   "source": [
    "# model und tokenizer müssen schon geladen sein\n",
    "model.eval()\n",
    "\n",
    "def tokenize_sliding_windows(example: Dict[str, Any]) -> Dict[str, Any]:\n",
    "    encoding = tokenizer(\n",
    "        example[\"speech_text\"],\n",
    "        truncation=True,\n",
    "        padding=\"max_length\",\n",
    "        max_length=WINDOW_LENGTH,\n",
    "        stride=STRIDE,\n",
    "        return_overflowing_tokens=True,\n",
    "        return_offsets_mapping=False,\n",
    "        return_tensors=\"pt\"\n",
    "    )\n",
    "    return encoding\n",
    "\n",
    "def predict_proba_for_dataset(dataset: Dataset, label_names) -> List[Dict[str, Any]]:\n",
    "    results = []\n",
    "\n",
    "    for example in tqdm(dataset):\n",
    "        tokenized = tokenize_sliding_windows(example)\n",
    "        input_ids = tokenized[\"input_ids\"].to(model.device)\n",
    "        attention_mask = tokenized[\"attention_mask\"].to(model.device)\n",
    "\n",
    "        with torch.no_grad():\n",
    "            outputs = model(input_ids=input_ids, attention_mask=attention_mask)\n",
    "            probs = torch.nn.functional.softmax(outputs.logits, dim=-1).cpu().numpy()\n",
    "\n",
    "        avg_probs = probs.mean(axis=0)\n",
    "        pred_idx = int(np.argmax(avg_probs))\n",
    "        pred_label = label_names[pred_idx]\n",
    "\n",
    "        results.append({\n",
    "            \"probs\": avg_probs.tolist(),\n",
    "            \"label\": label_names[example[\"label\"]],  # true value\n",
    "            \"prediction_label\": pred_label,\n",
    "        })\n",
    "\n",
    "    return results\n"
   ]
  },
  {
   "cell_type": "markdown",
   "id": "DOsyPySjBU-a",
   "metadata": {
    "id": "DOsyPySjBU-a"
   },
   "source": [
    "### Validation"
   ]
  },
  {
   "cell_type": "code",
   "execution_count": 17,
   "id": "nK9JVhMCBuM8",
   "metadata": {
    "colab": {
     "base_uri": "https://localhost:8080/"
    },
    "id": "nK9JVhMCBuM8",
    "outputId": "80e0b8bc-afe8-4078-ed2f-31f9f0a5c151"
   },
   "outputs": [
    {
     "name": "stderr",
     "output_type": "stream",
     "text": [
      "100%|██████████| 5418/5418 [00:34<00:00, 156.44it/s]\n"
     ]
    }
   ],
   "source": [
    "results_val_B = predict_proba_for_dataset(val_data, sorted(label_names))"
   ]
  },
  {
   "cell_type": "code",
   "execution_count": 18,
   "id": "F8io9c-RUMk3",
   "metadata": {
    "id": "F8io9c-RUMk3"
   },
   "outputs": [],
   "source": [
    "results_val_B_df = pd.DataFrame(results_val_B)"
   ]
  },
  {
   "cell_type": "code",
   "execution_count": 19,
   "id": "LQPypCKBV08p",
   "metadata": {
    "id": "LQPypCKBV08p"
   },
   "outputs": [],
   "source": [
    "results_val_B_df.to_csv(\"classifier_final_B_validation_results.csv\",index=False)"
   ]
  },
  {
   "cell_type": "markdown",
   "id": "PM4LNZAGBXa9",
   "metadata": {
    "id": "PM4LNZAGBXa9"
   },
   "source": [
    "### TEST"
   ]
  },
  {
   "cell_type": "code",
   "execution_count": 20,
   "id": "dnkrbj3WB6kc",
   "metadata": {
    "colab": {
     "base_uri": "https://localhost:8080/"
    },
    "id": "dnkrbj3WB6kc",
    "outputId": "44d8b233-cdd5-4fd9-8706-f7779b6a972b"
   },
   "outputs": [
    {
     "name": "stderr",
     "output_type": "stream",
     "text": [
      "100%|██████████| 5418/5418 [00:34<00:00, 157.30it/s]\n"
     ]
    }
   ],
   "source": [
    "results_test_B = predict_proba_for_dataset(test_data, sorted(label_names))"
   ]
  },
  {
   "cell_type": "code",
   "execution_count": 21,
   "id": "hsV5vkohB6kf",
   "metadata": {
    "id": "hsV5vkohB6kf"
   },
   "outputs": [],
   "source": [
    "results_test_B_df = pd.DataFrame(results_test_B)"
   ]
  },
  {
   "cell_type": "code",
   "execution_count": 22,
   "id": "0CMbbUOJB6kg",
   "metadata": {
    "id": "0CMbbUOJB6kg"
   },
   "outputs": [],
   "source": [
    "results_test_B_df.to_csv(\"classifier_final_B_test_results.csv\", index=False)"
   ]
  },
  {
   "cell_type": "code",
   "execution_count": 23,
   "id": "jszPHfJ_NoyX",
   "metadata": {
    "id": "jszPHfJ_NoyX"
   },
   "outputs": [],
   "source": [
    "\n",
    "# Name of the zip file you want to create\n",
    "zip_filename = \"diffresultsB.zip\"\n",
    "\n",
    "# Create a zip file\n",
    "with zipfile.ZipFile(zip_filename, 'w', zipfile.ZIP_DEFLATED) as zipf:\n",
    "    # Add model/tokenizer folder\n",
    "    for root, dirs, files in os.walk(\"classifier_final_B/\"):\n",
    "        for file in files:\n",
    "            filepath = os.path.join(root, file)\n",
    "            arcname = os.path.relpath(filepath, start=os.path.dirname(\"classifier_final_B/\"))\n",
    "            zipf.write(filepath, arcname=arcname)\n",
    "\n",
    "    # Add any CSVs you want\n",
    "    for csv_file in [\"hyperpara_B.csv\", \"classifier_final_B_validation_results.csv\", \"classifier_final_B_test_results.csv\"]:\n",
    "        if os.path.exists(csv_file):\n",
    "            zipf.write(csv_file)"
   ]
  },
  {
   "cell_type": "code",
   "execution_count": 24,
   "id": "3785d04b-a3fa-48d1-8a43-89ce8b7a3ce6",
   "metadata": {},
   "outputs": [
    {
     "name": "stdout",
     "output_type": "stream",
     "text": [
      "Model: val\n",
      "  Accuracy: 0.6356589147286822\n",
      "  Balanced Accuracy: 0.6530388904893446\n",
      "  Precision: 0.6343739184509186\n",
      "  Recall: 0.6530388904893446\n",
      "  F1-score: 0.6395403215427818\n",
      "  Classification Report:\n",
      "              precision    recall  f1-score   support\n",
      "\n",
      "         AfD       0.86      0.83      0.84       776\n",
      "     CDU/CSU       0.70      0.60      0.65      1402\n",
      "         FDP       0.51      0.58      0.54       713\n",
      "       GRÜNE       0.49      0.59      0.53       712\n",
      "       LINKE       0.60      0.76      0.68       581\n",
      "         SPD       0.64      0.56      0.60      1234\n",
      "\n",
      "    accuracy                           0.64      5418\n",
      "   macro avg       0.63      0.65      0.64      5418\n",
      "weighted avg       0.65      0.64      0.64      5418\n",
      "\n"
     ]
    },
    {
     "data": {
      "image/png": "[encoded data removed]",
      "text/plain": [
       "<Figure size 800x600 with 2 Axes>"
      ]
     },
     "metadata": {},
     "output_type": "display_data"
    },
    {
     "name": "stdout",
     "output_type": "stream",
     "text": [
      "Model: val\n",
      "  Accuracy: 0.6238464377999262\n",
      "  Balanced Accuracy: 0.6438428153122482\n",
      "  Precision: 0.6244386623208871\n",
      "  Recall: 0.6438428153122482\n",
      "  F1-score: 0.6294255506816466\n",
      "  Classification Report:\n",
      "              precision    recall  f1-score   support\n",
      "\n",
      "         AfD       0.83      0.80      0.82       747\n",
      "     CDU/CSU       0.72      0.58      0.64      1426\n",
      "         FDP       0.49      0.60      0.54       678\n",
      "       GRÜNE       0.52      0.58      0.55       804\n",
      "       LINKE       0.58      0.77      0.66       593\n",
      "         SPD       0.60      0.54      0.57      1170\n",
      "\n",
      "    accuracy                           0.62      5418\n",
      "   macro avg       0.62      0.64      0.63      5418\n",
      "weighted avg       0.64      0.62      0.63      5418\n",
      "\n"
     ]
    },
    {
     "data": {
      "image/png": "[encoded data removed]",
      "text/plain": [
       "<Figure size 800x600 with 2 Axes>"
      ]
     },
     "metadata": {},
     "output_type": "display_data"
    }
   ],
   "source": [
    "# define function to display eval metrics\n",
    "def get_metrics(true_labels, preds, model_name):\n",
    "    metrics_summary = {}\n",
    "\n",
    "    acc = accuracy_score(true_labels, preds)\n",
    "    bal_acc = balanced_accuracy_score(true_labels, preds)\n",
    "\n",
    "    precision = precision_score(true_labels, preds, average='macro', zero_division=0)\n",
    "    recall = recall_score(true_labels, preds, average='macro', zero_division=0)\n",
    "    f1 = f1_score(true_labels, preds, average='macro', zero_division=0)\n",
    "\n",
    "    label_order = sorted(set(true_labels).union(set(preds)))\n",
    "    report = classification_report(true_labels, preds, labels=label_order, zero_division=0)\n",
    "    metrics_summary[model_name] = {\n",
    "        'acc': acc,\n",
    "        'bal_acc': bal_acc,\n",
    "        'precision': precision,\n",
    "        'recall': recall,\n",
    "        'f1': f1\n",
    "    }\n",
    "    # print metrics\n",
    "    print(f\"Model: {model_name}\")\n",
    "    print(f\"  Accuracy: {acc}\")\n",
    "    print(f\"  Balanced Accuracy: {bal_acc}\")\n",
    "    print(f\"  Precision: {precision}\")\n",
    "    print(f\"  Recall: {recall}\")\n",
    "    print(f\"  F1-score: {f1}\")\n",
    "    print(f\"  Classification Report:\\n{report}\")\n",
    "\n",
    "\n",
    "    # Confusion Matrix\n",
    "    label_order = sorted(set(true_labels).union(set(preds)))\n",
    "    cm = confusion_matrix(true_labels, preds, labels=label_order)\n",
    "    cm_df = pd.DataFrame(cm, index=label_order, columns=label_order)\n",
    "\n",
    "    plt.figure(figsize=(8, 6))\n",
    "    sns.heatmap(cm_df, annot=True, fmt='d', cmap='Blues')\n",
    "    plt.title(f\"Confusion Matrix - {model_name}\")\n",
    "    plt.ylabel(\"True Label\")\n",
    "    plt.xlabel(\"Predicted Label\")\n",
    "    plt.tight_layout()\n",
    "    plt.show()\n",
    "\n",
    "\n",
    "    return metrics_summary\n",
    "\n",
    "val_results = get_metrics(results_val_B_df[\"label\"], results_val_B_df[\"prediction_label\"], \"val\")\n",
    "test_results = get_metrics(results_test_B_df[\"label\"], results_test_B_df[\"prediction_label\"], \"val\")\n"
   ]
  }
 ],
 "metadata": {
  "accelerator": "GPU",
  "colab": {
   "gpuType": "T4",
   "provenance": []
  },
  "kaggle": {
   "accelerator": "nvidiaTeslaT4",
   "dataSources": [
    {
     "datasetId": 8014436,
     "sourceId": 12681955,
     "sourceType": "datasetVersion"
    }
   ],
   "dockerImageVersionId": 31090,
   "isGpuEnabled": true,
   "isInternetEnabled": true,
   "language": "python",
   "sourceType": "notebook"
  },
  "kernelspec": {
   "display_name": "Python 3 (ipykernel)",
   "language": "python",
   "name": "python3"
  },
  "language_info": {
   "codemirror_mode": {
    "name": "ipython",
    "version": 3
   },
   "file_extension": ".py",
   "mimetype": "text/x-python",
   "name": "python",
   "nbconvert_exporter": "python",
   "pygments_lexer": "ipython3",
   "version": "3.11.6"
  },
  "widgets": {
   "application/vnd.jupyter.widget-state+json": {
    "063831e71f0c40048db79e340c4c18f2": {
     "model_module": "@jupyter-widgets/controls",
     "model_module_version": "1.5.0",
     "model_name": "FloatProgressModel",
     "state": {
      "_dom_classes": [],
      "_model_module": "@jupyter-widgets/controls",
      "_model_module_version": "1.5.0",
      "_model_name": "FloatProgressModel",
      "_view_count": null,
      "_view_module": "@jupyter-widgets/controls",
      "_view_module_version": "1.5.0",
      "_view_name": "ProgressView",
      "bar_style": "success",
      "description": "",
      "description_tooltip": null,
      "layout": "IPY_MODEL_c6f73ccbe582498f87b2d6376afc2a3a",
      "max": 60,
      "min": 0,
      "orientation": "horizontal",
      "style": "IPY_MODEL_65fbe393de6d4c94969b4f02daf0cd4d",
      "value": 60
     }
    },
    "08f24ff01d84466cb1379a2ee812c094": {
     "model_module": "@jupyter-widgets/base",
     "model_module_version": "1.2.0",
     "model_name": "LayoutModel",
     "state": {
      "_model_module": "@jupyter-widgets/base",
      "_model_module_version": "1.2.0",
      "_model_name": "LayoutModel",
      "_view_count": null,
      "_view_module": "@jupyter-widgets/base",
      "_view_module_version": "1.2.0",
      "_view_name": "LayoutView",
      "align_content": null,
      "align_items": null,
      "align_self": null,
      "border": null,
      "bottom": null,
      "display": null,
      "flex": null,
      "flex_flow": null,
      "grid_area": null,
      "grid_auto_columns": null,
      "grid_auto_flow": null,
      "grid_auto_rows": null,
      "grid_column": null,
      "grid_gap": null,
      "grid_row": null,
      "grid_template_areas": null,
      "grid_template_columns": null,
      "grid_template_rows": null,
      "height": null,
      "justify_content": null,
      "justify_items": null,
      "left": null,
      "margin": null,
      "max_height": null,
      "max_width": null,
      "min_height": null,
      "min_width": null,
      "object_fit": null,
      "object_position": null,
      "order": null,
      "overflow": null,
      "overflow_x": null,
      "overflow_y": null,
      "padding": null,
      "right": null,
      "top": null,
      "visibility": null,
      "width": null
     }
    },
    "113840af702445cdad8b5e7183a3fa2e": {
     "model_module": "@jupyter-widgets/controls",
     "model_module_version": "1.5.0",
     "model_name": "HTMLModel",
     "state": {
      "_dom_classes": [],
      "_model_module": "@jupyter-widgets/controls",
      "_model_module_version": "1.5.0",
      "_model_name": "HTMLModel",
      "_view_count": null,
      "_view_module": "@jupyter-widgets/controls",
      "_view_module_version": "1.5.0",
      "_view_name": "HTMLView",
      "description": "",
      "description_tooltip": null,
      "layout": "IPY_MODEL_af61ec3e5faf43e29446c0fa50d68150",
      "placeholder": "​",
      "style": "IPY_MODEL_11d967520eec46da838462e9c50074d7",
      "value": " 60/60 [00:00&lt;00:00, 290.05 examples/s]"
     }
    },
    "11d967520eec46da838462e9c50074d7": {
     "model_module": "@jupyter-widgets/controls",
     "model_module_version": "1.5.0",
     "model_name": "DescriptionStyleModel",
     "state": {
      "_model_module": "@jupyter-widgets/controls",
      "_model_module_version": "1.5.0",
      "_model_name": "DescriptionStyleModel",
      "_view_count": null,
      "_view_module": "@jupyter-widgets/base",
      "_view_module_version": "1.2.0",
      "_view_name": "StyleView",
      "description_width": ""
     }
    },
    "1c4f18f5eaa948f2a88f4f5de8435b96": {
     "model_module": "@jupyter-widgets/controls",
     "model_module_version": "1.5.0",
     "model_name": "HBoxModel",
     "state": {
      "_dom_classes": [],
      "_model_module": "@jupyter-widgets/controls",
      "_model_module_version": "1.5.0",
      "_model_name": "HBoxModel",
      "_view_count": null,
      "_view_module": "@jupyter-widgets/controls",
      "_view_module_version": "1.5.0",
      "_view_name": "HBoxView",
      "box_style": "",
      "children": [
       "IPY_MODEL_9960664d1e1b48369f7427a35648c428",
       "IPY_MODEL_c08f9dbd80734150bed5fbf3bd610eea",
       "IPY_MODEL_91c2114d7b014557b6f7558e9ac22226"
      ],
      "layout": "IPY_MODEL_81752dc9e51b49b79d147f30e407bb0d"
     }
    },
    "2078cf1aa65448b3bd87ef58077a253a": {
     "model_module": "@jupyter-widgets/controls",
     "model_module_version": "1.5.0",
     "model_name": "ProgressStyleModel",
     "state": {
      "_model_module": "@jupyter-widgets/controls",
      "_model_module_version": "1.5.0",
      "_model_name": "ProgressStyleModel",
      "_view_count": null,
      "_view_module": "@jupyter-widgets/base",
      "_view_module_version": "1.2.0",
      "_view_name": "StyleView",
      "bar_color": null,
      "description_width": ""
     }
    },
    "21fb6e69be744d3e9b98e1b522711d89": {
     "model_module": "@jupyter-widgets/controls",
     "model_module_version": "1.5.0",
     "model_name": "DescriptionStyleModel",
     "state": {
      "_model_module": "@jupyter-widgets/controls",
      "_model_module_version": "1.5.0",
      "_model_name": "DescriptionStyleModel",
      "_view_count": null,
      "_view_module": "@jupyter-widgets/base",
      "_view_module_version": "1.2.0",
      "_view_name": "StyleView",
      "description_width": ""
     }
    },
    "2d629ce2c4584ce59530bb367a66a520": {
     "model_module": "@jupyter-widgets/base",
     "model_module_version": "1.2.0",
     "model_name": "LayoutModel",
     "state": {
      "_model_module": "@jupyter-widgets/base",
      "_model_module_version": "1.2.0",
      "_model_name": "LayoutModel",
      "_view_count": null,
      "_view_module": "@jupyter-widgets/base",
      "_view_module_version": "1.2.0",
      "_view_name": "LayoutView",
      "align_content": null,
      "align_items": null,
      "align_self": null,
      "border": null,
      "bottom": null,
      "display": null,
      "flex": null,
      "flex_flow": null,
      "grid_area": null,
      "grid_auto_columns": null,
      "grid_auto_flow": null,
      "grid_auto_rows": null,
      "grid_column": null,
      "grid_gap": null,
      "grid_row": null,
      "grid_template_areas": null,
      "grid_template_columns": null,
      "grid_template_rows": null,
      "height": null,
      "justify_content": null,
      "justify_items": null,
      "left": null,
      "margin": null,
      "max_height": null,
      "max_width": null,
      "min_height": null,
      "min_width": null,
      "object_fit": null,
      "object_position": null,
      "order": null,
      "overflow": null,
      "overflow_x": null,
      "overflow_y": null,
      "padding": null,
      "right": null,
      "top": null,
      "visibility": null,
      "width": null
     }
    },
    "380ecf5f60284919b8b3e28c8fcb8cb3": {
     "model_module": "@jupyter-widgets/controls",
     "model_module_version": "1.5.0",
     "model_name": "DescriptionStyleModel",
     "state": {
      "_model_module": "@jupyter-widgets/controls",
      "_model_module_version": "1.5.0",
      "_model_name": "DescriptionStyleModel",
      "_view_count": null,
      "_view_module": "@jupyter-widgets/base",
      "_view_module_version": "1.2.0",
      "_view_name": "StyleView",
      "description_width": ""
     }
    },
    "3827160c78434ed984f85bfdaab631d6": {
     "model_module": "@jupyter-widgets/controls",
     "model_module_version": "1.5.0",
     "model_name": "HBoxModel",
     "state": {
      "_dom_classes": [],
      "_model_module": "@jupyter-widgets/controls",
      "_model_module_version": "1.5.0",
      "_model_name": "HBoxModel",
      "_view_count": null,
      "_view_module": "@jupyter-widgets/controls",
      "_view_module_version": "1.5.0",
      "_view_name": "HBoxView",
      "box_style": "",
      "children": [
       "IPY_MODEL_95088a70b1da48fbb11b37f882ce698f",
       "IPY_MODEL_063831e71f0c40048db79e340c4c18f2",
       "IPY_MODEL_113840af702445cdad8b5e7183a3fa2e"
      ],
      "layout": "IPY_MODEL_3b02dea8ced64298920b601141c70f46"
     }
    },
    "3b02dea8ced64298920b601141c70f46": {
     "model_module": "@jupyter-widgets/base",
     "model_module_version": "1.2.0",
     "model_name": "LayoutModel",
     "state": {
      "_model_module": "@jupyter-widgets/base",
      "_model_module_version": "1.2.0",
      "_model_name": "LayoutModel",
      "_view_count": null,
      "_view_module": "@jupyter-widgets/base",
      "_view_module_version": "1.2.0",
      "_view_name": "LayoutView",
      "align_content": null,
      "align_items": null,
      "align_self": null,
      "border": null,
      "bottom": null,
      "display": null,
      "flex": null,
      "flex_flow": null,
      "grid_area": null,
      "grid_auto_columns": null,
      "grid_auto_flow": null,
      "grid_auto_rows": null,
      "grid_column": null,
      "grid_gap": null,
      "grid_row": null,
      "grid_template_areas": null,
      "grid_template_columns": null,
      "grid_template_rows": null,
      "height": null,
      "justify_content": null,
      "justify_items": null,
      "left": null,
      "margin": null,
      "max_height": null,
      "max_width": null,
      "min_height": null,
      "min_width": null,
      "object_fit": null,
      "object_position": null,
      "order": null,
      "overflow": null,
      "overflow_x": null,
      "overflow_y": null,
      "padding": null,
      "right": null,
      "top": null,
      "visibility": null,
      "width": null
     }
    },
    "421f8b4a35b64aa29b02893c243afcf6": {
     "model_module": "@jupyter-widgets/base",
     "model_module_version": "1.2.0",
     "model_name": "LayoutModel",
     "state": {
      "_model_module": "@jupyter-widgets/base",
      "_model_module_version": "1.2.0",
      "_model_name": "LayoutModel",
      "_view_count": null,
      "_view_module": "@jupyter-widgets/base",
      "_view_module_version": "1.2.0",
      "_view_name": "LayoutView",
      "align_content": null,
      "align_items": null,
      "align_self": null,
      "border": null,
      "bottom": null,
      "display": null,
      "flex": null,
      "flex_flow": null,
      "grid_area": null,
      "grid_auto_columns": null,
      "grid_auto_flow": null,
      "grid_auto_rows": null,
      "grid_column": null,
      "grid_gap": null,
      "grid_row": null,
      "grid_template_areas": null,
      "grid_template_columns": null,
      "grid_template_rows": null,
      "height": null,
      "justify_content": null,
      "justify_items": null,
      "left": null,
      "margin": null,
      "max_height": null,
      "max_width": null,
      "min_height": null,
      "min_width": null,
      "object_fit": null,
      "object_position": null,
      "order": null,
      "overflow": null,
      "overflow_x": null,
      "overflow_y": null,
      "padding": null,
      "right": null,
      "top": null,
      "visibility": null,
      "width": null
     }
    },
    "4f7d83b11187462cb85f912ce147ae33": {
     "model_module": "@jupyter-widgets/controls",
     "model_module_version": "1.5.0",
     "model_name": "DescriptionStyleModel",
     "state": {
      "_model_module": "@jupyter-widgets/controls",
      "_model_module_version": "1.5.0",
      "_model_name": "DescriptionStyleModel",
      "_view_count": null,
      "_view_module": "@jupyter-widgets/base",
      "_view_module_version": "1.2.0",
      "_view_name": "StyleView",
      "description_width": ""
     }
    },
    "51e9de3ef2ec47ff9608f9e91abd09ce": {
     "model_module": "@jupyter-widgets/base",
     "model_module_version": "1.2.0",
     "model_name": "LayoutModel",
     "state": {
      "_model_module": "@jupyter-widgets/base",
      "_model_module_version": "1.2.0",
      "_model_name": "LayoutModel",
      "_view_count": null,
      "_view_module": "@jupyter-widgets/base",
      "_view_module_version": "1.2.0",
      "_view_name": "LayoutView",
      "align_content": null,
      "align_items": null,
      "align_self": null,
      "border": null,
      "bottom": null,
      "display": null,
      "flex": null,
      "flex_flow": null,
      "grid_area": null,
      "grid_auto_columns": null,
      "grid_auto_flow": null,
      "grid_auto_rows": null,
      "grid_column": null,
      "grid_gap": null,
      "grid_row": null,
      "grid_template_areas": null,
      "grid_template_columns": null,
      "grid_template_rows": null,
      "height": null,
      "justify_content": null,
      "justify_items": null,
      "left": null,
      "margin": null,
      "max_height": null,
      "max_width": null,
      "min_height": null,
      "min_width": null,
      "object_fit": null,
      "object_position": null,
      "order": null,
      "overflow": null,
      "overflow_x": null,
      "overflow_y": null,
      "padding": null,
      "right": null,
      "top": null,
      "visibility": null,
      "width": null
     }
    },
    "5214d01cc78f4f72b8a243a4861ad36d": {
     "model_module": "@jupyter-widgets/base",
     "model_module_version": "1.2.0",
     "model_name": "LayoutModel",
     "state": {
      "_model_module": "@jupyter-widgets/base",
      "_model_module_version": "1.2.0",
      "_model_name": "LayoutModel",
      "_view_count": null,
      "_view_module": "@jupyter-widgets/base",
      "_view_module_version": "1.2.0",
      "_view_name": "LayoutView",
      "align_content": null,
      "align_items": null,
      "align_self": null,
      "border": null,
      "bottom": null,
      "display": null,
      "flex": null,
      "flex_flow": null,
      "grid_area": null,
      "grid_auto_columns": null,
      "grid_auto_flow": null,
      "grid_auto_rows": null,
      "grid_column": null,
      "grid_gap": null,
      "grid_row": null,
      "grid_template_areas": null,
      "grid_template_columns": null,
      "grid_template_rows": null,
      "height": null,
      "justify_content": null,
      "justify_items": null,
      "left": null,
      "margin": null,
      "max_height": null,
      "max_width": null,
      "min_height": null,
      "min_width": null,
      "object_fit": null,
      "object_position": null,
      "order": null,
      "overflow": null,
      "overflow_x": null,
      "overflow_y": null,
      "padding": null,
      "right": null,
      "top": null,
      "visibility": null,
      "width": null
     }
    },
    "53ae4c38ddbf43958eade1be9965b5bd": {
     "model_module": "@jupyter-widgets/controls",
     "model_module_version": "1.5.0",
     "model_name": "ProgressStyleModel",
     "state": {
      "_model_module": "@jupyter-widgets/controls",
      "_model_module_version": "1.5.0",
      "_model_name": "ProgressStyleModel",
      "_view_count": null,
      "_view_module": "@jupyter-widgets/base",
      "_view_module_version": "1.2.0",
      "_view_name": "StyleView",
      "bar_color": null,
      "description_width": ""
     }
    },
    "5931061451994342921f8495030207e9": {
     "model_module": "@jupyter-widgets/controls",
     "model_module_version": "1.5.0",
     "model_name": "ProgressStyleModel",
     "state": {
      "_model_module": "@jupyter-widgets/controls",
      "_model_module_version": "1.5.0",
      "_model_name": "ProgressStyleModel",
      "_view_count": null,
      "_view_module": "@jupyter-widgets/base",
      "_view_module_version": "1.2.0",
      "_view_name": "StyleView",
      "bar_color": null,
      "description_width": ""
     }
    },
    "59f07f1d31904cb781d8b7e997507a87": {
     "model_module": "@jupyter-widgets/controls",
     "model_module_version": "1.5.0",
     "model_name": "DescriptionStyleModel",
     "state": {
      "_model_module": "@jupyter-widgets/controls",
      "_model_module_version": "1.5.0",
      "_model_name": "DescriptionStyleModel",
      "_view_count": null,
      "_view_module": "@jupyter-widgets/base",
      "_view_module_version": "1.2.0",
      "_view_name": "StyleView",
      "description_width": ""
     }
    },
    "5a18a8608e0b4874b2147a8c4179f4ec": {
     "model_module": "@jupyter-widgets/controls",
     "model_module_version": "1.5.0",
     "model_name": "HBoxModel",
     "state": {
      "_dom_classes": [],
      "_model_module": "@jupyter-widgets/controls",
      "_model_module_version": "1.5.0",
      "_model_name": "HBoxModel",
      "_view_count": null,
      "_view_module": "@jupyter-widgets/controls",
      "_view_module_version": "1.5.0",
      "_view_name": "HBoxView",
      "box_style": "",
      "children": [
       "IPY_MODEL_f81db139a4d44fa89133f78c062537fa",
       "IPY_MODEL_5ab9d8e85b5b4de196a01d0a7a07d5dd",
       "IPY_MODEL_6cd0f87dad9a444daf182e209dfb23c5"
      ],
      "layout": "IPY_MODEL_5214d01cc78f4f72b8a243a4861ad36d"
     }
    },
    "5ab9d8e85b5b4de196a01d0a7a07d5dd": {
     "model_module": "@jupyter-widgets/controls",
     "model_module_version": "1.5.0",
     "model_name": "FloatProgressModel",
     "state": {
      "_dom_classes": [],
      "_model_module": "@jupyter-widgets/controls",
      "_model_module_version": "1.5.0",
      "_model_name": "FloatProgressModel",
      "_view_count": null,
      "_view_module": "@jupyter-widgets/controls",
      "_view_module_version": "1.5.0",
      "_view_name": "ProgressView",
      "bar_style": "success",
      "description": "",
      "description_tooltip": null,
      "layout": "IPY_MODEL_789732f7667648b595d730352d32bc9f",
      "max": 36117,
      "min": 0,
      "orientation": "horizontal",
      "style": "IPY_MODEL_b44b6fb0b28c4a3b98d4c87259e6a10c",
      "value": 36117
     }
    },
    "5e1aeb226fe74bf9982192cf0675d42d": {
     "model_module": "@jupyter-widgets/controls",
     "model_module_version": "1.5.0",
     "model_name": "DescriptionStyleModel",
     "state": {
      "_model_module": "@jupyter-widgets/controls",
      "_model_module_version": "1.5.0",
      "_model_name": "DescriptionStyleModel",
      "_view_count": null,
      "_view_module": "@jupyter-widgets/base",
      "_view_module_version": "1.2.0",
      "_view_name": "StyleView",
      "description_width": ""
     }
    },
    "63fd357087194ac2857966dc11688bb2": {
     "model_module": "@jupyter-widgets/base",
     "model_module_version": "1.2.0",
     "model_name": "LayoutModel",
     "state": {
      "_model_module": "@jupyter-widgets/base",
      "_model_module_version": "1.2.0",
      "_model_name": "LayoutModel",
      "_view_count": null,
      "_view_module": "@jupyter-widgets/base",
      "_view_module_version": "1.2.0",
      "_view_name": "LayoutView",
      "align_content": null,
      "align_items": null,
      "align_self": null,
      "border": null,
      "bottom": null,
      "display": null,
      "flex": null,
      "flex_flow": null,
      "grid_area": null,
      "grid_auto_columns": null,
      "grid_auto_flow": null,
      "grid_auto_rows": null,
      "grid_column": null,
      "grid_gap": null,
      "grid_row": null,
      "grid_template_areas": null,
      "grid_template_columns": null,
      "grid_template_rows": null,
      "height": null,
      "justify_content": null,
      "justify_items": null,
      "left": null,
      "margin": null,
      "max_height": null,
      "max_width": null,
      "min_height": null,
      "min_width": null,
      "object_fit": null,
      "object_position": null,
      "order": null,
      "overflow": null,
      "overflow_x": null,
      "overflow_y": null,
      "padding": null,
      "right": null,
      "top": null,
      "visibility": null,
      "width": null
     }
    },
    "65fbe393de6d4c94969b4f02daf0cd4d": {
     "model_module": "@jupyter-widgets/controls",
     "model_module_version": "1.5.0",
     "model_name": "ProgressStyleModel",
     "state": {
      "_model_module": "@jupyter-widgets/controls",
      "_model_module_version": "1.5.0",
      "_model_name": "ProgressStyleModel",
      "_view_count": null,
      "_view_module": "@jupyter-widgets/base",
      "_view_module_version": "1.2.0",
      "_view_name": "StyleView",
      "bar_color": null,
      "description_width": ""
     }
    },
    "6cd0f87dad9a444daf182e209dfb23c5": {
     "model_module": "@jupyter-widgets/controls",
     "model_module_version": "1.5.0",
     "model_name": "HTMLModel",
     "state": {
      "_dom_classes": [],
      "_model_module": "@jupyter-widgets/controls",
      "_model_module_version": "1.5.0",
      "_model_name": "HTMLModel",
      "_view_count": null,
      "_view_module": "@jupyter-widgets/controls",
      "_view_module_version": "1.5.0",
      "_view_name": "HTMLView",
      "description": "",
      "description_tooltip": null,
      "layout": "IPY_MODEL_2d629ce2c4584ce59530bb367a66a520",
      "placeholder": "​",
      "style": "IPY_MODEL_4f7d83b11187462cb85f912ce147ae33",
      "value": " 36117/36117 [00:02&lt;00:00, 13099.08 examples/s]"
     }
    },
    "6ea7f3cbdbc448bca593a0d320681993": {
     "model_module": "@jupyter-widgets/base",
     "model_module_version": "1.2.0",
     "model_name": "LayoutModel",
     "state": {
      "_model_module": "@jupyter-widgets/base",
      "_model_module_version": "1.2.0",
      "_model_name": "LayoutModel",
      "_view_count": null,
      "_view_module": "@jupyter-widgets/base",
      "_view_module_version": "1.2.0",
      "_view_name": "LayoutView",
      "align_content": null,
      "align_items": null,
      "align_self": null,
      "border": null,
      "bottom": null,
      "display": null,
      "flex": null,
      "flex_flow": null,
      "grid_area": null,
      "grid_auto_columns": null,
      "grid_auto_flow": null,
      "grid_auto_rows": null,
      "grid_column": null,
      "grid_gap": null,
      "grid_row": null,
      "grid_template_areas": null,
      "grid_template_columns": null,
      "grid_template_rows": null,
      "height": null,
      "justify_content": null,
      "justify_items": null,
      "left": null,
      "margin": null,
      "max_height": null,
      "max_width": null,
      "min_height": null,
      "min_width": null,
      "object_fit": null,
      "object_position": null,
      "order": null,
      "overflow": null,
      "overflow_x": null,
      "overflow_y": null,
      "padding": null,
      "right": null,
      "top": null,
      "visibility": null,
      "width": null
     }
    },
    "73f34ed7d59641c4ac8551101cfe88f9": {
     "model_module": "@jupyter-widgets/controls",
     "model_module_version": "1.5.0",
     "model_name": "HTMLModel",
     "state": {
      "_dom_classes": [],
      "_model_module": "@jupyter-widgets/controls",
      "_model_module_version": "1.5.0",
      "_model_name": "HTMLModel",
      "_view_count": null,
      "_view_module": "@jupyter-widgets/controls",
      "_view_module_version": "1.5.0",
      "_view_name": "HTMLView",
      "description": "",
      "description_tooltip": null,
      "layout": "IPY_MODEL_bd7d4a6adb314d6eb6d5868aca611f25",
      "placeholder": "​",
      "style": "IPY_MODEL_d15edfea5c54436c8745daec6e090679",
      "value": "Map: 100%"
     }
    },
    "789732f7667648b595d730352d32bc9f": {
     "model_module": "@jupyter-widgets/base",
     "model_module_version": "1.2.0",
     "model_name": "LayoutModel",
     "state": {
      "_model_module": "@jupyter-widgets/base",
      "_model_module_version": "1.2.0",
      "_model_name": "LayoutModel",
      "_view_count": null,
      "_view_module": "@jupyter-widgets/base",
      "_view_module_version": "1.2.0",
      "_view_name": "LayoutView",
      "align_content": null,
      "align_items": null,
      "align_self": null,
      "border": null,
      "bottom": null,
      "display": null,
      "flex": null,
      "flex_flow": null,
      "grid_area": null,
      "grid_auto_columns": null,
      "grid_auto_flow": null,
      "grid_auto_rows": null,
      "grid_column": null,
      "grid_gap": null,
      "grid_row": null,
      "grid_template_areas": null,
      "grid_template_columns": null,
      "grid_template_rows": null,
      "height": null,
      "justify_content": null,
      "justify_items": null,
      "left": null,
      "margin": null,
      "max_height": null,
      "max_width": null,
      "min_height": null,
      "min_width": null,
      "object_fit": null,
      "object_position": null,
      "order": null,
      "overflow": null,
      "overflow_x": null,
      "overflow_y": null,
      "padding": null,
      "right": null,
      "top": null,
      "visibility": null,
      "width": null
     }
    },
    "81752dc9e51b49b79d147f30e407bb0d": {
     "model_module": "@jupyter-widgets/base",
     "model_module_version": "1.2.0",
     "model_name": "LayoutModel",
     "state": {
      "_model_module": "@jupyter-widgets/base",
      "_model_module_version": "1.2.0",
      "_model_name": "LayoutModel",
      "_view_count": null,
      "_view_module": "@jupyter-widgets/base",
      "_view_module_version": "1.2.0",
      "_view_name": "LayoutView",
      "align_content": null,
      "align_items": null,
      "align_self": null,
      "border": null,
      "bottom": null,
      "display": null,
      "flex": null,
      "flex_flow": null,
      "grid_area": null,
      "grid_auto_columns": null,
      "grid_auto_flow": null,
      "grid_auto_rows": null,
      "grid_column": null,
      "grid_gap": null,
      "grid_row": null,
      "grid_template_areas": null,
      "grid_template_columns": null,
      "grid_template_rows": null,
      "height": null,
      "justify_content": null,
      "justify_items": null,
      "left": null,
      "margin": null,
      "max_height": null,
      "max_width": null,
      "min_height": null,
      "min_width": null,
      "object_fit": null,
      "object_position": null,
      "order": null,
      "overflow": null,
      "overflow_x": null,
      "overflow_y": null,
      "padding": null,
      "right": null,
      "top": null,
      "visibility": null,
      "width": null
     }
    },
    "86791250ae264b4f95ec0d38c2e7a372": {
     "model_module": "@jupyter-widgets/controls",
     "model_module_version": "1.5.0",
     "model_name": "HBoxModel",
     "state": {
      "_dom_classes": [],
      "_model_module": "@jupyter-widgets/controls",
      "_model_module_version": "1.5.0",
      "_model_name": "HBoxModel",
      "_view_count": null,
      "_view_module": "@jupyter-widgets/controls",
      "_view_module_version": "1.5.0",
      "_view_name": "HBoxView",
      "box_style": "",
      "children": [
       "IPY_MODEL_73f34ed7d59641c4ac8551101cfe88f9",
       "IPY_MODEL_ee6953e798bb46ebaee43099e81e419e",
       "IPY_MODEL_f7afc93c60db4b0d917844593637d6f3"
      ],
      "layout": "IPY_MODEL_efc8803428614d50bd9ff83c556aff98"
     }
    },
    "88fcf138b2ac439ab6ca1eec7b417719": {
     "model_module": "@jupyter-widgets/base",
     "model_module_version": "1.2.0",
     "model_name": "LayoutModel",
     "state": {
      "_model_module": "@jupyter-widgets/base",
      "_model_module_version": "1.2.0",
      "_model_name": "LayoutModel",
      "_view_count": null,
      "_view_module": "@jupyter-widgets/base",
      "_view_module_version": "1.2.0",
      "_view_name": "LayoutView",
      "align_content": null,
      "align_items": null,
      "align_self": null,
      "border": null,
      "bottom": null,
      "display": null,
      "flex": null,
      "flex_flow": null,
      "grid_area": null,
      "grid_auto_columns": null,
      "grid_auto_flow": null,
      "grid_auto_rows": null,
      "grid_column": null,
      "grid_gap": null,
      "grid_row": null,
      "grid_template_areas": null,
      "grid_template_columns": null,
      "grid_template_rows": null,
      "height": null,
      "justify_content": null,
      "justify_items": null,
      "left": null,
      "margin": null,
      "max_height": null,
      "max_width": null,
      "min_height": null,
      "min_width": null,
      "object_fit": null,
      "object_position": null,
      "order": null,
      "overflow": null,
      "overflow_x": null,
      "overflow_y": null,
      "padding": null,
      "right": null,
      "top": null,
      "visibility": null,
      "width": null
     }
    },
    "8dc84cd0058746538195c54da457196f": {
     "model_module": "@jupyter-widgets/controls",
     "model_module_version": "1.5.0",
     "model_name": "HTMLModel",
     "state": {
      "_dom_classes": [],
      "_model_module": "@jupyter-widgets/controls",
      "_model_module_version": "1.5.0",
      "_model_name": "HTMLModel",
      "_view_count": null,
      "_view_module": "@jupyter-widgets/controls",
      "_view_module_version": "1.5.0",
      "_view_name": "HTMLView",
      "description": "",
      "description_tooltip": null,
      "layout": "IPY_MODEL_9fe2262ba59442f0af625b79352f52d5",
      "placeholder": "​",
      "style": "IPY_MODEL_5e1aeb226fe74bf9982192cf0675d42d",
      "value": "Map: 100%"
     }
    },
    "909c4950fa0b4484ae7265fdb4f9a940": {
     "model_module": "@jupyter-widgets/controls",
     "model_module_version": "1.5.0",
     "model_name": "FloatProgressModel",
     "state": {
      "_dom_classes": [],
      "_model_module": "@jupyter-widgets/controls",
      "_model_module_version": "1.5.0",
      "_model_name": "FloatProgressModel",
      "_view_count": null,
      "_view_module": "@jupyter-widgets/controls",
      "_view_module_version": "1.5.0",
      "_view_name": "ProgressView",
      "bar_style": "success",
      "description": "",
      "description_tooltip": null,
      "layout": "IPY_MODEL_ce7ff5de58734d40bafabbc99cbc75ee",
      "max": 5418,
      "min": 0,
      "orientation": "horizontal",
      "style": "IPY_MODEL_5931061451994342921f8495030207e9",
      "value": 5418
     }
    },
    "91c2114d7b014557b6f7558e9ac22226": {
     "model_module": "@jupyter-widgets/controls",
     "model_module_version": "1.5.0",
     "model_name": "HTMLModel",
     "state": {
      "_dom_classes": [],
      "_model_module": "@jupyter-widgets/controls",
      "_model_module_version": "1.5.0",
      "_model_name": "HTMLModel",
      "_view_count": null,
      "_view_module": "@jupyter-widgets/controls",
      "_view_module_version": "1.5.0",
      "_view_name": "HTMLView",
      "description": "",
      "description_tooltip": null,
      "layout": "IPY_MODEL_6ea7f3cbdbc448bca593a0d320681993",
      "placeholder": "​",
      "style": "IPY_MODEL_59f07f1d31904cb781d8b7e997507a87",
      "value": " 10/10 [00:00&lt;00:00, 149.36 examples/s]"
     }
    },
    "95088a70b1da48fbb11b37f882ce698f": {
     "model_module": "@jupyter-widgets/controls",
     "model_module_version": "1.5.0",
     "model_name": "HTMLModel",
     "state": {
      "_dom_classes": [],
      "_model_module": "@jupyter-widgets/controls",
      "_model_module_version": "1.5.0",
      "_model_name": "HTMLModel",
      "_view_count": null,
      "_view_module": "@jupyter-widgets/controls",
      "_view_module_version": "1.5.0",
      "_view_name": "HTMLView",
      "description": "",
      "description_tooltip": null,
      "layout": "IPY_MODEL_421f8b4a35b64aa29b02893c243afcf6",
      "placeholder": "​",
      "style": "IPY_MODEL_21fb6e69be744d3e9b98e1b522711d89",
      "value": "Map: 100%"
     }
    },
    "9732bfd00f944cf5974c1a5bcf9a4fbb": {
     "model_module": "@jupyter-widgets/controls",
     "model_module_version": "1.5.0",
     "model_name": "HBoxModel",
     "state": {
      "_dom_classes": [],
      "_model_module": "@jupyter-widgets/controls",
      "_model_module_version": "1.5.0",
      "_model_name": "HBoxModel",
      "_view_count": null,
      "_view_module": "@jupyter-widgets/controls",
      "_view_module_version": "1.5.0",
      "_view_name": "HBoxView",
      "box_style": "",
      "children": [
       "IPY_MODEL_8dc84cd0058746538195c54da457196f",
       "IPY_MODEL_909c4950fa0b4484ae7265fdb4f9a940",
       "IPY_MODEL_e3089dd334214893b1a54e6fa596ac49"
      ],
      "layout": "IPY_MODEL_08f24ff01d84466cb1379a2ee812c094"
     }
    },
    "9960664d1e1b48369f7427a35648c428": {
     "model_module": "@jupyter-widgets/controls",
     "model_module_version": "1.5.0",
     "model_name": "HTMLModel",
     "state": {
      "_dom_classes": [],
      "_model_module": "@jupyter-widgets/controls",
      "_model_module_version": "1.5.0",
      "_model_name": "HTMLModel",
      "_view_count": null,
      "_view_module": "@jupyter-widgets/controls",
      "_view_module_version": "1.5.0",
      "_view_name": "HTMLView",
      "description": "",
      "description_tooltip": null,
      "layout": "IPY_MODEL_f6a7045d9a2d477faa4bb8c8fa848c4b",
      "placeholder": "​",
      "style": "IPY_MODEL_e58008c959dc44c787282a44dc14f7a7",
      "value": "Map: 100%"
     }
    },
    "9fe2262ba59442f0af625b79352f52d5": {
     "model_module": "@jupyter-widgets/base",
     "model_module_version": "1.2.0",
     "model_name": "LayoutModel",
     "state": {
      "_model_module": "@jupyter-widgets/base",
      "_model_module_version": "1.2.0",
      "_model_name": "LayoutModel",
      "_view_count": null,
      "_view_module": "@jupyter-widgets/base",
      "_view_module_version": "1.2.0",
      "_view_name": "LayoutView",
      "align_content": null,
      "align_items": null,
      "align_self": null,
      "border": null,
      "bottom": null,
      "display": null,
      "flex": null,
      "flex_flow": null,
      "grid_area": null,
      "grid_auto_columns": null,
      "grid_auto_flow": null,
      "grid_auto_rows": null,
      "grid_column": null,
      "grid_gap": null,
      "grid_row": null,
      "grid_template_areas": null,
      "grid_template_columns": null,
      "grid_template_rows": null,
      "height": null,
      "justify_content": null,
      "justify_items": null,
      "left": null,
      "margin": null,
      "max_height": null,
      "max_width": null,
      "min_height": null,
      "min_width": null,
      "object_fit": null,
      "object_position": null,
      "order": null,
      "overflow": null,
      "overflow_x": null,
      "overflow_y": null,
      "padding": null,
      "right": null,
      "top": null,
      "visibility": null,
      "width": null
     }
    },
    "af61ec3e5faf43e29446c0fa50d68150": {
     "model_module": "@jupyter-widgets/base",
     "model_module_version": "1.2.0",
     "model_name": "LayoutModel",
     "state": {
      "_model_module": "@jupyter-widgets/base",
      "_model_module_version": "1.2.0",
      "_model_name": "LayoutModel",
      "_view_count": null,
      "_view_module": "@jupyter-widgets/base",
      "_view_module_version": "1.2.0",
      "_view_name": "LayoutView",
      "align_content": null,
      "align_items": null,
      "align_self": null,
      "border": null,
      "bottom": null,
      "display": null,
      "flex": null,
      "flex_flow": null,
      "grid_area": null,
      "grid_auto_columns": null,
      "grid_auto_flow": null,
      "grid_auto_rows": null,
      "grid_column": null,
      "grid_gap": null,
      "grid_row": null,
      "grid_template_areas": null,
      "grid_template_columns": null,
      "grid_template_rows": null,
      "height": null,
      "justify_content": null,
      "justify_items": null,
      "left": null,
      "margin": null,
      "max_height": null,
      "max_width": null,
      "min_height": null,
      "min_width": null,
      "object_fit": null,
      "object_position": null,
      "order": null,
      "overflow": null,
      "overflow_x": null,
      "overflow_y": null,
      "padding": null,
      "right": null,
      "top": null,
      "visibility": null,
      "width": null
     }
    },
    "b1d5a8acff4e477587a9bdcdff53928f": {
     "model_module": "@jupyter-widgets/base",
     "model_module_version": "1.2.0",
     "model_name": "LayoutModel",
     "state": {
      "_model_module": "@jupyter-widgets/base",
      "_model_module_version": "1.2.0",
      "_model_name": "LayoutModel",
      "_view_count": null,
      "_view_module": "@jupyter-widgets/base",
      "_view_module_version": "1.2.0",
      "_view_name": "LayoutView",
      "align_content": null,
      "align_items": null,
      "align_self": null,
      "border": null,
      "bottom": null,
      "display": null,
      "flex": null,
      "flex_flow": null,
      "grid_area": null,
      "grid_auto_columns": null,
      "grid_auto_flow": null,
      "grid_auto_rows": null,
      "grid_column": null,
      "grid_gap": null,
      "grid_row": null,
      "grid_template_areas": null,
      "grid_template_columns": null,
      "grid_template_rows": null,
      "height": null,
      "justify_content": null,
      "justify_items": null,
      "left": null,
      "margin": null,
      "max_height": null,
      "max_width": null,
      "min_height": null,
      "min_width": null,
      "object_fit": null,
      "object_position": null,
      "order": null,
      "overflow": null,
      "overflow_x": null,
      "overflow_y": null,
      "padding": null,
      "right": null,
      "top": null,
      "visibility": null,
      "width": null
     }
    },
    "b44b6fb0b28c4a3b98d4c87259e6a10c": {
     "model_module": "@jupyter-widgets/controls",
     "model_module_version": "1.5.0",
     "model_name": "ProgressStyleModel",
     "state": {
      "_model_module": "@jupyter-widgets/controls",
      "_model_module_version": "1.5.0",
      "_model_name": "ProgressStyleModel",
      "_view_count": null,
      "_view_module": "@jupyter-widgets/base",
      "_view_module_version": "1.2.0",
      "_view_name": "StyleView",
      "bar_color": null,
      "description_width": ""
     }
    },
    "b79dc6e0bccd40d2819a7bf04a7984f8": {
     "model_module": "@jupyter-widgets/base",
     "model_module_version": "1.2.0",
     "model_name": "LayoutModel",
     "state": {
      "_model_module": "@jupyter-widgets/base",
      "_model_module_version": "1.2.0",
      "_model_name": "LayoutModel",
      "_view_count": null,
      "_view_module": "@jupyter-widgets/base",
      "_view_module_version": "1.2.0",
      "_view_name": "LayoutView",
      "align_content": null,
      "align_items": null,
      "align_self": null,
      "border": null,
      "bottom": null,
      "display": null,
      "flex": null,
      "flex_flow": null,
      "grid_area": null,
      "grid_auto_columns": null,
      "grid_auto_flow": null,
      "grid_auto_rows": null,
      "grid_column": null,
      "grid_gap": null,
      "grid_row": null,
      "grid_template_areas": null,
      "grid_template_columns": null,
      "grid_template_rows": null,
      "height": null,
      "justify_content": null,
      "justify_items": null,
      "left": null,
      "margin": null,
      "max_height": null,
      "max_width": null,
      "min_height": null,
      "min_width": null,
      "object_fit": null,
      "object_position": null,
      "order": null,
      "overflow": null,
      "overflow_x": null,
      "overflow_y": null,
      "padding": null,
      "right": null,
      "top": null,
      "visibility": null,
      "width": null
     }
    },
    "bd7d4a6adb314d6eb6d5868aca611f25": {
     "model_module": "@jupyter-widgets/base",
     "model_module_version": "1.2.0",
     "model_name": "LayoutModel",
     "state": {
      "_model_module": "@jupyter-widgets/base",
      "_model_module_version": "1.2.0",
      "_model_name": "LayoutModel",
      "_view_count": null,
      "_view_module": "@jupyter-widgets/base",
      "_view_module_version": "1.2.0",
      "_view_name": "LayoutView",
      "align_content": null,
      "align_items": null,
      "align_self": null,
      "border": null,
      "bottom": null,
      "display": null,
      "flex": null,
      "flex_flow": null,
      "grid_area": null,
      "grid_auto_columns": null,
      "grid_auto_flow": null,
      "grid_auto_rows": null,
      "grid_column": null,
      "grid_gap": null,
      "grid_row": null,
      "grid_template_areas": null,
      "grid_template_columns": null,
      "grid_template_rows": null,
      "height": null,
      "justify_content": null,
      "justify_items": null,
      "left": null,
      "margin": null,
      "max_height": null,
      "max_width": null,
      "min_height": null,
      "min_width": null,
      "object_fit": null,
      "object_position": null,
      "order": null,
      "overflow": null,
      "overflow_x": null,
      "overflow_y": null,
      "padding": null,
      "right": null,
      "top": null,
      "visibility": null,
      "width": null
     }
    },
    "c08f9dbd80734150bed5fbf3bd610eea": {
     "model_module": "@jupyter-widgets/controls",
     "model_module_version": "1.5.0",
     "model_name": "FloatProgressModel",
     "state": {
      "_dom_classes": [],
      "_model_module": "@jupyter-widgets/controls",
      "_model_module_version": "1.5.0",
      "_model_name": "FloatProgressModel",
      "_view_count": null,
      "_view_module": "@jupyter-widgets/controls",
      "_view_module_version": "1.5.0",
      "_view_name": "ProgressView",
      "bar_style": "success",
      "description": "",
      "description_tooltip": null,
      "layout": "IPY_MODEL_b79dc6e0bccd40d2819a7bf04a7984f8",
      "max": 10,
      "min": 0,
      "orientation": "horizontal",
      "style": "IPY_MODEL_2078cf1aa65448b3bd87ef58077a253a",
      "value": 10
     }
    },
    "c281abb94bca41b48a2741256db3bb74": {
     "model_module": "@jupyter-widgets/controls",
     "model_module_version": "1.5.0",
     "model_name": "DescriptionStyleModel",
     "state": {
      "_model_module": "@jupyter-widgets/controls",
      "_model_module_version": "1.5.0",
      "_model_name": "DescriptionStyleModel",
      "_view_count": null,
      "_view_module": "@jupyter-widgets/base",
      "_view_module_version": "1.2.0",
      "_view_name": "StyleView",
      "description_width": ""
     }
    },
    "c6f73ccbe582498f87b2d6376afc2a3a": {
     "model_module": "@jupyter-widgets/base",
     "model_module_version": "1.2.0",
     "model_name": "LayoutModel",
     "state": {
      "_model_module": "@jupyter-widgets/base",
      "_model_module_version": "1.2.0",
      "_model_name": "LayoutModel",
      "_view_count": null,
      "_view_module": "@jupyter-widgets/base",
      "_view_module_version": "1.2.0",
      "_view_name": "LayoutView",
      "align_content": null,
      "align_items": null,
      "align_self": null,
      "border": null,
      "bottom": null,
      "display": null,
      "flex": null,
      "flex_flow": null,
      "grid_area": null,
      "grid_auto_columns": null,
      "grid_auto_flow": null,
      "grid_auto_rows": null,
      "grid_column": null,
      "grid_gap": null,
      "grid_row": null,
      "grid_template_areas": null,
      "grid_template_columns": null,
      "grid_template_rows": null,
      "height": null,
      "justify_content": null,
      "justify_items": null,
      "left": null,
      "margin": null,
      "max_height": null,
      "max_width": null,
      "min_height": null,
      "min_width": null,
      "object_fit": null,
      "object_position": null,
      "order": null,
      "overflow": null,
      "overflow_x": null,
      "overflow_y": null,
      "padding": null,
      "right": null,
      "top": null,
      "visibility": null,
      "width": null
     }
    },
    "ce7ff5de58734d40bafabbc99cbc75ee": {
     "model_module": "@jupyter-widgets/base",
     "model_module_version": "1.2.0",
     "model_name": "LayoutModel",
     "state": {
      "_model_module": "@jupyter-widgets/base",
      "_model_module_version": "1.2.0",
      "_model_name": "LayoutModel",
      "_view_count": null,
      "_view_module": "@jupyter-widgets/base",
      "_view_module_version": "1.2.0",
      "_view_name": "LayoutView",
      "align_content": null,
      "align_items": null,
      "align_self": null,
      "border": null,
      "bottom": null,
      "display": null,
      "flex": null,
      "flex_flow": null,
      "grid_area": null,
      "grid_auto_columns": null,
      "grid_auto_flow": null,
      "grid_auto_rows": null,
      "grid_column": null,
      "grid_gap": null,
      "grid_row": null,
      "grid_template_areas": null,
      "grid_template_columns": null,
      "grid_template_rows": null,
      "height": null,
      "justify_content": null,
      "justify_items": null,
      "left": null,
      "margin": null,
      "max_height": null,
      "max_width": null,
      "min_height": null,
      "min_width": null,
      "object_fit": null,
      "object_position": null,
      "order": null,
      "overflow": null,
      "overflow_x": null,
      "overflow_y": null,
      "padding": null,
      "right": null,
      "top": null,
      "visibility": null,
      "width": null
     }
    },
    "d01434e07f4a47b5a941118285e4529b": {
     "model_module": "@jupyter-widgets/controls",
     "model_module_version": "1.5.0",
     "model_name": "DescriptionStyleModel",
     "state": {
      "_model_module": "@jupyter-widgets/controls",
      "_model_module_version": "1.5.0",
      "_model_name": "DescriptionStyleModel",
      "_view_count": null,
      "_view_module": "@jupyter-widgets/base",
      "_view_module_version": "1.2.0",
      "_view_name": "StyleView",
      "description_width": ""
     }
    },
    "d15edfea5c54436c8745daec6e090679": {
     "model_module": "@jupyter-widgets/controls",
     "model_module_version": "1.5.0",
     "model_name": "DescriptionStyleModel",
     "state": {
      "_model_module": "@jupyter-widgets/controls",
      "_model_module_version": "1.5.0",
      "_model_name": "DescriptionStyleModel",
      "_view_count": null,
      "_view_module": "@jupyter-widgets/base",
      "_view_module_version": "1.2.0",
      "_view_name": "StyleView",
      "description_width": ""
     }
    },
    "e3089dd334214893b1a54e6fa596ac49": {
     "model_module": "@jupyter-widgets/controls",
     "model_module_version": "1.5.0",
     "model_name": "HTMLModel",
     "state": {
      "_dom_classes": [],
      "_model_module": "@jupyter-widgets/controls",
      "_model_module_version": "1.5.0",
      "_model_name": "HTMLModel",
      "_view_count": null,
      "_view_module": "@jupyter-widgets/controls",
      "_view_module_version": "1.5.0",
      "_view_name": "HTMLView",
      "description": "",
      "description_tooltip": null,
      "layout": "IPY_MODEL_b1d5a8acff4e477587a9bdcdff53928f",
      "placeholder": "​",
      "style": "IPY_MODEL_380ecf5f60284919b8b3e28c8fcb8cb3",
      "value": " 5418/5418 [00:16&lt;00:00, 313.99 examples/s]"
     }
    },
    "e58008c959dc44c787282a44dc14f7a7": {
     "model_module": "@jupyter-widgets/controls",
     "model_module_version": "1.5.0",
     "model_name": "DescriptionStyleModel",
     "state": {
      "_model_module": "@jupyter-widgets/controls",
      "_model_module_version": "1.5.0",
      "_model_name": "DescriptionStyleModel",
      "_view_count": null,
      "_view_module": "@jupyter-widgets/base",
      "_view_module_version": "1.2.0",
      "_view_name": "StyleView",
      "description_width": ""
     }
    },
    "ee6953e798bb46ebaee43099e81e419e": {
     "model_module": "@jupyter-widgets/controls",
     "model_module_version": "1.5.0",
     "model_name": "FloatProgressModel",
     "state": {
      "_dom_classes": [],
      "_model_module": "@jupyter-widgets/controls",
      "_model_module_version": "1.5.0",
      "_model_name": "FloatProgressModel",
      "_view_count": null,
      "_view_module": "@jupyter-widgets/controls",
      "_view_module_version": "1.5.0",
      "_view_name": "ProgressView",
      "bar_style": "success",
      "description": "",
      "description_tooltip": null,
      "layout": "IPY_MODEL_88fcf138b2ac439ab6ca1eec7b417719",
      "max": 25281,
      "min": 0,
      "orientation": "horizontal",
      "style": "IPY_MODEL_53ae4c38ddbf43958eade1be9965b5bd",
      "value": 25281
     }
    },
    "efc8803428614d50bd9ff83c556aff98": {
     "model_module": "@jupyter-widgets/base",
     "model_module_version": "1.2.0",
     "model_name": "LayoutModel",
     "state": {
      "_model_module": "@jupyter-widgets/base",
      "_model_module_version": "1.2.0",
      "_model_name": "LayoutModel",
      "_view_count": null,
      "_view_module": "@jupyter-widgets/base",
      "_view_module_version": "1.2.0",
      "_view_name": "LayoutView",
      "align_content": null,
      "align_items": null,
      "align_self": null,
      "border": null,
      "bottom": null,
      "display": null,
      "flex": null,
      "flex_flow": null,
      "grid_area": null,
      "grid_auto_columns": null,
      "grid_auto_flow": null,
      "grid_auto_rows": null,
      "grid_column": null,
      "grid_gap": null,
      "grid_row": null,
      "grid_template_areas": null,
      "grid_template_columns": null,
      "grid_template_rows": null,
      "height": null,
      "justify_content": null,
      "justify_items": null,
      "left": null,
      "margin": null,
      "max_height": null,
      "max_width": null,
      "min_height": null,
      "min_width": null,
      "object_fit": null,
      "object_position": null,
      "order": null,
      "overflow": null,
      "overflow_x": null,
      "overflow_y": null,
      "padding": null,
      "right": null,
      "top": null,
      "visibility": null,
      "width": null
     }
    },
    "f6a7045d9a2d477faa4bb8c8fa848c4b": {
     "model_module": "@jupyter-widgets/base",
     "model_module_version": "1.2.0",
     "model_name": "LayoutModel",
     "state": {
      "_model_module": "@jupyter-widgets/base",
      "_model_module_version": "1.2.0",
      "_model_name": "LayoutModel",
      "_view_count": null,
      "_view_module": "@jupyter-widgets/base",
      "_view_module_version": "1.2.0",
      "_view_name": "LayoutView",
      "align_content": null,
      "align_items": null,
      "align_self": null,
      "border": null,
      "bottom": null,
      "display": null,
      "flex": null,
      "flex_flow": null,
      "grid_area": null,
      "grid_auto_columns": null,
      "grid_auto_flow": null,
      "grid_auto_rows": null,
      "grid_column": null,
      "grid_gap": null,
      "grid_row": null,
      "grid_template_areas": null,
      "grid_template_columns": null,
      "grid_template_rows": null,
      "height": null,
      "justify_content": null,
      "justify_items": null,
      "left": null,
      "margin": null,
      "max_height": null,
      "max_width": null,
      "min_height": null,
      "min_width": null,
      "object_fit": null,
      "object_position": null,
      "order": null,
      "overflow": null,
      "overflow_x": null,
      "overflow_y": null,
      "padding": null,
      "right": null,
      "top": null,
      "visibility": null,
      "width": null
     }
    },
    "f7afc93c60db4b0d917844593637d6f3": {
     "model_module": "@jupyter-widgets/controls",
     "model_module_version": "1.5.0",
     "model_name": "HTMLModel",
     "state": {
      "_dom_classes": [],
      "_model_module": "@jupyter-widgets/controls",
      "_model_module_version": "1.5.0",
      "_model_name": "HTMLModel",
      "_view_count": null,
      "_view_module": "@jupyter-widgets/controls",
      "_view_module_version": "1.5.0",
      "_view_name": "HTMLView",
      "description": "",
      "description_tooltip": null,
      "layout": "IPY_MODEL_63fd357087194ac2857966dc11688bb2",
      "placeholder": "​",
      "style": "IPY_MODEL_d01434e07f4a47b5a941118285e4529b",
      "value": " 25281/25281 [01:22&lt;00:00, 301.33 examples/s]"
     }
    },
    "f81db139a4d44fa89133f78c062537fa": {
     "model_module": "@jupyter-widgets/controls",
     "model_module_version": "1.5.0",
     "model_name": "HTMLModel",
     "state": {
      "_dom_classes": [],
      "_model_module": "@jupyter-widgets/controls",
      "_model_module_version": "1.5.0",
      "_model_name": "HTMLModel",
      "_view_count": null,
      "_view_module": "@jupyter-widgets/controls",
      "_view_module_version": "1.5.0",
      "_view_name": "HTMLView",
      "description": "",
      "description_tooltip": null,
      "layout": "IPY_MODEL_51e9de3ef2ec47ff9608f9e91abd09ce",
      "placeholder": "​",
      "style": "IPY_MODEL_c281abb94bca41b48a2741256db3bb74",
      "value": "Map: 100%"
     }
    }
   }
  }
 },
 "nbformat": 4,
 "nbformat_minor": 5
}
