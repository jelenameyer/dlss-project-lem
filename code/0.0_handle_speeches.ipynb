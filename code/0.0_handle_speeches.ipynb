{
 "cells": [
  {
   "cell_type": "code",
   "execution_count": 1,
   "id": "cef2389a",
   "metadata": {},
   "outputs": [],
   "source": [
    "import pandas as pd\n",
    "import json\n",
    "import glob\n",
    "import os"
   ]
  },
  {
   "cell_type": "code",
   "execution_count": 2,
   "id": "305f68e4",
   "metadata": {},
   "outputs": [],
   "source": [
    "# settings\n",
    "\n",
    "folder_path = \"../data/19th_20th_speeches_all\"\n",
    "test_file = \"LP_20_Sitzung_105.json\""
   ]
  },
  {
   "cell_type": "markdown",
   "id": "72ca9cf6",
   "metadata": {},
   "source": [
    "***\n",
    "## **Understand the Structure**\n",
    "***"
   ]
  },
  {
   "cell_type": "markdown",
   "id": "1e657a81",
   "metadata": {},
   "source": [
    "#### **Get files and file content**"
   ]
  },
  {
   "cell_type": "code",
   "execution_count": 3,
   "id": "d07327be",
   "metadata": {},
   "outputs": [
    {
     "name": "stdout",
     "output_type": "stream",
     "text": [
      "Nr. of session protocols: 438\n"
     ]
    },
    {
     "data": {
      "text/plain": [
       "['../data/19th_20th_speeches_all\\\\LP_19_Sitzung_1.json',\n",
       " '../data/19th_20th_speeches_all\\\\LP_19_Sitzung_10.json',\n",
       " '../data/19th_20th_speeches_all\\\\LP_19_Sitzung_100.json',\n",
       " '../data/19th_20th_speeches_all\\\\LP_19_Sitzung_101.json',\n",
       " '../data/19th_20th_speeches_all\\\\LP_19_Sitzung_102.json']"
      ]
     },
     "execution_count": 3,
     "metadata": {},
     "output_type": "execute_result"
    }
   ],
   "source": [
    "# get a list of all filenames\n",
    "json_files = glob.glob(os.path.join(folder_path, \"*.json\"))\n",
    "\n",
    "print(\"Nr. of session protocols:\", len(json_files))\n",
    "json_files[:5]"
   ]
  },
  {
   "cell_type": "code",
   "execution_count": 4,
   "id": "e38ebcdb",
   "metadata": {},
   "outputs": [
    {
     "name": "stdout",
     "output_type": "stream",
     "text": [
      "dict_keys(['Protocol', 'AgendaItems', 'NLPSpeeches', 'SpeechCategories'])\n"
     ]
    }
   ],
   "source": [
    "# get a test file (later in loop over all json files)\n",
    "with open(f\"{folder_path}/{test_file}\", 'r') as file:\n",
    "    data = json.load(file)\n",
    "\n",
    "\n",
    "# print the data\n",
    "print(data.keys())"
   ]
  },
  {
   "cell_type": "code",
   "execution_count": 5,
   "id": "beaba4c9",
   "metadata": {},
   "outputs": [
    {
     "name": "stdout",
     "output_type": "stream",
     "text": [
      "Data Type: <class 'list'>\n"
     ]
    },
    {
     "data": {
      "text/plain": [
       "dict_keys(['CategoryCoveredTags', 'NamedEntities', 'Tokens', 'Sentiments', 'AbstractSummary', 'AbstractSummaryPEGASUS', 'GetAbstractSummaryPEGASUS', 'GetAbstractSummary', 'GetExtractiveSummary', 'ExtractiveSummary', 'EnglishTranslationOfSpeech', 'EnglishTranslationScore', 'Text', 'SpeakerId', 'Segments', 'ProtocolNumber', 'LegislaturePeriod', 'AgendaItemNumber', 'MongoId', 'Id'])"
      ]
     },
     "execution_count": 5,
     "metadata": {},
     "output_type": "execute_result"
    }
   ],
   "source": [
    "# interested in NLP speeches\n",
    "print(\"Data Type:\", type(data[\"NLPSpeeches\"]))\n",
    "\n",
    "# fist elements keys\n",
    "data[\"NLPSpeeches\"][0].keys()\n",
    "\n",
    "# here, second loop necessary, loop over length of data[\"NLPSpeeches\"]"
   ]
  },
  {
   "cell_type": "markdown",
   "id": "fe44740b",
   "metadata": {},
   "source": [
    "***\n",
    "#### **Find speech text**"
   ]
  },
  {
   "cell_type": "code",
   "execution_count": 6,
   "id": "a11fc75c",
   "metadata": {},
   "outputs": [
    {
     "name": "stdout",
     "output_type": "stream",
     "text": [
      "Sehr geehrte Frau Präsidentin! Sehr geehrter Herr Abgeordneter, natürlich sind mir die damaligen Anträge bekannt. Ich bezog mich hier auf eine\n",
      "                    weitere Auszahlung, die wir vorgenommen haben. Die erste Auszahlung ist ja schon erfolgt; da hatten Sie einen anderen Vorschlag, den wir nicht aufgegriffen\n",
      "                    haben. Stattdessen haben wir damals den Vorschlag umgesetzt, den ich hier auch vorgetragen habe: Es sind 1,5 Milliarden Euro als direkte Energiehilfe geflossen,\n",
      "                    und es gab ein Verrechnungssystem, das sich dann als im Einzelfall schwer handhabbar erwiesen hat. Auf der Grundlage haben wir dann – ohne Ihre Aufforderung und\n",
      "                    ohne Ihre Unterstützung – noch einmal 2,5 Milliarden Euro nachgelegt. Da ist die erste Lesung, soweit ich informiert bin, in der nächsten Sitzungswoche zu\n",
      "                    erwarten.\n",
      "– Morgen ist die erste Lesung sogar, höre ich gerade, also noch schneller als gedacht.\n",
      "Ich möchte aber darauf hinweisen, dass wir diese 2,5 Milliarden Euro im Kabinett schon vor Wochen beschlossen haben,\n",
      "und jetzt kommt die Lesung.\n",
      "Das ist ja ein Gesetz, das an ein Gesetz angehängt ist, bei dem wir nicht federführend sind. Sie wissen ja, dass das ein Gesetz von Robert Habeck ist,\n",
      "                    in dem es darum geht, Energiehilfen insgesamt zu entbürokratisieren und zu beschleunigen. Im Rahmen dieses Gesetzes sind auch die 2,5 Milliarden Euro\n",
      "                    vorgesehen; die haben wir damit untergebracht. Aber wir sind hier nicht federführend.\n",
      "Ich hörte jedenfalls gerade von der Frau Staatssekretärin, dass die erste Lesung nicht erst in der nächsten Sitzungswoche ist, sondern morgen. Somit\n",
      "                    haben Sie dann die Gelegenheit, dem Gesetz zuzustimmen.\n",
      "Das können wir jetzt auch nicht mehr länger ausführen. Ich bitte noch mal darum, auf die 30 Sekunden zu achten.\n",
      "\n"
     ]
    }
   ],
   "source": [
    "# example speech text of speech nr. 30 (full, not segmented with shouts)\n",
    "print(data['NLPSpeeches'][30][\"Text\"])"
   ]
  },
  {
   "cell_type": "code",
   "execution_count": 7,
   "id": "cf522919",
   "metadata": {},
   "outputs": [
    {
     "data": {
      "text/plain": [
       "[{'Text': 'Sehr geehrte Frau Präsidentin! Sehr geehrter Herr Abgeordneter, natürlich sind mir die damaligen Anträge bekannt. Ich bezog mich hier auf eine\\n                    weitere Auszahlung, die wir vorgenommen haben. Die erste Auszahlung ist ja schon erfolgt; da hatten Sie einen anderen Vorschlag, den wir nicht aufgegriffen\\n                    haben. Stattdessen haben wir damals den Vorschlag umgesetzt, den ich hier auch vorgetragen habe: Es sind 1,5\\xa0Milliarden Euro als direkte Energiehilfe geflossen,\\n                    und es gab ein Verrechnungssystem, das sich dann als im Einzelfall schwer handhabbar erwiesen hat. Auf der Grundlage haben wir dann\\xa0– ohne Ihre Aufforderung und\\n                    ohne Ihre Unterstützung\\xa0– noch einmal 2,5\\xa0Milliarden Euro nachgelegt. Da ist die erste Lesung, soweit ich informiert bin, in der nächsten Sitzungswoche zu\\n                    erwarten.\\n',\n",
       "  'Shouts': [{'Text': 'Morgen!',\n",
       "    'FirstName': '',\n",
       "    'LastName': '',\n",
       "    'Fraction': None,\n",
       "    'Party': None,\n",
       "    'SpeakerId': None,\n",
       "    'SpeechSegmentId': '97f23aa2-a6ad-4715-0ba3-08dbb6b04024',\n",
       "    'Id': 'a470dd56-560f-461b-ab75-8a3e08874ecc'}],\n",
       "  'SpeechId': '0f912814-fb4c-4205-9677-05ddd67c7937',\n",
       "  'Id': '97f23aa2-a6ad-4715-0ba3-08dbb6b04024'},\n",
       " {'Text': '– Morgen ist die erste Lesung sogar, höre ich gerade, also noch schneller als gedacht.\\n',\n",
       "  'Shouts': [],\n",
       "  'SpeechId': '0f912814-fb4c-4205-9677-05ddd67c7937',\n",
       "  'Id': '4aed0654-3ea3-4677-0ba4-08dbb6b04024'},\n",
       " {'Text': 'Ich möchte aber darauf hinweisen, dass wir diese 2,5\\xa0Milliarden Euro im Kabinett schon vor Wochen beschlossen haben,\\n',\n",
       "  'Shouts': [{'Text': 'Und noch kein Euro bei den Krankenhäusern!',\n",
       "    'FirstName': 'Sepp',\n",
       "    'LastName': 'Müller',\n",
       "    'Fraction': 'CDU/CSU',\n",
       "    'Party': None,\n",
       "    'SpeakerId': '11004832',\n",
       "    'SpeechSegmentId': 'f6c3e2eb-4ff9-4297-0ba5-08dbb6b04024',\n",
       "    'Id': '3d7a28f5-1d29-41c7-ae87-d1bf39ddf801'}],\n",
       "  'SpeechId': '0f912814-fb4c-4205-9677-05ddd67c7937',\n",
       "  'Id': 'f6c3e2eb-4ff9-4297-0ba5-08dbb6b04024'},\n",
       " {'Text': 'und jetzt kommt die Lesung.\\n',\n",
       "  'Shouts': [],\n",
       "  'SpeechId': '0f912814-fb4c-4205-9677-05ddd67c7937',\n",
       "  'Id': 'd7190f2b-10c0-4ce5-0ba6-08dbb6b04024'},\n",
       " {'Text': 'Das ist ja ein Gesetz, das an ein Gesetz angehängt ist, bei dem wir nicht federführend sind. Sie wissen ja, dass das ein Gesetz von Robert Habeck ist,\\n                    in dem es darum geht, Energiehilfen insgesamt zu entbürokratisieren und zu beschleunigen. Im Rahmen dieses Gesetzes sind auch die 2,5\\xa0Milliarden Euro\\n                    vorgesehen; die haben wir damit untergebracht. Aber wir sind hier nicht federführend.\\n',\n",
       "  'Shouts': [],\n",
       "  'SpeechId': '0f912814-fb4c-4205-9677-05ddd67c7937',\n",
       "  'Id': '62a804a9-b5bb-4888-0ba7-08dbb6b04024'},\n",
       " {'Text': 'Ich hörte jedenfalls gerade von der Frau Staatssekretärin, dass die erste Lesung nicht erst in der nächsten Sitzungswoche ist, sondern morgen. Somit\\n                    haben Sie dann die Gelegenheit, dem Gesetz zuzustimmen.\\n',\n",
       "  'Shouts': [],\n",
       "  'SpeechId': '0f912814-fb4c-4205-9677-05ddd67c7937',\n",
       "  'Id': '234b3c6d-f4ce-41d5-0ba8-08dbb6b04024'},\n",
       " {'Text': 'Das können wir jetzt auch nicht mehr länger ausführen. Ich bitte noch mal darum, auf die 30\\xa0Sekunden zu achten.\\n',\n",
       "  'Shouts': [],\n",
       "  'SpeechId': '0f912814-fb4c-4205-9677-05ddd67c7937',\n",
       "  'Id': 'e60dc959-4949-4745-0ba9-08dbb6b04024'}]"
      ]
     },
     "execution_count": 7,
     "metadata": {},
     "output_type": "execute_result"
    }
   ],
   "source": [
    "# under segments, you get the speech, separated into chunks, with shouts inbetween\n",
    "data['NLPSpeeches'][30][\"Segments\"]"
   ]
  },
  {
   "cell_type": "code",
   "execution_count": 8,
   "id": "72d623ac",
   "metadata": {},
   "outputs": [
    {
     "name": "stdout",
     "output_type": "stream",
     "text": [
      "Sehr geehrte Frau Präsidentin! Sehr geehrte Abgeordnete, vielen Dank für diese Frage. – Wir haben heute im Kabinett tatsächlich das\n",
      "                    Pflegestudiumstärkungsgesetz verabschiedet. In der Tat ist es eine sehr wichtige Initiative. Wir werden damit dazu übergehen, dass für die praktischen Teile im\n",
      "                    Studium eine Vergütung gezahlt wird, sodass die Studienplätze auch gefüllt werden. Jeder zweite Studienplatz ist derzeit nicht gefüllt. Wir müssen den\n",
      "                    Absolventinnen und Absolventen dieses Studiums auch gute Karrieremöglichkeiten eröffnen; daran wird intensiv gearbeitet. Ich gehe davon aus, dass wir innerhalb\n",
      "                    von sehr kurzer Zeit hier eine deutliche Zunahme der Studierendenzahlen beobachten können.\n",
      "\n"
     ]
    },
    {
     "data": {
      "text/plain": [
       "[{'Text': 'Sehr geehrte Frau Präsidentin! Sehr geehrte Abgeordnete, vielen Dank für diese Frage.\\xa0– Wir haben heute im Kabinett tatsächlich das\\n                    Pflegestudiumstärkungsgesetz verabschiedet. In der Tat ist es eine sehr wichtige Initiative. Wir werden damit dazu übergehen, dass für die praktischen Teile im\\n                    Studium eine Vergütung gezahlt wird, sodass die Studienplätze auch gefüllt werden. Jeder zweite Studienplatz ist derzeit nicht gefüllt. Wir müssen den\\n                    Absolventinnen und Absolventen dieses Studiums auch gute Karrieremöglichkeiten eröffnen; daran wird intensiv gearbeitet. Ich gehe davon aus, dass wir innerhalb\\n                    von sehr kurzer Zeit hier eine deutliche Zunahme der Studierendenzahlen beobachten können.\\n',\n",
       "  'Shouts': [],\n",
       "  'SpeechId': 'db254216-706f-45e5-87eb-d4d01ce590a0',\n",
       "  'Id': 'c3806efb-cffe-4f93-0cee-08dbb6b04024'}]"
      ]
     },
     "execution_count": 8,
     "metadata": {},
     "output_type": "execute_result"
    }
   ],
   "source": [
    "# another example, without applause\n",
    "\n",
    "# full speech\n",
    "print(data['NLPSpeeches'][24][\"Text\"]) \n",
    "\n",
    "# segments with applause breaks\n",
    "data['NLPSpeeches'][24][\"Segments\"]"
   ]
  },
  {
   "cell_type": "markdown",
   "id": "999a5d59",
   "metadata": {},
   "source": [
    "#### clean formatting"
   ]
  },
  {
   "cell_type": "code",
   "execution_count": 9,
   "id": "663bfd1e",
   "metadata": {},
   "outputs": [],
   "source": [
    "import unicodedata\n",
    "import regex as re\n",
    "\n",
    "def clean_text_advanced(text: str) -> str:\n",
    "    # Normalize unicode (e.g., é → é)\n",
    "    text = unicodedata.normalize(\"NFKC\", text)\n",
    "    \n",
    "    # Remove zero-width characters (like \\u200b)\n",
    "    text = re.sub(r'[\\u200B-\\u200D\\uFEFF]', '', text)\n",
    "\n",
    "    # Apply previous cleaning\n",
    "    text = text.replace('\\xa0', ' ')\n",
    "    text = text.replace('\\t', ' ')\n",
    "    text = re.sub(r'\\s+', ' ', text)\n",
    "    return text.strip()\n"
   ]
  },
  {
   "cell_type": "code",
   "execution_count": 10,
   "id": "661fd99b",
   "metadata": {},
   "outputs": [
    {
     "data": {
      "text/plain": [
       "'Sehr geehrte Frau Präsidentin! Sehr geehrte Abgeordnete, vielen Dank für diese Frage.\\xa0– Wir haben heute im Kabinett tatsächlich das\\n                    Pflegestudiumstärkungsgesetz verabschiedet. In der Tat ist es eine sehr wichtige Initiative. Wir werden damit dazu übergehen, dass für die praktischen Teile im\\n                    Studium eine Vergütung gezahlt wird, sodass die Studienplätze auch gefüllt werden. Jeder zweite Studienplatz ist derzeit nicht gefüllt. Wir müssen den\\n                    Absolventinnen und Absolventen dieses Studiums auch gute Karrieremöglichkeiten eröffnen; daran wird intensiv gearbeitet. Ich gehe davon aus, dass wir innerhalb\\n                    von sehr kurzer Zeit hier eine deutliche Zunahme der Studierendenzahlen beobachten können.\\n'"
      ]
     },
     "execution_count": 10,
     "metadata": {},
     "output_type": "execute_result"
    }
   ],
   "source": [
    "data['NLPSpeeches'][24][\"Text\"]"
   ]
  },
  {
   "cell_type": "code",
   "execution_count": 11,
   "id": "bfa581db",
   "metadata": {},
   "outputs": [
    {
     "data": {
      "text/plain": [
       "'Sehr geehrte Frau Präsidentin! Sehr geehrte Abgeordnete, vielen Dank für diese Frage. – Wir haben heute im Kabinett tatsächlich das Pflegestudiumstärkungsgesetz verabschiedet. In der Tat ist es eine sehr wichtige Initiative. Wir werden damit dazu übergehen, dass für die praktischen Teile im Studium eine Vergütung gezahlt wird, sodass die Studienplätze auch gefüllt werden. Jeder zweite Studienplatz ist derzeit nicht gefüllt. Wir müssen den Absolventinnen und Absolventen dieses Studiums auch gute Karrieremöglichkeiten eröffnen; daran wird intensiv gearbeitet. Ich gehe davon aus, dass wir innerhalb von sehr kurzer Zeit hier eine deutliche Zunahme der Studierendenzahlen beobachten können.'"
      ]
     },
     "execution_count": 11,
     "metadata": {},
     "output_type": "execute_result"
    }
   ],
   "source": [
    "formattest = clean_text_advanced(data['NLPSpeeches'][24][\"Text\"])\n",
    "formattest\n"
   ]
  },
  {
   "cell_type": "markdown",
   "id": "78d9c169",
   "metadata": {},
   "source": [
    "***\n",
    "## **Go over all files**\n",
    "***"
   ]
  },
  {
   "cell_type": "code",
   "execution_count": 12,
   "id": "d82c3a34",
   "metadata": {},
   "outputs": [
    {
     "data": {
      "text/plain": [
       "438"
      ]
     },
     "execution_count": 12,
     "metadata": {},
     "output_type": "execute_result"
    }
   ],
   "source": [
    "len(json_files) #329 -> 438 protocols"
   ]
  },
  {
   "cell_type": "code",
   "execution_count": 13,
   "id": "c7952d0b",
   "metadata": {},
   "outputs": [],
   "source": [
    "# df for all speeches, from all 329 sessions\n",
    "df_all = pd.DataFrame(columns=['speech_id', 'speaker_id', 'speech_text', 'legislative_period', 'protocol_nr', 'agenda_item_number'])\n",
    "\n",
    "\n",
    "# loop over all files\n",
    "for session_file in json_files:\n",
    "\n",
    "    # get temporary data from current session\n",
    "    with open(f\"{session_file}\", 'r') as file:\n",
    "        data_temp = json.load(file)\n",
    "\n",
    "    # make df\n",
    "    df_temp = pd.DataFrame(columns=['speech_id', 'speaker_id', 'speech_text', 'legislative_period', 'protocol_nr', 'agenda_item_number'])\n",
    "\n",
    "\n",
    "    # loop over all speeches, extract relevant features\n",
    "    for i, speech in enumerate(data_temp[\"NLPSpeeches\"]):\n",
    "        row = {\n",
    "            'speech_id' : speech['Id'], \n",
    "            'speaker_id' : speech['SpeakerId'], \n",
    "            'speech_text' : speech['Text'], \n",
    "            'legislative_period' : speech['LegislaturePeriod'], \n",
    "            'protocol_nr' : speech['ProtocolNumber'], \n",
    "            'agenda_item_number' : speech['AgendaItemNumber']\n",
    "        }\n",
    "\n",
    "        # add current speech\n",
    "        df_temp = pd.concat([df_temp, pd.DataFrame([row])], ignore_index=True)\n",
    "\n",
    "\n",
    "    df_all = pd.concat([df_all, df_temp], ignore_index=True)\n",
    "\n",
    "# ~1 min. runtime"
   ]
  },
  {
   "cell_type": "code",
   "execution_count": 21,
   "id": "e22dd26c",
   "metadata": {},
   "outputs": [
    {
     "name": "stdout",
     "output_type": "stream",
     "text": [
      "Legislative Periods:  [19 20]\n",
      "Nr. of sessions in 19th:  239\n",
      "Nr. of sessions in 20th:  199\n",
      "Nr. of sessions:  438\n",
      "Session Nr. check:  True\n"
     ]
    }
   ],
   "source": [
    "# sanity checks\n",
    "\n",
    "print(\"Legislative Periods: \", df_all['legislative_period'].unique()) # fine\n",
    "\n",
    "print(\"Nr. of sessions in 19th: \", len(df_all[df_all['legislative_period'] == 19]['protocol_nr'].unique())) # fine\n",
    "print(\"Nr. of sessions in 20th: \", len(df_all[df_all['legislative_period'] == 20]['protocol_nr'].unique())) # just 90?\n",
    "\n",
    "nr_sessions_19 = len(df_all[df_all['legislative_period'] == 19]['protocol_nr'].unique())\n",
    "nr_sessions_20 = len(df_all[df_all['legislative_period'] == 20]['protocol_nr'].unique())\n",
    "\n",
    "print(\"Nr. of sessions: \", nr_sessions_19 + nr_sessions_20)\n",
    "print(\"Session Nr. check: \", nr_sessions_19 + nr_sessions_20 == len(json_files))"
   ]
  },
  {
   "cell_type": "code",
   "execution_count": 22,
   "id": "f20dc3c8",
   "metadata": {},
   "outputs": [
    {
     "data": {
      "application/vnd.microsoft.datawrangler.viewer.v0+json": {
       "columns": [
        {
         "name": "index",
         "rawType": "int64",
         "type": "integer"
        },
        {
         "name": "speech_id",
         "rawType": "object",
         "type": "string"
        },
        {
         "name": "speaker_id",
         "rawType": "object",
         "type": "string"
        },
        {
         "name": "speech_text",
         "rawType": "object",
         "type": "string"
        },
        {
         "name": "legislative_period",
         "rawType": "object",
         "type": "unknown"
        },
        {
         "name": "protocol_nr",
         "rawType": "object",
         "type": "unknown"
        },
        {
         "name": "agenda_item_number",
         "rawType": "object",
         "type": "unknown"
        }
       ],
       "ref": "a92620b4-4a53-4c02-aa7c-17fb91a730f3",
       "rows": [
        [
         "0",
         "0c6d709a-3af2-4e75-55ac-08da0f22a008",
         "11001074",
         "",
         "19",
         "1",
         "3"
        ],
        [
         "1",
         "f7f58b13-85f3-424a-6864-08da102a68d8",
         "11001235",
         "Herr Präsident, ich nehme die Wahl an.\nDann beglückwünsche ich auch Sie im Namen des Hauses und freue mich auf gute Zusammenarbeit.\n",
         "19",
         "1",
         "6"
        ],
        [
         "2",
         "d0c84378-49ab-47ce-61aa-08da102a68d8",
         "11001938",
         "Das ist der Fall. – Ich sehe keine weiteren Vorschläge.\nDann bitte ich jetzt um Ihre Aufmerksamkeit für einige Hinweise zum Wahlverfahren – das sind technische Hinweise, die aber wichtig sind, damit Sie an der Wahl erfolgreich teilnehmen können –: Die Wahl findet mit verdeckten Stimmkarten, also geheim, statt. Gewählt ist, wer die Stimmen der Mehrheit der Mitglieder des Bundestages, also mindestens 355 Stimmen, erhält. Für diese Wahl und für die spätere Wahl der Vizepräsidentinnen und Vizepräsidenten benötigen Sie Ihre Wahlausweise aus den Stimmkartenfächern in der Lobby. Für die Wahl des Präsidenten sind der Wahlausweis und die Stimmkarte gelb. Bitte kontrollieren Sie, ob dieser Wahlausweis Ihren Namen trägt. Die gelbe Stimmkarte und den amtlichen Wahlumschlag erhalten Sie nach Aufruf Ihres Namens von den Schriftführerinnen und Schriftführern an den Ausgabetischen hier oben neben den Wahlkabinen.\nNachdem Sie die Stimmkarte in einer Wahlkabine gekennzeichnet und dort in den Wahlumschlag gelegt haben, gehen Sie bitte zu den Wahlurnen hier vor dem Rednerpult. Sie dürfen Ihre Stimmkarte nur in der Wahlkabine ankreuzen und müssen ebenfalls noch in der Wahlkabine die Stimmkarte in den Umschlag legen. Die Schriftführerinnen und Schriftführer sind verpflichtet, jeden, der seine Stimmkarte außerhalb der Wahlkabine kennzeichnet oder in den Umschlag legt, zurückzuweisen. Die Stimmabgabe kann in diesem Falle jedoch vorschriftsmäßig wiederholt werden.\nGültig sind nur Stimmkarten mit einem Kreuz bei „Ja“, „Nein“ oder „Enthalte mich“. Ungültig sind Stimmen auf nichtamtlichen Stimmkarten sowie Stimmkarten, die mehr als ein Kreuz, kein Kreuz, andere Namen oder Zusätze enthalten.\nBevor Sie die Stimmkarte in eine der Wahlurnen werfen, übergeben Sie bitte Ihren Wahlausweis einer der Schriftführerinnen oder einem der Schriftführer an der Wahlurne. Der Nachweis der Teilnahme an der Wahl kann nur durch die Abgabe des Wahlausweises erbracht werden.\nIch bitte jetzt die eingeteilten Schriftführerinnen und Schriftführer, die vorgesehenen Plätze einzunehmen. – Die beiden Schriftführer neben mir werden nun Ihre Namen in alphabetischer Reihenfolge aufrufen. Ich bitte Sie, den Namensaufruf zu verfolgen und sich nach dem Aufruf Ihres Namens zur Entgegennahme der Stimmkarte zu den Ausgabetischen vor den Wahlkabinen zu begeben.\nHaben alle Schriftführerinnen und Schriftführer die Plätze eingenommen? – Ich eröffne die Wahl und bitte, mit dem Aufruf der Namen zu beginnen.\nDer Namensaufruf ist beendet. Ich darf fragen, ob alle Mitglieder des Hauses, auch die Schriftführerinnen und Schriftführer, ihre Stimme abgegeben haben. – Nein, da kommt noch jemand.\nHaben jetzt alle Mitglieder des Hauses ihre Stimme abgegeben? – Das scheint der Fall zu sein. Ich schließe die Wahl und bitte die Schriftführerinnen und Schriftführer, mit der Auszählung zu beginnen. Zur Auszählung unterbreche ich die Sitzung für etwa 30 Minuten. Der Wiederbeginn der Sitzung wird rechtzeitig durch Klingelsignal angekündigt.\nDie unterbrochene Sitzung ist wieder eröffnet. Liebe Kolleginnen und Kollegen, nehmen Sie bitte Platz, damit wir fortfahren können.\nIch gebe das Ergebnis der Wahl des Präsidenten des 19. Deutschen Bundestages bekannt: abgegebene Stimmen 705, ungültige Stimmen 1, gültige Stimmen 704. Mit Ja haben gestimmt 501 Kolleginnen und Kollegen.\nMit Nein haben gestimmt 173 Kolleginnen und Kollegen, Enthaltungen gab es 30. Herr Dr. Wolfgang Schäuble hat die erforderliche Mehrheit erhalten und ist zum Präsidenten des 19. Deutschen Bundestages gewählt.\nIch frage Sie, Herr Schäuble: Nehmen Sie die Wahl an?\nHerr Präsident, ich nehme die Wahl an.\nHerr Präsident, ich darf Ihnen im Namen des ganzen Hauses sehr herzlich zu Ihrer Wahl gratulieren. Ich wünsche Ihnen eine glückliche Hand. Verstand muss ich Ihnen nicht wünschen, den haben Sie sowieso. Ich bitte Sie jetzt, das Amt zu übernehmen.\nVielen Dank.\n",
         "19",
         "1",
         "3"
        ],
        [
         "3",
         "649d0b8b-6770-47cf-ff0a-08da0f05b641",
         "11001938",
         "",
         "19",
         "1",
         "3"
        ],
        [
         "4",
         "5516f789-3f1e-47cc-522d-08da0f22a008",
         "11002190",
         "",
         "19",
         "1",
         "3"
        ]
       ],
       "shape": {
        "columns": 6,
        "rows": 5
       }
      },
      "text/html": [
       "<div>\n",
       "<style scoped>\n",
       "    .dataframe tbody tr th:only-of-type {\n",
       "        vertical-align: middle;\n",
       "    }\n",
       "\n",
       "    .dataframe tbody tr th {\n",
       "        vertical-align: top;\n",
       "    }\n",
       "\n",
       "    .dataframe thead th {\n",
       "        text-align: right;\n",
       "    }\n",
       "</style>\n",
       "<table border=\"1\" class=\"dataframe\">\n",
       "  <thead>\n",
       "    <tr style=\"text-align: right;\">\n",
       "      <th></th>\n",
       "      <th>speech_id</th>\n",
       "      <th>speaker_id</th>\n",
       "      <th>speech_text</th>\n",
       "      <th>legislative_period</th>\n",
       "      <th>protocol_nr</th>\n",
       "      <th>agenda_item_number</th>\n",
       "    </tr>\n",
       "  </thead>\n",
       "  <tbody>\n",
       "    <tr>\n",
       "      <th>0</th>\n",
       "      <td>0c6d709a-3af2-4e75-55ac-08da0f22a008</td>\n",
       "      <td>11001074</td>\n",
       "      <td></td>\n",
       "      <td>19</td>\n",
       "      <td>1</td>\n",
       "      <td>3</td>\n",
       "    </tr>\n",
       "    <tr>\n",
       "      <th>1</th>\n",
       "      <td>f7f58b13-85f3-424a-6864-08da102a68d8</td>\n",
       "      <td>11001235</td>\n",
       "      <td>Herr Präsident, ich nehme die Wahl an.\\nDann b...</td>\n",
       "      <td>19</td>\n",
       "      <td>1</td>\n",
       "      <td>6</td>\n",
       "    </tr>\n",
       "    <tr>\n",
       "      <th>2</th>\n",
       "      <td>d0c84378-49ab-47ce-61aa-08da102a68d8</td>\n",
       "      <td>11001938</td>\n",
       "      <td>Das ist der Fall. – Ich sehe keine weiteren Vo...</td>\n",
       "      <td>19</td>\n",
       "      <td>1</td>\n",
       "      <td>3</td>\n",
       "    </tr>\n",
       "    <tr>\n",
       "      <th>3</th>\n",
       "      <td>649d0b8b-6770-47cf-ff0a-08da0f05b641</td>\n",
       "      <td>11001938</td>\n",
       "      <td></td>\n",
       "      <td>19</td>\n",
       "      <td>1</td>\n",
       "      <td>3</td>\n",
       "    </tr>\n",
       "    <tr>\n",
       "      <th>4</th>\n",
       "      <td>5516f789-3f1e-47cc-522d-08da0f22a008</td>\n",
       "      <td>11002190</td>\n",
       "      <td></td>\n",
       "      <td>19</td>\n",
       "      <td>1</td>\n",
       "      <td>3</td>\n",
       "    </tr>\n",
       "  </tbody>\n",
       "</table>\n",
       "</div>"
      ],
      "text/plain": [
       "                              speech_id speaker_id  \\\n",
       "0  0c6d709a-3af2-4e75-55ac-08da0f22a008   11001074   \n",
       "1  f7f58b13-85f3-424a-6864-08da102a68d8   11001235   \n",
       "2  d0c84378-49ab-47ce-61aa-08da102a68d8   11001938   \n",
       "3  649d0b8b-6770-47cf-ff0a-08da0f05b641   11001938   \n",
       "4  5516f789-3f1e-47cc-522d-08da0f22a008   11002190   \n",
       "\n",
       "                                         speech_text legislative_period  \\\n",
       "0                                                                    19   \n",
       "1  Herr Präsident, ich nehme die Wahl an.\\nDann b...                 19   \n",
       "2  Das ist der Fall. – Ich sehe keine weiteren Vo...                 19   \n",
       "3                                                                    19   \n",
       "4                                                                    19   \n",
       "\n",
       "  protocol_nr agenda_item_number  \n",
       "0           1                  3  \n",
       "1           1                  6  \n",
       "2           1                  3  \n",
       "3           1                  3  \n",
       "4           1                  3  "
      ]
     },
     "execution_count": 22,
     "metadata": {},
     "output_type": "execute_result"
    }
   ],
   "source": [
    "# first glance\n",
    "df_all.head()"
   ]
  },
  {
   "cell_type": "code",
   "execution_count": 23,
   "id": "0706b578",
   "metadata": {},
   "outputs": [
    {
     "data": {
      "application/vnd.microsoft.datawrangler.viewer.v0+json": {
       "columns": [
        {
         "name": "index",
         "rawType": "int64",
         "type": "integer"
        },
        {
         "name": "speech_id",
         "rawType": "object",
         "type": "string"
        },
        {
         "name": "speaker_id",
         "rawType": "object",
         "type": "string"
        },
        {
         "name": "speech_text",
         "rawType": "object",
         "type": "string"
        },
        {
         "name": "legislative_period",
         "rawType": "object",
         "type": "string"
        },
        {
         "name": "protocol_nr",
         "rawType": "object",
         "type": "string"
        },
        {
         "name": "agenda_item_number",
         "rawType": "object",
         "type": "string"
        }
       ],
       "ref": "92bd458b-109e-4614-8010-68517494c82d",
       "rows": [],
       "shape": {
        "columns": 6,
        "rows": 0
       }
      },
      "text/html": [
       "<div>\n",
       "<style scoped>\n",
       "    .dataframe tbody tr th:only-of-type {\n",
       "        vertical-align: middle;\n",
       "    }\n",
       "\n",
       "    .dataframe tbody tr th {\n",
       "        vertical-align: top;\n",
       "    }\n",
       "\n",
       "    .dataframe thead th {\n",
       "        text-align: right;\n",
       "    }\n",
       "</style>\n",
       "<table border=\"1\" class=\"dataframe\">\n",
       "  <thead>\n",
       "    <tr style=\"text-align: right;\">\n",
       "      <th></th>\n",
       "      <th>speech_id</th>\n",
       "      <th>speaker_id</th>\n",
       "      <th>speech_text</th>\n",
       "      <th>legislative_period</th>\n",
       "      <th>protocol_nr</th>\n",
       "      <th>agenda_item_number</th>\n",
       "    </tr>\n",
       "  </thead>\n",
       "  <tbody>\n",
       "  </tbody>\n",
       "</table>\n",
       "</div>"
      ],
      "text/plain": [
       "Empty DataFrame\n",
       "Columns: [speech_id, speaker_id, speech_text, legislative_period, protocol_nr, agenda_item_number]\n",
       "Index: []"
      ]
     },
     "execution_count": 23,
     "metadata": {},
     "output_type": "execute_result"
    }
   ],
   "source": [
    "# NaN's? --> no\n",
    "df_all[df_all.isna().any(axis=1)]"
   ]
  },
  {
   "cell_type": "code",
   "execution_count": 17,
   "id": "c34b1fc0",
   "metadata": {},
   "outputs": [
    {
     "data": {
      "text/plain": [
       "''"
      ]
     },
     "execution_count": 17,
     "metadata": {},
     "output_type": "execute_result"
    }
   ],
   "source": [
    "df_all['speech_text'][0] # but empty texts"
   ]
  },
  {
   "cell_type": "code",
   "execution_count": 18,
   "id": "df76b254",
   "metadata": {},
   "outputs": [
    {
     "name": "stdout",
     "output_type": "stream",
     "text": [
      "Kept 44716 speeches.\n"
     ]
    }
   ],
   "source": [
    "df_all_clean = df_all[df_all['speech_text'] != ''].reset_index()\n",
    "print(\"Kept\", len(df_all_clean), \"speeches.\")"
   ]
  },
  {
   "cell_type": "code",
   "execution_count": 24,
   "id": "6d606285",
   "metadata": {},
   "outputs": [],
   "source": [
    "# save/export\n",
    "\n",
    "df_all_clean.to_csv(\"../data/speeches.csv\", index = False)"
   ]
  },
  {
   "cell_type": "code",
   "execution_count": 25,
   "id": "b51527b9",
   "metadata": {},
   "outputs": [
    {
     "name": "stdout",
     "output_type": "stream",
     "text": [
      "Nr. unqiue speaker:  1048\n"
     ]
    }
   ],
   "source": [
    "# get unique speaker IDs\n",
    "\n",
    "print(\"Nr. unqiue speaker: \", len(df_all_clean[\"speaker_id\"].unique()))\n",
    "\n",
    "unique_speaker = pd.DataFrame((df_all_clean[\"speaker_id\"].unique())).rename(columns={0: 'speaker_id'})\n",
    "unique_speaker.to_csv(\"../data/unique_speaker_ids.csv\", index=False)"
   ]
  }
 ],
 "metadata": {
  "kernelspec": {
   "display_name": "DeepLearn",
   "language": "python",
   "name": "python3"
  },
  "language_info": {
   "codemirror_mode": {
    "name": "ipython",
    "version": 3
   },
   "file_extension": ".py",
   "mimetype": "text/x-python",
   "name": "python",
   "nbconvert_exporter": "python",
   "pygments_lexer": "ipython3",
   "version": "3.13.2"
  }
 },
 "nbformat": 4,
 "nbformat_minor": 5
}
