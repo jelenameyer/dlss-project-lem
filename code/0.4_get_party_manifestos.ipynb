{
 "cells": [
  {
   "cell_type": "code",
   "execution_count": 2,
   "id": "f37d6445",
   "metadata": {},
   "outputs": [
    {
     "name": "stdout",
     "output_type": "stream",
     "text": [
      "Requirement already satisfied: requests in c:\\users\\estelle\\miniconda3\\envs\\deeplearn\\lib\\site-packages (2.32.4)\n",
      "Requirement already satisfied: charset_normalizer<4,>=2 in c:\\users\\estelle\\miniconda3\\envs\\deeplearn\\lib\\site-packages (from requests) (3.4.2)\n",
      "Requirement already satisfied: idna<4,>=2.5 in c:\\users\\estelle\\miniconda3\\envs\\deeplearn\\lib\\site-packages (from requests) (3.10)\n",
      "Requirement already satisfied: urllib3<3,>=1.21.1 in c:\\users\\estelle\\miniconda3\\envs\\deeplearn\\lib\\site-packages (from requests) (2.5.0)\n",
      "Requirement already satisfied: certifi>=2017.4.17 in c:\\users\\estelle\\miniconda3\\envs\\deeplearn\\lib\\site-packages (from requests) (2025.6.15)\n",
      "Note: you may need to restart the kernel to use updated packages.\n"
     ]
    }
   ],
   "source": [
    "%pip install requests"
   ]
  },
  {
   "cell_type": "code",
   "execution_count": 3,
   "id": "1c6d11eb",
   "metadata": {},
   "outputs": [],
   "source": [
    "import requests\n",
    "import pandas as pd"
   ]
  },
  {
   "cell_type": "markdown",
   "id": "489a244b",
   "metadata": {},
   "source": [
    "# Party Manifests\n",
    "\n",
    "gathered via Party Manifestos API"
   ]
  },
  {
   "cell_type": "code",
   "execution_count": 4,
   "id": "b0fe5ab4",
   "metadata": {},
   "outputs": [],
   "source": [
    "# https://manifesto-project.wzb.eu/down/data/2024a/codebooks/codebook_MPDataset_MPDS2024a.pdf\n",
    "with open(\"../manifesto_apikey.txt\") as f:\n",
    "    apikey = f.read() # create API key: register at https://manifesto-project.wzb.eu/signup -> profile -> create api key\n",
    "version = \"MPDS2024a\" # \"Manifesto Project Dataset (version 2024a)\"\n",
    "versionA = \"2024-1\" # other versioning format\n",
    "country = \"41\" # Germany\n",
    "election_years = ['2017','2021'] # 19th and 20th Bundestag"
   ]
  },
  {
   "cell_type": "code",
   "execution_count": 5,
   "id": "4f25b770",
   "metadata": {},
   "outputs": [],
   "source": [
    "# get party keys (and info)\n",
    "all_parties_url = f\"https://manifesto-project.wzb.eu/api/v1/get_parties?api_key={apikey}&key={version}\"\n",
    "response = requests.get(all_parties_url) \n",
    "if response.status_code == 200:    \n",
    "    all_parties = response.json()     \n",
    "else:    \n",
    "    print(f\"Request failed with status code {response.status_code}\")   "
   ]
  },
  {
   "cell_type": "code",
   "execution_count": 6,
   "id": "6f116132",
   "metadata": {},
   "outputs": [
    {
     "data": {
      "text/plain": [
       "{41113: '90/Greens',\n",
       " 41223: 'LINKE',\n",
       " 41320: 'SPD',\n",
       " 41420: 'FDP',\n",
       " 41521: 'CDU/CSU',\n",
       " 41953: 'AfD'}"
      ]
     },
     "execution_count": 6,
     "metadata": {},
     "output_type": "execute_result"
    }
   ],
   "source": [
    "all_parties_df = pd.DataFrame(all_parties[1:], columns=all_parties[0])\n",
    "# select only current german parties\n",
    "german_parties_df = all_parties_df[(all_parties_df['country'] == \"41\") & (all_parties_df['year_max'] == \"2021\")]\n",
    "# create dictionary with party name and ID\n",
    "german_party_ID = {}\n",
    "for _, row in german_parties_df.iterrows():\n",
    "    german_party_ID[int(row['party'])] = row['abbrev']\n",
    "# drop SSW\n",
    "del german_party_ID[41912]\n",
    "german_party_ID"
   ]
  },
  {
   "cell_type": "markdown",
   "id": "7025bf26",
   "metadata": {},
   "source": [
    "### get manifestos for each party for each date"
   ]
  },
  {
   "cell_type": "code",
   "execution_count": 7,
   "id": "8b6e4189",
   "metadata": {},
   "outputs": [],
   "source": [
    "def party_manifetos(apikey,version,parties,years):\n",
    "    # prepare api URL\n",
    "    result = {}\n",
    "    for key,value in parties.items():\n",
    "        for year in years:\n",
    "            code = f\"{key}_{year}\"\n",
    "            combi = f\"&keys[]={code}09\"\n",
    "            print(combi)\n",
    "            call_manifesto_url = f\"https://manifesto-project.wzb.eu/api/v1/texts_and_annotations?api_key={apikey}{combi}&version={version}\"\n",
    "            # call api\n",
    "            manifesto = requests.get(call_manifesto_url) \n",
    "            if manifesto.status_code == 200:    \n",
    "                manifesto_raw = manifesto.json()     \n",
    "            else:    \n",
    "                print(f\"Request failed with status code {manifesto.status_code}\")\n",
    "            filtered_data = [item for item in manifesto_raw['items'][0]['items'] if item.get('cmp_code') != 'NA']\n",
    "            manifest_text = \" \".join(item.get('text', '').strip() for item in filtered_data)\n",
    "            result[code] = {\"partyID\": key, \"party\": value, \"year\": year, \"manifest_text\": manifest_text, \"manifest_tokens\": filtered_data}\n",
    "    return result"
   ]
  },
  {
   "cell_type": "code",
   "execution_count": 8,
   "id": "1baad544",
   "metadata": {},
   "outputs": [
    {
     "name": "stdout",
     "output_type": "stream",
     "text": [
      "&keys[]=41113_201709\n",
      "&keys[]=41113_202109\n",
      "&keys[]=41223_201709\n",
      "&keys[]=41223_202109\n",
      "&keys[]=41320_201709\n",
      "&keys[]=41320_202109\n",
      "&keys[]=41420_201709\n",
      "&keys[]=41420_202109\n",
      "&keys[]=41521_201709\n",
      "&keys[]=41521_202109\n",
      "&keys[]=41953_201709\n",
      "&keys[]=41953_202109\n"
     ]
    }
   ],
   "source": [
    "german_manifestos = party_manifetos(apikey,versionA,german_party_ID,election_years)"
   ]
  },
  {
   "cell_type": "code",
   "execution_count": 9,
   "id": "fa29f79a",
   "metadata": {},
   "outputs": [],
   "source": [
    "rows = []\n",
    "for party_data in german_manifestos.values():\n",
    "    rows.append({\n",
    "        'partyID': party_data['partyID'],\n",
    "        'party': party_data['party'],\n",
    "        'year': party_data['year'],\n",
    "        'manifest_text': party_data['manifest_text'],\n",
    "        'manifest_tokens': party_data['manifest_tokens'],\n",
    "    })\n",
    "\n",
    "# Create DataFrame\n",
    "df = pd.DataFrame(rows)"
   ]
  },
  {
   "cell_type": "code",
   "execution_count": 10,
   "id": "2c10aff4",
   "metadata": {},
   "outputs": [],
   "source": [
    "df.to_csv(\"../data/german_manifestos.csv\",index=False)"
   ]
  }
 ],
 "metadata": {
  "kernelspec": {
   "display_name": "DeepLearn",
   "language": "python",
   "name": "python3"
  },
  "language_info": {
   "codemirror_mode": {
    "name": "ipython",
    "version": 3
   },
   "file_extension": ".py",
   "mimetype": "text/x-python",
   "name": "python",
   "nbconvert_exporter": "python",
   "pygments_lexer": "ipython3",
   "version": "3.13.2"
  }
 },
 "nbformat": 4,
 "nbformat_minor": 5
}
