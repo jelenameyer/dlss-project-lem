{
  "cells": [
    {
      "cell_type": "markdown",
      "id": "69da9c59",
      "metadata": {
        "id": "69da9c59"
      },
      "source": [
        "# BERT Classifier - easiest version"
      ]
    },
    {
      "cell_type": "markdown",
      "id": "1c6f5593",
      "metadata": {
        "id": "1c6f5593"
      },
      "source": []
    },
    {
      "cell_type": "code",
      "execution_count": 27,
      "id": "5b898426",
      "metadata": {
        "id": "5b898426"
      },
      "outputs": [],
      "source": [
        "# setup - load packages\n",
        "import pandas as pd\n",
        "from datasets import Dataset\n",
        "import torch\n",
        "import numpy as np\n",
        "from transformers import AutoTokenizer, AutoModelForSequenceClassification\n",
        "import torch.nn.functional as F\n",
        "from sklearn.metrics import (\n",
        "    accuracy_score,\n",
        "    classification_report,\n",
        "    confusion_matrix,\n",
        "    f1_score,\n",
        "    precision_score,\n",
        "    recall_score,\n",
        "    balanced_accuracy_score\n",
        ")\n",
        "import matplotlib.pyplot as plt\n",
        "import seaborn as sns\n",
        "from transformers import TrainingArguments, Trainer\n",
        "\n",
        "\n",
        "seed = 13\n",
        "\n",
        "# load data\n",
        "preprocessed_data = pd.read_csv(\"/content/classifier_data_A.csv\")\n",
        "#preprocessed_data = pd.read_csv(\"../data/classifier_data_A.csv\")"
      ]
    },
    {
      "cell_type": "code",
      "execution_count": 28,
      "id": "435242d7",
      "metadata": {
        "colab": {
          "base_uri": "https://localhost:8080/"
        },
        "id": "435242d7",
        "outputId": "1759042d-4deb-4b5e-fa6a-8ca2f18459e5"
      },
      "outputs": [
        {
          "output_type": "stream",
          "name": "stderr",
          "text": [
            "Some weights of BertForSequenceClassification were not initialized from the model checkpoint at bert-base-german-cased and are newly initialized: ['classifier.bias', 'classifier.weight']\n",
            "You should probably TRAIN this model on a down-stream task to be able to use it for predictions and inference.\n"
          ]
        },
        {
          "output_type": "stream",
          "name": "stdout",
          "text": [
            "Model parameters: 109,085,958\n"
          ]
        }
      ],
      "source": [
        "# Load Model\n",
        "model_name = \"bert-base-german-cased\"\n",
        "num_labels = 6\n",
        "max_length = 512\n",
        "tokenizer = AutoTokenizer.from_pretrained(model_name)\n",
        "model = AutoModelForSequenceClassification.from_pretrained(model_name, num_labels= num_labels) # classification head with one linear layer and num_label outputs is added on top of model here.\n",
        "\n",
        "print(f\"Model parameters: {model.num_parameters():,}\")\n",
        "\n",
        "# quantized?!"
      ]
    },
    {
      "cell_type": "code",
      "execution_count": 29,
      "id": "ab969e2a",
      "metadata": {
        "colab": {
          "base_uri": "https://localhost:8080/",
          "height": 49,
          "referenced_widgets": [
            "e12a9773fdbc43d9b989d3ace4fcf2f4",
            "b6a78ed3c81c4107b6dd5c0aa8df7ad4",
            "e53443a53f974e0086f2c3d5e3b289e0",
            "971deeeea86c43fa9b0222a43d5fbba2",
            "3c4f7b3f37d246f0b85f3f46be390ef1",
            "37a329449abf4accb0d8678511e6edcf",
            "eef5006f92764ab38cddaaa965036ce1",
            "d05cfa1763904b4b8baca3f1fce5fd8a",
            "88ea1c7b30544f8eab162c2f059c4021",
            "b7c757562e9e4cd282b5e5424f9592a0",
            "d694268f117742a0a2cec6282306e78d"
          ]
        },
        "id": "ab969e2a",
        "outputId": "bf1fe3b0-c4f5-4973-d622-e3c2beba344c"
      },
      "outputs": [
        {
          "output_type": "display_data",
          "data": {
            "text/plain": [
              "Map:   0%|          | 0/36117 [00:00<?, ? examples/s]"
            ],
            "application/vnd.jupyter.widget-view+json": {
              "version_major": 2,
              "version_minor": 0,
              "model_id": "e12a9773fdbc43d9b989d3ace4fcf2f4"
            }
          },
          "metadata": {}
        }
      ],
      "source": [
        "party_to_id = {party: i for i, party in enumerate(sorted(preprocessed_data['label'].unique()))}\n",
        "preprocessed_data['label'] = preprocessed_data['label'].map(party_to_id)\n",
        "\n",
        "\n",
        "# Convert to Hugging Face Dataset\n",
        "dataset = Dataset.from_pandas(preprocessed_data)\n",
        "\n",
        "# Tokenize\n",
        "def tokenize(batch):\n",
        "    return tokenizer(batch['speech_text'], truncation=True, padding=True)\n",
        "\n",
        "dataset = dataset.map(tokenize, batched=True)\n",
        "dataset = dataset.rename_column(\"label\", \"labels\")  # required name\n",
        "dataset.set_format(type='torch', columns=['input_ids', 'attention_mask', 'labels'])\n",
        "\n",
        "dataset = dataset.train_test_split(test_size=0.3)  # 90% train, 10% val\n",
        "train_dataset = dataset['train']\n",
        "val_and_test_dataset = dataset['test']\n",
        "val_and_test_dataset = val_and_test_dataset.train_test_split(test_size=0.5)  # 90% train, 10% val\n",
        "val_dataset = val_and_test_dataset['train']\n",
        "test_dataset = val_and_test_dataset['test']"
      ]
    },
    {
      "cell_type": "code",
      "execution_count": 30,
      "id": "a20a0512",
      "metadata": {
        "colab": {
          "base_uri": "https://localhost:8080/"
        },
        "id": "a20a0512",
        "outputId": "6ac29c55-dca2-4691-ee46-ab96e09dbd38"
      },
      "outputs": [
        {
          "output_type": "stream",
          "name": "stdout",
          "text": [
            "Requirement already satisfied: evaluate in /usr/local/lib/python3.11/dist-packages (0.4.5)\n",
            "Requirement already satisfied: datasets>=2.0.0 in /usr/local/lib/python3.11/dist-packages (from evaluate) (4.0.0)\n",
            "Requirement already satisfied: numpy>=1.17 in /usr/local/lib/python3.11/dist-packages (from evaluate) (2.0.2)\n",
            "Requirement already satisfied: dill in /usr/local/lib/python3.11/dist-packages (from evaluate) (0.3.8)\n",
            "Requirement already satisfied: pandas in /usr/local/lib/python3.11/dist-packages (from evaluate) (2.2.2)\n",
            "Requirement already satisfied: requests>=2.19.0 in /usr/local/lib/python3.11/dist-packages (from evaluate) (2.32.3)\n",
            "Requirement already satisfied: tqdm>=4.62.1 in /usr/local/lib/python3.11/dist-packages (from evaluate) (4.67.1)\n",
            "Requirement already satisfied: xxhash in /usr/local/lib/python3.11/dist-packages (from evaluate) (3.5.0)\n",
            "Requirement already satisfied: multiprocess in /usr/local/lib/python3.11/dist-packages (from evaluate) (0.70.16)\n",
            "Requirement already satisfied: fsspec>=2021.05.0 in /usr/local/lib/python3.11/dist-packages (from fsspec[http]>=2021.05.0->evaluate) (2025.3.0)\n",
            "Requirement already satisfied: huggingface-hub>=0.7.0 in /usr/local/lib/python3.11/dist-packages (from evaluate) (0.34.3)\n",
            "Requirement already satisfied: packaging in /usr/local/lib/python3.11/dist-packages (from evaluate) (25.0)\n",
            "Requirement already satisfied: filelock in /usr/local/lib/python3.11/dist-packages (from datasets>=2.0.0->evaluate) (3.18.0)\n",
            "Requirement already satisfied: pyarrow>=15.0.0 in /usr/local/lib/python3.11/dist-packages (from datasets>=2.0.0->evaluate) (18.1.0)\n",
            "Requirement already satisfied: pyyaml>=5.1 in /usr/local/lib/python3.11/dist-packages (from datasets>=2.0.0->evaluate) (6.0.2)\n",
            "Requirement already satisfied: aiohttp!=4.0.0a0,!=4.0.0a1 in /usr/local/lib/python3.11/dist-packages (from fsspec[http]>=2021.05.0->evaluate) (3.12.15)\n",
            "Requirement already satisfied: typing-extensions>=3.7.4.3 in /usr/local/lib/python3.11/dist-packages (from huggingface-hub>=0.7.0->evaluate) (4.14.1)\n",
            "Requirement already satisfied: hf-xet<2.0.0,>=1.1.3 in /usr/local/lib/python3.11/dist-packages (from huggingface-hub>=0.7.0->evaluate) (1.1.5)\n",
            "Requirement already satisfied: charset-normalizer<4,>=2 in /usr/local/lib/python3.11/dist-packages (from requests>=2.19.0->evaluate) (3.4.2)\n",
            "Requirement already satisfied: idna<4,>=2.5 in /usr/local/lib/python3.11/dist-packages (from requests>=2.19.0->evaluate) (3.10)\n",
            "Requirement already satisfied: urllib3<3,>=1.21.1 in /usr/local/lib/python3.11/dist-packages (from requests>=2.19.0->evaluate) (2.5.0)\n",
            "Requirement already satisfied: certifi>=2017.4.17 in /usr/local/lib/python3.11/dist-packages (from requests>=2.19.0->evaluate) (2025.7.14)\n",
            "Requirement already satisfied: python-dateutil>=2.8.2 in /usr/local/lib/python3.11/dist-packages (from pandas->evaluate) (2.9.0.post0)\n",
            "Requirement already satisfied: pytz>=2020.1 in /usr/local/lib/python3.11/dist-packages (from pandas->evaluate) (2025.2)\n",
            "Requirement already satisfied: tzdata>=2022.7 in /usr/local/lib/python3.11/dist-packages (from pandas->evaluate) (2025.2)\n",
            "Requirement already satisfied: aiohappyeyeballs>=2.5.0 in /usr/local/lib/python3.11/dist-packages (from aiohttp!=4.0.0a0,!=4.0.0a1->fsspec[http]>=2021.05.0->evaluate) (2.6.1)\n",
            "Requirement already satisfied: aiosignal>=1.4.0 in /usr/local/lib/python3.11/dist-packages (from aiohttp!=4.0.0a0,!=4.0.0a1->fsspec[http]>=2021.05.0->evaluate) (1.4.0)\n",
            "Requirement already satisfied: attrs>=17.3.0 in /usr/local/lib/python3.11/dist-packages (from aiohttp!=4.0.0a0,!=4.0.0a1->fsspec[http]>=2021.05.0->evaluate) (25.3.0)\n",
            "Requirement already satisfied: frozenlist>=1.1.1 in /usr/local/lib/python3.11/dist-packages (from aiohttp!=4.0.0a0,!=4.0.0a1->fsspec[http]>=2021.05.0->evaluate) (1.7.0)\n",
            "Requirement already satisfied: multidict<7.0,>=4.5 in /usr/local/lib/python3.11/dist-packages (from aiohttp!=4.0.0a0,!=4.0.0a1->fsspec[http]>=2021.05.0->evaluate) (6.6.3)\n",
            "Requirement already satisfied: propcache>=0.2.0 in /usr/local/lib/python3.11/dist-packages (from aiohttp!=4.0.0a0,!=4.0.0a1->fsspec[http]>=2021.05.0->evaluate) (0.3.2)\n",
            "Requirement already satisfied: yarl<2.0,>=1.17.0 in /usr/local/lib/python3.11/dist-packages (from aiohttp!=4.0.0a0,!=4.0.0a1->fsspec[http]>=2021.05.0->evaluate) (1.20.1)\n",
            "Requirement already satisfied: six>=1.5 in /usr/local/lib/python3.11/dist-packages (from python-dateutil>=2.8.2->pandas->evaluate) (1.17.0)\n"
          ]
        }
      ],
      "source": [
        "# fine-tunen\n",
        "training_args = TrainingArguments(\n",
        "    output_dir=\"./bert-finetuned\",\n",
        "    eval_strategy=\"epoch\",\n",
        "    save_strategy=\"epoch\",\n",
        "    learning_rate=2e-5,\n",
        "    per_device_train_batch_size=8,\n",
        "    per_device_eval_batch_size=8,\n",
        "    num_train_epochs=3,\n",
        "    weight_decay=0.01,\n",
        "    logging_dir=\"./logs\",\n",
        "    load_best_model_at_end=True,\n",
        "    metric_for_best_model=\"accuracy\"\n",
        ")\n",
        "%pip install evaluate\n",
        "import evaluate\n",
        "accuracy = evaluate.load(\"accuracy\")\n",
        "\n",
        "def compute_metrics(eval_pred):\n",
        "    logits, labels = eval_pred\n",
        "    predictions = logits.argmax(axis=-1)\n",
        "    return accuracy.compute(predictions=predictions, references=labels)\n"
      ]
    },
    {
      "cell_type": "code",
      "execution_count": 31,
      "id": "3f0f2560",
      "metadata": {
        "colab": {
          "base_uri": "https://localhost:8080/",
          "height": 394
        },
        "id": "3f0f2560",
        "outputId": "15b80607-9000-4a57-8d9a-75ca50049eb1"
      },
      "outputs": [
        {
          "output_type": "stream",
          "name": "stderr",
          "text": [
            "/tmp/ipython-input-1549188525.py:1: FutureWarning: `tokenizer` is deprecated and will be removed in version 5.0.0 for `Trainer.__init__`. Use `processing_class` instead.\n",
            "  trainer = Trainer(\n",
            "/usr/local/lib/python3.11/dist-packages/torch/nn/modules/module.py:1750: FutureWarning: `encoder_attention_mask` is deprecated and will be removed in version 4.55.0 for `BertSdpaSelfAttention.forward`.\n",
            "  return forward_call(*args, **kwargs)\n"
          ]
        },
        {
          "output_type": "display_data",
          "data": {
            "text/plain": [
              "<IPython.core.display.HTML object>"
            ],
            "text/html": [
              "\n",
              "    <div>\n",
              "      \n",
              "      <progress value='9483' max='9483' style='width:300px; height:20px; vertical-align: middle;'></progress>\n",
              "      [9483/9483 28:26, Epoch 3/3]\n",
              "    </div>\n",
              "    <table border=\"1\" class=\"dataframe\">\n",
              "  <thead>\n",
              " <tr style=\"text-align: left;\">\n",
              "      <th>Epoch</th>\n",
              "      <th>Training Loss</th>\n",
              "      <th>Validation Loss</th>\n",
              "      <th>Accuracy</th>\n",
              "    </tr>\n",
              "  </thead>\n",
              "  <tbody>\n",
              "    <tr>\n",
              "      <td>1</td>\n",
              "      <td>0.950500</td>\n",
              "      <td>0.886463</td>\n",
              "      <td>0.654670</td>\n",
              "    </tr>\n",
              "    <tr>\n",
              "      <td>2</td>\n",
              "      <td>0.677600</td>\n",
              "      <td>0.789510</td>\n",
              "      <td>0.695460</td>\n",
              "    </tr>\n",
              "    <tr>\n",
              "      <td>3</td>\n",
              "      <td>0.406600</td>\n",
              "      <td>0.853719</td>\n",
              "      <td>0.716870</td>\n",
              "    </tr>\n",
              "  </tbody>\n",
              "</table><p>"
            ]
          },
          "metadata": {}
        },
        {
          "output_type": "stream",
          "name": "stderr",
          "text": [
            "/usr/local/lib/python3.11/dist-packages/torch/nn/modules/module.py:1750: FutureWarning: `encoder_attention_mask` is deprecated and will be removed in version 4.55.0 for `BertSdpaSelfAttention.forward`.\n",
            "  return forward_call(*args, **kwargs)\n",
            "/usr/local/lib/python3.11/dist-packages/torch/nn/modules/module.py:1750: FutureWarning: `encoder_attention_mask` is deprecated and will be removed in version 4.55.0 for `BertSdpaSelfAttention.forward`.\n",
            "  return forward_call(*args, **kwargs)\n"
          ]
        },
        {
          "output_type": "execute_result",
          "data": {
            "text/plain": [
              "TrainOutput(global_step=9483, training_loss=0.7673016710773143, metrics={'train_runtime': 1706.8328, 'train_samples_per_second': 44.435, 'train_steps_per_second': 5.556, 'total_flos': 1.9955848447973376e+16, 'train_loss': 0.7673016710773143, 'epoch': 3.0})"
            ]
          },
          "metadata": {},
          "execution_count": 31
        }
      ],
      "source": [
        "trainer = Trainer(\n",
        "    model=model,\n",
        "    args=training_args,\n",
        "    train_dataset=train_dataset,\n",
        "    eval_dataset=val_dataset,\n",
        "    tokenizer=tokenizer,\n",
        "    compute_metrics=compute_metrics\n",
        ")\n",
        "\n",
        "# train\n",
        "trainer.train()\n"
      ]
    },
    {
      "cell_type": "code",
      "execution_count": 32,
      "id": "cabf62f4",
      "metadata": {
        "colab": {
          "base_uri": "https://localhost:8080/",
          "height": 206
        },
        "id": "cabf62f4",
        "outputId": "353d6983-3546-4a4b-b13d-01ec251ddc08"
      },
      "outputs": [
        {
          "output_type": "stream",
          "name": "stderr",
          "text": [
            "/usr/local/lib/python3.11/dist-packages/torch/nn/modules/module.py:1750: FutureWarning: `encoder_attention_mask` is deprecated and will be removed in version 4.55.0 for `BertSdpaSelfAttention.forward`.\n",
            "  return forward_call(*args, **kwargs)\n"
          ]
        },
        {
          "output_type": "display_data",
          "data": {
            "text/plain": [
              "<IPython.core.display.HTML object>"
            ],
            "text/html": [
              "\n",
              "    <div>\n",
              "      \n",
              "      <progress value='678' max='678' style='width:300px; height:20px; vertical-align: middle;'></progress>\n",
              "      [678/678 00:36]\n",
              "    </div>\n",
              "    "
            ]
          },
          "metadata": {}
        },
        {
          "output_type": "execute_result",
          "data": {
            "text/plain": [
              "{'eval_loss': 0.8537186980247498,\n",
              " 'eval_accuracy': 0.7168696936138796,\n",
              " 'eval_runtime': 36.3264,\n",
              " 'eval_samples_per_second': 149.148,\n",
              " 'eval_steps_per_second': 18.664,\n",
              " 'epoch': 3.0}"
            ]
          },
          "metadata": {},
          "execution_count": 32
        }
      ],
      "source": [
        "# validaten\n",
        "\n",
        "trainer.evaluate()"
      ]
    },
    {
      "cell_type": "code",
      "execution_count": 33,
      "id": "59cd3dfa",
      "metadata": {
        "id": "59cd3dfa"
      },
      "outputs": [],
      "source": [
        "def predicting_probs_to_preds(model, text, tokenizer=tokenizer, max_length=max_length):\n",
        "    model.eval()\n",
        "    inputs = tokenizer(text, return_tensors=\"pt\", truncation=True, padding=True, max_length=max_length)\n",
        "\n",
        "    # Move inputs to the same device as the model\n",
        "    device = next(model.parameters()).device\n",
        "    inputs = {k: v.to(device) for k, v in inputs.items()}\n",
        "\n",
        "    with torch.no_grad():\n",
        "        outputs = model(**inputs)\n",
        "        logits = outputs.logits\n",
        "        probs = torch.nn.functional.softmax(logits, dim=-1)\n",
        "        pred = torch.argmax(probs, dim=-1).item()\n",
        "    return pred, probs.squeeze().tolist()  # return list of class probabilities\n"
      ]
    },
    {
      "cell_type": "code",
      "execution_count": 34,
      "id": "3633d832",
      "metadata": {
        "id": "3633d832"
      },
      "outputs": [],
      "source": [
        "# collect evaluation data\n",
        "def evaluate_model(model, data):\n",
        "    prediction_list = []\n",
        "    probability_list = []\n",
        "    true_label_list = []\n",
        "\n",
        "    for i, row in data.iterrows():\n",
        "        speech = row[\"speech_text\"]\n",
        "        pred, probs = predicting_probs_to_preds(model, speech)\n",
        "        true_label = row[\"labels\"]\n",
        "        prediction_list.append(pred)\n",
        "        probability_list.append(probs)\n",
        "        true_label_list.append(true_label)\n",
        "\n",
        "        if (i+1) % 100 == 0:\n",
        "            print(f\"Processed samples {i+1} of {len(data)} samples.\")\n",
        "\n",
        "    return prediction_list, probability_list, true_label_list\n",
        "\n",
        "\n",
        "# define function to display eval metrics\n",
        "def get_metrics(true_labels, preds):\n",
        "    metrics_summary = {}\n",
        "\n",
        "    acc = accuracy_score(true_labels, preds)\n",
        "    bal_acc = balanced_accuracy_score(true_labels, preds)\n",
        "\n",
        "    precision = precision_score(true_labels, preds, average='macro', zero_division=0)\n",
        "    recall = recall_score(true_labels, preds, average='macro', zero_division=0)\n",
        "    f1 = f1_score(true_labels, preds, average='macro', zero_division=0)\n",
        "\n",
        "    label_order = sorted(set(true_labels).union(set(preds)))\n",
        "    report = classification_report(true_labels, preds, labels=label_order, zero_division=0)\n",
        "    metrics_summary[model_name] = {\n",
        "        'acc': acc,\n",
        "        'bal_acc': bal_acc,\n",
        "        'precision': precision,\n",
        "        'recall': recall,\n",
        "        'f1': f1\n",
        "    }\n",
        "    # print metrics\n",
        "    print(f\"Model: {model_name}\")\n",
        "    print(f\"  Accuracy: {acc}\")\n",
        "    print(f\"  Balanced Accuracy: {bal_acc}\")\n",
        "    print(f\"  Precision: {precision}\")\n",
        "    print(f\"  Recall: {recall}\")\n",
        "    print(f\"  F1-score: {f1}\")\n",
        "    print(f\"  Classification Report:\\n{report}\")\n",
        "\n",
        "\n",
        "    # Confusion Matrix\n",
        "    label_order = sorted(set(true_labels).union(set(preds)))\n",
        "    cm = confusion_matrix(true_labels, preds, labels=label_order)\n",
        "    cm_df = pd.DataFrame(cm, index=label_order, columns=label_order)\n",
        "\n",
        "    plt.figure(figsize=(8, 6))\n",
        "    sns.heatmap(cm_df, annot=True, fmt='d', cmap='Blues')\n",
        "    plt.title(f\"Confusion Matrix - {model_name}\")\n",
        "    plt.ylabel(\"True Label\")\n",
        "    plt.xlabel(\"Predicted Label\")\n",
        "    plt.tight_layout()\n",
        "    plt.show()\n",
        "\n",
        "\n",
        "    return metrics_summary\n",
        "\n"
      ]
    },
    {
      "cell_type": "code",
      "execution_count": 35,
      "id": "2531ad7a",
      "metadata": {
        "colab": {
          "base_uri": "https://localhost:8080/",
          "height": 1000
        },
        "id": "2531ad7a",
        "outputId": "f871c6b9-e1d2-48b0-97ce-04dbda88c0a1"
      },
      "outputs": [
        {
          "output_type": "stream",
          "name": "stderr",
          "text": [
            "/usr/local/lib/python3.11/dist-packages/torch/nn/modules/module.py:1750: FutureWarning: `encoder_attention_mask` is deprecated and will be removed in version 4.55.0 for `BertSdpaSelfAttention.forward`.\n",
            "  return forward_call(*args, **kwargs)\n"
          ]
        },
        {
          "output_type": "stream",
          "name": "stdout",
          "text": [
            "Processed samples 100 of 5418 samples.\n",
            "Processed samples 200 of 5418 samples.\n",
            "Processed samples 300 of 5418 samples.\n",
            "Processed samples 400 of 5418 samples.\n",
            "Processed samples 500 of 5418 samples.\n",
            "Processed samples 600 of 5418 samples.\n",
            "Processed samples 700 of 5418 samples.\n",
            "Processed samples 800 of 5418 samples.\n",
            "Processed samples 900 of 5418 samples.\n",
            "Processed samples 1000 of 5418 samples.\n",
            "Processed samples 1100 of 5418 samples.\n",
            "Processed samples 1200 of 5418 samples.\n",
            "Processed samples 1300 of 5418 samples.\n",
            "Processed samples 1400 of 5418 samples.\n",
            "Processed samples 1500 of 5418 samples.\n",
            "Processed samples 1600 of 5418 samples.\n",
            "Processed samples 1700 of 5418 samples.\n",
            "Processed samples 1800 of 5418 samples.\n",
            "Processed samples 1900 of 5418 samples.\n",
            "Processed samples 2000 of 5418 samples.\n",
            "Processed samples 2100 of 5418 samples.\n",
            "Processed samples 2200 of 5418 samples.\n",
            "Processed samples 2300 of 5418 samples.\n",
            "Processed samples 2400 of 5418 samples.\n",
            "Processed samples 2500 of 5418 samples.\n",
            "Processed samples 2600 of 5418 samples.\n",
            "Processed samples 2700 of 5418 samples.\n",
            "Processed samples 2800 of 5418 samples.\n",
            "Processed samples 2900 of 5418 samples.\n",
            "Processed samples 3000 of 5418 samples.\n",
            "Processed samples 3100 of 5418 samples.\n",
            "Processed samples 3200 of 5418 samples.\n",
            "Processed samples 3300 of 5418 samples.\n",
            "Processed samples 3400 of 5418 samples.\n",
            "Processed samples 3500 of 5418 samples.\n",
            "Processed samples 3600 of 5418 samples.\n",
            "Processed samples 3700 of 5418 samples.\n",
            "Processed samples 3800 of 5418 samples.\n",
            "Processed samples 3900 of 5418 samples.\n",
            "Processed samples 4000 of 5418 samples.\n",
            "Processed samples 4100 of 5418 samples.\n",
            "Processed samples 4200 of 5418 samples.\n",
            "Processed samples 4300 of 5418 samples.\n",
            "Processed samples 4400 of 5418 samples.\n",
            "Processed samples 4500 of 5418 samples.\n",
            "Processed samples 4600 of 5418 samples.\n",
            "Processed samples 4700 of 5418 samples.\n",
            "Processed samples 4800 of 5418 samples.\n",
            "Processed samples 4900 of 5418 samples.\n",
            "Processed samples 5000 of 5418 samples.\n",
            "Processed samples 5100 of 5418 samples.\n",
            "Processed samples 5200 of 5418 samples.\n",
            "Processed samples 5300 of 5418 samples.\n",
            "Processed samples 5400 of 5418 samples.\n",
            "Evaluation on val set:\n",
            "Model: bert-base-german-cased\n",
            "  Accuracy: 0.7168696936138796\n",
            "  Balanced Accuracy: 0.7059283326370992\n",
            "  Precision: 0.7217043702778092\n",
            "  Recall: 0.7059283326370992\n",
            "  F1-score: 0.7118754672284071\n",
            "  Classification Report:\n",
            "              precision    recall  f1-score   support\n",
            "\n",
            "           0       0.94      0.85      0.89       756\n",
            "           1       0.72      0.81      0.76      1508\n",
            "           2       0.63      0.58      0.60       683\n",
            "           3       0.66      0.55      0.60       771\n",
            "           4       0.72      0.77      0.75       541\n",
            "           5       0.66      0.68      0.67      1159\n",
            "\n",
            "    accuracy                           0.72      5418\n",
            "   macro avg       0.72      0.71      0.71      5418\n",
            "weighted avg       0.72      0.72      0.72      5418\n",
            "\n"
          ]
        },
        {
          "output_type": "display_data",
          "data": {
            "text/plain": [
              "<Figure size 800x600 with 2 Axes>"
            ],
            "image/png": "[encoded data removed]"
          },
          "metadata": {}
        },
        {
          "output_type": "stream",
          "name": "stderr",
          "text": [
            "/usr/local/lib/python3.11/dist-packages/torch/nn/modules/module.py:1750: FutureWarning: `encoder_attention_mask` is deprecated and will be removed in version 4.55.0 for `BertSdpaSelfAttention.forward`.\n",
            "  return forward_call(*args, **kwargs)\n"
          ]
        },
        {
          "output_type": "stream",
          "name": "stdout",
          "text": [
            "Processed samples 100 of 5418 samples.\n",
            "Processed samples 200 of 5418 samples.\n",
            "Processed samples 300 of 5418 samples.\n",
            "Processed samples 400 of 5418 samples.\n",
            "Processed samples 500 of 5418 samples.\n",
            "Processed samples 600 of 5418 samples.\n",
            "Processed samples 700 of 5418 samples.\n",
            "Processed samples 800 of 5418 samples.\n",
            "Processed samples 900 of 5418 samples.\n",
            "Processed samples 1000 of 5418 samples.\n",
            "Processed samples 1100 of 5418 samples.\n",
            "Processed samples 1200 of 5418 samples.\n",
            "Processed samples 1300 of 5418 samples.\n",
            "Processed samples 1400 of 5418 samples.\n",
            "Processed samples 1500 of 5418 samples.\n",
            "Processed samples 1600 of 5418 samples.\n",
            "Processed samples 1700 of 5418 samples.\n",
            "Processed samples 1800 of 5418 samples.\n",
            "Processed samples 1900 of 5418 samples.\n",
            "Processed samples 2000 of 5418 samples.\n",
            "Processed samples 2100 of 5418 samples.\n",
            "Processed samples 2200 of 5418 samples.\n",
            "Processed samples 2300 of 5418 samples.\n",
            "Processed samples 2400 of 5418 samples.\n",
            "Processed samples 2500 of 5418 samples.\n",
            "Processed samples 2600 of 5418 samples.\n",
            "Processed samples 2700 of 5418 samples.\n",
            "Processed samples 2800 of 5418 samples.\n",
            "Processed samples 2900 of 5418 samples.\n",
            "Processed samples 3000 of 5418 samples.\n",
            "Processed samples 3100 of 5418 samples.\n",
            "Processed samples 3200 of 5418 samples.\n",
            "Processed samples 3300 of 5418 samples.\n",
            "Processed samples 3400 of 5418 samples.\n",
            "Processed samples 3500 of 5418 samples.\n",
            "Processed samples 3600 of 5418 samples.\n",
            "Processed samples 3700 of 5418 samples.\n",
            "Processed samples 3800 of 5418 samples.\n",
            "Processed samples 3900 of 5418 samples.\n",
            "Processed samples 4000 of 5418 samples.\n",
            "Processed samples 4100 of 5418 samples.\n",
            "Processed samples 4200 of 5418 samples.\n",
            "Processed samples 4300 of 5418 samples.\n",
            "Processed samples 4400 of 5418 samples.\n",
            "Processed samples 4500 of 5418 samples.\n",
            "Processed samples 4600 of 5418 samples.\n",
            "Processed samples 4700 of 5418 samples.\n",
            "Processed samples 4800 of 5418 samples.\n",
            "Processed samples 4900 of 5418 samples.\n",
            "Processed samples 5000 of 5418 samples.\n",
            "Processed samples 5100 of 5418 samples.\n",
            "Processed samples 5200 of 5418 samples.\n",
            "Processed samples 5300 of 5418 samples.\n",
            "Processed samples 5400 of 5418 samples.\n",
            "Model: bert-base-german-cased\n",
            "  Accuracy: 0.7120708748615725\n",
            "  Balanced Accuracy: 0.7065095110316534\n",
            "  Precision: 0.7192983025612326\n",
            "  Recall: 0.7065095110316534\n",
            "  F1-score: 0.7099151264264133\n",
            "  Classification Report:\n",
            "              precision    recall  f1-score   support\n",
            "\n",
            "           0       0.95      0.86      0.90       744\n",
            "           1       0.71      0.81      0.76      1428\n",
            "           2       0.63      0.59      0.61       706\n",
            "           3       0.66      0.51      0.58       799\n",
            "           4       0.71      0.80      0.75       534\n",
            "           5       0.65      0.67      0.66      1207\n",
            "\n",
            "    accuracy                           0.71      5418\n",
            "   macro avg       0.72      0.71      0.71      5418\n",
            "weighted avg       0.71      0.71      0.71      5418\n",
            "\n"
          ]
        },
        {
          "output_type": "display_data",
          "data": {
            "text/plain": [
              "<Figure size 800x600 with 2 Axes>"
            ],
            "image/png": "[encoded data removed]"
          },
          "metadata": {}
        },
        {
          "output_type": "stream",
          "name": "stdout",
          "text": [
            "Evaluation on test set:\n"
          ]
        }
      ],
      "source": [
        "# evaluate model performance\n",
        "\n",
        "val_df = val_dataset.to_pandas()\n",
        "test_df = test_dataset.to_pandas()\n",
        "\n",
        "# Evaluate on validation set\n",
        "val_preds, val_probs, val_labels = evaluate_model(model, val_df)\n",
        "print(\"Evaluation on val set:\")\n",
        "get_metrics(val_labels, val_preds)\n",
        "# Evaluate on test set\n",
        "test_preds, test_probs, test_labels = evaluate_model(model, test_df)\n",
        "get_metrics(test_labels, test_preds)\n",
        "print(\"Evaluation on test set:\")\n"
      ]
    },
    {
      "cell_type": "code",
      "execution_count": 36,
      "id": "01b38ea6",
      "metadata": {
        "id": "01b38ea6"
      },
      "outputs": [],
      "source": [
        "id_to_party = {v: k for k, v in party_to_id.items()}\n",
        "\n",
        "def create_eval_df(preds, probs, labels, df, id_to_party):\n",
        "    def decode(x):\n",
        "        return id_to_party[x] if isinstance(x, int) else x\n",
        "\n",
        "    return pd.DataFrame({\n",
        "        \"speech_text\": df[\"speech_text\"],\n",
        "        \"true_label\": [decode(i) for i in labels],\n",
        "        \"predicted_label\": [decode(i) for i in preds],\n",
        "        \"probabilities\": probs\n",
        "    })"
      ]
    },
    {
      "cell_type": "code",
      "execution_count": 37,
      "id": "770394d1",
      "metadata": {
        "id": "770394d1"
      },
      "outputs": [],
      "source": [
        "val_eval_df = create_eval_df(val_preds, val_probs, val_labels, val_df, id_to_party)\n",
        "test_eval_df = create_eval_df(test_preds, test_probs, test_labels, test_df, id_to_party)\n",
        "val_eval_df.to_csv(\"/content/classifier_val_results.csv\", index=False)\n",
        "test_eval_df.to_csv(\"/content/classifier_test_results.csv\", index=False)"
      ]
    },
    {
      "cell_type": "code",
      "source": [
        "# save fine-tuned model\n",
        "model.save_pretrained(\"vanilla-bert-party-classifier/\")\n",
        "tokenizer.save_pretrained(\"vanilla-bert-party-classifier/\")"
      ],
      "metadata": {
        "colab": {
          "base_uri": "https://localhost:8080/"
        },
        "id": "iMorrUdaBjWC",
        "outputId": "2ee4c88e-25eb-4ed3-9212-560f6cafa828"
      },
      "id": "iMorrUdaBjWC",
      "execution_count": 38,
      "outputs": [
        {
          "output_type": "execute_result",
          "data": {
            "text/plain": [
              "('vanilla-bert-party-classifier/tokenizer_config.json',\n",
              " 'vanilla-bert-party-classifier/special_tokens_map.json',\n",
              " 'vanilla-bert-party-classifier/vocab.txt',\n",
              " 'vanilla-bert-party-classifier/added_tokens.json',\n",
              " 'vanilla-bert-party-classifier/tokenizer.json')"
            ]
          },
          "metadata": {},
          "execution_count": 38
        }
      ]
    }
  ],
  "metadata": {
    "kernelspec": {
      "display_name": "Python 3",
      "name": "python3"
    },
    "language_info": {
      "codemirror_mode": {
        "name": "ipython",
        "version": 3
      },
      "file_extension": ".py",
      "mimetype": "text/x-python",
      "name": "python",
      "nbconvert_exporter": "python",
      "pygments_lexer": "ipython3",
      "version": "3.11.5"
    },
    "colab": {
      "provenance": [],
      "machine_shape": "hm",
      "gpuType": "A100"
    },
    "accelerator": "GPU",
    "widgets": {
      "application/vnd.jupyter.widget-state+json": {
        "e12a9773fdbc43d9b989d3ace4fcf2f4": {
          "model_module": "@jupyter-widgets/controls",
          "model_name": "HBoxModel",
          "model_module_version": "1.5.0",
          "state": {
            "_dom_classes": [],
            "_model_module": "@jupyter-widgets/controls",
            "_model_module_version": "1.5.0",
            "_model_name": "HBoxModel",
            "_view_count": null,
            "_view_module": "@jupyter-widgets/controls",
            "_view_module_version": "1.5.0",
            "_view_name": "HBoxView",
            "box_style": "",
            "children": [
              "IPY_MODEL_b6a78ed3c81c4107b6dd5c0aa8df7ad4",
              "IPY_MODEL_e53443a53f974e0086f2c3d5e3b289e0",
              "IPY_MODEL_971deeeea86c43fa9b0222a43d5fbba2"
            ],
            "layout": "IPY_MODEL_3c4f7b3f37d246f0b85f3f46be390ef1"
          }
        },
        "b6a78ed3c81c4107b6dd5c0aa8df7ad4": {
          "model_module": "@jupyter-widgets/controls",
          "model_name": "HTMLModel",
          "model_module_version": "1.5.0",
          "state": {
            "_dom_classes": [],
            "_model_module": "@jupyter-widgets/controls",
            "_model_module_version": "1.5.0",
            "_model_name": "HTMLModel",
            "_view_count": null,
            "_view_module": "@jupyter-widgets/controls",
            "_view_module_version": "1.5.0",
            "_view_name": "HTMLView",
            "description": "",
            "description_tooltip": null,
            "layout": "IPY_MODEL_37a329449abf4accb0d8678511e6edcf",
            "placeholder": "​",
            "style": "IPY_MODEL_eef5006f92764ab38cddaaa965036ce1",
            "value": "Map: 100%"
          }
        },
        "e53443a53f974e0086f2c3d5e3b289e0": {
          "model_module": "@jupyter-widgets/controls",
          "model_name": "FloatProgressModel",
          "model_module_version": "1.5.0",
          "state": {
            "_dom_classes": [],
            "_model_module": "@jupyter-widgets/controls",
            "_model_module_version": "1.5.0",
            "_model_name": "FloatProgressModel",
            "_view_count": null,
            "_view_module": "@jupyter-widgets/controls",
            "_view_module_version": "1.5.0",
            "_view_name": "ProgressView",
            "bar_style": "success",
            "description": "",
            "description_tooltip": null,
            "layout": "IPY_MODEL_d05cfa1763904b4b8baca3f1fce5fd8a",
            "max": 36117,
            "min": 0,
            "orientation": "horizontal",
            "style": "IPY_MODEL_88ea1c7b30544f8eab162c2f059c4021",
            "value": 36117
          }
        },
        "971deeeea86c43fa9b0222a43d5fbba2": {
          "model_module": "@jupyter-widgets/controls",
          "model_name": "HTMLModel",
          "model_module_version": "1.5.0",
          "state": {
            "_dom_classes": [],
            "_model_module": "@jupyter-widgets/controls",
            "_model_module_version": "1.5.0",
            "_model_name": "HTMLModel",
            "_view_count": null,
            "_view_module": "@jupyter-widgets/controls",
            "_view_module_version": "1.5.0",
            "_view_name": "HTMLView",
            "description": "",
            "description_tooltip": null,
            "layout": "IPY_MODEL_b7c757562e9e4cd282b5e5424f9592a0",
            "placeholder": "​",
            "style": "IPY_MODEL_d694268f117742a0a2cec6282306e78d",
            "value": " 36117/36117 [00:23&lt;00:00, 1339.26 examples/s]"
          }
        },
        "3c4f7b3f37d246f0b85f3f46be390ef1": {
          "model_module": "@jupyter-widgets/base",
          "model_name": "LayoutModel",
          "model_module_version": "1.2.0",
          "state": {
            "_model_module": "@jupyter-widgets/base",
            "_model_module_version": "1.2.0",
            "_model_name": "LayoutModel",
            "_view_count": null,
            "_view_module": "@jupyter-widgets/base",
            "_view_module_version": "1.2.0",
            "_view_name": "LayoutView",
            "align_content": null,
            "align_items": null,
            "align_self": null,
            "border": null,
            "bottom": null,
            "display": null,
            "flex": null,
            "flex_flow": null,
            "grid_area": null,
            "grid_auto_columns": null,
            "grid_auto_flow": null,
            "grid_auto_rows": null,
            "grid_column": null,
            "grid_gap": null,
            "grid_row": null,
            "grid_template_areas": null,
            "grid_template_columns": null,
            "grid_template_rows": null,
            "height": null,
            "justify_content": null,
            "justify_items": null,
            "left": null,
            "margin": null,
            "max_height": null,
            "max_width": null,
            "min_height": null,
            "min_width": null,
            "object_fit": null,
            "object_position": null,
            "order": null,
            "overflow": null,
            "overflow_x": null,
            "overflow_y": null,
            "padding": null,
            "right": null,
            "top": null,
            "visibility": null,
            "width": null
          }
        },
        "37a329449abf4accb0d8678511e6edcf": {
          "model_module": "@jupyter-widgets/base",
          "model_name": "LayoutModel",
          "model_module_version": "1.2.0",
          "state": {
            "_model_module": "@jupyter-widgets/base",
            "_model_module_version": "1.2.0",
            "_model_name": "LayoutModel",
            "_view_count": null,
            "_view_module": "@jupyter-widgets/base",
            "_view_module_version": "1.2.0",
            "_view_name": "LayoutView",
            "align_content": null,
            "align_items": null,
            "align_self": null,
            "border": null,
            "bottom": null,
            "display": null,
            "flex": null,
            "flex_flow": null,
            "grid_area": null,
            "grid_auto_columns": null,
            "grid_auto_flow": null,
            "grid_auto_rows": null,
            "grid_column": null,
            "grid_gap": null,
            "grid_row": null,
            "grid_template_areas": null,
            "grid_template_columns": null,
            "grid_template_rows": null,
            "height": null,
            "justify_content": null,
            "justify_items": null,
            "left": null,
            "margin": null,
            "max_height": null,
            "max_width": null,
            "min_height": null,
            "min_width": null,
            "object_fit": null,
            "object_position": null,
            "order": null,
            "overflow": null,
            "overflow_x": null,
            "overflow_y": null,
            "padding": null,
            "right": null,
            "top": null,
            "visibility": null,
            "width": null
          }
        },
        "eef5006f92764ab38cddaaa965036ce1": {
          "model_module": "@jupyter-widgets/controls",
          "model_name": "DescriptionStyleModel",
          "model_module_version": "1.5.0",
          "state": {
            "_model_module": "@jupyter-widgets/controls",
            "_model_module_version": "1.5.0",
            "_model_name": "DescriptionStyleModel",
            "_view_count": null,
            "_view_module": "@jupyter-widgets/base",
            "_view_module_version": "1.2.0",
            "_view_name": "StyleView",
            "description_width": ""
          }
        },
        "d05cfa1763904b4b8baca3f1fce5fd8a": {
          "model_module": "@jupyter-widgets/base",
          "model_name": "LayoutModel",
          "model_module_version": "1.2.0",
          "state": {
            "_model_module": "@jupyter-widgets/base",
            "_model_module_version": "1.2.0",
            "_model_name": "LayoutModel",
            "_view_count": null,
            "_view_module": "@jupyter-widgets/base",
            "_view_module_version": "1.2.0",
            "_view_name": "LayoutView",
            "align_content": null,
            "align_items": null,
            "align_self": null,
            "border": null,
            "bottom": null,
            "display": null,
            "flex": null,
            "flex_flow": null,
            "grid_area": null,
            "grid_auto_columns": null,
            "grid_auto_flow": null,
            "grid_auto_rows": null,
            "grid_column": null,
            "grid_gap": null,
            "grid_row": null,
            "grid_template_areas": null,
            "grid_template_columns": null,
            "grid_template_rows": null,
            "height": null,
            "justify_content": null,
            "justify_items": null,
            "left": null,
            "margin": null,
            "max_height": null,
            "max_width": null,
            "min_height": null,
            "min_width": null,
            "object_fit": null,
            "object_position": null,
            "order": null,
            "overflow": null,
            "overflow_x": null,
            "overflow_y": null,
            "padding": null,
            "right": null,
            "top": null,
            "visibility": null,
            "width": null
          }
        },
        "88ea1c7b30544f8eab162c2f059c4021": {
          "model_module": "@jupyter-widgets/controls",
          "model_name": "ProgressStyleModel",
          "model_module_version": "1.5.0",
          "state": {
            "_model_module": "@jupyter-widgets/controls",
            "_model_module_version": "1.5.0",
            "_model_name": "ProgressStyleModel",
            "_view_count": null,
            "_view_module": "@jupyter-widgets/base",
            "_view_module_version": "1.2.0",
            "_view_name": "StyleView",
            "bar_color": null,
            "description_width": ""
          }
        },
        "b7c757562e9e4cd282b5e5424f9592a0": {
          "model_module": "@jupyter-widgets/base",
          "model_name": "LayoutModel",
          "model_module_version": "1.2.0",
          "state": {
            "_model_module": "@jupyter-widgets/base",
            "_model_module_version": "1.2.0",
            "_model_name": "LayoutModel",
            "_view_count": null,
            "_view_module": "@jupyter-widgets/base",
            "_view_module_version": "1.2.0",
            "_view_name": "LayoutView",
            "align_content": null,
            "align_items": null,
            "align_self": null,
            "border": null,
            "bottom": null,
            "display": null,
            "flex": null,
            "flex_flow": null,
            "grid_area": null,
            "grid_auto_columns": null,
            "grid_auto_flow": null,
            "grid_auto_rows": null,
            "grid_column": null,
            "grid_gap": null,
            "grid_row": null,
            "grid_template_areas": null,
            "grid_template_columns": null,
            "grid_template_rows": null,
            "height": null,
            "justify_content": null,
            "justify_items": null,
            "left": null,
            "margin": null,
            "max_height": null,
            "max_width": null,
            "min_height": null,
            "min_width": null,
            "object_fit": null,
            "object_position": null,
            "order": null,
            "overflow": null,
            "overflow_x": null,
            "overflow_y": null,
            "padding": null,
            "right": null,
            "top": null,
            "visibility": null,
            "width": null
          }
        },
        "d694268f117742a0a2cec6282306e78d": {
          "model_module": "@jupyter-widgets/controls",
          "model_name": "DescriptionStyleModel",
          "model_module_version": "1.5.0",
          "state": {
            "_model_module": "@jupyter-widgets/controls",
            "_model_module_version": "1.5.0",
            "_model_name": "DescriptionStyleModel",
            "_view_count": null,
            "_view_module": "@jupyter-widgets/base",
            "_view_module_version": "1.2.0",
            "_view_name": "StyleView",
            "description_width": ""
          }
        }
      }
    }
  },
  "nbformat": 4,
  "nbformat_minor": 5
}