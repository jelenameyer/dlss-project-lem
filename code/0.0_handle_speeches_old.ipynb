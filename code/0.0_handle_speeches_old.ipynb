{
 "cells": [
  {
   "cell_type": "code",
   "execution_count": 6,
   "id": "cef2389a",
   "metadata": {},
   "outputs": [],
   "source": [
    "import pandas as pd\n",
    "import json\n",
    "import glob\n",
    "import os"
   ]
  },
  {
   "cell_type": "code",
   "execution_count": 7,
   "id": "305f68e4",
   "metadata": {},
   "outputs": [],
   "source": [
    "# settings\n",
    "\n",
    "folder_path = \"../data/19th_20th_speeches_all\"\n",
    "test_file = \"LP_19_Sitzung_35.json\""
   ]
  },
  {
   "cell_type": "markdown",
   "id": "72ca9cf6",
   "metadata": {},
   "source": [
    "***\n",
    "## **Understand the Structure**\n",
    "***"
   ]
  },
  {
   "cell_type": "markdown",
   "id": "1e657a81",
   "metadata": {},
   "source": [
    "#### **Get files and file content**"
   ]
  },
  {
   "cell_type": "code",
   "execution_count": 8,
   "id": "d07327be",
   "metadata": {},
   "outputs": [
    {
     "name": "stdout",
     "output_type": "stream",
     "text": [
      "Nr. of session protocols: 329\n"
     ]
    },
    {
     "data": {
      "text/plain": [
       "['../data/19th_20th_speeches_all\\\\LP_19_Sitzung_1.json',\n",
       " '../data/19th_20th_speeches_all\\\\LP_19_Sitzung_10.json',\n",
       " '../data/19th_20th_speeches_all\\\\LP_19_Sitzung_100.json',\n",
       " '../data/19th_20th_speeches_all\\\\LP_19_Sitzung_101.json',\n",
       " '../data/19th_20th_speeches_all\\\\LP_19_Sitzung_102.json']"
      ]
     },
     "execution_count": 8,
     "metadata": {},
     "output_type": "execute_result"
    }
   ],
   "source": [
    "# get a list of all filenames\n",
    "json_files = glob.glob(os.path.join(folder_path, \"*.json\"))\n",
    "\n",
    "print(\"Nr. of session protocols:\", len(json_files))\n",
    "json_files[:5]"
   ]
  },
  {
   "cell_type": "code",
   "execution_count": 9,
   "id": "e38ebcdb",
   "metadata": {},
   "outputs": [
    {
     "name": "stdout",
     "output_type": "stream",
     "text": [
      "dict_keys(['Protocol', 'AgendaItems', 'NLPSpeeches'])\n"
     ]
    }
   ],
   "source": [
    "# get a test file (later in loop over all json files)\n",
    "with open(f\"{folder_path}/{test_file}\", 'r') as file:\n",
    "    data = json.load(file)\n",
    "\n",
    "\n",
    "# print the data\n",
    "print(data.keys())"
   ]
  },
  {
   "cell_type": "code",
   "execution_count": 10,
   "id": "beaba4c9",
   "metadata": {},
   "outputs": [
    {
     "name": "stdout",
     "output_type": "stream",
     "text": [
      "Data Type: <class 'list'>\n"
     ]
    },
    {
     "data": {
      "text/plain": [
       "dict_keys(['CategoryCoveredTags', 'NamedEntities', 'Tokens', 'Sentiments', 'AbstractSummary', 'AbstractSummaryPEGASUS', 'ExtractiveSummary', 'EnglishTranslationOfSpeech', 'EnglishTranslationScore', 'Text', 'SpeakerId', 'Segments', 'ProtocolNumber', 'LegislaturePeriod', 'AgendaItemNumber', 'MongoId', 'Id'])"
      ]
     },
     "execution_count": 10,
     "metadata": {},
     "output_type": "execute_result"
    }
   ],
   "source": [
    "# protocol and agends irrelevant --> interested in NLP speeches\n",
    "print(\"Data Type:\", type(data[\"NLPSpeeches\"]))\n",
    "\n",
    "# fist elements keys\n",
    "data[\"NLPSpeeches\"][0].keys()\n",
    "\n",
    "# here, second loop necessary, loop over length of data[\"NLPSpeeches\"]"
   ]
  },
  {
   "cell_type": "markdown",
   "id": "fe44740b",
   "metadata": {},
   "source": [
    "***\n",
    "#### **Find speech text**"
   ]
  },
  {
   "cell_type": "code",
   "execution_count": 11,
   "id": "a11fc75c",
   "metadata": {},
   "outputs": [
    {
     "name": "stdout",
     "output_type": "stream",
     "text": [
      "Das Thema Wohnungen ist mit Recht ein Schwerpunkt unserer Arbeit in der Koalition und auch in der Koalitionsvereinbarung. Wir wollen 1,5 Millionen neue Wohnungen bauen, und zwar Wohnungen zu bezahlbaren Mieten. Dazu wollen wir die entsprechenden Rahmenbedingungen schaffen. Wir wollen auch die Mieter besser schützen, indem sie mehr Auskunft bekommen. Die Grundlage für alle Arbeiten ist der Koalitionsvertrag. Das gilt für die von Ihnen angesprochene Ministerin genauso wie für Herrn Luczak. Da gibt es auch gar keinen Gesprächsbedarf bei uns.\n",
      "Jetzt geht es darum, sowohl die Maßnahmen für den sozialen Wohnungsbau als auch die Maßnahmen für den freien Wohnungsbau gerade auch durch das bei der Klausurtagung von den geschäftsführenden Fraktionsvorständen beschlossene Paket schnell umzusetzen. Dazu laufen Gespräche. Wir brauchen mehr Bauland; da kann auch die BImA mithelfen. Aber wir brauchen eben auch schnellere Verfahren, und wir brauchen bessere Auskunftsrechte für die Mieterinnen und Mieter. An allen Stellen werden wir arbeiten und unseren Beitrag leisten. 1,5 Millionen Wohnungen in einer Legislaturperiode, das ist ein ehrgeiziges Ziel. Aber wir werden alles tun, das zu erreichen.\n",
      "\n"
     ]
    }
   ],
   "source": [
    "# example speech text of speech nr. 30 (full, not segmented with shouts)\n",
    "print(data['NLPSpeeches'][30][\"Text\"])"
   ]
  },
  {
   "cell_type": "code",
   "execution_count": 12,
   "id": "cf522919",
   "metadata": {},
   "outputs": [
    {
     "data": {
      "text/plain": [
       "[{'Text': 'Das Thema Wohnungen ist mit Recht ein Schwerpunkt unserer Arbeit in der Koalition und auch in der Koalitionsvereinbarung. Wir wollen 1,5\\xa0Millionen neue Wohnungen bauen, und zwar Wohnungen zu bezahlbaren Mieten. Dazu wollen wir die entsprechenden Rahmenbedingungen schaffen. Wir wollen auch die Mieter besser schützen, indem sie mehr Auskunft bekommen. Die Grundlage für alle Arbeiten ist der Koalitionsvertrag. Das gilt für die von Ihnen angesprochene Ministerin genauso wie für Herrn Luczak. Da gibt es auch gar keinen Gesprächsbedarf bei uns.\\n',\n",
       "  'Shouts': [],\n",
       "  'SpeechId': '931f3906-0d3c-446c-6acd-08da102a68d8',\n",
       "  'Id': '24d45fae-4551-4cce-7868-08da102a68db'},\n",
       " {'Text': 'Jetzt geht es darum, sowohl die Maßnahmen für den sozialen Wohnungsbau als auch die Maßnahmen für den freien Wohnungsbau gerade auch durch das bei der Klausurtagung von den geschäftsführenden Fraktionsvorständen beschlossene Paket schnell umzusetzen. Dazu laufen Gespräche. Wir brauchen mehr Bauland; da kann auch die BImA mithelfen. Aber wir brauchen eben auch schnellere Verfahren, und wir brauchen bessere Auskunftsrechte für die Mieterinnen und Mieter. An allen Stellen werden wir arbeiten und unseren Beitrag leisten. 1,5\\xa0Millionen Wohnungen in einer Legislaturperiode, das ist ein ehrgeiziges Ziel. Aber wir werden alles tun, das zu erreichen.\\n',\n",
       "  'Shouts': [{'Text': 'Sehr schwach!',\n",
       "    'FirstName': 'Heike',\n",
       "    'LastName': 'Hänsel',\n",
       "    'Fraction': 'Die Linke',\n",
       "    'Party': None,\n",
       "    'SpeakerId': '11003763',\n",
       "    'SpeechSegmentId': 'febfce68-d93a-477e-7869-08da102a68db',\n",
       "    'Id': 'ea523ea9-e9bc-4f32-181f-08da102a68df'}],\n",
       "  'SpeechId': '931f3906-0d3c-446c-6acd-08da102a68d8',\n",
       "  'Id': 'febfce68-d93a-477e-7869-08da102a68db'}]"
      ]
     },
     "execution_count": 12,
     "metadata": {},
     "output_type": "execute_result"
    }
   ],
   "source": [
    "# under segments, you get the speech, separated into chunks, with shouts inbetween\n",
    "data['NLPSpeeches'][30][\"Segments\"]"
   ]
  },
  {
   "cell_type": "code",
   "execution_count": 13,
   "id": "72d623ac",
   "metadata": {},
   "outputs": [
    {
     "name": "stdout",
     "output_type": "stream",
     "text": [
      "Herr Kollege, als ich Bundeskanzlerin wurde, hatte Deutschland 5 Millionen Arbeitslose. Jetzt haben wir die niedrigste Arbeitslosigkeit seit der Wiedervereinigung,\n",
      "auch durch die Reformen – ich will das ausdrücklich sagen – meines Vorgängers. Das ist der Weg, den wir gehen müssen. Wir haben inzwischen den Mindestlohn eingeführt. Wir haben eine deutliche Verbesserung für viele Menschen erreicht, und da, wo die Verbesserungen noch nicht angekommen sind, werden wir durch eine Kommission „Gleichwertige Lebensverhältnisse“ in Deutschland darauf achten, dass dies noch geschieht.\n",
      "Aber ich glaube, die Frage so zu formulieren, dass es Deutschland schlechter geht, ist aus meiner Sicht falsch. Im Übrigen haben die jeweiligen Handelsabkommen auch in Deutschland zu großen Arbeitsplatzgewinnen geführt, weil sie fair und vernünftig ausgehandelt waren. Deshalb werde ich auch weiter dem freien Welthandel auf einer multilateralen Basis das Wort reden. Ich glaube, Ihre Abschottung und Ihr Glaube, alles alleine machen zu können und sich nicht in den internationalen Handel einbringen zu müssen, ist ein Fehlweg.\n",
      "\n"
     ]
    },
    {
     "data": {
      "text/plain": [
       "[{'Text': 'Herr Kollege, als ich Bundeskanzlerin wurde, hatte Deutschland 5\\xa0Millionen Arbeitslose. Jetzt haben wir die niedrigste Arbeitslosigkeit seit der Wiedervereinigung,\\n',\n",
       "  'Shouts': [{'Text': '(Beifall bei der CDU/CSU sowie bei Abgeordneten der FDP)',\n",
       "    'FirstName': None,\n",
       "    'LastName': None,\n",
       "    'Fraction': None,\n",
       "    'Party': None,\n",
       "    'SpeakerId': None,\n",
       "    'SpeechSegmentId': '0e80b8dc-22e4-401b-c3e0-08da0f22a00b',\n",
       "    'Id': '941f4408-7c4f-4ac8-0dd9-08da0f22a00e'}],\n",
       "  'SpeechId': '563e2437-3e04-4221-62f3-08da0f22a008',\n",
       "  'Id': '0e80b8dc-22e4-401b-c3e0-08da0f22a00b'},\n",
       " {'Text': 'auch durch die Reformen\\xa0– ich will das ausdrücklich sagen\\xa0– meines Vorgängers. Das ist der Weg, den wir gehen müssen. Wir haben inzwischen den Mindestlohn eingeführt. Wir haben eine deutliche Verbesserung für viele Menschen erreicht, und da, wo die Verbesserungen noch nicht angekommen sind, werden wir durch eine Kommission „Gleichwertige Lebensverhältnisse“ in Deutschland darauf achten, dass dies noch geschieht.\\n',\n",
       "  'Shouts': [],\n",
       "  'SpeechId': '563e2437-3e04-4221-62f3-08da0f22a008',\n",
       "  'Id': '49849e4b-b50a-40e9-c3e1-08da0f22a00b'},\n",
       " {'Text': 'Aber ich glaube, die Frage so zu formulieren, dass es Deutschland schlechter geht, ist aus meiner Sicht falsch. Im Übrigen haben die jeweiligen Handelsabkommen auch in Deutschland zu großen Arbeitsplatzgewinnen geführt, weil sie fair und vernünftig ausgehandelt waren. Deshalb werde ich auch weiter dem freien Welthandel auf einer multilateralen Basis das Wort reden. Ich glaube, Ihre Abschottung und Ihr Glaube, alles alleine machen zu können und sich nicht in den internationalen Handel einbringen zu müssen, ist ein Fehlweg.\\n',\n",
       "  'Shouts': [{'Text': '(Beifall bei der CDU/CSU sowie bei Abgeordneten der SPD und der FDP)',\n",
       "    'FirstName': None,\n",
       "    'LastName': None,\n",
       "    'Fraction': None,\n",
       "    'Party': None,\n",
       "    'SpeakerId': None,\n",
       "    'SpeechSegmentId': 'a161fe52-f062-4c41-c3e2-08da0f22a00b',\n",
       "    'Id': '2ccccc45-04d9-40fa-0dda-08da0f22a00e'}],\n",
       "  'SpeechId': '563e2437-3e04-4221-62f3-08da0f22a008',\n",
       "  'Id': 'a161fe52-f062-4c41-c3e2-08da0f22a00b'}]"
      ]
     },
     "execution_count": 13,
     "metadata": {},
     "output_type": "execute_result"
    }
   ],
   "source": [
    "# another example, with applause\n",
    "\n",
    "# full speech\n",
    "print(data['NLPSpeeches'][24][\"Text\"]) \n",
    "\n",
    "# segments with applause breaks\n",
    "data['NLPSpeeches'][24][\"Segments\"]"
   ]
  },
  {
   "cell_type": "markdown",
   "id": "10016ea3",
   "metadata": {},
   "source": [
    "***\n",
    "#### **Get Speaker ID**"
   ]
  },
  {
   "cell_type": "code",
   "execution_count": 14,
   "id": "5bd5a1af",
   "metadata": {},
   "outputs": [
    {
     "data": {
      "text/plain": [
       "dict_keys(['CategoryCoveredTags', 'NamedEntities', 'Tokens', 'Sentiments', 'AbstractSummary', 'AbstractSummaryPEGASUS', 'ExtractiveSummary', 'EnglishTranslationOfSpeech', 'EnglishTranslationScore', 'Text', 'SpeakerId', 'Segments', 'ProtocolNumber', 'LegislaturePeriod', 'AgendaItemNumber', 'MongoId', 'Id'])"
      ]
     },
     "execution_count": 14,
     "metadata": {},
     "output_type": "execute_result"
    }
   ],
   "source": [
    "data['NLPSpeeches'][30].keys() \n",
    "# delivers SpeakerId"
   ]
  },
  {
   "cell_type": "code",
   "execution_count": 15,
   "id": "a5b06b15",
   "metadata": {},
   "outputs": [
    {
     "data": {
      "text/plain": [
       "'11001478'"
      ]
     },
     "execution_count": 15,
     "metadata": {},
     "output_type": "execute_result"
    }
   ],
   "source": [
    "# reffering speaker Id of the speech\n",
    "\n",
    "data['NLPSpeeches'][30][\"SpeakerId\"]"
   ]
  },
  {
   "cell_type": "markdown",
   "id": "4dcd2934",
   "metadata": {},
   "source": [
    "***\n",
    "#### **Get Speech ID**"
   ]
  },
  {
   "cell_type": "code",
   "execution_count": 16,
   "id": "e217997f",
   "metadata": {},
   "outputs": [
    {
     "data": {
      "text/plain": [
       "dict_keys(['CategoryCoveredTags', 'NamedEntities', 'Tokens', 'Sentiments', 'AbstractSummary', 'AbstractSummaryPEGASUS', 'ExtractiveSummary', 'EnglishTranslationOfSpeech', 'EnglishTranslationScore', 'Text', 'SpeakerId', 'Segments', 'ProtocolNumber', 'LegislaturePeriod', 'AgendaItemNumber', 'MongoId', 'Id'])"
      ]
     },
     "execution_count": 16,
     "metadata": {},
     "output_type": "execute_result"
    }
   ],
   "source": [
    "data['NLPSpeeches'][30].keys() \n",
    "# delivers Id --> speech id"
   ]
  },
  {
   "cell_type": "code",
   "execution_count": 17,
   "id": "57669458",
   "metadata": {},
   "outputs": [
    {
     "data": {
      "text/plain": [
       "'931f3906-0d3c-446c-6acd-08da102a68d8'"
      ]
     },
     "execution_count": 17,
     "metadata": {},
     "output_type": "execute_result"
    }
   ],
   "source": [
    "data['NLPSpeeches'][30][\"Id\"]"
   ]
  },
  {
   "cell_type": "markdown",
   "id": "368ade7c",
   "metadata": {},
   "source": [
    "***\n",
    "#### **Investigate further properties**\n",
    "\n",
    "\n",
    "* Bundestagsmine reports some NLP analysis properties\n",
    "* Brief investigation on two examples\n",
    "* $\\to$ in our usecase propably irrelevant\n",
    "\n",
    "* Some other properties on legislative period, agenda item evtl. helpful $\\to$ record them"
   ]
  },
  {
   "cell_type": "code",
   "execution_count": 18,
   "id": "69b53d63",
   "metadata": {},
   "outputs": [
    {
     "name": "stdout",
     "output_type": "stream",
     "text": [
      "NamedEntities:  [{'LemmaValue': 'Ministerin', 'NLPSpeechId': '931f3906-0d3c-446c-6acd-08da102a68d8', 'ShoutId': '00000000-0000-0000-0000-000000000000', 'Begin': 452, 'End': 462, 'Value': 'PER', 'Id': '0577b27e-e55c-4247-70c8-08da102a68e5'}, {'LemmaValue': 'Herrn Luczak', 'NLPSpeechId': '931f3906-0d3c-446c-6acd-08da102a68d8', 'ShoutId': '00000000-0000-0000-0000-000000000000', 'Begin': 479, 'End': 491, 'Value': 'PER', 'Id': 'f069d3dc-4dac-4f20-70c9-08da102a68e5'}, {'LemmaValue': 'sozial', 'NLPSpeechId': '931f3906-0d3c-446c-6acd-08da102a68d8', 'ShoutId': '00000000-0000-0000-0000-000000000000', 'Begin': 595, 'End': 603, 'Value': 'MISC', 'Id': '1aa35abe-71f1-4f3e-70ca-08da102a68e5'}, {'LemmaValue': 'BImA', 'NLPSpeechId': '931f3906-0d3c-446c-6acd-08da102a68d8', 'ShoutId': '00000000-0000-0000-0000-000000000000', 'Begin': 863, 'End': 867, 'Value': 'ORG', 'Id': 'f60ba2c8-40d5-4b6c-70cb-08da102a68e5'}]\n",
      "Tokens:  None\n",
      "Sentiments:  [{'NLPSpeechId': '931f3906-0d3c-446c-6acd-08da102a68d8', 'ShoutId': '00000000-0000-0000-0000-000000000000', 'Begin': 0, 'End': 121, 'SentimentSingleScore': 0.1779, 'Id': '8dab208c-1e1d-4b08-fac1-08da102a68e7'}, {'NLPSpeechId': '931f3906-0d3c-446c-6acd-08da102a68d8', 'ShoutId': '00000000-0000-0000-0000-000000000000', 'Begin': 122, 'End': 210, 'SentimentSingleScore': 0.4404, 'Id': 'b8adf54a-782e-486f-fac2-08da102a68e7'}, {'NLPSpeechId': '931f3906-0d3c-446c-6acd-08da102a68d8', 'ShoutId': '00000000-0000-0000-0000-000000000000', 'Begin': 211, 'End': 273, 'SentimentSingleScore': 0.2732, 'Id': '2238a2ff-1e8f-454c-fac3-08da102a68e7'}, {'NLPSpeechId': '931f3906-0d3c-446c-6acd-08da102a68d8', 'ShoutId': '00000000-0000-0000-0000-000000000000', 'Begin': 274, 'End': 351, 'SentimentSingleScore': 0.4767, 'Id': '231549ed-2869-4cf5-fac4-08da102a68e7'}, {'NLPSpeechId': '931f3906-0d3c-446c-6acd-08da102a68d8', 'ShoutId': '00000000-0000-0000-0000-000000000000', 'Begin': 352, 'End': 410, 'SentimentSingleScore': 0.0, 'Id': 'bc5b11f8-0653-4267-fac5-08da102a68e7'}, {'NLPSpeechId': '931f3906-0d3c-446c-6acd-08da102a68d8', 'ShoutId': '00000000-0000-0000-0000-000000000000', 'Begin': 411, 'End': 492, 'SentimentSingleScore': 0.0, 'Id': 'fa4dfbec-f03a-4025-fac6-08da102a68e7'}, {'NLPSpeechId': '931f3906-0d3c-446c-6acd-08da102a68d8', 'ShoutId': '00000000-0000-0000-0000-000000000000', 'Begin': 493, 'End': 544, 'SentimentSingleScore': 0.0, 'Id': 'ec2a15d1-e995-4e41-fac7-08da102a68e7'}, {'NLPSpeechId': '931f3906-0d3c-446c-6acd-08da102a68d8', 'ShoutId': '00000000-0000-0000-0000-000000000000', 'Begin': 544, 'End': 545, 'SentimentSingleScore': 0.0, 'Id': 'ee0f4a0a-8bbe-46bd-fac8-08da102a68e7'}, {'NLPSpeechId': '931f3906-0d3c-446c-6acd-08da102a68d8', 'ShoutId': '00000000-0000-0000-0000-000000000000', 'Begin': 545, 'End': 795, 'SentimentSingleScore': 0.7003, 'Id': 'ec3be914-280f-40b2-fac9-08da102a68e7'}, {'NLPSpeechId': '931f3906-0d3c-446c-6acd-08da102a68d8', 'ShoutId': '00000000-0000-0000-0000-000000000000', 'Begin': 796, 'End': 818, 'SentimentSingleScore': 0.0, 'Id': '28f432cd-caf1-48e7-faca-08da102a68e7'}, {'NLPSpeechId': '931f3906-0d3c-446c-6acd-08da102a68d8', 'ShoutId': '00000000-0000-0000-0000-000000000000', 'Begin': 819, 'End': 845, 'SentimentSingleScore': 0.0, 'Id': '0265d11c-fa31-48ae-facb-08da102a68e7'}, {'NLPSpeechId': '931f3906-0d3c-446c-6acd-08da102a68d8', 'ShoutId': '00000000-0000-0000-0000-000000000000', 'Begin': 846, 'End': 878, 'SentimentSingleScore': 0.0, 'Id': 'ddee85ac-1aab-408d-facc-08da102a68e7'}, {'NLPSpeechId': '931f3906-0d3c-446c-6acd-08da102a68d8', 'ShoutId': '00000000-0000-0000-0000-000000000000', 'Begin': 879, 'End': 1001, 'SentimentSingleScore': 0.7003, 'Id': 'd49b8dde-f646-4936-facd-08da102a68e7'}, {'NLPSpeechId': '931f3906-0d3c-446c-6acd-08da102a68d8', 'ShoutId': '00000000-0000-0000-0000-000000000000', 'Begin': 1002, 'End': 1067, 'SentimentSingleScore': 0.0, 'Id': '75bba80d-ac71-4652-face-08da102a68e7'}, {'NLPSpeechId': '931f3906-0d3c-446c-6acd-08da102a68d8', 'ShoutId': '00000000-0000-0000-0000-000000000000', 'Begin': 1068, 'End': 1149, 'SentimentSingleScore': 0.7184, 'Id': 'ba93cf0c-4d92-44e4-facf-08da102a68e7'}, {'NLPSpeechId': '931f3906-0d3c-446c-6acd-08da102a68d8', 'ShoutId': '00000000-0000-0000-0000-000000000000', 'Begin': 1150, 'End': 1194, 'SentimentSingleScore': 0.4019, 'Id': '1b244846-8011-43e3-fad0-08da102a68e7'}, {'NLPSpeechId': '931f3906-0d3c-446c-6acd-08da102a68d8', 'ShoutId': '00000000-0000-0000-0000-000000000000', 'Begin': 1194, 'End': 1195, 'SentimentSingleScore': 0.0, 'Id': 'dadafe1e-0d13-4386-fad1-08da102a68e7'}]\n",
      "AbstractSummary:  None\n",
      "AbstractSummaryPEGASUS:  None\n",
      "ExtractiveSummary:  None\n"
     ]
    }
   ],
   "source": [
    "# example 1\n",
    "print(\"NamedEntities: \", data['NLPSpeeches'][30]['NamedEntities'])\n",
    "print(\"Tokens: \", data['NLPSpeeches'][30]['Tokens']) \n",
    "print(\"Sentiments: \", data['NLPSpeeches'][30]['Sentiments'])\n",
    "print(\"AbstractSummary: \", data['NLPSpeeches'][30]['AbstractSummary'])\n",
    "print(\"AbstractSummaryPEGASUS: \", data['NLPSpeeches'][30]['AbstractSummaryPEGASUS'])\n",
    "print(\"ExtractiveSummary: \", data['NLPSpeeches'][30]['ExtractiveSummary'])"
   ]
  },
  {
   "cell_type": "code",
   "execution_count": 19,
   "id": "6c75e846",
   "metadata": {},
   "outputs": [
    {
     "name": "stdout",
     "output_type": "stream",
     "text": [
      "NamedEntities:  [{'LemmaValue': 'Bundeskanzlerin', 'NLPSpeechId': '563e2437-3e04-4221-62f3-08da0f22a008', 'ShoutId': '00000000-0000-0000-0000-000000000000', 'Begin': 22, 'End': 37, 'Value': 'MISC', 'Id': 'aed591ca-be94-43c4-c45f-08da0f22a015'}, {'LemmaValue': 'Deutschland', 'NLPSpeechId': '563e2437-3e04-4221-62f3-08da0f22a008', 'ShoutId': '00000000-0000-0000-0000-000000000000', 'Begin': 51, 'End': 62, 'Value': 'LOC', 'Id': 'db9f11ce-6bbd-43ac-c460-08da0f22a015'}, {'LemmaValue': 'Wiedervereinigung', 'NLPSpeechId': '563e2437-3e04-4221-62f3-08da0f22a008', 'ShoutId': '00000000-0000-0000-0000-000000000000', 'Begin': 145, 'End': 162, 'Value': 'MISC', 'Id': '10ffff21-9229-4439-c461-08da0f22a015'}, {'LemmaValue': 'Kommission', 'NLPSpeechId': '563e2437-3e04-4221-62f3-08da0f22a008', 'ShoutId': '00000000-0000-0000-0000-000000000000', 'Begin': 478, 'End': 488, 'Value': 'ORG', 'Id': '3de7938e-e3c4-4ea9-c462-08da0f22a015'}, {'LemmaValue': 'Deutschland', 'NLPSpeechId': '563e2437-3e04-4221-62f3-08da0f22a008', 'ShoutId': '00000000-0000-0000-0000-000000000000', 'Begin': 527, 'End': 538, 'Value': 'LOC', 'Id': 'acabac02-44ea-4f8d-c463-08da0f22a015'}, {'LemmaValue': 'Deutschland', 'NLPSpeechId': '563e2437-3e04-4221-62f3-08da0f22a008', 'ShoutId': '00000000-0000-0000-0000-000000000000', 'Begin': 634, 'End': 645, 'Value': 'LOC', 'Id': 'aba4b967-74b7-4655-c464-08da0f22a015'}, {'LemmaValue': 'Deutschland', 'NLPSpeechId': '563e2437-3e04-4221-62f3-08da0f22a008', 'ShoutId': '00000000-0000-0000-0000-000000000000', 'Begin': 748, 'End': 759, 'Value': 'LOC', 'Id': 'e7eedefc-6692-4da6-c465-08da0f22a015'}, {'LemmaValue': 'Wort', 'NLPSpeechId': '563e2437-3e04-4221-62f3-08da0f22a008', 'ShoutId': '00000000-0000-0000-0000-000000000000', 'Begin': 936, 'End': 940, 'Value': 'MISC', 'Id': '9cbb2473-7877-471c-c466-08da0f22a015'}]\n",
      "Tokens:  None\n",
      "Sentiments:  [{'NLPSpeechId': '563e2437-3e04-4221-62f3-08da0f22a008', 'ShoutId': '00000000-0000-0000-0000-000000000000', 'Begin': 0, 'End': 87, 'SentimentSingleScore': -0.4767, 'Id': 'caa32d94-1dca-483e-0c04-08da0f22a019'}, {'NLPSpeechId': '563e2437-3e04-4221-62f3-08da0f22a008', 'ShoutId': '00000000-0000-0000-0000-000000000000', 'Begin': 88, 'End': 242, 'SentimentSingleScore': -0.2263, 'Id': 'f1081cd7-514c-4537-0c05-08da0f22a019'}, {'NLPSpeechId': '563e2437-3e04-4221-62f3-08da0f22a008', 'ShoutId': '00000000-0000-0000-0000-000000000000', 'Begin': 243, 'End': 281, 'SentimentSingleScore': 0.0, 'Id': 'fe7704e4-587a-4984-0c06-08da0f22a019'}, {'NLPSpeechId': '563e2437-3e04-4221-62f3-08da0f22a008', 'ShoutId': '00000000-0000-0000-0000-000000000000', 'Begin': 282, 'End': 330, 'SentimentSingleScore': 0.0, 'Id': '47840fe9-3764-42a8-0c07-08da0f22a019'}, {'NLPSpeechId': '563e2437-3e04-4221-62f3-08da0f22a008', 'ShoutId': '00000000-0000-0000-0000-000000000000', 'Begin': 331, 'End': 579, 'SentimentSingleScore': 0.7845, 'Id': 'be13b3df-0432-4aed-0c08-08da0f22a019'}, {'NLPSpeechId': '563e2437-3e04-4221-62f3-08da0f22a008', 'ShoutId': '00000000-0000-0000-0000-000000000000', 'Begin': 579, 'End': 691, 'SentimentSingleScore': -0.2023, 'Id': 'dc3b0070-82ad-44dd-0c09-08da0f22a019'}, {'NLPSpeechId': '563e2437-3e04-4221-62f3-08da0f22a008', 'ShoutId': '00000000-0000-0000-0000-000000000000', 'Begin': 692, 'End': 848, 'SentimentSingleScore': 0.8442, 'Id': '3e922539-006d-470c-0c0a-08da0f22a019'}, {'NLPSpeechId': '563e2437-3e04-4221-62f3-08da0f22a008', 'ShoutId': '00000000-0000-0000-0000-000000000000', 'Begin': 849, 'End': 947, 'SentimentSingleScore': 0.4767, 'Id': '9d1de024-a950-4ba5-0c0b-08da0f22a019'}, {'NLPSpeechId': '563e2437-3e04-4221-62f3-08da0f22a008', 'ShoutId': '00000000-0000-0000-0000-000000000000', 'Begin': 948, 'End': 1107, 'SentimentSingleScore': 0.765, 'Id': '3de50a5c-5a5d-42a7-0c0c-08da0f22a019'}, {'NLPSpeechId': '563e2437-3e04-4221-62f3-08da0f22a008', 'ShoutId': '00000000-0000-0000-0000-000000000000', 'Begin': 1107, 'End': 1108, 'SentimentSingleScore': 0.0, 'Id': '2d145d35-c0f5-44ea-0c0d-08da0f22a019'}]\n",
      "AbstractSummary:  None\n",
      "AbstractSummaryPEGASUS:  None\n",
      "ExtractiveSummary:  None\n"
     ]
    }
   ],
   "source": [
    "# example 2\n",
    "print(\"NamedEntities: \", data['NLPSpeeches'][24]['NamedEntities'])\n",
    "print(\"Tokens: \", data['NLPSpeeches'][24]['Tokens'])\n",
    "print(\"Sentiments: \", data['NLPSpeeches'][24]['Sentiments'])\n",
    "print(\"AbstractSummary: \", data['NLPSpeeches'][24]['AbstractSummary'])\n",
    "print(\"AbstractSummaryPEGASUS: \", data['NLPSpeeches'][24]['AbstractSummaryPEGASUS'])\n",
    "print(\"ExtractiveSummary: \", data['NLPSpeeches'][24]['ExtractiveSummary'])"
   ]
  },
  {
   "cell_type": "code",
   "execution_count": 20,
   "id": "0a0486fb",
   "metadata": {},
   "outputs": [
    {
     "name": "stdout",
     "output_type": "stream",
     "text": [
      "ProtocolNumber:  35\n",
      "LegislaturePeriod:  19\n",
      "AgendaItemNumber:  1\n",
      "MongoId:  61ffafe7d0740928515ea623\n"
     ]
    }
   ],
   "source": [
    "# potentially helpful properties\n",
    "print(\"ProtocolNumber: \", data['NLPSpeeches'][30]['ProtocolNumber'])\n",
    "print(\"LegislaturePeriod: \", data['NLPSpeeches'][30]['LegislaturePeriod'])\n",
    "print(\"AgendaItemNumber: \", data['NLPSpeeches'][30]['AgendaItemNumber'])\n",
    "print(\"MongoId: \", data['NLPSpeeches'][30]['MongoId']) # mondo DB --> database ID?"
   ]
  },
  {
   "cell_type": "markdown",
   "id": "02f98e79",
   "metadata": {},
   "source": [
    "***\n",
    "## **Handle one whole file**\n",
    "***"
   ]
  },
  {
   "cell_type": "code",
   "execution_count": 21,
   "id": "af8064df",
   "metadata": {},
   "outputs": [
    {
     "name": "stdout",
     "output_type": "stream",
     "text": [
      "Nr. of Speeches: 74\n"
     ]
    }
   ],
   "source": [
    "print(\"Nr. of Speeches:\", len(data[\"NLPSpeeches\"]))"
   ]
  },
  {
   "cell_type": "code",
   "execution_count": 22,
   "id": "a98288b5",
   "metadata": {},
   "outputs": [
    {
     "data": {
      "text/html": [
       "<div>\n",
       "<style scoped>\n",
       "    .dataframe tbody tr th:only-of-type {\n",
       "        vertical-align: middle;\n",
       "    }\n",
       "\n",
       "    .dataframe tbody tr th {\n",
       "        vertical-align: top;\n",
       "    }\n",
       "\n",
       "    .dataframe thead th {\n",
       "        text-align: right;\n",
       "    }\n",
       "</style>\n",
       "<table border=\"1\" class=\"dataframe\">\n",
       "  <thead>\n",
       "    <tr style=\"text-align: right;\">\n",
       "      <th></th>\n",
       "      <th>speech_id</th>\n",
       "      <th>speaker_id</th>\n",
       "      <th>speech_text</th>\n",
       "      <th>legislative_period</th>\n",
       "      <th>protocol_nr</th>\n",
       "      <th>agenda_item_number</th>\n",
       "    </tr>\n",
       "  </thead>\n",
       "  <tbody>\n",
       "    <tr>\n",
       "      <th>0</th>\n",
       "      <td>851aed59-8247-4b96-2769-08da0d9e2391</td>\n",
       "      <td>11001478</td>\n",
       "      <td>Es ist Gegenstand meiner Gespräche mit dem Bun...</td>\n",
       "      <td>19</td>\n",
       "      <td>35</td>\n",
       "      <td>1</td>\n",
       "    </tr>\n",
       "    <tr>\n",
       "      <th>1</th>\n",
       "      <td>46b1bec8-45cb-4d82-f1e7-08da0daf380d</td>\n",
       "      <td>11001478</td>\n",
       "      <td>Ich sehe sehr wohl, dass es wünschenswert ist,...</td>\n",
       "      <td>19</td>\n",
       "      <td>35</td>\n",
       "      <td>1</td>\n",
       "    </tr>\n",
       "    <tr>\n",
       "      <th>2</th>\n",
       "      <td>a1c908ab-52ba-42da-f853-08da0daf380d</td>\n",
       "      <td>11001478</td>\n",
       "      <td>Ich sehe noch Gesprächsbedarf innerhalb der Bu...</td>\n",
       "      <td>19</td>\n",
       "      <td>35</td>\n",
       "      <td>1</td>\n",
       "    </tr>\n",
       "    <tr>\n",
       "      <th>3</th>\n",
       "      <td>1e6f86cd-5efa-4f2e-f9eb-08da0daf380d</td>\n",
       "      <td>11001478</td>\n",
       "      <td>Auf dem G-7-Gipfel haben wir, glaube ich, nich...</td>\n",
       "      <td>19</td>\n",
       "      <td>35</td>\n",
       "      <td>1</td>\n",
       "    </tr>\n",
       "    <tr>\n",
       "      <th>4</th>\n",
       "      <td>1160cbc7-5d16-4074-fcef-08da0daf380d</td>\n",
       "      <td>11001478</td>\n",
       "      <td>Ich habe in meiner Einführung gesagt, dass sic...</td>\n",
       "      <td>19</td>\n",
       "      <td>35</td>\n",
       "      <td>1</td>\n",
       "    </tr>\n",
       "    <tr>\n",
       "      <th>...</th>\n",
       "      <td>...</td>\n",
       "      <td>...</td>\n",
       "      <td>...</td>\n",
       "      <td>...</td>\n",
       "      <td>...</td>\n",
       "      <td>...</td>\n",
       "    </tr>\n",
       "    <tr>\n",
       "      <th>69</th>\n",
       "      <td>3912ac29-ae94-4d94-05be-08da0f05b642</td>\n",
       "      <td>11004831</td>\n",
       "      <td>Verehrte Frau Bundeskanzlerin, die G 7 brauche...</td>\n",
       "      <td>19</td>\n",
       "      <td>35</td>\n",
       "      <td>1</td>\n",
       "    </tr>\n",
       "    <tr>\n",
       "      <th>70</th>\n",
       "      <td>c0b49e79-da01-43aa-26d8-08da0d9e2391</td>\n",
       "      <td>11004905</td>\n",
       "      <td></td>\n",
       "      <td>19</td>\n",
       "      <td>35</td>\n",
       "      <td>1</td>\n",
       "    </tr>\n",
       "    <tr>\n",
       "      <th>71</th>\n",
       "      <td>fb54d2c4-2a96-4bc1-6ba7-08da0f22a008</td>\n",
       "      <td>11004911</td>\n",
       "      <td>Sehr geehrter Herr Präsident! Werte Kolleginne...</td>\n",
       "      <td>19</td>\n",
       "      <td>35</td>\n",
       "      <td>3</td>\n",
       "    </tr>\n",
       "    <tr>\n",
       "      <th>72</th>\n",
       "      <td>70868387-5556-4379-4cd5-08da0e9b3c58</td>\n",
       "      <td>11004914</td>\n",
       "      <td></td>\n",
       "      <td>19</td>\n",
       "      <td>35</td>\n",
       "      <td>1</td>\n",
       "    </tr>\n",
       "    <tr>\n",
       "      <th>73</th>\n",
       "      <td>3bb3e9ab-8a61-4236-f229-08da0daf380d</td>\n",
       "      <td>11004937</td>\n",
       "      <td>Herr Präsident! Werte Kollegen! Liebe Gäste de...</td>\n",
       "      <td>19</td>\n",
       "      <td>35</td>\n",
       "      <td>3</td>\n",
       "    </tr>\n",
       "  </tbody>\n",
       "</table>\n",
       "<p>74 rows × 6 columns</p>\n",
       "</div>"
      ],
      "text/plain": [
       "                               speech_id speaker_id  \\\n",
       "0   851aed59-8247-4b96-2769-08da0d9e2391   11001478   \n",
       "1   46b1bec8-45cb-4d82-f1e7-08da0daf380d   11001478   \n",
       "2   a1c908ab-52ba-42da-f853-08da0daf380d   11001478   \n",
       "3   1e6f86cd-5efa-4f2e-f9eb-08da0daf380d   11001478   \n",
       "4   1160cbc7-5d16-4074-fcef-08da0daf380d   11001478   \n",
       "..                                   ...        ...   \n",
       "69  3912ac29-ae94-4d94-05be-08da0f05b642   11004831   \n",
       "70  c0b49e79-da01-43aa-26d8-08da0d9e2391   11004905   \n",
       "71  fb54d2c4-2a96-4bc1-6ba7-08da0f22a008   11004911   \n",
       "72  70868387-5556-4379-4cd5-08da0e9b3c58   11004914   \n",
       "73  3bb3e9ab-8a61-4236-f229-08da0daf380d   11004937   \n",
       "\n",
       "                                          speech_text legislative_period  \\\n",
       "0   Es ist Gegenstand meiner Gespräche mit dem Bun...                 19   \n",
       "1   Ich sehe sehr wohl, dass es wünschenswert ist,...                 19   \n",
       "2   Ich sehe noch Gesprächsbedarf innerhalb der Bu...                 19   \n",
       "3   Auf dem G-7-Gipfel haben wir, glaube ich, nich...                 19   \n",
       "4   Ich habe in meiner Einführung gesagt, dass sic...                 19   \n",
       "..                                                ...                ...   \n",
       "69  Verehrte Frau Bundeskanzlerin, die G 7 brauche...                 19   \n",
       "70                                                                    19   \n",
       "71  Sehr geehrter Herr Präsident! Werte Kolleginne...                 19   \n",
       "72                                                                    19   \n",
       "73  Herr Präsident! Werte Kollegen! Liebe Gäste de...                 19   \n",
       "\n",
       "   protocol_nr agenda_item_number  \n",
       "0           35                  1  \n",
       "1           35                  1  \n",
       "2           35                  1  \n",
       "3           35                  1  \n",
       "4           35                  1  \n",
       "..         ...                ...  \n",
       "69          35                  1  \n",
       "70          35                  1  \n",
       "71          35                  3  \n",
       "72          35                  1  \n",
       "73          35                  3  \n",
       "\n",
       "[74 rows x 6 columns]"
      ]
     },
     "execution_count": 22,
     "metadata": {},
     "output_type": "execute_result"
    }
   ],
   "source": [
    "# legislative period 19, session 35\n",
    "df_LP19_35 = pd.DataFrame(columns=['speech_id', 'speaker_id', 'speech_text', 'legislative_period', 'protocol_nr', 'agenda_item_number'])\n",
    "\n",
    "\n",
    "for i, speech in enumerate(data[\"NLPSpeeches\"]):\n",
    "\n",
    "\n",
    "    row = {\n",
    "        'speech_id' : speech['Id'], \n",
    "        'speaker_id' : speech['SpeakerId'], \n",
    "        'speech_text' : speech['Text'], \n",
    "        'legislative_period' : speech['LegislaturePeriod'], \n",
    "        'protocol_nr' : speech['ProtocolNumber'], \n",
    "        'agenda_item_number' : speech['AgendaItemNumber']\n",
    "    }\n",
    "\n",
    "    df_LP19_35 = pd.concat([df_LP19_35, pd.DataFrame([row])], ignore_index=True)\n",
    "  \n",
    "df_LP19_35\n",
    "\n"
   ]
  },
  {
   "cell_type": "markdown",
   "id": "78d9c169",
   "metadata": {},
   "source": [
    "***\n",
    "## **Go over all files**\n",
    "***"
   ]
  },
  {
   "cell_type": "code",
   "execution_count": 23,
   "id": "d82c3a34",
   "metadata": {},
   "outputs": [
    {
     "data": {
      "text/plain": [
       "329"
      ]
     },
     "execution_count": 23,
     "metadata": {},
     "output_type": "execute_result"
    }
   ],
   "source": [
    "len(json_files)"
   ]
  },
  {
   "cell_type": "code",
   "execution_count": null,
   "id": "c7952d0b",
   "metadata": {},
   "outputs": [],
   "source": [
    "# df for all speeches, from all 329 sessions\n",
    "df_all = pd.DataFrame(columns=['speech_id', 'speaker_id', 'speech_text', 'legislative_period', 'protocol_nr', 'agenda_item_number'])\n",
    "\n",
    "\n",
    "# loop over all files\n",
    "for session_file in json_files:\n",
    "\n",
    "    # get temporary data from current session\n",
    "    with open(f\"{session_file}\", 'r') as file:\n",
    "        data_temp = json.load(file)\n",
    "\n",
    "    # make df\n",
    "    df_temp = pd.DataFrame(columns=['speech_id', 'speaker_id', 'speech_text', 'legislative_period', 'protocol_nr', 'agenda_item_number'])\n",
    "\n",
    "\n",
    "    # loop over all speeches, extract relevant features\n",
    "    for i, speech in enumerate(data_temp[\"NLPSpeeches\"]):\n",
    "        row = {\n",
    "            'speech_id' : speech['Id'], \n",
    "            'speaker_id' : speech['SpeakerId'], \n",
    "            'speech_text' : speech['Text'], \n",
    "            'legislative_period' : speech['LegislaturePeriod'], \n",
    "            'protocol_nr' : speech['ProtocolNumber'], \n",
    "            'agenda_item_number' : speech['AgendaItemNumber']\n",
    "        }\n",
    "\n",
    "        # add current speech\n",
    "        df_temp = pd.concat([df_temp, pd.DataFrame([row])], ignore_index=True)\n",
    "\n",
    "\n",
    "    df_all = pd.concat([df_all, df_temp], ignore_index=True)\n",
    "\n",
    "# ~30 sec. runtime"
   ]
  },
  {
   "cell_type": "code",
   "execution_count": 25,
   "id": "e22dd26c",
   "metadata": {},
   "outputs": [
    {
     "name": "stdout",
     "output_type": "stream",
     "text": [
      "Legislative Periods:  [19 20]\n",
      "Nr. of sessions in 19th:  239\n",
      "Nr. of sessions in 20th:  90\n",
      "Nr. of sessions:  329\n",
      "Session Nr. check:  True\n"
     ]
    }
   ],
   "source": [
    "# sainity checks\n",
    "\n",
    "print(\"Legislative Periods: \", df_all['legislative_period'].unique()) # fine\n",
    "\n",
    "print(\"Nr. of sessions in 19th: \", len(df_all[df_all['legislative_period'] == 19]['protocol_nr'].unique())) # fine\n",
    "print(\"Nr. of sessions in 20th: \", len(df_all[df_all['legislative_period'] == 20]['protocol_nr'].unique())) # just 90?\n",
    "\n",
    "nr_sessions_19 = len(df_all[df_all['legislative_period'] == 19]['protocol_nr'].unique())\n",
    "nr_sessions_20 = len(df_all[df_all['legislative_period'] == 20]['protocol_nr'].unique())\n",
    "\n",
    "print(\"Nr. of sessions: \", nr_sessions_19 + nr_sessions_20)\n",
    "print(\"Session Nr. check: \", nr_sessions_19 + nr_sessions_20 == len(json_files))"
   ]
  },
  {
   "cell_type": "code",
   "execution_count": 26,
   "id": "f20dc3c8",
   "metadata": {},
   "outputs": [
    {
     "data": {
      "text/html": [
       "<div>\n",
       "<style scoped>\n",
       "    .dataframe tbody tr th:only-of-type {\n",
       "        vertical-align: middle;\n",
       "    }\n",
       "\n",
       "    .dataframe tbody tr th {\n",
       "        vertical-align: top;\n",
       "    }\n",
       "\n",
       "    .dataframe thead th {\n",
       "        text-align: right;\n",
       "    }\n",
       "</style>\n",
       "<table border=\"1\" class=\"dataframe\">\n",
       "  <thead>\n",
       "    <tr style=\"text-align: right;\">\n",
       "      <th></th>\n",
       "      <th>speech_id</th>\n",
       "      <th>speaker_id</th>\n",
       "      <th>speech_text</th>\n",
       "      <th>legislative_period</th>\n",
       "      <th>protocol_nr</th>\n",
       "      <th>agenda_item_number</th>\n",
       "    </tr>\n",
       "  </thead>\n",
       "  <tbody>\n",
       "    <tr>\n",
       "      <th>0</th>\n",
       "      <td>0c6d709a-3af2-4e75-55ac-08da0f22a008</td>\n",
       "      <td>11001074</td>\n",
       "      <td></td>\n",
       "      <td>19</td>\n",
       "      <td>1</td>\n",
       "      <td>3</td>\n",
       "    </tr>\n",
       "    <tr>\n",
       "      <th>1</th>\n",
       "      <td>f7f58b13-85f3-424a-6864-08da102a68d8</td>\n",
       "      <td>11001235</td>\n",
       "      <td>Herr Präsident, ich nehme die Wahl an.\\nDann b...</td>\n",
       "      <td>19</td>\n",
       "      <td>1</td>\n",
       "      <td>6</td>\n",
       "    </tr>\n",
       "    <tr>\n",
       "      <th>2</th>\n",
       "      <td>d0c84378-49ab-47ce-61aa-08da102a68d8</td>\n",
       "      <td>11001938</td>\n",
       "      <td>Das ist der Fall. – Ich sehe keine weiteren Vo...</td>\n",
       "      <td>19</td>\n",
       "      <td>1</td>\n",
       "      <td>3</td>\n",
       "    </tr>\n",
       "    <tr>\n",
       "      <th>3</th>\n",
       "      <td>649d0b8b-6770-47cf-ff0a-08da0f05b641</td>\n",
       "      <td>11001938</td>\n",
       "      <td></td>\n",
       "      <td>19</td>\n",
       "      <td>1</td>\n",
       "      <td>3</td>\n",
       "    </tr>\n",
       "    <tr>\n",
       "      <th>4</th>\n",
       "      <td>5516f789-3f1e-47cc-522d-08da0f22a008</td>\n",
       "      <td>11002190</td>\n",
       "      <td></td>\n",
       "      <td>19</td>\n",
       "      <td>1</td>\n",
       "      <td>3</td>\n",
       "    </tr>\n",
       "    <tr>\n",
       "      <th>...</th>\n",
       "      <td>...</td>\n",
       "      <td>...</td>\n",
       "      <td>...</td>\n",
       "      <td>...</td>\n",
       "      <td>...</td>\n",
       "      <td>...</td>\n",
       "    </tr>\n",
       "    <tr>\n",
       "      <th>33944</th>\n",
       "      <td>49664a2c-adde-4492-bfd5-97d1a99a83f7</td>\n",
       "      <td>11005228</td>\n",
       "      <td>Frau Präsidentin! Meine Damen! Meine Herren! I...</td>\n",
       "      <td>20</td>\n",
       "      <td>92</td>\n",
       "      <td>1</td>\n",
       "    </tr>\n",
       "    <tr>\n",
       "      <th>33945</th>\n",
       "      <td>851ade38-70d2-46c1-8125-8d799c7602db</td>\n",
       "      <td>11005251</td>\n",
       "      <td>Sehr geehrte Frau Präsidentin! Sehr geehrte Ko...</td>\n",
       "      <td>20</td>\n",
       "      <td>92</td>\n",
       "      <td>2</td>\n",
       "    </tr>\n",
       "    <tr>\n",
       "      <th>33946</th>\n",
       "      <td>63673dff-7423-4a3d-a613-05c0ee1b23c1</td>\n",
       "      <td>11005251</td>\n",
       "      <td>Sehr geehrte Frau Präsidentin! Sehr geehrte Ko...</td>\n",
       "      <td>20</td>\n",
       "      <td>92</td>\n",
       "      <td>5</td>\n",
       "    </tr>\n",
       "    <tr>\n",
       "      <th>33947</th>\n",
       "      <td>ef2ca5c9-7242-42b6-b574-b22e40cf0253</td>\n",
       "      <td>11005263</td>\n",
       "      <td>Sehr geehrter Herr Präsident! Liebe Kolleginne...</td>\n",
       "      <td>20</td>\n",
       "      <td>92</td>\n",
       "      <td>3</td>\n",
       "    </tr>\n",
       "    <tr>\n",
       "      <th>33948</th>\n",
       "      <td>d6c7faf3-e82d-4759-b440-4a4919d67314</td>\n",
       "      <td>11005289</td>\n",
       "      <td>Sehr geehrter Herr Präsident! Liebe Kolleginne...</td>\n",
       "      <td>20</td>\n",
       "      <td>92</td>\n",
       "      <td>5</td>\n",
       "    </tr>\n",
       "  </tbody>\n",
       "</table>\n",
       "<p>33949 rows × 6 columns</p>\n",
       "</div>"
      ],
      "text/plain": [
       "                                  speech_id speaker_id  \\\n",
       "0      0c6d709a-3af2-4e75-55ac-08da0f22a008   11001074   \n",
       "1      f7f58b13-85f3-424a-6864-08da102a68d8   11001235   \n",
       "2      d0c84378-49ab-47ce-61aa-08da102a68d8   11001938   \n",
       "3      649d0b8b-6770-47cf-ff0a-08da0f05b641   11001938   \n",
       "4      5516f789-3f1e-47cc-522d-08da0f22a008   11002190   \n",
       "...                                     ...        ...   \n",
       "33944  49664a2c-adde-4492-bfd5-97d1a99a83f7   11005228   \n",
       "33945  851ade38-70d2-46c1-8125-8d799c7602db   11005251   \n",
       "33946  63673dff-7423-4a3d-a613-05c0ee1b23c1   11005251   \n",
       "33947  ef2ca5c9-7242-42b6-b574-b22e40cf0253   11005263   \n",
       "33948  d6c7faf3-e82d-4759-b440-4a4919d67314   11005289   \n",
       "\n",
       "                                             speech_text legislative_period  \\\n",
       "0                                                                        19   \n",
       "1      Herr Präsident, ich nehme die Wahl an.\\nDann b...                 19   \n",
       "2      Das ist der Fall. – Ich sehe keine weiteren Vo...                 19   \n",
       "3                                                                        19   \n",
       "4                                                                        19   \n",
       "...                                                  ...                ...   \n",
       "33944  Frau Präsidentin! Meine Damen! Meine Herren! I...                 20   \n",
       "33945  Sehr geehrte Frau Präsidentin! Sehr geehrte Ko...                 20   \n",
       "33946  Sehr geehrte Frau Präsidentin! Sehr geehrte Ko...                 20   \n",
       "33947  Sehr geehrter Herr Präsident! Liebe Kolleginne...                 20   \n",
       "33948  Sehr geehrter Herr Präsident! Liebe Kolleginne...                 20   \n",
       "\n",
       "      protocol_nr agenda_item_number  \n",
       "0               1                  3  \n",
       "1               1                  6  \n",
       "2               1                  3  \n",
       "3               1                  3  \n",
       "4               1                  3  \n",
       "...           ...                ...  \n",
       "33944          92                  1  \n",
       "33945          92                  2  \n",
       "33946          92                  5  \n",
       "33947          92                  3  \n",
       "33948          92                  5  \n",
       "\n",
       "[33949 rows x 6 columns]"
      ]
     },
     "execution_count": 26,
     "metadata": {},
     "output_type": "execute_result"
    }
   ],
   "source": [
    "# first glance\n",
    "df_all"
   ]
  },
  {
   "cell_type": "code",
   "execution_count": 27,
   "id": "0706b578",
   "metadata": {},
   "outputs": [
    {
     "data": {
      "text/html": [
       "<div>\n",
       "<style scoped>\n",
       "    .dataframe tbody tr th:only-of-type {\n",
       "        vertical-align: middle;\n",
       "    }\n",
       "\n",
       "    .dataframe tbody tr th {\n",
       "        vertical-align: top;\n",
       "    }\n",
       "\n",
       "    .dataframe thead th {\n",
       "        text-align: right;\n",
       "    }\n",
       "</style>\n",
       "<table border=\"1\" class=\"dataframe\">\n",
       "  <thead>\n",
       "    <tr style=\"text-align: right;\">\n",
       "      <th></th>\n",
       "      <th>speech_id</th>\n",
       "      <th>speaker_id</th>\n",
       "      <th>speech_text</th>\n",
       "      <th>legislative_period</th>\n",
       "      <th>protocol_nr</th>\n",
       "      <th>agenda_item_number</th>\n",
       "    </tr>\n",
       "  </thead>\n",
       "  <tbody>\n",
       "  </tbody>\n",
       "</table>\n",
       "</div>"
      ],
      "text/plain": [
       "Empty DataFrame\n",
       "Columns: [speech_id, speaker_id, speech_text, legislative_period, protocol_nr, agenda_item_number]\n",
       "Index: []"
      ]
     },
     "execution_count": 27,
     "metadata": {},
     "output_type": "execute_result"
    }
   ],
   "source": [
    "# NaN's? --> no\n",
    "df_all[df_all.isna().any(axis=1)]"
   ]
  },
  {
   "cell_type": "code",
   "execution_count": 28,
   "id": "c34b1fc0",
   "metadata": {},
   "outputs": [
    {
     "data": {
      "text/plain": [
       "''"
      ]
     },
     "execution_count": 28,
     "metadata": {},
     "output_type": "execute_result"
    }
   ],
   "source": [
    "df_all['speech_text'][0] # but empty texts"
   ]
  },
  {
   "cell_type": "code",
   "execution_count": 29,
   "id": "df76b254",
   "metadata": {},
   "outputs": [
    {
     "name": "stdout",
     "output_type": "stream",
     "text": [
      "Kept 32589 speeches.\n"
     ]
    }
   ],
   "source": [
    "df_all_clean = df_all[df_all['speech_text'] != ''].reset_index()\n",
    "print(\"Kept\", len(df_all_clean), \"speeches.\")"
   ]
  },
  {
   "cell_type": "code",
   "execution_count": 30,
   "id": "6d606285",
   "metadata": {},
   "outputs": [],
   "source": [
    "# save/export\n",
    "\n",
    "df_all_clean.to_csv(\"../data/speeches.csv\", index = False)"
   ]
  },
  {
   "cell_type": "code",
   "execution_count": 31,
   "id": "b51527b9",
   "metadata": {},
   "outputs": [
    {
     "name": "stdout",
     "output_type": "stream",
     "text": [
      "Nr. unqiue speaker:  1034\n"
     ]
    }
   ],
   "source": [
    "# get unique speaker IDs\n",
    "\n",
    "print(\"Nr. unqiue speaker: \", len(df_all_clean[\"speaker_id\"].unique()))\n",
    "\n",
    "unique_speaker = pd.DataFrame((df_all_clean[\"speaker_id\"].unique())).rename(columns={0: 'speaker_id'})\n",
    "unique_speaker.to_csv(\"../data/unique_speaker_ids.csv\", index=False)"
   ]
  },
  {
   "cell_type": "markdown",
   "id": "8c1df50c",
   "metadata": {},
   "source": [
    "***\n",
    "## **Old: Matching test with Ella**\n",
    "***"
   ]
  },
  {
   "cell_type": "code",
   "execution_count": 32,
   "id": "218e459b",
   "metadata": {},
   "outputs": [
    {
     "name": "stdout",
     "output_type": "stream",
     "text": [
      "Jürgen\n",
      "Braun\n",
      "AfD\n",
      "11004680\n",
      "­Filiz\n",
      "Polat\n",
      "Bündnis 90 / Die Grünen\n",
      "None\n",
      "Jan\n",
      "Korte\n",
      "Die Linke\n",
      "11003790\n",
      "\n",
      "\n",
      "None\n",
      "None\n",
      "nichts\n",
      "geschafft!\n",
      "None\n",
      "None\n",
      "Volker\n",
      "Kauder\n",
      "CDU/CSU\n",
      "11001074\n",
      "Marco\n",
      "Buschmann\n",
      "FDP\n",
      "11004023\n",
      "Heike\n",
      "Hänsel\n",
      "Die Linke\n",
      "11003763\n",
      "\n",
      "\n",
      "None\n",
      "None\n",
      "Steffi\n",
      "Lemke\n",
      "Bündnis 90 / Die Grünen\n",
      "11002720\n",
      "W.\n",
      "Birkwald\n",
      "Die Linke\n",
      "None\n",
      "Steffi\n",
      "Lemke\n",
      "Bündnis 90 / Die Grünen\n",
      "11002720\n",
      "Beate\n",
      "Müller-Gemmeke\n",
      "Bündnis 90 / Die Grünen\n",
      "11004117\n",
      "Steffi\n",
      "Lemke\n",
      "Bündnis 90 / Die Grünen\n",
      "11002720\n",
      "W.\n",
      "Birkwald\n",
      "Die Linke\n",
      "None\n",
      "Jessica\n",
      "Tatti\n",
      "Die Linke\n",
      "11004911\n",
      "W.\n",
      "Birkwald\n",
      "Die Linke\n",
      "None\n",
      "Jessica\n",
      "Tatti\n",
      "Die Linke\n",
      "11004911\n",
      "Kerstin\n",
      "Tack\n",
      "SPD\n",
      "11004173\n",
      "Beate\n",
      "Müller-Gemmeke\n",
      "Bündnis 90 / Die Grünen\n",
      "11004117\n",
      "Kerstin\n",
      "Tack\n",
      "SPD\n",
      "11004173\n",
      "Martin\n",
      "Rosemann\n",
      "SPD\n",
      "11004389\n",
      "Peter\n",
      "Weiß\n",
      "CDU/CSU\n",
      "11003255\n",
      "Kai\n",
      "Whittaker\n",
      "CDU/CSU\n",
      "11004443\n",
      "W.\n",
      "Birkwald\n",
      "Die Linke\n",
      "None\n",
      "Kai\n",
      "Whittaker\n",
      "CDU/CSU\n",
      "11004443\n",
      "Johannes\n",
      "Vogel\n",
      "FDP\n",
      "11004179\n",
      "Beate\n",
      "Müller-Gemmeke\n",
      "Bündnis 90 / Die Grünen\n",
      "11004117\n",
      "W.\n",
      "Birkwald\n",
      "Die Linke\n",
      "None\n",
      "Christian\n",
      "Lindner\n",
      "FDP\n",
      "11004097\n",
      "Graf\n",
      "Lambsdorff\n",
      "FDP\n",
      "None\n",
      "W.\n",
      "Birkwald\n",
      "Die Linke\n",
      "None\n",
      "Jessica\n",
      "Tatti\n",
      "Die Linke\n",
      "11004911\n",
      "Johannes\n",
      "Vogel\n",
      "FDP\n",
      "11004179\n",
      "Kai\n",
      "Whittaker\n",
      "CDU/CSU\n",
      "11004443\n",
      "Martin\n",
      "Rosemann\n",
      "SPD\n",
      "11004389\n",
      "Matthias\n",
      "Zimmer\n",
      "CDU/CSU\n",
      "11004192\n",
      "Martin\n",
      "Rosemann\n",
      "SPD\n",
      "11004389\n",
      "W.\n",
      "Birkwald\n",
      "Die Linke\n",
      "None\n",
      "Matthias\n",
      "Zimmer\n",
      "CDU/CSU\n",
      "11004192\n",
      "Beate\n",
      "Müller-Gemmeke\n",
      "Bündnis 90 / Die Grünen\n",
      "11004117\n",
      "W.\n",
      "Birkwald\n",
      "Die Linke\n",
      "None\n",
      "Beate\n",
      "Müller-­Gemmeke\n",
      "Bündnis 90 / Die Grünen\n",
      "None\n",
      "Kerstin\n",
      "Tack\n",
      "SPD\n",
      "11004173\n",
      "Beate\n",
      "Müller-Gemmeke\n",
      "Bündnis 90 / Die Grünen\n",
      "11004117\n",
      "Karsten\n",
      "Hilse\n",
      "AfD\n",
      "11004752\n",
      "Johannes\n",
      "Vogel\n",
      "FDP\n",
      "11004179\n",
      "Beate\n",
      "Müller-­Gemmeke\n",
      "Bündnis 90 / Die Grünen\n",
      "None\n",
      "Johannes\n",
      "Vogel\n",
      "FDP\n",
      "11004179\n",
      "Johannes\n",
      "Vogel\n",
      "FDP\n",
      "11004179\n",
      "W.\n",
      "Birkwald\n",
      "Die Linke\n",
      "None\n",
      "Leif-Erik\n",
      "Holm\n",
      "AfD\n",
      "11004761\n",
      "Leif-Erik\n",
      "Holm\n",
      "AfD\n",
      "11004761\n",
      "Leif-Erik\n",
      "Holm\n",
      "AfD\n",
      "11004761\n",
      "W.\n",
      "Birkwald\n",
      "Die Linke\n",
      "None\n",
      "\n",
      "\n",
      "None\n",
      "None\n",
      "\n",
      "\n",
      "None\n",
      "None\n",
      "Matthias\n",
      "Zimmer\n",
      "CDU/CSU\n",
      "11004192\n",
      "Kai\n",
      "Whittaker\n",
      "CDU/CSU\n",
      "11004443\n",
      "Johannes\n",
      "Vogel\n",
      "FDP\n",
      "11004179\n",
      "Wolfgang\n",
      "Strengmann-Kuhn\n",
      "Bündnis 90 / Die Grünen\n",
      "11003888\n",
      "Kai\n",
      "Whittaker\n",
      "CDU/CSU\n",
      "11004443\n",
      "W.\n",
      "Birkwald\n",
      "Die Linke\n",
      "None\n",
      "Beate\n",
      "Müller-Gemmeke\n",
      "Bündnis 90 / Die Grünen\n",
      "11004117\n",
      "Kai\n",
      "Whittaker\n",
      "CDU/CSU\n",
      "11004443\n",
      "Matthias\n",
      "Zimmer\n",
      "CDU/CSU\n",
      "11004192\n",
      "Matthias\n",
      "Zimmer\n",
      "CDU/CSU\n",
      "11004192\n",
      "Matthias\n",
      "Zimmer\n",
      "CDU/CSU\n",
      "11004192\n",
      "\n",
      "\n",
      "None\n",
      "None\n",
      "W.\n",
      "Birkwald\n",
      "Die Linke\n",
      "None\n",
      "Kai\n",
      "Whittaker\n",
      "CDU/CSU\n",
      "11004443\n",
      "Lisa\n",
      "Paus\n",
      "Bündnis 90 / Die Grünen\n",
      "11004127\n",
      "Matthias\n",
      "Zimmer\n",
      "CDU/CSU\n",
      "11004192\n",
      "Matthias\n",
      "Zimmer\n",
      "CDU/CSU\n",
      "11004192\n",
      "Matthias\n",
      "Zimmer\n",
      "CDU/CSU\n",
      "11004192\n"
     ]
    }
   ],
   "source": [
    "# quite some work, but we could write a function to match speaker ID to names from the shouts\n",
    "# --> no guarantee to match all \n",
    "\n",
    "# get the speakers name using the Bundestag API --> GetSpeakerByID Endpoint\n",
    "\n",
    "for i in range(len(data['NLPSpeeches'])):\n",
    "\n",
    "    #print(data['NLPSpeeches'][i].keys())\n",
    "\n",
    "    for j in range(len(data['NLPSpeeches'][i][\"Segments\"])):\n",
    "        #print(data['NLPSpeeches'][i][\"Segments\"][j][\"Shouts\"])\n",
    "\n",
    "        if len(data['NLPSpeeches'][i][\"Segments\"][j][\"Shouts\"]) > 0:\n",
    "            \n",
    "            for k in range(len(data['NLPSpeeches'][i][\"Segments\"][j][\"Shouts\"])):\n",
    "\n",
    "                if data['NLPSpeeches'][i][\"Segments\"][j][\"Shouts\"][k][\"FirstName\"] != None:\n",
    "\n",
    "                    print(data['NLPSpeeches'][i][\"Segments\"][j][\"Shouts\"][k][\"FirstName\"])\n",
    "                    print(data['NLPSpeeches'][i][\"Segments\"][j][\"Shouts\"][k][\"LastName\"])\n",
    "                    print(data['NLPSpeeches'][i][\"Segments\"][j][\"Shouts\"][k][\"Fraction\"])\n",
    "                    print(data['NLPSpeeches'][i][\"Segments\"][j][\"Shouts\"][k][\"SpeakerId\"])\n",
    "            #print()\n",
    "\n",
    "        #print(data['NLPSpeeches'][i][j]['Shouts'][\"LastName\"])\n",
    "               \n",
    "               \n",
    "               \n",
    "               \n",
    "               #[28]['Segments']#['Shouts']"
   ]
  }
 ],
 "metadata": {
  "kernelspec": {
   "display_name": "base",
   "language": "python",
   "name": "python3"
  },
  "language_info": {
   "codemirror_mode": {
    "name": "ipython",
    "version": 3
   },
   "file_extension": ".py",
   "mimetype": "text/x-python",
   "name": "python",
   "nbconvert_exporter": "python",
   "pygments_lexer": "ipython3",
   "version": "3.12.4"
  }
 },
 "nbformat": 4,
 "nbformat_minor": 5
}
