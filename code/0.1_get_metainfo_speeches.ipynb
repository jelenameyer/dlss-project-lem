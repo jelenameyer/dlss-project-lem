{
 "cells": [
  {
   "cell_type": "code",
   "execution_count": 1,
   "id": "cef2389a",
   "metadata": {},
   "outputs": [],
   "source": [
    "import pandas as pd\n",
    "import json\n",
    "import glob\n",
    "import os"
   ]
  },
  {
   "cell_type": "code",
   "execution_count": 2,
   "id": "305f68e4",
   "metadata": {},
   "outputs": [],
   "source": [
    "# settings\n",
    "\n",
    "folder_path = \"../data/19th_20th_speeches_all\"\n",
    "test_file = \"LP_20_Sitzung_105.json\""
   ]
  },
  {
   "cell_type": "markdown",
   "id": "1e657a81",
   "metadata": {},
   "source": [
    "#### **Get files and file content**"
   ]
  },
  {
   "cell_type": "code",
   "execution_count": 3,
   "id": "d07327be",
   "metadata": {},
   "outputs": [
    {
     "name": "stdout",
     "output_type": "stream",
     "text": [
      "Nr. of session protocols: 438\n"
     ]
    },
    {
     "data": {
      "text/plain": [
       "['../data/19th_20th_speeches_all\\\\LP_19_Sitzung_1.json',\n",
       " '../data/19th_20th_speeches_all\\\\LP_19_Sitzung_10.json',\n",
       " '../data/19th_20th_speeches_all\\\\LP_19_Sitzung_100.json',\n",
       " '../data/19th_20th_speeches_all\\\\LP_19_Sitzung_101.json',\n",
       " '../data/19th_20th_speeches_all\\\\LP_19_Sitzung_102.json']"
      ]
     },
     "execution_count": 3,
     "metadata": {},
     "output_type": "execute_result"
    }
   ],
   "source": [
    "# get a list of all filenames\n",
    "json_files = glob.glob(os.path.join(folder_path, \"*.json\"))\n",
    "\n",
    "print(\"Nr. of session protocols:\", len(json_files))\n",
    "json_files[:5]"
   ]
  },
  {
   "cell_type": "code",
   "execution_count": 4,
   "id": "e38ebcdb",
   "metadata": {},
   "outputs": [
    {
     "name": "stdout",
     "output_type": "stream",
     "text": [
      "dict_keys(['Protocol', 'AgendaItems', 'NLPSpeeches', 'SpeechCategories'])\n"
     ]
    }
   ],
   "source": [
    "# get a test file (later in loop over all json files)\n",
    "with open(f\"{folder_path}/{test_file}\", 'r') as file:\n",
    "    data = json.load(file)\n",
    "\n",
    "\n",
    "# print the data\n",
    "print(data.keys())"
   ]
  },
  {
   "cell_type": "markdown",
   "id": "ffef0e91",
   "metadata": {},
   "source": [
    "***\n",
    "## **Get Agenda Item and Protocol Info**\n",
    "***"
   ]
  },
  {
   "cell_type": "markdown",
   "id": "a54fc9c5",
   "metadata": {},
   "source": [
    "### **Protocol data**"
   ]
  },
  {
   "cell_type": "code",
   "execution_count": 6,
   "id": "f9dec12a",
   "metadata": {},
   "outputs": [
    {
     "data": {
      "text/plain": [
       "{'Date': '2023-05-24T00:00:00',\n",
       " 'LegislaturePeriod': 20,\n",
       " 'Number': 105,\n",
       " 'Title': '105.\\xa0Sitzung',\n",
       " 'AgendaItemsCount': 8,\n",
       " 'MongoId': '00000000-0000-0000-0000-000000000000',\n",
       " 'Id': '211ba62b-b557-4b0d-e458-08dbb6b04007'}"
      ]
     },
     "execution_count": 6,
     "metadata": {},
     "output_type": "execute_result"
    }
   ],
   "source": [
    "data['Protocol']"
   ]
  },
  {
   "cell_type": "code",
   "execution_count": 7,
   "id": "1bc42004",
   "metadata": {},
   "outputs": [],
   "source": [
    "rows = []\n",
    "\n",
    "for session_file in json_files:\n",
    "    with open(session_file, 'r') as file:\n",
    "        data_temp = json.load(file)\n",
    "        rows.append(data_temp['Protocol'])\n",
    "\n",
    "# build final DataFrame in one step\n",
    "df_protocol_meta = pd.DataFrame(rows)[['Date', 'LegislaturePeriod', 'Number', 'Title', 'AgendaItemsCount', 'MongoId', 'Id']]"
   ]
  },
  {
   "cell_type": "code",
   "execution_count": 8,
   "id": "9ed8c033",
   "metadata": {},
   "outputs": [],
   "source": [
    "df_protocol_meta.rename(columns={\n",
    "    'Date': 'ProtocolDate',\n",
    "    'Title': 'SessionTitle'\n",
    "}, inplace=True)"
   ]
  },
  {
   "cell_type": "code",
   "execution_count": 9,
   "id": "8c851b86",
   "metadata": {},
   "outputs": [],
   "source": [
    "df_protocol_meta['DateOnly'] = pd.to_datetime(df_protocol_meta['ProtocolDate']).dt.date"
   ]
  },
  {
   "cell_type": "code",
   "execution_count": 10,
   "id": "50c8ff7e",
   "metadata": {},
   "outputs": [
    {
     "data": {
      "application/vnd.microsoft.datawrangler.viewer.v0+json": {
       "columns": [
        {
         "name": "index",
         "rawType": "int64",
         "type": "integer"
        },
        {
         "name": "ProtocolDate",
         "rawType": "object",
         "type": "string"
        },
        {
         "name": "LegislaturePeriod",
         "rawType": "int64",
         "type": "integer"
        },
        {
         "name": "Number",
         "rawType": "int64",
         "type": "integer"
        },
        {
         "name": "SessionTitle",
         "rawType": "object",
         "type": "string"
        },
        {
         "name": "AgendaItemsCount",
         "rawType": "int64",
         "type": "integer"
        },
        {
         "name": "MongoId",
         "rawType": "object",
         "type": "string"
        },
        {
         "name": "Id",
         "rawType": "object",
         "type": "string"
        },
        {
         "name": "DateOnly",
         "rawType": "object",
         "type": "unknown"
        }
       ],
       "ref": "70abd3c7-8f94-4e45-b860-954c7afd7065",
       "rows": [
        [
         "0",
         "2017-10-24T00:00:00",
         "19",
         "1",
         "1. Sitzung",
         "6",
         "6205403f03957565211832cb",
         "76c3b183-81d7-4cd0-ee48-08da0c32b602",
         "2017-10-24"
        ],
        [
         "1",
         "2018-01-31T00:00:00",
         "19",
         "10",
         "10. Sitzung",
         "3",
         "6205403f03957565211832c2",
         "9830dca7-f0e1-4906-ee3f-08da0c32b602",
         "2018-01-31"
        ],
        [
         "2",
         "2019-05-15T00:00:00",
         "19",
         "100",
         "100. Sitzung",
         "4",
         "6205403f0395756521183268",
         "7d5aebcf-9b16-47a6-ede5-08da0c32b602",
         "2019-05-15"
        ],
        [
         "3",
         "2019-05-16T00:00:00",
         "19",
         "101",
         "101. Sitzung",
         "26",
         "6205403f0395756521183267",
         "f98bb208-7f24-4a3f-ede4-08da0c32b602",
         "2019-05-16"
        ],
        [
         "4",
         "2019-05-17T00:00:00",
         "19",
         "102",
         "102. Sitzung",
         "11",
         "6205403f0395756521183266",
         "ee086175-6c20-44b0-ede3-08da0c32b602",
         "2019-05-17"
        ],
        [
         "5",
         "2019-06-05T00:00:00",
         "19",
         "103",
         "103. Sitzung",
         "3",
         "6205403f0395756521183265",
         "2d248c5a-a091-4699-ede2-08da0c32b602",
         "2019-06-05"
        ],
        [
         "6",
         "2019-06-06T00:00:00",
         "19",
         "104",
         "104. Sitzung",
         "27",
         "6205403f0395756521183264",
         "da035de0-f04a-4954-ede1-08da0c32b602",
         "2019-06-06"
        ],
        [
         "7",
         "2019-06-07T00:00:00",
         "19",
         "105",
         "105. Sitzung",
         "10",
         "6205403f0395756521183263",
         "98113a3f-d43f-4eae-ede0-08da0c32b602",
         "2019-06-07"
        ],
        [
         "8",
         "2019-06-26T00:00:00",
         "19",
         "106",
         "106. Sitzung",
         "4",
         "6205403f0395756521183262",
         "504e4842-7eb3-4eb9-eddf-08da0c32b602",
         "2019-06-26"
        ],
        [
         "9",
         "2019-06-27T00:00:00",
         "19",
         "107",
         "107. Sitzung",
         "33",
         "6205403f0395756521183261",
         "0a510593-6c57-4afc-edde-08da0c32b602",
         "2019-06-27"
        ],
        [
         "10",
         "2019-06-28T00:00:00",
         "19",
         "108",
         "108. Sitzung",
         "9",
         "6205403f0395756521183260",
         "d50b2ee5-626b-49cc-eddd-08da0c32b602",
         "2019-06-28"
        ],
        [
         "11",
         "2019-07-24T00:00:00",
         "19",
         "109",
         "109. Sitzung",
         "2",
         "6205403f039575652118325f",
         "386706ed-8c9c-4f2b-eddc-08da0c32b602",
         "2019-07-24"
        ],
        [
         "12",
         "2018-02-01T00:00:00",
         "19",
         "11",
         "11. Sitzung",
         "13",
         "6205403f03957565211832c1",
         "972b7f86-6ea8-4330-ee3e-08da0c32b602",
         "2018-02-01"
        ],
        [
         "13",
         "2019-09-10T00:00:00",
         "19",
         "110",
         "110. Sitzung",
         "4",
         "6205403f039575652118325e",
         "4352c5bd-81b4-43b8-eddb-08da0c32b602",
         "2019-09-10"
        ],
        [
         "14",
         "2019-09-11T00:00:00",
         "19",
         "111",
         "111. Sitzung",
         "4",
         "6205403f039575652118325d",
         "9f376bab-4854-451d-edda-08da0c32b602",
         "2019-09-11"
        ],
        [
         "15",
         "2019-09-12T00:00:00",
         "19",
         "112",
         "112. Sitzung",
         "7",
         "6205403f039575652118325c",
         "c2101fa7-e265-4450-edd9-08da0c32b602",
         "2019-09-12"
        ],
        [
         "16",
         "2019-09-13T00:00:00",
         "19",
         "113",
         "113. Sitzung",
         "3",
         "6205403f039575652118325b",
         "b0a48cb5-b31b-4498-edd8-08da0c32b602",
         "2019-09-13"
        ],
        [
         "17",
         "2019-09-25T00:00:00",
         "19",
         "114",
         "114. Sitzung",
         "3",
         "6205403f039575652118325a",
         "604225d8-5436-4f16-edd7-08da0c32b602",
         "2019-09-25"
        ],
        [
         "18",
         "2019-09-26T00:00:00",
         "19",
         "115",
         "115. Sitzung",
         "27",
         "6205403f0395756521183258",
         "52798886-8996-43cb-edd5-08da0c32b602",
         "2019-09-26"
        ],
        [
         "19",
         "2019-09-27T00:00:00",
         "19",
         "116",
         "116. Sitzung",
         "9",
         "6205403f0395756521183259",
         "253bd5d3-deeb-4b56-edd6-08da0c32b602",
         "2019-09-27"
        ],
        [
         "20",
         "2019-10-16T00:00:00",
         "19",
         "117",
         "117. Sitzung",
         "4",
         "6205403f0395756521183257",
         "833cd708-eec0-4469-edd4-08da0c32b602",
         "2019-10-16"
        ],
        [
         "21",
         "2019-10-17T00:00:00",
         "19",
         "118",
         "118. Sitzung",
         "26",
         "6205403f0395756521183256",
         "e2f3e708-c8e3-40a3-edd3-08da0c32b602",
         "2019-10-17"
        ],
        [
         "22",
         "2019-10-18T00:00:00",
         "19",
         "119",
         "119. Sitzung",
         "8",
         "6205403f0395756521183255",
         "42495e92-1abb-480f-edd2-08da0c32b602",
         "2019-10-18"
        ],
        [
         "23",
         "2018-02-02T00:00:00",
         "19",
         "12",
         "12. Sitzung",
         "6",
         "6205403f03957565211832c0",
         "b92b2bb8-8e79-41ad-ee3d-08da0c32b602",
         "2018-02-02"
        ],
        [
         "24",
         "2019-10-23T00:00:00",
         "19",
         "120",
         "120. Sitzung",
         "3",
         "6205403f0395756521183254",
         "cf1431da-0d23-4fa1-edd1-08da0c32b602",
         "2019-10-23"
        ],
        [
         "25",
         "2019-10-24T00:00:00",
         "19",
         "121",
         "121. Sitzung",
         "23",
         "6205403f0395756521183253",
         "9f817d0c-897e-4cff-edd0-08da0c32b602",
         "2019-10-24"
        ],
        [
         "26",
         "2019-10-25T00:00:00",
         "19",
         "122",
         "122. Sitzung",
         "9",
         "6205403f0395756521183252",
         "95495251-013c-4093-edcf-08da0c32b602",
         "2019-10-25"
        ],
        [
         "27",
         "2019-11-06T00:00:00",
         "19",
         "123",
         "123. Sitzung",
         "3",
         "6205403f0395756521183251",
         "08d4d384-0ffd-4930-edce-08da0c32b602",
         "2019-11-06"
        ],
        [
         "28",
         "2019-11-07T00:00:00",
         "19",
         "124",
         "124. Sitzung",
         "27",
         "6205403f039575652118324f",
         "d16896f0-3bba-49ad-edcc-08da0c32b602",
         "2019-11-07"
        ],
        [
         "29",
         "2019-11-08T00:00:00",
         "19",
         "125",
         "125. Sitzung",
         "10",
         "6205403f0395756521183250",
         "48266764-1455-4806-edcd-08da0c32b602",
         "2019-11-08"
        ],
        [
         "30",
         "2019-11-13T00:00:00",
         "19",
         "126",
         "126. Sitzung",
         "11",
         "6205403f039575652118324e",
         "3b06275d-6834-4598-edcb-08da0c32b602",
         "2019-11-13"
        ],
        [
         "31",
         "2019-11-14T00:00:00",
         "19",
         "127",
         "127. Sitzung",
         "22",
         "6205403f039575652118324d",
         "9f460880-5d9b-480a-edca-08da0c32b602",
         "2019-11-14"
        ],
        [
         "32",
         "2019-11-15T00:00:00",
         "19",
         "128",
         "128. Sitzung",
         "9",
         "6205403f039575652118324c",
         "497a8c8c-5d8f-4754-edc9-08da0c32b602",
         "2019-11-15"
        ],
        [
         "33",
         "2019-11-26T00:00:00",
         "19",
         "129",
         "129. Sitzung",
         "9",
         "6205403f039575652118324b",
         "d6d0351b-4ffa-43c9-edc8-08da0c32b602",
         "2019-11-26"
        ],
        [
         "34",
         "2018-02-21T00:00:00",
         "19",
         "13",
         "13. Sitzung",
         "3",
         "6205403f03957565211832bf",
         "3e2a9932-845f-4475-ee3c-08da0c32b602",
         "2018-02-21"
        ],
        [
         "35",
         "2019-11-27T00:00:00",
         "19",
         "130",
         "130. Sitzung",
         "4",
         "6205403f039575652118324a",
         "ffd8f0a2-af0a-44f3-edc7-08da0c32b602",
         "2019-11-27"
        ],
        [
         "36",
         "2019-11-28T00:00:00",
         "19",
         "131",
         "131. Sitzung",
         "9",
         "6205403f0395756521183249",
         "b96ff617-f857-49ab-edc6-08da0c32b602",
         "2019-11-28"
        ],
        [
         "37",
         "2019-11-29T00:00:00",
         "19",
         "132",
         "132. Sitzung",
         "5",
         "6205403f0395756521183248",
         "cab266f5-2424-46f2-edc5-08da0c32b602",
         "2019-11-29"
        ],
        [
         "38",
         "2019-12-11T00:00:00",
         "19",
         "133",
         "133. Sitzung",
         "9",
         "6205403f0395756521183247",
         "288de26a-9baf-45f6-edc4-08da0c32b602",
         "2019-12-11"
        ],
        [
         "39",
         "2019-12-12T00:00:00",
         "19",
         "134",
         "134. Sitzung",
         "17",
         "6205403f0395756521183246",
         "3f45a31f-1416-4642-edc3-08da0c32b602",
         "2019-12-12"
        ],
        [
         "40",
         "2019-12-13T00:00:00",
         "19",
         "135",
         "135. Sitzung",
         "9",
         "6205403f0395756521183245",
         "544f8ea2-a0fd-405d-edc2-08da0c32b602",
         "2019-12-13"
        ],
        [
         "41",
         "2019-12-18T00:00:00",
         "19",
         "136",
         "136. Sitzung",
         "8",
         "6205403f0395756521183243",
         "537c1162-8abf-4ecc-edc0-08da0c32b602",
         "2019-12-18"
        ],
        [
         "42",
         "2019-12-19T00:00:00",
         "19",
         "137",
         "137. Sitzung",
         "18",
         "6205403f0395756521183244",
         "f72fe134-056b-4b68-edc1-08da0c32b602",
         "2019-12-19"
        ],
        [
         "43",
         "2019-12-20T00:00:00",
         "19",
         "138",
         "138. Sitzung",
         "7",
         "6205403f0395756521183242",
         "f90b6ee6-26ca-497a-edbf-08da0c32b602",
         "2019-12-20"
        ],
        [
         "44",
         "2020-01-15T00:00:00",
         "19",
         "139",
         "139. Sitzung",
         "8",
         "6205403f0395756521183241",
         "cbb1f906-5f6c-4209-edbe-08da0c32b602",
         "2020-01-15"
        ],
        [
         "45",
         "2018-02-22T00:00:00",
         "19",
         "14",
         "14. Sitzung",
         "16",
         "6205403f03957565211832be",
         "4393e74e-4bb0-403c-ee3b-08da0c32b602",
         "2018-02-22"
        ],
        [
         "46",
         "2020-01-16T00:00:00",
         "19",
         "140",
         "140. Sitzung",
         "15",
         "6205403f0395756521183240",
         "9b361e02-fcff-460e-edbd-08da0c32b602",
         "2020-01-16"
        ],
        [
         "47",
         "2020-01-17T00:00:00",
         "19",
         "141",
         "141. Sitzung",
         "8",
         "6205403f039575652118323f",
         "dc12812b-08cd-4e05-edbc-08da0c32b602",
         "2020-01-17"
        ],
        [
         "48",
         "2020-01-29T00:00:00",
         "19",
         "142",
         "142. Sitzung",
         "8",
         "6205403f039575652118323d",
         "ede86252-69ce-428a-edba-08da0c32b602",
         "2020-01-29"
        ],
        [
         "49",
         "2020-01-30T00:00:00",
         "19",
         "143",
         "143. Sitzung",
         "13",
         "6205403f039575652118323e",
         "f2a1090d-9471-4e82-edbb-08da0c32b602",
         "2020-01-30"
        ]
       ],
       "shape": {
        "columns": 8,
        "rows": 438
       }
      },
      "text/html": [
       "<div>\n",
       "<style scoped>\n",
       "    .dataframe tbody tr th:only-of-type {\n",
       "        vertical-align: middle;\n",
       "    }\n",
       "\n",
       "    .dataframe tbody tr th {\n",
       "        vertical-align: top;\n",
       "    }\n",
       "\n",
       "    .dataframe thead th {\n",
       "        text-align: right;\n",
       "    }\n",
       "</style>\n",
       "<table border=\"1\" class=\"dataframe\">\n",
       "  <thead>\n",
       "    <tr style=\"text-align: right;\">\n",
       "      <th></th>\n",
       "      <th>ProtocolDate</th>\n",
       "      <th>LegislaturePeriod</th>\n",
       "      <th>Number</th>\n",
       "      <th>SessionTitle</th>\n",
       "      <th>AgendaItemsCount</th>\n",
       "      <th>MongoId</th>\n",
       "      <th>Id</th>\n",
       "      <th>DateOnly</th>\n",
       "    </tr>\n",
       "  </thead>\n",
       "  <tbody>\n",
       "    <tr>\n",
       "      <th>0</th>\n",
       "      <td>2017-10-24T00:00:00</td>\n",
       "      <td>19</td>\n",
       "      <td>1</td>\n",
       "      <td>1. Sitzung</td>\n",
       "      <td>6</td>\n",
       "      <td>6205403f03957565211832cb</td>\n",
       "      <td>76c3b183-81d7-4cd0-ee48-08da0c32b602</td>\n",
       "      <td>2017-10-24</td>\n",
       "    </tr>\n",
       "    <tr>\n",
       "      <th>1</th>\n",
       "      <td>2018-01-31T00:00:00</td>\n",
       "      <td>19</td>\n",
       "      <td>10</td>\n",
       "      <td>10. Sitzung</td>\n",
       "      <td>3</td>\n",
       "      <td>6205403f03957565211832c2</td>\n",
       "      <td>9830dca7-f0e1-4906-ee3f-08da0c32b602</td>\n",
       "      <td>2018-01-31</td>\n",
       "    </tr>\n",
       "    <tr>\n",
       "      <th>2</th>\n",
       "      <td>2019-05-15T00:00:00</td>\n",
       "      <td>19</td>\n",
       "      <td>100</td>\n",
       "      <td>100. Sitzung</td>\n",
       "      <td>4</td>\n",
       "      <td>6205403f0395756521183268</td>\n",
       "      <td>7d5aebcf-9b16-47a6-ede5-08da0c32b602</td>\n",
       "      <td>2019-05-15</td>\n",
       "    </tr>\n",
       "    <tr>\n",
       "      <th>3</th>\n",
       "      <td>2019-05-16T00:00:00</td>\n",
       "      <td>19</td>\n",
       "      <td>101</td>\n",
       "      <td>101. Sitzung</td>\n",
       "      <td>26</td>\n",
       "      <td>6205403f0395756521183267</td>\n",
       "      <td>f98bb208-7f24-4a3f-ede4-08da0c32b602</td>\n",
       "      <td>2019-05-16</td>\n",
       "    </tr>\n",
       "    <tr>\n",
       "      <th>4</th>\n",
       "      <td>2019-05-17T00:00:00</td>\n",
       "      <td>19</td>\n",
       "      <td>102</td>\n",
       "      <td>102. Sitzung</td>\n",
       "      <td>11</td>\n",
       "      <td>6205403f0395756521183266</td>\n",
       "      <td>ee086175-6c20-44b0-ede3-08da0c32b602</td>\n",
       "      <td>2019-05-17</td>\n",
       "    </tr>\n",
       "    <tr>\n",
       "      <th>...</th>\n",
       "      <td>...</td>\n",
       "      <td>...</td>\n",
       "      <td>...</td>\n",
       "      <td>...</td>\n",
       "      <td>...</td>\n",
       "      <td>...</td>\n",
       "      <td>...</td>\n",
       "      <td>...</td>\n",
       "    </tr>\n",
       "    <tr>\n",
       "      <th>433</th>\n",
       "      <td>2023-03-31T00:00:00</td>\n",
       "      <td>20</td>\n",
       "      <td>95</td>\n",
       "      <td>95. Sitzung</td>\n",
       "      <td>7</td>\n",
       "      <td>00000000-0000-0000-0000-000000000000</td>\n",
       "      <td>218f1cf4-f452-45ff-5c0a-08db39b0f643</td>\n",
       "      <td>2023-03-31</td>\n",
       "    </tr>\n",
       "    <tr>\n",
       "      <th>434</th>\n",
       "      <td>2023-04-19T00:00:00</td>\n",
       "      <td>20</td>\n",
       "      <td>96</td>\n",
       "      <td>96. Sitzung</td>\n",
       "      <td>7</td>\n",
       "      <td>00000000-0000-0000-0000-000000000000</td>\n",
       "      <td>797bcf60-4df4-462a-9463-08db4195fa79</td>\n",
       "      <td>2023-04-19</td>\n",
       "    </tr>\n",
       "    <tr>\n",
       "      <th>435</th>\n",
       "      <td>2023-04-20T00:00:00</td>\n",
       "      <td>20</td>\n",
       "      <td>97</td>\n",
       "      <td>97. Sitzung</td>\n",
       "      <td>14</td>\n",
       "      <td>00000000-0000-0000-0000-000000000000</td>\n",
       "      <td>0f039fcd-49f1-4c25-159d-08db424421b3</td>\n",
       "      <td>2023-04-20</td>\n",
       "    </tr>\n",
       "    <tr>\n",
       "      <th>436</th>\n",
       "      <td>2023-04-21T00:00:00</td>\n",
       "      <td>20</td>\n",
       "      <td>98</td>\n",
       "      <td>98. Sitzung</td>\n",
       "      <td>6</td>\n",
       "      <td>00000000-0000-0000-0000-000000000000</td>\n",
       "      <td>281683d2-1125-46ff-d5ef-08db44e7eb96</td>\n",
       "      <td>2023-04-21</td>\n",
       "    </tr>\n",
       "    <tr>\n",
       "      <th>437</th>\n",
       "      <td>2023-04-26T00:00:00</td>\n",
       "      <td>20</td>\n",
       "      <td>99</td>\n",
       "      <td>99. Sitzung</td>\n",
       "      <td>7</td>\n",
       "      <td>00000000-0000-0000-0000-000000000000</td>\n",
       "      <td>7b867a5b-45a6-438f-ae05-08db4746451b</td>\n",
       "      <td>2023-04-26</td>\n",
       "    </tr>\n",
       "  </tbody>\n",
       "</table>\n",
       "<p>438 rows × 8 columns</p>\n",
       "</div>"
      ],
      "text/plain": [
       "            ProtocolDate  LegislaturePeriod  Number  SessionTitle  \\\n",
       "0    2017-10-24T00:00:00                 19       1    1. Sitzung   \n",
       "1    2018-01-31T00:00:00                 19      10   10. Sitzung   \n",
       "2    2019-05-15T00:00:00                 19     100  100. Sitzung   \n",
       "3    2019-05-16T00:00:00                 19     101  101. Sitzung   \n",
       "4    2019-05-17T00:00:00                 19     102  102. Sitzung   \n",
       "..                   ...                ...     ...           ...   \n",
       "433  2023-03-31T00:00:00                 20      95   95. Sitzung   \n",
       "434  2023-04-19T00:00:00                 20      96   96. Sitzung   \n",
       "435  2023-04-20T00:00:00                 20      97   97. Sitzung   \n",
       "436  2023-04-21T00:00:00                 20      98   98. Sitzung   \n",
       "437  2023-04-26T00:00:00                 20      99   99. Sitzung   \n",
       "\n",
       "     AgendaItemsCount                               MongoId  \\\n",
       "0                   6              6205403f03957565211832cb   \n",
       "1                   3              6205403f03957565211832c2   \n",
       "2                   4              6205403f0395756521183268   \n",
       "3                  26              6205403f0395756521183267   \n",
       "4                  11              6205403f0395756521183266   \n",
       "..                ...                                   ...   \n",
       "433                 7  00000000-0000-0000-0000-000000000000   \n",
       "434                 7  00000000-0000-0000-0000-000000000000   \n",
       "435                14  00000000-0000-0000-0000-000000000000   \n",
       "436                 6  00000000-0000-0000-0000-000000000000   \n",
       "437                 7  00000000-0000-0000-0000-000000000000   \n",
       "\n",
       "                                       Id    DateOnly  \n",
       "0    76c3b183-81d7-4cd0-ee48-08da0c32b602  2017-10-24  \n",
       "1    9830dca7-f0e1-4906-ee3f-08da0c32b602  2018-01-31  \n",
       "2    7d5aebcf-9b16-47a6-ede5-08da0c32b602  2019-05-15  \n",
       "3    f98bb208-7f24-4a3f-ede4-08da0c32b602  2019-05-16  \n",
       "4    ee086175-6c20-44b0-ede3-08da0c32b602  2019-05-17  \n",
       "..                                    ...         ...  \n",
       "433  218f1cf4-f452-45ff-5c0a-08db39b0f643  2023-03-31  \n",
       "434  797bcf60-4df4-462a-9463-08db4195fa79  2023-04-19  \n",
       "435  0f039fcd-49f1-4c25-159d-08db424421b3  2023-04-20  \n",
       "436  281683d2-1125-46ff-d5ef-08db44e7eb96  2023-04-21  \n",
       "437  7b867a5b-45a6-438f-ae05-08db4746451b  2023-04-26  \n",
       "\n",
       "[438 rows x 8 columns]"
      ]
     },
     "execution_count": 10,
     "metadata": {},
     "output_type": "execute_result"
    }
   ],
   "source": [
    "df_protocol_meta"
   ]
  },
  {
   "cell_type": "code",
   "execution_count": 11,
   "id": "6cfafa77",
   "metadata": {},
   "outputs": [
    {
     "name": "stdout",
     "output_type": "stream",
     "text": [
      "Nr. of sessions in 19th:  239\n",
      "Nr. of sessions in 20th:  199\n"
     ]
    }
   ],
   "source": [
    "# sanity checks\n",
    "\n",
    "print(\"Nr. of sessions in 19th: \", len(df_protocol_meta[df_protocol_meta['LegislaturePeriod'] == 19])) # fine\n",
    "print(\"Nr. of sessions in 20th: \", len(df_protocol_meta[df_protocol_meta['LegislaturePeriod'] == 20])) # fine\n"
   ]
  },
  {
   "cell_type": "markdown",
   "id": "12b6b2a1",
   "metadata": {},
   "source": [
    "### **Agenda Item Meta Data**"
   ]
  },
  {
   "cell_type": "code",
   "execution_count": 12,
   "id": "d7bba56c",
   "metadata": {},
   "outputs": [
    {
     "data": {
      "text/plain": [
       "{'Title': 'Pflegeunterstützungs- und -entlastungsgesetz',\n",
       " 'Description': 'Erste Beratung des von der Bundesregierung eingebrachten Entwurfs eines Gesetzes zur Unterstützung und Entlastung in der Pflege (Pflegeunterstützungs- und -entlastungsgesetz – PUEG)<br>Drucksache <a target=\"_blank\" href=\"https://dserver.bundestag.de/btd/20/068/2006869.pdf\" class=\"dipLink\" title=\"Die PDF-Datei Drucksache 20/6869 öffnet sich in einem neuen Fenster\"><i class=\"icon-doc\"></i>20/6869</a>',\n",
       " 'AgendaItemNumber': '1',\n",
       " 'Order': 1,\n",
       " 'Date': '2023-05-24T13:00:00',\n",
       " 'ProtocolId': '211ba62b-b557-4b0d-e458-08dbb6b04007',\n",
       " 'Id': '13e81aed-136d-4d56-a78b-08dbb6be6ecc'}"
      ]
     },
     "execution_count": 12,
     "metadata": {},
     "output_type": "execute_result"
    }
   ],
   "source": [
    "data['AgendaItems'][0]"
   ]
  },
  {
   "cell_type": "code",
   "execution_count": 13,
   "id": "747dc0ae",
   "metadata": {},
   "outputs": [],
   "source": [
    "rows = []\n",
    "\n",
    "for session_file in json_files:\n",
    "    with open(session_file, 'r') as file:\n",
    "        data_temp = json.load(file)\n",
    "\n",
    "    for item in data_temp[\"AgendaItems\"]:\n",
    "        rows.append({\n",
    "            'AgendaItemTitle': item['Title'],\n",
    "            'AgendaItemNumber': item['AgendaItemNumber'],\n",
    "            'Order': item['Order'],\n",
    "            'AgendaItemDate': item['Date'],\n",
    "            'ProtocolId': item['ProtocolId']\n",
    "        })\n",
    "\n",
    "df_agenda_items = pd.DataFrame(rows)\n",
    "\n",
    "\n",
    "# ~30 sec. runtime"
   ]
  },
  {
   "cell_type": "code",
   "execution_count": 14,
   "id": "f1e0e825",
   "metadata": {},
   "outputs": [],
   "source": [
    "df_agenda_items['DateOnly'] = pd.to_datetime(df_agenda_items['AgendaItemDate']).dt.date\n"
   ]
  },
  {
   "cell_type": "code",
   "execution_count": 15,
   "id": "aa10b696",
   "metadata": {},
   "outputs": [
    {
     "data": {
      "application/vnd.microsoft.datawrangler.viewer.v0+json": {
       "columns": [
        {
         "name": "index",
         "rawType": "int64",
         "type": "integer"
        },
        {
         "name": "AgendaItemTitle",
         "rawType": "object",
         "type": "string"
        },
        {
         "name": "AgendaItemNumber",
         "rawType": "object",
         "type": "string"
        },
        {
         "name": "Order",
         "rawType": "int64",
         "type": "integer"
        },
        {
         "name": "AgendaItemDate",
         "rawType": "object",
         "type": "string"
        },
        {
         "name": "ProtocolId",
         "rawType": "object",
         "type": "string"
        },
        {
         "name": "DateOnly",
         "rawType": "object",
         "type": "unknown"
        }
       ],
       "ref": "70ea6347-ebe1-484e-a83a-0db166480bb8",
       "rows": [
        [
         "0",
         "Eröffnung der Sitzung durch den Alterspräsidenten",
         "1",
         "1",
         "2017-10-24T11:05:00",
         "76c3b183-81d7-4cd0-ee48-08da0c32b602",
         "2017-10-24"
        ],
        [
         "1",
         "Beschlussfassung über die Geschäftsordnung",
         "2",
         "2",
         "2017-10-24T11:25:00",
         "76c3b183-81d7-4cd0-ee48-08da0c32b602",
         "2017-10-24"
        ],
        [
         "2",
         "Wahl des Präsidenten",
         "3",
         "3",
         "2017-10-24T12:05:00",
         "76c3b183-81d7-4cd0-ee48-08da0c32b602",
         "2017-10-24"
        ],
        [
         "3",
         "Amtsübernahme durch den Präsidenten mit Ansprache",
         "4",
         "4",
         "2017-10-24T13:15:00",
         "76c3b183-81d7-4cd0-ee48-08da0c32b602",
         "2017-10-24"
        ],
        [
         "4",
         "Festlegung der Zahl der Stellvertreter des Präsidenten",
         "5",
         "5",
         "2017-10-24T13:40:00",
         "76c3b183-81d7-4cd0-ee48-08da0c32b602",
         "2017-10-24"
        ],
        [
         "5",
         "Wahl der Stellvertreter des Präsidenten",
         "6",
         "6",
         "2017-10-24T13:40:00",
         "76c3b183-81d7-4cd0-ee48-08da0c32b602",
         "2017-10-24"
        ],
        [
         "6",
         "Nationalhymne",
         "7",
         "7",
         "2017-10-24T17:00:00",
         "76c3b183-81d7-4cd0-ee48-08da0c32b602",
         "2017-10-24"
        ],
        [
         "7",
         "Befragung der Bundesregierung",
         "1",
         "1",
         "2018-01-31T14:30:00",
         "9830dca7-f0e1-4906-ee3f-08da0c32b602",
         "2018-01-31"
        ],
        [
         "8",
         "Fragestunde",
         "2",
         "2",
         "2018-01-31T15:20:00",
         "9830dca7-f0e1-4906-ee3f-08da0c32b602",
         "2018-01-31"
        ],
        [
         "9",
         "Aktuelle Stunde zu einer europäischen Bankenunion",
         "ZP 1",
         "3",
         "2018-01-31T17:10:00",
         "9830dca7-f0e1-4906-ee3f-08da0c32b602",
         "2018-01-31"
        ],
        [
         "10",
         "Befragung der Bundesregierung",
         "1",
         "1",
         "2019-05-15T13:00:00",
         "7d5aebcf-9b16-47a6-ede5-08da0c32b602",
         "2019-05-15"
        ],
        [
         "11",
         "Fragestunde",
         "2",
         "2",
         "2019-05-15T14:15:00",
         "7d5aebcf-9b16-47a6-ede5-08da0c32b602",
         "2019-05-15"
        ],
        [
         "12",
         "Aktuelle Stunde zum Iran-Atomabkommen",
         "ZP 1",
         "3",
         "2019-05-15T15:45:00",
         "7d5aebcf-9b16-47a6-ede5-08da0c32b602",
         "2019-05-15"
        ],
        [
         "13",
         "Tätigkeitsbericht 2018 des Petitionsausschusses",
         "3",
         "4",
         "2019-05-15T17:10:00",
         "7d5aebcf-9b16-47a6-ede5-08da0c32b602",
         "2019-05-15"
        ],
        [
         "14",
         "Vereinbarte Debatte - 70 Jahre Grundgesetz",
         "4",
         "1",
         "2019-05-16T09:00:00",
         "f98bb208-7f24-4a3f-ede4-08da0c32b602",
         "2019-05-16"
        ],
        [
         "15",
         "Entlastung bei den Sozialabgaben",
         "5",
         "2",
         "2019-05-16T11:20:00",
         "f98bb208-7f24-4a3f-ede4-08da0c32b602",
         "2019-05-16"
        ],
        [
         "16",
         "Durchsetzung der Ausreisepflicht",
         "6",
         "3",
         "2019-05-16T12:25:00",
         "f98bb208-7f24-4a3f-ede4-08da0c32b602",
         "2019-05-16"
        ],
        [
         "17",
         "Löhne und Arbeitsbedingungen im Postmarkt",
         "7, ZP 2",
         "4",
         "2019-05-16T13:35:00",
         "f98bb208-7f24-4a3f-ede4-08da0c32b602",
         "2019-05-16"
        ],
        [
         "18",
         "Überweisungen im vereinfachten Verfahren",
         "31, ZP 3",
         "5",
         "2019-05-16T14:45:00",
         "f98bb208-7f24-4a3f-ede4-08da0c32b602",
         "2019-05-16"
        ],
        [
         "19",
         "Abschließende Beratungen ohne Aussprache",
         "32",
         "6",
         "2019-05-16T14:45:00",
         "f98bb208-7f24-4a3f-ede4-08da0c32b602",
         "2019-05-16"
        ],
        [
         "20",
         "2. Wahlgang - Stellvertreter des Präsidenten",
         "ZP 4",
         "7",
         "2019-05-16T15:00:00",
         "f98bb208-7f24-4a3f-ede4-08da0c32b602",
         "2019-05-16"
        ],
        [
         "21",
         "Gremienwahlen",
         "ZP 5",
         "8",
         "2019-05-16T15:25:00",
         "f98bb208-7f24-4a3f-ede4-08da0c32b602",
         "2019-05-16"
        ],
        [
         "22",
         "Aktuelle Stunde zur Finanzierungslücke bei der Grundrente",
         "ZP 6",
         "9",
         "2019-05-16T16:00:00",
         "f98bb208-7f24-4a3f-ede4-08da0c32b602",
         "2019-05-16"
        ],
        [
         "23",
         "Änderung des Bundesausbildungsförderungsgesetzes",
         "8",
         "10",
         "2019-05-16T17:20:00",
         "f98bb208-7f24-4a3f-ede4-08da0c32b602",
         "2019-05-16"
        ],
        [
         "24",
         "Digitalpakt 2.0",
         "9",
         "11",
         "2019-05-16T18:30:00",
         "f98bb208-7f24-4a3f-ede4-08da0c32b602",
         "2019-05-16"
        ],
        [
         "25",
         "Anpassung der Betreuer- und Vormündervergütung",
         "10",
         "12",
         "2019-05-16T19:15:00",
         "f98bb208-7f24-4a3f-ede4-08da0c32b602",
         "2019-05-16"
        ],
        [
         "26",
         "Änderung des Staatsangehörigkeitsgesetzes",
         "11",
         "13",
         "2019-05-16T20:00:00",
         "f98bb208-7f24-4a3f-ede4-08da0c32b602",
         "2019-05-16"
        ],
        [
         "27",
         "Gemeinsame Außen-u. Sicherheitspolitik der EU",
         "12",
         "14",
         "2019-05-16T20:40:00",
         "f98bb208-7f24-4a3f-ede4-08da0c32b602",
         "2019-05-16"
        ],
        [
         "28",
         "Gesetz zur deutsch-französischen Zusammenarbeit",
         "13",
         "15",
         "2019-05-16T21:20:00",
         "f98bb208-7f24-4a3f-ede4-08da0c32b602",
         "2019-05-16"
        ],
        [
         "29",
         "Freiheit im Internet",
         "14",
         "16",
         "2019-05-16T22:00:00",
         "f98bb208-7f24-4a3f-ede4-08da0c32b602",
         "2019-05-16"
        ],
        [
         "30",
         "Ausländerbeschäftigungsförderungsgesetz",
         "17",
         "17",
         "2019-05-16T22:25:00",
         "f98bb208-7f24-4a3f-ede4-08da0c32b602",
         "2019-05-16"
        ],
        [
         "31",
         "Militärische Eskalation im Nahen Osten",
         "ZP 7",
         "18",
         "2019-05-16T22:35:00",
         "f98bb208-7f24-4a3f-ede4-08da0c32b602",
         "2019-05-16"
        ],
        [
         "32",
         "Änderung des Asylbewerberleistungsgesetzes",
         "15",
         "19",
         "2019-05-16T23:00:00",
         "f98bb208-7f24-4a3f-ede4-08da0c32b602",
         "2019-05-16"
        ],
        [
         "33",
         "Änderung des Grundgesetzes - Grundrechte für alle",
         "ZP 8",
         "20",
         "2019-05-16T23:10:00",
         "f98bb208-7f24-4a3f-ede4-08da0c32b602",
         "2019-05-16"
        ],
        [
         "34",
         "Änderung des Bundeswahlgesetzes",
         "19",
         "21",
         "2019-05-16T23:35:00",
         "f98bb208-7f24-4a3f-ede4-08da0c32b602",
         "2019-05-16"
        ],
        [
         "35",
         "Digitalisierung in der Landwirtschaft",
         "20",
         "22",
         "2019-05-16T00:05:00",
         "f98bb208-7f24-4a3f-ede4-08da0c32b602",
         "2019-05-16"
        ],
        [
         "36",
         "Europäische Digitalkonzernsteuer",
         "21, ZP 9",
         "23",
         "2019-05-16T00:20:00",
         "f98bb208-7f24-4a3f-ede4-08da0c32b602",
         "2019-05-16"
        ],
        [
         "37",
         "Fixierungen im Rahmen von Freiheitsentziehungen",
         "23",
         "24",
         "2019-05-16T00:40:00",
         "f98bb208-7f24-4a3f-ede4-08da0c32b602",
         "2019-05-16"
        ],
        [
         "38",
         "Maritime Wirtschaftspolitik",
         "24",
         "1",
         "2019-05-17T09:00:00",
         "ee086175-6c20-44b0-ede3-08da0c32b602",
         "2019-05-17"
        ],
        [
         "39",
         "Europol",
         "25",
         "2",
         "2019-05-17T10:10:00",
         "ee086175-6c20-44b0-ede3-08da0c32b602",
         "2019-05-17"
        ],
        [
         "40",
         "Bundeswehreinsatz in Libanon (UNIFIL)",
         "26",
         "3",
         "2019-05-17T11:25:00",
         "ee086175-6c20-44b0-ede3-08da0c32b602",
         "2019-05-17"
        ],
        [
         "41",
         "Schutz von Gewässern und Grundwasser",
         "27",
         "4",
         "2019-05-17T12:05:00",
         "ee086175-6c20-44b0-ede3-08da0c32b602",
         "2019-05-17"
        ],
        [
         "42",
         "70 Jahre Europarat",
         "28, ZP 10",
         "5",
         "2019-05-17T13:10:00",
         "ee086175-6c20-44b0-ede3-08da0c32b602",
         "2019-05-17"
        ],
        [
         "43",
         "EU-Budget",
         "29",
         "6",
         "2019-05-17T13:55:00",
         "ee086175-6c20-44b0-ede3-08da0c32b602",
         "2019-05-17"
        ],
        [
         "44",
         "BDS-Bewegung",
         "ZP 11, 12, 14",
         "7",
         "2019-05-17T14:45:00",
         "ee086175-6c20-44b0-ede3-08da0c32b602",
         "2019-05-17"
        ],
        [
         "45",
         "Rüstungsexport",
         "30",
         "8",
         "2019-05-17T15:30:00",
         "ee086175-6c20-44b0-ede3-08da0c32b602",
         "2019-05-17"
        ],
        [
         "46",
         "Aktuelle Stunde zu Maßnahmen gegen Homo- und Transfeindlichkeit",
         "ZP 13",
         "9",
         "2019-05-17T16:20:00",
         "ee086175-6c20-44b0-ede3-08da0c32b602",
         "2019-05-17"
        ],
        [
         "47",
         "Befragung der Bundesregierung",
         "1",
         "1",
         "2019-06-05T13:00:00",
         "2d248c5a-a091-4699-ede2-08da0c32b602",
         "2019-06-05"
        ],
        [
         "48",
         "Fragestunde",
         "2",
         "2",
         "2019-06-05T14:15:00",
         "2d248c5a-a091-4699-ede2-08da0c32b602",
         "2019-06-05"
        ],
        [
         "49",
         "Aktuelle Stunde zu konkreten Maßnahmen für den Klimaschutz",
         "ZP 1",
         "3",
         "2019-06-05T15:40:00",
         "2d248c5a-a091-4699-ede2-08da0c32b602",
         "2019-06-05"
        ]
       ],
       "shape": {
        "columns": 6,
        "rows": 4464
       }
      },
      "text/html": [
       "<div>\n",
       "<style scoped>\n",
       "    .dataframe tbody tr th:only-of-type {\n",
       "        vertical-align: middle;\n",
       "    }\n",
       "\n",
       "    .dataframe tbody tr th {\n",
       "        vertical-align: top;\n",
       "    }\n",
       "\n",
       "    .dataframe thead th {\n",
       "        text-align: right;\n",
       "    }\n",
       "</style>\n",
       "<table border=\"1\" class=\"dataframe\">\n",
       "  <thead>\n",
       "    <tr style=\"text-align: right;\">\n",
       "      <th></th>\n",
       "      <th>AgendaItemTitle</th>\n",
       "      <th>AgendaItemNumber</th>\n",
       "      <th>Order</th>\n",
       "      <th>AgendaItemDate</th>\n",
       "      <th>ProtocolId</th>\n",
       "      <th>DateOnly</th>\n",
       "    </tr>\n",
       "  </thead>\n",
       "  <tbody>\n",
       "    <tr>\n",
       "      <th>0</th>\n",
       "      <td>Eröffnung der Sitzung durch den Alterspräsidenten</td>\n",
       "      <td>1</td>\n",
       "      <td>1</td>\n",
       "      <td>2017-10-24T11:05:00</td>\n",
       "      <td>76c3b183-81d7-4cd0-ee48-08da0c32b602</td>\n",
       "      <td>2017-10-24</td>\n",
       "    </tr>\n",
       "    <tr>\n",
       "      <th>1</th>\n",
       "      <td>Beschlussfassung über die Geschäftsordnung</td>\n",
       "      <td>2</td>\n",
       "      <td>2</td>\n",
       "      <td>2017-10-24T11:25:00</td>\n",
       "      <td>76c3b183-81d7-4cd0-ee48-08da0c32b602</td>\n",
       "      <td>2017-10-24</td>\n",
       "    </tr>\n",
       "    <tr>\n",
       "      <th>2</th>\n",
       "      <td>Wahl des Präsidenten</td>\n",
       "      <td>3</td>\n",
       "      <td>3</td>\n",
       "      <td>2017-10-24T12:05:00</td>\n",
       "      <td>76c3b183-81d7-4cd0-ee48-08da0c32b602</td>\n",
       "      <td>2017-10-24</td>\n",
       "    </tr>\n",
       "    <tr>\n",
       "      <th>3</th>\n",
       "      <td>Amtsübernahme durch den Präsidenten mit Ansprache</td>\n",
       "      <td>4</td>\n",
       "      <td>4</td>\n",
       "      <td>2017-10-24T13:15:00</td>\n",
       "      <td>76c3b183-81d7-4cd0-ee48-08da0c32b602</td>\n",
       "      <td>2017-10-24</td>\n",
       "    </tr>\n",
       "    <tr>\n",
       "      <th>4</th>\n",
       "      <td>Festlegung der Zahl der Stellvertreter des Prä...</td>\n",
       "      <td>5</td>\n",
       "      <td>5</td>\n",
       "      <td>2017-10-24T13:40:00</td>\n",
       "      <td>76c3b183-81d7-4cd0-ee48-08da0c32b602</td>\n",
       "      <td>2017-10-24</td>\n",
       "    </tr>\n",
       "    <tr>\n",
       "      <th>...</th>\n",
       "      <td>...</td>\n",
       "      <td>...</td>\n",
       "      <td>...</td>\n",
       "      <td>...</td>\n",
       "      <td>...</td>\n",
       "      <td>...</td>\n",
       "    </tr>\n",
       "    <tr>\n",
       "      <th>4459</th>\n",
       "      <td>Aktuelle Stunde - Umstrittene Personalpolitik ...</td>\n",
       "      <td>ZP 1</td>\n",
       "      <td>3</td>\n",
       "      <td>2023-04-26T14:40:00</td>\n",
       "      <td>7b867a5b-45a6-438f-ae05-08db4746451b</td>\n",
       "      <td>2023-04-26</td>\n",
       "    </tr>\n",
       "    <tr>\n",
       "      <th>4460</th>\n",
       "      <td>Bundeswehreinsatz Evakuierung aus Sudan</td>\n",
       "      <td>ZP 2</td>\n",
       "      <td>4</td>\n",
       "      <td>2023-04-26T15:30:00</td>\n",
       "      <td>7b867a5b-45a6-438f-ae05-08db4746451b</td>\n",
       "      <td>2023-04-26</td>\n",
       "    </tr>\n",
       "    <tr>\n",
       "      <th>4461</th>\n",
       "      <td>Wolfsbestandsmanagement</td>\n",
       "      <td>4</td>\n",
       "      <td>5</td>\n",
       "      <td>2023-04-26T16:40:00</td>\n",
       "      <td>7b867a5b-45a6-438f-ae05-08db4746451b</td>\n",
       "      <td>2023-04-26</td>\n",
       "    </tr>\n",
       "    <tr>\n",
       "      <th>4462</th>\n",
       "      <td>Bundeswehreinsatz EUNAVFOR MED IRINI</td>\n",
       "      <td>3</td>\n",
       "      <td>6</td>\n",
       "      <td>2023-04-26T17:30:00</td>\n",
       "      <td>7b867a5b-45a6-438f-ae05-08db4746451b</td>\n",
       "      <td>2023-04-26</td>\n",
       "    </tr>\n",
       "    <tr>\n",
       "      <th>4463</th>\n",
       "      <td>Unregulierte Massenmigration</td>\n",
       "      <td>5</td>\n",
       "      <td>7</td>\n",
       "      <td>2023-04-26T18:25:00</td>\n",
       "      <td>7b867a5b-45a6-438f-ae05-08db4746451b</td>\n",
       "      <td>2023-04-26</td>\n",
       "    </tr>\n",
       "  </tbody>\n",
       "</table>\n",
       "<p>4464 rows × 6 columns</p>\n",
       "</div>"
      ],
      "text/plain": [
       "                                        AgendaItemTitle AgendaItemNumber  \\\n",
       "0     Eröffnung der Sitzung durch den Alterspräsidenten                1   \n",
       "1            Beschlussfassung über die Geschäftsordnung                2   \n",
       "2                                  Wahl des Präsidenten                3   \n",
       "3     Amtsübernahme durch den Präsidenten mit Ansprache                4   \n",
       "4     Festlegung der Zahl der Stellvertreter des Prä...                5   \n",
       "...                                                 ...              ...   \n",
       "4459  Aktuelle Stunde - Umstrittene Personalpolitik ...             ZP 1   \n",
       "4460            Bundeswehreinsatz Evakuierung aus Sudan             ZP 2   \n",
       "4461                            Wolfsbestandsmanagement                4   \n",
       "4462               Bundeswehreinsatz EUNAVFOR MED IRINI                3   \n",
       "4463                       Unregulierte Massenmigration                5   \n",
       "\n",
       "      Order       AgendaItemDate                            ProtocolId  \\\n",
       "0         1  2017-10-24T11:05:00  76c3b183-81d7-4cd0-ee48-08da0c32b602   \n",
       "1         2  2017-10-24T11:25:00  76c3b183-81d7-4cd0-ee48-08da0c32b602   \n",
       "2         3  2017-10-24T12:05:00  76c3b183-81d7-4cd0-ee48-08da0c32b602   \n",
       "3         4  2017-10-24T13:15:00  76c3b183-81d7-4cd0-ee48-08da0c32b602   \n",
       "4         5  2017-10-24T13:40:00  76c3b183-81d7-4cd0-ee48-08da0c32b602   \n",
       "...     ...                  ...                                   ...   \n",
       "4459      3  2023-04-26T14:40:00  7b867a5b-45a6-438f-ae05-08db4746451b   \n",
       "4460      4  2023-04-26T15:30:00  7b867a5b-45a6-438f-ae05-08db4746451b   \n",
       "4461      5  2023-04-26T16:40:00  7b867a5b-45a6-438f-ae05-08db4746451b   \n",
       "4462      6  2023-04-26T17:30:00  7b867a5b-45a6-438f-ae05-08db4746451b   \n",
       "4463      7  2023-04-26T18:25:00  7b867a5b-45a6-438f-ae05-08db4746451b   \n",
       "\n",
       "        DateOnly  \n",
       "0     2017-10-24  \n",
       "1     2017-10-24  \n",
       "2     2017-10-24  \n",
       "3     2017-10-24  \n",
       "4     2017-10-24  \n",
       "...          ...  \n",
       "4459  2023-04-26  \n",
       "4460  2023-04-26  \n",
       "4461  2023-04-26  \n",
       "4462  2023-04-26  \n",
       "4463  2023-04-26  \n",
       "\n",
       "[4464 rows x 6 columns]"
      ]
     },
     "execution_count": 15,
     "metadata": {},
     "output_type": "execute_result"
    }
   ],
   "source": [
    "df_agenda_items"
   ]
  },
  {
   "cell_type": "markdown",
   "id": "f275bf4f",
   "metadata": {},
   "source": [
    "***\n",
    "### **Merge**\n",
    "***"
   ]
  },
  {
   "cell_type": "code",
   "execution_count": 16,
   "id": "f197dc0c",
   "metadata": {},
   "outputs": [],
   "source": [
    "df_agenda = df_agenda_items.merge(df_protocol_meta, on='DateOnly', how='left')"
   ]
  },
  {
   "cell_type": "code",
   "execution_count": 17,
   "id": "ff6c2e1c",
   "metadata": {},
   "outputs": [],
   "source": [
    "df_agenda.to_csv(\"../data/agenda_item_info.csv\")"
   ]
  }
 ],
 "metadata": {
  "kernelspec": {
   "display_name": "DeepLearn",
   "language": "python",
   "name": "python3"
  },
  "language_info": {
   "codemirror_mode": {
    "name": "ipython",
    "version": 3
   },
   "file_extension": ".py",
   "mimetype": "text/x-python",
   "name": "python",
   "nbconvert_exporter": "python",
   "pygments_lexer": "ipython3",
   "version": "3.13.2"
  }
 },
 "nbformat": 4,
 "nbformat_minor": 5
}
