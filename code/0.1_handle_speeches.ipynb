{
 "cells": [
  {
   "cell_type": "code",
   "execution_count": 1,
   "id": "cef2389a",
   "metadata": {},
   "outputs": [],
   "source": [
    "import pandas as pd\n",
    "import json\n",
    "import glob\n",
    "import os"
   ]
  },
  {
   "cell_type": "code",
   "execution_count": 38,
   "id": "305f68e4",
   "metadata": {},
   "outputs": [],
   "source": [
    "# settings\n",
    "\n",
    "folder_path = \"../data/19th_20th_speeches_all\"\n",
    "test_file = \"LP_20_Sitzung_105.json\""
   ]
  },
  {
   "cell_type": "markdown",
   "id": "72ca9cf6",
   "metadata": {},
   "source": [
    "***\n",
    "## **Understand the Structure**\n",
    "***"
   ]
  },
  {
   "cell_type": "markdown",
   "id": "1e657a81",
   "metadata": {},
   "source": [
    "#### **Get files and file content**"
   ]
  },
  {
   "cell_type": "code",
   "execution_count": 23,
   "id": "d07327be",
   "metadata": {},
   "outputs": [
    {
     "name": "stdout",
     "output_type": "stream",
     "text": [
      "Nr. of session protocols: 438\n"
     ]
    },
    {
     "data": {
      "text/plain": [
       "['../data/19th_20th_speeches_all\\\\LP_19_Sitzung_1.json',\n",
       " '../data/19th_20th_speeches_all\\\\LP_19_Sitzung_10.json',\n",
       " '../data/19th_20th_speeches_all\\\\LP_19_Sitzung_100.json',\n",
       " '../data/19th_20th_speeches_all\\\\LP_19_Sitzung_101.json',\n",
       " '../data/19th_20th_speeches_all\\\\LP_19_Sitzung_102.json']"
      ]
     },
     "execution_count": 23,
     "metadata": {},
     "output_type": "execute_result"
    }
   ],
   "source": [
    "# get a list of all filenames\n",
    "json_files = glob.glob(os.path.join(folder_path, \"*.json\"))\n",
    "\n",
    "print(\"Nr. of session protocols:\", len(json_files))\n",
    "json_files[:5]"
   ]
  },
  {
   "cell_type": "code",
   "execution_count": 39,
   "id": "e38ebcdb",
   "metadata": {},
   "outputs": [
    {
     "name": "stdout",
     "output_type": "stream",
     "text": [
      "dict_keys(['Protocol', 'AgendaItems', 'NLPSpeeches', 'SpeechCategories'])\n"
     ]
    }
   ],
   "source": [
    "# get a test file (later in loop over all json files)\n",
    "with open(f\"{folder_path}/{test_file}\", 'r') as file:\n",
    "    data = json.load(file)\n",
    "\n",
    "\n",
    "# print the data\n",
    "print(data.keys())"
   ]
  },
  {
   "cell_type": "code",
   "execution_count": 40,
   "id": "beaba4c9",
   "metadata": {},
   "outputs": [
    {
     "name": "stdout",
     "output_type": "stream",
     "text": [
      "Data Type: <class 'list'>\n"
     ]
    },
    {
     "data": {
      "text/plain": [
       "dict_keys(['CategoryCoveredTags', 'NamedEntities', 'Tokens', 'Sentiments', 'AbstractSummary', 'AbstractSummaryPEGASUS', 'GetAbstractSummaryPEGASUS', 'GetAbstractSummary', 'GetExtractiveSummary', 'ExtractiveSummary', 'EnglishTranslationOfSpeech', 'EnglishTranslationScore', 'Text', 'SpeakerId', 'Segments', 'ProtocolNumber', 'LegislaturePeriod', 'AgendaItemNumber', 'MongoId', 'Id'])"
      ]
     },
     "execution_count": 40,
     "metadata": {},
     "output_type": "execute_result"
    }
   ],
   "source": [
    "# protocol and agends irrelevant --> interested in NLP speeches\n",
    "print(\"Data Type:\", type(data[\"NLPSpeeches\"]))\n",
    "\n",
    "# fist elements keys\n",
    "data[\"NLPSpeeches\"][0].keys()\n",
    "\n",
    "# here, second loop necessary, loop over length of data[\"NLPSpeeches\"]"
   ]
  },
  {
   "cell_type": "markdown",
   "id": "fe44740b",
   "metadata": {},
   "source": [
    "***\n",
    "#### **Find speech text**"
   ]
  },
  {
   "cell_type": "code",
   "execution_count": 41,
   "id": "a11fc75c",
   "metadata": {},
   "outputs": [
    {
     "name": "stdout",
     "output_type": "stream",
     "text": [
      "Sehr geehrte Frau Präsidentin! Sehr geehrter Herr Abgeordneter, natürlich sind mir die damaligen Anträge bekannt. Ich bezog mich hier auf eine\n",
      "                    weitere Auszahlung, die wir vorgenommen haben. Die erste Auszahlung ist ja schon erfolgt; da hatten Sie einen anderen Vorschlag, den wir nicht aufgegriffen\n",
      "                    haben. Stattdessen haben wir damals den Vorschlag umgesetzt, den ich hier auch vorgetragen habe: Es sind 1,5 Milliarden Euro als direkte Energiehilfe geflossen,\n",
      "                    und es gab ein Verrechnungssystem, das sich dann als im Einzelfall schwer handhabbar erwiesen hat. Auf der Grundlage haben wir dann – ohne Ihre Aufforderung und\n",
      "                    ohne Ihre Unterstützung – noch einmal 2,5 Milliarden Euro nachgelegt. Da ist die erste Lesung, soweit ich informiert bin, in der nächsten Sitzungswoche zu\n",
      "                    erwarten.\n",
      "– Morgen ist die erste Lesung sogar, höre ich gerade, also noch schneller als gedacht.\n",
      "Ich möchte aber darauf hinweisen, dass wir diese 2,5 Milliarden Euro im Kabinett schon vor Wochen beschlossen haben,\n",
      "und jetzt kommt die Lesung.\n",
      "Das ist ja ein Gesetz, das an ein Gesetz angehängt ist, bei dem wir nicht federführend sind. Sie wissen ja, dass das ein Gesetz von Robert Habeck ist,\n",
      "                    in dem es darum geht, Energiehilfen insgesamt zu entbürokratisieren und zu beschleunigen. Im Rahmen dieses Gesetzes sind auch die 2,5 Milliarden Euro\n",
      "                    vorgesehen; die haben wir damit untergebracht. Aber wir sind hier nicht federführend.\n",
      "Ich hörte jedenfalls gerade von der Frau Staatssekretärin, dass die erste Lesung nicht erst in der nächsten Sitzungswoche ist, sondern morgen. Somit\n",
      "                    haben Sie dann die Gelegenheit, dem Gesetz zuzustimmen.\n",
      "Das können wir jetzt auch nicht mehr länger ausführen. Ich bitte noch mal darum, auf die 30 Sekunden zu achten.\n",
      "\n"
     ]
    }
   ],
   "source": [
    "# example speech text of speech nr. 30 (full, not segmented with shouts)\n",
    "print(data['NLPSpeeches'][30][\"Text\"])"
   ]
  },
  {
   "cell_type": "code",
   "execution_count": 27,
   "id": "cf522919",
   "metadata": {},
   "outputs": [
    {
     "data": {
      "text/plain": [
       "[{'Text': 'Das Thema Wohnungen ist mit Recht ein Schwerpunkt unserer Arbeit in der Koalition und auch in der Koalitionsvereinbarung. Wir wollen 1,5\\xa0Millionen neue Wohnungen bauen, und zwar Wohnungen zu bezahlbaren Mieten. Dazu wollen wir die entsprechenden Rahmenbedingungen schaffen. Wir wollen auch die Mieter besser schützen, indem sie mehr Auskunft bekommen. Die Grundlage für alle Arbeiten ist der Koalitionsvertrag. Das gilt für die von Ihnen angesprochene Ministerin genauso wie für Herrn Luczak. Da gibt es auch gar keinen Gesprächsbedarf bei uns.\\n',\n",
       "  'Shouts': [],\n",
       "  'SpeechId': '931f3906-0d3c-446c-6acd-08da102a68d8',\n",
       "  'Id': '24d45fae-4551-4cce-7868-08da102a68db'},\n",
       " {'Text': 'Jetzt geht es darum, sowohl die Maßnahmen für den sozialen Wohnungsbau als auch die Maßnahmen für den freien Wohnungsbau gerade auch durch das bei der Klausurtagung von den geschäftsführenden Fraktionsvorständen beschlossene Paket schnell umzusetzen. Dazu laufen Gespräche. Wir brauchen mehr Bauland; da kann auch die BImA mithelfen. Aber wir brauchen eben auch schnellere Verfahren, und wir brauchen bessere Auskunftsrechte für die Mieterinnen und Mieter. An allen Stellen werden wir arbeiten und unseren Beitrag leisten. 1,5\\xa0Millionen Wohnungen in einer Legislaturperiode, das ist ein ehrgeiziges Ziel. Aber wir werden alles tun, das zu erreichen.\\n',\n",
       "  'Shouts': [{'Text': 'Sehr schwach!',\n",
       "    'FirstName': 'Heike',\n",
       "    'LastName': 'Hänsel',\n",
       "    'Fraction': 'Die Linke',\n",
       "    'Party': None,\n",
       "    'SpeakerId': '11003763',\n",
       "    'SpeechSegmentId': 'febfce68-d93a-477e-7869-08da102a68db',\n",
       "    'Id': 'ea523ea9-e9bc-4f32-181f-08da102a68df'}],\n",
       "  'SpeechId': '931f3906-0d3c-446c-6acd-08da102a68d8',\n",
       "  'Id': 'febfce68-d93a-477e-7869-08da102a68db'}]"
      ]
     },
     "execution_count": 27,
     "metadata": {},
     "output_type": "execute_result"
    }
   ],
   "source": [
    "# under segments, you get the speech, separated into chunks, with shouts inbetween\n",
    "data['NLPSpeeches'][30][\"Segments\"]"
   ]
  },
  {
   "cell_type": "code",
   "execution_count": 28,
   "id": "72d623ac",
   "metadata": {},
   "outputs": [
    {
     "name": "stdout",
     "output_type": "stream",
     "text": [
      "Herr Kollege, als ich Bundeskanzlerin wurde, hatte Deutschland 5 Millionen Arbeitslose. Jetzt haben wir die niedrigste Arbeitslosigkeit seit der Wiedervereinigung,\n",
      "auch durch die Reformen – ich will das ausdrücklich sagen – meines Vorgängers. Das ist der Weg, den wir gehen müssen. Wir haben inzwischen den Mindestlohn eingeführt. Wir haben eine deutliche Verbesserung für viele Menschen erreicht, und da, wo die Verbesserungen noch nicht angekommen sind, werden wir durch eine Kommission „Gleichwertige Lebensverhältnisse“ in Deutschland darauf achten, dass dies noch geschieht.\n",
      "Aber ich glaube, die Frage so zu formulieren, dass es Deutschland schlechter geht, ist aus meiner Sicht falsch. Im Übrigen haben die jeweiligen Handelsabkommen auch in Deutschland zu großen Arbeitsplatzgewinnen geführt, weil sie fair und vernünftig ausgehandelt waren. Deshalb werde ich auch weiter dem freien Welthandel auf einer multilateralen Basis das Wort reden. Ich glaube, Ihre Abschottung und Ihr Glaube, alles alleine machen zu können und sich nicht in den internationalen Handel einbringen zu müssen, ist ein Fehlweg.\n",
      "\n"
     ]
    },
    {
     "data": {
      "text/plain": [
       "[{'Text': 'Herr Kollege, als ich Bundeskanzlerin wurde, hatte Deutschland 5\\xa0Millionen Arbeitslose. Jetzt haben wir die niedrigste Arbeitslosigkeit seit der Wiedervereinigung,\\n',\n",
       "  'Shouts': [{'Text': '(Beifall bei der CDU/CSU sowie bei Abgeordneten der FDP)',\n",
       "    'FirstName': None,\n",
       "    'LastName': None,\n",
       "    'Fraction': None,\n",
       "    'Party': None,\n",
       "    'SpeakerId': None,\n",
       "    'SpeechSegmentId': '0e80b8dc-22e4-401b-c3e0-08da0f22a00b',\n",
       "    'Id': '941f4408-7c4f-4ac8-0dd9-08da0f22a00e'}],\n",
       "  'SpeechId': '563e2437-3e04-4221-62f3-08da0f22a008',\n",
       "  'Id': '0e80b8dc-22e4-401b-c3e0-08da0f22a00b'},\n",
       " {'Text': 'auch durch die Reformen\\xa0– ich will das ausdrücklich sagen\\xa0– meines Vorgängers. Das ist der Weg, den wir gehen müssen. Wir haben inzwischen den Mindestlohn eingeführt. Wir haben eine deutliche Verbesserung für viele Menschen erreicht, und da, wo die Verbesserungen noch nicht angekommen sind, werden wir durch eine Kommission „Gleichwertige Lebensverhältnisse“ in Deutschland darauf achten, dass dies noch geschieht.\\n',\n",
       "  'Shouts': [],\n",
       "  'SpeechId': '563e2437-3e04-4221-62f3-08da0f22a008',\n",
       "  'Id': '49849e4b-b50a-40e9-c3e1-08da0f22a00b'},\n",
       " {'Text': 'Aber ich glaube, die Frage so zu formulieren, dass es Deutschland schlechter geht, ist aus meiner Sicht falsch. Im Übrigen haben die jeweiligen Handelsabkommen auch in Deutschland zu großen Arbeitsplatzgewinnen geführt, weil sie fair und vernünftig ausgehandelt waren. Deshalb werde ich auch weiter dem freien Welthandel auf einer multilateralen Basis das Wort reden. Ich glaube, Ihre Abschottung und Ihr Glaube, alles alleine machen zu können und sich nicht in den internationalen Handel einbringen zu müssen, ist ein Fehlweg.\\n',\n",
       "  'Shouts': [{'Text': '(Beifall bei der CDU/CSU sowie bei Abgeordneten der SPD und der FDP)',\n",
       "    'FirstName': None,\n",
       "    'LastName': None,\n",
       "    'Fraction': None,\n",
       "    'Party': None,\n",
       "    'SpeakerId': None,\n",
       "    'SpeechSegmentId': 'a161fe52-f062-4c41-c3e2-08da0f22a00b',\n",
       "    'Id': '2ccccc45-04d9-40fa-0dda-08da0f22a00e'}],\n",
       "  'SpeechId': '563e2437-3e04-4221-62f3-08da0f22a008',\n",
       "  'Id': 'a161fe52-f062-4c41-c3e2-08da0f22a00b'}]"
      ]
     },
     "execution_count": 28,
     "metadata": {},
     "output_type": "execute_result"
    }
   ],
   "source": [
    "# another example, with applause\n",
    "\n",
    "# full speech\n",
    "print(data['NLPSpeeches'][24][\"Text\"]) \n",
    "\n",
    "# segments with applause breaks\n",
    "data['NLPSpeeches'][24][\"Segments\"]"
   ]
  },
  {
   "cell_type": "markdown",
   "id": "999a5d59",
   "metadata": {},
   "source": [
    "#### clean formatting"
   ]
  },
  {
   "cell_type": "code",
   "execution_count": 29,
   "id": "663bfd1e",
   "metadata": {},
   "outputs": [],
   "source": [
    "import unicodedata\n",
    "import regex as re\n",
    "\n",
    "def clean_text_advanced(text: str) -> str:\n",
    "    # Normalize unicode (e.g., é → é)\n",
    "    text = unicodedata.normalize(\"NFKC\", text)\n",
    "    \n",
    "    # Remove zero-width characters (like \\u200b)\n",
    "    text = re.sub(r'[\\u200B-\\u200D\\uFEFF]', '', text)\n",
    "\n",
    "    # Apply previous cleaning\n",
    "    text = text.replace('\\xa0', ' ')\n",
    "    text = text.replace('\\t', ' ')\n",
    "    text = re.sub(r'\\s+', ' ', text)\n",
    "    return text.strip()\n"
   ]
  },
  {
   "cell_type": "code",
   "execution_count": 44,
   "id": "bfa581db",
   "metadata": {},
   "outputs": [],
   "source": [
    "formattest = clean_text_advanced(data['NLPSpeeches'][24][\"Text\"])"
   ]
  },
  {
   "cell_type": "code",
   "execution_count": 45,
   "id": "661fd99b",
   "metadata": {},
   "outputs": [
    {
     "data": {
      "text/plain": [
       "'Sehr geehrte Frau Präsidentin! Sehr geehrte Abgeordnete, vielen Dank für diese Frage.\\xa0– Wir haben heute im Kabinett tatsächlich das\\n                    Pflegestudiumstärkungsgesetz verabschiedet. In der Tat ist es eine sehr wichtige Initiative. Wir werden damit dazu übergehen, dass für die praktischen Teile im\\n                    Studium eine Vergütung gezahlt wird, sodass die Studienplätze auch gefüllt werden. Jeder zweite Studienplatz ist derzeit nicht gefüllt. Wir müssen den\\n                    Absolventinnen und Absolventen dieses Studiums auch gute Karrieremöglichkeiten eröffnen; daran wird intensiv gearbeitet. Ich gehe davon aus, dass wir innerhalb\\n                    von sehr kurzer Zeit hier eine deutliche Zunahme der Studierendenzahlen beobachten können.\\n'"
      ]
     },
     "execution_count": 45,
     "metadata": {},
     "output_type": "execute_result"
    }
   ],
   "source": [
    "data['NLPSpeeches'][24][\"Text\"]"
   ]
  },
  {
   "cell_type": "code",
   "execution_count": 46,
   "id": "39ca150e",
   "metadata": {},
   "outputs": [
    {
     "data": {
      "text/plain": [
       "'Sehr geehrte Frau Präsidentin! Sehr geehrte Abgeordnete, vielen Dank für diese Frage. – Wir haben heute im Kabinett tatsächlich das Pflegestudiumstärkungsgesetz verabschiedet. In der Tat ist es eine sehr wichtige Initiative. Wir werden damit dazu übergehen, dass für die praktischen Teile im Studium eine Vergütung gezahlt wird, sodass die Studienplätze auch gefüllt werden. Jeder zweite Studienplatz ist derzeit nicht gefüllt. Wir müssen den Absolventinnen und Absolventen dieses Studiums auch gute Karrieremöglichkeiten eröffnen; daran wird intensiv gearbeitet. Ich gehe davon aus, dass wir innerhalb von sehr kurzer Zeit hier eine deutliche Zunahme der Studierendenzahlen beobachten können.'"
      ]
     },
     "execution_count": 46,
     "metadata": {},
     "output_type": "execute_result"
    }
   ],
   "source": [
    "formattest"
   ]
  },
  {
   "cell_type": "markdown",
   "id": "10016ea3",
   "metadata": {},
   "source": [
    "***\n",
    "#### **Get Speaker ID**"
   ]
  },
  {
   "cell_type": "code",
   "execution_count": 47,
   "id": "5bd5a1af",
   "metadata": {},
   "outputs": [
    {
     "data": {
      "text/plain": [
       "dict_keys(['CategoryCoveredTags', 'NamedEntities', 'Tokens', 'Sentiments', 'AbstractSummary', 'AbstractSummaryPEGASUS', 'GetAbstractSummaryPEGASUS', 'GetAbstractSummary', 'GetExtractiveSummary', 'ExtractiveSummary', 'EnglishTranslationOfSpeech', 'EnglishTranslationScore', 'Text', 'SpeakerId', 'Segments', 'ProtocolNumber', 'LegislaturePeriod', 'AgendaItemNumber', 'MongoId', 'Id'])"
      ]
     },
     "execution_count": 47,
     "metadata": {},
     "output_type": "execute_result"
    }
   ],
   "source": [
    "data['NLPSpeeches'][30].keys() \n",
    "# delivers SpeakerId"
   ]
  },
  {
   "cell_type": "code",
   "execution_count": 48,
   "id": "a5b06b15",
   "metadata": {},
   "outputs": [
    {
     "data": {
      "text/plain": [
       "'11003797'"
      ]
     },
     "execution_count": 48,
     "metadata": {},
     "output_type": "execute_result"
    }
   ],
   "source": [
    "# reffering speaker Id of the speech\n",
    "\n",
    "data['NLPSpeeches'][30][\"SpeakerId\"]"
   ]
  },
  {
   "cell_type": "markdown",
   "id": "4dcd2934",
   "metadata": {},
   "source": [
    "***\n",
    "#### **Get Speech ID**"
   ]
  },
  {
   "cell_type": "code",
   "execution_count": 49,
   "id": "e217997f",
   "metadata": {},
   "outputs": [
    {
     "data": {
      "text/plain": [
       "dict_keys(['CategoryCoveredTags', 'NamedEntities', 'Tokens', 'Sentiments', 'AbstractSummary', 'AbstractSummaryPEGASUS', 'GetAbstractSummaryPEGASUS', 'GetAbstractSummary', 'GetExtractiveSummary', 'ExtractiveSummary', 'EnglishTranslationOfSpeech', 'EnglishTranslationScore', 'Text', 'SpeakerId', 'Segments', 'ProtocolNumber', 'LegislaturePeriod', 'AgendaItemNumber', 'MongoId', 'Id'])"
      ]
     },
     "execution_count": 49,
     "metadata": {},
     "output_type": "execute_result"
    }
   ],
   "source": [
    "data['NLPSpeeches'][30].keys() \n",
    "# delivers Id --> speech id"
   ]
  },
  {
   "cell_type": "code",
   "execution_count": 50,
   "id": "57669458",
   "metadata": {},
   "outputs": [
    {
     "data": {
      "text/plain": [
       "'0f912814-fb4c-4205-9677-05ddd67c7937'"
      ]
     },
     "execution_count": 50,
     "metadata": {},
     "output_type": "execute_result"
    }
   ],
   "source": [
    "data['NLPSpeeches'][30][\"Id\"]"
   ]
  },
  {
   "cell_type": "markdown",
   "id": "368ade7c",
   "metadata": {},
   "source": [
    "***\n",
    "#### **Investigate further properties**\n",
    "\n",
    "\n",
    "* Bundestagsmine reports some NLP analysis properties\n",
    "* Brief investigation on two examples\n",
    "* $\\to$ in our usecase propably irrelevant\n",
    "\n",
    "* Some other properties on legislative period, agenda item evtl. helpful $\\to$ record them"
   ]
  },
  {
   "cell_type": "code",
   "execution_count": 51,
   "id": "69b53d63",
   "metadata": {},
   "outputs": [
    {
     "name": "stdout",
     "output_type": "stream",
     "text": [
      "NamedEntities:  [{'LemmaValue': 'Morgen', 'NLPSpeechId': '0f912814-fb4c-4205-9677-05ddd67c7937', 'ShoutId': 'a470dd56-560f-461b-ab75-8a3e08874ecc', 'Begin': 0, 'End': 7, 'Value': 'ORG', 'Id': '8dc0d9c0-9dc2-4d03-af3f-08dbb6b04029'}, {'LemmaValue': 'Krankenhäusern', 'NLPSpeechId': '0f912814-fb4c-4205-9677-05ddd67c7937', 'ShoutId': '3d7a28f5-1d29-41c7-ae87-d1bf39ddf801', 'Begin': 27, 'End': 42, 'Value': 'ORG', 'Id': '36aec324-046c-49dc-af40-08dbb6b04029'}, {'LemmaValue': 'Abgeordneter', 'NLPSpeechId': '0f912814-fb4c-4205-9677-05ddd67c7937', 'ShoutId': '00000000-0000-0000-0000-000000000000', 'Begin': 50, 'End': 62, 'Value': 'ORG', 'Id': '61377107-139e-434d-af41-08dbb6b04029'}, {'LemmaValue': 'Robert Habeck', 'NLPSpeechId': '0f912814-fb4c-4205-9677-05ddd67c7937', 'ShoutId': '00000000-0000-0000-0000-000000000000', 'Begin': 1250, 'End': 1263, 'Value': 'PER', 'Id': '817f9cb1-fef6-4015-af42-08dbb6b04029'}]\n",
      "Tokens:  None\n",
      "Sentiments:  [{'NLPSpeechId': '0f912814-fb4c-4205-9677-05ddd67c7937', 'ShoutId': 'a470dd56-560f-461b-ab75-8a3e08874ecc', 'Begin': 0, 'End': 7, 'SentimentSingleScore': 0.0, 'Id': '645cf253-a138-47bb-dac3-08dbb6b0402b'}, {'NLPSpeechId': '0f912814-fb4c-4205-9677-05ddd67c7937', 'ShoutId': '3d7a28f5-1d29-41c7-ae87-d1bf39ddf801', 'Begin': 0, 'End': 42, 'SentimentSingleScore': 0.0, 'Id': '82a93dce-5460-4bbf-dac4-08dbb6b0402b'}, {'NLPSpeechId': '0f912814-fb4c-4205-9677-05ddd67c7937', 'ShoutId': '00000000-0000-0000-0000-000000000000', 'Begin': 0, 'End': 30, 'SentimentSingleScore': 0.0, 'Id': '80b7b5cc-4f85-49c2-dac5-08dbb6b0402b'}, {'NLPSpeechId': '0f912814-fb4c-4205-9677-05ddd67c7937', 'ShoutId': '00000000-0000-0000-0000-000000000000', 'Begin': 31, 'End': 113, 'SentimentSingleScore': 0.3612, 'Id': '6693a827-0e38-4b06-dac6-08dbb6b0402b'}, {'NLPSpeechId': '0f912814-fb4c-4205-9677-05ddd67c7937', 'ShoutId': '00000000-0000-0000-0000-000000000000', 'Begin': 114, 'End': 209, 'SentimentSingleScore': 0.0, 'Id': '3ab768a7-2a21-496b-dac7-08dbb6b0402b'}, {'NLPSpeechId': '0f912814-fb4c-4205-9677-05ddd67c7937', 'ShoutId': '00000000-0000-0000-0000-000000000000', 'Begin': 210, 'End': 252, 'SentimentSingleScore': 0.0, 'Id': '3f13fd6b-2498-4949-dac8-08dbb6b0402b'}, {'NLPSpeechId': '0f912814-fb4c-4205-9677-05ddd67c7937', 'ShoutId': '00000000-0000-0000-0000-000000000000', 'Begin': 253, 'End': 345, 'SentimentSingleScore': 0.0, 'Id': 'c9b26cca-e3be-4ca3-dac9-08dbb6b0402b'}, {'NLPSpeechId': '0f912814-fb4c-4205-9677-05ddd67c7937', 'ShoutId': '00000000-0000-0000-0000-000000000000', 'Begin': 346, 'End': 435, 'SentimentSingleScore': 0.0, 'Id': 'e5cba35f-3cfe-4c79-daca-08dbb6b0402b'}, {'NLPSpeechId': '0f912814-fb4c-4205-9677-05ddd67c7937', 'ShoutId': '00000000-0000-0000-0000-000000000000', 'Begin': 436, 'End': 618, 'SentimentSingleScore': -0.25, 'Id': '0ccbe1e9-9c27-4325-dacb-08dbb6b0402b'}, {'NLPSpeechId': '0f912814-fb4c-4205-9677-05ddd67c7937', 'ShoutId': '00000000-0000-0000-0000-000000000000', 'Begin': 619, 'End': 770, 'SentimentSingleScore': -0.3089, 'Id': 'bce25e38-1468-47b5-dacc-08dbb6b0402b'}, {'NLPSpeechId': '0f912814-fb4c-4205-9677-05ddd67c7937', 'ShoutId': '00000000-0000-0000-0000-000000000000', 'Begin': 771, 'End': 885, 'SentimentSingleScore': 0.1779, 'Id': '74b261d2-d4ba-4802-dacd-08dbb6b0402b'}, {'NLPSpeechId': '0f912814-fb4c-4205-9677-05ddd67c7937', 'ShoutId': '00000000-0000-0000-0000-000000000000', 'Begin': 885, 'End': 972, 'SentimentSingleScore': 0.4019, 'Id': '14485223-79e4-4075-dace-08dbb6b0402b'}, {'NLPSpeechId': '0f912814-fb4c-4205-9677-05ddd67c7937', 'ShoutId': '00000000-0000-0000-0000-000000000000', 'Begin': 972, 'End': 1117, 'SentimentSingleScore': 0.4019, 'Id': 'f3b6f832-4b80-46d4-dacf-08dbb6b0402b'}, {'NLPSpeechId': '0f912814-fb4c-4205-9677-05ddd67c7937', 'ShoutId': '00000000-0000-0000-0000-000000000000', 'Begin': 1117, 'End': 1210, 'SentimentSingleScore': 0.0, 'Id': '42435391-46ad-4277-dad0-08dbb6b0402b'}, {'NLPSpeechId': '0f912814-fb4c-4205-9677-05ddd67c7937', 'ShoutId': '00000000-0000-0000-0000-000000000000', 'Begin': 1211, 'End': 1378, 'SentimentSingleScore': 0.6597, 'Id': 'c10ced6e-d6e3-4848-dad1-08dbb6b0402b'}, {'NLPSpeechId': '0f912814-fb4c-4205-9677-05ddd67c7937', 'ShoutId': '00000000-0000-0000-0000-000000000000', 'Begin': 1379, 'End': 1470, 'SentimentSingleScore': 0.0, 'Id': '8a0f21b6-fc1a-4f15-dad2-08dbb6b0402b'}, {'NLPSpeechId': '0f912814-fb4c-4205-9677-05ddd67c7937', 'ShoutId': '00000000-0000-0000-0000-000000000000', 'Begin': 1471, 'End': 1505, 'SentimentSingleScore': 0.0, 'Id': '3fa3cf89-3a9b-4536-dad3-08dbb6b0402b'}, {'NLPSpeechId': '0f912814-fb4c-4205-9677-05ddd67c7937', 'ShoutId': '00000000-0000-0000-0000-000000000000', 'Begin': 1506, 'End': 1544, 'SentimentSingleScore': 0.0, 'Id': '8538d1e9-c374-485a-dad4-08dbb6b0402b'}, {'NLPSpeechId': '0f912814-fb4c-4205-9677-05ddd67c7937', 'ShoutId': '00000000-0000-0000-0000-000000000000', 'Begin': 1544, 'End': 1687, 'SentimentSingleScore': 0.1779, 'Id': 'fe7e1d62-3627-408d-dad5-08dbb6b0402b'}, {'NLPSpeechId': '0f912814-fb4c-4205-9677-05ddd67c7937', 'ShoutId': '00000000-0000-0000-0000-000000000000', 'Begin': 1688, 'End': 1769, 'SentimentSingleScore': 0.0, 'Id': '8e601fa6-a75e-4232-dad6-08dbb6b0402b'}, {'NLPSpeechId': '0f912814-fb4c-4205-9677-05ddd67c7937', 'ShoutId': '00000000-0000-0000-0000-000000000000', 'Begin': 1769, 'End': 1824, 'SentimentSingleScore': 0.0, 'Id': '989b3792-5217-4fad-dad7-08dbb6b0402b'}, {'NLPSpeechId': '0f912814-fb4c-4205-9677-05ddd67c7937', 'ShoutId': '00000000-0000-0000-0000-000000000000', 'Begin': 1825, 'End': 1881, 'SentimentSingleScore': 0.0, 'Id': '0757a551-db76-4b3a-dad8-08dbb6b0402b'}, {'NLPSpeechId': '0f912814-fb4c-4205-9677-05ddd67c7937', 'ShoutId': '00000000-0000-0000-0000-000000000000', 'Begin': 1881, 'End': 1882, 'SentimentSingleScore': 0.0, 'Id': 'f1d42567-0520-4faf-dad9-08dbb6b0402b'}]\n",
      "AbstractSummary:  Die erste Zahlung in Höhe von 2,5 Milliarden Euro ist bereits erfolgt: Die erste Lesung des Robert-Habeck-Gesetzes, das die Energiehilfe insgesamt beschleunigen soll, wird in der nächsten Woche erwartet. Der Staatssekretär hat ihm mitgeteilt, dass die erste Lesung morgen stattfinden wird.\n",
      "AbstractSummaryPEGASUS:  Robert Habecks Gesetz zielt darauf ab, die Energiehilfe insgesamt zu entbürokratisieren und zu beschleunigen.\n",
      "ExtractiveSummary:   Da ist die erste Lesung, soweit ich informiert bin, in der nächsten Sitzungswoche zu erwarten.– Es sind 1,5 Milliarden Euro als direkte Energiehilfe geflossen, und es gab ein Verrechnungssystem, das sich dann als im Einzelfall schwer handhabbar erwiesen hat. Sie wissen ja, dass das ein Gesetz von Robert Habeck ist, in dem es darum geht, Energiehilfen insgesamt zu entbürokratisieren und zu beschleunigen. Ich möchte aber darauf hinweisen, dass wir diese 2,5 Milliarden Euro im Kabinett schon vor Wochen beschlossen haben,und jetzt kommt die Lesung.\n"
     ]
    }
   ],
   "source": [
    "# example 1\n",
    "print(\"NamedEntities: \", data['NLPSpeeches'][30]['NamedEntities'])\n",
    "print(\"Tokens: \", data['NLPSpeeches'][30]['Tokens']) \n",
    "print(\"Sentiments: \", data['NLPSpeeches'][30]['Sentiments'])\n",
    "print(\"AbstractSummary: \", data['NLPSpeeches'][30]['AbstractSummary'])\n",
    "print(\"AbstractSummaryPEGASUS: \", data['NLPSpeeches'][30]['AbstractSummaryPEGASUS'])\n",
    "print(\"ExtractiveSummary: \", data['NLPSpeeches'][30]['ExtractiveSummary'])"
   ]
  },
  {
   "cell_type": "code",
   "execution_count": 52,
   "id": "6c75e846",
   "metadata": {},
   "outputs": [
    {
     "name": "stdout",
     "output_type": "stream",
     "text": [
      "NamedEntities:  [{'LemmaValue': 'Pflegestudiumstärkungsgesetz', 'NLPSpeechId': 'db254216-706f-45e5-87eb-d4d01ce590a0', 'ShoutId': '00000000-0000-0000-0000-000000000000', 'Begin': 152, 'End': 180, 'Value': 'PER', 'Id': 'da7030ef-0d95-4c7f-b1e8-08dbb6b04029'}, {'LemmaValue': 'Zeit', 'NLPSpeechId': 'db254216-706f-45e5-87eb-d4d01ce590a0', 'ShoutId': '00000000-0000-0000-0000-000000000000', 'Begin': 699, 'End': 703, 'Value': 'MISC', 'Id': '73f812ba-0577-4863-b1e9-08dbb6b04029'}]\n",
      "Tokens:  None\n",
      "Sentiments:  [{'NLPSpeechId': 'db254216-706f-45e5-87eb-d4d01ce590a0', 'ShoutId': '00000000-0000-0000-0000-000000000000', 'Begin': 0, 'End': 30, 'SentimentSingleScore': 0.0, 'Id': '0e119f16-1f4e-42e6-e06e-08dbb6b0402b'}, {'NLPSpeechId': 'db254216-706f-45e5-87eb-d4d01ce590a0', 'ShoutId': '00000000-0000-0000-0000-000000000000', 'Begin': 31, 'End': 85, 'SentimentSingleScore': 0.0, 'Id': '36f28627-20d0-4ba1-e06f-08dbb6b0402b'}, {'NLPSpeechId': 'db254216-706f-45e5-87eb-d4d01ce590a0', 'ShoutId': '00000000-0000-0000-0000-000000000000', 'Begin': 85, 'End': 195, 'SentimentSingleScore': 0.0, 'Id': 'c07a3d2b-a306-4308-e070-08dbb6b0402b'}, {'NLPSpeechId': 'db254216-706f-45e5-87eb-d4d01ce590a0', 'ShoutId': '00000000-0000-0000-0000-000000000000', 'Begin': 196, 'End': 244, 'SentimentSingleScore': 0.4576, 'Id': 'fcc58ba6-9e15-4cf3-e071-08dbb6b0402b'}, {'NLPSpeechId': 'db254216-706f-45e5-87eb-d4d01ce590a0', 'ShoutId': '00000000-0000-0000-0000-000000000000', 'Begin': 245, 'End': 414, 'SentimentSingleScore': 0.4939, 'Id': '27bed5e3-e1f1-4ce0-e072-08dbb6b0402b'}, {'NLPSpeechId': 'db254216-706f-45e5-87eb-d4d01ce590a0', 'ShoutId': '00000000-0000-0000-0000-000000000000', 'Begin': 415, 'End': 467, 'SentimentSingleScore': -0.1877, 'Id': '2a47d4ba-35e3-4a5d-e073-08dbb6b0402b'}, {'NLPSpeechId': 'db254216-706f-45e5-87eb-d4d01ce590a0', 'ShoutId': '00000000-0000-0000-0000-000000000000', 'Begin': 468, 'End': 591, 'SentimentSingleScore': 0.4767, 'Id': '7fc415c3-f3e6-4080-e074-08dbb6b0402b'}, {'NLPSpeechId': 'db254216-706f-45e5-87eb-d4d01ce590a0', 'ShoutId': '00000000-0000-0000-0000-000000000000', 'Begin': 592, 'End': 623, 'SentimentSingleScore': 0.3182, 'Id': 'fccde32b-e594-4de8-e075-08dbb6b0402b'}, {'NLPSpeechId': 'db254216-706f-45e5-87eb-d4d01ce590a0', 'ShoutId': '00000000-0000-0000-0000-000000000000', 'Begin': 624, 'End': 773, 'SentimentSingleScore': -0.2247, 'Id': '54075205-4b6e-4ca6-e076-08dbb6b0402b'}, {'NLPSpeechId': 'db254216-706f-45e5-87eb-d4d01ce590a0', 'ShoutId': '00000000-0000-0000-0000-000000000000', 'Begin': 773, 'End': 774, 'SentimentSingleScore': 0.0, 'Id': '18570b81-2619-4afe-e077-08dbb6b0402b'}]\n",
      "AbstractSummary:  Heute hat das Kabinett im Kabinett das Pflegestufenprüfungsgesetz verabschiedet. Es ist eine wichtige Initiative, praktische Studienabschnitte zu bezahlen und gute Karrieremöglichkeiten für Absolventen des Studiengangs zu eröffnen. Derzeit ist jeder zweite Platz nicht besetzt.\n",
      "AbstractSummaryPEGASUS:  Das Kabinett hat heute das Pflegestudiumsgesetz verabschiedet.\n",
      "ExtractiveSummary:   Wir werden damit dazu übergehen, dass für die praktischen Teile im Studium eine Vergütung gezahlt wird, sodass die Studienplätze auch gefüllt werden. Sehr geehrte Frau Präsidentin! Wir müssen den Absolventinnen und Absolventen dieses Studiums auch gute Karrieremöglichkeiten eröffnen; Ich gehe davon aus, dass wir innerhalb von sehr kurzer Zeit hier eine deutliche Zunahme der Studierendenzahlen beobachten können.\n"
     ]
    }
   ],
   "source": [
    "# example 2\n",
    "print(\"NamedEntities: \", data['NLPSpeeches'][24]['NamedEntities'])\n",
    "print(\"Tokens: \", data['NLPSpeeches'][24]['Tokens'])\n",
    "print(\"Sentiments: \", data['NLPSpeeches'][24]['Sentiments'])\n",
    "print(\"AbstractSummary: \", data['NLPSpeeches'][24]['AbstractSummary'])\n",
    "print(\"AbstractSummaryPEGASUS: \", data['NLPSpeeches'][24]['AbstractSummaryPEGASUS'])\n",
    "print(\"ExtractiveSummary: \", data['NLPSpeeches'][24]['ExtractiveSummary'])"
   ]
  },
  {
   "cell_type": "code",
   "execution_count": 53,
   "id": "0a0486fb",
   "metadata": {},
   "outputs": [
    {
     "name": "stdout",
     "output_type": "stream",
     "text": [
      "ProtocolNumber:  105\n",
      "LegislaturePeriod:  20\n",
      "AgendaItemNumber:  2\n",
      "MongoId:  00000000-0000-0000-0000-000000000000\n"
     ]
    }
   ],
   "source": [
    "# potentially helpful properties\n",
    "print(\"ProtocolNumber: \", data['NLPSpeeches'][30]['ProtocolNumber'])\n",
    "print(\"LegislaturePeriod: \", data['NLPSpeeches'][30]['LegislaturePeriod'])\n",
    "print(\"AgendaItemNumber: \", data['NLPSpeeches'][30]['AgendaItemNumber'])\n",
    "print(\"MongoId: \", data['NLPSpeeches'][30]['MongoId']) # mondo DB --> database ID?"
   ]
  },
  {
   "cell_type": "markdown",
   "id": "02f98e79",
   "metadata": {},
   "source": [
    "***\n",
    "## **Handle one whole file**\n",
    "***"
   ]
  },
  {
   "cell_type": "code",
   "execution_count": 54,
   "id": "af8064df",
   "metadata": {},
   "outputs": [
    {
     "name": "stdout",
     "output_type": "stream",
     "text": [
      "Nr. of Speeches: 154\n"
     ]
    }
   ],
   "source": [
    "print(\"Nr. of Speeches:\", len(data[\"NLPSpeeches\"]))"
   ]
  },
  {
   "cell_type": "code",
   "execution_count": 58,
   "id": "7471906f",
   "metadata": {},
   "outputs": [
    {
     "data": {
      "text/plain": [
       "'9b57cd98-aeb8-4568-8272-6890d3c1b0e7'"
      ]
     },
     "execution_count": 58,
     "metadata": {},
     "output_type": "execute_result"
    }
   ],
   "source": [
    "data[\"NLPSpeeches\"][0]['Id']"
   ]
  },
  {
   "cell_type": "code",
   "execution_count": 59,
   "id": "a98288b5",
   "metadata": {},
   "outputs": [
    {
     "data": {
      "application/vnd.microsoft.datawrangler.viewer.v0+json": {
       "columns": [
        {
         "name": "index",
         "rawType": "int64",
         "type": "integer"
        },
        {
         "name": "speech_id",
         "rawType": "object",
         "type": "string"
        },
        {
         "name": "speaker_id",
         "rawType": "object",
         "type": "string"
        },
        {
         "name": "speech_text",
         "rawType": "object",
         "type": "string"
        },
        {
         "name": "legislative_period",
         "rawType": "object",
         "type": "unknown"
        },
        {
         "name": "protocol_nr",
         "rawType": "object",
         "type": "unknown"
        },
        {
         "name": "agenda_item_number",
         "rawType": "object",
         "type": "unknown"
        }
       ],
       "ref": "03513bd4-2573-4b51-852e-5a0ede09b934",
       "rows": [
        [
         "0",
         "9b57cd98-aeb8-4568-8272-6890d3c1b0e7",
         "11003613",
         "Frau Präsidentin! Liebe Kolleginnen und Kollegen! Gerne hätte ich die Ministerin begrüßt, aber sie ist anderweitig verpflichtet – schade bei diesem\n                    Thema, das ihr ja angeblich so wichtig ist.\nUns, dem Parlament, ist es jedenfalls wichtig.\nIch möchte direkt sagen: Herr Staatssekretär, Sie haben am Ende so fröhlich gesagt, der Abwärtstrend sei beendet. Also, ich kann dem\n                    Berufsbildungsbericht nicht entnehmen, dass der Abwärtstrend beendet ist; aber vielleicht haben Sie einen anderen Bericht gelesen. Ich denke, die Zahlen sind\n                    nach wie vor besorgniserregend: Der Ausbildungsmarkt hat das Vorkrisenniveau nach wie vor nicht erreicht. Die Zahl der sozusagen Ungelernten wird immer größer.\n                    Es stehen sich tatsächlich immer mehr Plätze und immer weniger Bewerber gegenüber. Das heißt in der Tat, lieber Herr Kollege, das Matching und alles darüber\n                    hinaus ist sicherlich ein ganz, ganz wichtiges Thema, um das wir uns kümmern müssen. Ich schließe mich dem Angebot meiner geschätzten Kollegin Staffler an, dass\n                    wir hier wirklich gemeinsam gucken müssen, dass wir vorwärtskommen.\nIch möchte mich wegen der vielen wichtigen Themen, die schon angesprochen sind, gar nicht wiederholen, aber eines schon noch mal herausgreifen: Wir\n                    müssen uns das Thema Berufsorientierung deutlich stärker anschauen.\nIch habe aus der Praxis heraus schon den deutlichen Eindruck, dass bei diesem Thema zu viel generell und zu wenig individuell gemacht wird, zu wenig\n                    schulartspezifisch gemacht wird, dass alles über einen Kamm geschoren wird. Wir müssen uns hier deutlich mehr Mühe geben, insbesondere aufgrund der prekären\n                    Situation, in der die Betriebe sind, die einfach zu wenig potenzielle Fachkräfte finden. Deswegen müssen wir uns dieses Themas stärker annehmen.\nEs gab ein sehr gutes Programm, das BOP, das Berufsorientierungsprogramm. Es wandte sich speziell an Schülerinnen und Schüler der 7. und 8. Klassen,\n                    um ihnen die Möglichkeit zu geben, an Werkstatttagen Berufsfelder kennenzulernen, vorher ein Stück weit theoretisch zu erfahren, welche Angebote es gibt – im\n                    Speziellen im Handwerk. Das Programm hat super funktioniert. Es hat davon gelebt, dass das Handwerk sich aktiv eingebracht hat und immer wieder nachgeschärft\n                    hat und gesagt hat, wo die Lücken sind. Es war kein rein theoretisch ausgelegtes Berufsorientierungsprogramm, sondern sehr stark praktisch orientiert in den\n                    Berufsbildungszentren des Handwerks.\nBei diesem Programm kommt es jetzt zu Einschnitten bei den Förderrichtlinien, wodurch es insbesondere den Handwerkskammern vor Ort immer schwerer\n                    gemacht wird, an diesem Programm festzuhalten. Das halten wir für einen ganz schweren Fehler. Ich möchte Sie wirklich sehr, sehr herzlich bitten, insbesondere\n                    um den Fachkräftemangel im Handwerk nicht noch größer werden zu lassen, hier nachzuschärfen, die Förderung wieder anders aufzustellen, dem Handwerk die Hand zu\n                    reichen und ganz klar zu sagen: Wir brauchen dieses Berufsorientierungsprogramm flächendeckend, nicht nur in ausgewählten Bildungszentren, wir brauchen es\n                    gemeinsam mit dem Handwerk, wir brauchen es insbesondere nicht außerbetrieblich, sondern wir brauchen es mit den Betrieben.\nDa gilt es dringend nachzuschärfen. Dafür stehen wir gerne zur Verfügung.\nVielen Dank.\n",
         "20",
         "105",
         "5"
        ],
        [
         "1",
         "50c49b79-7529-4431-a82a-629b974f2ef9",
         "11003638",
         "Frau Präsidentin! Liebe Kolleginnen und Kollegen! „Von den 170 Seiten gehören 120 in die Tonne“, heißt es von der FDP über das Heizungsgesetz. Der\n                    FDP-Fraktionsvorsitzende Christian Dürr nennt den Gesetzentwurf „nicht beratungsreif“. 101 Fragen hat die FDP aufgeschrieben, alle richtig, alle wichtig. Man\n                    fragt sich, liebe Kolleginnen und Kollegen von der FDP: Wie konnten Sie bei so substanziellen Bedenken diesem Gesetzentwurf im Kabinett zustimmen? Was soll das\n                    Schauspiel, das Sie jetzt hier abliefern, wenn Sie dem Ganzen vorher Ihre Zustimmung gegeben haben?\nWir haben übrigens heute Morgen gelernt: Dem Wirtschaftsminister übergeben haben Sie die 101 Fragen anscheinend noch nicht. Wir werden als\n                    Serviceopposition diese 101 Fragen als Kleine Anfrage einreichen, damit Sie auch tatsächlich eine Antwort bekommen.\nDie Grünen schlagen zurück. Die Fraktionsvorsitzende der Grünen wirft der FDP „Arbeitsverweigerung“ vor. Kollege von Notz nennt die FDP\n                    verantwortungslos. „Die FDP ist eine unzuverlässige und destruktive Clique“, Lindner ist ein „König ohne Land“, so der Kollege Marcel Emmerich.\nMan könnte stundenlang so weitermachen. Material gibt es genug, allein aus den letzten zwei, drei Tagen. Nur, wie geht es den Bürgerinnen und Bürgern\n                    dabei? Wir haben eine Rekordinflation. Durchschnittsverdiener haben 400 bis 500 Euro netto im Monat weniger zur Verfügung. Viele wissen nicht, wie sie über die\n                    Runden kommen sollen, und Sie ziehen hier seit Tagen so ein Schauspiel ab. Sie maximieren Verunsicherung, Frust und Wut durch die Art und Weise, wie Sie\n                    miteinander umgehen.\nSie sorgen sich um Zeitpläne und Formalien, streiten auf Twitter. Nur um die existenziellen Ängste der Leute im echten, im realen Leben kümmert sich\n                    gerade keiner. Liebe Kolleginnen und Kollegen von der Ampel, das ist machtvergessen, das ist selbstbezogen, das ist unwürdig. Beenden Sie dieses Schauspiel!\n                    Ziehen Sie den Gesetzentwurf zurück! Gehen Sie zurück auf Los, und fangen Sie im Sinne des Klimaschutzes noch mal ganz von vorne an,\nund zwar mit einer Novelle zum Gebäudeenergiegesetz, die Fristen enthält, die Planbarkeit und Verlässlichkeit schaffen statt Überforderung, die\n                    wirklich technologieoffen ist – ohne diese Fixierung auf die Wärmepumpe –,\nund mit einer Förderung, die sicherstellt, dass niemand überfordert wird.\nAber eigentlich, liebe Kolleginnen und Kollegen, geht es um Grundsätzlicheres. Es geht um den Zustand dieser Regierung und darum, was das mit dem Land\n                    macht. Die Nationale Sicherheitsstrategie wurde kurzfristig als Tagesordnungspunkt für den morgigen Vormittag abgesetzt. Es ist Krieg in Europa, und diese\n                    Regierung hat keine Sicherheitsstrategie. Die Debatte über die China-Strategie wird verschoben und vertagt. Der Haushalt 2024 lässt auf sich warten. Der Streit\n                    um die Grundsicherung läuft seit Monaten. Planungsbeschleunigung bei der Infrastruktur wird verzögert. Der Wirtschaftsminister kündigte vorgestern in einer\n                    Pressekonferenz einen Industriestrompreis an,\nder Finanzminister sagte gestern in öffentlicher Rede ausdrücklich: Das wird so niemals kommen.\n– Ja, Sie klatschen; aber treten Sie mal einen Schritt zurück. Deutschland ist die viertgrößte Volkswirtschaft der Welt. Das, was der Wirtschafts- und\n                    der Finanzminister zu diesen industriepolitischen, wirtschaftspolitischen Fragen sagen, wird auf der ganzen Welt verfolgt. Gleichzeitig machen sich Unternehmen\n                    und Gewerkschaften Gedanken darüber, wie dieser Standort gesichert werden kann.\nWir erleben seit Tagen nicht nur in dieser einen Frage, sondern in allen politischen Fragen, dass Sie sich nicht einigen können. Das stellt\n                    mittlerweile eine Standortgefahr für die Bundesrepublik Deutschland dar.\nStress, Selbstbeschäftigung, Chaos, Blockade, auf dem Weg in die Regierungsunfähigkeit – das ist der Zustand der Koalition. Krieg in Europa,\n                    Rekordinflation, Migrationskrise, ein Land auf dem Weg in die Stagflation und kollektiv schlechte Stimmung – das sind die Themen der Bürger. Da fragt man sich –\n                    übrigens auch heute –: Wo ist eigentlich der Kanzler? Politische Führung ist mehr denn je gefragt. Aber vom Kanzler gibt es bestenfalls Durchhaltephrasen à la\n                    „You’ll never walk alone“, ansonsten Fehlanzeige. Deswegen bleiben statt der 101 Fragen eigentlich nur zwei Fragen: Hat dieser Kanzler, hat diese Regierung noch\n                    die Kraft, die Führung, den Willen, in diesen multiplen Krisen das zu tun, was nötig ist, um Deutschland und die Deutschen gut durch diese Zeit zu führen?\nUnd die zweite Frage, liebe Kolleginnen und Kollegen, ist: Hat der Kanzler, hat der Vizekanzler, hat der Finanzminister, hat diese Regierung\n                    eigentlich für das, was sie tut, noch das Vertrauen der Mehrheit dieses Parlamentes?\nDiese Frage stellt sich mittlerweile angesichts dessen, was Sie in den letzten Tagen hier aufführen.\nKollege!\nIn Zeiten der Krise braucht es politische Führung und Verlässlichkeit.\nKollege!\n",
         "20",
         "105",
         "4"
        ],
        [
         "2",
         "3be50ca2-348e-435c-a6c5-94c187a10255",
         "11003756",
         "Frau Präsidentin! Liebe Kolleginnen und Kollegen! Laut Berufsbildungsbericht haben im Jahr 2022  475 100 junge Menschen einen Ausbildungsvertrag\n                    abgeschlossen. 475 100 junge Menschen, die eine sehr gute Karriereentscheidung getroffen haben, die sich in den nächsten Jahren von Auszubildenden zu\n                    Fachkräften entwickeln werden und die unsere Wirtschaft klimagerecht und digital transformieren, mit klugem Kopf und mit geschickten Händen. Diese jungen\n                    Menschen bilden die wirtschaftliche Basis unseres Landes.\nDas gilt genauso für über 186 000 junge Menschen, die ihre Ausbildung im Gesundheits-, Sozial- und Bildungswesen angefangen haben. Das sind unter\n                    anderem unsere zukünftigen Erzieherinnen und Erzieher und Pflegekräfte, die in den Care-Branchen den demografischen Wandel gestalten helfen. Als Ausschuss für\n                    Bildung, Forschung und Technikfolgenabschätzung wünschen wir allen Azubis auf ihrem Weg zum Abschluss viel Erfolg.\nDie Anzahl neuer Ausbildungsverträge ist leicht gestiegen, zugleich die Nachfrage nach Ausbildung bei jungen Menschen leicht gesunken. Wir brauchen\n                    aber alle angesichts der Fachkräftekrise. Wir brauchen dringend mehr Meister und mehr Master. Wir dürfen kein Potenzial zurücklassen.\nGerade die 2,6 Millionen jungen Menschen zwischen 20 und 34 Jahren, die keinen Berufsabschluss haben, brauchen Perspektiven. Das ist tatsächlich eine\n                    gemeinschaftliche Aufgabe. Eröffnen wir denen zweite und dritte Chancen auf Abschlüsse und auf Anschlüsse, bieten wir allen eine qualitativ hochwertige\n                    Ausbildung!\nWir müssen – gemeinsam mit dem BMBF, den Tarifpartnern und Verbänden – das Thema Mismatching angehen; Beispiele wurden genannt. Ich meine damit nicht\n                    zuletzt auch die über 140 000 Ausbildungsverträge, die vorzeitig aufgelöst wurden, oftmals wegen falscher Erwartungen an den zukünftigen Job. Daher müssen wir\n                    Jugendliche in unseren Schulen das ganze Berufsspektrum kennenlernen lassen. Die Berufsorientierung im Land muss endlich besser werden. Nur wenn die\n                    Berufsorientierung verbessert wird, verbessert sich auch das Matching zwischen Jugendlichen und Betrieben. Da sind Bund und Länder, da sind wir alle miteinander\n                    gefordert.\nNur dann erreichen wir, was unser gemeinsames Ziel sein sollte, nämlich mehr Wahlfreiheit und mehr Durchlässigkeit für junge Menschen. Das ist eine\n                    doppelte Aufgabe: mehr Arbeiterkindern den Weg auf den Campus zu ebnen und mehr Akademikerkinder für berufliche Ausbildung zu begeistern. Auch das müssen\n                    Berufsberatung und Berufsorientierung schaffen – gerade auch an Gymnasien.\nStudium und berufliche Bildung sind gleichwertig. Die Koalition setzt hier mit ihrer Exzellenzinitiative Berufliche Bildung an, und wir untermauern\n                    das mit dem Programm „Junges Wohnen“, das erstmals Azubis ausdrücklich einbezieht.\nMachen wir auf diesem Weg weiter, indem wir unter anderem das Aufstiegs-BAföG ausweiten, die Ausbildungsgarantie einlösen, mehr Azubis mittels\n                    Erasmus+ einen Auslandsaufenthalt ermöglichen –\nKommen Sie bitte zum Schluss\n– und, letzter Satz, eine gute Lösung für ein bundesweit vergünstigtes Azubi-Ticket finden. So machen wir die berufliche Ausbildung für alle\n                    attraktiver, damit –\nDas waren jetzt ein paar Sätze mehr.\n– die jungen Menschen eine bessere Perspektive haben.\n",
         "20",
         "105",
         "5"
        ],
        [
         "3",
         "0f86f45c-8343-4916-a6d8-ded57abcb5c4",
         "11003780",
         "Frau Präsidentin! Liebe Kolleginnen und Kollegen! Herr Dr. Köhler, mit Verlaub, das Trauerspiel ist der Dauerstreit über das Heizungsgesetz in der\n                    Ampelregierung. Das ist das, was Sie hier seit Monaten aufführen.\nDas ist das, was zur Verunsicherung führt bei den Menschen. Sie stellen immer neue Pflichten in den Raum.\nSie beantworten nicht die Fragen: Wie findet der soziale Ausgleich statt? Wie geht es mit den Förderungen weiter? Was kommt auf die Menschen zu? Und\n                    statt hier eine Antwort zu geben, statt ein Gesetz vorzulegen, über das man debattieren kann, haben Sie – gerade Ihre Fraktion – die parlamentarischen\n                    Beratungen nach Monaten abgesagt. Sie haben dafür gesorgt, dass das Parlament eben nicht über ein Gesetz diskutieren kann. Mir ist es egal, ob Sie von der FDP,\n                    ob Sie von der SPD oder ob Sie von den Grünen dafür verantwortlich sind, die Ampel insgesamt hat nichts vorgelegt.\nUnd das unterscheidet uns von Ihnen.\nWir haben vor Monaten unsere Vorschläge hier vorgelegt. Wir haben einen Antrag für eine technologieoffene und sozialverträgliche Wärmewende\n                    eingebracht, und wir haben nach dem Grundsatz „Fördern und Fordern“ statt „Verbieten und Verordnen“, wie es bei Ihnen der Fall ist, unsere Vorschläge formuliert\n                    und dann eingebracht. Wir haben dazu Anhörungen durchgeführt. Wir haben es zur Abstimmung gebracht.\nSie haben es abgelehnt. Das ist Ihr Recht als Mehrheit. Aber warum sagen Sie jetzt Ihre eigenen Termine ab? Warum müssen wir die Sachverständigen\n                    wieder ausladen, die Sie am Freitagmorgen anhören wollten? Das ist Ampelversagen!\nSie sagen, das sei ein völlig normaler parlamentarischer Vorgang. Wo ist denn der parlamentarische Vorgang? Wir sprechen jetzt hier darüber, weil wir\n                    eine Aktuelle Stunde beantragt haben. Aber Sie haben gar kein Gesetz vorgelegt. Das ist nicht das Struck'sche Gesetz – das ist der Offenbarungseid, die\n                    Bankrotterklärung der Ampel in der Klimapolitik.\nUnd wenn sich Matthias Miersch für die SPD über eine Kampagne beklagt, dann frage ich: Wer ist denn da gemeint? Ist es der SPD-Kollege Limbacher, der\n                    erklärt, Habecks Heizungsgesetz verbreite Angst bei den Menschen im Saarland?\nIst die Ministerpräsidentin Rehlinger gemeint, die sagt, statt dieser vielfachen Umstellungen solle man doch besser mal die Kommunen unterstützen?\nWer ist denn da gemeint? Ist es der Ministerpräsident Woidke, der sagt, es gebe keine Antworten auf die soziale Frage; es sei noch so viel ungeklärt,\n                    dass man es um drei Jahre verschieben müsste? Wer ist gemeint?\nDann fällt mir noch ein: Olaf Scholz war hier bei der Regierungsbefragung nach 30 Stunden Koalitionsausschuss. Und wir haben ihn gefragt: Warum steht\n                    da so wenig drin zu dem Heizungsgesetz? Und ich erinnere mich gut an die Antwort. Die Antwort war: Da sind wir uns total einig. Mehr mussten wir nicht\n                    reinschreiben.\nUnd jetzt sagt er: Es braucht noch ein paar kosmetische Korrekturen. – Man fragt sich: In welcher Welt lebt dieser Bundeskanzler?\nEr hört die eigenen Forderungen aus seiner eigenen Fraktion nicht, die ja grundsätzliche Dinge in diesem Gesetz infrage stellen und nicht kosmetische\n                    Korrekturen darstellen. Grundsätzliche Fragen werden dort gestellt, und deshalb gibt es gewisse Erwartungen an den Bundeskanzler. Er hat sich plakatieren lassen\n                    als Klimakanzler. Hier geht es um eine wichtige klimapolitische Weichenstellung. Wo ist dieser Klimakanzler? Wir haben ihn hier im Parlament nicht gesehen, seit\n                    er sein Amt angetreten hat. Es ist seine Aufgabe, hier mit Führungsgeschick zu einem Ergebnis zu kommen,\nweil wir Klarheit brauchen, weil die Menschen Klarheit brauchen.\nIch will Ihnen sagen, was unsere Linie ist und was wir beschlossen haben. Wir haben übrigens von 1990 bis 2021 45 Prozent CO2 bei den Gebäuden\n                    eingespart.\nWir haben das mit dem Klimapaket 2019 noch beschleunigt.\nWir haben das vorangebracht. Wir haben im Vermittlungsausschuss dafür die Weichen gestellt.\nWir haben die CO2-Bepreisung eingeführt: ein moderater Einstieg und Schritt für Schritt Aufwuchs. Matthias Miersch, wir haben es gemeinsam\n                    beschlossen. Das kann man alles nachlesen. Die Ampel hat es im letzten Jahr ausgesetzt. Unser schrittweiser Aufwuchs ist das Gegenteil dessen, was die Ampel\n                    vorhat. Bei uns weiß man genau: Es ist ein moderater Einstieg und wird jedes Jahr teurer. Die Botschaft lautet nicht: „Es kann alles so bleiben, wie es\n                    ist“,\nsondern: Die Fossilen werden Schritt für Schritt teurer, aber jeder kann sich darauf einstellen. – Wir haben das mit einer Förderung verbunden: Wer in\n                    eine neue Heizung investiert, wer sich für eine Ökoheizung entscheidet, der bekommt eine Förderung. Was hat die Ampel bisher gemacht? Sie hat die Förderung\n                    gekürzt.\nWir haben eine Förderung von 50 Prozent beim Heizungstausch vorgesehen. Jetzt gibt es noch 40 Prozent beim Einbau einer Wärmepumpe. Nach Habeck und\n                    Geywitz soll es jetzt 30 Prozent geben. Das ist eher eine neue Kürzung als eine zusätzliche Förderung. Damit schafft man Verunsicherung.\nDa es so viele Zurufe von den Grünen gibt: Bedenken Sie, was Ministerpräsident Kretschmann gestern gesagt hat. Er sagte: Man kann von den Menschen\n                    nichts verlangen, was sie nicht machen können. – Ein wahrer Satz!\nDer wirft ein Schlaglicht darauf, dass dieses Gesetz eben nicht technologieoffen ist.\nKommen Sie bitte zum Schluss.\nSie schreiben alle Optionen rein: Wärmenetze, Heizen mit Holz, Biomethan, Wasserstoff. Aber wenn ich genau hinschaue, –\nHerr Kollege, kommen Sie jetzt bitte zum Schluss.\n– komme ich zu dem Schluss, dass das, was Ministerpräsident Kretschmann gesagt hat, richtig ist.\nIch werde jetzt das Mikrofon ausstellen.\nDeswegen muss dieses Gesetz grundlegend geändert werden.\n",
         "20",
         "105",
         "4"
        ],
        [
         "4",
         "70dc3c4b-ccc7-4cf8-85c3-ea99fb894689",
         "11003797",
         "Sehr geehrte Frau Präsidentin! Sehr geehrter Herr Abgeordneter, aus der Erfahrung, die ich gerade mache, kann ich sagen, dass man als Bundesminister\n                    mehr Einfluss hat als als einzelner Abgeordneter, selbst wenn man Sprecher ist.\n",
         "20",
         "105",
         "2"
        ],
        [
         "5",
         "76380601-9b2e-4ecd-b9ab-dc2f659c7ad3",
         "11003797",
         "Die erste Lesung wird jetzt erfolgen, und wir werden dieses Gesetz vor der Sommerpause abschließen.\nIch möchte aber noch einmal darauf hinweisen: Das ist eine Initiative der Bundesregierung. Wir haben diese 2,5 Milliarden Euro zu einem Zeitpunkt zur\n                    Verfügung gestellt, als von Ihrer Seite noch nicht mal ein Antrag vorlag. Ich bin daher überrascht, dass Sie sich beklagen, dass das Gesetz nicht schnell genug\n                    kommt. Wenn es davon abgehangen hätte, dass es aus Ihren Reihen kommt, hätte es gar keine solche Initiative gegeben.\nDie erste Lesung steht unmittelbar bevor.\n",
         "20",
         "105",
         "2"
        ],
        [
         "6",
         "88ac514a-a8f2-47b2-8223-e4e687bc1d86",
         "11003797",
         "Sehr geehrte Frau Präsidentin! Sehr geehrter Abgeordneter, diese Frage kann ich nur damit beantworten: Es wird ja ein Bundesgesetz sein, und\n                    Bundesgesetze gelten auch in Bayern.\n",
         "20",
         "105",
         "2"
        ],
        [
         "7",
         "d73d1a32-3665-4d96-8762-e55581f24781",
         "11003797",
         "Frau Präsidentin! Meine sehr geehrten Kolleginnen und Kollegen! Wir beraten heute erneut ein wichtiges Gesetz in der Gesundheitsversorgung, ein\n                    Gesetz, das sich wie folgt zusammenfassen lässt: Das Problem ist schon lange bekannt, aber wir haben zu lange gewartet, um eine Lösung herbeizuführen.\nWir sind mittlerweile mit Lieferengpässen für mehr als 450 Arzneimittel konfrontiert. Bei diesen Arzneimitteln handelt es sich nicht nur um\n                    Arzneimittel, bei denen es nicht darauf ankommt, ob ich diese Arzneimittel oder eine Alternative bekomme, sondern es sind oft auch Arzneimittel, für die es\n                    keine gleichwertige Alternative gibt. Es können sogar Arzneimittel sein, die die Krebsbehandlung oder andere schwere chronische Erkrankungen betreffen. Das ist\n                    ein nicht akzeptabler Zustand, den wir viel zu lange haben gewähren lassen. Für diesen Zustand gibt es im Wesentlichen drei Gründe, die man unterteilen\n                    kann:\nZum Ersten. In der Nachfolge der Pandemie gab es einen ausgesprochen schweren Befall von Kindern, aber auch Erwachsenen mit Infektionskrankheiten, die\n                    nachgeholt werden. Das hat die Antibiotikaversorgung fast unmöglich gemacht; denn in der Pandemie ist weniger produziert worden. Es gab weniger Vorrat; dann ist\n                    mehr abgebaut worden, als nachkam. Von daher haben wir dort einen Engpass, der mit der Pandemie zusammenhängt.\nWir haben darüber hinaus Lieferketten in der Pandemie verloren, die nicht mehr da sind.\nZum Dritten. Wir haben ein Systemproblem. Viele generische Arzneimittel sind in Deutschland durch Rabattverträge und andere Preismoratorien, die wir\n                    verhängt haben, so billig auf dem Markt, dass sie, wenn ein Engpass auftritt, zuerst in Deutschland nicht mehr verfügbar sind. Denn dort, wo der Preis am\n                    niedrigsten ist, wird man zuerst nicht mehr beliefert.\nDas ist das Problem, und wir wollen dieses Problem in drei Stufen angehen:\nDie wichtigste Stufe ist die langfristige Stufe: Wir müssen einen Teil der Produktion wieder nach Europa zurückholen. Es wird langfristig nicht\n                    möglich sein, bei wichtigen Generika allein auf Lieferungen aus Asien oder anderen Ländern angewiesen zu sein. Das heißt, eine Rückführung der Produktion nach\n                    Europa ist ein ganz wichtiges Ziel.\nDas ist die ursächliche Therapie. Damit beginnen wir bei den Antibiotika; dort werden dann die Ausschreibungen so verknüpft, dass es ein europäisches\n                    Los und ein außereuropäisches Los geben muss. Wenn das dann eingespielt ist, werden wir das auf andere Bereiche ausdehnen. Das kann über den Verordnungsweg\n                    geschehen. Wir planen, das dann zum Beispiel auch bei den Onkologika einzuführen, sodass wir ein rollierendes System bekommen.\nZum Zweiten. Wir brauchen eine bessere Früherkennung. Daher werden wir die Früherkennung mit dem BfArM zusammen noch verstärken. Wir werden auch die\n                    Arzneimittelfirmen verpflichten, uns präziser und früher drohende Lieferengpässe mitzuteilen, sodass wir entsprechende Gegenmaßnahmen ergreifen können.\nZum Dritten. Wir werden – das ist sehr bedeutsam – einfach die Lagerhaltung verbessern. Drei Monate Lagerhaltung sind für die meisten Arzneimittel,\n                    die hier angesprochen werden, ein Zeitraum, mit dem man einen Lieferengpass auch langfristig umgehen kann, weil Lieferengpässe in der Regel nicht über einen\n                    längeren Zeitraum anhalten. Und wenn die Lieferkette dann tatsächlich zusammenkracht, sehen wir den Lieferengpass früh.\nWir holen die Produktion zurück nach Europa. Wir haben eine lange Lagerhaltung. Und dazu noch rollierend. Damit ist das System einfach besser.\nDie Ökonomisierung haben wir in diesem Bereich zu stark vorangetrieben. Wir haben die Ökonomieschraube überdreht, wenn man so will. Unsere\n                    Rabattverträge haben uns geholfen, die Preise zu halten; das ist auch richtig. Aber die Rabattverträge dürfen nicht so funktionieren, dass es einfach unmöglich\n                    ist, noch in Europa zu produzieren; das wäre falsch. Daher werden wir auch die Art und Weise, wie Rabattverträge funktionieren, noch einmal überprüfen. In\n                    unserem Entwurf ist vorgesehen, dass zum Beispiel die Zuzahlungsbefreiung schon erreicht werden kann, wenn der Festbetrag nur um 20 Prozent unterschritten wird.\n                    Das ist eine Bewegung in die richtige Richtung.\nInsgesamt ist das also ein sehr wichtiges Gesetz. Wir werden insbesondere bei den Kindern Sofortmaßnahmen ergreifen, sodass die Festbeträge und die\n                    Rabattverträge bei Kinderarzneimitteln ausgesetzt werden. Es ist ein Gesetz, das lange überfällig ist. Ich bin dankbar, dass wir es jetzt beraten können.\nIch freue mich auf eine gute Beratung und danke Ihnen für die Unterstützung, aber auch für die vorzügliche Aufmerksamkeit heute.\n",
         "20",
         "105",
         "7"
        ],
        [
         "8",
         "3e0dc26d-5c18-41a3-85f4-e70135aa9444",
         "11003797",
         "Sehr geehrte Frau Präsidentin! Sehr geehrter Herr Abgeordneter, zunächst einmal: Die Prämisse ist natürlich falsch. Wenn ich etwas um 4,5 Prozent\n                    dynamisiere, ist das keine Kürzung. Das Entlastungsbudget führt dazu, dass gerade die pflegenden Angehörigen in der Verhinderungs- und in der Kurzzeitpflege\n                    eine deutliche Entlastung bekommen: im ersten Jahr der Einführung 250 Millionen Euro, im zweiten Jahr 650 Millionen Euro und im Jahr darauf 800 Millionen Euro.\n                    Das sind deutliche Entlastungen. Darum sind wir gebeten worden von den pflegenden Angehörigen. Das ist auch ein Ergebnis der Anhörung gewesen. Das haben wir\n                    umgesetzt.\n",
         "20",
         "105",
         "2"
        ],
        [
         "9",
         "b3a15d56-7c71-4298-b817-ed193131fd69",
         "11003797",
         "Frau Präsidentin! Meine sehr verehrten Kolleginnen und Kollegen! Ich möchte mich zunächst einmal den Worten von Bundesverteidigungsminister\n                    Pistorius anschließen. Auch wir verurteilen den menschenrechtswidrigen Angriffskrieg von Putin gegen das Volk der Ukraine auf das Schärfste. Jeden Tag werden\n                    Kinder, Zivilisten, alte Menschen, behinderte Menschen, unschuldige Menschen verletzt. Das ist nicht hinzunehmen.\nDeutschland unterstützt sehr intensiv. Wir sind tätig, indem wir die Ukraine zum Beispiel mit Prothesen versorgen. Dort gibt es sehr viele Verletzte,\n                    die Arme und Beine verlieren. Wir versorgen Schwerstverletzte in unseren Spezialkliniken. Wir sind darüber hinaus in der Ausbildung von Chirurgen und\n                    Spezialkräften unterwegs, und wir unterstützen telemedizinisch. Ich möchte daher allen beteiligten Ärztinnen und Ärzten sowie Pflegekräften, die diese Arbeit\n                    leisten, aber auch den Orthopäden und den Spezialisten an dieser Stelle ganz herzlich für diese Leistung danken.\nAuch diese zivile Leistung ist eine große Leistung. Ich bin im engen Austausch mit dem ukrainischen Gesundheitsminister Wiktor Ljaschko. Wir haben\n                    zugesagt, dass wir auch beim Aufbau der zivilen Strukturen, der Krankenhausstrukturen intensiv mitarbeiten werden. Das habe ich ihm bei der\n                    Weltgesundheitsversammlung mitgeteilt, und das werden wir einhalten.\nWir sind nicht nur im Bereich der Verteidigung, sondern auch in anderen Bereichen in der Situation, dass vieles liegen geblieben ist. Der Begriff der\n                    Zeitenwende ist hier schon häufig verwendet worden. Er ist auch hier angemessen. Ich bringe ein paar Beispiele.\nSeit Jahren haben wir zu wenige Pflegekräfte. Viele ausländische Pflegekräfte können wir für die deutsche Pflege nicht anwerben, obwohl sie eigentlich\n                    gut ausgebildet sind. Die Anerkennungsverfahren sind nicht angemessen. Wir prüfen theoretische Inhalte und nicht die praktischen Fähigkeiten. Heute haben wir im\n                    Kabinett ein Gesetz verabschiedet, in dem vorgesehen ist, dass wir diese Kenntnisse, die ja da sind, praktisch prüfen, sodass viel mehr dieser Menschen hier\n                    arbeiten können.\nWir brauchen mehr studierte Pflegekräfte. International werden 10 Prozent angestrebt. 1 Prozent erreichen wir nur. Wir werden dieses Verfahren\n                    vereinfachen und die Studierenden hier auch unterstützen, und wir werden die Pflege digitalisieren. Das sind Gesetze, die lange liegen geblieben sind. Wir\n                    werden das machen.\nWir werden in dieser Woche das Pflegeunterstützungs- und -entlastungsgesetz verabschieden. Wir haben dort sehr intensiv verhandelt und haben einen\n                    guten Kompromiss gefunden. Das wird noch einmal die Pflegekräfte zu Hause, die Angehörigen, stärken. Ein Entlastungsbudget ist beschlossen worden, sodass diese\n                    Menschen nicht überfordert werden in der Pflege, die sie leisten. Wir werden diejenigen, die in stationärer Pflege sind, durch eine erhöhte Bezuschussung\n                    entlasten. Auch das ist eine Maßnahme, die liegen geblieben war und die wir nun in zweiter und dritter Lesung am Freitag beschließen werden.\nAuch im Bereich der Arzneimittelversorgung gibt es seit Jahren bekannte Lieferengpässe und Defizite. Über 450 Arzneimittel sind nicht lieferbar. Wir\n                    sind ein sehr reiches Land. Zum Teil sind die Medikamente für unsere Kinder nicht lieferbar. Die Kinder haben in der Pandemie sehr viel gelitten, haben viel\n                    mitgemacht. Wir haben jetzt keine Medikamente. Das ist ein nicht hinnehmbarer Zustand für unser reiches Land. Daher werden wir heute zur ersten Lesung das\n                    Arzneimittel-Lieferengpassbekämpfungsgesetz einbringen. Das ist ein wichtiges Gesetz, das dafür sorgen soll, dass wir durch Lagerhaltung, dass wir durch\n                    Verzicht auf Festbeträge, dass wir durch Verzicht auf Rabattverträge diese Arzneimittel zur Verfügung stellen.\nEs kann nicht angehen, dass die Arzneimittel in unseren Nachbarländern noch verfügbar sind und in Deutschland nicht. Das werden wir abstellen. Dieses\n                    Gesetz wäre schon länger nötig gewesen. Auch hier sind wir aktiv. Heute wird die erste Lesung sein.\nWir haben auch im Bereich der Krankenhausversorgung ganz große Defizite. Wir haben eine Situation, wo tatsächlich viele Pflegekräfte und auch\n                    Ärztinnen und Ärzte das Krankenhaus verlassen, dort nicht mehr arbeiten wollen. Dort wird fließbandähnlich gearbeitet. Es wird alles über Fallpauschalen\n                    bezahlt, in einer Art und Weise, wie das kein anderes europäisches Land macht. Hier müssen wir zu einer Entökonomisierung kommen. Es muss wieder die Medizin\n                    stärker im Vordergrund stehen. Wir müssen zu einer Entbürokratisierung kommen. 30 Prozent der Arbeitszeit junger Ärztinnen und Ärzte gehen für bürokratische\n                    Aufwände verloren.\nWir brauchen eine bessere Qualität. Die wird erreicht, indem die schwierigen Eingriffe zentralisiert werden. Die Deutsche Krebsgesellschaft schätzt,\n                    dass durch die Zentralisierung der Eingriffe – das, was wir jetzt mit unserer Krankenhausgesetzgebung verfolgen – 10 000 Krebstote pro Jahr vermieden werden\n                    können. Das ist ein sehr wichtiges Gesetz. Daran haben wir gestern mit den Bundesländern gearbeitet. Es waren sehr wichtige, sehr gute Verhandlungen. Ich hoffe,\n                    dass wir noch vor der Sommerpause mit Eckpunkten dieses Gesetzes, das seit zehn Jahren überfällig ist, aufwarten und über die Sommerpause den Referentenentwurf\n                    beschließen können. Ich darf mich bei den Koalitionären ganz herzlich bedanken. Der Bund hat gestern eine gute Formation gezeigt. Wir haben sehr gut\n                    zusammengestanden und sind mit den Ländern auf dem richtigen Weg. Die nächste Sitzung der Bund-Länder-Arbeitsgruppe wird schon am 1. Juni stattfinden. Wie\n                    gesagt: Wir erwarten Eckpunkte noch vor der Sommerpause.\nLassen Sie mich zum Schluss nochmals darauf hinweisen – der Bundesverteidigungsminister hat es gesagt –: Vieles ist liegen geblieben. – Er hat ja so\n                    recht! Das gilt insbesondere für die Digitalisierung im Gesundheitssystem. Wir sind abgeschlagen. Wir sind nicht unter den besten 10. Wir sind nicht unter den\n                    besten 15. Wir haben Glück, wenn wir zu den besten 20 zählen. Hier ist vieles liegen geblieben.\nWir arbeiten daher an wichtigen Gesetzesinitiativen. Wir werden ein Digitalgesetz vorlegen, mit dem die elektronische Patientenakte bis Ende 2024 als\n                    Opt-out-Lösung zur Verfügung steht.\nWir rechnen damit, dass 80 Prozent der Versicherten im Jahr 2025 diese Opt-out-Lösung haben. Wir werden die digitalen Daten so zusammenführen, dass\n                    sie auch für die Forschung, etwa die Krebsforschung, zur Verfügung stehen.\n",
         "20",
         "105",
         "2"
        ],
        [
         "10",
         "5d2fad95-d394-41bb-a3d9-ef48b4bae1fd",
         "11003797",
         "Sehr geehrte Frau Präsidentin! Sehr geehrte Frau Abgeordnete, vielen Dank für diese Frage. Die Prämisse Ihrer Frage ist nicht richtig, weil die\n                    Energiekosten natürlich in den Verhandlungen mit den Pflegekassen an diese weitergegeben werden können und auch auf die Bewohner der Einrichtungen umgelegt\n                    werden müssen.\nWir haben in den Pflegeeinrichtungen derzeit in der Tat mit Engpässen zu kämpfen. Das ist auch der Grund, weshalb das Pflegeunterstützungs- und\n                    -entlastungsgesetz, welches wir in zweiter und dritter Lesung am Freitag beschließen werden, keine Minute zu früh kommt. Auch hier ist es so wie im\n                    Geschäftsbereich von Bundesverteidigungsminister Pistorius, wie eben schon ausgeführt wurde, dass halt sehr viel liegen geblieben ist. Dazu zählt, dass hier in\n                    der letzten Legislaturperiode Ausgaben für die Pflege beschlossen worden sind, die nicht refinanziert worden sind. Insbesondere sind die Pflegeeinrichtungen zum\n                    Teil auf den Kosten der Coronamaßnahmen sitzen geblieben. Das ist umso weniger verständlich, weil damals noch Geld da war. Damals hatten wir noch nicht die\n                    Mehrbelastungen durch den Ukrainekrieg.\nDas können Sie jetzt aber nicht mehr alles ausführen, Herr Lauterbach.\nNein, ich will aber nur darauf hinweisen – diesen einen Satz noch –: Mich wundert es; denn in der Union ist in der Zeit, wo noch Geld da war, in der\n                    Pflege viel zu wenig ausgegeben worden.\nJetzt ist das Geld knapp, und wir nehmen 7 Milliarden Euro in die Hand.\nDas muss auch gewürdigt werden.\n",
         "20",
         "105",
         "2"
        ],
        [
         "11",
         "f5d168a5-7129-4349-b5b9-f7500a8efd8f",
         "11003797",
         "Sehr geehrte Frau Präsidentin! Sehr geehrter Herr Abgeordneter, vielen Dank für die Frage. Wir haben uns erst gestern wieder sehr intensiv mit den\n                    Ländern beraten, und wir haben eine sehr gute Beratung gehabt. Wir sind im Prinzip jetzt so weit, dass wir noch vor der Sommerpause damit rechnen können,\n                    Eckpunkte vorzulegen. Der Kanon der Beratungen gestern war, dass ein solches Gesetz ohne Alternative ist,\ndass wir hier tatsächlich ein Gesetz einbringen werden, durch das die Qualität besser wird, mit dem wir entbürokratisieren und mit dem wir auch den\n                    ökonomischen Druck von den Kliniken nehmen. Es waren sehr gute Beratungen. Wir haben daher beschlossen, dass wir die Beratungen mit den Ländern bereits am\n                    1. Juni 2023 fortsetzen und dann auch die Öffentlichkeit mit den Ergebnissen konfrontieren werden. Ich glaube, dass wir noch in der Sommerpause einen\n                    Referentenentwurf entwickeln können. Das ist keine Kleinigkeit; denn – denken Sie mal darüber nach – dieses Gesetz ist ja seit mehr als zehn Jahren überfällig.\n                    Wir sind hier mit den Ländern auf einem sehr guten Weg. Daher waren die Verhandlungen, die wir gestern gehabt haben, aus meiner Sicht sehr vielversprechend.\n",
         "20",
         "105",
         "2"
        ],
        [
         "12",
         "56075616-8ee2-46fb-a182-983dd239c191",
         "11003797",
         "Sehr geehrte Frau Präsidentin! Sehr geehrter Herr Abgeordneter, die Übersterblichkeit wird natürlich von den deutschen Fakultäten wissenschaftlich\n                    untersucht; sie wird durch die Wissenschaftler untersucht, die sich mit dieser Frage international seit langer Zeit beschäftigen. Die deutsche Übersterblichkeit\n                    wird ja auch von internationalen Arbeitsgruppen untersucht.\nFalls Sie hier darauf hinweisen wollen, dass es möglicherweise so sei, dass die Übersterblichkeit durch die verabreichten Impfungen entstanden ist:\n                    Dafür haben wir keinerlei Hinweise; das ist medizinisch nicht plausibel. Das ist eine gefährliche Räuberpistole. Ich würde Sie daher bitten, nicht in diese\n                    Richtung auch nur zu gestikulieren.\n– Ich sage das deshalb, weil man das von Ihnen schon gehört hat.\nMan muss offen sagen: Eine gewisse Übersterblichkeit ist in einer solchen Pandemie zu erwarten, weil nicht alle Krankheiten gleichzeitig behandelt\n                    werden können. Es haben mehr Menschen ihre Krebsvorsorge nicht wahrgenommen. Es haben mehr Menschen ihre Herz-Kreislauf-Erkrankungen nicht so intensiv behandeln\n                    lassen können, wie das sonst möglich gewesen wäre. Das sind Nebenwirkungen einer solchen Pandemie; das wird genau untersucht.\nDiese Untersuchungsergebnisse werden von uns ausgewertet und Ihnen zu gegebener Zeit auch vorgestellt.\n",
         "20",
         "105",
         "2"
        ],
        [
         "13",
         "a3a89193-ecaf-4872-bf8c-a03d9f278ec1",
         "11003797",
         "Sehr geehrte Frau Präsidentin! Sehr geehrter Herr Abgeordneter, wenn Sie mich hier lange nicht mehr ohne Maske gesehen haben, dann kann es nur daran\n                    liegen, dass Sie nicht so oft im Plenum sind.\nDie Erkenntnisse von damals – also die damalige Bertelsmann-Studie – sind jetzt viele Jahre alt, und das sind keine relevanten Erkenntnisse von heute\n                    mehr. Die gesamte Situation in der Krankenhausversorgung hat sich seitdem verändert. Wir haben sehr viel Personal verloren. Wir haben mehr Bedarf, zum Teil\n                    haben wir mehr Einwohner. Das heißt, es ist eine alte Studie, die für heute keine Relevanz mehr hat und somit auch nicht von mir kommentiert werden muss.\nWas die heutige Situation angeht – da darf ich mich für die guten Verhandlungen gestern bei den beteiligten Kolleginnen und Kollegen von der Ampel\n                    bedanken –: Die Qualitätsoffensive geht nicht über die Schließung von Krankenhäusern. Wir wollen keine Krankenhäuser schließen, sondern, im Gegenteil, diese\n                    Reform hat zum Zweck, dass die Krankenhäuser am Netz bleiben können, die ohne die Reform schließen müssten, wie ich das eben ausgeführt habe.\nUnd zur Qualität: Ohne diese Reform würden zahlreiche – –\nHerr Lauterbach, Sie können hier jetzt nicht die ganze Reform referieren. Da kommt zu Recht die Meldung von Herrn Hoppenstedt, und ich vermute, dass\n                    er sagt: Sie überziehen permanent die Zeit. Und das geht von der Fragezeit der Kolleginnen und Kollegen hier im Parlament ab.\nDeshalb bitte ich darum, die Antworten kurz zu halten.\nIch bitte die Kolleginnen und Kollegen um Verzeihung. Ich habe tatsächlich in dem Enthusiasmus, die Reform hier darzustellen, die Zeit überzogen.\n                    Aber ich glaube, der Punkt war auch schon gemacht.\n",
         "20",
         "105",
         "2"
        ],
        [
         "14",
         "0a291e36-e021-46df-82db-a243e5cd895f",
         "11003797",
         "Ja, Frau Präsidentin. Wie gesagt: Entschuldigung, dass ich überzogen habe; das wollte ich nicht.\nSehr geehrte Frau Abgeordnete, die 2,5 Milliarden Euro sind ja zusätzliches Geld. Sie würden nicht fließen, hätten wir den Mechanismus nicht\n                    verändert. Somit ist das tatsächlich Geld, das sonst nicht käme.\nUnd was die Sachkosten angeht: Das wird bei der Berechnung der Landesbasisfallwerte wieder eingerechnet.\n",
         "20",
         "105",
         "2"
        ],
        [
         "15",
         "53aa4a08-af5e-4595-9c75-6df701c40ce7",
         "11003797",
         "Sehr geehrte Frau Präsidentin! Sehr geehrte Frau Abgeordnete, Sie sprechen einen sehr wichtigen Punkt an. Häufig ist es in den Notfallzentren nicht\n                    möglich, psychisch erkrankte Menschen als solche zu erkennen; die Versorgung ist dann suboptimal. Im Rahmen der jetzt geplanten Reform der Notfallversorgung\n                    werden wir dem Rechnung tragen und dafür sorgen, dass in den gemeinsamen Notfallzentren auch die psychische Erkrankung und die psychische Störung klar und früh\n                    erkannt werden kann, sodass dort eine Versorgungslücke geschlossen werden kann, die schon seit Jahren besteht.\n",
         "20",
         "105",
         "2"
        ],
        [
         "16",
         "e38db016-a326-454b-879f-6fb7528e31ab",
         "11003797",
         "Sehr verehrte Frau Präsidentin! Liebe Abgeordnete! Selbstverständlich werden wir über die präzisen Summen, die hier zur Verfügung gestellt werden,\n                    noch beraten. Wir beraten den Gesetzentwurf zwar heute in erster Lesung. Aber ich bitte Sie, Folgendes zu beachten: Die Vergütung gilt jeweils pro Abgabe. Das\n                    heißt, wenn ich zum Beispiel 100 Medikamente abgebe und es immer das gleiche Medikament ist, dann kommen ja schon 50 Euro zustande. Somit muss man das in der\n                    Summe sehen. Jedenfalls werden wir über die präzisen Summen noch diskutieren. Dafür gibt es Anhörungen; dafür wird es zum Schluss auch das parlamentarische\n                    Verfahren geben.\nLassen Sie mich aber Folgendes in den Vordergrund stellen: Wir haben dieses Problem seit zehn Jahren. Jetzt gehen wir als Ampelregierung im Sinne\n                    einer Fortschrittsbeschleunigung dieses Problem an. Wir kommen sehr schnell mit einem durchdachten Gesetzentwurf, und wir setzen unser Vertrauen auf die\n                    Abgeordneten, hier im Detail noch die eine oder andere Verbesserung zu ermöglichen.\n",
         "20",
         "105",
         "2"
        ],
        [
         "17",
         "556226f2-10aa-485b-a3cf-76ca218e0ca4",
         "11003797",
         "Sehr geehrte Frau Präsidentin! Sehr geehrter Herr Abgeordneter, zunächst einmal muss ich darauf hinweisen, dass das Kabinett weitere Hilfszahlungen\n                    in Höhe von 2,5 Milliarden Euro als direkte Energiehilfen zur Verfügung gestellt hat. Das haben wir gemacht, ohne dass das von Ihnen überhaupt gefordert worden\n                    wäre. Wenn jetzt die entsprechenden Beschlüsse im Parlament so schnell wie möglich gefasst werden, ist uns das recht. Das Verfahren im Kabinett ist\n                    abgeschlossen. Ich gehe von einer schnellen positiven Befassung hier im Hohen Haus aus. Dann bekommen die Krankenhäuser genau die Energiehilfe, die sie\n                    benötigen. Das ist von der Deutschen Krankenhausgesellschaft zu Recht begrüßt worden. Wir haben da Wort gehalten.\nWie gesagt: Der Kabinettsbeschluss ist lange gefasst. Das, was wir tun können, ist lange erledigt. Jetzt ist es also am Deutschen Bundestag, hier so\n                    schnell wie möglich zum Abschluss zu kommen.\n",
         "20",
         "105",
         "2"
        ],
        [
         "18",
         "64691a1d-bb31-4cdd-8efe-783e85182369",
         "11003797",
         "Sehr geehrte Frau Präsidentin! Sehr geehrte Abgeordnete, zunächst einmal müssen Sie zur Kenntnis nehmen, dass wir beschlossen haben, dass diese\n                    Modellprojekte durch die Kommunen weitergeführt werden. Das wäre ja nicht selbstverständlich gewesen. Wir sorgen dafür, dass es weitergeht. Für die Anträge, die\n                    wir bisher gesehen haben, wird das, was wir zur Förderung zur Verfügung stellen, auch reichen. Das Problem ist nicht, dass zu wenig erforscht wird, sondern,\n                    dass zu wenig umgesetzt wird. Auch daran arbeiten wir. Ich hoffe, dass wir daran gemeinsam arbeiten können. Die Kommunen wissen, was gemacht wird, sie machen\n                    Projekte, die dann aber nicht in die Fläche gebracht werden. Daran können wir nur gemeinsam arbeiten.\n",
         "20",
         "105",
         "2"
        ],
        [
         "19",
         "5edd852e-3acb-4968-99ac-7e2032c446f0",
         "11003797",
         "Sehr geehrte Frau Präsidentin! Sehr geehrter Herr Abgeordneter, zunächst einmal: Die Dynamisierungen machen 4,5 Prozent aus und die Erhöhung der\n                    Leistungen zusätzliche 5 Prozent. Das sind dann insgesamt 9,5 Prozent. Und die von Ihnen in Rede gestellte Inflation kann ich so nicht bestätigen.\n",
         "20",
         "105",
         "2"
        ],
        [
         "20",
         "acb4a490-255b-4ce2-9650-8bcc7b40660b",
         "11003797",
         "Sehr geehrte Frau Präsidentin! Sehr geehrter Herr Abgeordneter, wie ich bereits ausgeführt habe: Die deutschen Wissenschaftler und die Universitäten\n                    arbeiten an diesen Fragen. Wir sind auch im engen Austausch mit dem Corona-Expertenrat der Bundesregierung. Ich muss darauf hinweisen: Es darf nicht der\n                    Eindruck entstehen, als wenn es hier nur eine Übersterblichkeit gebe, sondern wir wissen natürlich auch, dass im Rahmen der Coronabekämpfung das Leben von\n                    Hunderttausenden Menschen gerettet werden konnte, die gestorben wären, wenn wir nicht diese Maßnahmen ergriffen hätten.\nSie dürfen das jetzt nicht so darstellen, als wenn die Nebenwirkungen der Impfungen hier im Vordergrund stehen. Das ist ja das, worauf Sie\n                    hinauswollen. Wir dürfen uns hier nicht dümmer stellen, als wir sind.\nNennen wir die Dinge doch beim Namen: Sie wollen doch durch eine solche Frage unterstellen, dass es in Wirklichkeit so gewesen sei, dass mehr Menschen\n                    überlebt hätten, wenn wir die Coronapandemie nicht so konsequent bekämpft hätten.\nDas ist die Unwahrheit; das ist nicht richtig. Das ist durch keine wissenschaftlichen Erkenntnisse gedeckt.\nSobald wir nähere Erkenntnisse zu den detaillierten Gründen der Übersterblichkeit haben, kann ich das sagen. Das, was man weiß, habe ich schon\n                    vorgetragen: Es sind Krebsuntersuchungen nicht gemacht worden; die Vorsorgeuntersuchungen sind aufgeschoben worden; die ein oder andere Operation bei\n                    Herz-Kreislauf-Erkrankungen konnte nicht stattfinden, weil die Intensivstationen voll waren. Das wissen wir ja alles, und das dürfte auch Ihnen bekannt sein,\n                    wenn Sie sich tatsächlich für dieses Thema interessieren.\n",
         "20",
         "105",
         "2"
        ],
        [
         "21",
         "71c5267d-c721-4ee1-8870-931c82519e21",
         "11003797",
         "Sehr geehrte Frau Präsidentin! Sehr geehrter Herr Abgeordneter, der Kabinettsentwurf befindet sich derzeit in der Ressortabstimmung. Ich rechne\n                    daher damit, dass wir noch vor der Sommerpause eine entsprechende Befassung hier veranlassen können.\n",
         "20",
         "105",
         "2"
        ],
        [
         "22",
         "4509b1f2-24ce-4950-a741-aada3a4617e8",
         "11003797",
         "Sehr geehrte Frau Präsidentin! Sehr geehrter Herr Abgeordneter, ja, ich stimme Ihnen zu. Und das ist der Grund, weshalb die Bundeswehrkrankenhäuser\n                    im Eckpunktepapier im ersten Entwurf auch gesondert ausgewiesen sind.\n",
         "20",
         "105",
         "2"
        ],
        [
         "23",
         "1d35b703-6f13-4435-826c-c0312b84e8df",
         "11003797",
         "Sehr geehrte Frau Präsidentin! Vielen Dank für die Nachfrage, Herr Abgeordneter. Zunächst einmal ist es ja ein Problem, das nicht von alleine\n                    weggeht. Wir haben eine steigende Anzahl Abhängiger. Wir haben mehr Drogenkonsum. Wir haben hier Kriminalität. Wir haben ein Problem, das wir nicht in Griff\n                    bekommen; da müssen wir uns ehrlich machen. Wenn man den Schwarzmarkt in den Hintergrund rücken und die Beschaffungskriminalität in den Griff bekommen will,\n                    dann muss man ein Gesetz einbringen, das zum einen den Jugend- und Kinderschutz sichert, zum anderen aber auch einen legalen, qualitätsgesicherten Konsum\n                    erlaubt. Daran arbeiten wir.\n",
         "20",
         "105",
         "2"
        ],
        [
         "24",
         "db254216-706f-45e5-87eb-d4d01ce590a0",
         "11003797",
         "Sehr geehrte Frau Präsidentin! Sehr geehrte Abgeordnete, vielen Dank für diese Frage. – Wir haben heute im Kabinett tatsächlich das\n                    Pflegestudiumstärkungsgesetz verabschiedet. In der Tat ist es eine sehr wichtige Initiative. Wir werden damit dazu übergehen, dass für die praktischen Teile im\n                    Studium eine Vergütung gezahlt wird, sodass die Studienplätze auch gefüllt werden. Jeder zweite Studienplatz ist derzeit nicht gefüllt. Wir müssen den\n                    Absolventinnen und Absolventen dieses Studiums auch gute Karrieremöglichkeiten eröffnen; daran wird intensiv gearbeitet. Ich gehe davon aus, dass wir innerhalb\n                    von sehr kurzer Zeit hier eine deutliche Zunahme der Studierendenzahlen beobachten können.\n",
         "20",
         "105",
         "2"
        ],
        [
         "25",
         "94f42f0b-c6ca-4a10-a359-d9332f0620f3",
         "11003797",
         "Sehr geehrte Frau Präsidentin! Sehr geehrter Herr Abgeordneter, zunächst einmal: Die Krankenhäuser können nicht durch kurzfristige Soforthilfen wie\n                    die jetzt beschlossene Energiehilfe langfristig über Wasser gehalten werden. Wir haben ein strukturelles Problem, das wie folgt zu beschreiben ist: Kleinere\n                    Krankenhäuser füllen sich zum Teil nicht mehr, weil demografische Veränderungen stattfinden. Zum Teil sind auch nicht mehr so viele Menschen gewillt, in\n                    kleineren Krankenhäusern größere Eingriffe machen zu lassen; das ist auch medizinisch oft nicht sinnvoll. Wir haben darüber hinaus Personalnot in diesen\n                    Krankenhäusern. Somit verlieren diese Krankenhäuser Einnahmemöglichkeiten und können sich langfristig nicht halten. Sie werden aber in der Fläche für die\n                    Versorgung gebraucht.\nWenn wir daher das System der Bezahlung nicht verändern, dann werden wir sehr viele Krankenhäuser verlieren, gerade im ländlichen Bereich, und können\n                    dort die Sicherstellung der Basisversorgung nicht mehr garantieren. Das sind zum Teil Krankenhäuser, die für die Eingriffe, die sie machen, sehr gut sind und\n                    unbedingt benötigt werden. Daher wollen wir die Finanzierung so umstellen, dass 60 Prozent der Vergütung über eine Vorhaltepauschale – also nur dafür, dass das\n                    Krankenhaus die Leistung vorhält – und das Pflegebudget bezahlt werden, sodass keine Abhängigkeit mehr von der Zahl der durchgeführten Leistungen besteht. Das\n                    wird dazu führen, dass gebrauchte kleine Krankenhäuser – gerade auf dem Land – die Sicherstellung der Basisversorgung anbieten können. Es wird dort sogar eine\n                    Entbürokratisierung geben, und wir können damit die Daseinsvorsorge gewährleisten, was ohne diese Reform nicht möglich wäre.\n",
         "20",
         "105",
         "2"
        ],
        [
         "26",
         "1a0e9ea1-a649-4762-b948-5b396950aad7",
         "11003797",
         "Sehr geehrte Frau Präsidentin! Sehr geehrte Abgeordnete, wir werden für Säule zwei, also für das Angebot, kommerziell qualitätsgesicherte\n                    Cannabisprodukte kaufen zu können, noch in der Sommerpause einen entsprechenden Gesetzentwurf entwickeln.\n",
         "20",
         "105",
         "2"
        ],
        [
         "27",
         "09cdf78e-2e42-4188-a45d-63ea55a67e14",
         "11003797",
         "Sehr geehrte Frau Präsidentin! Sehr geehrter Herr Abgeordneter, auch hier ist es traurigerweise so, dass sehr viel liegen geblieben ist. Die Reform\n                    der Notfallversorgung ist in der letzten Legislaturperiode versucht worden; aber es hat leider keine Einigung gegeben. Daher ist die Zeit fortgeschritten. Die\n                    Kliniken sind voll, zum Teil auch mit Patienten, die dort gar nicht versorgt werden sollten. Patienten, die unbedingt die Versorgung benötigen, bekommen sie\n                    nicht, weil die Kliniken tatsächlich überfüllt sind.\nDaher machen wir eine große Notfallreform. Wir wollen aber, dass in dieser Notfallreform sichergestellt ist, dass die Patienten, die eine unmittelbare\n                    Versorgung benötigen, diese auch bekommen. Daher diese Regelung, die wir mit dem Änderungsantrag aufgegriffen haben. Da sind wir übrigens auch Anregungen der\n                    Parlamentarier, Ihren Anregungen, gefolgt. Ich möchte mich dafür auch im Namen der Bundesregierung ganz herzlich bedanken.\n",
         "20",
         "105",
         "2"
        ],
        [
         "28",
         "cd38e5c5-d526-428e-92fd-50695092ca57",
         "11003797",
         "Sehr geehrte Frau Präsidentin! Sehr geehrter Herr Abgeordneter, die Krankenhausreform in Dänemark hat mit der Reform, die wir hier angehen, nicht\n                    viel gemeinsam. In Dänemark war der Ansatz, aus kleinen Krankenhäusern sehr große Krankenhäuser zu machen. Das hat die Investitionen verursacht. Wir haben schon\n                    sehr viele große Krankenhäuser, im Grunde genau so viele, wie wir benötigen. Von daher ist diese Investition in Deutschland nicht nötig. Wir haben die\n                    Infrastruktur bereits.\nSo, die letzte Nachfrage zu diesem Thema. Noch ein Kollege aus der CDU/CSU-Fraktion. – Hat sich erledigt, weil die Kollegin Zeulner die Frage schon\n                    gestellt hat.\n",
         "20",
         "105",
         "2"
        ],
        [
         "29",
         "b19d329d-9af3-4e3a-bbf7-517f12c7adaa",
         "11003797",
         "Sehr geehrte Frau Präsidentin! Sehr geehrte Frau Abgeordnete, Sie haben recht: Die Vorbehaltsaufgaben sind zu eng gefasst, sodass die Pflegekräfte\n                    nicht die Möglichkeiten haben, die sie haben sollten. Das wollen wir angehen, um den Beruf attraktiver zu machen. Das ist eine Reform, die in den letzten zwei\n                    Legislaturperioden notwendig gewesen wäre, aber liegen geblieben ist. Auch an diese Reform gehen wir heran. Wir werden noch in diesem Jahr einen entsprechenden\n                    Gesetzentwurf vorlegen, wo wir zum einen die Vorbehaltsaufgaben definieren und darüber hinaus auch die Arbeitsbereiche der Pflege ausweiten werden.\n",
         "20",
         "105",
         "2"
        ],
        [
         "30",
         "0f912814-fb4c-4205-9677-05ddd67c7937",
         "11003797",
         "Sehr geehrte Frau Präsidentin! Sehr geehrter Herr Abgeordneter, natürlich sind mir die damaligen Anträge bekannt. Ich bezog mich hier auf eine\n                    weitere Auszahlung, die wir vorgenommen haben. Die erste Auszahlung ist ja schon erfolgt; da hatten Sie einen anderen Vorschlag, den wir nicht aufgegriffen\n                    haben. Stattdessen haben wir damals den Vorschlag umgesetzt, den ich hier auch vorgetragen habe: Es sind 1,5 Milliarden Euro als direkte Energiehilfe geflossen,\n                    und es gab ein Verrechnungssystem, das sich dann als im Einzelfall schwer handhabbar erwiesen hat. Auf der Grundlage haben wir dann – ohne Ihre Aufforderung und\n                    ohne Ihre Unterstützung – noch einmal 2,5 Milliarden Euro nachgelegt. Da ist die erste Lesung, soweit ich informiert bin, in der nächsten Sitzungswoche zu\n                    erwarten.\n– Morgen ist die erste Lesung sogar, höre ich gerade, also noch schneller als gedacht.\nIch möchte aber darauf hinweisen, dass wir diese 2,5 Milliarden Euro im Kabinett schon vor Wochen beschlossen haben,\nund jetzt kommt die Lesung.\nDas ist ja ein Gesetz, das an ein Gesetz angehängt ist, bei dem wir nicht federführend sind. Sie wissen ja, dass das ein Gesetz von Robert Habeck ist,\n                    in dem es darum geht, Energiehilfen insgesamt zu entbürokratisieren und zu beschleunigen. Im Rahmen dieses Gesetzes sind auch die 2,5 Milliarden Euro\n                    vorgesehen; die haben wir damit untergebracht. Aber wir sind hier nicht federführend.\nIch hörte jedenfalls gerade von der Frau Staatssekretärin, dass die erste Lesung nicht erst in der nächsten Sitzungswoche ist, sondern morgen. Somit\n                    haben Sie dann die Gelegenheit, dem Gesetz zuzustimmen.\nDas können wir jetzt auch nicht mehr länger ausführen. Ich bitte noch mal darum, auf die 30 Sekunden zu achten.\n",
         "20",
         "105",
         "2"
        ],
        [
         "31",
         "6cfce45b-1a9a-40a9-af64-0d1a007cf15d",
         "11003797",
         "Sehr geehrte Frau Präsidentin! Sehr geehrte Frau Abgeordnete, zunächst ist es richtig, dass die Rabattverträge wesentlich dazu beigetragen haben,\n                    dass die Arzneimittel im Generikabereich in Deutschland erschwinglich geblieben sind. Aber mittlerweile sind die Rabattverträge auch dafür mitverantwortlich,\n                    dass die Preise so niedrig sind, dass sich die Herstellung in Europa teilweise nicht mehr lohnt. Wenn wir diesem Problem begegnen wollen, dann brauchen wir eine\n                    kurzfristige Lösung und eine langfristige Lösung.\nDie kurzfristige Lösung liegt darin, dass derjenige, der den Rabattvertrag bekommt, garantieren muss, dass die Lagerhaltung so ist, dass wir\n                    tatsächlich einen Lieferengpass überbrücken könnten. Das ist in dem Gesetz, das wir heute debattieren werden, vorgesehen; dort sind drei Monate Lagerhaltung\n                    vorgesehen. Wir haben darüber hinaus ein Frühwarnsystem, sodass wir dann einen kommenden Engpass sehen können. Und wenn es darüber hinaus noch Engpässe gibt,\n                    dann können die bestehenden Rabattverträge auch angepasst werden, sodass die Regel flexibel ist, selbst wenn ein Engpass kommt.\nDie Verlagerung der Produktion zurück nach Europa ist ein wichtiges Ziel. Das beginnen wir im Bereich der Antibiotikaherstellung. Hier ist es im\n                    Prinzip für einen Hersteller sehr leicht abzuschätzen, ob er einen Vertrag bekommt oder nicht. Denn wenn er hier in Europa ein Los anbietet und es belegen kann,\n                    dann ist ihm der Vertrag, wenn er der Erste ist, der das Antibiotikum hier anbietet, zum jetzigen Zeitpunkt mehr oder weniger sicher. Wir werden dies auch auf\n                    andere Bereiche ausdehnen. Wir können das per Rechtsverordnung zum Beispiel für Krebsmedikamente machen. Es ist hier aber ein mehrstufiges Verfahren notwendig.\n                    Und unser Ziel ist es, einen größeren Teil der Produktion nach Deutschland zurückzubringen.\nEine Mechanik ist ja auch die, dass derjenige, der sich hier um ein Los bewirbt, einen Teil außerhalb von Europa produzieren kann und einen anderen\n                    Teil in Europa. Somit sind die Risiken verteilt. Das ist die Vorgehensweise, die uns auch von beratenden Wissenschaftlern seit längerer Zeit vorgeschlagen\n                    wurde.\n",
         "20",
         "105",
         "2"
        ],
        [
         "32",
         "dd8098ff-e819-4baa-aa96-2b7fda04bbc6",
         "11003797",
         "Sehr geehrte Frau Präsidentin! Sehr geehrter Herr Abgeordneter, zunächst einmal: Die Babyboomer-Generation wird bald in Rente gehen; das wirkt sich\n                    auch auf die ärztliche Versorgung aus. Wir werden dann mehr Bedarf haben.\nEs werden weniger Ärzte da sein. Die Begrenzung der Zahl der Studienplätze führt derzeit dazu, dass Bewerber abgelehnt werden; wir werden aber\n                    ungefähr 5 000 Studierende pro Jahr zusätzlich benötigen. Nachdem das Problem jahrelang bekannt war und dennoch nichts gemacht wurde, werden wir noch vor der\n                    Sommerpause im Rahmen unseres Versorgungsstärkungsgesetzes Vorschläge dazu vorbereiten. Diese Vorschläge werden wir dann mit Ihnen diskutieren. Ich kann\n                    allerdings jetzt nicht auf die Einzelsituation in Bremen eingehen. Wir müssen das große Problem bundesweit lösen.\n",
         "20",
         "105",
         "2"
        ],
        [
         "33",
         "95f7f6be-3707-4658-b6e2-30971e580d1f",
         "11003797",
         "Vielen Dank für diese Nachfrage. – In der Tat: Die Heilkundeübertragung ist ein wichtiges Instrument, um den Pflegeberuf attraktiver zu machen. Hier\n                    ist Deutschland rückständig. Pflegekräfte, die sehr gut ausgebildet sind, dürfen in Deutschland weniger machen, als das im internationalen Umfeld der Fall ist.\n                    Das macht uns auch als Ort, an dem man Pflegearbeit gerne machen will, für internationale Kräfte weniger attraktiv. Wir arbeiten daran, das zu ändern. Wir\n                    werden im Laufe des Jahres hier einen gesetzlichen Vorschlag einbringen, um die Heilkundeübertragung einfacher zu machen.\n",
         "20",
         "105",
         "2"
        ],
        [
         "34",
         "6e52e409-0514-42d2-9e14-33a0662c9896",
         "11003797",
         "Sehr geehrte Frau Präsidentin! Sehr geehrter Herr Abgeordneter, Bundesminister Pistorius hat eben darauf hingewiesen, dass im Bereich der\n                    Verteidigung viele Gesetze liegen geblieben sind. Das ist auch im Gesundheitsbereich so. Das gilt auch für die Approbationsordnung. Wir haben den Ländern dazu\n                    einen Vorschlag vorgelegt und diesen Vorschlag mit den Ländern jetzt auch weitestgehend verhandelt. Es ist vorgesehen, dass der Unterschied zwischen klinischer\n                    und vorklinischer Zeit aufgegeben wird, dass die Praxisanleitung viel stärker im Vordergrund steht und dass Teile des Praktischen Jahres in der Allgemeinmedizin\n                    vorgetragen werden müssen. Wir planen auch, die Zahl der Medizinstudienplätze deutlich zu erhöhen – eine notwendige Reform, die wir jetzt angehen, nachdem sie\n                    viele Jahre liegen geblieben ist.\n",
         "20",
         "105",
         "2"
        ],
        [
         "35",
         "252a4b3c-8241-4245-8d08-4339ebab2487",
         "11003797",
         "Sehr geehrte Frau Präsidentin! Sehr geehrter Herr Abgeordneter, die Lage ist ja jetzt bestürzend, weil die unter 25-Jährigen, die Cannabis\n                    konsumieren, die größten Erkrankungsrisiken tragen, wie Sie korrekt beschrieben haben. Das ist ja das Problem: Es nimmt zu. Wir wollen mit dem Gesetzentwurf,\n                    den wir vorlegen, gerade beim Kinder- und Jugendschutz, aber auch beim Schutz von 18- bis 25-Jährigen besonders aktiv werden. Wenn man das gut macht, dann kann\n                    der Konsum dort zurückgehen, wie zum Beispiel auch die Erfahrungen in Kanada zeigen, wo die Legalisierung genau diese Folgen hat, wie der kanadische\n                    Gesundheitsminister unlängst bei der G-7-Tagung ausgeführt hat.\n",
         "20",
         "105",
         "2"
        ],
        [
         "36",
         "bcb3e4b8-8821-4413-b56e-455885c82dda",
         "11003797",
         "Sehr geehrte Frau Präsidentin! Sehr geehrter Herr Abgeordneter, die Abstimmung – zweite und dritte Lesung – ist am Freitag. Sie werden bis dahin\n                    noch die Gelegenheit haben, sich mit dem Gesetz auseinanderzusetzen. Wenn Sie sich einlesen, dann sehen Sie, dass die Beteiligung des Parlamentes vorgesehen\n                    ist, anders als im ursprünglichen Entwurf. Dann rechne ich auch mit Ihrer Zustimmung, weil genau diese Beteiligung des Parlamentes jetzt auch erfolgt.\n",
         "20",
         "105",
         "2"
        ],
        [
         "37",
         "edd28aa4-2fc1-4a88-9d6f-775a005bbd6c",
         "11003809",
         "Frau Präsidentin! Liebe Kolleginnen und Kollegen! Lieber Kollege Spahn, Sie haben von Schauspiel gesprochen. Was Sie hier abgezogen haben, glich\n                    einem Schauspiel, und im Übrigen auch einem üblen Foulspiel.\nWenn Sie hier Führungslosigkeit anprangern, muss gefragt werden: Wer hat denn die Versorgungssicherheit mit Energie im letzten Jahr gesichert? Wer hat\n                    die Bezahlbarkeit von Energie in diesem Land gesichert? Es war die Ampel.\nSie haben Vorschläge gemacht, die genau in die andere Richtung gegangen sind.\nIch würde mir wünschen, dass, wenn Sie hier eine Aktuelle Stunde beantragen, wir von Ihnen wenigstens mal was in der Sache hören. Wo sind denn bitte\n                    die Vorschläge der CDU/CSU zum Thema Wärme, liebe Kolleginnen und Kollegen?\nWo ist ein Vorschlag? Stattdessen gibt es eine populistische Kampagne,\nmit der Sie den Menschen etwas vormachen und übelst mit ihren Ängsten spielen.\n– Herr Merz, hören Sie einfach mal zu!\nHerr Spahn hat in einem Punkt recht:\nEs geht um sehr grundsätzliche Fragen. – Wir haben hier gemeinsam ein Klimaschutzgesetz beschlossen;\nmittlerweile sind Sie sogar Fan des Gesetzes, habe ich gehört. Dieses Klimaschutzgesetz sieht vor, dass wir im Jahre 2045 klimaneutral sind. Bis dahin\n                    kann es keine fossilen Heizsysteme mehr geben. Wir haben parallel dazu einen CO2-Preis beschlossen.\nSie plädieren für den Emissionshandel. Das klingt im Moment alles super.\nWohin führt es, wenn wir jetzt nicht handeln, wenn wir die Menschen jetzt nicht dafür sensibilisieren und ihnen nicht sagen, dass sie umsteigen\n                    müssen?\nDas führt dazu, dass wir spätestens 2028/2029 Preise erleben, angesichts derer die Leute, wenn sie weiter auf fossile Energie setzen, entweder nicht\n                    mehr heizen können oder aber die Anlagen auswechseln müssen, aber dann ganz plötzlich.\nDas genau ist der Schock, den wir nicht wollen.\nUnd das ist ein grundsätzlicher Unterschied zwischen uns.\nWenn Sie „Klimaschutz ohne Kostenschock“ fordern, provozieren Sie,\ndass viele Millionen Haushalte irgendwann den Schock erleben. Das muss man den Leuten bei diesen Debatten sagen.\nDas flankieren Sie dann alles noch, indem Sie beispielsweise fordern: Verheizt nicht meine Miete! – Wer war in der letzten Legislaturperiode nicht in\n                    der Lage, mit uns\ndie Mieterinnen und Mieter angemessen vor einem hohen CO2-Preis zu schützen und eine Aufteilung hinzubekommen? Das waren Sie.\nEine besondere Stilblüte, Herr Kollege Merz, im Zusammenhang mit der Aussage „Verheizt nicht unsere Rente!“ ist, dass Sie sagen: Mit 66 Jahren fängt\n                    das Leben an. – Ich hoffe, das Flugblatt wird jetzt schnell geändert; denn ich habe gestern vernommen, dass die CDU jetzt die Rente mit 72 Jahren will.\nAlso, fangen Sie an! Das ist CDU/CSU.\nAber in der Tat ist es nicht zu spät; eine Aktuelle Stunde kann ja auch ein Anlass sein. Wir werden hier im Parlament die Vorlage der Regierung\n                    beraten.\nJeder Vorschlag von Ihnen ist willkommen.\nWir haben im letzten Jahr richtig viel im Bereich „erneuerbare Energien“ geschafft und werden uns mit diesem Beratungsablauf den nächsten großen\n                    Punkt, das Heizen, vornehmen.\nWir werden beweisen müssen – und das ist nicht einfach –, dass Klimaschutz und sozialer Zusammenhalt tatsächlich organisierbar sind.\nInsofern werden wir über Förderung reden. Wir werden über die Frage von Technologien reden. Wir werden unter anderem die Frage von Übergangsfristen\n                    behandeln.\nIch bin mir sehr sicher: Wir werden in dieser Ampel auch dieses große Thema angehen, das wir mit Ihnen zusammen leider nicht angehen konnten.\nWir werden das Thema Heizen und im Übrigen auch das Thema Mobilität angehen.\nMeine Bitte an Sie ist, nicht dem Populismus nachzugehen; denn ansonsten machen Sie eine Truppe stark, und die sitzt auf der rechten Seite.\nVielen Dank für Ihre Aufmerksamkeit.\n",
         "20",
         "105",
         "4"
        ],
        [
         "38",
         "39c21fec-3469-475b-a8a6-0a914ed060fd",
         "11003848",
         "Danke, Frau Präsidentin, dass ich das noch sagen und an Herrn Amthor richten kann. – Wir wollen das Grundgesetz demokratisch leben. Sie wollen es\n                    offenkundig eher patriotisch leben. 16 Jahre lang haben wir hier im Bundestag\n– lassen Sie mich doch einfach mal ausreden – immer wieder darum kämpfen müssen, dass das Programm „Demokratie leben!“ vernünftig ausgestattet\n                    wird.\n16 Jahre lang haben Sie mit Ihrer Bundesregierung, mit Ihren Innenministern versucht, die Mittel für genau dieses Programm immer wieder\n                    einzukürzen.\nDort beginnt für mich die Pflege des Grundgesetzes, das Leben des Grundgesetzes, und nicht mit einem Patriotismus, der hier sozusagen mit einer\n                    Hurra-Überschrift daherkommt.\n",
         "20",
         "105",
         "6"
        ],
        [
         "39",
         "2ec70e6c-b7cf-41e9-a05b-06237c2a1e58",
         "11004041",
         "Frau Präsidentin! Liebe Kolleginnen und Kollegen! Ich finde, den Berufsbildungsbericht zu diskutieren, gehört oft eher zu den unangenehmen Debatten\n                    im Bundestag, einfach weil sich hier so gar nichts tut und jedes Mal aufs Neue größtenteils deprimierende Zahlen vorgetragen werden. Und ich denke mir dann\n                    immer: Wie muss sich das eigentlich erst für die jungen Menschen anfühlen, die es wirklich betrifft, die am Beginn eines Ausbildungsjahres mit leeren Händen,\n                    ohne Ausbildungsplatz, dastehen? Das betrifft gerade mehr als 22 500 junge Menschen. Oder wie muss es sich für die anfühlen, die jahrelang in irgendwelchen\n                    Übergangssystemen feststecken, anstatt eine echte Ausbildung zu absolvieren? Das betrifft 239 000 junge Menschen. Oder wie muss es sich für die anfühlen, die\n                    schon lange ohne jede Berufsausbildung und berufliche Perspektive sind? Das sind, wie wir schon gehört haben, über 2,6 Millionen junge Menschen zwischen 20 und\n                    35 Jahren – 2,6 Millionen! Kolleginnen und Kollegen, ich finde diesen Zustand absolut beschämend, und es ist nicht hinnehmbar, dass die Politik Jahr für Jahr\n                    keine Antworten auf diese Zukunftsfragen findet.\nIch finde es auch irgendwie bizarr, wenn im Berufsbildungsbericht auf 25 Seiten mehr als 120 Maßnahmen der Bundesregierung aufgeführt sind, ohne dass\n                    daraus irgendwelche Schlüsse gezogen werden. Ich meine, viele dieser Programme laufen seit Jahren. Aber die meisten laufen ja, ohne die Situation spürbar zu\n                    verbessern; denn die Zahlen werden Jahr für Jahr schlechter. Ich finde, die Ampelregierung muss die Programme endlich mal auf ihre Wirksamkeit hin überprüfen,\n                    anstatt sie einfach nur aufzulisten und sich an der Zahl zu berauschen. Das wäre jetzt mal die angemessene Reaktion.\nIch verstehe, ehrlich gesagt, nicht, warum nicht auch die Bundesregierung endlich mal auf die Idee kommt, zum Beispiel das Instrument der assistierten\n                    Ausbildung flächendeckend auszubauen. Da steht den Auszubildenden und den Betrieben ein Ausbildungsbegleiter oder eine Ausbildungsbegleiterin als feste\n                    Ansprechperson zur Seite für Fragen der bürokratischen Abwicklung, aber auch, wenn Probleme in der Ausbildung oder in der Schule auftreten. Das hat sich doch\n                    bewährt. Warum gibt es das nicht flächendeckend, sondern nach wie vor nur stückweise?\nIch sage Ihnen: Wirklich wirksam wäre vor allem auch eine Maßnahme, der sich die Bundesregierung bisher leider systematisch verweigert, nämlich dafür\n                    zu sorgen, dass endlich mehr betriebliche Ausbildungsplätze entstehen. Auch wenn das jetzt die Konservativen und auch die FDP nicht so gerne hören wollen, sage\n                    ich Ihnen: Ich glaube, da kommt man um eine solidarische Umlagefinanzierung nicht herum.\nMan kann sich vor dieser Frage nicht weiter drücken. Die Unternehmen und Betriebe, die ausbilden, die gehören entlastet, aber diejenigen, die es nicht\n                    tun und sich weigern, die gehören zur Kasse gebeten. Das muss endlich mal passieren; denn der Markt, der regelt es eben nicht von alleine. Es braucht hier mal\n                    einen Funken an solidarischem Denken. Das ist doch wirklich offensichtlich.\nKurz und gut: Drehen Sie endlich mal die großen Räder, bevor Sie in einem Meer an wirkungslosen Einzelmaßnahmen versinken.\nVielen Dank.\n",
         "20",
         "105",
         "5"
        ],
        [
         "40",
         "3c160d4c-b508-4c02-b3a7-4740d506bce4",
         "11004048",
         "Vielen Dank, Frau Präsidentin. – Meine Frage richtet sich an den Bundeminister Pistorius. Sehr geehrter Herr Bundesminister, Sie haben an den\n                    Bundestag appelliert: Bitte unterstützen Sie unsere Bundeswehr! – Das teilen wir.\nMit Blick auf den MINUSMA-Einsatz möchte ich folgendes Zitat vorlesen:\nWenn unsere Soldaten und Soldatinnen das Lager nicht verlassen oder sich nur im kleinen Radius außerhalb bewegen können, weil die Drohnen nicht\n                    fliegen dürfen, dann erfüllen sie ihren Auftrag nicht.\nUnd weiter:\nUnd dann ist dieser Einsatz Geld- und Zeitverschwendung, vor allem für die Soldatinnen und Soldaten, die dort getrennt von ihren Familien und Freunden\n                    ihren Kopf hinhalten.\nDas war am 30. Januar dieses Jahres. – Wahre Worte, in der Tat!\n",
         "20",
         "105",
         "2"
        ],
        [
         "41",
         "460915bd-6dff-4777-819a-db668ef2288b",
         "11004048",
         "Vielen Dank, Frau Präsidentin. – Herr Minister, Sie haben jetzt ausgeführt: Der Abzug hat sozusagen schon begonnen. – Das heißt also, der Abzug ist,\n                    da als Zeitfenster für den Abzug ja immer mindestens zwölf Monate anberaumt sind, nicht erst in zwölf Monaten, also im Mai nächsten Jahres, sondern, wenn Sie\n                    schon früher begonnen haben, deutlich früher möglich. Das möchte ich mal so festhalten.\n",
         "20",
         "105",
         "2"
        ],
        [
         "42",
         "2aa347bd-4084-4c41-bfe8-6ec5d190e20c",
         "11004060",
         "",
         "20",
         "105",
         "2"
        ],
        [
         "43",
         "255ffcd5-9571-4de7-93b5-2714597783d6",
         "11004063",
         "Frau Präsidentin! Meine Damen und Herren! Es geht tatsächlich darum, berufliche Bildung nicht, wie so oft in manchen Debatten hier, nur zu\n                    beschwören, sondern die sich anbahnenden Strukturprobleme, die sich zeigen, gerade wenn man länger auf den Berufsbildungsbericht guckt, in den Griff zu\n                    bekommen. Herr Albani, es ist schon mutig, sich nach all den Jahren in Regierungsverantwortung hier in die Bütt zu stellen und so eine Rede zu halten; denn\n                    viele Strukturprobleme sind einfach lange ausgesessen worden.\nDiese Probleme müssen wir in den Griff bekommen; denn es sind teilweise bedenkliche Befunde.\nEs gibt viel zu viele unbesetzte Ausbildungsplätze, eine sinkende Nachfrage nach Ausbildungsplätzen, kombiniert mit einer weiterhin sinkenden Zahl von\n                    Schulabgängerinnen und Schulabgängern, mindestens noch bis 2026. Und wir stellen fest, dass sich der Ausbildungsmarkt seit Corona nicht erholt hat. Es gibt\n                    heute etwa 34 000 Ausbildungsplätze weniger als vor Beginn der Coronapandemie. Wir erinnern uns: Nach der Finanzmarktkrise war es ganz ähnlich: Der\n                    Ausbildungsmarkt ist abgesackt und hat sich nie wieder erholt, ist nie wieder auf den alten Stand zurückgekommen. Das sind Strukturprobleme, die dazu führen,\n                    dass wir, glaube ich, insbesondere drei Strategien verfolgen müssen. Diese hinterlegen wir auch ganz konkret, und wir haben sie teilweise schon – der Herr\n                    Staatssekretär hat das gerade ausgeführt – mit den Maßnahmen der Ampelkoalition hinterlegt:\nWir müssen erstens dafür sorgen, dass der Ausbildungsmarkt resilient bleibt. Dazu gehört ein anhaltend hohes Angebot an Ausbildungsplätzen, am\n                    liebsten natürlich betriebliche Ausbildungsplätze, dass wir den Ausbildungsmarkt resilient gegen Krisen machen, dass wir Unternehmen motivieren, auszubilden,\n                    und dass wir in den Regionen, wo es notwendig ist, außerbetrieblich ausbilden. Das ist ein wesentlicher Fortschritt, den die Ausbildungsgarantie mit sich\n                    bringt: dass wir dort, wo das Angebot nicht ausreicht, auch außerbetrieblich ausbilden werden.\nZweite Strategie. Wir müssen alle Potenziale für Ausbildung heben. Es ist ja richtig, dass, wenn es einen Trend zu höherer Schulbildung gibt, wir die\n                    Berufsorientierung an Gymnasien verstärken und dafür sorgen, dass sich mehr Abiturientinnen und Abiturienten für eine berufliche Ausbildung interessieren. Die\n                    Exzellenzinitiative ist da ein richtiger und wichtiger Baustein. Aber wir dürfen nicht übersehen – das ist hier schon gesagt worden –: 2,6 Millionen junge\n                    Erwachsene ohne Berufsabschluss; 240 000 Jugendliche, die im letzten Jahr nicht in die Ausbildung gestartet, sondern im Übergangssystem gelandet sind. Wir\n                    müssen endlich in unseren Reden darüber zum Ausdruck bringen: Das sind keine Probleme, sondern Potenziale für den Ausbildungsmarkt. Die wollen wir heben, und\n                    dabei wollen wir niemanden aus dem Blick verlieren.\nZum Dritten. Wir müssen dafür sorgen, dass Jugendliche und Ausbildungsplätze besser zueinanderfinden. Das Matching-Thema ist ja in vielen\n                    Berufsbildungsberichten angesprochen worden. Ich glaube nur, dass die Zahl der unbesetzten Stellen und unversorgten Bewerber mittlerweile erfordert, dass wir\n                    eine regelrechte Matching-Offensive brauchen, damit mehr Jugendliche und Ausbildungsplätze zueinanderfinden.\nDas heißt konkret: frühere Berufsorientierung.\nHubertus Heil hat in dieser Woche vorgeschlagen: Berufsorientierung ab der 5. Klasse. Richtig so! Das heißt darüber hinaus: mehr Mobilität und mehr\n                    bezahlbaren Wohnraum für Auszubildende schaffen; das Programm „Junges Wohnen“ von Bauministerin Klara Geywitz ist angesprochen worden. Richtig so!\nWir müssen die Eltern mitnehmen, das ist richtig; denn auch am Küchentisch wird über die beste Zukunftsentscheidung von jungen Menschen diskutiert.\n                    Wir müssen sie für eine Ausbildung in Zukunftsberufen motivieren.\nUnd wir müssen in den Regionen, in denen es besondere Bedarfe gibt, die Sozialpartner ertüchtigen, ihnen Instrumente an die Seite stellen, das\n                    Matching in der Region zu verbessern. Die Einstiegsqualifizierung ist hier angesprochen worden. Die assistierte Ausbildung muss noch viel besser abgerufen\n                    werden; denn das zur Verfügung stehende Angebot wird gar nicht angenommen. Das sind Instrumente aus dem Werkzeugkasten der Ausbildungsgarantie, die dafür\n                    sorgen, dass wir vor Ort das Matching verbessern.\nInsofern: Mehr Wertschätzung für berufliche Bildung – gerne. Das müssen wir immer zum Ausdruck bringen. Wohlstand, Transformation, Innovation, all das\n                    bedarf gut ausgebildeter Fachkräfte.\nAber es geht eben nicht nur um warme Worte; es geht darum, dass berufliche Bildung uns auch etwas wert sein muss, damit Jugendliche und ihre Eltern\n                    sich überzeugt und zuversichtlich für eine betriebliche Ausbildung entscheiden können und damit Betriebe und Auszubildende besser zueinanderfinden.\nVielen Dank.\n",
         "20",
         "105",
         "5"
        ],
        [
         "44",
         "48468511-5054-468e-b266-2fd84a753af5",
         "11004095",
         "Frau Präsidentin! Meine sehr geehrten Damen und Herren! Liebe Kolleginnen und Kollegen! Deutschland war mal die Apotheke der Welt. Wir müssen jetzt\n                    leider alle mit ansehen: Seit Jahren steigt die Anzahl von Lieferengpässen. Das Ganze hat sich in den letzten drei Jahren aufgrund der Pandemie, aber eben auch\n                    aufgrund der Folgen, die der Ukrainekrieg uns beschert, durch Abriss von Lieferketten und anderes mehr einem traurigen Höhepunkt entgegenbewegt. Im Winter\n                    2022/2023 haben wir – Herr Kollege Lauterbach hat das schon ausgeführt – ein hohes Infektionsgeschehen vor allem bei Kindern und Jugendlichen erlebt. Wir haben\n                    aber auch gesehen, dass durch Ausfälle auf der Welt Lieferketten abgerissen sind und an anderer Stelle, nämlich in Deutschland, dadurch Engpässe entstanden\n                    sind. Aber wir haben auch etwa am Beispiel Tamoxifen gut gesehen, dass es ein Krebsmedikament in Deutschland nicht mehr gab, dieses aber in anderen europäischen\n                    Ländern weiterhin noch vorrätig war.\nDas führt zu der Frage nach den Rahmenbedingungen in Deutschland. Mit Blick auf unser Gesetzgebungsvorhaben kann man, denke ich, dabei drei Dinge\n                    feststellen:\nErste Feststellung. Nur wenige Lösungen werden kurzfristig wirksam sein. Das müssen wir uns einfach eingestehen. Die Probleme sind langfristig\n                    entstanden, und wir werden sie auch nur über einen längeren Zeitraum wieder lösen können.\nZweite Feststellung. Wir haben einen Zielkonflikt, und zwar einen Zielkonflikt zwischen der bestmöglichen Arzneimittelversorgung der Bevölkerung, die\n                    wir alle erreichen wollen, und auf der anderen Seite der Stabilität der GKV-Finanzen und meist auch dem Diktum der größtmöglichen Einsparungen. Das ist ein\n                    Zielkonflikt, der nur sehr schwer aufzulösen ist, weil er erfordert, einen Grenzwert nach zwei Seiten zu bestimmen, und alle Mathematiker wissen: Das ist\n                    irgendwie nicht möglich. Deswegen wird man sich auf das eine oder andere bei der Lösung konzentrieren müssen. Darauf werden wir als FDP achten.\nDie dritte Feststellung betrifft den Finanzrahmen. Wir leben in Zeiten engerer Spielräume. Die Diskussionen sind bestens bekannt. Gerade auch über das\n                    Pflegeentlastungsgesetz haben wir schmerzliche Debatten miteinander geführt. Da spielt natürlich der Spielraum, den wir haben, eine Rolle, und das wird auch in\n                    diesem Gesetzgebungsvorhaben so sein.\nWelche gesetzlichen Maßnahmen werden nun vorgeschlagen? Wir sind in drei Bereichen auf dem Weg, Regelungen zu schaffen:\nDer erste Bereich ist die Informationsbeschaffung – Herr Kollege Lauterbach hat das angesprochen –: Das BfArM soll eine ausgeweitete Rolle bekommen.\n                    Das begrüßen wir ausdrücklich, und wir unterstützen diese Maßnahme, durch die wir eine bessere Evidenz für unsere Entscheidungen erlangen. Hierbei ist mir ganz\n                    persönlich wichtig, dass wir mehr als nur diesen 180-Grad-Blick bekommen, den wir im Moment haben. Wir schauen im Moment zu stark darauf, was in Deutschland an\n                    Substanzen oder Präparaten schon mal auf dem Markt war, die jetzt entweder nicht lieferbar sind oder bei denen es Versorgungsengpässe gibt. Wir müssen auch\n                    schauen, was durch unsere Regulatorik, die wir schaffen, den deutschen Markt überhaupt nicht mehr erreicht, weil Unternehmen nicht mehr bereit sind, bestimmte\n                    Produkte in Deutschland zu launchen. Das gehört eben auch zu einer vollständigen Informationsgrundlage. Deswegen sollten wir im Zusammenhang mit diesen\n                    Fragestellungen auch darauf achten.\nZweitens. In Zeiten engerer finanzieller Spielräume kann es natürlich nur darum gehen, dass man denjenigen, von denen wir Lösungen erwarten, mehr\n                    Freiheiten gibt, mehr Beinfreiheit, das heißt mehr Flexibilisierung, mehr Entbürokratisierung. Die Apotheker sind angesprochen worden. Sie haben in der Pandemie\n                    Großartiges geleistet. Wir haben die Regelungen für sie schon einmal verlängert. All diejenigen Erleichterungen, die im Rahmen der SARS-CoV-2-Bekämpfung\n                    geschaffen worden sind, sollen weiter verstetigt werden. Wir stellen uns als Fraktion noch einen weiteren ganz erheblichen Schritt vor. Wir wollen auch Dinge\n                    wie zum Beispiel eine Nullretaxation bei den Apothekern nicht mehr sehen.\nEs kann nicht sein, dass Apotheker Arzneimittel abgeben, dabei Fehler passieren und am Ende vollständig retaxiert wird. Das kann allenfalls auf die\n                    Honoraranteile gerichtet sein, aber nicht auf das Arzneimittel, das an den Patienten abgegeben worden ist.\nDrittens. Wir werden auch auf die Preisgestaltung gucken müssen. Bei der Preisgestaltung, liebe Kolleginnen und Kollegen, kann es nach meinem\n                    Dafürhalten nicht sein, dass wir bei den allseits bekannten Problemlagen, dass nämlich gerade bei der Preisfindung in Deutschland langfristige Rahmenbedingungen\n                    mitgestaltet werden, bei dem bleiben, was jetzt im AMNOG steht und was wir zum Beispiel auch in den Leitplanken verabredet haben. Das muss noch mal auf den\n                    Prüfstand. Wir werden uns damit noch mal beschäftigen müssen, auch was das Thema AMNOG an sich angeht. Es kann auch nicht sein, dass bei Fragen des\n                    Kombinationsrabattes der GKV-Spitzenverband – das sage ich hier auch ganz deutlich – einseitig Dinge für sich regelt. Aus gutem Grund haben wir, als wir in der\n                    Legislatur 2009 bis 2013 das AMNOG eingeführt haben, gesagt, wir wollen Verhandlungen zwischen den Beteiligten. Das ist unserer Marktwirtschaft immanent. Dieses\n                    Prinzip wollen wir weiter eingehalten sehen.\nGrundsätzlich schauen wir auf die Effektivität der Maßnahmen. Dabei freuen wir uns auf eine gute Beratung mit Ihnen allen auf dem Weg hin zu stabilen\n                    Rahmenbedingungen, um wieder die Apotheke der Welt werden zu können.\nVielen Dank für Ihre Aufmerksamkeit.\n",
         "20",
         "105",
         "7"
        ],
        [
         "45",
         "9b8178c9-6a46-4ab8-bed4-e75fd65170fb",
         "11004095",
         "Vielen Dank, Frau Präsidentin. – Herr Bundesminister Lauterbach, Sie haben eine ganz besondere Schnittstelle zu Ihrem Kollegen Pistorius, nämlich\n                    den Sanitätsdienst der Bundeswehr. Ich möchte Sie fragen: Sind Sie mit Ihrem Kollegen Pistorius darüber einig,\n",
         "20",
         "105",
         "2"
        ],
        [
         "46",
         "3933de76-ef84-49c2-b004-3351e419e246",
         "11004113",
         "Sehr geehrte Frau Präsidentin! Sehr geehrter Herr Minister! Liebe Kolleginnen und Kollegen! Meine Damen! Meine Herren! Stellen Sie sich vor, Ihr\n                    Kind ist krank. Es hat Fieber, aber in der Apotheke gibt es weder Fiebersaft noch Zäpfchen. Auch der Kinderarzt kann Ihnen nicht helfen. Was also tun? In die\n                    Notaufnahme fahren, welche total überfüllt sein wird, in der Hoffnung, dort Medikamente für das fiebernde Kind zu erhalten?\nMeine Damen und Herren, das ist leider aktuell die Realität. Diese Realität in der Versorgung wird irritierenderweise noch dadurch angereichert, dass\n                    der, der sich bemüht, durchaus fehlende Medikamente im Ausland erwerben kann. Einige Bundesländer haben es dem Bund vorgemacht und beschaffen nun auch dringend\n                    benötigte Medikamente auf diesem Weg. Herr Minister, wäre es nicht Ihre Aufgabe gewesen, hier im Vorfeld Lösungen zu finden?\nDie aktuelle Situation, meine Damen und Herren, erfordert neue Lösungen. Altbewährte und unter anderen Umständen errichtete Mechanismen wie zum\n                    Beispiel Rabattverträge tragen heute nicht mehr. Die von Ihnen angesprochene Überprüfung, Herr Minister, ist mehr als überfällig. Liebe selbsternannte\n                    Fortschrittskoalition, schreiten Sie fort, handeln Sie jetzt!\nMeine Damen und Herren, schon längere Zeit haben wir erhebliche Probleme mit Lieferengpässen bei Medikamenten. Erst die Coronakrise, dann der noch\n                    immer andauernde Krieg in der Ukraine führen uns deutlich vor Augen, wie unvorhergesehene Ereignisse zu starken Lieferengpässen und damit auch zu Engpässen in\n                    der Versorgung führen. Wir sind bei der Produktion von Medikamenten mittlerweile in einem viel zu hohen Maß abhängig vom Ausland. Im Jahr 2020 wurden über\n                    60 Prozent der Wirkstoffe für Arzneimittel in Asien hergestellt. Richtigerweise wird schon lange von vielen Seiten gefordert, dass die Produktion zurück nach\n                    Europa, zurück nach Deutschland muss. Ich schließe mich dieser Forderung nachdrücklich an. Herr Minister, hier müssen entsprechende Anreize gesetzt und dürfen\n                    nicht nur wohlfeile Worte gefunden werden.\nMeine Damen und Herren, weiter möchte ich auf die Präqualifizierung im Hilfsmittelbereich eingehen. Seit 2011 mussten sich alle Hilfsmittelerbringer,\n                    inklusive der Apotheken, präqualifizieren. Der vorliegende Entwurf streicht dieses Verfahren für die Apotheken. Aber Studium und die Regelungen der\n                    Apothekenbetriebsordnung ersetzen keine Präqualifizierung. Die hier gefundene Begründung ist nicht sachgerecht; denn für alle anderen, beispielsweise\n                    Sanitätshäuser, bleibt die Regelung richtigerweise bestehen.\nSehr geehrter Herr Minister, nicht nur, dass Sie hiermit vielen Berufsgruppen ihre ebenfalls sehr gute Ausbildung absprechen. Nein, mit dieser\n                    Regelung wird ein fairer Wettbewerb zerstört und die Versorgungsqualität gefährdet. Die Zulassung durch die Präqualifizierung wurde auf Grundlage der Prinzipien\n                    der Unabhängigkeit und der Rechtsverbindlichkeit durch Überwachung eingeführt. Die Verwaltung liegt als hoheitliche Aufgabe beim Spitzenverband Bund. Dies ist\n                    ein gutes System, welches sich bewährt hat.\nWir begrüßen, dass Sie das Problem der Lieferengpässe angehen, aber in der Umsetzung sind noch viele Punkte ungeklärt und ungelöst. In dieser Form\n                    müssen wir das Gesetz ablehnen.\n",
         "20",
         "105",
         "7"
        ],
        [
         "47",
         "f08402a2-15bc-4e20-bc13-13cc3cc1354d",
         "11004181",
         "Die größte Last bei Lieferengpässen, die auch zu Versorgungsengpässen werden, tragen natürlich die Patientinnen und Patienten. Aber die zweitgrößte\n                    belastete Gruppe sind die Apothekerinnen und Apotheker in diesem Land, die einen unwahrscheinlichen Aufwand betreiben müssen, um bei Lieferengpässen die\n                    Patientinnen und Patienten in der GKV mit Alternativmedikamenten zu versorgen.\n",
         "20",
         "105",
         "2"
        ],
        [
         "48",
         "5e4202e8-ef1f-4f52-bff5-6884aea7219d",
         "11004181",
         "Verehrte Frau Präsidentin! Liebe Kolleginnen und Kollegen! Herr Minister! Die Menschen in Deutschland verlassen sich zu Recht darauf, dass, wenn sie\n                    krank werden, sie gute und sichere Arzneimittel verordnet bekommen, die sie unkompliziert in der Apotheke beziehen können. Aber immer öfter wird das Vertrauen\n                    schwer auf die Probe gestellt. Lieferengpässe bei Arzneimitteln sind nicht neu. Noch keine Bundesregierung hat dagegen eine wirksame und nebenwirkungsarme\n                    Medizin gefunden. Inzwischen arbeiten viele Apotheker/-innen einen Tag in der Woche nur noch dafür, Ersatz für fehlende Medikamente zu finden. Deswegen ist ein\n                    Gesetz gegen Lieferengpässe absolut überfällig. Doch dieses Gesetz, das die Bundesregierung vorgelegt hat, wird der riesigen Herausforderung nicht gerecht.\nEs sieht zwar eine Bevorratungspflicht für die Industrie vor, aber nur für Medikamente mit Rabattverträgen. Was fehlt, sind aber Instrumente, diese\n                    auch durchzusetzen. Längst verpflichtet das Arzneimittelgesetz die Unternehmen, eine angemessene und kontinuierliche Bereitstellung der in Verkehr gebrachten\n                    Arzneimittel sicherzustellen. Sie wollen also etwas regeln, Herr Lauterbach, das schon geltende Rechtslage ist, ohne es wirklich durchsetzen zu können. So\n                    bleibt auch diese neue Pflicht zahnlos.\nWir kritisieren schon lange, dass die Rabattverträge, deren ideologische Grundlagen im Wesentlichen auch Sie mit gelegt haben, die\n                    Arzneimittelversorgung gefährden. Sie verstärken die Konzentrationsprozesse und damit die Abhängigkeit von einzelnen Lieferanten. Das hat die Bundesregierung\n                    zwar erkannt, trotzdem schafft sie die Rabattverträge nur für Kindermedikamente ab. Als ob nicht auch Erwachsene zuverlässige Medizin brauchen!\nVorräte sollen sich auch die Krankenhausapotheken anlegen. Wenn die Industrie ausreichend Vorräte aller wichtigen Medikamente bereithalten würde, dann\n                    wäre das doch völlig unnötig. Offenbar trauen Sie selbst Ihrem eigenen Gesetz nicht zu, dass es wirkt.\nDie Apotheken sollen jetzt dafür vergütet werden, Patientinnen und Patienten bei Lieferschwierigkeiten mit anderen Mitteln zu versorgen – mit 50 Cent\n                    pro ausgetauschtem Medikament. Das deckt den Arbeitsaufwand in der Apotheke nicht annähernd ab. Damit kriegen Sie allerhöchstens 90 Sekunden Arbeitszeit einer\n                    Apothekenmitarbeiterin in der allerniedrigsten Gehaltsstufe vergütet. Na ja, gut, immerhin zeigt die Bundesregierung guten Willen. Nur, vom guten Willen kann\n                    keine Apothekerin ihre Beschäftigten bezahlen.\nDie Linke fordert die komplette Ersetzung der Rabattverträge durch eine Festbetragsregelung und eine Pflicht zur fünfmonatigen Bevorratung wichtiger\n                    Arzneimittel durch die Unternehmen. Unternehmen, die ihrem Sicherstellungsauftrag nicht nachkommen, müssen sanktioniert werden. Wir brauchen ein\n                    Lieferengpassgesetz mit Biss und keinen zahnlosen Tiger.\n",
         "20",
         "105",
         "7"
        ],
        [
         "49",
         "482925e2-ddd9-4b10-a0ad-d57a0d692841",
         "11004181",
         "",
         "20",
         "105",
         "2"
        ]
       ],
       "shape": {
        "columns": 6,
        "rows": 154
       }
      },
      "text/html": [
       "<div>\n",
       "<style scoped>\n",
       "    .dataframe tbody tr th:only-of-type {\n",
       "        vertical-align: middle;\n",
       "    }\n",
       "\n",
       "    .dataframe tbody tr th {\n",
       "        vertical-align: top;\n",
       "    }\n",
       "\n",
       "    .dataframe thead th {\n",
       "        text-align: right;\n",
       "    }\n",
       "</style>\n",
       "<table border=\"1\" class=\"dataframe\">\n",
       "  <thead>\n",
       "    <tr style=\"text-align: right;\">\n",
       "      <th></th>\n",
       "      <th>speech_id</th>\n",
       "      <th>speaker_id</th>\n",
       "      <th>speech_text</th>\n",
       "      <th>legislative_period</th>\n",
       "      <th>protocol_nr</th>\n",
       "      <th>agenda_item_number</th>\n",
       "    </tr>\n",
       "  </thead>\n",
       "  <tbody>\n",
       "    <tr>\n",
       "      <th>0</th>\n",
       "      <td>9b57cd98-aeb8-4568-8272-6890d3c1b0e7</td>\n",
       "      <td>11003613</td>\n",
       "      <td>Frau Präsidentin! Liebe Kolleginnen und Kolleg...</td>\n",
       "      <td>20</td>\n",
       "      <td>105</td>\n",
       "      <td>5</td>\n",
       "    </tr>\n",
       "    <tr>\n",
       "      <th>1</th>\n",
       "      <td>50c49b79-7529-4431-a82a-629b974f2ef9</td>\n",
       "      <td>11003638</td>\n",
       "      <td>Frau Präsidentin! Liebe Kolleginnen und Kolleg...</td>\n",
       "      <td>20</td>\n",
       "      <td>105</td>\n",
       "      <td>4</td>\n",
       "    </tr>\n",
       "    <tr>\n",
       "      <th>2</th>\n",
       "      <td>3be50ca2-348e-435c-a6c5-94c187a10255</td>\n",
       "      <td>11003756</td>\n",
       "      <td>Frau Präsidentin! Liebe Kolleginnen und Kolleg...</td>\n",
       "      <td>20</td>\n",
       "      <td>105</td>\n",
       "      <td>5</td>\n",
       "    </tr>\n",
       "    <tr>\n",
       "      <th>3</th>\n",
       "      <td>0f86f45c-8343-4916-a6d8-ded57abcb5c4</td>\n",
       "      <td>11003780</td>\n",
       "      <td>Frau Präsidentin! Liebe Kolleginnen und Kolleg...</td>\n",
       "      <td>20</td>\n",
       "      <td>105</td>\n",
       "      <td>4</td>\n",
       "    </tr>\n",
       "    <tr>\n",
       "      <th>4</th>\n",
       "      <td>70dc3c4b-ccc7-4cf8-85c3-ea99fb894689</td>\n",
       "      <td>11003797</td>\n",
       "      <td>Sehr geehrte Frau Präsidentin! Sehr geehrter H...</td>\n",
       "      <td>20</td>\n",
       "      <td>105</td>\n",
       "      <td>2</td>\n",
       "    </tr>\n",
       "    <tr>\n",
       "      <th>...</th>\n",
       "      <td>...</td>\n",
       "      <td>...</td>\n",
       "      <td>...</td>\n",
       "      <td>...</td>\n",
       "      <td>...</td>\n",
       "      <td>...</td>\n",
       "    </tr>\n",
       "    <tr>\n",
       "      <th>149</th>\n",
       "      <td>07c7a21c-4739-49af-9f94-a27c76b7c860</td>\n",
       "      <td>11005248</td>\n",
       "      <td></td>\n",
       "      <td>20</td>\n",
       "      <td>105</td>\n",
       "      <td>2</td>\n",
       "    </tr>\n",
       "    <tr>\n",
       "      <th>150</th>\n",
       "      <td>919e8f38-ef67-43ed-94f4-beb86b25d453</td>\n",
       "      <td>11005248</td>\n",
       "      <td>Sehr geehrte Frau Präsidentin! Liebe Kolleginn...</td>\n",
       "      <td>20</td>\n",
       "      <td>105</td>\n",
       "      <td>7</td>\n",
       "    </tr>\n",
       "    <tr>\n",
       "      <th>151</th>\n",
       "      <td>3c045f7e-d532-4c01-b1cf-a78bad4ade0d</td>\n",
       "      <td>11005260</td>\n",
       "      <td>Frau Präsidentin! Meine Damen und Herren! Die ...</td>\n",
       "      <td>20</td>\n",
       "      <td>105</td>\n",
       "      <td>6</td>\n",
       "    </tr>\n",
       "    <tr>\n",
       "      <th>152</th>\n",
       "      <td>0704eaae-2703-4895-ae7f-7e407f887dda</td>\n",
       "      <td>11005289</td>\n",
       "      <td>Sehr geehrte Präsidentin! Liebe Kolleginnen un...</td>\n",
       "      <td>20</td>\n",
       "      <td>105</td>\n",
       "      <td>8</td>\n",
       "    </tr>\n",
       "    <tr>\n",
       "      <th>153</th>\n",
       "      <td>faade32e-7a21-4e58-9601-fd113d72ca72</td>\n",
       "      <td>11005299</td>\n",
       "      <td></td>\n",
       "      <td>20</td>\n",
       "      <td>105</td>\n",
       "      <td>2</td>\n",
       "    </tr>\n",
       "  </tbody>\n",
       "</table>\n",
       "<p>154 rows × 6 columns</p>\n",
       "</div>"
      ],
      "text/plain": [
       "                                speech_id speaker_id  \\\n",
       "0    9b57cd98-aeb8-4568-8272-6890d3c1b0e7   11003613   \n",
       "1    50c49b79-7529-4431-a82a-629b974f2ef9   11003638   \n",
       "2    3be50ca2-348e-435c-a6c5-94c187a10255   11003756   \n",
       "3    0f86f45c-8343-4916-a6d8-ded57abcb5c4   11003780   \n",
       "4    70dc3c4b-ccc7-4cf8-85c3-ea99fb894689   11003797   \n",
       "..                                    ...        ...   \n",
       "149  07c7a21c-4739-49af-9f94-a27c76b7c860   11005248   \n",
       "150  919e8f38-ef67-43ed-94f4-beb86b25d453   11005248   \n",
       "151  3c045f7e-d532-4c01-b1cf-a78bad4ade0d   11005260   \n",
       "152  0704eaae-2703-4895-ae7f-7e407f887dda   11005289   \n",
       "153  faade32e-7a21-4e58-9601-fd113d72ca72   11005299   \n",
       "\n",
       "                                           speech_text legislative_period  \\\n",
       "0    Frau Präsidentin! Liebe Kolleginnen und Kolleg...                 20   \n",
       "1    Frau Präsidentin! Liebe Kolleginnen und Kolleg...                 20   \n",
       "2    Frau Präsidentin! Liebe Kolleginnen und Kolleg...                 20   \n",
       "3    Frau Präsidentin! Liebe Kolleginnen und Kolleg...                 20   \n",
       "4    Sehr geehrte Frau Präsidentin! Sehr geehrter H...                 20   \n",
       "..                                                 ...                ...   \n",
       "149                                                                    20   \n",
       "150  Sehr geehrte Frau Präsidentin! Liebe Kolleginn...                 20   \n",
       "151  Frau Präsidentin! Meine Damen und Herren! Die ...                 20   \n",
       "152  Sehr geehrte Präsidentin! Liebe Kolleginnen un...                 20   \n",
       "153                                                                    20   \n",
       "\n",
       "    protocol_nr agenda_item_number  \n",
       "0           105                  5  \n",
       "1           105                  4  \n",
       "2           105                  5  \n",
       "3           105                  4  \n",
       "4           105                  2  \n",
       "..          ...                ...  \n",
       "149         105                  2  \n",
       "150         105                  7  \n",
       "151         105                  6  \n",
       "152         105                  8  \n",
       "153         105                  2  \n",
       "\n",
       "[154 rows x 6 columns]"
      ]
     },
     "execution_count": 59,
     "metadata": {},
     "output_type": "execute_result"
    }
   ],
   "source": [
    "# legislative period 19, session 35\n",
    "df_LP20_105 = pd.DataFrame(columns=['speech_id', 'speaker_id', 'speech_text', 'legislative_period', 'protocol_nr', 'agenda_item_number'])\n",
    "\n",
    "\n",
    "for i, speech in enumerate(data[\"NLPSpeeches\"]):\n",
    "\n",
    "\n",
    "    row = {\n",
    "        'speech_id' : speech['Id'], \n",
    "        'speaker_id' : speech['SpeakerId'], \n",
    "        'speech_text' : speech['Text'], \n",
    "        'legislative_period' : speech['LegislaturePeriod'], \n",
    "        'protocol_nr' : speech['ProtocolNumber'], \n",
    "        'agenda_item_number' : speech['AgendaItemNumber']\n",
    "    }\n",
    "\n",
    "    df_LP20_105 = pd.concat([df_LP20_105, pd.DataFrame([row])], ignore_index=True)\n",
    "  \n",
    "df_LP20_105\n",
    "\n"
   ]
  },
  {
   "cell_type": "markdown",
   "id": "78d9c169",
   "metadata": {},
   "source": [
    "***\n",
    "## **Go over all files**\n",
    "***"
   ]
  },
  {
   "cell_type": "code",
   "execution_count": null,
   "id": "d82c3a34",
   "metadata": {},
   "outputs": [
    {
     "data": {
      "text/plain": [
       "438"
      ]
     },
     "execution_count": 60,
     "metadata": {},
     "output_type": "execute_result"
    }
   ],
   "source": [
    "len(json_files) #329 -> 438 protocols"
   ]
  },
  {
   "cell_type": "code",
   "execution_count": null,
   "id": "c7952d0b",
   "metadata": {},
   "outputs": [],
   "source": [
    "# df for all speeches, from all 329 sessions\n",
    "df_all = pd.DataFrame(columns=['speech_id', 'speaker_id', 'speech_text', 'legislative_period', 'protocol_nr', 'agenda_item_number'])\n",
    "\n",
    "\n",
    "# loop over all files\n",
    "for session_file in json_files:\n",
    "\n",
    "    # get temporary data from current session\n",
    "    with open(f\"{session_file}\", 'r') as file:\n",
    "        data_temp = json.load(file)\n",
    "\n",
    "    # make df\n",
    "    df_temp = pd.DataFrame(columns=['speech_id', 'speaker_id', 'speech_text', 'legislative_period', 'protocol_nr', 'agenda_item_number'])\n",
    "\n",
    "\n",
    "    # loop over all speeches, extract relevant features\n",
    "    for i, speech in enumerate(data_temp[\"NLPSpeeches\"]):\n",
    "        row = {\n",
    "            'speech_id' : speech['Id'], \n",
    "            'speaker_id' : speech['SpeakerId'], \n",
    "            'speech_text' : speech['Text'], \n",
    "            'legislative_period' : speech['LegislaturePeriod'], \n",
    "            'protocol_nr' : speech['ProtocolNumber'], \n",
    "            'agenda_item_number' : speech['AgendaItemNumber']\n",
    "        }\n",
    "\n",
    "        # add current speech\n",
    "        df_temp = pd.concat([df_temp, pd.DataFrame([row])], ignore_index=True)\n",
    "\n",
    "\n",
    "    df_all = pd.concat([df_all, df_temp], ignore_index=True)\n",
    "\n",
    "# ~1 min. runtime"
   ]
  },
  {
   "cell_type": "code",
   "execution_count": null,
   "id": "e22dd26c",
   "metadata": {},
   "outputs": [
    {
     "name": "stdout",
     "output_type": "stream",
     "text": [
      "Legislative Periods:  [19 20]\n",
      "Nr. of sessions in 19th:  239\n",
      "Nr. of sessions in 20th:  199\n",
      "Nr. of sessions:  438\n",
      "Session Nr. check:  True\n"
     ]
    }
   ],
   "source": [
    "# sanity checks\n",
    "\n",
    "print(\"Legislative Periods: \", df_all['legislative_period'].unique()) # fine\n",
    "\n",
    "print(\"Nr. of sessions in 19th: \", len(df_all[df_all['legislative_period'] == 19]['protocol_nr'].unique())) # fine\n",
    "print(\"Nr. of sessions in 20th: \", len(df_all[df_all['legislative_period'] == 20]['protocol_nr'].unique())) # just 90?\n",
    "\n",
    "nr_sessions_19 = len(df_all[df_all['legislative_period'] == 19]['protocol_nr'].unique())\n",
    "nr_sessions_20 = len(df_all[df_all['legislative_period'] == 20]['protocol_nr'].unique())\n",
    "\n",
    "print(\"Nr. of sessions: \", nr_sessions_19 + nr_sessions_20)\n",
    "print(\"Session Nr. check: \", nr_sessions_19 + nr_sessions_20 == len(json_files))"
   ]
  },
  {
   "cell_type": "code",
   "execution_count": 63,
   "id": "f20dc3c8",
   "metadata": {},
   "outputs": [
    {
     "data": {
      "application/vnd.microsoft.datawrangler.viewer.v0+json": {
       "columns": [
        {
         "name": "index",
         "rawType": "int64",
         "type": "integer"
        },
        {
         "name": "speech_id",
         "rawType": "object",
         "type": "string"
        },
        {
         "name": "speaker_id",
         "rawType": "object",
         "type": "string"
        },
        {
         "name": "speech_text",
         "rawType": "object",
         "type": "string"
        },
        {
         "name": "legislative_period",
         "rawType": "object",
         "type": "unknown"
        },
        {
         "name": "protocol_nr",
         "rawType": "object",
         "type": "unknown"
        },
        {
         "name": "agenda_item_number",
         "rawType": "object",
         "type": "unknown"
        }
       ],
       "ref": "81833933-0fbb-4e0b-bb6f-651be479957f",
       "rows": [
        [
         "0",
         "0c6d709a-3af2-4e75-55ac-08da0f22a008",
         "11001074",
         "",
         "19",
         "1",
         "3"
        ],
        [
         "1",
         "f7f58b13-85f3-424a-6864-08da102a68d8",
         "11001235",
         "Herr Präsident, ich nehme die Wahl an.\nDann beglückwünsche ich auch Sie im Namen des Hauses und freue mich auf gute Zusammenarbeit.\n",
         "19",
         "1",
         "6"
        ],
        [
         "2",
         "d0c84378-49ab-47ce-61aa-08da102a68d8",
         "11001938",
         "Das ist der Fall. – Ich sehe keine weiteren Vorschläge.\nDann bitte ich jetzt um Ihre Aufmerksamkeit für einige Hinweise zum Wahlverfahren – das sind technische Hinweise, die aber wichtig sind, damit Sie an der Wahl erfolgreich teilnehmen können –: Die Wahl findet mit verdeckten Stimmkarten, also geheim, statt. Gewählt ist, wer die Stimmen der Mehrheit der Mitglieder des Bundestages, also mindestens 355 Stimmen, erhält. Für diese Wahl und für die spätere Wahl der Vizepräsidentinnen und Vizepräsidenten benötigen Sie Ihre Wahlausweise aus den Stimmkartenfächern in der Lobby. Für die Wahl des Präsidenten sind der Wahlausweis und die Stimmkarte gelb. Bitte kontrollieren Sie, ob dieser Wahlausweis Ihren Namen trägt. Die gelbe Stimmkarte und den amtlichen Wahlumschlag erhalten Sie nach Aufruf Ihres Namens von den Schriftführerinnen und Schriftführern an den Ausgabetischen hier oben neben den Wahlkabinen.\nNachdem Sie die Stimmkarte in einer Wahlkabine gekennzeichnet und dort in den Wahlumschlag gelegt haben, gehen Sie bitte zu den Wahlurnen hier vor dem Rednerpult. Sie dürfen Ihre Stimmkarte nur in der Wahlkabine ankreuzen und müssen ebenfalls noch in der Wahlkabine die Stimmkarte in den Umschlag legen. Die Schriftführerinnen und Schriftführer sind verpflichtet, jeden, der seine Stimmkarte außerhalb der Wahlkabine kennzeichnet oder in den Umschlag legt, zurückzuweisen. Die Stimmabgabe kann in diesem Falle jedoch vorschriftsmäßig wiederholt werden.\nGültig sind nur Stimmkarten mit einem Kreuz bei „Ja“, „Nein“ oder „Enthalte mich“. Ungültig sind Stimmen auf nichtamtlichen Stimmkarten sowie Stimmkarten, die mehr als ein Kreuz, kein Kreuz, andere Namen oder Zusätze enthalten.\nBevor Sie die Stimmkarte in eine der Wahlurnen werfen, übergeben Sie bitte Ihren Wahlausweis einer der Schriftführerinnen oder einem der Schriftführer an der Wahlurne. Der Nachweis der Teilnahme an der Wahl kann nur durch die Abgabe des Wahlausweises erbracht werden.\nIch bitte jetzt die eingeteilten Schriftführerinnen und Schriftführer, die vorgesehenen Plätze einzunehmen. – Die beiden Schriftführer neben mir werden nun Ihre Namen in alphabetischer Reihenfolge aufrufen. Ich bitte Sie, den Namensaufruf zu verfolgen und sich nach dem Aufruf Ihres Namens zur Entgegennahme der Stimmkarte zu den Ausgabetischen vor den Wahlkabinen zu begeben.\nHaben alle Schriftführerinnen und Schriftführer die Plätze eingenommen? – Ich eröffne die Wahl und bitte, mit dem Aufruf der Namen zu beginnen.\nDer Namensaufruf ist beendet. Ich darf fragen, ob alle Mitglieder des Hauses, auch die Schriftführerinnen und Schriftführer, ihre Stimme abgegeben haben. – Nein, da kommt noch jemand.\nHaben jetzt alle Mitglieder des Hauses ihre Stimme abgegeben? – Das scheint der Fall zu sein. Ich schließe die Wahl und bitte die Schriftführerinnen und Schriftführer, mit der Auszählung zu beginnen. Zur Auszählung unterbreche ich die Sitzung für etwa 30 Minuten. Der Wiederbeginn der Sitzung wird rechtzeitig durch Klingelsignal angekündigt.\nDie unterbrochene Sitzung ist wieder eröffnet. Liebe Kolleginnen und Kollegen, nehmen Sie bitte Platz, damit wir fortfahren können.\nIch gebe das Ergebnis der Wahl des Präsidenten des 19. Deutschen Bundestages bekannt: abgegebene Stimmen 705, ungültige Stimmen 1, gültige Stimmen 704. Mit Ja haben gestimmt 501 Kolleginnen und Kollegen.\nMit Nein haben gestimmt 173 Kolleginnen und Kollegen, Enthaltungen gab es 30. Herr Dr. Wolfgang Schäuble hat die erforderliche Mehrheit erhalten und ist zum Präsidenten des 19. Deutschen Bundestages gewählt.\nIch frage Sie, Herr Schäuble: Nehmen Sie die Wahl an?\nHerr Präsident, ich nehme die Wahl an.\nHerr Präsident, ich darf Ihnen im Namen des ganzen Hauses sehr herzlich zu Ihrer Wahl gratulieren. Ich wünsche Ihnen eine glückliche Hand. Verstand muss ich Ihnen nicht wünschen, den haben Sie sowieso. Ich bitte Sie jetzt, das Amt zu übernehmen.\nVielen Dank.\n",
         "19",
         "1",
         "3"
        ],
        [
         "3",
         "649d0b8b-6770-47cf-ff0a-08da0f05b641",
         "11001938",
         "",
         "19",
         "1",
         "3"
        ],
        [
         "4",
         "5516f789-3f1e-47cc-522d-08da0f22a008",
         "11002190",
         "",
         "19",
         "1",
         "3"
        ],
        [
         "5",
         "9aff56c3-41cd-4e6b-633b-08da0f22a008",
         "11002190",
         "Guten Morgen, liebe Kolleginnen und Kollegen! Nehmen Sie bitte Platz.\nMeine sehr verehrten Damen und Herren! Liebe Kolleginnen und Kollegen! Ich begrüße Sie zur konstituierenden Sitzung des 19. Deutschen Bundestages. Es entspricht der ständigen Übung, zu Beginn der konstituierenden Sitzung nach den Regelungen der bisherigen Geschäftsordnung des Deutschen Bundestages zu verfahren.\n§ 1 Absatz 2 der Geschäftsordnung des Deutschen Bundestages sieht vor, dass das am längsten dem Bundestag angehörende Mitglied, das hierzu bereit ist, den Vorsitz übernimmt, bis der Deutsche Bundestag einen Präsidenten gewählt hat.\nDie Fraktion der AfD widerspricht diesem Verfahren und hat auf Drucksache 19/2 beantragt, einen Versammlungsleiter zu wählen, der die konstituierende Sitzung eröffnen soll. Über diesen Antrag lasse ich sofort abstimmen. Wer dem Antrag der Fraktion der AfD zustimmt, den bitte ich um sein Handzeichen. – Gegenstimmen? –\nEnthaltungen? – Der Antrag ist damit mit den Stimmen aller Fraktionen bei Zustimmung der AfD-Fraktion abgelehnt.\nWir verfahren nunmehr entsprechend § 1 Absatz 2 der bisherigen Geschäftsordnung. Herr Dr. Wolfgang Schäuble ist das Mitglied, das dem Deutschen Bundestag am längsten angehört. Er hat jedoch auf das Amt des Alterspräsidenten verzichtet. Damit rückt das am zweitlängsten dem Bundestag angehörende Mitglied nach. Ich war von 1980 bis 2013, also 33 Jahre, Mitglied des Deutschen Bundestages. Ist jemand unter Ihnen, der dem Bundestag länger angehört? –\nDas scheint offenkundig nicht der Fall zu sein. Dann trifft es also tatsächlich zu, dass die Rolle des Alterspräsidenten auf mich zukommt. Es ist mir eine Ehre und Freude zugleich, den Vorsitz bis zur Amtsübernahme durch den neugewählten Präsidenten des Deutschen Bundestages zu übernehmen.\nDamit rufe ich nun den Tagesordnungspunkt 1 auf:\nEröffnung der Sitzung durch den Alterspräsidenten\n",
         "19",
         "1",
         "1"
        ],
        [
         "6",
         "05ebe489-0cff-4575-661e-08da0f22a008",
         "11002190",
         "Die unterbrochene Sitzung ist wieder eröffnet.\nLiebe Kolleginnen und Kollegen, ich darf Sie bitten, wieder Platz zu nehmen. Mir liegt das Ergebnis des dritten Wahlgangs vor. Sobald Sie Platz genommen haben, werde ich es Ihnen mitteilen.\nIm dritten Wahlgang für die Wahl einer Stellvertreterin/eines Stellvertreters des Präsidenten wurden 685 Stimmen abgegeben. 685 Stimmen waren gültig. Mit Ja haben gestimmt 114, mit Nein haben gestimmt 545, Enthaltungen 26. Der Abgeordnete Glaser hat damit nicht die erforderliche Mehrheit erhalten.2 Namensverzeichnis der Teilnehmer an der Wahl siehe Anlage 5\nGemäß § 2 Absatz 3 unserer Geschäftsordnung findet kein weiterer Wahlgang mit einem im dritten Wahlgang erfolglosen Kandidaten statt, es sei denn, ein weiterer Wahlgang wird im Ältestenrat vereinbart. Wird ein neuer Bewerber vorgeschlagen, so ist in ein neues Wahlverfahren einzutreten. Es wäre also wieder ein erster Wahlgang mit den entsprechenden Mehrheitserfordernissen durchzuführen. In beiden Fällen muss aber erst vereinbart werden, an welchem Tag die Wahl durchgeführt werden soll.\nDie Geschäftsführerinnen und Geschäftsführer der Fraktionen haben mir signalisiert, dass es kein Einvernehmen über die Durchführung weiterer Wahlgänge am heutigen Tag gibt. Damit ist dieser Tagesordnungspunkt abgeschlossen.\nDamit darf ich Sie bitten, sich zu unserer Nationalhymne von Ihren Sitzen zu erheben.\nLiebe Kolleginnen und Kollegen, wir sind damit am Schluss unserer heutigen Tagesordnung. Die nächste Sitzung findet in der 47. Kalenderwoche, also in der Woche vom 20. November, statt. Der genaue Tag der Sitzung wird noch bestimmt und Ihnen bekannt gegeben.\nBevor ich die Sitzung schließe, darf ich Sie herzlich zu einem kleinen Empfang auf der Fraktionsebene einladen.\nDie Sitzung ist geschlossen.\n",
         "19",
         "1",
         "6"
        ],
        [
         "7",
         "92883867-31e5-465a-6f0f-08da0f22a008",
         "11002190",
         "",
         "19",
         "1",
         "1"
        ],
        [
         "8",
         "901e2196-b575-4fea-5fd2-08da102a68d8",
         "11002190",
         "Herr Bundespräsident! Verehrte Kolleginnen und Kollegen!\n– Muss ich selber drücken?\nAller Anfang ist schwer; also fangen wir noch einmal von vorne an.\nHerr Bundespräsident! Liebe Kolleginnen und Kollegen! Meine sehr verehrten Damen und Herren! Ich habe zunächst zu danken. Ich danke Ihnen für das Vertrauen, das Sie mir mit der Wahl zum Bundestagspräsidenten entgegenbringen. Ich danke Hermann Otto Solms. Mit seiner langen parlamentarischen Erfahrung hat er die von mir übernommene Aufgabe, diesen 19. Deutschen Bundestag als dienstältester Abgeordneter zu eröffnen, mit großer Umsicht wahrgenommen. Und er hat die Herausforderungen für unser Parlament klar umrissen.\nIch möchte den vielen ausgeschiedenen Kolleginnen und Kollegen danken. Sie schauen zum Teil auf jahrzehntelanges parlamentarisches Wirken zurück. Ich nenne stellvertretend Heinz Riesenhuber. Er war gleich zweimal Alterspräsident, bei den konstituierenden Sitzungen der beiden zurückliegenden Legislaturperioden. Ich danke aus dem Präsidium des 18. Deutschen Bundestages den ausgeschiedenen Vizepräsidenten Edelgard Bulmahn und Johannes Singhammer. Ich danke natürlich auch den beiden Vizepräsidentinnen, die dem nächsten Präsidium vermutlich nicht angehören werden. Damit nehme ich jetzt die Wahl vorweg; das ist ein bisschen schwierig.\nVor allen Dingen aber, meine sehr verehrten Damen und Herren, möchte ich Norbert Lammert danken. Er war zwölf Jahre ein großartiger Bundestagspräsident.\nLieber Herr Lammert, Sie hatten eine ganz besondere Begabung als Redner, und Sie hatten immer klare Vorstellungen davon, was dieses Parlament leisten soll und was es leisten kann, wenn es denn will.\nLiebe Kolleginnen und Kollegen, ich freue mich auf die neue Aufgabe. Im Parlament schlägt das Herz unserer Demokratie. Ich freue mich auf die Zusammenarbeit mit Ihnen, liebe Kolleginnen und Kollegen, wie mit allen Mitarbeiterinnen und Mitarbeitern, die diesem Haus dienen.\nIch bin Parlamentarier aus Leidenschaft. Ich habe meine Abgeordnetentätigkeit immer als hohe Verantwortung und das Mandat als meine demokratische Legitimation verstanden. Ich habe im Übrigen im Deutschen Bundestag beides erlebt: Abgeordneter zu sein in der Opposition wie in einer Regierungsfraktion.\nZunächst war ich zehn Jahre in der Opposition. Als ich 1972 zum ersten Mal als Abgeordneter im Deutschen Bundestag saß, wurde um die Ostverträge gestritten – mit leidenschaftlichen Debatten, damals in Bonn. Die Stimmung war aufgeladen. Überhaupt prägte seinerzeit eine extrem spannungsvolle Atmosphäre dieses Land. Die Gesellschaft der Bundesrepublik hatte sich seit Mitte der 60er-Jahre in einem bis dahin nicht gekannten Maße politisiert, mobilisiert und polarisiert. Geschadet hat es nicht, genauso wenig wie die Erregung Anfang der 80er-Jahre. Da war ich Abgeordneter in der großen Regierungsfraktion, als es etwa um den NATO-Doppelbeschluss ging. Sieben Jahre später fiel dann die Mauer. Veränderung war also immer, und vieles wird im Übrigen in der Rückschau anders bewertet als mitten im Streit. Auch deshalb, also weil ich aus eigenem Erleben weiß, dass Erregung und Krisengefühle so neu nicht wirklich sind, sehe ich mit Gelassenheit den Auseinandersetzungen entgegen, die wir in den kommenden Jahren führen werden und die wir im Parlament zu führen haben, stellvertretend für die Gesellschaft, aus der heraus wir gewählt sind. Denn diese Gesellschaft müssen wir nicht nur in ihrem Grundkonsens, sondern auch in ihrer Vielheit und Verschiedenheit repräsentieren. Wir dürfen das eine nicht gegen das andere ausspielen.\nIn einem demokratischen Gemeinwesen ist kein Thema es wert, über den Streit das Gemeinsame in Vergessenheit geraten zu lassen. 289 Abgeordnete ziehen heute erstmals ins Parlament ein – das sind gut 40 Prozent aller Mitglieder dieses Hauses. Selten unterschied sich ein Bundestag so sehr von seinem Vorgänger wie dieser. Sieben Parteien und sechs Fraktionen – so viele gab es seit 60 Jahren nicht mehr.\nDiese neue Konstellation hier im Haus spiegelt die Veränderungen wider, die unsere Gesellschaft erlebt: Verunsicherungen wachsen angesichts des raschen Wandels durch Globalisierung und Digitalisierung. Zusammenhänge lösen sich auf, Zugehörigkeiten brechen auf und neue entstehen. Alte Gewissheiten und Identitäten werden infrage gestellt, und neue, vermeintliche Gewissheiten werden in Stellung gebracht gegen zunehmende Sorgen und Zweifel.\nDas menschliche Bedürfnis nach Geborgenheit in vertrauten Lebensräumen trifft auf eine zunehmend als ungemütlich empfundene Welt voller Konflikte, Krisen, Kriege und medial präsentem Schrecken. Vor diesem Hintergrund verschärft sich die Tonlage der gesellschaftlichen Debatten. All das können wir übrigens vielerorts in Europa beobachten.\nMit dem ungeheuer schnellen gesellschaftlichen Wandel, den wir erleben, geht eine Fragmentierung unserer Debatten und Aufmerksamkeiten einher. Das stellt die politische Ordnung, die demokratischen Institutionen und Verfahren vor große Herausforderungen. Jedem erscheint etwas anderes wichtig. Jeder scheint gelegentlich nur noch seine eigenen Probleme wahrzunehmen. Es gibt nicht mehr das eine Thema.\nDas Überhandnehmen von Möglichkeiten und Optionen kann auch überfordern. Über dieses „Unbehagen im Kapitalismus“ hat Uwe Jean Heuser schon 2000 geschrieben. Wie alles ist auch Freiheit durch Übermaß gefährdet. Deswegen müssen wir immer wieder die richtige Balance auch im Umgang mit Freiheit lernen.\nHinzu kommt der Wandel der Medien und ihrer Nutzung durch die Veränderungen in der Informationstechnologie. Die Zersplitterung in viele Teilöffentlichkeiten führt dazu, dass uns eine erkennbar gemeinsame Sicht auf politische Prioritäten verloren geht. Da kann dieses Parlament ein Ort der Bündelung, der Fokussierung, der Konzentration auf die wichtigen Fragen unserer gesellschaftlichen Zukunft in Deutschland wie in Europa sein.\nWir Abgeordnete, liebe Kolleginnen und Kollegen, sind für die Mitbürger im Wahlkreis manchmal fast eine Art Ombudsmann. Mit unserer Arbeit und unseren Begegnungen vor Ort vermitteln wir diese Wirklichkeit auf die Ebene der Bundespolitik. Unsere Vielzahl an Erfahrungen und Qualifikationen aus beruflicher, sozialer, ehrenamtlicher Tätigkeit bildet eine ganze Menge Expertise. Vielleicht wissen und fühlen wir Abgeordnete durch unsere Verwurzelung bei den Menschen manchmal besser als die Forschungsinstitute, was die Menschen wirklich bewegt.\nZugleich sind wir alle, wie Artikel 38 unseres Grundgesetzes sagt, Abgeordnete des ganzen Volkes. Dazu müssen wir diese Vielzahl von Interessen, Meinungen, Befindlichkeiten mit den Begrenztheiten und der Endlichkeit der Realität zusammenbringen, und das zwingt zu Kompromissen und zu Entscheidungen durch Mehrheit. Je besser das gelingt, umso weniger fühlen sich Menschen in der demokratischen Wirklichkeit zurückgelassen.\nImmanuel Kant, dem wir viele Gedanken von Rechtsstaat und Republik verdanken, hat gesagt – ich drücke es halb mit meinen Worten aus –: Handle stets so, dass das Prinzip Deiner Handlung immer auch das Prinzip der Handlungen aller anderen sein könnte, dass es immer auch allgemeines Gesetz sein könnte. – Also: Handle so, dass menschliches Miteinander nicht zusammenbräche, wenn alle so handelten wie Du selbst.\nDas, verehrte Kolleginnen und Kollegen, gilt gerade auch für Parlamentsabgeordnete, und das ist eine gute Maxime für unser repräsentatives System.\nAuch die Vertretung partikularer Interessen darf, wie alles, nicht exzessiv werden. Andere Demokratien in der Welt sind da übrigens schon weit auf die abschüssige Bahn geraten.\nWas aber sehr wohl sein darf und sein muss, ist, dass der parlamentarische Prozess hier im Hause sichtbar macht, wie schwierig sowohl die Durchsetzung als auch der Ausgleich von Interessen in einer liberalen Demokratie sind. Da darf Streit nicht nur sein; das geht nur über Streit. Den müssen wir führen, und den müssen wir aushalten, ertragen. Demokratischer Streit ist notwendig, aber es ist ein Streit nach Regeln, und es ist mit der Bereitschaft verbunden, die demokratischen Verfahren zu achten und die dann und so zustandegekommenen Mehrheitsentscheidungen nicht als illegitim oder verräterisch oder sonst wie zu denunzieren,\nsondern die Beschlüsse der Mehrheit zu akzeptieren. Das ist parlamentarische Kultur.\nUnd da kommt es dann auch auf den Stil an, in dem wir uns hier streiten und in dem wir füreinander Respekt signalisieren können.\nEs gab in den vergangenen Monaten in unserem Land Töne der Verächtlichmachung und Erniedrigung. Ich finde, das hat keinen Platz in einem zivilisierten Miteinander.\nDie überwältigende Mehrheit der Bürgerinnen und Bürger in diesem Land will ein zivilisiertes Miteinander. In aufgewühlten Zeiten wie unseren wächst das Bedürfnis nach Formen des Verhaltens, über die man lange nicht mehr geredet hat, weil man sie als selbstverständlich ansah. Es wird wieder über Anstand gesprochen – sogar Bücher werden darüber geschrieben und kommen auf die Bestsellerlisten –, und es wird auch über die Frage gesprochen, wie wir in der Gesellschaft miteinander umgehen sollen: Respekt füreinander haben, nicht jeden persönlichen Spielraum maximal ausnutzen, ein offenes Ohr haben für die Argumente des anderen, ihn anerkennen mit seiner anderen Meinung.\nEs geht um Fairness. Hundertprozentige Gerechtigkeit gibt es nicht, aber Fairness ist möglich in dem Sinne, dass sich möglichst alle angesprochen fühlen und nicht ausgeschlossen bleiben.\nDie Art, wie wir hier miteinander reden, kann vorbildlich sein für die gesellschaftliche Debatte. Prügeln sollten wir uns hier nicht, wie es ja zum Teil auch in Europa in anderen Parlamenten bisweilen geschieht.\nWir sollten das übrigens auch nicht verbal tun. Wir können vielmehr zeigen, dass man sich streiten kann, ohne dass es unanständig wird. Dazu müssen wir zeigen, dass auch ein Bundestag mit sechs Fraktionen schafft, wozu er da ist: Entscheidungen herbeizuführen, die als legitim empfunden werden.\nDas Parlament besteht aus Abgeordneten, und diese Abgeordneten sind nicht „abgehoben“, wie so gern oberflächlich dahingeredet wird. Wir sind aus der Mitte der Bürgerinnen und Bürger gewählt.\nAber niemand vertritt alleine das Volk. So etwas wie Volkswille entsteht überhaupt erst in und mit unseren parlamentarischen Entscheidungen.\nDeswegen haben wir die Pflicht, diesen Ort wertzuhalten, als Ort des nachvollziehbaren sachlichen wie auch emotionalen Streits – ja, auch Gefühle gehören dazu –, stellvertretend für die Mitbürgerinnen und Mitbürger die Dinge, die alle angehen, argumentativ gegeneinander oder miteinander auszumachen und dann mit Mehrheit zu entscheiden.\nWir müssen das Vertrauen in das repräsentative Prinzip wieder stärken. Das ist übrigens keine nur nationale Frage. Die europäischen oder westlichen Werte, die Grundlage unserer verfassungsmäßigen Ordnung sind, wirken vielerorts fragil und erfreuen sich doch zugleich weltweit großer Attraktivität. Freiheit, Rechtsstaatlichkeit, sozialer Zusammenhalt, ökologische Nachhaltigkeit: Ohne Parlamentarismus geht all das nicht.\nNach ernsthaftem Streit der Meinungen stellvertretend für alle Bürgerinnen und Bürger Entscheidungen zu treffen: Die befriedende Wirkung, die das hat, wenn es gelingt, brauchen wir überall in der Welt – in einer Welt, wo ja überall immer mehr Menschen nicht nur Anspruch auf wirtschaftliche Teilhabe, sondern auch auf politische Mitsprache erheben.\nIn Zeiten zunehmender Globalisierung heißt das auch, die Kompliziertheit unserer Welt auszuhalten. Aber wir haben zugleich auch die Chance, der Welt, die sich uns nähert, zu zeigen, dass der Parlamentarismus etwas taugt, dass er funktioniert und dass er zu Lösungen für die Probleme und Herausforderungen fähig ist.\nNorbert Lammert hat immer sehr elegant die Tage, an denen er sprach, danach befragt, was an ihnen in vergangenen Jahren und Jahrhunderten geschah und an was uns das erinnern sollte. Ich will das heute noch einmal im Sinne einer kleinen Hommage tun. Um es chronologisch rückwärts zu machen: Dieser 24. Oktober ist der Tag der Vereinten Nationen. 1945 trat am 24. Oktober die Charta der Vereinten Nationen in Kraft. Am 24. Oktober 1929 endete am Schwarzen Donnerstag die jahrelange Hausse der New Yorker Börse, und es begann die Weltwirtschaftskrise mit all ihren Folgen.\nUnd am 24. Oktober 1648 wurde der Westfälische Frieden zur Beendigung des Dreißigjährigen Krieges unterzeichnet, eines Krieges, an dessen Beginn wir uns kommendes Jahr erinnern. Herfried Münkler hat ihm gerade ein Opus Magnum gewidmet, in dem er zeigt, dass dieser bis heute längste Krieg auf deutschem Boden – zugleich übrigens der erste im vollen Sinne europäische Krieg – uns besser als alle späteren Konflikte die Kriege unserer Gegenwart verstehen lässt. Wer es nicht glaubt, der lese noch einmal im „Simplicissimus“ von ­Grimmelshausen nach. Er ist übrigens in meinem Wahlkreis geschrieben worden.\nAll das, liebe Kolleginnen und Kollegen, erinnert uns an den Charakter der Aufgaben, die vor uns liegen. Es erinnert uns daran, dass wir die Entscheidungen, die wir hier treffen, in weltpolitische Zusammenhänge einzubetten haben.\nEuropa und die Globalisierung: Das ist heute der Rahmen für das, was wir hier debattieren und entscheiden. Das hat nichts mit einem Aufgeben nationaler Selbstbestimmung zu tun, schon gar nichts mit einem Aufgeben des Anspruchs, dass dies hier der Ort ist, an dem immer wieder neu die Souveränität des deutschen Volkes greifbar und wirklich wird. Vielmehr beschreibt es die Aufgabe, der wir gerecht werden müssen, den Weg einer selbstbewussten Einordnung in immer weitere Zusammenhänge zu finden, mit dem Ziel, dazu beizutragen, in dieser Welt unsere Zukunft gestalten zu können.\nDass wir uns in solcher Öffnung zur Welt und Einordnung noch selbst erkennen, dass wir bleiben, was wir irgendwie fühlen, das wir sind – im Guten, wie zum Beispiel unserer parlamentarischen Ordnung, wie im Schlechten, das wir als nationale Schicksalsgemeinschaft nicht werden abstreifen können und aus dem wir doch immer wieder neues Gutes zu entwickeln uns bemühen –, dass wir all das bleiben, ohne uns abzuschotten oder uns bequem rauszuhalten, darum, liebe Kolleginnen und Kollegen, geht es.\nIn der Präambel unseres Grundgesetzes von 1949, die wir 1990 im wiedervereinten Deutschland fortgeschrieben haben, heißt es:\n… von dem Willen beseelt, als gleichberechtigtes Glied in einem vereinten Europa dem Frieden der Welt zu dienen, hat sich das Deutsche Volk kraft seiner verfassungsgebenden Gewalt dieses Grundgesetz gegeben.\nDies hier, liebe Kolleginnen und Kollegen, ist der Ort, an dem wir diesem Willen Gestalt geben.\nDafür hat uns eine wieder gewachsene Zahl von Bürgerinnen und Bürgern gewählt. Der Trend zur höheren Wahlbeteiligung bei den letzten Landtagswahlen hat sich auch im Bund fortgesetzt. Ich denke, das zeigt, dass Erwartungen gestiegen sind. Wenn wir diese Erwartungen einigermaßen erfüllen, können wir unserem Land einen großen Dienst erweisen. Steigende Erwartungen sind also eine Chance, auch wenn es zur Wahrheit gehört, dass in dieser Welt immer neuer Akteure und immer dichterer Verflechtungen die Realität komplizierter wird und unsere Handlungsspielräume nicht immer nur wachsen. Zwischen beidem müssen wir als Parlament unseren Weg finden.\nIch freue mich auf unsere Arbeit hier in den kommenden vier Jahren.\n",
         "19",
         "1",
         "4"
        ],
        [
         "9",
         "917c3517-5bc1-4763-5c38-08da0f22a008",
         "11003124",
         "Herr Präsident, ich nehme die Wahl an.\nDann beglückwünsche ich Sie, Herr Kollege Friedrich.\n",
         "19",
         "1",
         "6"
        ],
        [
         "10",
         "e30ac687-16cf-4e14-6149-08da0f22a008",
         "11003206",
         "Herr Präsident, ich nehme die Wahl an und freue mich auf die Zusammenarbeit.\nHerzlichen Glückwunsch, Frau Pau. Auch ich freue mich auf die Zusammenarbeit.\n",
         "19",
         "1",
         "6"
        ],
        [
         "11",
         "af60e2b9-33bf-40b7-28c7-08da0d9e2391",
         "11003212",
         "Ja, ich nehme die Wahl mit großer Freude an und freue mich auch auf die Zusammenarbeit.\nDie Freude ist unübersehbar. Ich beglückwünsche Sie im Namen des ganzen Hauses, Frau Kollegin Roth.\nIch wünsche Ihnen allen im Namen des Hauses Glück und Erfolg für das verantwortungsvolle Amt.\nDa der Kollege Glaser nicht die erforderliche Mehrheit der Mitglieder des Hauses erhalten hat, ist nach der Geschäftsordnung ein zweiter Wahlgang erforderlich. Wir führen diesen zweiten Wahlgang jetzt unmittelbar durch.\nFür diesen zweiten Wahlgang schlägt die Fraktion der AfD den Kollegen Glaser vor. Auch im zweiten Wahlgang ist nach unserer Geschäftsordnung die Mehrheit der Mitglieder des Bundestages, also 355 Stimmen, erforderlich. Die Wahl ist wiederum geheim. Wahlausweise und Stimmkarte für diesen Wahlgang sind blau. Die Stimmkarte erhalten Sie wieder vor den Wahlkabinen. – Jetzt bitte ich Sie – genauso wie zuvor –, sich die Wahlunterlagen zu besorgen und in den Kabinen Ihr Kreuz zu machen. Wir beginnen mit der Wahl. Sind alle Urnen besetzt? – Das ist der Fall. Dann ist die Wahl eröffnet.\nLiebe Kolleginnen und Kollegen, darf ich fragen, ob jemand nicht die Möglichkeit hatte, seine Stimme abzugeben? – Das ist offensichtlich nicht der Fall. Dann schließe ich die Wahl. Ich bitte die Schriftführerinnen und Schriftführer, mit der Auszählung zu beginnen.\nIch unterbreche die Sitzung für etwa eine halbe Stunde. Der Wiederbeginn wird rechtzeitig durch Klingelsi­gnal angekündigt.\n(Unterbrechung von 15.55 bis 16.15 Uhr)\nLiebe Kolleginnen und Kollegen, die unterbrochene Sitzung ist wieder eröffnet. Ich darf Sie bitten, Platz zu nehmen.\nIch teile Ihnen das Ergebnis des zweiten Wahlgangs zur Wahl eines Stellvertreters des Präsidenten mit: abgegebene Stimmen 697, ungültige Stimmen 1, gültige Stimmen 696. Mit Ja haben gestimmt 123, mit Nein haben gestimmt 549, Enthaltungen 24. Der Abgeordnete Glaser hat damit die erforderliche Mehrheit nicht erhalten.1  Namensverzeichnis der Teilnehmer an der Wahl siehe Anlage 4\nJetzt schaue ich den Kollegen Baumann an. – Die Fraktion der AfD beantragt, einen dritten Wahlgang durchzuführen. Es gibt keinen neuen Kandidaten.\nIch würde Ihnen gerne noch erläutern, wie der dritte Wahlgang abläuft. Nach unserer Geschäftsordnung ist im dritten Wahlgang der Kandidat Herr Glaser gewählt, wenn er die Mehrheit der abgegebenen Stimmen auf sich vereinigt, also die Zahl der Jastimmen größer ist als die Zahl der Neinstimmen. Enthaltungen bleiben insofern unberücksichtigt. Die Wahl ist wiederum geheim. Wahlausweis und Stimmkarte für diesen Wahlgang sind rot. Alles andere, Wahlkabine etc., läuft so ab wie bei den ersten beiden Wahlgängen auch.\nIch bitte, die Wahlunterlagen in Empfang zu nehmen und die Urnen zu besetzen. Dazu brauchen wir Schriftführer. – Die Urnen sind besetzt. Ich eröffne den dritten Wahlgang.\n",
         "19",
         "1",
         "6"
        ],
        [
         "12",
         "f355f1e1-6b62-4950-fc27-08da0daf380d",
         "11003218",
         "Sehr geehrter Herr Präsident! Sehr geehrte Kolleginnen und Kollegen! Mit der heutigen Konstituierung nimmt der Deutsche Bundestag zum 19. Mal seine Arbeit auf. Er ist die wichtigste Institution im Parlamentarismus in Deutschland, und er ist zugleich die Herzkammer unserer Demokratie; denn nur wir Abgeordneten sind vom Volk gewählt und damit unmittelbar legitimiert.\nIn diesem Haus debattieren wir über die besten politischen Lösungen, streiten um die besten Argumente und ringen um Mehrheiten. Alle vier Jahre tun wir das in Wahlkämpfen, dazwischen aber hier. Debatten im Bundestag sind daher das Thermometer für die Lebendigkeit unserer Demokratie. Nur dann, wenn sich die Bürgerinnen und Bürger in unseren Debatten wiederfinden, identifizieren sie sich auch mit unserem Parlament. Wenn aber am Küchentisch zu Hause oder am Stammtisch heftige politische Diskussionen stattfinden, die sich im Bundestag so nicht wiederfinden, dann verlieren wir als Abgeordnete unseren Rückhalt in der Bevölkerung. Selbstkritisch füge ich hinzu: Das war durchaus in den letzten Jahren der Fall und muss sich dringend ändern.\nDer Bundestag muss wieder zur zentralen Bühne der politischen Auseinandersetzung werden – und nicht Talkshows im Fernsehen oder Einzelinterviews von Journalisten, Frau Bundeskanzlerin.\nIhr Politikstil, Frau Merkel, ist ein Grund dafür, dass wir heute eine rechtspopulistische Partei hier im Bundestag haben.\nSie haben in diesem Wahlkampf jeden politischen Streit um die besseren Ideen und Konzepte, jede Debatte um die besten Argumente verweigert.\nDiese Vernebelungsstrategie mag in den vergangenen beiden Wahlkämpfen funktioniert haben.\nDiesmal führte sie aber dazu, dass die politischen Ränder stärker wurden denn je.\nDeshalb, liebe Kolleginnen und Kollegen, muss der Bundestag wieder lebendiger werden. Er braucht keine Regierung, um zu arbeiten – im Gegenteil: wir halten uns eine Regierung –, aber er braucht Regeln, die wir uns hier mit der gleich zu beschließenden Geschäftsordnung selbst geben werden. Diese Regeln müssen dem Anspruch des Parlaments, die Herzkammer der Demokratie zu sein, gerecht werden und diesen auch abbilden. Dass diese Regeln reformbedürftig sind, ist nicht neu. Daran haben wir bereits in der vergangenen Legislaturperiode gearbeitet und waren uns auch in vielen Punkten einig.\nGleichwohl hat Ihre Fraktion, Frau Bundeskanzlerin, die Union – wenn man denn noch von einer Union sprechen kann –,\nam Ende eine Einigung blockiert.\nDoch wir wollen heute nach vorne schauen. Deshalb beantragen wir, dass die Frau Bundeskanzlerin, so sie denn im Bundestag gewählt wird, sich viermal im Jahr einer direkten Befragung im Parlament stellt. Viermal im Jahr ist nicht zu viel.\nUnd – eigentlich eine Selbstverständlichkeit –: Wir wollen selbst festlegen, wozu wir die Regierung in der Regierungsbefragung befragen. Meine Damen und Herren, dagegen kann doch niemand sein.\nOhne die Blockade der Union in der letzten Legislatur hätten wir diese Meilensteine schon längst beschlossen. Ich gebe zu: Wir waren an einen Koalitionsvertrag gebunden. Deswegen, weil die Union das verhindert hat, haben wir das nicht beschließen können.\n– Selbstkritik gehört dazu.\nWir haben jetzt allerdings keinen Koalitionsvertrag. Oder haben wir den schon, meine Damen und Herren?\nWir geben uns heute hier eine Geschäftsordnung, in freier Entscheidung, und Sie haben die Möglichkeit, heute frei darüber zu entscheiden. Springen Sie auch!\nMachen wir heute einen Neustart, und geben wir uns Regeln, die das Parlament stärken!\nDer Bundestag hat mehr Kompetenzen als die meisten anderen Parlamente in Europa. Deswegen schauen auch viele in Europa auf uns. Bei unseren Kompetenzen sind wir Vorbild. Bei der Art und Weise, wie wir hier debattieren, müssen wir noch besser werden.\nVielen Dank.\n",
         "19",
         "1",
         "2"
        ],
        [
         "13",
         "c3cd4f9f-691c-4fea-9816-08da0ffa5a12",
         "11003541",
         "Herr Präsident! Sehr verehrte Gäste! Meine lieben Kolleginnen und Kollegen! Lieber Kollege Schneider, ich verstehe, dass man mit 20 Prozent als Bundestagswahlergebnis nach einem Schuldigen sucht. Ich empfehle, nicht immer nur ins Kanzleramt zu gucken.\nSuchen Sie im Willy-Brandt-Haus! Dort ist der Erfolg größer, dass Sie einen Schuldigen finden. Das geht dann vor allen Dingen auch schneller.\nDavon abgesehen stehen wir heute am Beginn einer Legislaturperiode. Wir haben bald – sofort nach der Konstituierung – Arbeitsfähigkeit hergestellt. Wir haben 289 Kolleginnen und Kollegen als neu gewählte Abgeordnete unter uns, die in der letzten Legislaturperiode diesem Bundestag nicht angehört haben. Zwei Fraktionen sind neu ins Parlament gezogen. Diese neuen Abgeordneten werden jetzt mit teils umfangreichen Änderungsanträgen zur Geschäftsordnung begrüßt.\nIch halte das weder für besonders stilvoll noch für sachlich gerechtfertigt und fair.\nDie neuen Kolleginnen und Kollegen hatten weder die Gelegenheit, sich mit Ihren Anträgen auseinanderzusetzen,\nnoch hatten sie Gelegenheit, jemals live eine Regierungsbefragung oder das, was Sie ändern wollen, überhaupt zur Kenntnis zu nehmen oder zu erfahren.\nDeswegen sagen wir: Ungeachtet der Möglichkeit, etwas zu ändern, wollen wir nicht, dass heute über die Anträge abgestimmt wird. Wir wollen sie überweisen, damit sie in Ruhe und mit der gebotenen Sachlichkeit beraten werden können.\nInsofern soll sich zunächst der Ältestenrat damit beschäftigen.\nWeil wir am Anfang der Beratungen stehen, möchte ich nur ein paar Anmerkungen machen.\nErstens: zum Änderungsantrag der AfD bezüglich des Alterspräsidenten. Hermann Otto Solms hat heute bewiesen, dass es sinnvoll ist, nicht nur auf Lebensalter zu setzen, sondern auch auf politische Erfahrung. Deswegen sehe ich da keinen Änderungsbedarf.\nZweitens: zu den Anträgen von SPD und Linken zu Änderungen bei der Regierungsbefragung. Sie wollen eine lebendige und informative Regierungsbefragung. Gar keine Frage, das wollen wir auch. Das Fragerecht muss aber Instrument der parlamentarischen Kontrolle bleiben und sollte nicht Kampfinstrument der Opposition werden. Ich glaube, es liegt in unserem gemeinsamen Interesse,\ndass wir sachlich argumentieren und nicht versuchen, nur persönlich zu attackieren. Deswegen habe ich da Bedenken. Aber um auch das klar zu sagen: Wir sind bereit, darüber zu reden – in der gebotenen Sachlichkeit und nicht im Hauruckverfahren. Ich kann verstehen, Herr Kollege Schneider, dass die SPD möglichst schnell in die Opposition will.\nWir werden Sie dabei unterstützen, aber dieses Antrags bedarf es dazu nicht.\nDrittens: zum Antrag der Linken auf unmittelbare Einsetzung der vier im Grundgesetz genannten Ausschüsse. Ich möchte betonen: Dieser Bundestag, der 19. Deutsche Bundestag, ist ab heute jederzeit in der Lage, zu arbeiten und Entscheidungen zu treffen, er ist arbeitsfähig und entscheidungsfähig, um das einmal klar zu sagen. Sie haben hier suggeriert, wir müssten diese Ausschüsse einsetzen. Das müssen wir nicht.\nEs gibt keine Fristen im Grundgesetz oder sonst wo, die uns vorgeben, diese Ausschüsse heute einzusetzen. Wir haben eine parlamentarische Gepflogenheit, Ausschüsse spiegelbildlich zu den vorhandenen Ministerien einzusetzen.\nWenn die aber noch nicht da sind, wird es schwierig mit dieser parlamentarischen Gepflogenheit. Deswegen bin ich dafür: Wir machen es so, wie es sich bewährt hat.\nIch denke, der parlamentarischen Praxis ist hier erneut Vorrang einzuräumen. Einzelne Fachausschüsse vorzuziehen, dieses Schrittes bedarf es nicht.\nAbschließend zum Antrag der AfD zu Minderheitenrechten. Aufgrund einer starken Großen Koalition bestand in der 18. Wahlperiode Anlass, darüber nachzudenken, ob Minderheitenrechte in ausreichendem Maße gewährleistet werden können, zugegeben bei einer damals recht kleinen Opposition. Die Minderheitenrechte waren Reaktion auf Mehrheitsverhältnisse, und es gibt deshalb auch keinen Grund, sie zu verlängern. Die ­GroKo ist nicht mehr vorhanden. Interessant ist ja auch, dass die AfD das Quorum auf 65 Abgeordnete senken will. Möglicherweise ist das die vorbeugende Reaktion auf weitere Austritte aus Ihrer Fraktion. Das weiß ich nicht.\nMal sehen, ob bei 65 Schluss ist. Sie haben ja noch ausreichend Zeit.\nMeine Damen und Herren, liebe Kolleginnen und Kollegen, die Anträge, die wir hier vorgestellt bekommen haben, gehören nicht in die konstituierende Sitzung. Wir haben viel Wichtigeres zu tun. Sie gehören in Ruhe beraten, damit man sich auch fachlich damit auseinandersetzen kann. Dafür sorgen wir als CDU/CSU-Bundestagsfraktion.\nVielen Dank.\n",
         "19",
         "1",
         "2"
        ],
        [
         "14",
         "5f5b69d6-028a-4233-612b-08da102a68d8",
         "11003764",
         "Sehr geehrter Herr Präsident! Meine Damen und Herren! Kommen wir einmal zum Kern der Debatte zurück.\nEs geht um das Thema Parlamentsrechte. Das, was wir in den letzten vier Jahren erlebt haben, war kein Glanzstück parlamentarischer Auseinandersetzung, wenn damit inhaltliche Debatten gemeint sind.\nDeshalb ist es gut, wenn wir uns alle wechselseitig daran erinnern – auch die, die heute vielleicht andere Rollen einnehmen, und all die, die noch nicht wissen, welche Rolle sie einnehmen werden –, was für ermüdende und langatmige Debatten wir hier in Zeiten dieser so Großen Koalition geführt haben. Ich kann mich sehr gut an die vielen Vorstöße aus unserer Fraktion erinnern, das Thema „Rechte des Parlaments stärken“ hier mehrheitsfähig zu machen. Wir sind leider immer wieder damit gescheitert; ich nenne nur: das Thema Parlamentskultur, die Frage der Debattenkultur, die Frage nach Transparenz und Öffentlichkeit von Ausschüssen und auch das Fragerecht oder die Regierungsbefragung. Außer mit dem Bundestagspräsidenten a. D., der auf der Tribüne sitzt, und vielleicht Einzelnen aus den Fraktionen gab es keine Übereinstimmung in dieser Frage. Und deshalb ist die Regierungsbefragung so, wie sie immer war, auch heute noch. Da braucht es dringend eine Änderung. Das sehen auch Bündnis 90/Die Grünen so.\nMeine Damen und Herren, ich wüsste nicht – deshalb kann ich das Gefeixe aus den Reihen der SPD gar nicht verstehen –, warum wir heute einfach Ihrem Antrag oder aber – es liegen ja zwei Anträge vor – dem Antrag der Linken folgen sollten, der wiederum anders ist. Auch wir haben Vorschläge zur Regierungsbefragung und zur Fragestunde gemacht. Im Antrag der SPD finden sich unsere Punkte nicht in Gänze wieder. Warum haben Sie in Ihrem Antrag zum Beispiel auf die Abschaffung der Konsumtionsregel verzichtet? Das ist doch ein wichtiges Instrument, gerade für die Opposition, meine Damen und Herren.\nOder warum wollen Sie die Dringlichen Fragen abschaffen?\nDas ist ein super Instrument für die Opposition; das würde ich mir noch mal überlegen.\nDie Frage ist auch: Warum wollen Sie eigentlich keine Befragung zu europäischen Themen?\nWir haben doch hier im Parlament den Anspruch, europäische Themen zu beraten, meine Damen und Herren.\nAlso jetzt mal Karten auf den Tisch: Warum sind all diese Sachen in Ihrem Antrag nicht enthalten?\nWarum die Lacherei darüber, dass Sie uns hier heute vorführen wollen? Das ist doch absurd. Ich möchte mit Ihnen darüber diskutieren, warum Sie auf all diese wesentlichen Sachen verzichten wollen.\nIch möchte mit der CDU/CSU darüber diskutieren, dass bei diesem Thema – auch bei der CDU/CSU – mal langsam ein bisschen Bewegung aufkommen muss, dass wir hier eine Veränderung brauchen. Herr Buschmann hat ja schon für die FDP erklärt, dass auch sie sich beim Thema Regierungsbefragung und Fragestunde etwas anderes vorstellt.\nDeshalb habe ich kein Verständnis dafür, liebe Kolleginnen und Kollegen von SPD und Linken, warum Sie meinem Vorschlag im Vor-Ältestenrat nicht gefolgt sind, es zu überweisen, sich alle Vorschläge aller Fraktionen im Deutschen Bundestag anzuschauen und dann sehr zeitnah darüber zu reden, wie wir es wirklich ändern.\nSie wollten uns mit der Geschichte heute einfach vorführen, und da machen wir nicht mit – deshalb der Antrag auf Überweisung.\nIch meine das sehr ernst und sehr eindrücklich: Ich wünsche mir, dass wir zur Stärkung des Parlamentes etwas verändern, dass wir beim Thema Transparenz etwas verändern. Dazu gehört die Regierungsbefragung, dazu hat unsere Fraktion auch noch weiter gehende Vorstellungen. Ich fände es toll, wir berieten das sehr zeitnah und in Ruhe, meine Damen und Herren.\nJetzt noch zum Antrag auf Einsetzung der Ausschüsse. Jan Korte, es ist ja nicht so, dass Sie den Antrag stellen, Ausschüsse einzusetzen. Nein, Sie beantragen, dass vier Ausschüsse in der Geschäftsordnung zwingend festgelegt werden. Wir sollten mal in Ruhe darüber diskutieren, warum es eigentlich diese vier Ausschüsse sein sollen, deren Einsetzung Sie heute fordern,\nwarum es zum Beispiel nicht der Geschäftsordnungs- und der Immunitätsausschuss sind.\nEs gibt ab heute hier im Haus allein zwei oder drei Mitglieder – das habe ich der Presse entnommen –, deren Angelegenheiten wir im Immunitätsausschuss zwingend diskutieren müssten, nicht hier im Plenum.\nIch fände es gut, wenn wir darüber mal in Ruhe redeten.\nMeine Damen und Herren, ich finde, wir sollten uns im Deutschen Bundestag sehr zeitnah wieder mit der Frage der Änderungen bei Transparenz und Parlamentsrechten befassen, nachdem alle Fraktionen ihre Vorstellungen eingebracht haben, damit wir es dann hoffentlich sehr schnell zu einem Ergebnis führen.\nDanke.\nWir kommen nun zur Abstimmung.\nÄnderungsantrag der Fraktion der SPD auf Drucksache 19/8 mit dem Titel „Weitergeltung von Geschäftsordnungsrecht“ – Fragestunde und Befragung der Bundesregierung. Die Fraktion der SPD wünscht Abstimmung in der Sache. Die Fraktionen der CDU/CSU, des Bündnisses 90/Die Grünen und der FDP wünschen Überweisung an den Ältestenrat.\nWir stimmen nach ständiger Übung zuerst über den Antrag auf Ausschussüberweisung ab. Ich frage deshalb: Wer stimmt für den Antrag der drei genannten Fraktionen auf Überweisung in den Ältestenrat? – Gegenstimmen? – Enthaltungen? – Damit ist der Antrag mit den Stimmen der Fraktionen der CDU/CSU, der FDP und des Bündnisses 90/Die Grünen gegen die Stimmen der SPD, der AfD und der Linken angenommen.\nDamit stimmen wir heute über den Antrag auf Drucksache 19/8 nicht in der Sache ab.\nÄnderungsantrag der Fraktion der AfD auf Drucksache 19/4 mit dem Titel „Weitergeltung von Geschäftsordnungsrecht (Alterspräsident)“. Die Fraktion der AfD wünscht, über ihren Antrag in der Sache abzustimmen. Die Fraktionen CDU/CSU, Bündnis 90/Die Grünen und FDP wünschen Überweisung an den Ältestenrat.\nWir stimmen nach ständiger Übung zuerst über den Antrag auf Überweisung ab. Wer stimmt dem Antrag auf Überweisung zu? – Gegenstimmen? – Enthaltungen? – Der Antrag ist angenommen mit den Stimmen der CDU/CSU-Fraktion, FDP-Fraktion, der Linken und Grünen bei Gegenstimmen bei AfD und SPD und bei Enthaltung der Fraktionslosen.\nÄnderungsantrag der Fraktion der AfD auf Drucksache 19/5 mit dem Titel „Weitergeltung von Geschäftsordnungsrecht (Minderheitenrechte)“. Die Fraktionen der CDU/CSU, des Bündnisses 90/Die Grünen und der FDP wünschen Überweisung an den Ältestenrat. Die Fraktion der AfD wünscht Überweisung an den Ausschuss für Wahlprüfung, Immunität und Geschäftsordnung.\nIch lasse zuerst abstimmen über den Antrag der Fraktion der AfD auf Überweisung an den Ausschuss für Wahlprüfung, Immunität und Geschäftsordnung. Wer stimmt für diesen Überweisungsvorschlag? – Wer stimmt dagegen? – Enthaltungen? – Der Überweisungsvorschlag ist mit den Stimmen aller Fraktionen gegen die Stimmen der Fraktion der AfD bei Enthaltung der Fraktionslosen abgelehnt worden.\nIch lasse nun abstimmen über den Überweisungsvorschlag der Fraktionen der CDU/CSU, der FDP und des Bündnisses 90/Die Grünen. Wer stimmt für diesen Überweisungsvorschlag? – Gegenstimmen? – Enthaltungen? – Der Überweisungsvorschlag ist angenommen mit den Stimmen der CDU/CSU, der FDP, des Bündnisses 90/Die Grünen und der Fraktion Die Linke bei Gegenstimmen der SPD-Fraktion und Enthaltung der AfD – sowie der beiden fraktionslosen Abgeordneten; die sehe ich immer nicht.\nÄnderungsantrag der Fraktion Die Linke auf Drucksache 19/6 mit dem Titel „Weitergeltung von Geschäftsordnungsrecht (Einsetzung der vom Grundgesetz vorgeschriebenen Ausschüsse in der konstituierenden Sitzung)“. Die Fraktion Die Linke wünscht Abstimmung in der Sache. Die Fraktionen CDU/CSU, FDP und Bündnis 90/Die Grünen wünschen Überweisung an den Ältestenrat.\nAuch hier stimmen wir nach ständiger Übung zuerst über den Antrag auf Ausschussüberweisung ab. Ich frage deshalb: Wer stimmt für die beantragte Überweisung? – Gegenstimmen? – Enthaltungen? – Die Überweisung ist angenommen mit den Stimmen der Fraktionen CDU/CSU, FDP und Bündnis 90/Die Grünen bei Gegenstimmen von SPD, AfD und der Fraktion Die Linke und – jetzt sehe ich sie – bei Enthaltung der zwei fraktionslosen Abgeordneten.\nÄnderungsantrag der Fraktion Die Linke auf Drucksache 19/7 mit dem Titel „Weitergeltung von Geschäftsordnungsrecht (Fragestunde und Befragung der Bundesregierung)“. Die Fraktion Die Linke wünscht Abstimmung in der Sache. Die Fraktionen CDU/CSU, FDP und Bündnis 90/Die Grünen wünschen Überweisung an den Ältestenrat. Wer stimmt für diesen Überweisungsvorschlag? – Gegenstimmen? – Enthaltungen? – Dann ist der Antrag angenommen mit den Stimmen von CDU/CSU, FDP und Bündnis 90/Die Grünen gegen die Stimmen der anderen Fraktionen, keine Enthaltungen.\n",
         "19",
         "1",
         "2"
        ],
        [
         "15",
         "f7a0c67b-013b-4c14-0624-08da0f05b642",
         "11003790",
         "Herr Präsident! Liebe Kolleginnen und Kollegen! Sehr geehrte Damen und Herren! Bei aller Kritik an der parlamentarischen Demokratie, der Geschäftsordnung und vielem anderen mehr will ich zumindest an eines erinnern: Wir sitzen hier aufgrund von freien Wahlen. Das haben Millionen andere nicht.\nUnd wir sind dem Grundgesetz verpflichtet, das nicht einfach irgendein Gesetz ist, sondern das die humane und demokratische Antwort auf die Verheerung und die Leichenberge des NS-Faschismus gewesen ist. Das gilt es jeden Tag zu verteidigen.\nAber es gibt natürlich auch berechtigte Kritik an unserem Verfahren hier, am Parlamentarismus. Dieser müssen wir uns stellen, und wir müssen das bessern. Deswegen haben wir als Linke zwei Änderungsanträge eingebracht, die ich kurz vorstellen will.\nWir wollen das Ganze lebendiger machen. Wir brauchen natürlich wirklich eine bessere Kontrolle des Regierungshandelns, und wir müssen die Abgeordnetenrechte und den Bundestag als solchen stärken. Jeder, der einmal die Regierungsbefragung und die Fragestunde gesehen hat – oder besser gesagt: ertragen musste –, entweder live hier oder bei Phoenix, weiß, dass wir diese grundlegend reformieren müssen. Dazu hat der geschätzte Präsident Lammert viel Richtiges gesagt.\nDazu gehört zwingend, dass die Fraktionen, besonders natürlich die Oppositionsfraktionen, hier Themen vorschlagen können, die zum Beispiel – so sie denn gewählt ist – der Bundeskanzlerin und der Bundesregierung sehr unangenehm sind. Das ist ganz zentral.\nIch will eines sagen: Was wirklich nicht geht, ist, dass es eine Befragung der Bundeskanzlerin lediglich in der Bundespressekonferenz gibt. Das geht nicht, liebe Kolleginnen und Kollegen.\nIch glaube, wir sollten das auch noch aus einem anderen Grunde tun: Erstens wollen wir hier besser werden: besser arbeiten, bessern streiten, wofür man übrigens Sachargumente und viele Stunden Zeit braucht. Ich glaube ferner, dass es auch politisch sinnvoll ist, heute ein Zeichen an diejenigen zu senden, die sich abgewandt haben, die gar keine Teilhabe an dieser Demokratie mehr haben, die nicht mehr wählen gehen, die damit nichts mehr zu tun haben wollen. Dafür ist es, finde ich, das Mindeste, zu versuchen, es besser zu machen.\nIn diesem Zusammenhang komme ich zum zweiten Antrag, den meine Fraktion, Die Linke, einbringt. Wir möchten – so wie es im Grundgesetz vorgeschrieben ist – sofort, also heute, die vier im Grundgesetz zwingend vorgeschriebenen Ausschüsse des Bundestages einsetzen. Das sind der Auswärtige Ausschuss, der Europaausschuss, der Verteidigungsausschuss und der Petitionsausschuss.\nWarum? Erstens. Wir alle hier – deswegen sitzen wir zusammen – sind gewählt. Das hat nichts mit Koalitionsverhandlungen zu tun. Der Bundestag ist gewählt! Wir sollten mit der Arbeit beginnen, liebe Kolleginnen und Kollegen.\nZweitens. Wählerinnen und Wähler haben logischerweise gerade in diesen Zeiten einen Anspruch darauf, dass das Parlament arbeitet, dass wir miteinander streiten und ringen. Wir müssen in den nächsten Monaten Auslandseinsätze der Bundeswehr verlängern, besser: ablehnen. Aber dafür muss man beraten und Expertise einholen. Das ist doch eigentlich völlig logisch.\nOb Jamaika nun kommt oder nicht, werden wir alles sehen. Aber die Verhandlungen können doch nicht allen Ernstes dazu führen, dass wir monatelang den Bundestag in Geiselhaft nehmen, bis Sie Ihre Befindlichkeiten in Ihrer Koalition gelöst haben; das geht nicht. Lassen Sie uns als Bundestag arbeiten und streiten!\nDer letzte Punkt, den ich ansprechen möchte, ist: Das hat auch etwas mit dem Selbstbild des Bundestages zu tun. Sind wir als Abgeordnete so selbstbewusst, zu sagen: „Die innere Organisation des Bundestages hängt nicht an Koalitionsverhandlungen, egal wie sie aussehen“? Ich finde, dieses Selbstbewusstsein sollten wir haben, liebe Kolleginnen und Kollegen.\nDeswegen zielen unsere Anträge auf die Stärkung des Bundestages, auf mehr Diskurs in diesem Bundestag und heute vor allem als ein Zeichen an diejenigen, die sich abgewandt haben, aber für die wir auch hier sitzen und die wir zurückgewinnen müssen, für demokratische Lösungen, für Streit, für die Menschenwürde und für das Kenntlichmachen, wo in diesem Haus die fundamentalen Unterschiede liegen. Dafür ist erforderlich, dass wir als Bundestag beginnen, zu arbeiten. Das müsste doch eigentlich auf der Hand liegen. Deshalb bitte ich um Zustimmung für unsere Änderungsanträge.\n",
         "19",
         "1",
         "2"
        ],
        [
         "16",
         "743d40e1-86b1-475d-53b7-08da0f22a008",
         "11003820",
         "Jawohl, Herr Präsident, ich nehme die Wahl an.\nIch beglückwünsche Sie und freue mich auf gute Zusammenarbeit.\n",
         "19",
         "1",
         "6"
        ],
        [
         "17",
         "a3b115af-558e-4034-56c1-08da0f22a008",
         "11004023",
         "Herr Präsident! Meine lieben Kolleginnen und Kollegen! Die konstituierende Sitzung des Deutschen Bundestages ist eines der schönsten Hochämter der deutschen Demokratie. Es gibt kaum einen größeren, einen bedeutenderen Anlass als diesen, wo wir uns gemeinsam hinter dem Prinzip der repräsentativen Demokratie versammeln. So groß, wie dieser Anlass ist, so klein muss man denken, wenn man diese Sitzung als Bühne für die Sucht nach Aufmerksamkeit und Öffentlichkeit missbrauchen möchte.\nGenau das tun aber alle Antragsteller. Alle wollen sie ihre eingeübten Rollen spielen.\nDie AfD geriert sich – ganz bewährt – als Opfer einer finsteren Verschwörung. Das kennen wir zur Genüge, das haben wir oft genug erlebt. Ich wollte dazu eigentlich gar nichts mehr sagen.\nAber, lieber Herr Kollege Dr. Baumann, indem Sie sich hier ernsthaft mit den O pfern Hermann Görings verglichen haben, haben Sie sich an Geschmacklosigkeit wieder selbst übertroffen.\nAuch Die Linke hat ihre bewährte Rolle. Sie gibt hier die Scheinheilige. Herr Korte trägt vor, es ginge darum, das Parlament schnell arbeitsfähig zu machen. Sie kennen die Praxis des Parlamentarismus in Deutschland ganz genau. Wir wissen heute nicht, welche Ausschüsse es insgesamt geben wird, wie groß sie sein werden, welche Kollegen wohin gehen müssen. Dass das in den Fraktionen natürlich besprochen werden muss, ist Ihnen bekannt.\nEs geht Ihnen um nichts anderes, als hier wieder ein Stück Aufmerksamkeit für sich in Anspruch zu nehmen. Darin unterscheiden Sie sich mit Ihrem Anliegen kein bisschen von der AfD.\nWissen Sie, dass die extreme Rechte und die extreme Linke\nversuchen, diese Bühne zu missbrauchen, war gewissermaßen sogar erwartbar. Aber dass die altehrwürdige SPD\nin diesen Chor einstimmt, kann einen wirklich nur verwundern.\nAuch bei uns gibt es zahlreiche Ideen dazu, wie man diese Geschäftsordnung verbessern kann. Wir sind sehr für mehr Transparenz, wir haben auch Ideen, die darüber hinausgehen. Aber dass man versucht, in der konstituierenden Sitzung in ein komplexes Regelwerk einzusteigen, ohne vernünftige Beratung, ohne Austausch, ohne Arbeit am Detail leisten zu können, zeigt doch in Wahrheit, dass es Ihnen gar nicht um die Sache geht. Es geht Ihnen in Wahrheit doch um etwas ganz anderes.\nWir wissen auch, worum es Ihnen dabei geht. Es geht Ihnen um nichts anderes – Sie haben zum Teil wortgleiche Initiativen der Fraktion Bündnis 90/Die Grünen übernommen –, als die Grünenkollegen in eine peinliche Situation zu bringen. Sie wollen erzwingen, dass die ihre eigenen Anträge ablehnen. Das ist offen gestanden für die konstituierende Sitzung des Deutschen Bundestages eine ganz kleine parteipolitische Münze. Das hat dieses Hohe Haus nicht verdient, meine Damen und Herren.\nLiebe Kolleginnen und Kollegen, ich kann Ihnen zum heutigen Tage nicht sagen, ob die Fraktion der Freien Demokraten eine Regierung tragen wird oder den Gang in die Opposition antreten wird.\nAber ich kann Ihnen eines sagen: Wenn wir den Gang in die Opposition antreten, dann nicht mit solcher Effekthascherei. Das hat das deutsche Volk und das haben die Wähler nicht verdient.\n",
         "19",
         "1",
         "2"
        ],
        [
         "18",
         "ae654b1e-284d-4340-6c93-08da0f22a008",
         "11004662",
         "Herr Präsident! Meine Damen und Herren! Immer deutlicher zeigte sich im Verlauf dieses Jahres, dass die AfD in den Bundestag einziehen würde und dass sie auch den Alterspräsidenten stellen würde, weil sie neben vielen jungen Abgeordneten eben auch den ältesten Abgeordneten mit an Bord hatte.\nAls dies deutlich wurde, änderten Sie hier im alten Bundestag ganz schnell die Geschäftsordnung – knapp vor der Wahl, zwei Wochen vor Ende Sitzungsperiode. Meine Damen und Herren, das war ein so durchsichtiges Manöver; das lassen wir Ihnen hier nicht durchgehen!\nEine List, mit der Sie die AfD ausgrenzen wollten! Das kann so nicht weitergehen!\nDie AfD hatte gerade den 13. Wahlsieg in Folge erzielt – eine Triumphserie bei Landtagswahlen, die so zuvor keine Partei nach ihrer Gründung erzielt hatte.\nDer alte Bundestag aber änderte die Geschäftsordnung plötzlich so, dass nicht mehr der älteste Abgeordnete, sondern der mit der längsten Dienstzeit die erste Sitzung als Alterspräsident eröffnen sollte. Und das würde dann nicht mehr ein AfD-Abgeordneter sein. Sie begründeten dies damit, dass nur der dienstälteste Abgeordnete eine korrekte Sitzungsleitung sicherstellen könne. Das war das Argument. Aber, meine Damen und Herren, seit 1848 ist in Deutschland Tradition, dass die konstituierende Sitzung natürlich vom ältesten Mitglied der Versammlung eröffnet wird.\nDas war eine Tradition von der Frankfurter Paulskirche bis Gustav Stresemann, von Adenauer über Brandt bis Kohl, ja bis zu der ersten Regierung Merkel. Alle Reichstage, alle Bundestage konnten dem Argument „Dienstalter“ nichts abgewinnen. Das ist ja auch klar. In 150 Jahren Parlamentsgeschichte blieb die Regel des Alterspräsidenten unangetastet.\nUnangetastet? Es gab eine Ausnahme: 1933 hat Hermann Göring die Regel gebrochen, weil er politische Gegner ausgrenzen wollte, damals Clara Zetkin.\nWollen Sie sich auf solch schiefe Bahn begeben? Kommen Sie zurück auf die Linie der großen deutschen Demokraten! Dazu fordere ich Sie hier auf.\nDenn stets eröffnete der Parlamentarier, der aufgrund von Lebenserfahrung und Altersweisheit Versammlungen besonders umsichtig eröffnen konnte. Das waren die Idee und die Tradition über 150 Jahre. Denn zur bloßen Eröffnung ist ja kein geballtes Geschäftsordnungswissen vonnöten. Es wird sofort ein Versammlungspräsident gewählt, der versiert in der Sache ist. Auch deshalb ist Ihr Argument, der Dienstälteste müsse aus fachlichen Gründen eröffnen, schlichtweg unsinnig, meine Damen und Herren.\nSelbst die Presse, die uns ja nicht durchgängig gewogen ist, warnte, dass dieses Manöver gegen die AfD durchsichtig sei, und sprach von Lex AfD. Der „Tagesspiegel“ sprach von „Trickserei“. „Focus“ resümierte:\nDie Entscheidung wirft kein gutes Licht auf die parlamentarische Kultur in Deutschland.\nRecht hat er, meine Damen und Herren!\nWie groß, frage ich Sie, muss die Angst vor der AfD und ihren Wählern sein, wenn Sie zu solchen Mitteln greifen?\nDeswegen fordere ich Sie auf: Kehren Sie um! Vertrauen Sie wie wir den bewährten Traditionen des deutschen Parlamentarismus! Stimmen Sie unserem Antrag zu!\nMeine Damen und Herren, nehmen Sie zur Kenntnis: Der alte Bundestag, in dem Sie alles untereinander regeln und die Konkurrenz wegdrücken konnten wie hier bei der Frage des Alterspräsidenten, wurde abgewählt. Das Volk hat entschieden. Nun beginnt eine neue Epoche.\nVon dieser Stunde an werden hier Themen neu verhandelt, nicht nur Ihre Manöver und Tricks bei der Geschäftsordnung, sondern künftig auch Euro, gigantische Schuldenübernahmen, riesige Einwanderungszahlen, offene Grenzen und immer brutalere Kriminalität auf unseren Straßen, meine Damen und Herren.\n",
         "19",
         "1",
         "2"
        ],
        [
         "19",
         "70607058-fd20-45c0-5b6f-08da0f22a008",
         "11002733",
         "Vielen Dank, Frau Präsidentin. – Ja, die Personengesellschaften in Deutschland unterliegen der Einkommensteuer. Wir haben für die Personengesellschaften, die sehr hohe Erträge zu versteuern haben, die Möglichkeit der Thesaurierungsrücklage geschaffen. Daher können diese Unternehmen ihre Einkünfte zu einem Steuersatz versteuern, der dem von Körperschaften vergleichbar ist.\nFür die Personengesellschaften, die niedrigere Erträge haben, wird eine Entlastung erfolgen, wenn die Koalition die Überlegung, niedrige Einkommen bei der Einkommensteuer zu entlasten, realisiert.\n",
         "19",
         "10",
         "1"
        ],
        [
         "20",
         "4a211069-069b-4548-645c-08da0f22a008",
         "11002733",
         "Herr Kollege, wir haben in der vergangenen Wahlperiode nicht mit Blick auf die Waldbesitzer, sondern mit Blick auf die Landwirte, die ja ihre Betriebe auf unterschiedliche Ertragslagen aufgrund der Wetterlagen einstellen mussten, hier im Haus die Entscheidung getroffen, dass ein Mehrjahresausgleich und damit eine Glättung der Einkünfte vorgenommen werden kann. Dieses Gesetz muss allerdings aufgrund europarechtlicher Vorgaben notifiziert werden. Wir haben es deshalb zur Notifizierung bei der Kommission vorgelegt. Diese Notifizierung ist aber bisher nicht abgeschlossen.\nLiebe Kolleginnen und Kollegen, wir sind jetzt am Schluss der für die Befragung der Bundesregierung festgesetzten Zeit, aber ich habe noch sieben Wortmeldungen. Ich verweise auf unsere Regel: eine Minute Frage, eine Minute Antwort. Ich lasse diese sieben Fragen und Antworten noch zu, achte aber genau auf die Einhaltung der Redezeit. Nach unseren Regeln verkürzt sich damit – für alle zur Erinnerung – die Zeit für die darauffolgende Fragestunde.\n",
         "19",
         "10",
         "1"
        ],
        [
         "21",
         "a914bfea-8684-4446-0640-08da0f05b642",
         "11002738",
         "Herr Präsident! Kolleginnen und Kollegen! Die Bankenunion ist einer von drei Bausteinen, die dem Euro-System mehr Stabilität geben sollen. Wie wichtig mehr Stabilität ist, haben die Erfahrungen mit der Euro-Schuldenkrise gezeigt. Diese ist vom Deutschen Bundestag und mit einem großen Gemeinschaftsgeist in Deutschland erfolgreich bewältigt worden. Wir haben die Einlagen der Sparer gerettet, wir haben die richtigen Regulierungen getroffen und haben in fraktionsübergreifender Gemeinschaft im Deutschen Bundestag rund um die Uhr Schlimmeres verhindert. Das ist die Tatsache, meine Damen und Herren.\nFazit ist: Stabilität erreicht man nur, wenn die Maßnahmen richtig und sachbezogen ausgestaltet werden. Dabei steht aus Sicht der Union ein Grundsatz ganz oben: Risiko und Haftung dürfen nicht voneinander getrennt werden. Dieses Prinzip, dieser Grundsatz muss zum Maßstab genommen werden.\nDas muss gerade auch für die Bankenunion gelten.\nVor allem aber müssen die Risiken abgebaut werden, bevor eine Vollendung der Bankenunion tatsächlich verantwortet werden kann. Risiken, meine Damen und Herren, gibt es leider noch zuhauf. Das ist natürlich auch wahr. Da ist zum einen die anhaltend hohe Verschuldung einer ganzen Reihe von Mitgliedstaaten. Da gibt es zum anderen faule Kredite in erheblichem Umfang in den Bankenbilanzen. Deshalb darf die europäische Bankenunion kein Transferinstrument werden, und, meine Damen und Herren, die CDU/CSU plant dies auch nicht. Das möchte ich noch einmal klar und deutlich hervorheben.\nEs ist klar: Der Steuerzahler und die Sparer müssen geschützt werden. Und Voraussetzung bleibt: Stabilität erreicht man nicht durch eine bloße Vergemeinschaftung von Schulden. Deshalb ist klar: Vor der Installierung einer europäischen Bankenunion müssen faule Kredite abgebaut werden. Hierzu gibt es eine Benchmark: Anteil der faulen Kredite in den USA 2 Prozent, in Deutschland 2,5 Prozent. Das ist etwas schlechter, aber es gibt auch Länder, bei denen der Anteil der faulen Kredite bei 15, 20 oder gar 50 Prozent liegt. Da muss gehandelt werden. Darauf müssen wir hinwirken. Das werden wir auch tun, indem wir in der Gemeinschaft dafür sorgen, dass das Stabilitätsbewusstsein stärker verankert wird.\nDazu gehört natürlich auch, dass wir Staatsanleihen risikoadäquat behandeln; denn Staatsanleihen sind eben nicht risikofrei. Wir mussten immer wieder lernen, dass die Aufkäufe angeblich risikofreier Staatsanleihen oder deren Finanzierung schon ein Risiko bedeuten.\nWir haben es für den richtigen Weg gehalten, die Finanzierung von Staatsanleihen in Zukunft mit Eigenkapital zu unterlegen. Wir haben es hier sicher mit einer komplexen Frage zu tun. Deshalb: Ehrgeizige Zeitpläne sind gut, aber Sorgfalt muss natürlich auch hier vor Schnelligkeit gehen.\nMeine Damen und Herren, wir müssen alles dafür tun, dass zunächst einmal bei den Banken gehandelt wird. Eine Eigenkapitalquote von 8 Prozent der Bilanzsumme als Sicherheit ist sicher ein richtiger Weg, um Stabilität in den Banken zu erreichen, um Vertrauen bei den Finanzmarktkunden zu schaffen. Das ist unabdingbar; denn die Eigentümer, Gläubiger und die nationale Einlagensicherung sind vor Ort gefragt, wenn die Banken in irgendeine Schieflage kommen, nicht eine Vergemeinschaftung.\nWir sind richtig beraten, eine Bankenunion mit Augenmaß mit den großen Aufgaben der Regulierung zu verbinden. Wir werden darauf achten, dass die Sparer, die Finanzmarktkunden in Deutschland nicht in Haftung genommen werden. Die Steuerzahler dürfen nicht in Haftung genommen werden. Das ist die Voraussetzung für eine Bankenunion auf europäischer Ebene.\nHerzlichen Dank.\n",
         "19",
         "10",
         "3"
        ],
        [
         "22",
         "4deb995f-0d74-4bf4-6bcb-08da0f22a008",
         "11003033",
         "Vielen Dank, Herr Abgeordneter. – Zu diesem Thema stand das Ministerium für Verkehr und digitale Infrastruktur in Kontakt mit den zuständigen europäischen Stellen; da gab es Verhandlungen. Das war um die Weihnachtsfeiertage und den Jahreswechsel herum. Wir haben bisher ein Verhandlungsergebnis dahin gehend erreicht, dass wir dafür Sorge tragen wollen, dass in diesen Fragen der Parlamentsvorbehalt erhalten bleibt. Die nationalen Parlamente werden also immer mit einbezogen werden, wenn es um Entscheidungen geht.\n",
         "19",
         "10",
         "1"
        ],
        [
         "23",
         "02a4928b-8f4e-45d8-5f3e-08da102a68d8",
         "11003422",
         "Sehr geehrter Herr Präsident! Liebe Kolleginnen! Liebe Kollegen! Liebe Gäste auf der Tribüne! Ich finde es schön von der FDP, dass man der neuen Vorsitzenden des Finanzausschusses gleich die Möglichkeit gibt, eine Rede zu halten. Man hat überlegt: Wie schafft man das am besten? Man macht eine Aktuelle Stunde. – Es hätte heute viele Themen für eine Aktuelle Stunde gegeben. Man hätte beispielsweise über den Stand der Sondierungen zum Thema „Steuern und Finanzen“ reden können.\nMan hätte über die Boni der Deutschen Bank reden können. Man hätte über das Fehlen von Grundschullehrern und die finanziellen Auswirkungen auf die Haushalte reden können. Man hätte über die Hausdurchsuchungen des Zolls reden können.\nSogar über die Sturm- und Hochwasserschäden der letzten Wochen hätten wir reden können. Wir hätten auch über die aktuelle Besetzung des Finanzausschusses reden können. Aber ich habe mir wirklich die Frage gestellt: Was ist an dem Thema der von Ihnen beantragten Aktuellen Stunde „Positionierung der Bundesregierung zu einer europäischen Bankenunion“ aktuell? Es ist deswegen nicht aktuell, weil wir eine geschäftsführende Bundesregierung haben, die alles das umsetzt, was wir in der Vergangenheit beschlossen haben. Ich habe heute bei den Nachrichtenagenturen und in Tickerberichten nachgesehen, aber ich habe nichts Aktuelles gefunden, und es kam ja auch nichts Aktuelles.\nEs gibt also in dieser Woche nichts richtig Aktuelles. Sie sind länger nicht hier gewesen, aber Aktuelle Stunden beinhalten in der Regel aktuelle Themen.\n– Nein, das ist nicht peinlich.\nIch will etwas zur Bankenunion sagen.\n– Das hätten Sie auch beantragen können, haben Sie aber nicht.\nDeswegen rede ich jetzt zu Ihrem Antrag.\nDie EZB hat, so wie wir alle es mitbeschlossen haben, im November 2014 die Verantwortung für den Einheitlichen Europäischen Bankenaufsichtsmechanismus übernommen; das wissen wir alle. Das ist, wie gesagt, schon mehrere Jahre her. Seitdem ist sie für signifikante Banken zuständig. Das sind Banken, deren Bilanzsumme mindestens 30 Milliarden Euro oder 20 Prozent des BIP des Mitgliedstaates umfasst und die zu den drei größten Banken des jeweiligen Mitgliedstaats gehören. Nicht signifikante Banken werden weiterhin von nationalen Aufsichtsbehörden überwacht.\nWir haben einen Einheitlichen Abwicklungsmechanismus. Das heißt, diese eben von mir angesprochenen Banken und große, grenzüberschreitende Banken werden jetzt auf europäischer Ebene einheitlich abgewickelt.\nRisiko und Haftung haben bei uns von Anfang an zusammengehört. Wir haben von Anfang an gesagt: Wir müssen das zusammen betrachten. Was haben wir für Banken vor uns, welche Risiken gehen sie ein, und wie müssen sie abgewickelt werden? – Bis zum 31. Dezember 2023 soll ein gemeinsamer Abwicklungsfonds eingerichtet werden, der mit 55 Milliarden Euro ausgestattet wird. Vorrangig werden Anteilseigner und Gläubiger herangezogen – das sogenannte Bail-in –, dann erst der Staat. Es gibt also keine Gemeinschaftshaftung der teilnehmenden Mitgliedstaaten durch den Fonds. Das war uns allen sehr wichtig. Auch in den Sondierungspapieren, über die Sie ja heute nicht reden wollten, steht das drin. Wir haben mit der CDU/CSU noch einmal aufgeschrieben, dass wir Haftung und Risiko nicht auseinanderfallen lassen wollen.\nGerade laufen die Koalitionsverhandlungen zum Thema „Finanzen und Steuern“. Ich kann Ihnen nicht sagen, was dort gerade neu verhandelt wird; aber das können wir zu gegebener Zeit hier weiter diskutieren.\nDer geschäftsführende Finanzminister Altmaier hat Schwachstellen in der europäischen Währungsunion angesprochen. Er hat auch darauf hingewiesen – Kollegin Tillmann hat es angesprochen –, dass auf dem EU-Gipfel im Juni wichtige Entscheidungen für die Architektur der Euro-Zone gefällt werden müssen.\nWir haben auch die Bedenken von Sparkassen und Volksbanken immer sehr ernst genommen. Dass sie ein eigenes Absicherungssystem haben und am liebsten überhaupt nicht in irgendeiner anderen Form in Anspruch genommen werden wollen, haben wir immer berücksichtigen wollen, und wir haben auch versucht, das nach Brüssel zu tragen. Dazu gibt es Anträge und Resolutionen; da haben wir in den letzten vier Jahren eine ganze Menge gemacht. Trotzdem brauchen wir eine Risikoabsicherung. Wir brauchen auch einen einheitlichen Mechanismus.\nWir wollen alle zusammen in Europa weiter vorankommen. Dafür ist es wichtig, dass wir eine gute Zusammenarbeit im Euro-Raum haben.\nSie können sicher sein: Der nächste Finanzminister oder die nächste Finanzministerin wird diese erfolgreiche Politik fortführen.\nIch freue mich darauf.\nFreuen würde ich mich auch, wenn Sie nächstes Mal eine etwas aktuellere Thematik für Ihre Aktuelle Stunde aussuchen würden.\nVielen Dank für Ihre Aufmerksamkeit.\n",
         "19",
         "10",
         "3"
        ],
        [
         "24",
         "58de2c86-0ba0-4880-64e6-08da0f22a008",
         "11003493",
         "Vielen Dank für den Bericht. – Ich habe eine Frage an Sie, Frau Ministerin, im Hinblick auf die Rolle des Klimaschutzes und der Umweltpolitik im Rahmen Ihrer Tätigkeit als Wirtschaftsministerin.\nSie werden aus der Industrie heraus ja vermehrt dazu aufgefordert, Klimaschutz als bedeutende Chance zu sehen. Sie werden zum Beispiel vom VW-Chef Müller aufgefordert, die Dieselsubventionen abzubauen. Die Industrie scheint hier also deutlich weiter zu sein als die Bundesregierung, weil sich die Bundesregierung ihrerseits vom Klimaziel 2020 verabschiedet, was wir für ein fatales Signal halten.\nIch möchte von Ihnen wissen, inwieweit Sie als Ministerin für eine ökologische Industrie- und Wirtschaftspolitik stehen, die auch international eine Vorreiterrolle übernehmen kann und sich eben nicht von den entsprechenden Zielen verabschiedet, sondern versucht, diese mit aller Kraft zu erreichen.\n",
         "19",
         "10",
         "1"
        ],
        [
         "25",
         "e1a116e1-d9b7-4184-579a-08da0f22a008",
         "11003547",
         "Ich möchte die Bundesregierung zum Thema Familiennachzug fragen, wie ich ihre Aussage zu verstehen habe, dass die Definition eines Härtefalls Gegenstand von Gesetzgebungsprozessen ist und es keine Überlegungen gibt, sich hinsichtlich einer Definition an der Härtefallregelung des Landes Berlin zu orientieren. Gestern wurde aber im Hauptausschuss den Abgeordneten genau das Gegenteil als Überlegung bekannt gegeben. Wie passt das zusammen?\n",
         "19",
         "10",
         "1"
        ],
        [
         "26",
         "50ccd658-673d-4479-f36a-08da0e4d69bc",
         "11003547",
         "Sehr geehrte Frau Ministerin, Sie schreiben in dem Bericht – ich zitiere von Seite 9 –:\nFinanzpolitische Handlungsspielräume sind zu nutzen, um die Ausgabenstruktur des Bundeshaushalts schrittweise zu Gunsten wachstumsfördernder Investitionen in Bildung, Forschung und Infrastruktur zu verbessern.\n",
         "19",
         "10",
         "1"
        ],
        [
         "27",
         "629d375b-c0a2-4c3f-fbcb-08da0daf380d",
         "11003628",
         "Wie ein Härtefall definiert wird, wird Gegenstand der gesetzlichen Beratungen sein. Gestern im Hauptausschuss ist ja eine Übergangsregelung auf den Weg gebracht worden. Die Überlegungen aber, die Sie eben angestellt haben, gibt es in der Bundesregierung bisher nicht.\n",
         "19",
         "10",
         "1"
        ],
        [
         "28",
         "caeb519d-1b6d-45c4-6be1-08da102a68d8",
         "11003628",
         "Ich saß gestern im Hauptausschuss. Wir haben solche Überlegungen nicht geäußert. Ich habe gestern im Hauptausschuss lediglich dargestellt, welche möglichen Kriterien es geben könnte, um einen Härtefall entsprechend zu definieren.\n",
         "19",
         "10",
         "1"
        ],
        [
         "29",
         "ef59b72f-b33d-43da-5de1-08da0f22a008",
         "11003646",
         "Herr Präsident! Liebe Kolleginnen und Kollegen! Sehr geehrte Frau Kollegin Stark-Watzinger, es ist keineswegs so, dass das Thema Bankenunion bisher hinter verschlossenen Türen diskutiert worden wäre. Auch ohne die FDP hat es dieser Deutsche Bundestag in der letzten Legislaturperiode geschafft, sich in zwei Beschlüssen mit der Einlagensicherung zu befassen. Ich empfehle Ihnen die Beschlüsse vom 4. November 2015 und vom 23. Februar 2016. Da haben wir intensiv darüber diskutiert und uns natürlich auch mit den Problemen der Bankenunion beschäftigt.\nDas werden wir auch weiterhin tun.\nIm Gegensatz zu Ihnen mit Ihrer sehr kritischen Rede sind wir aber fest davon überzeugt: Wir brauchen Europa, wir wollen Europa. Wir waren in Europa auch schon auf einem sehr guten Weg zur Regulierung der Finanzmarktkrise.\n– Wenn Sie kurz zuhören, will ich Ihnen gerne sagen, was wir schon alles an Positivem erreicht haben.\nWir haben mit dem Stresstest begonnen.\nÜber 130 Banken sind von der EZB geprüft worden. 25 Banken haben eine Kapitalunterdeckung aufgewiesen. Diese 25 Banken haben Kapital herangeschafft, sodass es zu einer Risikominderung gekommen ist.\nWir haben eine europäische Aufsicht. Diese Aufsicht funktioniert immer besser und so gut, dass wir darüber nachdenken, ob man über eine Small Banking Box diese Regulierung bei kleineren Banken erleichtern könnte.\nDen Bankenabwicklungsmechanismus haben Sie beschrieben. Wir haben die Regelung, dass Steuerzahler in Europa nur noch in Ausnahmefällen für Abwicklungsbanken bezahlen müssen. Das haben wir über einen Mechanismus sichergestellt, den Bail-in, wonach Eigentümer und Anteilseigner vorrangig haften. Wir haben einen Abwicklungsfonds mit bis zu 55 Milliarden Euro installiert, der schon zu einem Drittel angespart wurde. Auch da haben wir Sicherheit in die Finanzmärkte gebracht.\nWir haben die Einleger über eine Einlagensicherung geschützt. Alle Banken Europas müssen einem nationalen Einlagensicherungssystem angehören. Das ist ein Riesenschritt in die richtige Richtung. Einlegern können bis zu 100 000 Euro grenzüberschreitend ausgezahlt werden, in Sondersituationen sogar bis 500 000 Euro. Das ist ein guter Schritt in Europa. Ich finde, es gehört zu einer ehrlichen Debatte, zu sagen, dass wir massive Fortschritte für Einleger erreicht haben.\nNatürlich weiß ich, dass es noch eine Menge zu tun gibt. Sie haben zu Recht darauf hingewiesen, dass der Ecofin-Rat am 17. Juni 2016 genau das gesagt hat. Wir haben die ersten Schritte gemacht; ihnen müssen weitere folgen. Der wichtigste nächste Schritt ist die Risikoreduzierung, der Abbau notleidender Kredite. Eine Quote von durchschnittlich 4,6 Prozent an Non-Performing Loans in Europa ist zu viel; einige Staaten weisen sogar eine Quote von 46 Prozent auf. Wir brauchen europäische Benchmarks, mit denen die durchschnittliche Quote der Non-Performing Loans in Europa reduziert wird.\nWir müssen auch das Insolvenzrecht harmonisieren. Wir brauchen europäische Vorgaben, wie bei faulen Krediten in Sicherheiten vollstreckt werden kann. In manchen Staaten geht das recht zügig; andere Staaten brauchen Jahre, bis in die Sicherheiten vollstreckt werden kann.\nWir merken, dass der Bail-in-Puffer in Europa schon wieder infrage gestellt wird. Wir werden aber darauf bestehen; darin sind wir uns mit unserem ehemaligen Finanzminister Schäuble und unserem jetzigen Finanzminister Altmaier einig. Unser Staatssekretär kämpft auf allen Ebenen in Europa dafür, dass die von uns eingeführte Grenze nicht wieder infrage gestellt wird.\nIch erwähne die latenten Steuern; das haben Sie noch gar nicht genannt. Natürlich dürfen Nationalstaaten über die Behandlung von latenten Steuern nicht weitere Risiken in die Bankbilanzen schieben.\nBei Staatsanleihen geht es um dasselbe Thema. Wir müssen uns über die Risikogewichtung von Staatsanleihen unterhalten und dabei aber auch im Blick behalten, dass die Staaten, die dank des Rettungsschirms wieder gut dastehen, nicht zusätzliche Probleme bekommen.\nIch teile Ihre Auffassung, dass es noch viel zu tun gibt. Ich teile nicht Ihre Auffassung, dass wir uns bisher nicht erfolgreich auf den Weg gemacht haben. Ich glaube, es macht keinen Sinn, alles schlechtzureden und die schlechten Seiten in den Vordergrund zu stellen. Es macht vielmehr Sinn, unserem künftigen Finanzminister gemeinsam mit auf den Weg zu geben, was wir wollen. Wir wollen zuerst eine Risikoreduktion, danach kann der zweite Schritt erfolgen. Das werden wir schaffen, das werden wir tun, und zwar öffentlich, wie immer in diesem Haus. Vielleicht gucken Sie einmal in die Anträge. Wir sollten sie dem neuen Finanzminister für seine Diskussionen auf europäischer Ebene mit auf den Weg geben. Aber ich bleibe dabei: Europa ist wichtig für Deutschland. Wir wollen eine europäische Harmonisierung.\nDafür kämpfen wir mit aller Macht.\nDanke schön.\n",
         "19",
         "10",
         "3"
        ],
        [
         "30",
         "8dd9b261-a22c-431b-279d-08da0d9e2391",
         "11003837",
         "Herr Präsident! Liebe Kolleginnen und Kollegen! Ich will jetzt gar nicht auf das eingehen, was Sie, Kollege Weyel, gesagt haben. Ich glaube, es war deutlich, dass sich selbst große Teile Ihrer eigenen Fraktion für das geschämt haben, was Sie hier dargeboten haben.\nIch würde auch sagen, Frau Arndt-Brauer: Es ist durchaus ein aktuelles Thema, das man diskutieren kann. Es ist zwar der Vorwurf falsch, dass wir nicht darüber geredet haben – so wird ja gesagt, bloß weil die FDP nicht dabei war –, aber es ist in der Tat ein Thema, das in Europa auf der Tagesordnung ist und womit sich der Deutsche Bundestag beschäftigen sollte.\nWas in dieser Debatte problematisch ist, ist der Eindruck, den Sie, Frau Stark-Watzinger, in Ihrer Rede erweckt haben, dass nämlich diese faulen Kredite in Höhe von 950 Milliarden Euro in Europa jetzt vergemeinschaftet werden sollen. Darum geht es nicht. Niemand will das. Sie deuten das an, um die Leute vor Angst auf die Palme zu treiben. Dabei geht es doch darum, die Risiken zu reduzieren und Europa stabil zu machen. Das sollte man nicht in so eine Ecke stellen.\nSie landen nämlich sonst da, wo die britischen Tories gelandet sind. Inzwischen sagen die Studien aus dem Brexit-freundlichen Haus von Theresa May: Egal wie verhandelt wird, es wird ökonomisch schlechter sein für Großbritannien. – Wer in Europa nicht mitmachen will, wird schlechter dastehen. So wird es auch uns gehen, wenn wir bei dieser Frage nur Nein sagen. Das ist keine Lösung.\nSie vermitteln den Eindruck, als hätten wir immer noch nationale Bankenmärkte und als hätten wir mit den Banken in anderen Ländern überhaupt nichts zu tun. Wenn es so wäre, dann könnte man sagen: Jedem sein Einlagensicherungstöpfchen! – Aber die Welt ist schon lange nicht mehr so. Es gibt einen Finanzbinnenmarkt. Da gibt es spanische Banken, die in Deutschland Business machen. Da gibt es italienische und französische Banken. Zu meinen, dass wir in Deutschland dann, wenn es woanders ein Problem mit der Einlagensicherung gibt, nicht massiv darunter zu leiden hätten, ist einfach ökonomisch völliger Humbug.\nDeswegen brauchen wir eine Stabilisierung in Europa. Das ist eine notwendige Ergänzung.\nUm was geht es? Es geht darum, dass man für den Fall, dass der Einlagensicherungstopf eines anderen Mitgliedstaates bei einer Krise nicht ausreicht, eine Lösung hat. Jetzt schlägt die Kommission einen Weg vor – bis zu einer gemeinsamen Einlagensicherung. Da muss man einfach einmal zur Kenntnis nehmen, dass die USA mit genau einer solchen Regelung ein hervorragendes Beispiel dafür haben, dass der Steuerzahler geschützt wird. Darüber, dass das dem Schutz der Steuerzahler dient und dass es nicht darum geht, ihn zur Kasse zu bitten, haben Sie kein Wort verloren.\nSie sagen: Da gibt es so viele Probleme in anderen Ländern. – Ja bitte! Schauen Sie sich doch die Zahlen an! Unsere Banken waren keinen Deut besser. Man weiß nicht, wer bei der nächsten Krise von dem gemeinsamen System profitieren würde. Vielleicht wäre es Deutschland. Unsere Banken waren in der letzten Krise nicht stabiler als die anderen. Vielleicht sind sie es auch in der nächsten Krise nicht. Nicht so eine deutsche Hybris! Das hat in Europa keinen guten Klang.\nWas wir Grünen vorschlagen, ist, dass wir jetzt nicht einen gemeinsamen Topf schaffen, aber ein Rückversicherungssystem. Wir wissen doch, wie Versicherungen funktionieren. Ich muss doch nicht mit allen Mitgliedern der Versicherung, bei der ich Kunde bin, befreundet sein. Darunter sind viele, die ganz dumme Sachen machen. Aber die Versicherung ist für mich gut, um mich vor einem Schaden zu schützen. So würde ein Rückversicherungssystem zwischen den Einlagensystemen in Europa auch und gerade unser deutsches System stabiler machen. Deswegen sollten wir uns dem nicht verweigern, sondern daran konstruktiv mitarbeiten.\nIn diesem Zusammenhang und nur in diesem Zusammenhang werden wir es auch schaffen, das hinzubekommen, worüber wir uns scheinbar einig sind, nämlich eine wirkliche Risikoreduzierung. Da muss noch einiges gemacht werden. Das muss man jetzt gemeinsam mit den europäischen Partnern auf den Weg bringen.\nSo muss man bei dem Punkt, dass Banken viele Staatsanleihen eines Staates in ihren Büchern haben und damit ein Klumpenrisiko tragen, etwas tun. Da gibt es gute Vorschläge, etwa für eine stärkere Eigenkapitalunterlegung zu sorgen, bestimmte Grenzen einzuziehen. Natürlich brauchen wir das.\nWir brauchen auch – ich bin gespannt, ob die bankenfreundliche FDP dabei mitmacht – eine höhere Eigenkapitalquote, also in Richtung 10 Prozent. Damit wäre das System stabiler. Aber da sind Ihre Freunde in den Banken dagegen, und deswegen wollen Sie da nicht ran, obwohl das das Problem lösen würde, dass die Banken auf zu wackligen Füßen stehen.\nDanke.\n",
         "19",
         "10",
         "3"
        ],
        [
         "31",
         "6efd230b-58ff-4720-5452-08da0f22a008",
         "11003856",
         "Liebe Kolleginnen und Kollegen! Es ist vorhin von der Kollegin Arndt-Brauer gesagt worden, es sei hier immer wieder über das Thema Einlagensicherung und Bankenunion debattiert worden. Das mag so sein. Aber wenn man sich in dieser Debatte einmal anhört, welche Einigkeit zwischen CDU/CSU, SPD und Grünen bei diesem Thema besteht, dann sage ich: Eine lebendige Debatte kann das nicht gewesen sein.\nDass diese Debatte aktuell ist, Frau Kollegin, zeigen die Reaktionen aus der Fachwelt. Sie müssen der FDP nicht glauben, dass das ein wichtiges Thema ist; aber schauen Sie sich an, was Verdi dazu geschrieben hat. Sie hat geschrieben: Dadurch sind unsere Arbeitsplätze in Gefahr. Es ist eine Gefahr für die Arbeitsplätze, insbesondere bei den Sparkassen. – Das sagt Verdi. Wenn Verdi recht hat, dann darf man Verdi auch einmal erwähnen. Recht hat sie.\nDer Städtetag sagt Ähnliches. Die Volksbanken sprechen von einer existenziellen Gefahr für alle Verbundsysteme. Deswegen, Kollege Schick, sind es insbesondere die kleinen Banken, die Sorgen haben, und nicht die großen, wie Sie hier insinuiert haben. Die kleinen Banken haben die größten Sorgen vor einer einheitlichen europäischen Einlagensicherung.\nUm eines aus unserer Sicht klarzustellen: Bankenunion ist eine gute und richtige Idee. Aber Bankenunion funktioniert auch ohne eine einheitliche Einlagensicherung auf europäischer Ebene. Man kann sie machen, aber man muss sie nicht machen. Es ist nicht so, dass es ein elementarer und unverzichtbarer Bestandteil dessen wäre. Bankenunion ist heute Bankenaufsicht unter dem Dach der EZB und eine einheitliche Abwicklung von Banken durch eine einheitliche europäische Abwicklungsbehörde. Beides kann man noch besser machen; aber beides funktioniert für sich genommen sehr gut. Das hat mit der Einlagensicherung indirekt zu tun; aber Sie können das auf die eine wie die andere Weise lösen. Deshalb können wir hier debattieren und unterschiedlicher Meinung sein; es ist jetzt jedoch kein zwangsläufiger Weg, wie manche hier den Eindruck erwecken, in einer einheitlichen Einlagensicherung vorgezeichnet.\nIch will noch einmal etwas zur Einlagensicherung bei kleinen Banken sagen. Wenn eine kleine Bank pleite ist, dann kann das nationale Einlagensicherungssystem ohne Probleme einschreiten, auch in Zukunft, es kann den Fall lösen. Interessant wird es, wenn in Zukunft bei einer einheitlichen Einlagensicherung eine große Bank nach europäischen Regeln abgewickelt werden muss. Dann entschädigt nämlich das nationale Einlagensicherungssystem den einheitlichen Abwicklungsfonds; das heißt, die Gelder, die auch die kleinen Banken eingezahlt haben, gehen dann in die Abwicklung der großen, sollen die Lasten finanzieren. Ich will einmal wissen, warum das gerechtfertigt ist und wie man es rechtfertigen kann, dass die kleinen Banken für die Abwicklung der großen zahlen sollen. Dazu habe ich heute nichts gehört, wird oft übersehen, ist aber der falsche Weg, liebe Kolleginnen und Kollegen.\nWenn man über die Vollendung der Bankenunion diskutiert, dann liest man in den Papieren hauptsächlich etwas zum Thema „Einlagensicherung“. Aber die wirklich wichtigen Dinge, die in der Bankenunion zu optimieren und zu verbessern sind, finden sich in den entsprechenden Planungen nirgends. Es ist eine rein auf die Einlagensicherung beschränkte Debatte. Jedenfalls lese ich in den Papieren nicht sehr viel von anderen Dingen.\n– Ich will Ihnen einmal einige Beispiele nennen, bevor Sie mir widersprechen, Herr Kollege Schick.\nDie drei italienischen Banken, Banca Monte dei Paschi di Siena, die älteste Bank der Welt, Banca Popolare di Vicenza und die Veneto Banca, sind trotz des einheitlichen Abwicklungsmechanismus erneut mit Steuergeldern gerettet worden. Warum war das so? Weil es in den entsprechenden Rechtsgrundlagen einige Schlupflöcher gibt, die prompt beim ersten, zweiten und dritten Anwendungsfall genutzt worden sind. Nun müsste man doch zuallererst diese Schlupflöcher stopfen, damit Banken abgewickelt und nicht gerettet werden. Das wäre doch das Wichtigste. Und das erwarte ich von der Bundesregierung.\nWir könnten weitermachen. Wo lese ich etwas über einen Umschuldungsmechanismus für Staaten? Den brauchen wir – Stichwort: Gläubigerhaftung. Wo lese ich etwas über Eigenkapitalunterlegung bei Staatsanleihen? Das höre ich immer wieder. Wenn man über die Fortschreibung der Bankenunion spricht, Kollege Michelbach, dann wäre das ein Beitrag zur Lösung. Ich erwarte, dass Herr Altmaier mit seinem französischen Kollegen darüber spricht und nicht zuerst über die Einlagensicherung.\nIm Übrigen, Kollege Schick, ist es aus meiner Sicht nicht so, wie Sie es gesagt haben, dass der Binnenmarkt für Finanzdienstleistungen bereits so gut funktioniert, dass das alles grenzüberschreitend prima möglich wäre.\nEs muss darauf geachtet werden, dass der Binnenmarkt besser funktioniert. Ich habe viele digitale Geschäftsmodelle von Banken gesehen, die versucht haben, ein Produkt digital im Internet zu vertreiben und es in verschiedenen europäischen Ländern anzubieten. Das scheitert noch immer sehr oft. Das wären doch Aufgaben für eine Integration der Bankenmärkte in Europa und nicht zuerst die Einlagensicherung.\nDie einheitliche Einlagensicherung hat erhebliche Nachteile. Sie wird für die Banken hier in Deutschland teurer. Sie ist auch mit dem Risiko verbunden, dass die Absicherung schlechter wird. Bei den Verbundsystemen und bei der Institutssicherung der Volksbanken und Sparkassen ist das evident. Ich erinnere auch an die freiwillige Einlagensicherung der Privatbanken, die natürlich ebenfalls infrage steht.\nDas ist doch mehr als das, was gesetzlich gefordert ist. Das ist in Gefahr, wenn man alles in eine einheitliche Einlagensicherung überführt. Das heißt, die Absicherung kann auch noch schlechter werden. Da muss man erst einmal begründen, dass das wirklich ein Fortschritt ist. Ich bin davon nicht überzeugt. Deswegen halte ich es für wichtig, dass sich die Bundesregierung hier anders positioniert, als es bisher der Fall war.\n",
         "19",
         "10",
         "3"
        ],
        [
         "32",
         "d3e0e899-d6db-49ae-49c7-08da0e9b3c58",
         "11003858",
         "Frau Ministerin, Sie waren heute Morgen schon bei uns im Wirtschaftsausschuss. Da haben Sie die Frage nach den riesigen Außenhandelsüberschüssen und dem blauen Brief der Kommission, den wir jedes Jahr erhalten, ein bisschen heruntergespielt und erklärt, das sei alles nicht so schlimm.\nKönnen Sie noch einmal die Frage beantworten, warum uns dann die Kommission jedes Jahr diesen blauen Brief schreibt, in dem steht, dass die Außenhandelsüberschüsse in Deutschland viel zu hoch seien und abgebaut werden müssten? Da reicht auch die Antwort nicht, dass die Bilanz innerhalb der EU besser geworden ist, sondern wir liegen seit Jahren deutlich über der 6-Prozent-Marke.\n",
         "19",
         "10",
         "1"
        ],
        [
         "33",
         "37bd37b0-d419-451c-0184-08da0f05b642",
         "11003870",
         "Herr Abgeordneter, ich habe eben schon in meinem Bericht gesagt, dass es zwar richtig ist, dass wir insgesamt einen Leistungsbilanzüberschuss haben, der bei gut 7 Prozent liegt, dass wir aber innerhalb der Europäischen Union nur noch bei gut 2 Prozent sind. Unser Leistungsbilanzüberschuss geht seit vier Jahren kontinuierlich zurück, und wir prognostizieren in diesem Jahreswirtschaftsbericht einen weiteren Rückgang.\nDas heißt mit anderen Worten: Die Kommission nimmt zur Kenntnis, dass Deutschland sich anstrengt und dass wir etwas dafür tun. – Das ist das eine.\nDas andere ist, dass das natürlich nicht nur unsere Sache ist. Denn teilweise sind die Bedingungen dafür, dass es so einen Leistungsbilanzüberschuss gibt, auch objektiver Natur – ich habe das heute Morgen im Ausschuss schon gesagt –: Das sind beispielsweise der Ölpreis, die demografische Entwicklung und anderes, was man nicht unmittelbar steuern kann.\nDeswegen ist es eben wichtig, dass man sieht, dass auch andere Länder wachsen und ihrerseits mit ihrem Wachsen den Abstand zu uns verringern. Denn auch das ist etwas, das eintritt: Die Konjunktur in Spanien, Frankreich und anderen Ländern hat sich deutlich belebt, und das merken wir natürlich auch bei der Entwicklung des Leistungsbilanzüberschusses in Deutschland.\n",
         "19",
         "10",
         "1"
        ],
        [
         "34",
         "0587d73e-2448-4704-048e-08da0f05b642",
         "11003870",
         "Herr Abgeordneter, soweit ich weiß, gibt es keine Überlegung in der Bundesregierung, das anzugleichen; dazu kann der Kollege Meister vom BMF vielleicht gleich noch etwas sagen. Ihre Annahme unterstellt auch, dass diese Personengesellschaften den höchsten Steuersatz zahlen. Das ist aber in den meisten Fällen nicht so, sodass sie sich durchaus auch besserstellen können, wenn ihr Steueraufkommen nach Einkommensteuergrundsätzen, nicht nach Körperschaftsteuergrundsätzen berechnet wird.\nFrau Präsidentin, ist es okay, wenn Herr Meister noch etwas dazu sagt?\nWenn er dazu etwas beitragen kann, dann machen wir das jetzt so.\nIn der Regel kann Herr Meister etwas beitragen.\n",
         "19",
         "10",
         "1"
        ],
        [
         "35",
         "903c8fb2-4487-4964-58c2-08da0f22a008",
         "11003870",
         "Ich kann das so jetzt nicht beantworten. Das müssen wir erst einmal sorgfältig prüfen. Wir wissen das jetzt, so wie wir hier sitzen, nicht in aller Vollständigkeit. Deswegen prüfen wir das besser und beantworten das dann schriftlich.\nVom BMBF ist kein Geld geflossen, höre ich gerade.\n",
         "19",
         "10",
         "1"
        ],
        [
         "36",
         "ceb30727-2565-40af-52cd-08da0f22a008",
         "11003870",
         "Herr Abgeordneter, wir erörtern die Frage des Kohleausstieges in einem sehr umfassenden Prozess. Wir sind dabei, vor allen Dingen mit den betroffenen Regionen einen Prozess aufzusetzen. Denn es kann ja nicht nur darum gehen, von heute auf morgen bestimmte Kraftwerke oder den Kohleabbau stillzulegen, sondern man muss ja auch überlegen: Was passiert mit den Regionen? Wo finden die Menschen Arbeit? – So einfach ist das alles nicht. Deswegen wird es einen Prozess geben, in dem wir erörtern werden, wie man das sinnvoll gestalten kann.\nIm Übrigen kann ich Ihnen versichern, dass die Energiegewinnung aus erneuerbaren Quellen inzwischen deutlich angestiegen ist. An manchen Tagen überwiegt diese Energiegewinnung. Generell haben wir eine Quote für die erneuerbaren Energien in Höhe von gut 30 Prozent.\n",
         "19",
         "10",
         "1"
        ],
        [
         "37",
         "7039dea3-d299-4981-53fa-08da0f22a008",
         "11003870",
         "Wir sind nicht der Auffassung, dass es derzeit schon eine Immobilienblase gibt. Die Preise sind zwar hoch, aber nach allem, was ich von Untersuchungen unabhängiger Institute weiß, wird das noch nicht als Blase angesehen. Im Gegenteil: Man geht davon aus, dass dieses hohe Niveau erhalten bleibt.\nIch glaube, das Beste, was man dagegen tun kann, ist, wieder stärker in den sozialen Wohnungsbau zu investieren und deutlich zu machen, dass wir die Mietpreise kontrollieren – Stichwort „Mietpreisbremse“ –, damit diejenigen, die glauben, Spekulationsobjekte in Form von Wohnraum kaufen zu müssen, wissen, dass sie damit nicht wirklich spekulieren können; es sei denn, sie spekulieren darauf, dass es in zehn Jahren noch teurer wird.\nDanke. – Gibt es Fragen zu anderen Themen der heutigen Kabinettssitzung? – Wir sind im Moment noch in der Regierungsbefragung. Jetzt geht es um andere Themen der heutigen Kabinettssitzung, und dann kommen die sonstigen Fragen an die Bundesregierung.\n– Frau Polat, Sie haben das Wort zu einer Frage zu anderen Themen der Kabinettssitzung.\n– Ich erkläre es gerne noch einmal, damit es für alle klar ist: Wir haben zuerst die Fragen zum Bericht der Frau Ministerin behandelt. Wir haben in diesem Format die Möglichkeit, noch zu zwei weiteren Bereichen zu fragen. Zunächst geht es um Fragen zu anderen Themen der heutigen Kabinettssitzung, und danach kommen die sonstigen Fragen.\nBezieht sich Ihre Frage, Frau Polat, auf die Kabinettssitzung, oder ist es eine sonstige Frage?\n",
         "19",
         "10",
         "1"
        ],
        [
         "38",
         "88453190-dcd3-4113-fb35-08da0daf380d",
         "11003870",
         "Herr Abgeordneter, die Bundesregierung teilt Ihre Einschätzung nicht.\nWir gehen nicht davon aus, dass sich die Zinsentwicklung in den nächsten zwei, drei Jahren in einem solch signifikanten Bereich bewegen wird, dass in irgendeiner Form von einem erheblichen Zinsanstieg die Rede sein kann. Wir gehen davon aus, dass der Zinsanstieg, wenn überhaupt, in moderaten Schritten erfolgt. Wir rechnen nicht mit einem erheblichen Zinsanstieg.\n",
         "19",
         "10",
         "1"
        ],
        [
         "39",
         "5388d754-574e-4ce8-fb91-08da0daf380d",
         "11003870",
         "Frau Hajduk, ich bin der Auffassung, dass eine gute Bildungslandschaft eine entscheidende Voraussetzung dafür ist, dass Deutschland auch in den nächsten Jahren eine Vorreiterrolle als Industrienation hat. Deswegen bin ich persönlich der Auffassung, dass wir so viel wie möglich in Bildung investieren sollten. Aber selbstverständlich ist es so, dass es immer unterschiedliche Notwendigkeiten gibt und dass diejenigen, die die Regierung führen, abwägen müssen, wie viel Geld sie tatsächlich für Bildung zur Verfügung stellen und wie viel Geld für anderes zur Verfügung gestellt werden muss. Denn es darf natürlich nicht nur ein Thema geben, das wichtig ist, auch wenn ich persönlich es für wichtig halte.\nDeswegen würde ich gern dabei bleiben wollen, dass ich sage: Diejenigen, die die nächste Regierung stellen – ich werde ihr bekannterweise nicht angehören –,\nhaben das zu entscheiden.\n",
         "19",
         "10",
         "1"
        ],
        [
         "40",
         "24dba7f5-c1b3-4b5b-fdf5-08da0daf380d",
         "11003870",
         "Was Sie hier abfragen, fällt in die Zuständigkeit der Bundesländer. Deshalb kann ich Ihnen im Moment dazu keine Antwort geben. Wir können gerne über die Beauftragte der Bundesregierung für Kultur und Medien versuchen, das bei den Bundesländern in Erfahrung zu bringen.\n",
         "19",
         "10",
         "1"
        ],
        [
         "41",
         "eb89c965-686b-418e-f3cc-08da0e4d69bc",
         "11003870",
         "Herr Abgeordneter, Sie haben richtigerweise darauf hingewiesen, dass die deutsche Wirtschaft gut qualifizierte Fachkräfte braucht. Wir haben ja eben schon das Thema „Mehr duale Berufsausbildung“ angesprochen, und da braucht man natürlich auch solche, die was vom Digitalen verstehen. Wir müssen deshalb die Berufsschulen unbedingt entsprechend ausstatten; denn es macht keinen Sinn, dass diejenigen, die eine Lehre machen, in den Betrieben mit modernen Geräten konfrontiert sind, in der Schule nicht damit üben können. Wir müssen sehen, dass jedes Unternehmen in Deutschland in irgendeiner Form von der Digitalisierung betroffen ist, sich darauf einstellen muss und dementsprechend ausgebildete junge Leute braucht. Daher halte ich es für unabdingbar, dass nicht nur die Schulen, sondern auch die Berufsschulen eine ordentliche Ausstattung bekommen, die das Erlernen des Umgangs mit modernen Geräten ermöglicht.\n",
         "19",
         "10",
         "1"
        ],
        [
         "42",
         "864cc250-ef49-432b-f5ca-08da0e4d69bc",
         "11003870",
         "Frau Präsidentin! Meine sehr geehrten Damen und Herren Abgeordnete! Das Kabinett hat heute den Jahreswirtschaftsbericht 2018 verabschiedet. Sein Titel lautet: „Wirtschaftlich gestärkt in die Zukunft“. Ich habe hier das Vorabexemplar. Wir lassen ihn jetzt drucken, nachdem er im Kabinett verabschiedet und heute Morgen auch schon im Wirtschaftsausschuss diskutiert wurde. Dann können Sie alle ihn gerne haben, sofern Sie ihn sich nicht von unserer Website herunterladen.\nDie Aussichten der deutschen Wirtschaft sind gut; das macht der Titel schon deutlich. Im Jahr 2017 ist das Bruttoinlandsprodukt um 2,2 Prozent gewachsen. Es ist damit das achte Jahr in Folge, dass das Bruttoinlandsprodukt in Deutschland wächst. Wir gehen davon aus, dass sich der Aufschwung auch in diesem Jahr weiter fortsetzen wird. Wir rechnen für das Jahr 2018 mit einem Wachstum von 2,4 Prozent.\nDie Konjunktur, meine Damen und Herren, hat im vergangenen Jahr nicht nur an Schwung nach oben, sondern auch an Ausdehnung in der Breite gewonnen. Mit der anziehenden Weltkonjunktur, die bei etwa 4 Prozent liegt, ziehen die Exporte insgesamt kräftig an. Dadurch, dass unsere deutschen Unternehmen mehr produzieren und mehr verkaufen, müssen sie hier in Deutschland auch mehr investieren. Das ist ein gutes Zeichen. Auch in Deutschland sind die Investitionen der Unternehmen deutlich gestiegen. Gleichzeitig haben die gute Entwicklung am Arbeitsmarkt und die gute Lohnentwicklung für eine solide Konsumnachfrage gesorgt. Die verfügbaren Einkommen sind um etwa 3,6 Prozent gestiegen, die Bruttolöhne und -gehälter der Arbeitnehmerinnen und Arbeitnehmer ebenfalls.\nDie Beschäftigung in Deutschland wird im Durchschnitt dieses Jahres auf ein neues Rekordniveau von 44,8 Millionen Personen steigen; das ist ein Anstieg um knapp eine halbe Million. Gleichzeitig wird die Arbeitslosigkeit weiter sinken. Trotz der zahlreichen zu integrierenden Flüchtlinge ist mit einem Rückgang um knapp 150 000 Personen zu rechnen. Wir gehen davon aus, dass die Arbeitslosenquote dementsprechend weiter sinken wird, auf 5,3 Prozent.\nWegen der starken Binnennachfrage, die sich ja stabilisiert hat, werden sich auch die Importe dynamisch weiterentwickeln. Der Wachstumsbeitrag des Außenhandels bleibt vergleichsweise gering. Wir gehen jedoch davon aus, dass sich der deutsche Leistungsbilanzüberschuss insgesamt leicht absenken wird, und zwar auf 7,8 Prozent. Ich möchte, weil ich vorhin schon danach gefragt wurde, gerne darauf hinweisen, dass der Leistungsbilanzüberschuss beim Handel innerhalb der Europäischen Union bei nur 2 Prozent liegt. Hier hat sich die in den letzten Jahren erfolgte Angleichung deutlich fortgesetzt.\nAll diese Entwicklungen sind natürlich nur möglich, wenn es entsprechende politische Rahmenbedingungen gibt, und deswegen möchte ich gerne ein paar dieser Rahmenbedingungen nennen.\nWir haben in der vergangenen Legislaturperiode die Möglichkeiten der Teilhabe am Arbeitsmarkt und der sozialen Sicherheit deutlich gestärkt. Ich nenne hier stichwortartig das Elterngeld Plus, den Ausbau der Kindertagesbetreuung, die Flexirente, die Angleichung der Berechnungsgrundlagen von Renten in Ost und West und die bessere Absicherung erwerbsgeminderter Menschen.\nDaneben haben wir Impulse für öffentliche Investitionen gesetzt. Wir haben die Ausgaben für Investitionen im Bundeshaushalt um 45 Prozent auf rund 36 Milliarden Euro erhöht. Außerdem haben wir den Kommunen mehr Geld gegeben. Der Kommunalinvestitionsförderfonds wurde jetzt vonseiten des Bundes mit 7 Milliarden Euro ausgestattet. Das ermöglicht es auch den ärmeren Kommunen, in Schulen und Bildung zu investieren.\nDie Rahmenbedingungen für die privaten Investitionen, die ungefähr 90 Prozent der Gesamtinvestitionen ausmachen, sind weiter verbessert worden; Stichwort: Start-up-Gründungen. Das INVEST Wagniskapital haben wir aufgestockt, und den High-Tech Gründerfonds gibt es jetzt schon in seiner dritten Fassung. In diesem Gründerfonds führen wir private und öffentliche Gelder zusammen, die wir Start-ups zur Verfügung stellen.\nSelbstverständlich ist der Abbau von Bürokratie eine Daueraufgabe für die Bundesregierung. In der letzten Legislaturperiode haben wir die One-in-one-out-Regel eingeführt; das heißt, wenn man eine bürokratieintensive Maßnahme einführen will, dann muss man eine andere dafür streichen. Darüber hinaus haben wir mit dem Zweiten Bürokratieentlastungsgesetz deutliche Fortschritte erzielt.\nGleichzeitig ist es möglich gewesen, die Steuerlast der Bürgerinnen und Bürger in Deutschland zu senken, und zwar um insgesamt 11 Milliarden Euro. Das ist gelungen, indem wir die Stufen bei der Steuerprogression ein wenig abgeflacht und auf diese Art und Weise für mehr Gerechtigkeit gesorgt haben. Außerdem ist es gelungen, den öffentlichen Schuldenstand weiter zu reduzieren. Wir rechnen jetzt damit, dass der Schuldenstand in Deutschland bereits nächstes Jahr unter die Maastricht-Grenze in Höhe von 60 Prozent des BIP fallen wird.\nSie sehen also, die Überschrift unseres Jahreswirtschaftsberichts ist berechtigt. Deutschland ist in der Tat in guter Verfassung.\n",
         "19",
         "10",
         "1"
        ],
        [
         "43",
         "318a1cd8-0d8b-4d77-492e-08da0e9b3c58",
         "11003870",
         "Sehr geehrte Frau Präsidentin! Sehr geehrte Frau Ministerin, meine Frage bezieht sich auf die sogenannten delegierten Rechtsakte. Es gab in der vergangenen Legislaturperiode hier einen Vorgang, in dem es um die Luftverkehrssicherheit ging. Der Bundestag hat kritisiert, dass Kompetenzen in Richtung Brüssel verlagert werden. Dies hatte mit dem Institut des delegierten Rechtsaktes zu tun.\nEs ist nicht ganz Ihr Ressort, aber vielleicht kennen Sie dieses Rechtsinstitut, und vielleicht gibt es das auch im Wirtschaftsbereich. Ich würde gerne von der Bundesregierung wissen, ob sie dieses Rechtsinstitut „delegierte Rechtsakte“ für kritisch erachtet, insbesondere im Hinblick auf das Prinzip der Subsidiarität. – Danke.\n",
         "19",
         "10",
         "1"
        ],
        [
         "44",
         "fd769272-1f2c-410f-ff5b-08da0daf380d",
         "11003870",
         "Ich fange mit dem zweiten Teil an, liebe Frau Dröge, weil ich das schon gerade in meinem Eingangsstatement gesagt hatte. Wir haben uns bemüht, die öffentlichen Investitionen deutlich anzuheben. Ich habe von Bundesinvestitionen in Höhe von 36 Milliarden Euro gesprochen und gesagt, dass wir den Kommunen mehr Geld gegeben haben: 7 Milliarden Euro stehen den Kommunen über den Fonds für Investitionen in Schulen, Bildung und anderes zur Verfügung.\nDeswegen ist – darüber sprachen wir schon heute Morgen – die Bilanz der Kommunen, was ihre Investitionen angeht, sehr viel besser geworden. Die Zahlen sind gerade vor wenigen Tagen herausgekommen. Das heißt, es wirkt tatsächlich, dass der Bund den Kommunen das Geld gibt, und die Kommunen sind auch in der Lage, das umzusetzen, sprich: das Geld zu verbauen. Das ist auch immer ein Teil des Problems, und es gehört dazu, dass wir da Hilfestellung geben. Wir haben jetzt auf Bundesseite ein eigenes Unternehmen gegründet, um die Kommunen entsprechend zu unterstützen.\nZum Thema Klimaziele: Wir haben festzustellen, dass die Industrie die Treibhausgasemissionen seit 1990 um fast 37 Produzent reduziert hat. Wir können darauf hinweisen, dass wir uns auf europäischer Ebene letztes Jahr mit der EU über eine Reform des Emissionshandels geeinigt haben, und auch in Bezug auf die Sektoren Gebäude, Verkehr und Landwirtschaft haben wir uns mit den Mitgliedstaaten geeinigt.\nInsgesamt – Stichwort „Energieeffizienz“ – haben wir eine Menge erreicht. Ich glaube, das kann man sagen. Die Förderprogramme, die wir hatten, sind zwar nicht so gut gelaufen, wie sie hätten laufen können, aber sie sind schon relativ gut gelaufen. Wichtig ist auch, dass der Energiesektor weiterhin einen klaren Beitrag zum Klimaschutz leistet.\nBevor der Kollege Falko Mohrs seine Frage stellt, mache ich noch einmal alle Anwesenden darauf aufmerksam, dass wir uns in diesem Teil unserer Sitzung auf eine Minute Fragezeit verständigt haben und damit auch auf die Möglichkeit, in einer Minute zu antworten. Sie haben eine optische Unterstützung: Wenn die Lampe rot ist, ist die Minute definitiv überschritten.\n",
         "19",
         "10",
         "1"
        ],
        [
         "45",
         "06fc1f77-ad94-4df4-90d2-08da0e372f11",
         "11003870",
         "Vielen Dank, Herr Abgeordneter. – Ich glaube, dass die Gründerfonds, an denen der Bund beteiligt ist, mit denen aber auch privates Kapital akquiriert wird, das eine sind. Das andere ist: Wir müssen weiter darauf dringen, dass sich auch Private stärker engagieren.\nWir haben die gute Situation, dass inzwischen viele Unternehmen in Sachen Gründungen unterwegs sind. Aber ich glaube auch, dass es wünschenswert wäre, dass sich viele gutverdienende Deutsche in diesem Bereich stärker engagieren. Wir haben da immer die Amerikaner als Vorbild, wo es eine andere Kultur des Gründens und der Finanzierung von Gründungen gibt. Ich denke, dafür müssen wir stärker Werbung machen, sodass auch Einzelpersonen Verantwortung spüren und sie übernehmen.\n",
         "19",
         "10",
         "1"
        ],
        [
         "46",
         "6b942714-9f64-4d97-f261-08da0e4d69bc",
         "11003870",
         "Die Bundesregierung ist der Auffassung, dass das ein Projekt wirtschaftlicher Art ist, das beantragt werden muss und das nach den entsprechenden Vorschriften zu genehmigen ist. Wir sind allerdings auch der Auffassung, dass man nicht versuchen sollte, aus irgendwelchen übergeordneten Erwägungen, seien es eigene energiepolitische oder wirtschaftliche Interessen oder andere Interessen, da jetzt Vorschriften heranzuziehen, die vielleicht nicht so unmittelbar einsichtig sind. Deshalb würden wir sagen: Man soll dem Unternehmen die Möglichkeit geben, seine Anträge zu stellen. Man soll sie auch so bearbeiten, wie es in der Vergangenheit immer Usus war.\n",
         "19",
         "10",
         "1"
        ],
        [
         "47",
         "76adff0d-83d2-43f7-5da9-08da0f22a008",
         "11003870",
         "",
         "19",
         "10",
         "1"
        ],
        [
         "48",
         "c1c1a931-e846-40fd-5cf1-08da0f22a008",
         "11003870",
         "Das kann ich gar nicht glauben.\nEs ist tatsächlich nicht zu glauben.\nEs geht um die Bürgschaft in Höhe von 150 Millionen Euro, von der der Steuerzahler wahrscheinlich einen Großteil nicht wiedersehen wird. Meine Frage ist daher: Aufgrund welcher Annahmen über die Vermögenswerte von Air Berlin haben Sie eigentlich diese Bürgschaft vergeben, und inwiefern konnten Sie erwarten, diese 150 Millionen Euro am Markt zu erzielen? Könnten Sie einmal darlegen, welche Erwartung Sie hatten, was an Sicherheiten im Unternehmen vorhanden ist?\nDie zweite Frage ist, ob eine Absichtserklärung von Lufthansa, Air Berlin zu kaufen, Grundlage dafür war, diese Bürgschaft auszusprechen, bzw. ob dies in die Entscheidung einbezogen wurde.\nEs gab keine schriftliche Absichtserklärung der Lufthansa, sehr geehrte Frau Abgeordnete; aber Sie wissen natürlich aus den Verhandlungen heute Morgen und auch aus weiteren Informationen in der Presse, dass es unsererseits Gespräche mit der Lufthansa gegeben hat.\nZur Frage „Was hat die Bundesregierung für Überlegungen angestellt, worin der Gegenwert für die 150 Millionen Euro besteht?“ – danach fragen Sie ja –: Wir sind davon ausgegangen, dass es, wenn wir keinen Kredit geben, zu einem sofortigen Grounding kommt und schon dadurch eine Entwertung von Vermögenswerten stattfindet. Dann war klar – es war ja Urlaubszeit –, dass sehr viele Urlauberinnen und Urlauber mit Air Berlin unterwegs sind. Zwar haben wir als Staat keine geschriebene Verpflichtung, aber doch eine moralische Verpflichtung, Urlauberinnen und Urlauber, die irgendwo in der Welt gestrandet sind und ein Air-Berlin-Ticket haben, zurückzuholen.\nDas hat sich ja auch bei der Pleite von Monarch Airlines gezeigt, die kurz danach stattfand. Es wurden 70 Millionen Euro dafür ausgegeben, um die gestrandeten Passagiere wieder nach UK zurückzuholen. An diesem Beispiel kann man sich also ungefähr die Größenordnung klarmachen. Die Anzahl der betroffenen Personen im Fall von Air Berlin war ja sehr viel größer. Ansonsten waren die Vermögenswerte natürlich die Slots und die Flugrechte.\n",
         "19",
         "10",
         "1"
        ],
        [
         "49",
         "8e9d927e-3c23-4834-5fad-08da0f22a008",
         "11003870",
         "Herr Abgeordneter, wir gedenken nicht erst jetzt als geschäftsführende Bundesregierung etwas dagegen zu tun. Vielmehr macht diese Bundesregierung schon sehr lange etwas dagegen. Das Erste und, ich glaube, auch das Beste und das Nachhaltigste, was wir dagegen getan haben, war die Einführung des Mindestlohns.\nDenn der Mindestlohn hat dazu geführt, dass nicht nur eine erkleckliche Anzahl an Personen besser bezahlt wurde, sondern auch das Lohnniveau insgesamt angehoben wurde. Das war der erste Schritt, der besonders wichtig war.\nEin weiterer Schritt ist die Klärung der Frage: Wie integrieren wir Langzeitarbeitslose wieder in den Arbeitsmarkt? Das ist ein Thema, das uns schon sehr lange beschäftigt. Dazu haben wir eine Menge Projekte. Im Moment gibt es die Überlegung, einen geförderten Arbeitsmarkt einzurichten, um Langzeitarbeitslose ganz besonders zu unterstützen. Ich persönlich halte das für eine sehr gute Idee und glaube, dass uns das tatsächlich weiterbringt.\nIm Übrigen müssen wir feststellen, dass wir ein Problem mit der Gewinnung von qualifizierten Arbeitskräften haben, was automatisch dazu führen wird, dass deren Bezahlung besser werden wird. Ich gehe davon aus, dass die Spreizung der Einkommensverteilung in Deutschland geringer werden wird. Die unteren Einkommensschichten werden sukzessive besser verdienen, einfach weil die Lage auf dem Arbeitsmarkt schwieriger wird und Unternehmen mehr bezahlen müssen, um gute Kräfte zu gewinnen.\nIch glaube schon, das wird positive Auswirkungen haben.\nJetzt leuchtet an meinem Pult gar kein Licht mehr.\n",
         "19",
         "10",
         "1"
        ]
       ],
       "shape": {
        "columns": 6,
        "rows": 46790
       }
      },
      "text/html": [
       "<div>\n",
       "<style scoped>\n",
       "    .dataframe tbody tr th:only-of-type {\n",
       "        vertical-align: middle;\n",
       "    }\n",
       "\n",
       "    .dataframe tbody tr th {\n",
       "        vertical-align: top;\n",
       "    }\n",
       "\n",
       "    .dataframe thead th {\n",
       "        text-align: right;\n",
       "    }\n",
       "</style>\n",
       "<table border=\"1\" class=\"dataframe\">\n",
       "  <thead>\n",
       "    <tr style=\"text-align: right;\">\n",
       "      <th></th>\n",
       "      <th>speech_id</th>\n",
       "      <th>speaker_id</th>\n",
       "      <th>speech_text</th>\n",
       "      <th>legislative_period</th>\n",
       "      <th>protocol_nr</th>\n",
       "      <th>agenda_item_number</th>\n",
       "    </tr>\n",
       "  </thead>\n",
       "  <tbody>\n",
       "    <tr>\n",
       "      <th>0</th>\n",
       "      <td>0c6d709a-3af2-4e75-55ac-08da0f22a008</td>\n",
       "      <td>11001074</td>\n",
       "      <td></td>\n",
       "      <td>19</td>\n",
       "      <td>1</td>\n",
       "      <td>3</td>\n",
       "    </tr>\n",
       "    <tr>\n",
       "      <th>1</th>\n",
       "      <td>f7f58b13-85f3-424a-6864-08da102a68d8</td>\n",
       "      <td>11001235</td>\n",
       "      <td>Herr Präsident, ich nehme die Wahl an.\\nDann b...</td>\n",
       "      <td>19</td>\n",
       "      <td>1</td>\n",
       "      <td>6</td>\n",
       "    </tr>\n",
       "    <tr>\n",
       "      <th>2</th>\n",
       "      <td>d0c84378-49ab-47ce-61aa-08da102a68d8</td>\n",
       "      <td>11001938</td>\n",
       "      <td>Das ist der Fall. – Ich sehe keine weiteren Vo...</td>\n",
       "      <td>19</td>\n",
       "      <td>1</td>\n",
       "      <td>3</td>\n",
       "    </tr>\n",
       "    <tr>\n",
       "      <th>3</th>\n",
       "      <td>649d0b8b-6770-47cf-ff0a-08da0f05b641</td>\n",
       "      <td>11001938</td>\n",
       "      <td></td>\n",
       "      <td>19</td>\n",
       "      <td>1</td>\n",
       "      <td>3</td>\n",
       "    </tr>\n",
       "    <tr>\n",
       "      <th>4</th>\n",
       "      <td>5516f789-3f1e-47cc-522d-08da0f22a008</td>\n",
       "      <td>11002190</td>\n",
       "      <td></td>\n",
       "      <td>19</td>\n",
       "      <td>1</td>\n",
       "      <td>3</td>\n",
       "    </tr>\n",
       "    <tr>\n",
       "      <th>...</th>\n",
       "      <td>...</td>\n",
       "      <td>...</td>\n",
       "      <td>...</td>\n",
       "      <td>...</td>\n",
       "      <td>...</td>\n",
       "      <td>...</td>\n",
       "    </tr>\n",
       "    <tr>\n",
       "      <th>46785</th>\n",
       "      <td>b4de6b5b-082e-45ac-ba6e-4403a82de283</td>\n",
       "      <td>11005264</td>\n",
       "      <td>Sehr geehrter Herr Präsident! Meine Damen und ...</td>\n",
       "      <td>20</td>\n",
       "      <td>99</td>\n",
       "      <td>4</td>\n",
       "    </tr>\n",
       "    <tr>\n",
       "      <th>46786</th>\n",
       "      <td>c79c0aa4-7e21-4d2a-9918-8893c8c8eb12</td>\n",
       "      <td>11005289</td>\n",
       "      <td></td>\n",
       "      <td>20</td>\n",
       "      <td>99</td>\n",
       "      <td>1</td>\n",
       "    </tr>\n",
       "    <tr>\n",
       "      <th>46787</th>\n",
       "      <td>bdebf7db-c75e-41e5-aad7-20486732377b</td>\n",
       "      <td>11005289</td>\n",
       "      <td></td>\n",
       "      <td>20</td>\n",
       "      <td>99</td>\n",
       "      <td>1</td>\n",
       "    </tr>\n",
       "    <tr>\n",
       "      <th>46788</th>\n",
       "      <td>dae72d62-2ab2-439a-9332-d585dcb35e54</td>\n",
       "      <td>11005289</td>\n",
       "      <td>Sehr geehrte Präsidentin! Liebe Kolleginnen un...</td>\n",
       "      <td>20</td>\n",
       "      <td>99</td>\n",
       "      <td>7</td>\n",
       "    </tr>\n",
       "    <tr>\n",
       "      <th>46789</th>\n",
       "      <td>e2bddf2f-f49e-448b-ada9-b7691b9e377c</td>\n",
       "      <td>11005299</td>\n",
       "      <td>Sehr geehrte Frau Präsidentin! Sehr geehrte Fr...</td>\n",
       "      <td>20</td>\n",
       "      <td>99</td>\n",
       "      <td>6</td>\n",
       "    </tr>\n",
       "  </tbody>\n",
       "</table>\n",
       "<p>46790 rows × 6 columns</p>\n",
       "</div>"
      ],
      "text/plain": [
       "                                  speech_id speaker_id  \\\n",
       "0      0c6d709a-3af2-4e75-55ac-08da0f22a008   11001074   \n",
       "1      f7f58b13-85f3-424a-6864-08da102a68d8   11001235   \n",
       "2      d0c84378-49ab-47ce-61aa-08da102a68d8   11001938   \n",
       "3      649d0b8b-6770-47cf-ff0a-08da0f05b641   11001938   \n",
       "4      5516f789-3f1e-47cc-522d-08da0f22a008   11002190   \n",
       "...                                     ...        ...   \n",
       "46785  b4de6b5b-082e-45ac-ba6e-4403a82de283   11005264   \n",
       "46786  c79c0aa4-7e21-4d2a-9918-8893c8c8eb12   11005289   \n",
       "46787  bdebf7db-c75e-41e5-aad7-20486732377b   11005289   \n",
       "46788  dae72d62-2ab2-439a-9332-d585dcb35e54   11005289   \n",
       "46789  e2bddf2f-f49e-448b-ada9-b7691b9e377c   11005299   \n",
       "\n",
       "                                             speech_text legislative_period  \\\n",
       "0                                                                        19   \n",
       "1      Herr Präsident, ich nehme die Wahl an.\\nDann b...                 19   \n",
       "2      Das ist der Fall. – Ich sehe keine weiteren Vo...                 19   \n",
       "3                                                                        19   \n",
       "4                                                                        19   \n",
       "...                                                  ...                ...   \n",
       "46785  Sehr geehrter Herr Präsident! Meine Damen und ...                 20   \n",
       "46786                                                                    20   \n",
       "46787                                                                    20   \n",
       "46788  Sehr geehrte Präsidentin! Liebe Kolleginnen un...                 20   \n",
       "46789  Sehr geehrte Frau Präsidentin! Sehr geehrte Fr...                 20   \n",
       "\n",
       "      protocol_nr agenda_item_number  \n",
       "0               1                  3  \n",
       "1               1                  6  \n",
       "2               1                  3  \n",
       "3               1                  3  \n",
       "4               1                  3  \n",
       "...           ...                ...  \n",
       "46785          99                  4  \n",
       "46786          99                  1  \n",
       "46787          99                  1  \n",
       "46788          99                  7  \n",
       "46789          99                  6  \n",
       "\n",
       "[46790 rows x 6 columns]"
      ]
     },
     "execution_count": 63,
     "metadata": {},
     "output_type": "execute_result"
    }
   ],
   "source": [
    "# first glance\n",
    "df_all"
   ]
  },
  {
   "cell_type": "code",
   "execution_count": 64,
   "id": "0706b578",
   "metadata": {},
   "outputs": [
    {
     "data": {
      "application/vnd.microsoft.datawrangler.viewer.v0+json": {
       "columns": [
        {
         "name": "index",
         "rawType": "int64",
         "type": "integer"
        },
        {
         "name": "speech_id",
         "rawType": "object",
         "type": "string"
        },
        {
         "name": "speaker_id",
         "rawType": "object",
         "type": "string"
        },
        {
         "name": "speech_text",
         "rawType": "object",
         "type": "string"
        },
        {
         "name": "legislative_period",
         "rawType": "object",
         "type": "string"
        },
        {
         "name": "protocol_nr",
         "rawType": "object",
         "type": "string"
        },
        {
         "name": "agenda_item_number",
         "rawType": "object",
         "type": "string"
        }
       ],
       "ref": "ae56c931-aa5a-4a22-9ee7-7df6fa531a7f",
       "rows": [],
       "shape": {
        "columns": 6,
        "rows": 0
       }
      },
      "text/html": [
       "<div>\n",
       "<style scoped>\n",
       "    .dataframe tbody tr th:only-of-type {\n",
       "        vertical-align: middle;\n",
       "    }\n",
       "\n",
       "    .dataframe tbody tr th {\n",
       "        vertical-align: top;\n",
       "    }\n",
       "\n",
       "    .dataframe thead th {\n",
       "        text-align: right;\n",
       "    }\n",
       "</style>\n",
       "<table border=\"1\" class=\"dataframe\">\n",
       "  <thead>\n",
       "    <tr style=\"text-align: right;\">\n",
       "      <th></th>\n",
       "      <th>speech_id</th>\n",
       "      <th>speaker_id</th>\n",
       "      <th>speech_text</th>\n",
       "      <th>legislative_period</th>\n",
       "      <th>protocol_nr</th>\n",
       "      <th>agenda_item_number</th>\n",
       "    </tr>\n",
       "  </thead>\n",
       "  <tbody>\n",
       "  </tbody>\n",
       "</table>\n",
       "</div>"
      ],
      "text/plain": [
       "Empty DataFrame\n",
       "Columns: [speech_id, speaker_id, speech_text, legislative_period, protocol_nr, agenda_item_number]\n",
       "Index: []"
      ]
     },
     "execution_count": 64,
     "metadata": {},
     "output_type": "execute_result"
    }
   ],
   "source": [
    "# NaN's? --> no\n",
    "df_all[df_all.isna().any(axis=1)]"
   ]
  },
  {
   "cell_type": "code",
   "execution_count": 65,
   "id": "c34b1fc0",
   "metadata": {},
   "outputs": [
    {
     "data": {
      "text/plain": [
       "''"
      ]
     },
     "execution_count": 65,
     "metadata": {},
     "output_type": "execute_result"
    }
   ],
   "source": [
    "df_all['speech_text'][0] # but empty texts"
   ]
  },
  {
   "cell_type": "code",
   "execution_count": 66,
   "id": "df76b254",
   "metadata": {},
   "outputs": [
    {
     "name": "stdout",
     "output_type": "stream",
     "text": [
      "Kept 44716 speeches.\n"
     ]
    }
   ],
   "source": [
    "df_all_clean = df_all[df_all['speech_text'] != ''].reset_index()\n",
    "print(\"Kept\", len(df_all_clean), \"speeches.\")"
   ]
  },
  {
   "cell_type": "code",
   "execution_count": 67,
   "id": "6d606285",
   "metadata": {},
   "outputs": [],
   "source": [
    "# save/export\n",
    "\n",
    "df_all_clean.to_csv(\"../data/speeches.csv\", index = False)"
   ]
  },
  {
   "cell_type": "code",
   "execution_count": 68,
   "id": "b51527b9",
   "metadata": {},
   "outputs": [
    {
     "name": "stdout",
     "output_type": "stream",
     "text": [
      "Nr. unqiue speaker:  1048\n"
     ]
    }
   ],
   "source": [
    "# get unique speaker IDs\n",
    "\n",
    "print(\"Nr. unqiue speaker: \", len(df_all_clean[\"speaker_id\"].unique()))\n",
    "\n",
    "unique_speaker = pd.DataFrame((df_all_clean[\"speaker_id\"].unique())).rename(columns={0: 'speaker_id'})\n",
    "unique_speaker.to_csv(\"../data/unique_speaker_ids.csv\", index=False)"
   ]
  },
  {
   "cell_type": "markdown",
   "id": "ffef0e91",
   "metadata": {},
   "source": [
    "***\n",
    "#### **Estelle adds: Get Agenda Item and Protocol Info**"
   ]
  },
  {
   "cell_type": "code",
   "execution_count": 69,
   "id": "b31de03b",
   "metadata": {},
   "outputs": [
    {
     "data": {
      "text/plain": [
       "{'Date': '2023-05-24T00:00:00',\n",
       " 'LegislaturePeriod': 20,\n",
       " 'Number': 105,\n",
       " 'Title': '105.\\xa0Sitzung',\n",
       " 'AgendaItemsCount': 8,\n",
       " 'MongoId': '00000000-0000-0000-0000-000000000000',\n",
       " 'Id': '211ba62b-b557-4b0d-e458-08dbb6b04007'}"
      ]
     },
     "execution_count": 69,
     "metadata": {},
     "output_type": "execute_result"
    }
   ],
   "source": [
    "data['Protocol']"
   ]
  },
  {
   "cell_type": "code",
   "execution_count": 70,
   "id": "cfd94b7c",
   "metadata": {},
   "outputs": [
    {
     "data": {
      "text/plain": [
       "{'Title': 'Pflegeunterstützungs- und -entlastungsgesetz',\n",
       " 'Description': 'Erste Beratung des von der Bundesregierung eingebrachten Entwurfs eines Gesetzes zur Unterstützung und Entlastung in der Pflege (Pflegeunterstützungs- und -entlastungsgesetz – PUEG)<br>Drucksache <a target=\"_blank\" href=\"https://dserver.bundestag.de/btd/20/068/2006869.pdf\" class=\"dipLink\" title=\"Die PDF-Datei Drucksache 20/6869 öffnet sich in einem neuen Fenster\"><i class=\"icon-doc\"></i>20/6869</a>',\n",
       " 'AgendaItemNumber': '1',\n",
       " 'Order': 1,\n",
       " 'Date': '2023-05-24T13:00:00',\n",
       " 'ProtocolId': '211ba62b-b557-4b0d-e458-08dbb6b04007',\n",
       " 'Id': '13e81aed-136d-4d56-a78b-08dbb6be6ecc'}"
      ]
     },
     "execution_count": 70,
     "metadata": {},
     "output_type": "execute_result"
    }
   ],
   "source": [
    "data['AgendaItems'][0]"
   ]
  },
  {
   "cell_type": "markdown",
   "id": "a54fc9c5",
   "metadata": {},
   "source": [
    "#### Protocol data"
   ]
  },
  {
   "cell_type": "code",
   "execution_count": 72,
   "id": "1bc42004",
   "metadata": {},
   "outputs": [],
   "source": [
    "rows = []\n",
    "\n",
    "for session_file in json_files:\n",
    "    with open(session_file, 'r') as file:\n",
    "        data_temp = json.load(file)\n",
    "        rows.append(data_temp['Protocol'])\n",
    "\n",
    "# build final DataFrame in one step\n",
    "df_protocol_meta = pd.DataFrame(rows)[['Date', 'LegislaturePeriod', 'Number', 'Title', 'AgendaItemsCount', 'MongoId', 'Id']]"
   ]
  },
  {
   "cell_type": "code",
   "execution_count": 73,
   "id": "9ed8c033",
   "metadata": {},
   "outputs": [],
   "source": [
    "df_protocol_meta.rename(columns={\n",
    "    'Date': 'ProtocolDate',\n",
    "    'Title': 'SessionTitle'\n",
    "}, inplace=True)"
   ]
  },
  {
   "cell_type": "code",
   "execution_count": 74,
   "id": "8c851b86",
   "metadata": {},
   "outputs": [],
   "source": [
    "df_protocol_meta['DateOnly'] = pd.to_datetime(df_protocol_meta['ProtocolDate']).dt.date\n"
   ]
  },
  {
   "cell_type": "code",
   "execution_count": 75,
   "id": "50c8ff7e",
   "metadata": {},
   "outputs": [
    {
     "data": {
      "application/vnd.microsoft.datawrangler.viewer.v0+json": {
       "columns": [
        {
         "name": "index",
         "rawType": "int64",
         "type": "integer"
        },
        {
         "name": "ProtocolDate",
         "rawType": "object",
         "type": "string"
        },
        {
         "name": "LegislaturePeriod",
         "rawType": "int64",
         "type": "integer"
        },
        {
         "name": "Number",
         "rawType": "int64",
         "type": "integer"
        },
        {
         "name": "SessionTitle",
         "rawType": "object",
         "type": "string"
        },
        {
         "name": "AgendaItemsCount",
         "rawType": "int64",
         "type": "integer"
        },
        {
         "name": "MongoId",
         "rawType": "object",
         "type": "string"
        },
        {
         "name": "Id",
         "rawType": "object",
         "type": "string"
        },
        {
         "name": "DateOnly",
         "rawType": "object",
         "type": "unknown"
        }
       ],
       "ref": "c27c0529-03ac-423f-b29c-630805980087",
       "rows": [
        [
         "0",
         "2017-10-24T00:00:00",
         "19",
         "1",
         "1. Sitzung",
         "6",
         "6205403f03957565211832cb",
         "76c3b183-81d7-4cd0-ee48-08da0c32b602",
         "2017-10-24"
        ],
        [
         "1",
         "2018-01-31T00:00:00",
         "19",
         "10",
         "10. Sitzung",
         "3",
         "6205403f03957565211832c2",
         "9830dca7-f0e1-4906-ee3f-08da0c32b602",
         "2018-01-31"
        ],
        [
         "2",
         "2019-05-15T00:00:00",
         "19",
         "100",
         "100. Sitzung",
         "4",
         "6205403f0395756521183268",
         "7d5aebcf-9b16-47a6-ede5-08da0c32b602",
         "2019-05-15"
        ],
        [
         "3",
         "2019-05-16T00:00:00",
         "19",
         "101",
         "101. Sitzung",
         "26",
         "6205403f0395756521183267",
         "f98bb208-7f24-4a3f-ede4-08da0c32b602",
         "2019-05-16"
        ],
        [
         "4",
         "2019-05-17T00:00:00",
         "19",
         "102",
         "102. Sitzung",
         "11",
         "6205403f0395756521183266",
         "ee086175-6c20-44b0-ede3-08da0c32b602",
         "2019-05-17"
        ],
        [
         "5",
         "2019-06-05T00:00:00",
         "19",
         "103",
         "103. Sitzung",
         "3",
         "6205403f0395756521183265",
         "2d248c5a-a091-4699-ede2-08da0c32b602",
         "2019-06-05"
        ],
        [
         "6",
         "2019-06-06T00:00:00",
         "19",
         "104",
         "104. Sitzung",
         "27",
         "6205403f0395756521183264",
         "da035de0-f04a-4954-ede1-08da0c32b602",
         "2019-06-06"
        ],
        [
         "7",
         "2019-06-07T00:00:00",
         "19",
         "105",
         "105. Sitzung",
         "10",
         "6205403f0395756521183263",
         "98113a3f-d43f-4eae-ede0-08da0c32b602",
         "2019-06-07"
        ],
        [
         "8",
         "2019-06-26T00:00:00",
         "19",
         "106",
         "106. Sitzung",
         "4",
         "6205403f0395756521183262",
         "504e4842-7eb3-4eb9-eddf-08da0c32b602",
         "2019-06-26"
        ],
        [
         "9",
         "2019-06-27T00:00:00",
         "19",
         "107",
         "107. Sitzung",
         "33",
         "6205403f0395756521183261",
         "0a510593-6c57-4afc-edde-08da0c32b602",
         "2019-06-27"
        ],
        [
         "10",
         "2019-06-28T00:00:00",
         "19",
         "108",
         "108. Sitzung",
         "9",
         "6205403f0395756521183260",
         "d50b2ee5-626b-49cc-eddd-08da0c32b602",
         "2019-06-28"
        ],
        [
         "11",
         "2019-07-24T00:00:00",
         "19",
         "109",
         "109. Sitzung",
         "2",
         "6205403f039575652118325f",
         "386706ed-8c9c-4f2b-eddc-08da0c32b602",
         "2019-07-24"
        ],
        [
         "12",
         "2018-02-01T00:00:00",
         "19",
         "11",
         "11. Sitzung",
         "13",
         "6205403f03957565211832c1",
         "972b7f86-6ea8-4330-ee3e-08da0c32b602",
         "2018-02-01"
        ],
        [
         "13",
         "2019-09-10T00:00:00",
         "19",
         "110",
         "110. Sitzung",
         "4",
         "6205403f039575652118325e",
         "4352c5bd-81b4-43b8-eddb-08da0c32b602",
         "2019-09-10"
        ],
        [
         "14",
         "2019-09-11T00:00:00",
         "19",
         "111",
         "111. Sitzung",
         "4",
         "6205403f039575652118325d",
         "9f376bab-4854-451d-edda-08da0c32b602",
         "2019-09-11"
        ],
        [
         "15",
         "2019-09-12T00:00:00",
         "19",
         "112",
         "112. Sitzung",
         "7",
         "6205403f039575652118325c",
         "c2101fa7-e265-4450-edd9-08da0c32b602",
         "2019-09-12"
        ],
        [
         "16",
         "2019-09-13T00:00:00",
         "19",
         "113",
         "113. Sitzung",
         "3",
         "6205403f039575652118325b",
         "b0a48cb5-b31b-4498-edd8-08da0c32b602",
         "2019-09-13"
        ],
        [
         "17",
         "2019-09-25T00:00:00",
         "19",
         "114",
         "114. Sitzung",
         "3",
         "6205403f039575652118325a",
         "604225d8-5436-4f16-edd7-08da0c32b602",
         "2019-09-25"
        ],
        [
         "18",
         "2019-09-26T00:00:00",
         "19",
         "115",
         "115. Sitzung",
         "27",
         "6205403f0395756521183258",
         "52798886-8996-43cb-edd5-08da0c32b602",
         "2019-09-26"
        ],
        [
         "19",
         "2019-09-27T00:00:00",
         "19",
         "116",
         "116. Sitzung",
         "9",
         "6205403f0395756521183259",
         "253bd5d3-deeb-4b56-edd6-08da0c32b602",
         "2019-09-27"
        ],
        [
         "20",
         "2019-10-16T00:00:00",
         "19",
         "117",
         "117. Sitzung",
         "4",
         "6205403f0395756521183257",
         "833cd708-eec0-4469-edd4-08da0c32b602",
         "2019-10-16"
        ],
        [
         "21",
         "2019-10-17T00:00:00",
         "19",
         "118",
         "118. Sitzung",
         "26",
         "6205403f0395756521183256",
         "e2f3e708-c8e3-40a3-edd3-08da0c32b602",
         "2019-10-17"
        ],
        [
         "22",
         "2019-10-18T00:00:00",
         "19",
         "119",
         "119. Sitzung",
         "8",
         "6205403f0395756521183255",
         "42495e92-1abb-480f-edd2-08da0c32b602",
         "2019-10-18"
        ],
        [
         "23",
         "2018-02-02T00:00:00",
         "19",
         "12",
         "12. Sitzung",
         "6",
         "6205403f03957565211832c0",
         "b92b2bb8-8e79-41ad-ee3d-08da0c32b602",
         "2018-02-02"
        ],
        [
         "24",
         "2019-10-23T00:00:00",
         "19",
         "120",
         "120. Sitzung",
         "3",
         "6205403f0395756521183254",
         "cf1431da-0d23-4fa1-edd1-08da0c32b602",
         "2019-10-23"
        ],
        [
         "25",
         "2019-10-24T00:00:00",
         "19",
         "121",
         "121. Sitzung",
         "23",
         "6205403f0395756521183253",
         "9f817d0c-897e-4cff-edd0-08da0c32b602",
         "2019-10-24"
        ],
        [
         "26",
         "2019-10-25T00:00:00",
         "19",
         "122",
         "122. Sitzung",
         "9",
         "6205403f0395756521183252",
         "95495251-013c-4093-edcf-08da0c32b602",
         "2019-10-25"
        ],
        [
         "27",
         "2019-11-06T00:00:00",
         "19",
         "123",
         "123. Sitzung",
         "3",
         "6205403f0395756521183251",
         "08d4d384-0ffd-4930-edce-08da0c32b602",
         "2019-11-06"
        ],
        [
         "28",
         "2019-11-07T00:00:00",
         "19",
         "124",
         "124. Sitzung",
         "27",
         "6205403f039575652118324f",
         "d16896f0-3bba-49ad-edcc-08da0c32b602",
         "2019-11-07"
        ],
        [
         "29",
         "2019-11-08T00:00:00",
         "19",
         "125",
         "125. Sitzung",
         "10",
         "6205403f0395756521183250",
         "48266764-1455-4806-edcd-08da0c32b602",
         "2019-11-08"
        ],
        [
         "30",
         "2019-11-13T00:00:00",
         "19",
         "126",
         "126. Sitzung",
         "11",
         "6205403f039575652118324e",
         "3b06275d-6834-4598-edcb-08da0c32b602",
         "2019-11-13"
        ],
        [
         "31",
         "2019-11-14T00:00:00",
         "19",
         "127",
         "127. Sitzung",
         "22",
         "6205403f039575652118324d",
         "9f460880-5d9b-480a-edca-08da0c32b602",
         "2019-11-14"
        ],
        [
         "32",
         "2019-11-15T00:00:00",
         "19",
         "128",
         "128. Sitzung",
         "9",
         "6205403f039575652118324c",
         "497a8c8c-5d8f-4754-edc9-08da0c32b602",
         "2019-11-15"
        ],
        [
         "33",
         "2019-11-26T00:00:00",
         "19",
         "129",
         "129. Sitzung",
         "9",
         "6205403f039575652118324b",
         "d6d0351b-4ffa-43c9-edc8-08da0c32b602",
         "2019-11-26"
        ],
        [
         "34",
         "2018-02-21T00:00:00",
         "19",
         "13",
         "13. Sitzung",
         "3",
         "6205403f03957565211832bf",
         "3e2a9932-845f-4475-ee3c-08da0c32b602",
         "2018-02-21"
        ],
        [
         "35",
         "2019-11-27T00:00:00",
         "19",
         "130",
         "130. Sitzung",
         "4",
         "6205403f039575652118324a",
         "ffd8f0a2-af0a-44f3-edc7-08da0c32b602",
         "2019-11-27"
        ],
        [
         "36",
         "2019-11-28T00:00:00",
         "19",
         "131",
         "131. Sitzung",
         "9",
         "6205403f0395756521183249",
         "b96ff617-f857-49ab-edc6-08da0c32b602",
         "2019-11-28"
        ],
        [
         "37",
         "2019-11-29T00:00:00",
         "19",
         "132",
         "132. Sitzung",
         "5",
         "6205403f0395756521183248",
         "cab266f5-2424-46f2-edc5-08da0c32b602",
         "2019-11-29"
        ],
        [
         "38",
         "2019-12-11T00:00:00",
         "19",
         "133",
         "133. Sitzung",
         "9",
         "6205403f0395756521183247",
         "288de26a-9baf-45f6-edc4-08da0c32b602",
         "2019-12-11"
        ],
        [
         "39",
         "2019-12-12T00:00:00",
         "19",
         "134",
         "134. Sitzung",
         "17",
         "6205403f0395756521183246",
         "3f45a31f-1416-4642-edc3-08da0c32b602",
         "2019-12-12"
        ],
        [
         "40",
         "2019-12-13T00:00:00",
         "19",
         "135",
         "135. Sitzung",
         "9",
         "6205403f0395756521183245",
         "544f8ea2-a0fd-405d-edc2-08da0c32b602",
         "2019-12-13"
        ],
        [
         "41",
         "2019-12-18T00:00:00",
         "19",
         "136",
         "136. Sitzung",
         "8",
         "6205403f0395756521183243",
         "537c1162-8abf-4ecc-edc0-08da0c32b602",
         "2019-12-18"
        ],
        [
         "42",
         "2019-12-19T00:00:00",
         "19",
         "137",
         "137. Sitzung",
         "18",
         "6205403f0395756521183244",
         "f72fe134-056b-4b68-edc1-08da0c32b602",
         "2019-12-19"
        ],
        [
         "43",
         "2019-12-20T00:00:00",
         "19",
         "138",
         "138. Sitzung",
         "7",
         "6205403f0395756521183242",
         "f90b6ee6-26ca-497a-edbf-08da0c32b602",
         "2019-12-20"
        ],
        [
         "44",
         "2020-01-15T00:00:00",
         "19",
         "139",
         "139. Sitzung",
         "8",
         "6205403f0395756521183241",
         "cbb1f906-5f6c-4209-edbe-08da0c32b602",
         "2020-01-15"
        ],
        [
         "45",
         "2018-02-22T00:00:00",
         "19",
         "14",
         "14. Sitzung",
         "16",
         "6205403f03957565211832be",
         "4393e74e-4bb0-403c-ee3b-08da0c32b602",
         "2018-02-22"
        ],
        [
         "46",
         "2020-01-16T00:00:00",
         "19",
         "140",
         "140. Sitzung",
         "15",
         "6205403f0395756521183240",
         "9b361e02-fcff-460e-edbd-08da0c32b602",
         "2020-01-16"
        ],
        [
         "47",
         "2020-01-17T00:00:00",
         "19",
         "141",
         "141. Sitzung",
         "8",
         "6205403f039575652118323f",
         "dc12812b-08cd-4e05-edbc-08da0c32b602",
         "2020-01-17"
        ],
        [
         "48",
         "2020-01-29T00:00:00",
         "19",
         "142",
         "142. Sitzung",
         "8",
         "6205403f039575652118323d",
         "ede86252-69ce-428a-edba-08da0c32b602",
         "2020-01-29"
        ],
        [
         "49",
         "2020-01-30T00:00:00",
         "19",
         "143",
         "143. Sitzung",
         "13",
         "6205403f039575652118323e",
         "f2a1090d-9471-4e82-edbb-08da0c32b602",
         "2020-01-30"
        ]
       ],
       "shape": {
        "columns": 8,
        "rows": 438
       }
      },
      "text/html": [
       "<div>\n",
       "<style scoped>\n",
       "    .dataframe tbody tr th:only-of-type {\n",
       "        vertical-align: middle;\n",
       "    }\n",
       "\n",
       "    .dataframe tbody tr th {\n",
       "        vertical-align: top;\n",
       "    }\n",
       "\n",
       "    .dataframe thead th {\n",
       "        text-align: right;\n",
       "    }\n",
       "</style>\n",
       "<table border=\"1\" class=\"dataframe\">\n",
       "  <thead>\n",
       "    <tr style=\"text-align: right;\">\n",
       "      <th></th>\n",
       "      <th>ProtocolDate</th>\n",
       "      <th>LegislaturePeriod</th>\n",
       "      <th>Number</th>\n",
       "      <th>SessionTitle</th>\n",
       "      <th>AgendaItemsCount</th>\n",
       "      <th>MongoId</th>\n",
       "      <th>Id</th>\n",
       "      <th>DateOnly</th>\n",
       "    </tr>\n",
       "  </thead>\n",
       "  <tbody>\n",
       "    <tr>\n",
       "      <th>0</th>\n",
       "      <td>2017-10-24T00:00:00</td>\n",
       "      <td>19</td>\n",
       "      <td>1</td>\n",
       "      <td>1. Sitzung</td>\n",
       "      <td>6</td>\n",
       "      <td>6205403f03957565211832cb</td>\n",
       "      <td>76c3b183-81d7-4cd0-ee48-08da0c32b602</td>\n",
       "      <td>2017-10-24</td>\n",
       "    </tr>\n",
       "    <tr>\n",
       "      <th>1</th>\n",
       "      <td>2018-01-31T00:00:00</td>\n",
       "      <td>19</td>\n",
       "      <td>10</td>\n",
       "      <td>10. Sitzung</td>\n",
       "      <td>3</td>\n",
       "      <td>6205403f03957565211832c2</td>\n",
       "      <td>9830dca7-f0e1-4906-ee3f-08da0c32b602</td>\n",
       "      <td>2018-01-31</td>\n",
       "    </tr>\n",
       "    <tr>\n",
       "      <th>2</th>\n",
       "      <td>2019-05-15T00:00:00</td>\n",
       "      <td>19</td>\n",
       "      <td>100</td>\n",
       "      <td>100. Sitzung</td>\n",
       "      <td>4</td>\n",
       "      <td>6205403f0395756521183268</td>\n",
       "      <td>7d5aebcf-9b16-47a6-ede5-08da0c32b602</td>\n",
       "      <td>2019-05-15</td>\n",
       "    </tr>\n",
       "    <tr>\n",
       "      <th>3</th>\n",
       "      <td>2019-05-16T00:00:00</td>\n",
       "      <td>19</td>\n",
       "      <td>101</td>\n",
       "      <td>101. Sitzung</td>\n",
       "      <td>26</td>\n",
       "      <td>6205403f0395756521183267</td>\n",
       "      <td>f98bb208-7f24-4a3f-ede4-08da0c32b602</td>\n",
       "      <td>2019-05-16</td>\n",
       "    </tr>\n",
       "    <tr>\n",
       "      <th>4</th>\n",
       "      <td>2019-05-17T00:00:00</td>\n",
       "      <td>19</td>\n",
       "      <td>102</td>\n",
       "      <td>102. Sitzung</td>\n",
       "      <td>11</td>\n",
       "      <td>6205403f0395756521183266</td>\n",
       "      <td>ee086175-6c20-44b0-ede3-08da0c32b602</td>\n",
       "      <td>2019-05-17</td>\n",
       "    </tr>\n",
       "    <tr>\n",
       "      <th>...</th>\n",
       "      <td>...</td>\n",
       "      <td>...</td>\n",
       "      <td>...</td>\n",
       "      <td>...</td>\n",
       "      <td>...</td>\n",
       "      <td>...</td>\n",
       "      <td>...</td>\n",
       "      <td>...</td>\n",
       "    </tr>\n",
       "    <tr>\n",
       "      <th>433</th>\n",
       "      <td>2023-03-31T00:00:00</td>\n",
       "      <td>20</td>\n",
       "      <td>95</td>\n",
       "      <td>95. Sitzung</td>\n",
       "      <td>7</td>\n",
       "      <td>00000000-0000-0000-0000-000000000000</td>\n",
       "      <td>218f1cf4-f452-45ff-5c0a-08db39b0f643</td>\n",
       "      <td>2023-03-31</td>\n",
       "    </tr>\n",
       "    <tr>\n",
       "      <th>434</th>\n",
       "      <td>2023-04-19T00:00:00</td>\n",
       "      <td>20</td>\n",
       "      <td>96</td>\n",
       "      <td>96. Sitzung</td>\n",
       "      <td>7</td>\n",
       "      <td>00000000-0000-0000-0000-000000000000</td>\n",
       "      <td>797bcf60-4df4-462a-9463-08db4195fa79</td>\n",
       "      <td>2023-04-19</td>\n",
       "    </tr>\n",
       "    <tr>\n",
       "      <th>435</th>\n",
       "      <td>2023-04-20T00:00:00</td>\n",
       "      <td>20</td>\n",
       "      <td>97</td>\n",
       "      <td>97. Sitzung</td>\n",
       "      <td>14</td>\n",
       "      <td>00000000-0000-0000-0000-000000000000</td>\n",
       "      <td>0f039fcd-49f1-4c25-159d-08db424421b3</td>\n",
       "      <td>2023-04-20</td>\n",
       "    </tr>\n",
       "    <tr>\n",
       "      <th>436</th>\n",
       "      <td>2023-04-21T00:00:00</td>\n",
       "      <td>20</td>\n",
       "      <td>98</td>\n",
       "      <td>98. Sitzung</td>\n",
       "      <td>6</td>\n",
       "      <td>00000000-0000-0000-0000-000000000000</td>\n",
       "      <td>281683d2-1125-46ff-d5ef-08db44e7eb96</td>\n",
       "      <td>2023-04-21</td>\n",
       "    </tr>\n",
       "    <tr>\n",
       "      <th>437</th>\n",
       "      <td>2023-04-26T00:00:00</td>\n",
       "      <td>20</td>\n",
       "      <td>99</td>\n",
       "      <td>99. Sitzung</td>\n",
       "      <td>7</td>\n",
       "      <td>00000000-0000-0000-0000-000000000000</td>\n",
       "      <td>7b867a5b-45a6-438f-ae05-08db4746451b</td>\n",
       "      <td>2023-04-26</td>\n",
       "    </tr>\n",
       "  </tbody>\n",
       "</table>\n",
       "<p>438 rows × 8 columns</p>\n",
       "</div>"
      ],
      "text/plain": [
       "            ProtocolDate  LegislaturePeriod  Number  SessionTitle  \\\n",
       "0    2017-10-24T00:00:00                 19       1    1. Sitzung   \n",
       "1    2018-01-31T00:00:00                 19      10   10. Sitzung   \n",
       "2    2019-05-15T00:00:00                 19     100  100. Sitzung   \n",
       "3    2019-05-16T00:00:00                 19     101  101. Sitzung   \n",
       "4    2019-05-17T00:00:00                 19     102  102. Sitzung   \n",
       "..                   ...                ...     ...           ...   \n",
       "433  2023-03-31T00:00:00                 20      95   95. Sitzung   \n",
       "434  2023-04-19T00:00:00                 20      96   96. Sitzung   \n",
       "435  2023-04-20T00:00:00                 20      97   97. Sitzung   \n",
       "436  2023-04-21T00:00:00                 20      98   98. Sitzung   \n",
       "437  2023-04-26T00:00:00                 20      99   99. Sitzung   \n",
       "\n",
       "     AgendaItemsCount                               MongoId  \\\n",
       "0                   6              6205403f03957565211832cb   \n",
       "1                   3              6205403f03957565211832c2   \n",
       "2                   4              6205403f0395756521183268   \n",
       "3                  26              6205403f0395756521183267   \n",
       "4                  11              6205403f0395756521183266   \n",
       "..                ...                                   ...   \n",
       "433                 7  00000000-0000-0000-0000-000000000000   \n",
       "434                 7  00000000-0000-0000-0000-000000000000   \n",
       "435                14  00000000-0000-0000-0000-000000000000   \n",
       "436                 6  00000000-0000-0000-0000-000000000000   \n",
       "437                 7  00000000-0000-0000-0000-000000000000   \n",
       "\n",
       "                                       Id    DateOnly  \n",
       "0    76c3b183-81d7-4cd0-ee48-08da0c32b602  2017-10-24  \n",
       "1    9830dca7-f0e1-4906-ee3f-08da0c32b602  2018-01-31  \n",
       "2    7d5aebcf-9b16-47a6-ede5-08da0c32b602  2019-05-15  \n",
       "3    f98bb208-7f24-4a3f-ede4-08da0c32b602  2019-05-16  \n",
       "4    ee086175-6c20-44b0-ede3-08da0c32b602  2019-05-17  \n",
       "..                                    ...         ...  \n",
       "433  218f1cf4-f452-45ff-5c0a-08db39b0f643  2023-03-31  \n",
       "434  797bcf60-4df4-462a-9463-08db4195fa79  2023-04-19  \n",
       "435  0f039fcd-49f1-4c25-159d-08db424421b3  2023-04-20  \n",
       "436  281683d2-1125-46ff-d5ef-08db44e7eb96  2023-04-21  \n",
       "437  7b867a5b-45a6-438f-ae05-08db4746451b  2023-04-26  \n",
       "\n",
       "[438 rows x 8 columns]"
      ]
     },
     "execution_count": 75,
     "metadata": {},
     "output_type": "execute_result"
    }
   ],
   "source": [
    "df_protocol_meta"
   ]
  },
  {
   "cell_type": "code",
   "execution_count": 76,
   "id": "6cfafa77",
   "metadata": {},
   "outputs": [
    {
     "name": "stdout",
     "output_type": "stream",
     "text": [
      "Nr. of sessions in 19th:  239\n",
      "Nr. of sessions in 20th:  199\n"
     ]
    }
   ],
   "source": [
    "# sanity checks\n",
    "\n",
    "print(\"Nr. of sessions in 19th: \", len(df_protocol_meta[df_protocol_meta['LegislaturePeriod'] == 19])) # fine\n",
    "print(\"Nr. of sessions in 20th: \", len(df_protocol_meta[df_protocol_meta['LegislaturePeriod'] == 20])) # just 90?\n"
   ]
  },
  {
   "cell_type": "markdown",
   "id": "12b6b2a1",
   "metadata": {},
   "source": [
    "#### Agenda Item Meta Data"
   ]
  },
  {
   "cell_type": "code",
   "execution_count": 77,
   "id": "4e474e32",
   "metadata": {},
   "outputs": [
    {
     "data": {
      "application/vnd.microsoft.datawrangler.viewer.v0+json": {
       "columns": [
        {
         "name": "index",
         "rawType": "int64",
         "type": "integer"
        },
        {
         "name": "Title",
         "rawType": "object",
         "type": "string"
        },
        {
         "name": "AgendaItemNumber",
         "rawType": "object",
         "type": "string"
        },
        {
         "name": "Order",
         "rawType": "object",
         "type": "unknown"
        },
        {
         "name": "Date",
         "rawType": "object",
         "type": "string"
        },
        {
         "name": "ProtocolId",
         "rawType": "object",
         "type": "string"
        }
       ],
       "ref": "0619976e-9337-407e-9ec1-1c67e15ad5bb",
       "rows": [
        [
         "0",
         "Pflegeunterstützungs- und -entlastungsgesetz",
         "1",
         "1",
         "2023-05-24T13:00:00",
         "211ba62b-b557-4b0d-e458-08dbb6b04007"
        ],
        [
         "1",
         "Befragung der Bundesregierung",
         "2",
         "2",
         "2023-05-24T13:00:00",
         "211ba62b-b557-4b0d-e458-08dbb6b04007"
        ],
        [
         "2",
         "Fragestunde",
         "3",
         "3",
         "2023-05-24T14:45:00",
         "211ba62b-b557-4b0d-e458-08dbb6b04007"
        ],
        [
         "3",
         "Aktuelle Stunde - Heizungspläne der Bundesregierung",
         "ZP 1",
         "4",
         "2023-05-24T15:35:00",
         "211ba62b-b557-4b0d-e458-08dbb6b04007"
        ],
        [
         "4",
         "Berufsbildungsbericht 2023",
         "4",
         "5",
         "2023-05-24T16:45:00",
         "211ba62b-b557-4b0d-e458-08dbb6b04007"
        ],
        [
         "5",
         "Tag des Grundgesetzes am 23. Mai als Gedenktag",
         "5",
         "6",
         "2023-05-24T17:30:00",
         "211ba62b-b557-4b0d-e458-08dbb6b04007"
        ],
        [
         "6",
         "Bekämpfung von Arzneimittellieferengpässen",
         "6",
         "7",
         "2023-05-24T18:20:00",
         "211ba62b-b557-4b0d-e458-08dbb6b04007"
        ],
        [
         "7",
         "Unterbringung von Flüchtlingen und Asylbewerbern",
         "7",
         "8",
         "2023-05-24T19:10:00",
         "211ba62b-b557-4b0d-e458-08dbb6b04007"
        ]
       ],
       "shape": {
        "columns": 5,
        "rows": 8
       }
      },
      "text/html": [
       "<div>\n",
       "<style scoped>\n",
       "    .dataframe tbody tr th:only-of-type {\n",
       "        vertical-align: middle;\n",
       "    }\n",
       "\n",
       "    .dataframe tbody tr th {\n",
       "        vertical-align: top;\n",
       "    }\n",
       "\n",
       "    .dataframe thead th {\n",
       "        text-align: right;\n",
       "    }\n",
       "</style>\n",
       "<table border=\"1\" class=\"dataframe\">\n",
       "  <thead>\n",
       "    <tr style=\"text-align: right;\">\n",
       "      <th></th>\n",
       "      <th>Title</th>\n",
       "      <th>AgendaItemNumber</th>\n",
       "      <th>Order</th>\n",
       "      <th>Date</th>\n",
       "      <th>ProtocolId</th>\n",
       "    </tr>\n",
       "  </thead>\n",
       "  <tbody>\n",
       "    <tr>\n",
       "      <th>0</th>\n",
       "      <td>Pflegeunterstützungs- und -entlastungsgesetz</td>\n",
       "      <td>1</td>\n",
       "      <td>1</td>\n",
       "      <td>2023-05-24T13:00:00</td>\n",
       "      <td>211ba62b-b557-4b0d-e458-08dbb6b04007</td>\n",
       "    </tr>\n",
       "    <tr>\n",
       "      <th>1</th>\n",
       "      <td>Befragung der Bundesregierung</td>\n",
       "      <td>2</td>\n",
       "      <td>2</td>\n",
       "      <td>2023-05-24T13:00:00</td>\n",
       "      <td>211ba62b-b557-4b0d-e458-08dbb6b04007</td>\n",
       "    </tr>\n",
       "    <tr>\n",
       "      <th>2</th>\n",
       "      <td>Fragestunde</td>\n",
       "      <td>3</td>\n",
       "      <td>3</td>\n",
       "      <td>2023-05-24T14:45:00</td>\n",
       "      <td>211ba62b-b557-4b0d-e458-08dbb6b04007</td>\n",
       "    </tr>\n",
       "    <tr>\n",
       "      <th>3</th>\n",
       "      <td>Aktuelle Stunde - Heizungspläne der Bundesregi...</td>\n",
       "      <td>ZP 1</td>\n",
       "      <td>4</td>\n",
       "      <td>2023-05-24T15:35:00</td>\n",
       "      <td>211ba62b-b557-4b0d-e458-08dbb6b04007</td>\n",
       "    </tr>\n",
       "    <tr>\n",
       "      <th>4</th>\n",
       "      <td>Berufsbildungsbericht 2023</td>\n",
       "      <td>4</td>\n",
       "      <td>5</td>\n",
       "      <td>2023-05-24T16:45:00</td>\n",
       "      <td>211ba62b-b557-4b0d-e458-08dbb6b04007</td>\n",
       "    </tr>\n",
       "    <tr>\n",
       "      <th>5</th>\n",
       "      <td>Tag des Grundgesetzes am 23. Mai als Gedenktag</td>\n",
       "      <td>5</td>\n",
       "      <td>6</td>\n",
       "      <td>2023-05-24T17:30:00</td>\n",
       "      <td>211ba62b-b557-4b0d-e458-08dbb6b04007</td>\n",
       "    </tr>\n",
       "    <tr>\n",
       "      <th>6</th>\n",
       "      <td>Bekämpfung von Arzneimittellieferengpässen</td>\n",
       "      <td>6</td>\n",
       "      <td>7</td>\n",
       "      <td>2023-05-24T18:20:00</td>\n",
       "      <td>211ba62b-b557-4b0d-e458-08dbb6b04007</td>\n",
       "    </tr>\n",
       "    <tr>\n",
       "      <th>7</th>\n",
       "      <td>Unterbringung von Flüchtlingen und Asylbewerbern</td>\n",
       "      <td>7</td>\n",
       "      <td>8</td>\n",
       "      <td>2023-05-24T19:10:00</td>\n",
       "      <td>211ba62b-b557-4b0d-e458-08dbb6b04007</td>\n",
       "    </tr>\n",
       "  </tbody>\n",
       "</table>\n",
       "</div>"
      ],
      "text/plain": [
       "                                               Title AgendaItemNumber Order  \\\n",
       "0       Pflegeunterstützungs- und -entlastungsgesetz                1     1   \n",
       "1                      Befragung der Bundesregierung                2     2   \n",
       "2                                        Fragestunde                3     3   \n",
       "3  Aktuelle Stunde - Heizungspläne der Bundesregi...             ZP 1     4   \n",
       "4                         Berufsbildungsbericht 2023                4     5   \n",
       "5     Tag des Grundgesetzes am 23. Mai als Gedenktag                5     6   \n",
       "6         Bekämpfung von Arzneimittellieferengpässen                6     7   \n",
       "7   Unterbringung von Flüchtlingen und Asylbewerbern                7     8   \n",
       "\n",
       "                  Date                            ProtocolId  \n",
       "0  2023-05-24T13:00:00  211ba62b-b557-4b0d-e458-08dbb6b04007  \n",
       "1  2023-05-24T13:00:00  211ba62b-b557-4b0d-e458-08dbb6b04007  \n",
       "2  2023-05-24T14:45:00  211ba62b-b557-4b0d-e458-08dbb6b04007  \n",
       "3  2023-05-24T15:35:00  211ba62b-b557-4b0d-e458-08dbb6b04007  \n",
       "4  2023-05-24T16:45:00  211ba62b-b557-4b0d-e458-08dbb6b04007  \n",
       "5  2023-05-24T17:30:00  211ba62b-b557-4b0d-e458-08dbb6b04007  \n",
       "6  2023-05-24T18:20:00  211ba62b-b557-4b0d-e458-08dbb6b04007  \n",
       "7  2023-05-24T19:10:00  211ba62b-b557-4b0d-e458-08dbb6b04007  "
      ]
     },
     "execution_count": 77,
     "metadata": {},
     "output_type": "execute_result"
    }
   ],
   "source": [
    "# legislative period 19, session 35\n",
    "df_Agenda = pd.DataFrame(columns=['Title', 'AgendaItemNumber', 'Order','Date', 'ProtocolId'])\n",
    "\n",
    "\n",
    "for i, item in enumerate(data[\"AgendaItems\"]):\n",
    "\n",
    "\n",
    "    row = {\n",
    "        'Title' : item['Title'], \n",
    "        'AgendaItemNumber' : item['AgendaItemNumber'], \n",
    "        'Order': item['Order'],\n",
    "        'Date' : item['Date'], \n",
    "        'ProtocolId' : item['ProtocolId']\n",
    "    }\n",
    "\n",
    "    df_Agenda = pd.concat([df_Agenda, pd.DataFrame([row])], ignore_index=True)\n",
    "  \n",
    "df_Agenda"
   ]
  },
  {
   "cell_type": "code",
   "execution_count": 78,
   "id": "747dc0ae",
   "metadata": {},
   "outputs": [],
   "source": [
    "rows = []\n",
    "\n",
    "for session_file in json_files:\n",
    "    with open(session_file, 'r') as file:\n",
    "        data_temp = json.load(file)\n",
    "\n",
    "    for item in data_temp[\"AgendaItems\"]:\n",
    "        rows.append({\n",
    "            'AgendaItemTitle': item['Title'],\n",
    "            'AgendaItemNumber': item['AgendaItemNumber'],\n",
    "            'Order': item['Order'],\n",
    "            'AgendaItemDate': item['Date'],\n",
    "            'ProtocolId': item['ProtocolId']\n",
    "        })\n",
    "\n",
    "df_agenda_items = pd.DataFrame(rows)\n",
    "\n",
    "\n",
    "# ~30 sec. runtime"
   ]
  },
  {
   "cell_type": "code",
   "execution_count": 79,
   "id": "f1e0e825",
   "metadata": {},
   "outputs": [],
   "source": [
    "df_agenda_items['DateOnly'] = pd.to_datetime(df_agenda_items['AgendaItemDate']).dt.date\n"
   ]
  },
  {
   "cell_type": "code",
   "execution_count": 80,
   "id": "aa10b696",
   "metadata": {},
   "outputs": [
    {
     "data": {
      "application/vnd.microsoft.datawrangler.viewer.v0+json": {
       "columns": [
        {
         "name": "index",
         "rawType": "int64",
         "type": "integer"
        },
        {
         "name": "AgendaItemTitle",
         "rawType": "object",
         "type": "string"
        },
        {
         "name": "AgendaItemNumber",
         "rawType": "object",
         "type": "string"
        },
        {
         "name": "Order",
         "rawType": "int64",
         "type": "integer"
        },
        {
         "name": "AgendaItemDate",
         "rawType": "object",
         "type": "string"
        },
        {
         "name": "ProtocolId",
         "rawType": "object",
         "type": "string"
        },
        {
         "name": "DateOnly",
         "rawType": "object",
         "type": "unknown"
        }
       ],
       "ref": "e69da4df-b209-44ca-bde2-15fc48fcfc5d",
       "rows": [
        [
         "0",
         "Eröffnung der Sitzung durch den Alterspräsidenten",
         "1",
         "1",
         "2017-10-24T11:05:00",
         "76c3b183-81d7-4cd0-ee48-08da0c32b602",
         "2017-10-24"
        ],
        [
         "1",
         "Beschlussfassung über die Geschäftsordnung",
         "2",
         "2",
         "2017-10-24T11:25:00",
         "76c3b183-81d7-4cd0-ee48-08da0c32b602",
         "2017-10-24"
        ],
        [
         "2",
         "Wahl des Präsidenten",
         "3",
         "3",
         "2017-10-24T12:05:00",
         "76c3b183-81d7-4cd0-ee48-08da0c32b602",
         "2017-10-24"
        ],
        [
         "3",
         "Amtsübernahme durch den Präsidenten mit Ansprache",
         "4",
         "4",
         "2017-10-24T13:15:00",
         "76c3b183-81d7-4cd0-ee48-08da0c32b602",
         "2017-10-24"
        ],
        [
         "4",
         "Festlegung der Zahl der Stellvertreter des Präsidenten",
         "5",
         "5",
         "2017-10-24T13:40:00",
         "76c3b183-81d7-4cd0-ee48-08da0c32b602",
         "2017-10-24"
        ],
        [
         "5",
         "Wahl der Stellvertreter des Präsidenten",
         "6",
         "6",
         "2017-10-24T13:40:00",
         "76c3b183-81d7-4cd0-ee48-08da0c32b602",
         "2017-10-24"
        ],
        [
         "6",
         "Nationalhymne",
         "7",
         "7",
         "2017-10-24T17:00:00",
         "76c3b183-81d7-4cd0-ee48-08da0c32b602",
         "2017-10-24"
        ],
        [
         "7",
         "Befragung der Bundesregierung",
         "1",
         "1",
         "2018-01-31T14:30:00",
         "9830dca7-f0e1-4906-ee3f-08da0c32b602",
         "2018-01-31"
        ],
        [
         "8",
         "Fragestunde",
         "2",
         "2",
         "2018-01-31T15:20:00",
         "9830dca7-f0e1-4906-ee3f-08da0c32b602",
         "2018-01-31"
        ],
        [
         "9",
         "Aktuelle Stunde zu einer europäischen Bankenunion",
         "ZP 1",
         "3",
         "2018-01-31T17:10:00",
         "9830dca7-f0e1-4906-ee3f-08da0c32b602",
         "2018-01-31"
        ],
        [
         "10",
         "Befragung der Bundesregierung",
         "1",
         "1",
         "2019-05-15T13:00:00",
         "7d5aebcf-9b16-47a6-ede5-08da0c32b602",
         "2019-05-15"
        ],
        [
         "11",
         "Fragestunde",
         "2",
         "2",
         "2019-05-15T14:15:00",
         "7d5aebcf-9b16-47a6-ede5-08da0c32b602",
         "2019-05-15"
        ],
        [
         "12",
         "Aktuelle Stunde zum Iran-Atomabkommen",
         "ZP 1",
         "3",
         "2019-05-15T15:45:00",
         "7d5aebcf-9b16-47a6-ede5-08da0c32b602",
         "2019-05-15"
        ],
        [
         "13",
         "Tätigkeitsbericht 2018 des Petitionsausschusses",
         "3",
         "4",
         "2019-05-15T17:10:00",
         "7d5aebcf-9b16-47a6-ede5-08da0c32b602",
         "2019-05-15"
        ],
        [
         "14",
         "Vereinbarte Debatte - 70 Jahre Grundgesetz",
         "4",
         "1",
         "2019-05-16T09:00:00",
         "f98bb208-7f24-4a3f-ede4-08da0c32b602",
         "2019-05-16"
        ],
        [
         "15",
         "Entlastung bei den Sozialabgaben",
         "5",
         "2",
         "2019-05-16T11:20:00",
         "f98bb208-7f24-4a3f-ede4-08da0c32b602",
         "2019-05-16"
        ],
        [
         "16",
         "Durchsetzung der Ausreisepflicht",
         "6",
         "3",
         "2019-05-16T12:25:00",
         "f98bb208-7f24-4a3f-ede4-08da0c32b602",
         "2019-05-16"
        ],
        [
         "17",
         "Löhne und Arbeitsbedingungen im Postmarkt",
         "7, ZP 2",
         "4",
         "2019-05-16T13:35:00",
         "f98bb208-7f24-4a3f-ede4-08da0c32b602",
         "2019-05-16"
        ],
        [
         "18",
         "Überweisungen im vereinfachten Verfahren",
         "31, ZP 3",
         "5",
         "2019-05-16T14:45:00",
         "f98bb208-7f24-4a3f-ede4-08da0c32b602",
         "2019-05-16"
        ],
        [
         "19",
         "Abschließende Beratungen ohne Aussprache",
         "32",
         "6",
         "2019-05-16T14:45:00",
         "f98bb208-7f24-4a3f-ede4-08da0c32b602",
         "2019-05-16"
        ],
        [
         "20",
         "2. Wahlgang - Stellvertreter des Präsidenten",
         "ZP 4",
         "7",
         "2019-05-16T15:00:00",
         "f98bb208-7f24-4a3f-ede4-08da0c32b602",
         "2019-05-16"
        ],
        [
         "21",
         "Gremienwahlen",
         "ZP 5",
         "8",
         "2019-05-16T15:25:00",
         "f98bb208-7f24-4a3f-ede4-08da0c32b602",
         "2019-05-16"
        ],
        [
         "22",
         "Aktuelle Stunde zur Finanzierungslücke bei der Grundrente",
         "ZP 6",
         "9",
         "2019-05-16T16:00:00",
         "f98bb208-7f24-4a3f-ede4-08da0c32b602",
         "2019-05-16"
        ],
        [
         "23",
         "Änderung des Bundesausbildungsförderungsgesetzes",
         "8",
         "10",
         "2019-05-16T17:20:00",
         "f98bb208-7f24-4a3f-ede4-08da0c32b602",
         "2019-05-16"
        ],
        [
         "24",
         "Digitalpakt 2.0",
         "9",
         "11",
         "2019-05-16T18:30:00",
         "f98bb208-7f24-4a3f-ede4-08da0c32b602",
         "2019-05-16"
        ],
        [
         "25",
         "Anpassung der Betreuer- und Vormündervergütung",
         "10",
         "12",
         "2019-05-16T19:15:00",
         "f98bb208-7f24-4a3f-ede4-08da0c32b602",
         "2019-05-16"
        ],
        [
         "26",
         "Änderung des Staatsangehörigkeitsgesetzes",
         "11",
         "13",
         "2019-05-16T20:00:00",
         "f98bb208-7f24-4a3f-ede4-08da0c32b602",
         "2019-05-16"
        ],
        [
         "27",
         "Gemeinsame Außen-u. Sicherheitspolitik der EU",
         "12",
         "14",
         "2019-05-16T20:40:00",
         "f98bb208-7f24-4a3f-ede4-08da0c32b602",
         "2019-05-16"
        ],
        [
         "28",
         "Gesetz zur deutsch-französischen Zusammenarbeit",
         "13",
         "15",
         "2019-05-16T21:20:00",
         "f98bb208-7f24-4a3f-ede4-08da0c32b602",
         "2019-05-16"
        ],
        [
         "29",
         "Freiheit im Internet",
         "14",
         "16",
         "2019-05-16T22:00:00",
         "f98bb208-7f24-4a3f-ede4-08da0c32b602",
         "2019-05-16"
        ],
        [
         "30",
         "Ausländerbeschäftigungsförderungsgesetz",
         "17",
         "17",
         "2019-05-16T22:25:00",
         "f98bb208-7f24-4a3f-ede4-08da0c32b602",
         "2019-05-16"
        ],
        [
         "31",
         "Militärische Eskalation im Nahen Osten",
         "ZP 7",
         "18",
         "2019-05-16T22:35:00",
         "f98bb208-7f24-4a3f-ede4-08da0c32b602",
         "2019-05-16"
        ],
        [
         "32",
         "Änderung des Asylbewerberleistungsgesetzes",
         "15",
         "19",
         "2019-05-16T23:00:00",
         "f98bb208-7f24-4a3f-ede4-08da0c32b602",
         "2019-05-16"
        ],
        [
         "33",
         "Änderung des Grundgesetzes - Grundrechte für alle",
         "ZP 8",
         "20",
         "2019-05-16T23:10:00",
         "f98bb208-7f24-4a3f-ede4-08da0c32b602",
         "2019-05-16"
        ],
        [
         "34",
         "Änderung des Bundeswahlgesetzes",
         "19",
         "21",
         "2019-05-16T23:35:00",
         "f98bb208-7f24-4a3f-ede4-08da0c32b602",
         "2019-05-16"
        ],
        [
         "35",
         "Digitalisierung in der Landwirtschaft",
         "20",
         "22",
         "2019-05-16T00:05:00",
         "f98bb208-7f24-4a3f-ede4-08da0c32b602",
         "2019-05-16"
        ],
        [
         "36",
         "Europäische Digitalkonzernsteuer",
         "21, ZP 9",
         "23",
         "2019-05-16T00:20:00",
         "f98bb208-7f24-4a3f-ede4-08da0c32b602",
         "2019-05-16"
        ],
        [
         "37",
         "Fixierungen im Rahmen von Freiheitsentziehungen",
         "23",
         "24",
         "2019-05-16T00:40:00",
         "f98bb208-7f24-4a3f-ede4-08da0c32b602",
         "2019-05-16"
        ],
        [
         "38",
         "Maritime Wirtschaftspolitik",
         "24",
         "1",
         "2019-05-17T09:00:00",
         "ee086175-6c20-44b0-ede3-08da0c32b602",
         "2019-05-17"
        ],
        [
         "39",
         "Europol",
         "25",
         "2",
         "2019-05-17T10:10:00",
         "ee086175-6c20-44b0-ede3-08da0c32b602",
         "2019-05-17"
        ],
        [
         "40",
         "Bundeswehreinsatz in Libanon (UNIFIL)",
         "26",
         "3",
         "2019-05-17T11:25:00",
         "ee086175-6c20-44b0-ede3-08da0c32b602",
         "2019-05-17"
        ],
        [
         "41",
         "Schutz von Gewässern und Grundwasser",
         "27",
         "4",
         "2019-05-17T12:05:00",
         "ee086175-6c20-44b0-ede3-08da0c32b602",
         "2019-05-17"
        ],
        [
         "42",
         "70 Jahre Europarat",
         "28, ZP 10",
         "5",
         "2019-05-17T13:10:00",
         "ee086175-6c20-44b0-ede3-08da0c32b602",
         "2019-05-17"
        ],
        [
         "43",
         "EU-Budget",
         "29",
         "6",
         "2019-05-17T13:55:00",
         "ee086175-6c20-44b0-ede3-08da0c32b602",
         "2019-05-17"
        ],
        [
         "44",
         "BDS-Bewegung",
         "ZP 11, 12, 14",
         "7",
         "2019-05-17T14:45:00",
         "ee086175-6c20-44b0-ede3-08da0c32b602",
         "2019-05-17"
        ],
        [
         "45",
         "Rüstungsexport",
         "30",
         "8",
         "2019-05-17T15:30:00",
         "ee086175-6c20-44b0-ede3-08da0c32b602",
         "2019-05-17"
        ],
        [
         "46",
         "Aktuelle Stunde zu Maßnahmen gegen Homo- und Transfeindlichkeit",
         "ZP 13",
         "9",
         "2019-05-17T16:20:00",
         "ee086175-6c20-44b0-ede3-08da0c32b602",
         "2019-05-17"
        ],
        [
         "47",
         "Befragung der Bundesregierung",
         "1",
         "1",
         "2019-06-05T13:00:00",
         "2d248c5a-a091-4699-ede2-08da0c32b602",
         "2019-06-05"
        ],
        [
         "48",
         "Fragestunde",
         "2",
         "2",
         "2019-06-05T14:15:00",
         "2d248c5a-a091-4699-ede2-08da0c32b602",
         "2019-06-05"
        ],
        [
         "49",
         "Aktuelle Stunde zu konkreten Maßnahmen für den Klimaschutz",
         "ZP 1",
         "3",
         "2019-06-05T15:40:00",
         "2d248c5a-a091-4699-ede2-08da0c32b602",
         "2019-06-05"
        ]
       ],
       "shape": {
        "columns": 6,
        "rows": 4464
       }
      },
      "text/html": [
       "<div>\n",
       "<style scoped>\n",
       "    .dataframe tbody tr th:only-of-type {\n",
       "        vertical-align: middle;\n",
       "    }\n",
       "\n",
       "    .dataframe tbody tr th {\n",
       "        vertical-align: top;\n",
       "    }\n",
       "\n",
       "    .dataframe thead th {\n",
       "        text-align: right;\n",
       "    }\n",
       "</style>\n",
       "<table border=\"1\" class=\"dataframe\">\n",
       "  <thead>\n",
       "    <tr style=\"text-align: right;\">\n",
       "      <th></th>\n",
       "      <th>AgendaItemTitle</th>\n",
       "      <th>AgendaItemNumber</th>\n",
       "      <th>Order</th>\n",
       "      <th>AgendaItemDate</th>\n",
       "      <th>ProtocolId</th>\n",
       "      <th>DateOnly</th>\n",
       "    </tr>\n",
       "  </thead>\n",
       "  <tbody>\n",
       "    <tr>\n",
       "      <th>0</th>\n",
       "      <td>Eröffnung der Sitzung durch den Alterspräsidenten</td>\n",
       "      <td>1</td>\n",
       "      <td>1</td>\n",
       "      <td>2017-10-24T11:05:00</td>\n",
       "      <td>76c3b183-81d7-4cd0-ee48-08da0c32b602</td>\n",
       "      <td>2017-10-24</td>\n",
       "    </tr>\n",
       "    <tr>\n",
       "      <th>1</th>\n",
       "      <td>Beschlussfassung über die Geschäftsordnung</td>\n",
       "      <td>2</td>\n",
       "      <td>2</td>\n",
       "      <td>2017-10-24T11:25:00</td>\n",
       "      <td>76c3b183-81d7-4cd0-ee48-08da0c32b602</td>\n",
       "      <td>2017-10-24</td>\n",
       "    </tr>\n",
       "    <tr>\n",
       "      <th>2</th>\n",
       "      <td>Wahl des Präsidenten</td>\n",
       "      <td>3</td>\n",
       "      <td>3</td>\n",
       "      <td>2017-10-24T12:05:00</td>\n",
       "      <td>76c3b183-81d7-4cd0-ee48-08da0c32b602</td>\n",
       "      <td>2017-10-24</td>\n",
       "    </tr>\n",
       "    <tr>\n",
       "      <th>3</th>\n",
       "      <td>Amtsübernahme durch den Präsidenten mit Ansprache</td>\n",
       "      <td>4</td>\n",
       "      <td>4</td>\n",
       "      <td>2017-10-24T13:15:00</td>\n",
       "      <td>76c3b183-81d7-4cd0-ee48-08da0c32b602</td>\n",
       "      <td>2017-10-24</td>\n",
       "    </tr>\n",
       "    <tr>\n",
       "      <th>4</th>\n",
       "      <td>Festlegung der Zahl der Stellvertreter des Prä...</td>\n",
       "      <td>5</td>\n",
       "      <td>5</td>\n",
       "      <td>2017-10-24T13:40:00</td>\n",
       "      <td>76c3b183-81d7-4cd0-ee48-08da0c32b602</td>\n",
       "      <td>2017-10-24</td>\n",
       "    </tr>\n",
       "    <tr>\n",
       "      <th>...</th>\n",
       "      <td>...</td>\n",
       "      <td>...</td>\n",
       "      <td>...</td>\n",
       "      <td>...</td>\n",
       "      <td>...</td>\n",
       "      <td>...</td>\n",
       "    </tr>\n",
       "    <tr>\n",
       "      <th>4459</th>\n",
       "      <td>Aktuelle Stunde - Umstrittene Personalpolitik ...</td>\n",
       "      <td>ZP 1</td>\n",
       "      <td>3</td>\n",
       "      <td>2023-04-26T14:40:00</td>\n",
       "      <td>7b867a5b-45a6-438f-ae05-08db4746451b</td>\n",
       "      <td>2023-04-26</td>\n",
       "    </tr>\n",
       "    <tr>\n",
       "      <th>4460</th>\n",
       "      <td>Bundeswehreinsatz Evakuierung aus Sudan</td>\n",
       "      <td>ZP 2</td>\n",
       "      <td>4</td>\n",
       "      <td>2023-04-26T15:30:00</td>\n",
       "      <td>7b867a5b-45a6-438f-ae05-08db4746451b</td>\n",
       "      <td>2023-04-26</td>\n",
       "    </tr>\n",
       "    <tr>\n",
       "      <th>4461</th>\n",
       "      <td>Wolfsbestandsmanagement</td>\n",
       "      <td>4</td>\n",
       "      <td>5</td>\n",
       "      <td>2023-04-26T16:40:00</td>\n",
       "      <td>7b867a5b-45a6-438f-ae05-08db4746451b</td>\n",
       "      <td>2023-04-26</td>\n",
       "    </tr>\n",
       "    <tr>\n",
       "      <th>4462</th>\n",
       "      <td>Bundeswehreinsatz EUNAVFOR MED IRINI</td>\n",
       "      <td>3</td>\n",
       "      <td>6</td>\n",
       "      <td>2023-04-26T17:30:00</td>\n",
       "      <td>7b867a5b-45a6-438f-ae05-08db4746451b</td>\n",
       "      <td>2023-04-26</td>\n",
       "    </tr>\n",
       "    <tr>\n",
       "      <th>4463</th>\n",
       "      <td>Unregulierte Massenmigration</td>\n",
       "      <td>5</td>\n",
       "      <td>7</td>\n",
       "      <td>2023-04-26T18:25:00</td>\n",
       "      <td>7b867a5b-45a6-438f-ae05-08db4746451b</td>\n",
       "      <td>2023-04-26</td>\n",
       "    </tr>\n",
       "  </tbody>\n",
       "</table>\n",
       "<p>4464 rows × 6 columns</p>\n",
       "</div>"
      ],
      "text/plain": [
       "                                        AgendaItemTitle AgendaItemNumber  \\\n",
       "0     Eröffnung der Sitzung durch den Alterspräsidenten                1   \n",
       "1            Beschlussfassung über die Geschäftsordnung                2   \n",
       "2                                  Wahl des Präsidenten                3   \n",
       "3     Amtsübernahme durch den Präsidenten mit Ansprache                4   \n",
       "4     Festlegung der Zahl der Stellvertreter des Prä...                5   \n",
       "...                                                 ...              ...   \n",
       "4459  Aktuelle Stunde - Umstrittene Personalpolitik ...             ZP 1   \n",
       "4460            Bundeswehreinsatz Evakuierung aus Sudan             ZP 2   \n",
       "4461                            Wolfsbestandsmanagement                4   \n",
       "4462               Bundeswehreinsatz EUNAVFOR MED IRINI                3   \n",
       "4463                       Unregulierte Massenmigration                5   \n",
       "\n",
       "      Order       AgendaItemDate                            ProtocolId  \\\n",
       "0         1  2017-10-24T11:05:00  76c3b183-81d7-4cd0-ee48-08da0c32b602   \n",
       "1         2  2017-10-24T11:25:00  76c3b183-81d7-4cd0-ee48-08da0c32b602   \n",
       "2         3  2017-10-24T12:05:00  76c3b183-81d7-4cd0-ee48-08da0c32b602   \n",
       "3         4  2017-10-24T13:15:00  76c3b183-81d7-4cd0-ee48-08da0c32b602   \n",
       "4         5  2017-10-24T13:40:00  76c3b183-81d7-4cd0-ee48-08da0c32b602   \n",
       "...     ...                  ...                                   ...   \n",
       "4459      3  2023-04-26T14:40:00  7b867a5b-45a6-438f-ae05-08db4746451b   \n",
       "4460      4  2023-04-26T15:30:00  7b867a5b-45a6-438f-ae05-08db4746451b   \n",
       "4461      5  2023-04-26T16:40:00  7b867a5b-45a6-438f-ae05-08db4746451b   \n",
       "4462      6  2023-04-26T17:30:00  7b867a5b-45a6-438f-ae05-08db4746451b   \n",
       "4463      7  2023-04-26T18:25:00  7b867a5b-45a6-438f-ae05-08db4746451b   \n",
       "\n",
       "        DateOnly  \n",
       "0     2017-10-24  \n",
       "1     2017-10-24  \n",
       "2     2017-10-24  \n",
       "3     2017-10-24  \n",
       "4     2017-10-24  \n",
       "...          ...  \n",
       "4459  2023-04-26  \n",
       "4460  2023-04-26  \n",
       "4461  2023-04-26  \n",
       "4462  2023-04-26  \n",
       "4463  2023-04-26  \n",
       "\n",
       "[4464 rows x 6 columns]"
      ]
     },
     "execution_count": 80,
     "metadata": {},
     "output_type": "execute_result"
    }
   ],
   "source": [
    "df_agenda_items"
   ]
  },
  {
   "cell_type": "markdown",
   "id": "f275bf4f",
   "metadata": {},
   "source": [
    "#### Merge"
   ]
  },
  {
   "cell_type": "code",
   "execution_count": 81,
   "id": "f197dc0c",
   "metadata": {},
   "outputs": [],
   "source": [
    "df_agenda = df_agenda_items.merge(df_protocol_meta, on='DateOnly', how='left')"
   ]
  },
  {
   "cell_type": "code",
   "execution_count": 82,
   "id": "ff6c2e1c",
   "metadata": {},
   "outputs": [],
   "source": [
    "df_agenda.to_csv(\"../data/agenda_item_info.csv\")"
   ]
  },
  {
   "cell_type": "markdown",
   "id": "8c1df50c",
   "metadata": {},
   "source": [
    "***\n",
    "## **Old: Matching test with Ella**\n",
    "***"
   ]
  },
  {
   "cell_type": "code",
   "execution_count": 32,
   "id": "218e459b",
   "metadata": {},
   "outputs": [
    {
     "name": "stdout",
     "output_type": "stream",
     "text": [
      "Jürgen\n",
      "Braun\n",
      "AfD\n",
      "11004680\n",
      "­Filiz\n",
      "Polat\n",
      "Bündnis 90 / Die Grünen\n",
      "None\n",
      "Jan\n",
      "Korte\n",
      "Die Linke\n",
      "11003790\n",
      "\n",
      "\n",
      "None\n",
      "None\n",
      "nichts\n",
      "geschafft!\n",
      "None\n",
      "None\n",
      "Volker\n",
      "Kauder\n",
      "CDU/CSU\n",
      "11001074\n",
      "Marco\n",
      "Buschmann\n",
      "FDP\n",
      "11004023\n",
      "Heike\n",
      "Hänsel\n",
      "Die Linke\n",
      "11003763\n",
      "\n",
      "\n",
      "None\n",
      "None\n",
      "Steffi\n",
      "Lemke\n",
      "Bündnis 90 / Die Grünen\n",
      "11002720\n",
      "W.\n",
      "Birkwald\n",
      "Die Linke\n",
      "None\n",
      "Steffi\n",
      "Lemke\n",
      "Bündnis 90 / Die Grünen\n",
      "11002720\n",
      "Beate\n",
      "Müller-Gemmeke\n",
      "Bündnis 90 / Die Grünen\n",
      "11004117\n",
      "Steffi\n",
      "Lemke\n",
      "Bündnis 90 / Die Grünen\n",
      "11002720\n",
      "W.\n",
      "Birkwald\n",
      "Die Linke\n",
      "None\n",
      "Jessica\n",
      "Tatti\n",
      "Die Linke\n",
      "11004911\n",
      "W.\n",
      "Birkwald\n",
      "Die Linke\n",
      "None\n",
      "Jessica\n",
      "Tatti\n",
      "Die Linke\n",
      "11004911\n",
      "Kerstin\n",
      "Tack\n",
      "SPD\n",
      "11004173\n",
      "Beate\n",
      "Müller-Gemmeke\n",
      "Bündnis 90 / Die Grünen\n",
      "11004117\n",
      "Kerstin\n",
      "Tack\n",
      "SPD\n",
      "11004173\n",
      "Martin\n",
      "Rosemann\n",
      "SPD\n",
      "11004389\n",
      "Peter\n",
      "Weiß\n",
      "CDU/CSU\n",
      "11003255\n",
      "Kai\n",
      "Whittaker\n",
      "CDU/CSU\n",
      "11004443\n",
      "W.\n",
      "Birkwald\n",
      "Die Linke\n",
      "None\n",
      "Kai\n",
      "Whittaker\n",
      "CDU/CSU\n",
      "11004443\n",
      "Johannes\n",
      "Vogel\n",
      "FDP\n",
      "11004179\n",
      "Beate\n",
      "Müller-Gemmeke\n",
      "Bündnis 90 / Die Grünen\n",
      "11004117\n",
      "W.\n",
      "Birkwald\n",
      "Die Linke\n",
      "None\n",
      "Christian\n",
      "Lindner\n",
      "FDP\n",
      "11004097\n",
      "Graf\n",
      "Lambsdorff\n",
      "FDP\n",
      "None\n",
      "W.\n",
      "Birkwald\n",
      "Die Linke\n",
      "None\n",
      "Jessica\n",
      "Tatti\n",
      "Die Linke\n",
      "11004911\n",
      "Johannes\n",
      "Vogel\n",
      "FDP\n",
      "11004179\n",
      "Kai\n",
      "Whittaker\n",
      "CDU/CSU\n",
      "11004443\n",
      "Martin\n",
      "Rosemann\n",
      "SPD\n",
      "11004389\n",
      "Matthias\n",
      "Zimmer\n",
      "CDU/CSU\n",
      "11004192\n",
      "Martin\n",
      "Rosemann\n",
      "SPD\n",
      "11004389\n",
      "W.\n",
      "Birkwald\n",
      "Die Linke\n",
      "None\n",
      "Matthias\n",
      "Zimmer\n",
      "CDU/CSU\n",
      "11004192\n",
      "Beate\n",
      "Müller-Gemmeke\n",
      "Bündnis 90 / Die Grünen\n",
      "11004117\n",
      "W.\n",
      "Birkwald\n",
      "Die Linke\n",
      "None\n",
      "Beate\n",
      "Müller-­Gemmeke\n",
      "Bündnis 90 / Die Grünen\n",
      "None\n",
      "Kerstin\n",
      "Tack\n",
      "SPD\n",
      "11004173\n",
      "Beate\n",
      "Müller-Gemmeke\n",
      "Bündnis 90 / Die Grünen\n",
      "11004117\n",
      "Karsten\n",
      "Hilse\n",
      "AfD\n",
      "11004752\n",
      "Johannes\n",
      "Vogel\n",
      "FDP\n",
      "11004179\n",
      "Beate\n",
      "Müller-­Gemmeke\n",
      "Bündnis 90 / Die Grünen\n",
      "None\n",
      "Johannes\n",
      "Vogel\n",
      "FDP\n",
      "11004179\n",
      "Johannes\n",
      "Vogel\n",
      "FDP\n",
      "11004179\n",
      "W.\n",
      "Birkwald\n",
      "Die Linke\n",
      "None\n",
      "Leif-Erik\n",
      "Holm\n",
      "AfD\n",
      "11004761\n",
      "Leif-Erik\n",
      "Holm\n",
      "AfD\n",
      "11004761\n",
      "Leif-Erik\n",
      "Holm\n",
      "AfD\n",
      "11004761\n",
      "W.\n",
      "Birkwald\n",
      "Die Linke\n",
      "None\n",
      "\n",
      "\n",
      "None\n",
      "None\n",
      "\n",
      "\n",
      "None\n",
      "None\n",
      "Matthias\n",
      "Zimmer\n",
      "CDU/CSU\n",
      "11004192\n",
      "Kai\n",
      "Whittaker\n",
      "CDU/CSU\n",
      "11004443\n",
      "Johannes\n",
      "Vogel\n",
      "FDP\n",
      "11004179\n",
      "Wolfgang\n",
      "Strengmann-Kuhn\n",
      "Bündnis 90 / Die Grünen\n",
      "11003888\n",
      "Kai\n",
      "Whittaker\n",
      "CDU/CSU\n",
      "11004443\n",
      "W.\n",
      "Birkwald\n",
      "Die Linke\n",
      "None\n",
      "Beate\n",
      "Müller-Gemmeke\n",
      "Bündnis 90 / Die Grünen\n",
      "11004117\n",
      "Kai\n",
      "Whittaker\n",
      "CDU/CSU\n",
      "11004443\n",
      "Matthias\n",
      "Zimmer\n",
      "CDU/CSU\n",
      "11004192\n",
      "Matthias\n",
      "Zimmer\n",
      "CDU/CSU\n",
      "11004192\n",
      "Matthias\n",
      "Zimmer\n",
      "CDU/CSU\n",
      "11004192\n",
      "\n",
      "\n",
      "None\n",
      "None\n",
      "W.\n",
      "Birkwald\n",
      "Die Linke\n",
      "None\n",
      "Kai\n",
      "Whittaker\n",
      "CDU/CSU\n",
      "11004443\n",
      "Lisa\n",
      "Paus\n",
      "Bündnis 90 / Die Grünen\n",
      "11004127\n",
      "Matthias\n",
      "Zimmer\n",
      "CDU/CSU\n",
      "11004192\n",
      "Matthias\n",
      "Zimmer\n",
      "CDU/CSU\n",
      "11004192\n",
      "Matthias\n",
      "Zimmer\n",
      "CDU/CSU\n",
      "11004192\n"
     ]
    }
   ],
   "source": [
    "# quite some work, but we could write a function to match speaker ID to names from the shouts\n",
    "# --> no guarantee to match all \n",
    "\n",
    "# get the speakers name using the Bundestag API --> GetSpeakerByID Endpoint\n",
    "\n",
    "for i in range(len(data['NLPSpeeches'])):\n",
    "\n",
    "    #print(data['NLPSpeeches'][i].keys())\n",
    "\n",
    "    for j in range(len(data['NLPSpeeches'][i][\"Segments\"])):\n",
    "        #print(data['NLPSpeeches'][i][\"Segments\"][j][\"Shouts\"])\n",
    "\n",
    "        if len(data['NLPSpeeches'][i][\"Segments\"][j][\"Shouts\"]) > 0:\n",
    "            \n",
    "            for k in range(len(data['NLPSpeeches'][i][\"Segments\"][j][\"Shouts\"])):\n",
    "\n",
    "                if data['NLPSpeeches'][i][\"Segments\"][j][\"Shouts\"][k][\"FirstName\"] != None:\n",
    "\n",
    "                    print(data['NLPSpeeches'][i][\"Segments\"][j][\"Shouts\"][k][\"FirstName\"])\n",
    "                    print(data['NLPSpeeches'][i][\"Segments\"][j][\"Shouts\"][k][\"LastName\"])\n",
    "                    print(data['NLPSpeeches'][i][\"Segments\"][j][\"Shouts\"][k][\"Fraction\"])\n",
    "                    print(data['NLPSpeeches'][i][\"Segments\"][j][\"Shouts\"][k][\"SpeakerId\"])\n",
    "            #print()\n",
    "\n",
    "        #print(data['NLPSpeeches'][i][j]['Shouts'][\"LastName\"])\n",
    "               \n",
    "               \n",
    "               \n",
    "               \n",
    "               #[28]['Segments']#['Shouts']"
   ]
  }
 ],
 "metadata": {
  "kernelspec": {
   "display_name": "DeepLearn",
   "language": "python",
   "name": "python3"
  },
  "language_info": {
   "codemirror_mode": {
    "name": "ipython",
    "version": 3
   },
   "file_extension": ".py",
   "mimetype": "text/x-python",
   "name": "python",
   "nbconvert_exporter": "python",
   "pygments_lexer": "ipython3",
   "version": "3.13.2"
  }
 },
 "nbformat": 4,
 "nbformat_minor": 5
}
