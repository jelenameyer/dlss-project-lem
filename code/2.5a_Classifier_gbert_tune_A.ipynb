{
 "cells": [
  {
   "cell_type": "markdown",
   "id": "c1f1e0cb",
   "metadata": {
    "id": "c1f1e0cb"
   },
   "source": [
    "# Fine-tuning Classifier LLM\n"
   ]
  },
  {
   "cell_type": "code",
   "execution_count": 1,
   "id": "ckZZS35tHw5Y",
   "metadata": {
    "colab": {
     "base_uri": "https://localhost:8080/"
    },
    "id": "ckZZS35tHw5Y",
    "outputId": "7305c179-0844-44d7-ed93-abef558dd5ed",
    "scrolled": true
   },
   "outputs": [
    {
     "name": "stdout",
     "output_type": "stream",
     "text": [
      "Collecting optuna\n",
      "  Using cached optuna-4.4.0-py3-none-any.whl.metadata (17 kB)\n",
      "Requirement already satisfied: alembic>=1.5.0 in /opt/conda/lib/python3.11/site-packages (from optuna) (1.12.0)\n",
      "Collecting colorlog (from optuna)\n",
      "  Using cached colorlog-6.9.0-py3-none-any.whl.metadata (10 kB)\n",
      "Requirement already satisfied: numpy in /opt/conda/lib/python3.11/site-packages (from optuna) (1.24.4)\n",
      "Requirement already satisfied: packaging>=20.0 in /opt/conda/lib/python3.11/site-packages (from optuna) (23.2)\n",
      "Requirement already satisfied: sqlalchemy>=1.4.2 in /opt/conda/lib/python3.11/site-packages (from optuna) (2.0.22)\n",
      "Requirement already satisfied: tqdm in /opt/conda/lib/python3.11/site-packages (from optuna) (4.66.1)\n",
      "Requirement already satisfied: PyYAML in /opt/conda/lib/python3.11/site-packages (from optuna) (6.0.1)\n",
      "Requirement already satisfied: Mako in /opt/conda/lib/python3.11/site-packages (from alembic>=1.5.0->optuna) (1.2.4)\n",
      "Requirement already satisfied: typing-extensions>=4 in /opt/conda/lib/python3.11/site-packages (from alembic>=1.5.0->optuna) (4.8.0)\n",
      "Requirement already satisfied: greenlet!=0.4.17 in /opt/conda/lib/python3.11/site-packages (from sqlalchemy>=1.4.2->optuna) (3.0.0)\n",
      "Requirement already satisfied: MarkupSafe>=0.9.2 in /opt/conda/lib/python3.11/site-packages (from Mako->alembic>=1.5.0->optuna) (2.1.3)\n",
      "Using cached optuna-4.4.0-py3-none-any.whl (395 kB)\n",
      "Using cached colorlog-6.9.0-py3-none-any.whl (11 kB)\n",
      "Installing collected packages: colorlog, optuna\n",
      "Successfully installed colorlog-6.9.0 optuna-4.4.0\n",
      "Collecting typing\n",
      "  Using cached typing-3.7.4.3-py3-none-any.whl\n",
      "Installing collected packages: typing\n",
      "Successfully installed typing-3.7.4.3\n",
      "Collecting evaluate\n",
      "  Using cached evaluate-0.4.5-py3-none-any.whl.metadata (9.5 kB)\n",
      "Collecting datasets>=2.0.0 (from evaluate)\n",
      "  Using cached datasets-4.0.0-py3-none-any.whl.metadata (19 kB)\n",
      "Requirement already satisfied: numpy>=1.17 in /opt/conda/lib/python3.11/site-packages (from evaluate) (1.24.4)\n",
      "Requirement already satisfied: dill in /opt/conda/lib/python3.11/site-packages (from evaluate) (0.3.7)\n",
      "Requirement already satisfied: pandas in /opt/conda/lib/python3.11/site-packages (from evaluate) (2.1.1)\n",
      "Requirement already satisfied: requests>=2.19.0 in /opt/conda/lib/python3.11/site-packages (from evaluate) (2.31.0)\n",
      "Requirement already satisfied: tqdm>=4.62.1 in /opt/conda/lib/python3.11/site-packages (from evaluate) (4.66.1)\n",
      "Collecting xxhash (from evaluate)\n",
      "  Using cached xxhash-3.5.0-cp311-cp311-manylinux_2_17_x86_64.manylinux2014_x86_64.whl.metadata (12 kB)\n",
      "Collecting multiprocess (from evaluate)\n",
      "  Using cached multiprocess-0.70.18-py311-none-any.whl.metadata (7.5 kB)\n",
      "Requirement already satisfied: fsspec>=2021.05.0 in /opt/conda/lib/python3.11/site-packages (from fsspec[http]>=2021.05.0->evaluate) (2023.9.2)\n",
      "Collecting huggingface-hub>=0.7.0 (from evaluate)\n",
      "  Using cached huggingface_hub-0.34.3-py3-none-any.whl.metadata (14 kB)\n",
      "Requirement already satisfied: packaging in /opt/conda/lib/python3.11/site-packages (from evaluate) (23.2)\n",
      "Collecting filelock (from datasets>=2.0.0->evaluate)\n",
      "  Using cached filelock-3.18.0-py3-none-any.whl.metadata (2.9 kB)\n",
      "Collecting pyarrow>=15.0.0 (from datasets>=2.0.0->evaluate)\n",
      "  Using cached pyarrow-21.0.0-cp311-cp311-manylinux_2_28_x86_64.whl.metadata (3.3 kB)\n",
      "Collecting requests>=2.19.0 (from evaluate)\n",
      "  Using cached requests-2.32.4-py3-none-any.whl.metadata (4.9 kB)\n",
      "Collecting tqdm>=4.62.1 (from evaluate)\n",
      "  Using cached tqdm-4.67.1-py3-none-any.whl.metadata (57 kB)\n",
      "Collecting multiprocess (from evaluate)\n",
      "  Using cached multiprocess-0.70.16-py311-none-any.whl.metadata (7.2 kB)\n",
      "Requirement already satisfied: pyyaml>=5.1 in /opt/conda/lib/python3.11/site-packages (from datasets>=2.0.0->evaluate) (6.0.1)\n",
      "Requirement already satisfied: aiohttp!=4.0.0a0,!=4.0.0a1 in /opt/conda/lib/python3.11/site-packages (from fsspec[http]>=2021.05.0->evaluate) (3.8.6)\n",
      "Requirement already satisfied: typing-extensions>=3.7.4.3 in /opt/conda/lib/python3.11/site-packages (from huggingface-hub>=0.7.0->evaluate) (4.8.0)\n",
      "Collecting hf-xet<2.0.0,>=1.1.3 (from huggingface-hub>=0.7.0->evaluate)\n",
      "  Using cached hf_xet-1.1.5-cp37-abi3-manylinux_2_17_x86_64.manylinux2014_x86_64.whl.metadata (879 bytes)\n",
      "Collecting dill (from evaluate)\n",
      "  Using cached dill-0.3.8-py3-none-any.whl.metadata (10 kB)\n",
      "Requirement already satisfied: charset_normalizer<4,>=2 in /opt/conda/lib/python3.11/site-packages (from requests>=2.19.0->evaluate) (3.3.0)\n",
      "Requirement already satisfied: idna<4,>=2.5 in /opt/conda/lib/python3.11/site-packages (from requests>=2.19.0->evaluate) (3.4)\n",
      "Requirement already satisfied: urllib3<3,>=1.21.1 in /opt/conda/lib/python3.11/site-packages (from requests>=2.19.0->evaluate) (2.0.7)\n",
      "Requirement already satisfied: certifi>=2017.4.17 in /opt/conda/lib/python3.11/site-packages (from requests>=2.19.0->evaluate) (2023.7.22)\n",
      "Requirement already satisfied: python-dateutil>=2.8.2 in /opt/conda/lib/python3.11/site-packages (from pandas->evaluate) (2.8.2)\n",
      "Requirement already satisfied: pytz>=2020.1 in /opt/conda/lib/python3.11/site-packages (from pandas->evaluate) (2023.3.post1)\n",
      "Requirement already satisfied: tzdata>=2022.1 in /opt/conda/lib/python3.11/site-packages (from pandas->evaluate) (2023.3)\n",
      "Requirement already satisfied: attrs>=17.3.0 in /opt/conda/lib/python3.11/site-packages (from aiohttp!=4.0.0a0,!=4.0.0a1->fsspec[http]>=2021.05.0->evaluate) (23.1.0)\n",
      "Requirement already satisfied: multidict<7.0,>=4.5 in /opt/conda/lib/python3.11/site-packages (from aiohttp!=4.0.0a0,!=4.0.0a1->fsspec[http]>=2021.05.0->evaluate) (6.0.4)\n",
      "Requirement already satisfied: async-timeout<5.0,>=4.0.0a3 in /opt/conda/lib/python3.11/site-packages (from aiohttp!=4.0.0a0,!=4.0.0a1->fsspec[http]>=2021.05.0->evaluate) (4.0.3)\n",
      "Requirement already satisfied: yarl<2.0,>=1.0 in /opt/conda/lib/python3.11/site-packages (from aiohttp!=4.0.0a0,!=4.0.0a1->fsspec[http]>=2021.05.0->evaluate) (1.9.2)\n",
      "Requirement already satisfied: frozenlist>=1.1.1 in /opt/conda/lib/python3.11/site-packages (from aiohttp!=4.0.0a0,!=4.0.0a1->fsspec[http]>=2021.05.0->evaluate) (1.4.0)\n",
      "Requirement already satisfied: aiosignal>=1.1.2 in /opt/conda/lib/python3.11/site-packages (from aiohttp!=4.0.0a0,!=4.0.0a1->fsspec[http]>=2021.05.0->evaluate) (1.3.1)\n",
      "Requirement already satisfied: six>=1.5 in /opt/conda/lib/python3.11/site-packages (from python-dateutil>=2.8.2->pandas->evaluate) (1.16.0)\n",
      "Using cached evaluate-0.4.5-py3-none-any.whl (84 kB)\n",
      "Using cached datasets-4.0.0-py3-none-any.whl (494 kB)\n",
      "Using cached huggingface_hub-0.34.3-py3-none-any.whl (558 kB)\n",
      "Using cached multiprocess-0.70.16-py311-none-any.whl (143 kB)\n",
      "Using cached dill-0.3.8-py3-none-any.whl (116 kB)\n",
      "Using cached requests-2.32.4-py3-none-any.whl (64 kB)\n",
      "Using cached tqdm-4.67.1-py3-none-any.whl (78 kB)\n",
      "Using cached xxhash-3.5.0-cp311-cp311-manylinux_2_17_x86_64.manylinux2014_x86_64.whl (194 kB)\n",
      "Using cached hf_xet-1.1.5-cp37-abi3-manylinux_2_17_x86_64.manylinux2014_x86_64.whl (3.1 MB)\n",
      "Using cached pyarrow-21.0.0-cp311-cp311-manylinux_2_28_x86_64.whl (42.8 MB)\n",
      "Using cached filelock-3.18.0-py3-none-any.whl (16 kB)\n",
      "Installing collected packages: xxhash, tqdm, requests, pyarrow, hf-xet, filelock, dill, multiprocess, huggingface-hub, datasets, evaluate\n",
      "  Attempting uninstall: tqdm\n",
      "    Found existing installation: tqdm 4.66.1\n",
      "    Uninstalling tqdm-4.66.1:\n",
      "      Successfully uninstalled tqdm-4.66.1\n",
      "  Attempting uninstall: requests\n",
      "    Found existing installation: requests 2.31.0\n",
      "    Uninstalling requests-2.31.0:\n",
      "      Successfully uninstalled requests-2.31.0\n",
      "  Attempting uninstall: pyarrow\n",
      "    Found existing installation: pyarrow 13.0.0\n",
      "    Uninstalling pyarrow-13.0.0:\n",
      "      Successfully uninstalled pyarrow-13.0.0\n",
      "  Attempting uninstall: dill\n",
      "    Found existing installation: dill 0.3.7\n",
      "    Uninstalling dill-0.3.7:\n",
      "      Successfully uninstalled dill-0.3.7\n",
      "Successfully installed datasets-4.0.0 dill-0.3.8 evaluate-0.4.5 filelock-3.18.0 hf-xet-1.1.5 huggingface-hub-0.34.3 multiprocess-0.70.16 pyarrow-21.0.0 requests-2.32.4 tqdm-4.67.1 xxhash-3.5.0\n",
      "Collecting torch\n",
      "  Using cached torch-2.7.1-cp311-cp311-manylinux_2_28_x86_64.whl.metadata (29 kB)\n",
      "Requirement already satisfied: filelock in /opt/conda/lib/python3.11/site-packages (from torch) (3.18.0)\n",
      "Collecting typing-extensions>=4.10.0 (from torch)\n",
      "  Using cached typing_extensions-4.14.1-py3-none-any.whl.metadata (3.0 kB)\n",
      "Collecting sympy>=1.13.3 (from torch)\n",
      "  Using cached sympy-1.14.0-py3-none-any.whl.metadata (12 kB)\n",
      "Requirement already satisfied: networkx in /opt/conda/lib/python3.11/site-packages (from torch) (3.2)\n",
      "Requirement already satisfied: jinja2 in /opt/conda/lib/python3.11/site-packages (from torch) (3.1.2)\n",
      "Requirement already satisfied: fsspec in /opt/conda/lib/python3.11/site-packages (from torch) (2023.9.2)\n",
      "Collecting nvidia-cuda-nvrtc-cu12==12.6.77 (from torch)\n",
      "  Using cached nvidia_cuda_nvrtc_cu12-12.6.77-py3-none-manylinux2014_x86_64.whl.metadata (1.5 kB)\n",
      "Collecting nvidia-cuda-runtime-cu12==12.6.77 (from torch)\n",
      "  Using cached nvidia_cuda_runtime_cu12-12.6.77-py3-none-manylinux2014_x86_64.manylinux_2_17_x86_64.whl.metadata (1.5 kB)\n",
      "Collecting nvidia-cuda-cupti-cu12==12.6.80 (from torch)\n",
      "  Using cached nvidia_cuda_cupti_cu12-12.6.80-py3-none-manylinux2014_x86_64.manylinux_2_17_x86_64.whl.metadata (1.6 kB)\n",
      "Collecting nvidia-cudnn-cu12==9.5.1.17 (from torch)\n",
      "  Using cached nvidia_cudnn_cu12-9.5.1.17-py3-none-manylinux_2_28_x86_64.whl.metadata (1.6 kB)\n",
      "Collecting nvidia-cublas-cu12==12.6.4.1 (from torch)\n",
      "  Using cached nvidia_cublas_cu12-12.6.4.1-py3-none-manylinux2014_x86_64.manylinux_2_17_x86_64.whl.metadata (1.5 kB)\n",
      "Collecting nvidia-cufft-cu12==11.3.0.4 (from torch)\n",
      "  Using cached nvidia_cufft_cu12-11.3.0.4-py3-none-manylinux2014_x86_64.manylinux_2_17_x86_64.whl.metadata (1.5 kB)\n",
      "Collecting nvidia-curand-cu12==10.3.7.77 (from torch)\n",
      "  Using cached nvidia_curand_cu12-10.3.7.77-py3-none-manylinux2014_x86_64.manylinux_2_17_x86_64.whl.metadata (1.5 kB)\n",
      "Collecting nvidia-cusolver-cu12==11.7.1.2 (from torch)\n",
      "  Using cached nvidia_cusolver_cu12-11.7.1.2-py3-none-manylinux2014_x86_64.manylinux_2_17_x86_64.whl.metadata (1.6 kB)\n",
      "Collecting nvidia-cusparse-cu12==12.5.4.2 (from torch)\n",
      "  Using cached nvidia_cusparse_cu12-12.5.4.2-py3-none-manylinux2014_x86_64.manylinux_2_17_x86_64.whl.metadata (1.6 kB)\n",
      "Collecting nvidia-cusparselt-cu12==0.6.3 (from torch)\n",
      "  Using cached nvidia_cusparselt_cu12-0.6.3-py3-none-manylinux2014_x86_64.whl.metadata (6.8 kB)\n",
      "Collecting nvidia-nccl-cu12==2.26.2 (from torch)\n",
      "  Using cached nvidia_nccl_cu12-2.26.2-py3-none-manylinux2014_x86_64.manylinux_2_17_x86_64.whl.metadata (2.0 kB)\n",
      "Collecting nvidia-nvtx-cu12==12.6.77 (from torch)\n",
      "  Using cached nvidia_nvtx_cu12-12.6.77-py3-none-manylinux2014_x86_64.manylinux_2_17_x86_64.whl.metadata (1.6 kB)\n",
      "Collecting nvidia-nvjitlink-cu12==12.6.85 (from torch)\n",
      "  Using cached nvidia_nvjitlink_cu12-12.6.85-py3-none-manylinux2010_x86_64.manylinux_2_12_x86_64.whl.metadata (1.5 kB)\n",
      "Collecting nvidia-cufile-cu12==1.11.1.6 (from torch)\n",
      "  Using cached nvidia_cufile_cu12-1.11.1.6-py3-none-manylinux2014_x86_64.manylinux_2_17_x86_64.whl.metadata (1.5 kB)\n",
      "Collecting triton==3.3.1 (from torch)\n",
      "  Using cached triton-3.3.1-cp311-cp311-manylinux_2_27_x86_64.manylinux_2_28_x86_64.whl.metadata (1.5 kB)\n",
      "Requirement already satisfied: setuptools>=40.8.0 in /opt/conda/lib/python3.11/site-packages (from triton==3.3.1->torch) (68.2.2)\n",
      "Requirement already satisfied: mpmath<1.4,>=1.1.0 in /opt/conda/lib/python3.11/site-packages (from sympy>=1.13.3->torch) (1.3.0)\n",
      "Requirement already satisfied: MarkupSafe>=2.0 in /opt/conda/lib/python3.11/site-packages (from jinja2->torch) (2.1.3)\n",
      "Using cached torch-2.7.1-cp311-cp311-manylinux_2_28_x86_64.whl (821.2 MB)\n",
      "Using cached nvidia_cublas_cu12-12.6.4.1-py3-none-manylinux2014_x86_64.manylinux_2_17_x86_64.whl (393.1 MB)\n",
      "Using cached nvidia_cuda_cupti_cu12-12.6.80-py3-none-manylinux2014_x86_64.manylinux_2_17_x86_64.whl (8.9 MB)\n",
      "Using cached nvidia_cuda_nvrtc_cu12-12.6.77-py3-none-manylinux2014_x86_64.whl (23.7 MB)\n",
      "Using cached nvidia_cuda_runtime_cu12-12.6.77-py3-none-manylinux2014_x86_64.manylinux_2_17_x86_64.whl (897 kB)\n",
      "Using cached nvidia_cudnn_cu12-9.5.1.17-py3-none-manylinux_2_28_x86_64.whl (571.0 MB)\n",
      "Using cached nvidia_cufft_cu12-11.3.0.4-py3-none-manylinux2014_x86_64.manylinux_2_17_x86_64.whl (200.2 MB)\n",
      "Using cached nvidia_cufile_cu12-1.11.1.6-py3-none-manylinux2014_x86_64.manylinux_2_17_x86_64.whl (1.1 MB)\n",
      "Using cached nvidia_curand_cu12-10.3.7.77-py3-none-manylinux2014_x86_64.manylinux_2_17_x86_64.whl (56.3 MB)\n",
      "Using cached nvidia_cusolver_cu12-11.7.1.2-py3-none-manylinux2014_x86_64.manylinux_2_17_x86_64.whl (158.2 MB)\n",
      "Using cached nvidia_cusparse_cu12-12.5.4.2-py3-none-manylinux2014_x86_64.manylinux_2_17_x86_64.whl (216.6 MB)\n",
      "Using cached nvidia_cusparselt_cu12-0.6.3-py3-none-manylinux2014_x86_64.whl (156.8 MB)\n",
      "Using cached nvidia_nccl_cu12-2.26.2-py3-none-manylinux2014_x86_64.manylinux_2_17_x86_64.whl (201.3 MB)\n",
      "Using cached nvidia_nvjitlink_cu12-12.6.85-py3-none-manylinux2010_x86_64.manylinux_2_12_x86_64.whl (19.7 MB)\n",
      "Using cached nvidia_nvtx_cu12-12.6.77-py3-none-manylinux2014_x86_64.manylinux_2_17_x86_64.whl (89 kB)\n",
      "Using cached triton-3.3.1-cp311-cp311-manylinux_2_27_x86_64.manylinux_2_28_x86_64.whl (155.7 MB)\n",
      "Using cached sympy-1.14.0-py3-none-any.whl (6.3 MB)\n",
      "Using cached typing_extensions-4.14.1-py3-none-any.whl (43 kB)\n",
      "Installing collected packages: nvidia-cusparselt-cu12, typing-extensions, triton, sympy, nvidia-nvtx-cu12, nvidia-nvjitlink-cu12, nvidia-nccl-cu12, nvidia-curand-cu12, nvidia-cufile-cu12, nvidia-cuda-runtime-cu12, nvidia-cuda-nvrtc-cu12, nvidia-cuda-cupti-cu12, nvidia-cublas-cu12, nvidia-cusparse-cu12, nvidia-cufft-cu12, nvidia-cudnn-cu12, nvidia-cusolver-cu12, torch\n",
      "  Attempting uninstall: typing-extensions\n",
      "    Found existing installation: typing_extensions 4.8.0\n",
      "    Uninstalling typing_extensions-4.8.0:\n",
      "      Successfully uninstalled typing_extensions-4.8.0\n",
      "  Attempting uninstall: sympy\n",
      "    Found existing installation: sympy 1.12\n",
      "    Uninstalling sympy-1.12:\n",
      "      Successfully uninstalled sympy-1.12\n",
      "Successfully installed nvidia-cublas-cu12-12.6.4.1 nvidia-cuda-cupti-cu12-12.6.80 nvidia-cuda-nvrtc-cu12-12.6.77 nvidia-cuda-runtime-cu12-12.6.77 nvidia-cudnn-cu12-9.5.1.17 nvidia-cufft-cu12-11.3.0.4 nvidia-cufile-cu12-1.11.1.6 nvidia-curand-cu12-10.3.7.77 nvidia-cusolver-cu12-11.7.1.2 nvidia-cusparse-cu12-12.5.4.2 nvidia-cusparselt-cu12-0.6.3 nvidia-nccl-cu12-2.26.2 nvidia-nvjitlink-cu12-12.6.85 nvidia-nvtx-cu12-12.6.77 sympy-1.14.0 torch-2.7.1 triton-3.3.1 typing-extensions-4.14.1\n",
      "Collecting transformers\n",
      "  Using cached transformers-4.55.0-py3-none-any.whl.metadata (39 kB)\n",
      "Requirement already satisfied: filelock in /opt/conda/lib/python3.11/site-packages (from transformers) (3.18.0)\n",
      "Requirement already satisfied: huggingface-hub<1.0,>=0.34.0 in /opt/conda/lib/python3.11/site-packages (from transformers) (0.34.3)\n",
      "Requirement already satisfied: numpy>=1.17 in /opt/conda/lib/python3.11/site-packages (from transformers) (1.24.4)\n",
      "Requirement already satisfied: packaging>=20.0 in /opt/conda/lib/python3.11/site-packages (from transformers) (23.2)\n",
      "Requirement already satisfied: pyyaml>=5.1 in /opt/conda/lib/python3.11/site-packages (from transformers) (6.0.1)\n",
      "Collecting regex!=2019.12.17 (from transformers)\n",
      "  Using cached regex-2025.7.34-cp311-cp311-manylinux2014_x86_64.manylinux_2_17_x86_64.manylinux_2_28_x86_64.whl.metadata (40 kB)\n",
      "Requirement already satisfied: requests in /opt/conda/lib/python3.11/site-packages (from transformers) (2.32.4)\n",
      "Collecting tokenizers<0.22,>=0.21 (from transformers)\n",
      "  Using cached tokenizers-0.21.4-cp39-abi3-manylinux_2_17_x86_64.manylinux2014_x86_64.whl.metadata (6.7 kB)\n",
      "Collecting safetensors>=0.4.3 (from transformers)\n",
      "  Using cached safetensors-0.5.3-cp38-abi3-manylinux_2_17_x86_64.manylinux2014_x86_64.whl.metadata (3.8 kB)\n",
      "Requirement already satisfied: tqdm>=4.27 in /opt/conda/lib/python3.11/site-packages (from transformers) (4.67.1)\n",
      "Requirement already satisfied: fsspec>=2023.5.0 in /opt/conda/lib/python3.11/site-packages (from huggingface-hub<1.0,>=0.34.0->transformers) (2023.9.2)\n",
      "Requirement already satisfied: typing-extensions>=3.7.4.3 in /opt/conda/lib/python3.11/site-packages (from huggingface-hub<1.0,>=0.34.0->transformers) (4.14.1)\n",
      "Requirement already satisfied: hf-xet<2.0.0,>=1.1.3 in /opt/conda/lib/python3.11/site-packages (from huggingface-hub<1.0,>=0.34.0->transformers) (1.1.5)\n",
      "Requirement already satisfied: charset_normalizer<4,>=2 in /opt/conda/lib/python3.11/site-packages (from requests->transformers) (3.3.0)\n",
      "Requirement already satisfied: idna<4,>=2.5 in /opt/conda/lib/python3.11/site-packages (from requests->transformers) (3.4)\n",
      "Requirement already satisfied: urllib3<3,>=1.21.1 in /opt/conda/lib/python3.11/site-packages (from requests->transformers) (2.0.7)\n",
      "Requirement already satisfied: certifi>=2017.4.17 in /opt/conda/lib/python3.11/site-packages (from requests->transformers) (2023.7.22)\n",
      "Using cached transformers-4.55.0-py3-none-any.whl (11.3 MB)\n",
      "Using cached regex-2025.7.34-cp311-cp311-manylinux2014_x86_64.manylinux_2_17_x86_64.manylinux_2_28_x86_64.whl (798 kB)\n",
      "Using cached safetensors-0.5.3-cp38-abi3-manylinux_2_17_x86_64.manylinux2014_x86_64.whl (471 kB)\n",
      "Using cached tokenizers-0.21.4-cp39-abi3-manylinux_2_17_x86_64.manylinux2014_x86_64.whl (3.1 MB)\n",
      "Installing collected packages: safetensors, regex, tokenizers, transformers\n",
      "Successfully installed regex-2025.7.34 safetensors-0.5.3 tokenizers-0.21.4 transformers-4.55.0\n"
     ]
    }
   ],
   "source": [
    "!pip install optuna\n",
    "!pip install typing\n",
    "!pip install evaluate\n",
    "!pip install torch\n",
    "!pip install transformers\n",
    "!pip install accelerate>=0.26.0"
   ]
  },
  {
   "cell_type": "code",
   "execution_count": 2,
   "id": "605d0b0a",
   "metadata": {
    "colab": {
     "base_uri": "https://localhost:8080/"
    },
    "id": "605d0b0a",
    "outputId": "32e8b141-0bdf-4a97-e929-5411e74be9f5"
   },
   "outputs": [
    {
     "name": "stdout",
     "output_type": "stream",
     "text": [
      "cuda\n"
     ]
    }
   ],
   "source": [
    "# setup - load packages\n",
    "import pandas as pd\n",
    "from datasets import Dataset, load_dataset\n",
    "import torch\n",
    "import numpy as np\n",
    "from transformers import AutoTokenizer, AutoModelForSequenceClassification\n",
    "import torch.nn.functional as F\n",
    "from sklearn.metrics import (\n",
    "    accuracy_score,\n",
    "    classification_report,\n",
    "    confusion_matrix,\n",
    "    f1_score,\n",
    "    precision_score,\n",
    "    recall_score,\n",
    "    balanced_accuracy_score\n",
    ")\n",
    "import matplotlib.pyplot as plt\n",
    "import seaborn as sns\n",
    "from transformers import TrainingArguments, Trainer, DataCollatorWithPadding\n",
    "from typing import Union, Mapping, List, Dict, Any\n",
    "import evaluate\n",
    "from tqdm import tqdm\n",
    "import zipfile\n",
    "import os\n",
    "from sklearn.utils.class_weight import compute_class_weight\n",
    "\n",
    "# Set up device (is available use GPU to speed up computations)\n",
    "device = torch.device(\"cuda\" if torch.cuda.is_available() else \"cpu\")\n",
    "print(device)\n",
    "\n",
    "seed = 13"
   ]
  },
  {
   "cell_type": "markdown",
   "id": "cTDSganZ_MP6",
   "metadata": {
    "id": "cTDSganZ_MP6"
   },
   "source": [
    "## VERSION A"
   ]
  },
  {
   "cell_type": "code",
   "execution_count": null,
   "id": "9124e7b1",
   "metadata": {
    "colab": {
     "base_uri": "https://localhost:8080/",
     "height": 104,
     "referenced_widgets": [
      "5a18a8608e0b4874b2147a8c4179f4ec",
      "f81db139a4d44fa89133f78c062537fa",
      "5ab9d8e85b5b4de196a01d0a7a07d5dd",
      "6cd0f87dad9a444daf182e209dfb23c5",
      "5214d01cc78f4f72b8a243a4861ad36d",
      "51e9de3ef2ec47ff9608f9e91abd09ce",
      "c281abb94bca41b48a2741256db3bb74",
      "789732f7667648b595d730352d32bc9f",
      "b44b6fb0b28c4a3b98d4c87259e6a10c",
      "2d629ce2c4584ce59530bb367a66a520",
      "4f7d83b11187462cb85f912ce147ae33"
     ]
    },
    "id": "9124e7b1",
    "outputId": "d2750469-10bb-4c77-ce81-de149ea01894"
   },
   "outputs": [
    {
     "data": {
      "application/vnd.jupyter.widget-view+json": {
       "model_id": "0488b7232dd24455b8958134e5d9b22e",
       "version_major": 2,
       "version_minor": 0
      },
      "text/plain": [
       "Map:   0%|          | 0/36117 [00:00<?, ? examples/s]"
      ]
     },
     "metadata": {},
     "output_type": "display_data"
    },
    {
     "name": "stdout",
     "output_type": "stream",
     "text": [
      "Training samples party: 25281\n",
      "Test samples party: 5418\n",
      "Validation samples party: 5418\n"
     ]
    }
   ],
   "source": [
    "# read data\n",
    "classifier_data = pd.read_csv(\"/content/classifier_data_A.csv\")\n",
    "# converting to huggingface dataset format\n",
    "data = Dataset.from_pandas(classifier_data)\n",
    "\n",
    "# labels to numeric\n",
    "label_names = ['CDU/CSU', 'SPD', 'GRÜNE', 'FDP', 'AfD', 'LINKE']\n",
    "label2id = {label: i for i, label in enumerate(sorted(label_names))}\n",
    "id2label = {i: label for label, i in label2id.items()}\n",
    "def map_labels(example):\n",
    "    example[\"label\"] = label2id[example[\"label\"]]\n",
    "    return example\n",
    "data = data.map(map_labels)\n",
    "\n",
    "\n",
    "# splitting into train, test and validation sets\n",
    "\n",
    "# shuffling data\n",
    "raw_dataset = data.shuffle(seed=seed)\n",
    "# 70% train, 15% test, 15% validation data\n",
    "split = raw_dataset.train_test_split(test_size=0.3, seed=seed)\n",
    "train_data = split[\"train\"]\n",
    "text_and_val_data = split[\"test\"]\n",
    "split = text_and_val_data.train_test_split(test_size=0.5, seed=seed)\n",
    "test_data = split[\"train\"]\n",
    "val_data = split[\"test\"]\n",
    "\n",
    "print(f\"Training samples party: {len(train_data)}\")\n",
    "print(f\"Test samples party: {len(test_data)}\")\n",
    "print(f\"Validation samples party: {len(val_data)}\")"
   ]
  },
  {
   "cell_type": "code",
   "execution_count": 5,
   "id": "d22cf633",
   "metadata": {
    "id": "d22cf633"
   },
   "outputs": [],
   "source": [
    "# subset of train and val data for auto-tuning\n",
    "train_data_for_tune = train_data.shuffle(seed=seed)\n",
    "val_data_for_tune = val_data.shuffle(seed=seed)\n",
    "\n",
    "# subsetting roughly 20-25% of train and vall data for tuning\n",
    "train_data_for_tune = train_data_for_tune.select(range(6000))\n",
    "val_data_for_tune = val_data_for_tune.select(range(1000))\n"
   ]
  },
  {
   "cell_type": "code",
   "execution_count": 6,
   "id": "VyE4O3KaH62E",
   "metadata": {
    "colab": {
     "base_uri": "https://localhost:8080/"
    },
    "id": "VyE4O3KaH62E",
    "outputId": "ad98541d-27f3-4ee5-a971-c5d091331a3f"
   },
   "outputs": [
    {
     "data": {
      "text/plain": [
       "tensor([1.1977, 0.6153, 1.2799, 1.1866, 1.7240, 0.7487])"
      ]
     },
     "execution_count": 6,
     "metadata": {},
     "output_type": "execute_result"
    }
   ],
   "source": [
    "# compute class weights\n",
    "# Get raw labels as a list of integers\n",
    "all_train_labels = train_data[\"label\"]\n",
    "\n",
    "# Compute unique class values\n",
    "unique_labels = np.unique(all_train_labels)\n",
    "\n",
    "# Compute weights\n",
    "class_weights = compute_class_weight(\n",
    "    class_weight=\"balanced\",\n",
    "    classes=unique_labels,\n",
    "    y=all_train_labels\n",
    ")\n",
    "class_weights = torch.tensor(class_weights, dtype=torch.float)\n",
    "class_weights"
   ]
  },
  {
   "cell_type": "code",
   "execution_count": 7,
   "id": "e176c9d3",
   "metadata": {
    "id": "e176c9d3"
   },
   "outputs": [],
   "source": [
    "WINDOW_LENGTH = 512\n",
    "STRIDE = 256"
   ]
  },
  {
   "cell_type": "code",
   "execution_count": 8,
   "id": "fd8bc2b5",
   "metadata": {
    "id": "fd8bc2b5"
   },
   "outputs": [
    {
     "data": {
      "application/vnd.jupyter.widget-view+json": {
       "model_id": "2cc654bac441430fae0a238e8922a9d6",
       "version_major": 2,
       "version_minor": 0
      },
      "text/plain": [
       "tokenizer_config.json:   0%|          | 0.00/83.0 [00:00<?, ?B/s]"
      ]
     },
     "metadata": {},
     "output_type": "display_data"
    },
    {
     "data": {
      "application/vnd.jupyter.widget-view+json": {
       "model_id": "78f4879f1cf54465bcb352b7dce54404",
       "version_major": 2,
       "version_minor": 0
      },
      "text/plain": [
       "config.json:   0%|          | 0.00/362 [00:00<?, ?B/s]"
      ]
     },
     "metadata": {},
     "output_type": "display_data"
    },
    {
     "data": {
      "application/vnd.jupyter.widget-view+json": {
       "model_id": "34c44a767e5b44098d3b52b71afd309e",
       "version_major": 2,
       "version_minor": 0
      },
      "text/plain": [
       "vocab.txt: 0.00B [00:00, ?B/s]"
      ]
     },
     "metadata": {},
     "output_type": "display_data"
    }
   ],
   "source": [
    "# Load Tokenizer\n",
    "model_name = \"deepset/gbert-base\"\n",
    "num_labels = 6\n",
    "tokenizer = AutoTokenizer.from_pretrained(\n",
    "    model_name,\n",
    "    model_max_length=WINDOW_LENGTH\n",
    ")\n"
   ]
  },
  {
   "cell_type": "code",
   "execution_count": null,
   "id": "9f3ed929",
   "metadata": {
    "id": "9f3ed929"
   },
   "outputs": [],
   "source": [
    "# function to tokenize train data\n",
    "def sliding_window_tokenize(batch):\n",
    "    texts = batch[\"speech_text\"]\n",
    "    labels = batch[\"label\"] \n",
    "\n",
    "    tokenized = tokenizer(\n",
    "        texts,\n",
    "        truncation=True,\n",
    "        padding=\"max_length\",\n",
    "        max_length=WINDOW_LENGTH,\n",
    "        stride=STRIDE,\n",
    "        return_overflowing_tokens=True,\n",
    "    )\n",
    "\n",
    "    # Assign each overflow window the correct label\n",
    "    tokenized[\"labels\"] = [labels[i] for i in tokenized[\"overflow_to_sample_mapping\"]]\n",
    "\n",
    "    return tokenized\n"
   ]
  },
  {
   "cell_type": "code",
   "execution_count": 10,
   "id": "15808c33",
   "metadata": {
    "colab": {
     "base_uri": "https://localhost:8080/",
     "height": 145,
     "referenced_widgets": [
      "86791250ae264b4f95ec0d38c2e7a372",
      "73f34ed7d59641c4ac8551101cfe88f9",
      "ee6953e798bb46ebaee43099e81e419e",
      "f7afc93c60db4b0d917844593637d6f3",
      "efc8803428614d50bd9ff83c556aff98",
      "bd7d4a6adb314d6eb6d5868aca611f25",
      "d15edfea5c54436c8745daec6e090679",
      "88fcf138b2ac439ab6ca1eec7b417719",
      "53ae4c38ddbf43958eade1be9965b5bd",
      "63fd357087194ac2857966dc11688bb2",
      "d01434e07f4a47b5a941118285e4529b",
      "9732bfd00f944cf5974c1a5bcf9a4fbb",
      "8dc84cd0058746538195c54da457196f",
      "909c4950fa0b4484ae7265fdb4f9a940",
      "e3089dd334214893b1a54e6fa596ac49",
      "08f24ff01d84466cb1379a2ee812c094",
      "9fe2262ba59442f0af625b79352f52d5",
      "5e1aeb226fe74bf9982192cf0675d42d",
      "ce7ff5de58734d40bafabbc99cbc75ee",
      "5931061451994342921f8495030207e9",
      "b1d5a8acff4e477587a9bdcdff53928f",
      "380ecf5f60284919b8b3e28c8fcb8cb3",
      "3827160c78434ed984f85bfdaab631d6",
      "95088a70b1da48fbb11b37f882ce698f",
      "063831e71f0c40048db79e340c4c18f2",
      "113840af702445cdad8b5e7183a3fa2e",
      "3b02dea8ced64298920b601141c70f46",
      "421f8b4a35b64aa29b02893c243afcf6",
      "21fb6e69be744d3e9b98e1b522711d89",
      "c6f73ccbe582498f87b2d6376afc2a3a",
      "65fbe393de6d4c94969b4f02daf0cd4d",
      "af61ec3e5faf43e29446c0fa50d68150",
      "11d967520eec46da838462e9c50074d7",
      "1c4f18f5eaa948f2a88f4f5de8435b96",
      "9960664d1e1b48369f7427a35648c428",
      "c08f9dbd80734150bed5fbf3bd610eea",
      "91c2114d7b014557b6f7558e9ac22226",
      "81752dc9e51b49b79d147f30e407bb0d",
      "f6a7045d9a2d477faa4bb8c8fa848c4b",
      "e58008c959dc44c787282a44dc14f7a7",
      "b79dc6e0bccd40d2819a7bf04a7984f8",
      "2078cf1aa65448b3bd87ef58077a253a",
      "6ea7f3cbdbc448bca593a0d320681993",
      "59f07f1d31904cb781d8b7e997507a87"
     ]
    },
    "id": "15808c33",
    "outputId": "3a133423-b382-4d26-d5f3-494319135245"
   },
   "outputs": [
    {
     "data": {
      "application/vnd.jupyter.widget-view+json": {
       "model_id": "e36d9bc9ebe04b749165a0a270d3968d",
       "version_major": 2,
       "version_minor": 0
      },
      "text/plain": [
       "Map:   0%|          | 0/25281 [00:00<?, ? examples/s]"
      ]
     },
     "metadata": {},
     "output_type": "display_data"
    },
    {
     "data": {
      "application/vnd.jupyter.widget-view+json": {
       "model_id": "17dd0d9cd32d477883bb3702d67154a6",
       "version_major": 2,
       "version_minor": 0
      },
      "text/plain": [
       "Map:   0%|          | 0/5418 [00:00<?, ? examples/s]"
      ]
     },
     "metadata": {},
     "output_type": "display_data"
    },
    {
     "data": {
      "application/vnd.jupyter.widget-view+json": {
       "model_id": "26c48c373f30475eb80b1158e86c0e78",
       "version_major": 2,
       "version_minor": 0
      },
      "text/plain": [
       "Map:   0%|          | 0/6000 [00:00<?, ? examples/s]"
      ]
     },
     "metadata": {},
     "output_type": "display_data"
    },
    {
     "data": {
      "application/vnd.jupyter.widget-view+json": {
       "model_id": "a3d1ca8cca4047fc9950d9e99fef2165",
       "version_major": 2,
       "version_minor": 0
      },
      "text/plain": [
       "Map:   0%|          | 0/1000 [00:00<?, ? examples/s]"
      ]
     },
     "metadata": {},
     "output_type": "display_data"
    }
   ],
   "source": [
    "tokenized_train_data = train_data.map(\n",
    "    sliding_window_tokenize,\n",
    "    batched=True,\n",
    "    remove_columns=train_data.column_names\n",
    ")\n",
    "\n",
    "tokenized_val_data = val_data.map(\n",
    "    sliding_window_tokenize,\n",
    "    batched=True,\n",
    "    remove_columns=train_data.column_names\n",
    ")\n",
    "\n",
    "# also tokenizing subsets\n",
    "\n",
    "tokenized_train_data_subset = train_data_for_tune.map(\n",
    "    sliding_window_tokenize,\n",
    "    batched=True,\n",
    "    remove_columns=train_data_for_tune.column_names\n",
    ")\n",
    "\n",
    "tokenized_val_data_subset = val_data_for_tune.map(\n",
    "    sliding_window_tokenize,\n",
    "    batched=True,\n",
    "    remove_columns=val_data_for_tune.column_names\n",
    ")"
   ]
  },
  {
   "cell_type": "code",
   "execution_count": null,
   "id": "1SKBN41QNXj7",
   "metadata": {
    "colab": {
     "base_uri": "https://localhost:8080/"
    },
    "id": "1SKBN41QNXj7",
    "outputId": "8414369c-25c2-4f3e-a29b-394c75378018"
   },
   "outputs": [
    {
     "data": {
      "application/vnd.jupyter.widget-view+json": {
       "model_id": "231acace3d1945239f020af0a7d0eadb",
       "version_major": 2,
       "version_minor": 0
      },
      "text/plain": [
       "model.safetensors:   0%|          | 0.00/442M [00:00<?, ?B/s]"
      ]
     },
     "metadata": {},
     "output_type": "display_data"
    },
    {
     "name": "stderr",
     "output_type": "stream",
     "text": [
      "Some weights of BertForSequenceClassification were not initialized from the model checkpoint at deepset/gbert-base and are newly initialized: ['classifier.bias', 'classifier.weight']\n",
      "You should probably TRAIN this model on a down-stream task to be able to use it for predictions and inference.\n"
     ]
    }
   ],
   "source": [
    "# load model\n",
    "model = AutoModelForSequenceClassification.from_pretrained(\n",
    "    \"deepset/gbert-base\",\n",
    "    num_labels=len(label_names),\n",
    "    id2label=id2label,\n",
    "    label2id=label2id\n",
    ")\n",
    "\n",
    "accuracy_metric = evaluate.load(\"accuracy\")\n",
    "f1_metric = evaluate.load(\"f1\")\n",
    "\n",
    "def compute_metrics(eval_pred):\n",
    "    logits, labels = eval_pred\n",
    "    preds = np.argmax(logits, axis=1)\n",
    "\n",
    "    acc = accuracy_metric.compute(predictions=preds, references=labels)[\"accuracy\"]\n",
    "    f1 = f1_metric.compute(predictions=preds, references=labels, average=\"macro\")[\"f1\"]\n",
    "\n",
    "    return {\n",
    "        \"accuracy\": acc,\n",
    "        \"f1\": f1\n",
    "    }\n"
   ]
  },
  {
   "cell_type": "code",
   "execution_count": null,
   "id": "3d116950",
   "metadata": {
    "id": "3d116950"
   },
   "outputs": [],
   "source": [
    "# define weighted trainer to use later instead of trainer in unweighted version\n",
    "class WeightedTrainer(Trainer):\n",
    "    def __init__(self, *args, class_weights=None, **kwargs):\n",
    "        super().__init__(*args, **kwargs)\n",
    "        self.class_weights = class_weights.to(self.model.device)\n",
    "\n",
    "    def compute_loss(self, model, inputs, return_outputs=False, **kwargs):\n",
    "        labels = inputs.pop(\"labels\")\n",
    "        outputs = model(**inputs)\n",
    "        logits = outputs.logits\n",
    "        loss = F.cross_entropy(logits, labels, weight=self.class_weights)\n",
    "        return (loss, outputs) if return_outputs else loss\n"
   ]
  },
  {
   "cell_type": "markdown",
   "id": "LhF3tcZIFst8",
   "metadata": {
    "id": "LhF3tcZIFst8"
   },
   "source": [
    "## Hyperparameter Tuning"
   ]
  },
  {
   "cell_type": "code",
   "execution_count": null,
   "id": "qfJbYmMMFu37",
   "metadata": {
    "colab": {
     "base_uri": "https://localhost:8080/"
    },
    "id": "qfJbYmMMFu37",
    "outputId": "7b496cae-f299-4267-d657-e765acdf70e8"
   },
   "outputs": [
    {
     "name": "stderr",
     "output_type": "stream",
     "text": [
      "/tmp/ipykernel_339/2176245440.py:3: FutureWarning: `tokenizer` is deprecated and will be removed in version 5.0.0 for `WeightedTrainer.__init__`. Use `processing_class` instead.\n",
      "  super().__init__(*args, **kwargs)\n",
      "Some weights of BertForSequenceClassification were not initialized from the model checkpoint at deepset/gbert-base and are newly initialized: ['classifier.bias', 'classifier.weight']\n",
      "You should probably TRAIN this model on a down-stream task to be able to use it for predictions and inference.\n",
      "[I 2025-08-05 17:33:56,988] A new study created in memory with name: no-name-3ab7df5d-3016-40ee-8350-6e4d5ba1a3af\n",
      "Some weights of BertForSequenceClassification were not initialized from the model checkpoint at deepset/gbert-base and are newly initialized: ['classifier.bias', 'classifier.weight']\n",
      "You should probably TRAIN this model on a down-stream task to be able to use it for predictions and inference.\n"
     ]
    },
    {
     "name": "stdout",
     "output_type": "stream",
     "text": [
      "{'loss': 1.5542, 'grad_norm': 11.509946823120117, 'learning_rate': 1.843062806517956e-05, 'epoch': 0.23730422401518747}\n",
      "{'loss': 1.2693, 'grad_norm': 27.15026092529297, 'learning_rate': 1.684859990507831e-05, 'epoch': 0.47460844803037494}\n",
      "{'loss': 1.1176, 'grad_norm': 19.09450912475586, 'learning_rate': 1.5266571744977062e-05, 'epoch': 0.7119126720455624}\n",
      "{'loss': 1.0378, 'grad_norm': 11.440943717956543, 'learning_rate': 1.3684543584875811e-05, 'epoch': 0.9492168960607499}\n",
      "{'eval_loss': 1.101839542388916, 'eval_accuracy': 0.5751424501424501, 'eval_f1': 0.5667485921964269, 'eval_runtime': 4.5519, 'eval_samples_per_second': 616.881, 'eval_steps_per_second': 77.11, 'epoch': 1.0}\n",
      "{'loss': 0.8536, 'grad_norm': 46.855712890625, 'learning_rate': 1.2105679481094766e-05, 'epoch': 1.1865211200759374}\n",
      "{'loss': 0.7577, 'grad_norm': 16.033449172973633, 'learning_rate': 1.0523651320993515e-05, 'epoch': 1.4238253440911248}\n",
      "{'loss': 0.6669, 'grad_norm': 16.581836700439453, 'learning_rate': 8.941623160892264e-06, 'epoch': 1.6611295681063123}\n",
      "{'loss': 0.6504, 'grad_norm': 27.544330596923828, 'learning_rate': 7.362759057111217e-06, 'epoch': 1.8984337921214998}\n",
      "{'eval_loss': 1.126434087753296, 'eval_accuracy': 0.6171652421652422, 'eval_f1': 0.6075867839356851, 'eval_runtime': 4.5734, 'eval_samples_per_second': 613.989, 'eval_steps_per_second': 76.749, 'epoch': 2.0}\n",
      "{'loss': 0.4971, 'grad_norm': 69.95089721679688, 'learning_rate': 5.780730897009967e-06, 'epoch': 2.1357380161366875}\n",
      "{'loss': 0.3831, 'grad_norm': 10.955767631530762, 'learning_rate': 4.198702736908717e-06, 'epoch': 2.3730422401518747}\n",
      "{'loss': 0.3321, 'grad_norm': 13.250503540039062, 'learning_rate': 2.6166745768074676e-06, 'epoch': 2.610346464167062}\n",
      "{'loss': 0.3461, 'grad_norm': 26.101451873779297, 'learning_rate': 1.0346464167062174e-06, 'epoch': 2.8476506881822496}\n",
      "{'eval_loss': 1.2054722309112549, 'eval_accuracy': 0.6388888888888888, 'eval_f1': 0.6418671324731282, 'eval_runtime': 4.5228, 'eval_samples_per_second': 620.855, 'eval_steps_per_second': 77.607, 'epoch': 3.0}\n",
      "{'train_runtime': 278.7643, 'train_samples_per_second': 181.39, 'train_steps_per_second': 22.675, 'train_loss': 0.7661864768476204, 'epoch': 3.0}\n"
     ]
    },
    {
     "name": "stderr",
     "output_type": "stream",
     "text": [
      "[I 2025-08-05 17:38:36,943] Trial 0 finished with value: 0.6388888888888888 and parameters: {'learning_rate': 2e-05, 'per_device_train_batch_size': 8, 'num_train_epochs': 3, 'weight_decay': 0.0}. Best is trial 0 with value: 0.6388888888888888.\n",
      "Some weights of BertForSequenceClassification were not initialized from the model checkpoint at deepset/gbert-base and are newly initialized: ['classifier.bias', 'classifier.weight']\n",
      "You should probably TRAIN this model on a down-stream task to be able to use it for predictions and inference.\n"
     ]
    },
    {
     "name": "stdout",
     "output_type": "stream",
     "text": [
      "{'loss': 1.3592, 'grad_norm': 13.082066535949707, 'learning_rate': 1.371283997469956e-05, 'epoch': 0.9487666034155597}\n",
      "{'eval_loss': 1.1778568029403687, 'eval_accuracy': 0.49750712250712253, 'eval_f1': 0.4944974638365866, 'eval_runtime': 4.5232, 'eval_samples_per_second': 620.797, 'eval_steps_per_second': 77.6, 'epoch': 1.0}\n",
      "{'loss': 0.9141, 'grad_norm': 21.990509033203125, 'learning_rate': 7.387729285262493e-06, 'epoch': 1.8975332068311195}\n",
      "{'eval_loss': 1.0095784664154053, 'eval_accuracy': 0.6103988603988604, 'eval_f1': 0.6086783881549492, 'eval_runtime': 4.5523, 'eval_samples_per_second': 616.83, 'eval_steps_per_second': 77.104, 'epoch': 2.0}\n",
      "{'loss': 0.6615, 'grad_norm': 11.779711723327637, 'learning_rate': 1.062618595825427e-06, 'epoch': 2.846299810246679}\n",
      "{'eval_loss': 1.0069442987442017, 'eval_accuracy': 0.6125356125356125, 'eval_f1': 0.6186010404363184, 'eval_runtime': 4.5333, 'eval_samples_per_second': 619.415, 'eval_steps_per_second': 77.427, 'epoch': 3.0}\n",
      "{'train_runtime': 210.4465, 'train_samples_per_second': 240.275, 'train_steps_per_second': 7.513, 'train_loss': 0.9603330381756565, 'epoch': 3.0}\n"
     ]
    },
    {
     "name": "stderr",
     "output_type": "stream",
     "text": [
      "[I 2025-08-05 17:42:09,737] Trial 1 finished with value: 0.6125356125356125 and parameters: {'learning_rate': 2e-05, 'per_device_train_batch_size': 32, 'num_train_epochs': 3, 'weight_decay': 0.0}. Best is trial 0 with value: 0.6388888888888888.\n",
      "Some weights of BertForSequenceClassification were not initialized from the model checkpoint at deepset/gbert-base and are newly initialized: ['classifier.bias', 'classifier.weight']\n",
      "You should probably TRAIN this model on a down-stream task to be able to use it for predictions and inference.\n"
     ]
    },
    {
     "name": "stdout",
     "output_type": "stream",
     "text": [
      "{'loss': 1.4773, 'grad_norm': 11.918024063110352, 'learning_rate': 1.686274509803922e-05, 'epoch': 0.47438330170777987}\n",
      "{'loss': 1.1468, 'grad_norm': 23.326589584350586, 'learning_rate': 1.3700189753320686e-05, 'epoch': 0.9487666034155597}\n",
      "{'eval_loss': 1.1379514932632446, 'eval_accuracy': 0.5381054131054132, 'eval_f1': 0.5319116776264816, 'eval_runtime': 4.5259, 'eval_samples_per_second': 620.428, 'eval_steps_per_second': 77.554, 'epoch': 1.0}\n",
      "{'loss': 0.9008, 'grad_norm': 18.36140251159668, 'learning_rate': 1.0537634408602151e-05, 'epoch': 1.4231499051233396}\n",
      "{'loss': 0.7555, 'grad_norm': 17.596830368041992, 'learning_rate': 7.375079063883619e-06, 'epoch': 1.8975332068311195}\n",
      "{'eval_loss': 1.0046298503875732, 'eval_accuracy': 0.6221509971509972, 'eval_f1': 0.6172806892126806, 'eval_runtime': 4.8992, 'eval_samples_per_second': 573.151, 'eval_steps_per_second': 71.644, 'epoch': 2.0}\n",
      "{'loss': 0.5543, 'grad_norm': 22.211843490600586, 'learning_rate': 4.212523719165086e-06, 'epoch': 2.3719165085388996}\n",
      "{'loss': 0.47, 'grad_norm': 10.832130432128906, 'learning_rate': 1.049968374446553e-06, 'epoch': 2.846299810246679}\n",
      "{'eval_loss': 1.0038397312164307, 'eval_accuracy': 0.6346153846153846, 'eval_f1': 0.6373742320510418, 'eval_runtime': 4.5235, 'eval_samples_per_second': 620.752, 'eval_steps_per_second': 77.594, 'epoch': 3.0}\n",
      "{'train_runtime': 235.8521, 'train_samples_per_second': 214.393, 'train_steps_per_second': 13.407, 'train_loss': 0.8631917119855598, 'epoch': 3.0}\n"
     ]
    },
    {
     "name": "stderr",
     "output_type": "stream",
     "text": [
      "[I 2025-08-05 17:46:06,750] Trial 2 finished with value: 0.6346153846153846 and parameters: {'learning_rate': 2e-05, 'per_device_train_batch_size': 16, 'num_train_epochs': 3, 'weight_decay': 0.0}. Best is trial 0 with value: 0.6388888888888888.\n",
      "Some weights of BertForSequenceClassification were not initialized from the model checkpoint at deepset/gbert-base and are newly initialized: ['classifier.bias', 'classifier.weight']\n",
      "You should probably TRAIN this model on a down-stream task to be able to use it for predictions and inference.\n"
     ]
    },
    {
     "name": "stdout",
     "output_type": "stream",
     "text": [
      "{'loss': 1.5478, 'grad_norm': 8.247780799865723, 'learning_rate': 1.882297104888467e-05, 'epoch': 0.23730422401518747}\n",
      "{'loss': 1.2654, 'grad_norm': 19.447044372558594, 'learning_rate': 1.7636449928808734e-05, 'epoch': 0.47460844803037494}\n",
      "{'loss': 1.1058, 'grad_norm': 21.444726943969727, 'learning_rate': 1.6449928808732797e-05, 'epoch': 0.7119126720455624}\n",
      "{'loss': 1.0367, 'grad_norm': 13.37969970703125, 'learning_rate': 1.526340768865686e-05, 'epoch': 0.9492168960607499}\n",
      "{'eval_loss': 1.0897951126098633, 'eval_accuracy': 0.5740740740740741, 'eval_f1': 0.5656611782979668, 'eval_runtime': 4.5381, 'eval_samples_per_second': 618.761, 'eval_steps_per_second': 77.345, 'epoch': 1.0}\n",
      "{'loss': 0.8438, 'grad_norm': 39.45441818237305, 'learning_rate': 1.4079259610821075e-05, 'epoch': 1.1865211200759374}\n",
      "{'loss': 0.742, 'grad_norm': 18.403724670410156, 'learning_rate': 1.2892738490745136e-05, 'epoch': 1.4238253440911248}\n",
      "{'loss': 0.6617, 'grad_norm': 16.950511932373047, 'learning_rate': 1.17062173706692e-05, 'epoch': 1.6611295681063123}\n",
      "{'loss': 0.632, 'grad_norm': 18.37510871887207, 'learning_rate': 1.051969625059326e-05, 'epoch': 1.8984337921214998}\n",
      "{'eval_loss': 1.0921025276184082, 'eval_accuracy': 0.6509971509971509, 'eval_f1': 0.6320529939441218, 'eval_runtime': 4.5336, 'eval_samples_per_second': 619.376, 'eval_steps_per_second': 77.422, 'epoch': 2.0}\n",
      "{'loss': 0.48, 'grad_norm': 38.57987976074219, 'learning_rate': 9.335548172757476e-06, 'epoch': 2.1357380161366875}\n",
      "{'loss': 0.3451, 'grad_norm': 28.371959686279297, 'learning_rate': 8.149027052681538e-06, 'epoch': 2.3730422401518747}\n",
      "{'loss': 0.3004, 'grad_norm': 17.003902435302734, 'learning_rate': 6.962505932605601e-06, 'epoch': 2.610346464167062}\n",
      "{'loss': 0.3254, 'grad_norm': 29.056886672973633, 'learning_rate': 5.775984812529664e-06, 'epoch': 2.8476506881822496}\n",
      "{'eval_loss': 1.352125883102417, 'eval_accuracy': 0.6445868945868946, 'eval_f1': 0.6482007932802571, 'eval_runtime': 4.542, 'eval_samples_per_second': 618.231, 'eval_steps_per_second': 77.279, 'epoch': 3.0}\n",
      "{'loss': 0.2613, 'grad_norm': 16.759456634521484, 'learning_rate': 4.591836734693878e-06, 'epoch': 3.0849549121974373}\n",
      "{'loss': 0.1448, 'grad_norm': 9.044536590576172, 'learning_rate': 3.4053156146179405e-06, 'epoch': 3.3222591362126246}\n",
      "{'loss': 0.1291, 'grad_norm': 0.4200746715068817, 'learning_rate': 2.2187944945420032e-06, 'epoch': 3.559563360227812}\n",
      "{'loss': 0.138, 'grad_norm': 0.10881728678941727, 'learning_rate': 1.0322733744660655e-06, 'epoch': 3.7968675842429995}\n",
      "{'eval_loss': 1.6733967065811157, 'eval_accuracy': 0.6524216524216524, 'eval_f1': 0.6525307798959159, 'eval_runtime': 5.1612, 'eval_samples_per_second': 544.058, 'eval_steps_per_second': 68.007, 'epoch': 4.0}\n",
      "{'train_runtime': 378.354, 'train_samples_per_second': 178.193, 'train_steps_per_second': 22.275, 'train_loss': 0.5976698616980148, 'epoch': 4.0}\n"
     ]
    },
    {
     "name": "stderr",
     "output_type": "stream",
     "text": [
      "[I 2025-08-05 17:52:26,274] Trial 3 finished with value: 0.6524216524216524 and parameters: {'learning_rate': 2e-05, 'per_device_train_batch_size': 8, 'num_train_epochs': 4, 'weight_decay': 0.01}. Best is trial 3 with value: 0.6524216524216524.\n",
      "Some weights of BertForSequenceClassification were not initialized from the model checkpoint at deepset/gbert-base and are newly initialized: ['classifier.bias', 'classifier.weight']\n",
      "You should probably TRAIN this model on a down-stream task to be able to use it for predictions and inference.\n"
     ]
    },
    {
     "name": "stdout",
     "output_type": "stream",
     "text": [
      "{'loss': 1.4794, 'grad_norm': 12.469618797302246, 'learning_rate': 1.6856419987349778e-05, 'epoch': 0.47438330170777987}\n",
      "{'loss': 1.1341, 'grad_norm': 22.674165725708008, 'learning_rate': 1.3693864642631247e-05, 'epoch': 0.9487666034155597}\n",
      "{'eval_loss': 1.122161865234375, 'eval_accuracy': 0.5470085470085471, 'eval_f1': 0.5419630674900887, 'eval_runtime': 7.9586, 'eval_samples_per_second': 352.827, 'eval_steps_per_second': 44.103, 'epoch': 1.0}\n",
      "{'loss': 0.8898, 'grad_norm': 21.218210220336914, 'learning_rate': 1.0531309297912716e-05, 'epoch': 1.4231499051233396}\n",
      "{'loss': 0.7534, 'grad_norm': 17.74115753173828, 'learning_rate': 7.368753953194181e-06, 'epoch': 1.8975332068311195}\n",
      "{'eval_loss': 0.996068000793457, 'eval_accuracy': 0.6299857549857549, 'eval_f1': 0.6245903963316035, 'eval_runtime': 4.5439, 'eval_samples_per_second': 617.978, 'eval_steps_per_second': 77.247, 'epoch': 2.0}\n",
      "{'loss': 0.5474, 'grad_norm': 22.58403205871582, 'learning_rate': 4.212523719165086e-06, 'epoch': 2.3719165085388996}\n",
      "{'loss': 0.47, 'grad_norm': 9.674507141113281, 'learning_rate': 1.049968374446553e-06, 'epoch': 2.846299810246679}\n",
      "{'eval_loss': 0.9992496967315674, 'eval_accuracy': 0.636039886039886, 'eval_f1': 0.6374289261589944, 'eval_runtime': 4.5564, 'eval_samples_per_second': 616.277, 'eval_steps_per_second': 77.035, 'epoch': 3.0}\n",
      "{'train_runtime': 239.3896, 'train_samples_per_second': 211.225, 'train_steps_per_second': 13.209, 'train_loss': 0.8578152472576259, 'epoch': 3.0}\n"
     ]
    },
    {
     "name": "stderr",
     "output_type": "stream",
     "text": [
      "[I 2025-08-05 17:56:27,127] Trial 4 finished with value: 0.636039886039886 and parameters: {'learning_rate': 2e-05, 'per_device_train_batch_size': 16, 'num_train_epochs': 3, 'weight_decay': 0.0}. Best is trial 3 with value: 0.6524216524216524.\n",
      "Some weights of BertForSequenceClassification were not initialized from the model checkpoint at deepset/gbert-base and are newly initialized: ['classifier.bias', 'classifier.weight']\n",
      "You should probably TRAIN this model on a down-stream task to be able to use it for predictions and inference.\n"
     ]
    },
    {
     "name": "stdout",
     "output_type": "stream",
     "text": [
      "{'loss': 1.4975, 'grad_norm': 13.013330459594727, 'learning_rate': 2.647058823529412e-05, 'epoch': 0.47438330170777987}\n",
      "{'loss': 1.1832, 'grad_norm': 18.250877380371094, 'learning_rate': 2.291271347248577e-05, 'epoch': 0.9487666034155597}\n"
     ]
    },
    {
     "name": "stderr",
     "output_type": "stream",
     "text": [
      "[I 2025-08-05 17:57:46,545] Trial 5 pruned. \n"
     ]
    },
    {
     "name": "stdout",
     "output_type": "stream",
     "text": [
      "{'eval_loss': 1.1147069931030273, 'eval_accuracy': 0.5455840455840456, 'eval_f1': 0.5346411688649957, 'eval_runtime': 4.5464, 'eval_samples_per_second': 617.63, 'eval_steps_per_second': 77.204, 'epoch': 1.0}\n"
     ]
    },
    {
     "name": "stderr",
     "output_type": "stream",
     "text": [
      "Some weights of BertForSequenceClassification were not initialized from the model checkpoint at deepset/gbert-base and are newly initialized: ['classifier.bias', 'classifier.weight']\n",
      "You should probably TRAIN this model on a down-stream task to be able to use it for predictions and inference.\n"
     ]
    },
    {
     "name": "stdout",
     "output_type": "stream",
     "text": [
      "{'loss': 1.5659, 'grad_norm': 7.333812236785889, 'learning_rate': 2.764594209776934e-05, 'epoch': 0.23730422401518747}\n",
      "{'loss': 1.2639, 'grad_norm': 25.69510841369629, 'learning_rate': 2.5272899857617465e-05, 'epoch': 0.47460844803037494}\n",
      "{'loss': 1.0987, 'grad_norm': 20.88115692138672, 'learning_rate': 2.2899857617465592e-05, 'epoch': 0.7119126720455624}\n",
      "{'loss': 1.0389, 'grad_norm': 10.765010833740234, 'learning_rate': 2.0526815377313715e-05, 'epoch': 0.9492168960607499}\n",
      "{'eval_loss': 1.037858486175537, 'eval_accuracy': 0.5954415954415955, 'eval_f1': 0.5887036684168387, 'eval_runtime': 4.5539, 'eval_samples_per_second': 616.611, 'eval_steps_per_second': 77.076, 'epoch': 1.0}\n",
      "{'loss': 0.8067, 'grad_norm': 38.51026153564453, 'learning_rate': 1.8158519221642147e-05, 'epoch': 1.1865211200759374}\n",
      "{'loss': 0.7124, 'grad_norm': 21.95842933654785, 'learning_rate': 1.5785476981490274e-05, 'epoch': 1.4238253440911248}\n",
      "{'loss': 0.6188, 'grad_norm': 21.524293899536133, 'learning_rate': 1.3412434741338396e-05, 'epoch': 1.6611295681063123}\n",
      "{'loss': 0.5914, 'grad_norm': 39.760414123535156, 'learning_rate': 1.1039392501186521e-05, 'epoch': 1.8984337921214998}\n"
     ]
    },
    {
     "name": "stderr",
     "output_type": "stream",
     "text": [
      "[I 2025-08-05 18:00:56,217] Trial 6 pruned. \n"
     ]
    },
    {
     "name": "stdout",
     "output_type": "stream",
     "text": [
      "{'eval_loss': 1.1584155559539795, 'eval_accuracy': 0.6339031339031339, 'eval_f1': 0.6192564422154377, 'eval_runtime': 4.524, 'eval_samples_per_second': 620.684, 'eval_steps_per_second': 77.585, 'epoch': 2.0}\n"
     ]
    },
    {
     "name": "stderr",
     "output_type": "stream",
     "text": [
      "Some weights of BertForSequenceClassification were not initialized from the model checkpoint at deepset/gbert-base and are newly initialized: ['classifier.bias', 'classifier.weight']\n",
      "You should probably TRAIN this model on a down-stream task to be able to use it for predictions and inference.\n"
     ]
    },
    {
     "name": "stdout",
     "output_type": "stream",
     "text": [
      "{'loss': 1.4557, 'grad_norm': 16.091707229614258, 'learning_rate': 7.637571157495257e-06, 'epoch': 0.9487666034155597}\n"
     ]
    },
    {
     "name": "stderr",
     "output_type": "stream",
     "text": [
      "[I 2025-08-05 18:02:07,583] Trial 7 pruned. \n"
     ]
    },
    {
     "name": "stdout",
     "output_type": "stream",
     "text": [
      "{'eval_loss': 1.252760887145996, 'eval_accuracy': 0.47435897435897434, 'eval_f1': 0.46409801536807094, 'eval_runtime': 4.6837, 'eval_samples_per_second': 599.523, 'eval_steps_per_second': 74.94, 'epoch': 1.0}\n"
     ]
    },
    {
     "name": "stderr",
     "output_type": "stream",
     "text": [
      "Some weights of BertForSequenceClassification were not initialized from the model checkpoint at deepset/gbert-base and are newly initialized: ['classifier.bias', 'classifier.weight']\n",
      "You should probably TRAIN this model on a down-stream task to be able to use it for predictions and inference.\n"
     ]
    },
    {
     "name": "stdout",
     "output_type": "stream",
     "text": [
      "{'loss': 1.5709, 'grad_norm': 9.787554740905762, 'learning_rate': 2.764594209776934e-05, 'epoch': 0.23730422401518747}\n",
      "{'loss': 1.3052, 'grad_norm': 29.018957138061523, 'learning_rate': 2.5272899857617465e-05, 'epoch': 0.47460844803037494}\n",
      "{'loss': 1.1367, 'grad_norm': 12.190732955932617, 'learning_rate': 2.2899857617465592e-05, 'epoch': 0.7119126720455624}\n",
      "{'loss': 1.0702, 'grad_norm': 15.624202728271484, 'learning_rate': 2.0526815377313715e-05, 'epoch': 0.9492168960607499}\n"
     ]
    },
    {
     "name": "stderr",
     "output_type": "stream",
     "text": [
      "[I 2025-08-05 18:03:46,435] Trial 8 pruned. \n"
     ]
    },
    {
     "name": "stdout",
     "output_type": "stream",
     "text": [
      "{'eval_loss': 1.1492763757705688, 'eval_accuracy': 0.5534188034188035, 'eval_f1': 0.5515639893092678, 'eval_runtime': 7.1474, 'eval_samples_per_second': 392.872, 'eval_steps_per_second': 49.109, 'epoch': 1.0}\n"
     ]
    },
    {
     "name": "stderr",
     "output_type": "stream",
     "text": [
      "Some weights of BertForSequenceClassification were not initialized from the model checkpoint at deepset/gbert-base and are newly initialized: ['classifier.bias', 'classifier.weight']\n",
      "You should probably TRAIN this model on a down-stream task to be able to use it for predictions and inference.\n"
     ]
    },
    {
     "name": "stdout",
     "output_type": "stream",
     "text": [
      "{'loss': 1.4952, 'grad_norm': 11.242960929870605, 'learning_rate': 2.5284629981024667e-05, 'epoch': 0.47438330170777987}\n",
      "{'loss': 1.1352, 'grad_norm': 18.001428604125977, 'learning_rate': 2.054079696394687e-05, 'epoch': 0.9487666034155597}\n",
      "{'eval_loss': 1.09906804561615, 'eval_accuracy': 0.5502136752136753, 'eval_f1': 0.5453269484799209, 'eval_runtime': 4.5411, 'eval_samples_per_second': 618.346, 'eval_steps_per_second': 77.293, 'epoch': 1.0}\n",
      "{'loss': 0.837, 'grad_norm': 15.872542381286621, 'learning_rate': 1.5796963946869072e-05, 'epoch': 1.4231499051233396}\n",
      "{'loss': 0.6858, 'grad_norm': 20.244848251342773, 'learning_rate': 1.1053130929791271e-05, 'epoch': 1.8975332068311195}\n",
      "{'eval_loss': 1.0614919662475586, 'eval_accuracy': 0.6310541310541311, 'eval_f1': 0.6236727914679263, 'eval_runtime': 4.7495, 'eval_samples_per_second': 591.22, 'eval_steps_per_second': 73.903, 'epoch': 2.0}\n",
      "{'loss': 0.4366, 'grad_norm': 17.6652774810791, 'learning_rate': 6.318785578747628e-06, 'epoch': 2.3719165085388996}\n",
      "{'loss': 0.3438, 'grad_norm': 13.944005012512207, 'learning_rate': 1.5749525616698293e-06, 'epoch': 2.846299810246679}\n",
      "{'eval_loss': 1.1151137351989746, 'eval_accuracy': 0.6424501424501424, 'eval_f1': 0.6452408381878172, 'eval_runtime': 4.5411, 'eval_samples_per_second': 618.357, 'eval_steps_per_second': 77.295, 'epoch': 3.0}\n",
      "{'train_runtime': 238.0852, 'train_samples_per_second': 212.382, 'train_steps_per_second': 13.281, 'train_loss': 0.7971957759869241, 'epoch': 3.0}\n"
     ]
    },
    {
     "name": "stderr",
     "output_type": "stream",
     "text": [
      "[I 2025-08-05 18:07:45,855] Trial 9 finished with value: 0.6424501424501424 and parameters: {'learning_rate': 3e-05, 'per_device_train_batch_size': 16, 'num_train_epochs': 3, 'weight_decay': 0.05}. Best is trial 3 with value: 0.6524216524216524.\n",
      "Some weights of BertForSequenceClassification were not initialized from the model checkpoint at deepset/gbert-base and are newly initialized: ['classifier.bias', 'classifier.weight']\n",
      "You should probably TRAIN this model on a down-stream task to be able to use it for predictions and inference.\n"
     ]
    },
    {
     "name": "stdout",
     "output_type": "stream",
     "text": [
      "{'loss': 1.5963, 'grad_norm': 8.05067253112793, 'learning_rate': 9.410299003322259e-06, 'epoch': 0.23730422401518747}\n",
      "{'loss': 1.3711, 'grad_norm': 17.883926391601562, 'learning_rate': 8.81703844328429e-06, 'epoch': 0.47460844803037494}\n",
      "{'loss': 1.2053, 'grad_norm': 11.105096817016602, 'learning_rate': 8.224964404366399e-06, 'epoch': 0.7119126720455624}\n",
      "{'loss': 1.1322, 'grad_norm': 9.811302185058594, 'learning_rate': 7.63170384432843e-06, 'epoch': 0.9492168960607499}\n"
     ]
    },
    {
     "name": "stderr",
     "output_type": "stream",
     "text": [
      "[I 2025-08-05 18:09:27,287] Trial 10 pruned. \n"
     ]
    },
    {
     "name": "stdout",
     "output_type": "stream",
     "text": [
      "{'eval_loss': 1.2075986862182617, 'eval_accuracy': 0.5181623931623932, 'eval_f1': 0.5114845393478161, 'eval_runtime': 10.6442, 'eval_samples_per_second': 263.805, 'eval_steps_per_second': 32.976, 'epoch': 1.0}\n"
     ]
    },
    {
     "name": "stderr",
     "output_type": "stream",
     "text": [
      "Some weights of BertForSequenceClassification were not initialized from the model checkpoint at deepset/gbert-base and are newly initialized: ['classifier.bias', 'classifier.weight']\n",
      "You should probably TRAIN this model on a down-stream task to be able to use it for predictions and inference.\n"
     ]
    },
    {
     "name": "stdout",
     "output_type": "stream",
     "text": [
      "{'loss': 1.4871, 'grad_norm': 16.632028579711914, 'learning_rate': 2.64634724857685e-05, 'epoch': 0.47438330170777987}\n",
      "{'loss': 1.1557, 'grad_norm': 21.936744689941406, 'learning_rate': 2.2905597722960152e-05, 'epoch': 0.9487666034155597}\n",
      "{'eval_loss': 1.1130841970443726, 'eval_accuracy': 0.5658831908831908, 'eval_f1': 0.5473282135339014, 'eval_runtime': 4.5287, 'eval_samples_per_second': 620.039, 'eval_steps_per_second': 77.505, 'epoch': 1.0}\n",
      "{'loss': 0.8576, 'grad_norm': 10.87476921081543, 'learning_rate': 1.935483870967742e-05, 'epoch': 1.4231499051233396}\n",
      "{'loss': 0.7069, 'grad_norm': 29.83849334716797, 'learning_rate': 1.5796963946869072e-05, 'epoch': 1.8975332068311195}\n"
     ]
    },
    {
     "name": "stderr",
     "output_type": "stream",
     "text": [
      "[I 2025-08-05 18:12:06,349] Trial 11 pruned. \n"
     ]
    },
    {
     "name": "stdout",
     "output_type": "stream",
     "text": [
      "{'eval_loss': 1.126869559288025, 'eval_accuracy': 0.5936609686609686, 'eval_f1': 0.5977944288501985, 'eval_runtime': 4.5312, 'eval_samples_per_second': 619.697, 'eval_steps_per_second': 77.462, 'epoch': 2.0}\n"
     ]
    },
    {
     "name": "stderr",
     "output_type": "stream",
     "text": [
      "Some weights of BertForSequenceClassification were not initialized from the model checkpoint at deepset/gbert-base and are newly initialized: ['classifier.bias', 'classifier.weight']\n",
      "You should probably TRAIN this model on a down-stream task to be able to use it for predictions and inference.\n"
     ]
    },
    {
     "name": "stdout",
     "output_type": "stream",
     "text": [
      "{'loss': 1.5769, 'grad_norm': 7.632606029510498, 'learning_rate': 1.882297104888467e-05, 'epoch': 0.23730422401518747}\n",
      "{'loss': 1.3299, 'grad_norm': 19.827648162841797, 'learning_rate': 1.7638822971048886e-05, 'epoch': 0.47460844803037494}\n",
      "{'loss': 1.1597, 'grad_norm': 17.163991928100586, 'learning_rate': 1.645230185097295e-05, 'epoch': 0.7119126720455624}\n",
      "{'loss': 1.0777, 'grad_norm': 10.958449363708496, 'learning_rate': 1.526578073089701e-05, 'epoch': 0.9492168960607499}\n"
     ]
    },
    {
     "name": "stderr",
     "output_type": "stream",
     "text": [
      "[I 2025-08-05 18:13:41,864] Trial 12 pruned. \n"
     ]
    },
    {
     "name": "stdout",
     "output_type": "stream",
     "text": [
      "{'eval_loss': 1.1771562099456787, 'eval_accuracy': 0.5548433048433048, 'eval_f1': 0.5497470081738037, 'eval_runtime': 4.5352, 'eval_samples_per_second': 619.163, 'eval_steps_per_second': 77.395, 'epoch': 1.0}\n"
     ]
    },
    {
     "name": "stderr",
     "output_type": "stream",
     "text": [
      "Some weights of BertForSequenceClassification were not initialized from the model checkpoint at deepset/gbert-base and are newly initialized: ['classifier.bias', 'classifier.weight']\n",
      "You should probably TRAIN this model on a down-stream task to be able to use it for predictions and inference.\n"
     ]
    },
    {
     "name": "stdout",
     "output_type": "stream",
     "text": [
      "{'loss': 1.4933, 'grad_norm': 16.178565979003906, 'learning_rate': 2.6477703984819733e-05, 'epoch': 0.47438330170777987}\n",
      "{'loss': 1.1554, 'grad_norm': 18.964521408081055, 'learning_rate': 2.2919829222011387e-05, 'epoch': 0.9487666034155597}\n"
     ]
    },
    {
     "name": "stderr",
     "output_type": "stream",
     "text": [
      "[I 2025-08-05 18:15:01,939] Trial 13 pruned. \n"
     ]
    },
    {
     "name": "stdout",
     "output_type": "stream",
     "text": [
      "{'eval_loss': 1.1336613893508911, 'eval_accuracy': 0.5288461538461539, 'eval_f1': 0.5079424829823298, 'eval_runtime': 4.5701, 'eval_samples_per_second': 614.43, 'eval_steps_per_second': 76.804, 'epoch': 1.0}\n"
     ]
    },
    {
     "name": "stderr",
     "output_type": "stream",
     "text": [
      "Some weights of BertForSequenceClassification were not initialized from the model checkpoint at deepset/gbert-base and are newly initialized: ['classifier.bias', 'classifier.weight']\n",
      "You should probably TRAIN this model on a down-stream task to be able to use it for predictions and inference.\n"
     ]
    },
    {
     "name": "stdout",
     "output_type": "stream",
     "text": [
      "{'loss': 1.4583, 'grad_norm': 16.208084106445312, 'learning_rate': 6.850094876660343e-06, 'epoch': 0.9487666034155597}\n"
     ]
    },
    {
     "name": "stderr",
     "output_type": "stream",
     "text": [
      "[I 2025-08-05 18:16:13,095] Trial 14 pruned. \n",
      "Some weights of BertForSequenceClassification were not initialized from the model checkpoint at deepset/gbert-base and are newly initialized: ['classifier.bias', 'classifier.weight']\n",
      "You should probably TRAIN this model on a down-stream task to be able to use it for predictions and inference.\n"
     ]
    },
    {
     "name": "stdout",
     "output_type": "stream",
     "text": [
      "{'eval_loss': 1.253867506980896, 'eval_accuracy': 0.4807692307692308, 'eval_f1': 0.4686709850445987, 'eval_runtime': 4.5456, 'eval_samples_per_second': 617.742, 'eval_steps_per_second': 77.218, 'epoch': 1.0}\n",
      "{'loss': 1.5433, 'grad_norm': 13.197853088378906, 'learning_rate': 1.882297104888467e-05, 'epoch': 0.23730422401518747}\n",
      "{'loss': 1.2689, 'grad_norm': 22.506959915161133, 'learning_rate': 1.7636449928808734e-05, 'epoch': 0.47460844803037494}\n",
      "{'loss': 1.1162, 'grad_norm': 13.97867202758789, 'learning_rate': 1.6449928808732797e-05, 'epoch': 0.7119126720455624}\n",
      "{'loss': 1.045, 'grad_norm': 12.996737480163574, 'learning_rate': 1.526340768865686e-05, 'epoch': 0.9492168960607499}\n",
      "{'eval_loss': 1.1135891675949097, 'eval_accuracy': 0.5747863247863247, 'eval_f1': 0.5620139027910546, 'eval_runtime': 4.5617, 'eval_samples_per_second': 615.567, 'eval_steps_per_second': 76.946, 'epoch': 1.0}\n",
      "{'loss': 0.848, 'grad_norm': 31.357099533081055, 'learning_rate': 1.4079259610821075e-05, 'epoch': 1.1865211200759374}\n",
      "{'loss': 0.7496, 'grad_norm': 23.31591796875, 'learning_rate': 1.2892738490745136e-05, 'epoch': 1.4238253440911248}\n",
      "{'loss': 0.6642, 'grad_norm': 18.58502769470215, 'learning_rate': 1.17062173706692e-05, 'epoch': 1.6611295681063123}\n",
      "{'loss': 0.6403, 'grad_norm': 26.819416046142578, 'learning_rate': 1.051969625059326e-05, 'epoch': 1.8984337921214998}\n"
     ]
    },
    {
     "name": "stderr",
     "output_type": "stream",
     "text": [
      "[I 2025-08-05 18:19:23,411] Trial 15 pruned. \n"
     ]
    },
    {
     "name": "stdout",
     "output_type": "stream",
     "text": [
      "{'eval_loss': 1.1207318305969238, 'eval_accuracy': 0.6321225071225072, 'eval_f1': 0.6194514977788145, 'eval_runtime': 4.5277, 'eval_samples_per_second': 620.18, 'eval_steps_per_second': 77.523, 'epoch': 2.0}\n",
      "Best hyperparameters:\n",
      "{'learning_rate': 2e-05, 'per_device_train_batch_size': 8, 'num_train_epochs': 4, 'weight_decay': 0.01}\n"
     ]
    }
   ],
   "source": [
    "# training arguments for hyperparameter tuning\n",
    "def model_init():\n",
    "    return AutoModelForSequenceClassification.from_pretrained(\n",
    "        model_name,\n",
    "        num_labels=num_labels\n",
    "    )\n",
    "\n",
    "training_args = TrainingArguments(\n",
    "    output_dir=\"./results\",\n",
    "    eval_strategy=\"epoch\",\n",
    "    save_strategy=\"no\",  # don't save checkpoints during tuning\n",
    "    logging_dir=\"./logs\",\n",
    "    disable_tqdm=True,  # speed up tuning\n",
    "    fp16=torch.cuda.is_available(),\n",
    "    report_to=\"none\",   \n",
    ")\n",
    "\n",
    "def hp_space(trial):\n",
    "    return {\n",
    "        \"learning_rate\": trial.suggest_categorical(\"learning_rate\", [1e-5, 2e-5, 3e-5]),\n",
    "        \"per_device_train_batch_size\": trial.suggest_categorical(\"per_device_train_batch_size\", [8, 16, 32]),\n",
    "        \"num_train_epochs\": trial.suggest_int(\"num_train_epochs\", 3, 4),\n",
    "        \"weight_decay\": trial.suggest_categorical(\"weight_decay\", [0.0, 0.01, 0.05]),\n",
    "    }\n",
    "\n",
    "trainer = WeightedTrainer(\n",
    "    model_init=model_init,\n",
    "    args=training_args,\n",
    "    train_dataset=tokenized_train_data_subset,\n",
    "    eval_dataset=tokenized_val_data_subset,\n",
    "    tokenizer=tokenizer,\n",
    "    compute_metrics=compute_metrics,\n",
    "    class_weights=class_weights\n",
    ")\n",
    "\n",
    "best_run = trainer.hyperparameter_search(\n",
    "    direction=\"maximize\",        # because we want to maximize accuracy\n",
    "    hp_space=hp_space,\n",
    "    n_trials=16,                 # how many combinations to try\n",
    "    compute_objective=lambda metrics: metrics[\"eval_accuracy\"],\n",
    "    backend=\"optuna\"\n",
    ")\n",
    "\n",
    "print(\"Best hyperparameters:\")\n",
    "print(best_run.hyperparameters)\n"
   ]
  },
  {
   "cell_type": "code",
   "execution_count": null,
   "id": "bIuAOBYAKxw1",
   "metadata": {
    "id": "bIuAOBYAKxw1"
   },
   "outputs": [],
   "source": [
    "# for safety save best hyperparameter combination\n",
    "best_run_A_df = pd.DataFrame(best_run)\n",
    "best_run_A_df.to_csv(\"hyperpara_A.csv\",index=False)"
   ]
  },
  {
   "cell_type": "markdown",
   "id": "cARBzNCBGUw1",
   "metadata": {
    "id": "cARBzNCBGUw1"
   },
   "source": [
    "## Training with best Tuning Parameters\n"
   ]
  },
  {
   "cell_type": "code",
   "execution_count": null,
   "id": "c5bfef97",
   "metadata": {
    "colab": {
     "base_uri": "https://localhost:8080/",
     "height": 394
    },
    "id": "c5bfef97",
    "outputId": "99d5f647-0148-4dd5-8411-27ec8bbb54fa"
   },
   "outputs": [
    {
     "name": "stderr",
     "output_type": "stream",
     "text": [
      "/tmp/ipykernel_339/2176245440.py:3: FutureWarning: `tokenizer` is deprecated and will be removed in version 5.0.0 for `WeightedTrainer.__init__`. Use `processing_class` instead.\n",
      "  super().__init__(*args, **kwargs)\n"
     ]
    },
    {
     "data": {
      "text/html": [
       "\n",
       "    <div>\n",
       "      \n",
       "      <progress value='35472' max='35472' style='width:300px; height:20px; vertical-align: middle;'></progress>\n",
       "      [35472/35472 28:37, Epoch 4/4]\n",
       "    </div>\n",
       "    <table border=\"1\" class=\"dataframe\">\n",
       "  <thead>\n",
       " <tr style=\"text-align: left;\">\n",
       "      <th>Epoch</th>\n",
       "      <th>Training Loss</th>\n",
       "      <th>Validation Loss</th>\n",
       "      <th>Accuracy</th>\n",
       "      <th>F1</th>\n",
       "    </tr>\n",
       "  </thead>\n",
       "  <tbody>\n",
       "    <tr>\n",
       "      <td>1</td>\n",
       "      <td>0.738000</td>\n",
       "      <td>0.782398</td>\n",
       "      <td>0.712576</td>\n",
       "      <td>0.710183</td>\n",
       "    </tr>\n",
       "    <tr>\n",
       "      <td>2</td>\n",
       "      <td>0.443800</td>\n",
       "      <td>0.824682</td>\n",
       "      <td>0.745636</td>\n",
       "      <td>0.746371</td>\n",
       "    </tr>\n",
       "    <tr>\n",
       "      <td>3</td>\n",
       "      <td>0.256700</td>\n",
       "      <td>1.328303</td>\n",
       "      <td>0.748942</td>\n",
       "      <td>0.742144</td>\n",
       "    </tr>\n",
       "    <tr>\n",
       "      <td>4</td>\n",
       "      <td>0.108600</td>\n",
       "      <td>1.691581</td>\n",
       "      <td>0.753901</td>\n",
       "      <td>0.750901</td>\n",
       "    </tr>\n",
       "  </tbody>\n",
       "</table><p>"
      ],
      "text/plain": [
       "<IPython.core.display.HTML object>"
      ]
     },
     "metadata": {},
     "output_type": "display_data"
    },
    {
     "data": {
      "text/plain": [
       "TrainOutput(global_step=35472, training_loss=0.46640904948794204, metrics={'train_runtime': 1717.7916, 'train_samples_per_second': 165.191, 'train_steps_per_second': 20.65, 'total_flos': 7.466412693314765e+16, 'train_loss': 0.46640904948794204, 'epoch': 4.0})"
      ]
     },
     "execution_count": 16,
     "metadata": {},
     "output_type": "execute_result"
    }
   ],
   "source": [
    "# use best training args and train with those\n",
    "training_args = TrainingArguments(\n",
    "    output_dir=\"./results\",\n",
    "    learning_rate=best_run.hyperparameters[\"learning_rate\"],\n",
    "    per_device_train_batch_size=best_run.hyperparameters[\"per_device_train_batch_size\"],\n",
    "    num_train_epochs=best_run.hyperparameters[\"num_train_epochs\"],\n",
    "    weight_decay=best_run.hyperparameters[\"weight_decay\"],\n",
    "    eval_strategy=\"epoch\",\n",
    "    save_strategy=\"epoch\",\n",
    "    per_device_eval_batch_size=16,\n",
    "    load_best_model_at_end=True,\n",
    "    fp16=torch.cuda.is_available(),\n",
    "    report_to=\"none\",\n",
    ")\n",
    "\n",
    "trainer = WeightedTrainer(\n",
    "    model=model,\n",
    "    args=training_args,\n",
    "    train_dataset=tokenized_train_data,\n",
    "    eval_dataset=tokenized_val_data,\n",
    "    tokenizer=tokenizer,\n",
    "    data_collator=DataCollatorWithPadding(tokenizer),\n",
    "    compute_metrics=compute_metrics,\n",
    "    class_weights=class_weights\n",
    ")\n",
    "\n",
    "trainer.train()\n"
   ]
  },
  {
   "cell_type": "code",
   "execution_count": null,
   "id": "42bade2f",
   "metadata": {
    "colab": {
     "base_uri": "https://localhost:8080/"
    },
    "id": "42bade2f",
    "outputId": "5c69c970-9a74-438b-f770-337ba21a504d"
   },
   "outputs": [
    {
     "data": {
      "text/plain": [
       "('classifier_final_A/tokenizer_config.json',\n",
       " 'classifier_final_A/special_tokens_map.json',\n",
       " 'classifier_final_A/vocab.txt',\n",
       " 'classifier_final_A/added_tokens.json',\n",
       " 'classifier_final_A/tokenizer.json')"
      ]
     },
     "execution_count": 17,
     "metadata": {},
     "output_type": "execute_result"
    }
   ],
   "source": [
    "# save trained model and tokenizer\n",
    "model.save_pretrained(\"classifier_final_A/\")\n",
    "tokenizer.save_pretrained(\"classifier_final_A/\")"
   ]
  },
  {
   "cell_type": "code",
   "execution_count": null,
   "id": "nVyP9xcmPnVc",
   "metadata": {
    "id": "nVyP9xcmPnVc"
   },
   "outputs": [],
   "source": [
    "# define tokenization and evaluation on val and test set\n",
    "model.eval()\n",
    "\n",
    "def tokenize_sliding_windows(example: Dict[str, Any]) -> Dict[str, Any]:\n",
    "    encoding = tokenizer(\n",
    "        example[\"speech_text\"],\n",
    "        truncation=True,\n",
    "        padding=\"max_length\",\n",
    "        max_length=WINDOW_LENGTH,\n",
    "        stride=STRIDE,\n",
    "        return_overflowing_tokens=True,\n",
    "        return_offsets_mapping=False,\n",
    "        return_tensors=\"pt\"\n",
    "    )\n",
    "    return encoding\n",
    "\n",
    "# function that gives probabilities for all categories and prediction\n",
    "def predict_proba_for_dataset(dataset: Dataset, label_names) -> List[Dict[str, Any]]:\n",
    "    results = []\n",
    "\n",
    "    for example in tqdm(dataset):\n",
    "        tokenized = tokenize_sliding_windows(example)\n",
    "        input_ids = tokenized[\"input_ids\"].to(model.device)\n",
    "        attention_mask = tokenized[\"attention_mask\"].to(model.device)\n",
    "\n",
    "        with torch.no_grad():\n",
    "            outputs = model(input_ids=input_ids, attention_mask=attention_mask)\n",
    "            probs = torch.nn.functional.softmax(outputs.logits, dim=-1).cpu().numpy()\n",
    "\n",
    "        avg_probs = probs.mean(axis=0)\n",
    "        pred_idx = int(np.argmax(avg_probs))\n",
    "        pred_label = label_names[pred_idx]\n",
    "\n",
    "        results.append({\n",
    "            \"probs\": avg_probs.tolist(),\n",
    "            \"label\": label_names[example[\"label\"]],  # true value\n",
    "            \"prediction_label\": pred_label,\n",
    "        })\n",
    "\n",
    "    return results\n"
   ]
  },
  {
   "cell_type": "markdown",
   "id": "DOsyPySjBU-a",
   "metadata": {
    "id": "DOsyPySjBU-a"
   },
   "source": [
    "### Validation"
   ]
  },
  {
   "cell_type": "code",
   "execution_count": 19,
   "id": "nK9JVhMCBuM8",
   "metadata": {
    "colab": {
     "base_uri": "https://localhost:8080/"
    },
    "id": "nK9JVhMCBuM8",
    "outputId": "80e0b8bc-afe8-4078-ed2f-31f9f0a5c151"
   },
   "outputs": [
    {
     "name": "stderr",
     "output_type": "stream",
     "text": [
      "100%|██████████| 5418/5418 [00:43<00:00, 125.59it/s]\n"
     ]
    }
   ],
   "source": [
    "results_val_A = predict_proba_for_dataset(val_data, sorted(label_names))"
   ]
  },
  {
   "cell_type": "code",
   "execution_count": 20,
   "id": "F8io9c-RUMk3",
   "metadata": {
    "id": "F8io9c-RUMk3"
   },
   "outputs": [],
   "source": [
    "results_val_A_df = pd.DataFrame(results_val_A)"
   ]
  },
  {
   "cell_type": "code",
   "execution_count": 21,
   "id": "LQPypCKBV08p",
   "metadata": {
    "id": "LQPypCKBV08p"
   },
   "outputs": [],
   "source": [
    "results_val_A_df.to_csv(\"classifier_final_A_validation_results.csv\",index=False)"
   ]
  },
  {
   "cell_type": "markdown",
   "id": "PM4LNZAGBXa9",
   "metadata": {
    "id": "PM4LNZAGBXa9"
   },
   "source": [
    "### TEST"
   ]
  },
  {
   "cell_type": "code",
   "execution_count": 22,
   "id": "dnkrbj3WB6kc",
   "metadata": {
    "colab": {
     "base_uri": "https://localhost:8080/"
    },
    "id": "dnkrbj3WB6kc",
    "outputId": "44d8b233-cdd5-4fd9-8706-f7779b6a972b"
   },
   "outputs": [
    {
     "name": "stderr",
     "output_type": "stream",
     "text": [
      "100%|██████████| 5418/5418 [00:42<00:00, 127.96it/s]\n"
     ]
    }
   ],
   "source": [
    "results_test_A = predict_proba_for_dataset(test_data, sorted(label_names))"
   ]
  },
  {
   "cell_type": "code",
   "execution_count": 23,
   "id": "hsV5vkohB6kf",
   "metadata": {
    "id": "hsV5vkohB6kf"
   },
   "outputs": [],
   "source": [
    "results_test_A_df = pd.DataFrame(results_test_A)"
   ]
  },
  {
   "cell_type": "code",
   "execution_count": 24,
   "id": "0CMbbUOJB6kg",
   "metadata": {
    "id": "0CMbbUOJB6kg"
   },
   "outputs": [],
   "source": [
    "results_test_A_df.to_csv(\"classifier_final_A_test_results.csv\", index=False)"
   ]
  },
  {
   "cell_type": "code",
   "execution_count": null,
   "id": "jszPHfJ_NoyX",
   "metadata": {
    "id": "jszPHfJ_NoyX"
   },
   "outputs": [],
   "source": [
    "# Save all results in zip to easily download from colab\n",
    "zip_filename = \"diffresultsA.zip\"\n",
    "\n",
    "# Create a zip file\n",
    "with zipfile.ZipFile(zip_filename, 'w', zipfile.ZIP_DEFLATED) as zipf:\n",
    "    # Add model/tokenizer folder\n",
    "    for root, dirs, files in os.walk(\"classifier_final_A/\"):\n",
    "        for file in files:\n",
    "            filepath = os.path.join(root, file)\n",
    "            arcname = os.path.relpath(filepath, start=os.path.dirname(\"classifier_final_A/\"))\n",
    "            zipf.write(filepath, arcname=arcname)\n",
    "\n",
    "    # Add any CSVs you want\n",
    "    for csv_file in [\"hyperpara_A.csv\", \"classifier_final_A_validation_results.csv\", \"classifier_final_A_test_results.csv\"]:\n",
    "        if os.path.exists(csv_file):\n",
    "            zipf.write(csv_file)"
   ]
  },
  {
   "cell_type": "code",
   "execution_count": 26,
   "id": "3785d04b-a3fa-48d1-8a43-89ce8b7a3ce6",
   "metadata": {},
   "outputs": [
    {
     "name": "stdout",
     "output_type": "stream",
     "text": [
      "Model: val\n",
      "  Accuracy: 0.7731635289774824\n",
      "  Balanced Accuracy: 0.7596529371025423\n",
      "  Precision: 0.7890567245923849\n",
      "  Recall: 0.7596529371025423\n",
      "  F1-score: 0.770649612168823\n",
      "  Classification Report:\n",
      "              precision    recall  f1-score   support\n",
      "\n",
      "         AfD       0.95      0.90      0.92       776\n",
      "     CDU/CSU       0.72      0.90      0.80      1402\n",
      "         FDP       0.72      0.65      0.68       713\n",
      "       GRÜNE       0.74      0.60      0.66       712\n",
      "       LINKE       0.85      0.80      0.83       581\n",
      "         SPD       0.76      0.71      0.73      1234\n",
      "\n",
      "    accuracy                           0.77      5418\n",
      "   macro avg       0.79      0.76      0.77      5418\n",
      "weighted avg       0.78      0.77      0.77      5418\n",
      "\n"
     ]
    },
    {
     "data": {
      "image/png": "[encoded data removed]",
      "text/plain": [
       "<Figure size 800x600 with 2 Axes>"
      ]
     },
     "metadata": {},
     "output_type": "display_data"
    },
    {
     "name": "stdout",
     "output_type": "stream",
     "text": [
      "Model: val\n",
      "  Accuracy: 0.7652270210409745\n",
      "  Balanced Accuracy: 0.7555326707236062\n",
      "  Precision: 0.7787912471050816\n",
      "  Recall: 0.7555326707236062\n",
      "  F1-score: 0.7630228011683289\n",
      "  Classification Report:\n",
      "              precision    recall  f1-score   support\n",
      "\n",
      "         AfD       0.92      0.92      0.92       747\n",
      "     CDU/CSU       0.73      0.89      0.80      1426\n",
      "         FDP       0.69      0.67      0.68       678\n",
      "       GRÜNE       0.75      0.54      0.63       804\n",
      "       LINKE       0.86      0.81      0.83       593\n",
      "         SPD       0.71      0.70      0.71      1170\n",
      "\n",
      "    accuracy                           0.77      5418\n",
      "   macro avg       0.78      0.76      0.76      5418\n",
      "weighted avg       0.77      0.77      0.76      5418\n",
      "\n"
     ]
    },
    {
     "data": {
      "image/png": "[encoded data removed]",
      "text/plain": [
       "<Figure size 800x600 with 2 Axes>"
      ]
     },
     "metadata": {},
     "output_type": "display_data"
    }
   ],
   "source": [
    "# define function to display eval metrics\n",
    "def get_metrics(true_labels, preds, model_name):\n",
    "    metrics_summary = {}\n",
    "\n",
    "    acc = accuracy_score(true_labels, preds)\n",
    "    bal_acc = balanced_accuracy_score(true_labels, preds)\n",
    "\n",
    "    precision = precision_score(true_labels, preds, average='macro', zero_division=0)\n",
    "    recall = recall_score(true_labels, preds, average='macro', zero_division=0)\n",
    "    f1 = f1_score(true_labels, preds, average='macro', zero_division=0)\n",
    "\n",
    "    label_order = sorted(set(true_labels).union(set(preds)))\n",
    "    report = classification_report(true_labels, preds, labels=label_order, zero_division=0)\n",
    "    metrics_summary[model_name] = {\n",
    "        'acc': acc,\n",
    "        'bal_acc': bal_acc,\n",
    "        'precision': precision,\n",
    "        'recall': recall,\n",
    "        'f1': f1\n",
    "    }\n",
    "    # print metrics\n",
    "    print(f\"Model: {model_name}\")\n",
    "    print(f\"  Accuracy: {acc}\")\n",
    "    print(f\"  Balanced Accuracy: {bal_acc}\")\n",
    "    print(f\"  Precision: {precision}\")\n",
    "    print(f\"  Recall: {recall}\")\n",
    "    print(f\"  F1-score: {f1}\")\n",
    "    print(f\"  Classification Report:\\n{report}\")\n",
    "\n",
    "\n",
    "    # Confusion Matrix\n",
    "    label_order = sorted(set(true_labels).union(set(preds)))\n",
    "    cm = confusion_matrix(true_labels, preds, labels=label_order)\n",
    "    cm_df = pd.DataFrame(cm, index=label_order, columns=label_order)\n",
    "\n",
    "    plt.figure(figsize=(8, 6))\n",
    "    sns.heatmap(cm_df, annot=True, fmt='d', cmap='Blues')\n",
    "    plt.title(f\"Confusion Matrix - {model_name}\")\n",
    "    plt.ylabel(\"True Label\")\n",
    "    plt.xlabel(\"Predicted Label\")\n",
    "    plt.tight_layout()\n",
    "    plt.show()\n",
    "\n",
    "\n",
    "    return metrics_summary\n",
    "\n",
    "val_results = get_metrics(results_val_A_df[\"label\"], results_val_A_df[\"prediction_label\"], \"val\")\n",
    "test_results = get_metrics(results_test_A_df[\"label\"], results_test_A_df[\"prediction_label\"], \"val\")\n"
   ]
  }
 ],
 "metadata": {
  "accelerator": "GPU",
  "colab": {
   "gpuType": "T4",
   "provenance": []
  },
  "kaggle": {
   "accelerator": "nvidiaTeslaT4",
   "dataSources": [
    {
     "datasetId": 8014436,
     "sourceId": 12681955,
     "sourceType": "datasetVersion"
    }
   ],
   "dockerImageVersionId": 31090,
   "isGpuEnabled": true,
   "isInternetEnabled": true,
   "language": "python",
   "sourceType": "notebook"
  },
  "kernelspec": {
   "display_name": "Python 3 (ipykernel)",
   "language": "python",
   "name": "python3"
  },
  "language_info": {
   "codemirror_mode": {
    "name": "ipython",
    "version": 3
   },
   "file_extension": ".py",
   "mimetype": "text/x-python",
   "name": "python",
   "nbconvert_exporter": "python",
   "pygments_lexer": "ipython3",
   "version": "3.11.6"
  },
  "widgets": {
   "application/vnd.jupyter.widget-state+json": {
    "063831e71f0c40048db79e340c4c18f2": {
     "model_module": "@jupyter-widgets/controls",
     "model_module_version": "1.5.0",
     "model_name": "FloatProgressModel",
     "state": {
      "_dom_classes": [],
      "_model_module": "@jupyter-widgets/controls",
      "_model_module_version": "1.5.0",
      "_model_name": "FloatProgressModel",
      "_view_count": null,
      "_view_module": "@jupyter-widgets/controls",
      "_view_module_version": "1.5.0",
      "_view_name": "ProgressView",
      "bar_style": "success",
      "description": "",
      "description_tooltip": null,
      "layout": "IPY_MODEL_c6f73ccbe582498f87b2d6376afc2a3a",
      "max": 60,
      "min": 0,
      "orientation": "horizontal",
      "style": "IPY_MODEL_65fbe393de6d4c94969b4f02daf0cd4d",
      "value": 60
     }
    },
    "08f24ff01d84466cb1379a2ee812c094": {
     "model_module": "@jupyter-widgets/base",
     "model_module_version": "1.2.0",
     "model_name": "LayoutModel",
     "state": {
      "_model_module": "@jupyter-widgets/base",
      "_model_module_version": "1.2.0",
      "_model_name": "LayoutModel",
      "_view_count": null,
      "_view_module": "@jupyter-widgets/base",
      "_view_module_version": "1.2.0",
      "_view_name": "LayoutView",
      "align_content": null,
      "align_items": null,
      "align_self": null,
      "border": null,
      "bottom": null,
      "display": null,
      "flex": null,
      "flex_flow": null,
      "grid_area": null,
      "grid_auto_columns": null,
      "grid_auto_flow": null,
      "grid_auto_rows": null,
      "grid_column": null,
      "grid_gap": null,
      "grid_row": null,
      "grid_template_areas": null,
      "grid_template_columns": null,
      "grid_template_rows": null,
      "height": null,
      "justify_content": null,
      "justify_items": null,
      "left": null,
      "margin": null,
      "max_height": null,
      "max_width": null,
      "min_height": null,
      "min_width": null,
      "object_fit": null,
      "object_position": null,
      "order": null,
      "overflow": null,
      "overflow_x": null,
      "overflow_y": null,
      "padding": null,
      "right": null,
      "top": null,
      "visibility": null,
      "width": null
     }
    },
    "113840af702445cdad8b5e7183a3fa2e": {
     "model_module": "@jupyter-widgets/controls",
     "model_module_version": "1.5.0",
     "model_name": "HTMLModel",
     "state": {
      "_dom_classes": [],
      "_model_module": "@jupyter-widgets/controls",
      "_model_module_version": "1.5.0",
      "_model_name": "HTMLModel",
      "_view_count": null,
      "_view_module": "@jupyter-widgets/controls",
      "_view_module_version": "1.5.0",
      "_view_name": "HTMLView",
      "description": "",
      "description_tooltip": null,
      "layout": "IPY_MODEL_af61ec3e5faf43e29446c0fa50d68150",
      "placeholder": "​",
      "style": "IPY_MODEL_11d967520eec46da838462e9c50074d7",
      "value": " 60/60 [00:00&lt;00:00, 290.05 examples/s]"
     }
    },
    "11d967520eec46da838462e9c50074d7": {
     "model_module": "@jupyter-widgets/controls",
     "model_module_version": "1.5.0",
     "model_name": "DescriptionStyleModel",
     "state": {
      "_model_module": "@jupyter-widgets/controls",
      "_model_module_version": "1.5.0",
      "_model_name": "DescriptionStyleModel",
      "_view_count": null,
      "_view_module": "@jupyter-widgets/base",
      "_view_module_version": "1.2.0",
      "_view_name": "StyleView",
      "description_width": ""
     }
    },
    "1c4f18f5eaa948f2a88f4f5de8435b96": {
     "model_module": "@jupyter-widgets/controls",
     "model_module_version": "1.5.0",
     "model_name": "HBoxModel",
     "state": {
      "_dom_classes": [],
      "_model_module": "@jupyter-widgets/controls",
      "_model_module_version": "1.5.0",
      "_model_name": "HBoxModel",
      "_view_count": null,
      "_view_module": "@jupyter-widgets/controls",
      "_view_module_version": "1.5.0",
      "_view_name": "HBoxView",
      "box_style": "",
      "children": [
       "IPY_MODEL_9960664d1e1b48369f7427a35648c428",
       "IPY_MODEL_c08f9dbd80734150bed5fbf3bd610eea",
       "IPY_MODEL_91c2114d7b014557b6f7558e9ac22226"
      ],
      "layout": "IPY_MODEL_81752dc9e51b49b79d147f30e407bb0d"
     }
    },
    "2078cf1aa65448b3bd87ef58077a253a": {
     "model_module": "@jupyter-widgets/controls",
     "model_module_version": "1.5.0",
     "model_name": "ProgressStyleModel",
     "state": {
      "_model_module": "@jupyter-widgets/controls",
      "_model_module_version": "1.5.0",
      "_model_name": "ProgressStyleModel",
      "_view_count": null,
      "_view_module": "@jupyter-widgets/base",
      "_view_module_version": "1.2.0",
      "_view_name": "StyleView",
      "bar_color": null,
      "description_width": ""
     }
    },
    "21fb6e69be744d3e9b98e1b522711d89": {
     "model_module": "@jupyter-widgets/controls",
     "model_module_version": "1.5.0",
     "model_name": "DescriptionStyleModel",
     "state": {
      "_model_module": "@jupyter-widgets/controls",
      "_model_module_version": "1.5.0",
      "_model_name": "DescriptionStyleModel",
      "_view_count": null,
      "_view_module": "@jupyter-widgets/base",
      "_view_module_version": "1.2.0",
      "_view_name": "StyleView",
      "description_width": ""
     }
    },
    "2d629ce2c4584ce59530bb367a66a520": {
     "model_module": "@jupyter-widgets/base",
     "model_module_version": "1.2.0",
     "model_name": "LayoutModel",
     "state": {
      "_model_module": "@jupyter-widgets/base",
      "_model_module_version": "1.2.0",
      "_model_name": "LayoutModel",
      "_view_count": null,
      "_view_module": "@jupyter-widgets/base",
      "_view_module_version": "1.2.0",
      "_view_name": "LayoutView",
      "align_content": null,
      "align_items": null,
      "align_self": null,
      "border": null,
      "bottom": null,
      "display": null,
      "flex": null,
      "flex_flow": null,
      "grid_area": null,
      "grid_auto_columns": null,
      "grid_auto_flow": null,
      "grid_auto_rows": null,
      "grid_column": null,
      "grid_gap": null,
      "grid_row": null,
      "grid_template_areas": null,
      "grid_template_columns": null,
      "grid_template_rows": null,
      "height": null,
      "justify_content": null,
      "justify_items": null,
      "left": null,
      "margin": null,
      "max_height": null,
      "max_width": null,
      "min_height": null,
      "min_width": null,
      "object_fit": null,
      "object_position": null,
      "order": null,
      "overflow": null,
      "overflow_x": null,
      "overflow_y": null,
      "padding": null,
      "right": null,
      "top": null,
      "visibility": null,
      "width": null
     }
    },
    "380ecf5f60284919b8b3e28c8fcb8cb3": {
     "model_module": "@jupyter-widgets/controls",
     "model_module_version": "1.5.0",
     "model_name": "DescriptionStyleModel",
     "state": {
      "_model_module": "@jupyter-widgets/controls",
      "_model_module_version": "1.5.0",
      "_model_name": "DescriptionStyleModel",
      "_view_count": null,
      "_view_module": "@jupyter-widgets/base",
      "_view_module_version": "1.2.0",
      "_view_name": "StyleView",
      "description_width": ""
     }
    },
    "3827160c78434ed984f85bfdaab631d6": {
     "model_module": "@jupyter-widgets/controls",
     "model_module_version": "1.5.0",
     "model_name": "HBoxModel",
     "state": {
      "_dom_classes": [],
      "_model_module": "@jupyter-widgets/controls",
      "_model_module_version": "1.5.0",
      "_model_name": "HBoxModel",
      "_view_count": null,
      "_view_module": "@jupyter-widgets/controls",
      "_view_module_version": "1.5.0",
      "_view_name": "HBoxView",
      "box_style": "",
      "children": [
       "IPY_MODEL_95088a70b1da48fbb11b37f882ce698f",
       "IPY_MODEL_063831e71f0c40048db79e340c4c18f2",
       "IPY_MODEL_113840af702445cdad8b5e7183a3fa2e"
      ],
      "layout": "IPY_MODEL_3b02dea8ced64298920b601141c70f46"
     }
    },
    "3b02dea8ced64298920b601141c70f46": {
     "model_module": "@jupyter-widgets/base",
     "model_module_version": "1.2.0",
     "model_name": "LayoutModel",
     "state": {
      "_model_module": "@jupyter-widgets/base",
      "_model_module_version": "1.2.0",
      "_model_name": "LayoutModel",
      "_view_count": null,
      "_view_module": "@jupyter-widgets/base",
      "_view_module_version": "1.2.0",
      "_view_name": "LayoutView",
      "align_content": null,
      "align_items": null,
      "align_self": null,
      "border": null,
      "bottom": null,
      "display": null,
      "flex": null,
      "flex_flow": null,
      "grid_area": null,
      "grid_auto_columns": null,
      "grid_auto_flow": null,
      "grid_auto_rows": null,
      "grid_column": null,
      "grid_gap": null,
      "grid_row": null,
      "grid_template_areas": null,
      "grid_template_columns": null,
      "grid_template_rows": null,
      "height": null,
      "justify_content": null,
      "justify_items": null,
      "left": null,
      "margin": null,
      "max_height": null,
      "max_width": null,
      "min_height": null,
      "min_width": null,
      "object_fit": null,
      "object_position": null,
      "order": null,
      "overflow": null,
      "overflow_x": null,
      "overflow_y": null,
      "padding": null,
      "right": null,
      "top": null,
      "visibility": null,
      "width": null
     }
    },
    "421f8b4a35b64aa29b02893c243afcf6": {
     "model_module": "@jupyter-widgets/base",
     "model_module_version": "1.2.0",
     "model_name": "LayoutModel",
     "state": {
      "_model_module": "@jupyter-widgets/base",
      "_model_module_version": "1.2.0",
      "_model_name": "LayoutModel",
      "_view_count": null,
      "_view_module": "@jupyter-widgets/base",
      "_view_module_version": "1.2.0",
      "_view_name": "LayoutView",
      "align_content": null,
      "align_items": null,
      "align_self": null,
      "border": null,
      "bottom": null,
      "display": null,
      "flex": null,
      "flex_flow": null,
      "grid_area": null,
      "grid_auto_columns": null,
      "grid_auto_flow": null,
      "grid_auto_rows": null,
      "grid_column": null,
      "grid_gap": null,
      "grid_row": null,
      "grid_template_areas": null,
      "grid_template_columns": null,
      "grid_template_rows": null,
      "height": null,
      "justify_content": null,
      "justify_items": null,
      "left": null,
      "margin": null,
      "max_height": null,
      "max_width": null,
      "min_height": null,
      "min_width": null,
      "object_fit": null,
      "object_position": null,
      "order": null,
      "overflow": null,
      "overflow_x": null,
      "overflow_y": null,
      "padding": null,
      "right": null,
      "top": null,
      "visibility": null,
      "width": null
     }
    },
    "4f7d83b11187462cb85f912ce147ae33": {
     "model_module": "@jupyter-widgets/controls",
     "model_module_version": "1.5.0",
     "model_name": "DescriptionStyleModel",
     "state": {
      "_model_module": "@jupyter-widgets/controls",
      "_model_module_version": "1.5.0",
      "_model_name": "DescriptionStyleModel",
      "_view_count": null,
      "_view_module": "@jupyter-widgets/base",
      "_view_module_version": "1.2.0",
      "_view_name": "StyleView",
      "description_width": ""
     }
    },
    "51e9de3ef2ec47ff9608f9e91abd09ce": {
     "model_module": "@jupyter-widgets/base",
     "model_module_version": "1.2.0",
     "model_name": "LayoutModel",
     "state": {
      "_model_module": "@jupyter-widgets/base",
      "_model_module_version": "1.2.0",
      "_model_name": "LayoutModel",
      "_view_count": null,
      "_view_module": "@jupyter-widgets/base",
      "_view_module_version": "1.2.0",
      "_view_name": "LayoutView",
      "align_content": null,
      "align_items": null,
      "align_self": null,
      "border": null,
      "bottom": null,
      "display": null,
      "flex": null,
      "flex_flow": null,
      "grid_area": null,
      "grid_auto_columns": null,
      "grid_auto_flow": null,
      "grid_auto_rows": null,
      "grid_column": null,
      "grid_gap": null,
      "grid_row": null,
      "grid_template_areas": null,
      "grid_template_columns": null,
      "grid_template_rows": null,
      "height": null,
      "justify_content": null,
      "justify_items": null,
      "left": null,
      "margin": null,
      "max_height": null,
      "max_width": null,
      "min_height": null,
      "min_width": null,
      "object_fit": null,
      "object_position": null,
      "order": null,
      "overflow": null,
      "overflow_x": null,
      "overflow_y": null,
      "padding": null,
      "right": null,
      "top": null,
      "visibility": null,
      "width": null
     }
    },
    "5214d01cc78f4f72b8a243a4861ad36d": {
     "model_module": "@jupyter-widgets/base",
     "model_module_version": "1.2.0",
     "model_name": "LayoutModel",
     "state": {
      "_model_module": "@jupyter-widgets/base",
      "_model_module_version": "1.2.0",
      "_model_name": "LayoutModel",
      "_view_count": null,
      "_view_module": "@jupyter-widgets/base",
      "_view_module_version": "1.2.0",
      "_view_name": "LayoutView",
      "align_content": null,
      "align_items": null,
      "align_self": null,
      "border": null,
      "bottom": null,
      "display": null,
      "flex": null,
      "flex_flow": null,
      "grid_area": null,
      "grid_auto_columns": null,
      "grid_auto_flow": null,
      "grid_auto_rows": null,
      "grid_column": null,
      "grid_gap": null,
      "grid_row": null,
      "grid_template_areas": null,
      "grid_template_columns": null,
      "grid_template_rows": null,
      "height": null,
      "justify_content": null,
      "justify_items": null,
      "left": null,
      "margin": null,
      "max_height": null,
      "max_width": null,
      "min_height": null,
      "min_width": null,
      "object_fit": null,
      "object_position": null,
      "order": null,
      "overflow": null,
      "overflow_x": null,
      "overflow_y": null,
      "padding": null,
      "right": null,
      "top": null,
      "visibility": null,
      "width": null
     }
    },
    "53ae4c38ddbf43958eade1be9965b5bd": {
     "model_module": "@jupyter-widgets/controls",
     "model_module_version": "1.5.0",
     "model_name": "ProgressStyleModel",
     "state": {
      "_model_module": "@jupyter-widgets/controls",
      "_model_module_version": "1.5.0",
      "_model_name": "ProgressStyleModel",
      "_view_count": null,
      "_view_module": "@jupyter-widgets/base",
      "_view_module_version": "1.2.0",
      "_view_name": "StyleView",
      "bar_color": null,
      "description_width": ""
     }
    },
    "5931061451994342921f8495030207e9": {
     "model_module": "@jupyter-widgets/controls",
     "model_module_version": "1.5.0",
     "model_name": "ProgressStyleModel",
     "state": {
      "_model_module": "@jupyter-widgets/controls",
      "_model_module_version": "1.5.0",
      "_model_name": "ProgressStyleModel",
      "_view_count": null,
      "_view_module": "@jupyter-widgets/base",
      "_view_module_version": "1.2.0",
      "_view_name": "StyleView",
      "bar_color": null,
      "description_width": ""
     }
    },
    "59f07f1d31904cb781d8b7e997507a87": {
     "model_module": "@jupyter-widgets/controls",
     "model_module_version": "1.5.0",
     "model_name": "DescriptionStyleModel",
     "state": {
      "_model_module": "@jupyter-widgets/controls",
      "_model_module_version": "1.5.0",
      "_model_name": "DescriptionStyleModel",
      "_view_count": null,
      "_view_module": "@jupyter-widgets/base",
      "_view_module_version": "1.2.0",
      "_view_name": "StyleView",
      "description_width": ""
     }
    },
    "5a18a8608e0b4874b2147a8c4179f4ec": {
     "model_module": "@jupyter-widgets/controls",
     "model_module_version": "1.5.0",
     "model_name": "HBoxModel",
     "state": {
      "_dom_classes": [],
      "_model_module": "@jupyter-widgets/controls",
      "_model_module_version": "1.5.0",
      "_model_name": "HBoxModel",
      "_view_count": null,
      "_view_module": "@jupyter-widgets/controls",
      "_view_module_version": "1.5.0",
      "_view_name": "HBoxView",
      "box_style": "",
      "children": [
       "IPY_MODEL_f81db139a4d44fa89133f78c062537fa",
       "IPY_MODEL_5ab9d8e85b5b4de196a01d0a7a07d5dd",
       "IPY_MODEL_6cd0f87dad9a444daf182e209dfb23c5"
      ],
      "layout": "IPY_MODEL_5214d01cc78f4f72b8a243a4861ad36d"
     }
    },
    "5ab9d8e85b5b4de196a01d0a7a07d5dd": {
     "model_module": "@jupyter-widgets/controls",
     "model_module_version": "1.5.0",
     "model_name": "FloatProgressModel",
     "state": {
      "_dom_classes": [],
      "_model_module": "@jupyter-widgets/controls",
      "_model_module_version": "1.5.0",
      "_model_name": "FloatProgressModel",
      "_view_count": null,
      "_view_module": "@jupyter-widgets/controls",
      "_view_module_version": "1.5.0",
      "_view_name": "ProgressView",
      "bar_style": "success",
      "description": "",
      "description_tooltip": null,
      "layout": "IPY_MODEL_789732f7667648b595d730352d32bc9f",
      "max": 36117,
      "min": 0,
      "orientation": "horizontal",
      "style": "IPY_MODEL_b44b6fb0b28c4a3b98d4c87259e6a10c",
      "value": 36117
     }
    },
    "5e1aeb226fe74bf9982192cf0675d42d": {
     "model_module": "@jupyter-widgets/controls",
     "model_module_version": "1.5.0",
     "model_name": "DescriptionStyleModel",
     "state": {
      "_model_module": "@jupyter-widgets/controls",
      "_model_module_version": "1.5.0",
      "_model_name": "DescriptionStyleModel",
      "_view_count": null,
      "_view_module": "@jupyter-widgets/base",
      "_view_module_version": "1.2.0",
      "_view_name": "StyleView",
      "description_width": ""
     }
    },
    "63fd357087194ac2857966dc11688bb2": {
     "model_module": "@jupyter-widgets/base",
     "model_module_version": "1.2.0",
     "model_name": "LayoutModel",
     "state": {
      "_model_module": "@jupyter-widgets/base",
      "_model_module_version": "1.2.0",
      "_model_name": "LayoutModel",
      "_view_count": null,
      "_view_module": "@jupyter-widgets/base",
      "_view_module_version": "1.2.0",
      "_view_name": "LayoutView",
      "align_content": null,
      "align_items": null,
      "align_self": null,
      "border": null,
      "bottom": null,
      "display": null,
      "flex": null,
      "flex_flow": null,
      "grid_area": null,
      "grid_auto_columns": null,
      "grid_auto_flow": null,
      "grid_auto_rows": null,
      "grid_column": null,
      "grid_gap": null,
      "grid_row": null,
      "grid_template_areas": null,
      "grid_template_columns": null,
      "grid_template_rows": null,
      "height": null,
      "justify_content": null,
      "justify_items": null,
      "left": null,
      "margin": null,
      "max_height": null,
      "max_width": null,
      "min_height": null,
      "min_width": null,
      "object_fit": null,
      "object_position": null,
      "order": null,
      "overflow": null,
      "overflow_x": null,
      "overflow_y": null,
      "padding": null,
      "right": null,
      "top": null,
      "visibility": null,
      "width": null
     }
    },
    "65fbe393de6d4c94969b4f02daf0cd4d": {
     "model_module": "@jupyter-widgets/controls",
     "model_module_version": "1.5.0",
     "model_name": "ProgressStyleModel",
     "state": {
      "_model_module": "@jupyter-widgets/controls",
      "_model_module_version": "1.5.0",
      "_model_name": "ProgressStyleModel",
      "_view_count": null,
      "_view_module": "@jupyter-widgets/base",
      "_view_module_version": "1.2.0",
      "_view_name": "StyleView",
      "bar_color": null,
      "description_width": ""
     }
    },
    "6cd0f87dad9a444daf182e209dfb23c5": {
     "model_module": "@jupyter-widgets/controls",
     "model_module_version": "1.5.0",
     "model_name": "HTMLModel",
     "state": {
      "_dom_classes": [],
      "_model_module": "@jupyter-widgets/controls",
      "_model_module_version": "1.5.0",
      "_model_name": "HTMLModel",
      "_view_count": null,
      "_view_module": "@jupyter-widgets/controls",
      "_view_module_version": "1.5.0",
      "_view_name": "HTMLView",
      "description": "",
      "description_tooltip": null,
      "layout": "IPY_MODEL_2d629ce2c4584ce59530bb367a66a520",
      "placeholder": "​",
      "style": "IPY_MODEL_4f7d83b11187462cb85f912ce147ae33",
      "value": " 36117/36117 [00:02&lt;00:00, 13099.08 examples/s]"
     }
    },
    "6ea7f3cbdbc448bca593a0d320681993": {
     "model_module": "@jupyter-widgets/base",
     "model_module_version": "1.2.0",
     "model_name": "LayoutModel",
     "state": {
      "_model_module": "@jupyter-widgets/base",
      "_model_module_version": "1.2.0",
      "_model_name": "LayoutModel",
      "_view_count": null,
      "_view_module": "@jupyter-widgets/base",
      "_view_module_version": "1.2.0",
      "_view_name": "LayoutView",
      "align_content": null,
      "align_items": null,
      "align_self": null,
      "border": null,
      "bottom": null,
      "display": null,
      "flex": null,
      "flex_flow": null,
      "grid_area": null,
      "grid_auto_columns": null,
      "grid_auto_flow": null,
      "grid_auto_rows": null,
      "grid_column": null,
      "grid_gap": null,
      "grid_row": null,
      "grid_template_areas": null,
      "grid_template_columns": null,
      "grid_template_rows": null,
      "height": null,
      "justify_content": null,
      "justify_items": null,
      "left": null,
      "margin": null,
      "max_height": null,
      "max_width": null,
      "min_height": null,
      "min_width": null,
      "object_fit": null,
      "object_position": null,
      "order": null,
      "overflow": null,
      "overflow_x": null,
      "overflow_y": null,
      "padding": null,
      "right": null,
      "top": null,
      "visibility": null,
      "width": null
     }
    },
    "73f34ed7d59641c4ac8551101cfe88f9": {
     "model_module": "@jupyter-widgets/controls",
     "model_module_version": "1.5.0",
     "model_name": "HTMLModel",
     "state": {
      "_dom_classes": [],
      "_model_module": "@jupyter-widgets/controls",
      "_model_module_version": "1.5.0",
      "_model_name": "HTMLModel",
      "_view_count": null,
      "_view_module": "@jupyter-widgets/controls",
      "_view_module_version": "1.5.0",
      "_view_name": "HTMLView",
      "description": "",
      "description_tooltip": null,
      "layout": "IPY_MODEL_bd7d4a6adb314d6eb6d5868aca611f25",
      "placeholder": "​",
      "style": "IPY_MODEL_d15edfea5c54436c8745daec6e090679",
      "value": "Map: 100%"
     }
    },
    "789732f7667648b595d730352d32bc9f": {
     "model_module": "@jupyter-widgets/base",
     "model_module_version": "1.2.0",
     "model_name": "LayoutModel",
     "state": {
      "_model_module": "@jupyter-widgets/base",
      "_model_module_version": "1.2.0",
      "_model_name": "LayoutModel",
      "_view_count": null,
      "_view_module": "@jupyter-widgets/base",
      "_view_module_version": "1.2.0",
      "_view_name": "LayoutView",
      "align_content": null,
      "align_items": null,
      "align_self": null,
      "border": null,
      "bottom": null,
      "display": null,
      "flex": null,
      "flex_flow": null,
      "grid_area": null,
      "grid_auto_columns": null,
      "grid_auto_flow": null,
      "grid_auto_rows": null,
      "grid_column": null,
      "grid_gap": null,
      "grid_row": null,
      "grid_template_areas": null,
      "grid_template_columns": null,
      "grid_template_rows": null,
      "height": null,
      "justify_content": null,
      "justify_items": null,
      "left": null,
      "margin": null,
      "max_height": null,
      "max_width": null,
      "min_height": null,
      "min_width": null,
      "object_fit": null,
      "object_position": null,
      "order": null,
      "overflow": null,
      "overflow_x": null,
      "overflow_y": null,
      "padding": null,
      "right": null,
      "top": null,
      "visibility": null,
      "width": null
     }
    },
    "81752dc9e51b49b79d147f30e407bb0d": {
     "model_module": "@jupyter-widgets/base",
     "model_module_version": "1.2.0",
     "model_name": "LayoutModel",
     "state": {
      "_model_module": "@jupyter-widgets/base",
      "_model_module_version": "1.2.0",
      "_model_name": "LayoutModel",
      "_view_count": null,
      "_view_module": "@jupyter-widgets/base",
      "_view_module_version": "1.2.0",
      "_view_name": "LayoutView",
      "align_content": null,
      "align_items": null,
      "align_self": null,
      "border": null,
      "bottom": null,
      "display": null,
      "flex": null,
      "flex_flow": null,
      "grid_area": null,
      "grid_auto_columns": null,
      "grid_auto_flow": null,
      "grid_auto_rows": null,
      "grid_column": null,
      "grid_gap": null,
      "grid_row": null,
      "grid_template_areas": null,
      "grid_template_columns": null,
      "grid_template_rows": null,
      "height": null,
      "justify_content": null,
      "justify_items": null,
      "left": null,
      "margin": null,
      "max_height": null,
      "max_width": null,
      "min_height": null,
      "min_width": null,
      "object_fit": null,
      "object_position": null,
      "order": null,
      "overflow": null,
      "overflow_x": null,
      "overflow_y": null,
      "padding": null,
      "right": null,
      "top": null,
      "visibility": null,
      "width": null
     }
    },
    "86791250ae264b4f95ec0d38c2e7a372": {
     "model_module": "@jupyter-widgets/controls",
     "model_module_version": "1.5.0",
     "model_name": "HBoxModel",
     "state": {
      "_dom_classes": [],
      "_model_module": "@jupyter-widgets/controls",
      "_model_module_version": "1.5.0",
      "_model_name": "HBoxModel",
      "_view_count": null,
      "_view_module": "@jupyter-widgets/controls",
      "_view_module_version": "1.5.0",
      "_view_name": "HBoxView",
      "box_style": "",
      "children": [
       "IPY_MODEL_73f34ed7d59641c4ac8551101cfe88f9",
       "IPY_MODEL_ee6953e798bb46ebaee43099e81e419e",
       "IPY_MODEL_f7afc93c60db4b0d917844593637d6f3"
      ],
      "layout": "IPY_MODEL_efc8803428614d50bd9ff83c556aff98"
     }
    },
    "88fcf138b2ac439ab6ca1eec7b417719": {
     "model_module": "@jupyter-widgets/base",
     "model_module_version": "1.2.0",
     "model_name": "LayoutModel",
     "state": {
      "_model_module": "@jupyter-widgets/base",
      "_model_module_version": "1.2.0",
      "_model_name": "LayoutModel",
      "_view_count": null,
      "_view_module": "@jupyter-widgets/base",
      "_view_module_version": "1.2.0",
      "_view_name": "LayoutView",
      "align_content": null,
      "align_items": null,
      "align_self": null,
      "border": null,
      "bottom": null,
      "display": null,
      "flex": null,
      "flex_flow": null,
      "grid_area": null,
      "grid_auto_columns": null,
      "grid_auto_flow": null,
      "grid_auto_rows": null,
      "grid_column": null,
      "grid_gap": null,
      "grid_row": null,
      "grid_template_areas": null,
      "grid_template_columns": null,
      "grid_template_rows": null,
      "height": null,
      "justify_content": null,
      "justify_items": null,
      "left": null,
      "margin": null,
      "max_height": null,
      "max_width": null,
      "min_height": null,
      "min_width": null,
      "object_fit": null,
      "object_position": null,
      "order": null,
      "overflow": null,
      "overflow_x": null,
      "overflow_y": null,
      "padding": null,
      "right": null,
      "top": null,
      "visibility": null,
      "width": null
     }
    },
    "8dc84cd0058746538195c54da457196f": {
     "model_module": "@jupyter-widgets/controls",
     "model_module_version": "1.5.0",
     "model_name": "HTMLModel",
     "state": {
      "_dom_classes": [],
      "_model_module": "@jupyter-widgets/controls",
      "_model_module_version": "1.5.0",
      "_model_name": "HTMLModel",
      "_view_count": null,
      "_view_module": "@jupyter-widgets/controls",
      "_view_module_version": "1.5.0",
      "_view_name": "HTMLView",
      "description": "",
      "description_tooltip": null,
      "layout": "IPY_MODEL_9fe2262ba59442f0af625b79352f52d5",
      "placeholder": "​",
      "style": "IPY_MODEL_5e1aeb226fe74bf9982192cf0675d42d",
      "value": "Map: 100%"
     }
    },
    "909c4950fa0b4484ae7265fdb4f9a940": {
     "model_module": "@jupyter-widgets/controls",
     "model_module_version": "1.5.0",
     "model_name": "FloatProgressModel",
     "state": {
      "_dom_classes": [],
      "_model_module": "@jupyter-widgets/controls",
      "_model_module_version": "1.5.0",
      "_model_name": "FloatProgressModel",
      "_view_count": null,
      "_view_module": "@jupyter-widgets/controls",
      "_view_module_version": "1.5.0",
      "_view_name": "ProgressView",
      "bar_style": "success",
      "description": "",
      "description_tooltip": null,
      "layout": "IPY_MODEL_ce7ff5de58734d40bafabbc99cbc75ee",
      "max": 5418,
      "min": 0,
      "orientation": "horizontal",
      "style": "IPY_MODEL_5931061451994342921f8495030207e9",
      "value": 5418
     }
    },
    "91c2114d7b014557b6f7558e9ac22226": {
     "model_module": "@jupyter-widgets/controls",
     "model_module_version": "1.5.0",
     "model_name": "HTMLModel",
     "state": {
      "_dom_classes": [],
      "_model_module": "@jupyter-widgets/controls",
      "_model_module_version": "1.5.0",
      "_model_name": "HTMLModel",
      "_view_count": null,
      "_view_module": "@jupyter-widgets/controls",
      "_view_module_version": "1.5.0",
      "_view_name": "HTMLView",
      "description": "",
      "description_tooltip": null,
      "layout": "IPY_MODEL_6ea7f3cbdbc448bca593a0d320681993",
      "placeholder": "​",
      "style": "IPY_MODEL_59f07f1d31904cb781d8b7e997507a87",
      "value": " 10/10 [00:00&lt;00:00, 149.36 examples/s]"
     }
    },
    "95088a70b1da48fbb11b37f882ce698f": {
     "model_module": "@jupyter-widgets/controls",
     "model_module_version": "1.5.0",
     "model_name": "HTMLModel",
     "state": {
      "_dom_classes": [],
      "_model_module": "@jupyter-widgets/controls",
      "_model_module_version": "1.5.0",
      "_model_name": "HTMLModel",
      "_view_count": null,
      "_view_module": "@jupyter-widgets/controls",
      "_view_module_version": "1.5.0",
      "_view_name": "HTMLView",
      "description": "",
      "description_tooltip": null,
      "layout": "IPY_MODEL_421f8b4a35b64aa29b02893c243afcf6",
      "placeholder": "​",
      "style": "IPY_MODEL_21fb6e69be744d3e9b98e1b522711d89",
      "value": "Map: 100%"
     }
    },
    "9732bfd00f944cf5974c1a5bcf9a4fbb": {
     "model_module": "@jupyter-widgets/controls",
     "model_module_version": "1.5.0",
     "model_name": "HBoxModel",
     "state": {
      "_dom_classes": [],
      "_model_module": "@jupyter-widgets/controls",
      "_model_module_version": "1.5.0",
      "_model_name": "HBoxModel",
      "_view_count": null,
      "_view_module": "@jupyter-widgets/controls",
      "_view_module_version": "1.5.0",
      "_view_name": "HBoxView",
      "box_style": "",
      "children": [
       "IPY_MODEL_8dc84cd0058746538195c54da457196f",
       "IPY_MODEL_909c4950fa0b4484ae7265fdb4f9a940",
       "IPY_MODEL_e3089dd334214893b1a54e6fa596ac49"
      ],
      "layout": "IPY_MODEL_08f24ff01d84466cb1379a2ee812c094"
     }
    },
    "9960664d1e1b48369f7427a35648c428": {
     "model_module": "@jupyter-widgets/controls",
     "model_module_version": "1.5.0",
     "model_name": "HTMLModel",
     "state": {
      "_dom_classes": [],
      "_model_module": "@jupyter-widgets/controls",
      "_model_module_version": "1.5.0",
      "_model_name": "HTMLModel",
      "_view_count": null,
      "_view_module": "@jupyter-widgets/controls",
      "_view_module_version": "1.5.0",
      "_view_name": "HTMLView",
      "description": "",
      "description_tooltip": null,
      "layout": "IPY_MODEL_f6a7045d9a2d477faa4bb8c8fa848c4b",
      "placeholder": "​",
      "style": "IPY_MODEL_e58008c959dc44c787282a44dc14f7a7",
      "value": "Map: 100%"
     }
    },
    "9fe2262ba59442f0af625b79352f52d5": {
     "model_module": "@jupyter-widgets/base",
     "model_module_version": "1.2.0",
     "model_name": "LayoutModel",
     "state": {
      "_model_module": "@jupyter-widgets/base",
      "_model_module_version": "1.2.0",
      "_model_name": "LayoutModel",
      "_view_count": null,
      "_view_module": "@jupyter-widgets/base",
      "_view_module_version": "1.2.0",
      "_view_name": "LayoutView",
      "align_content": null,
      "align_items": null,
      "align_self": null,
      "border": null,
      "bottom": null,
      "display": null,
      "flex": null,
      "flex_flow": null,
      "grid_area": null,
      "grid_auto_columns": null,
      "grid_auto_flow": null,
      "grid_auto_rows": null,
      "grid_column": null,
      "grid_gap": null,
      "grid_row": null,
      "grid_template_areas": null,
      "grid_template_columns": null,
      "grid_template_rows": null,
      "height": null,
      "justify_content": null,
      "justify_items": null,
      "left": null,
      "margin": null,
      "max_height": null,
      "max_width": null,
      "min_height": null,
      "min_width": null,
      "object_fit": null,
      "object_position": null,
      "order": null,
      "overflow": null,
      "overflow_x": null,
      "overflow_y": null,
      "padding": null,
      "right": null,
      "top": null,
      "visibility": null,
      "width": null
     }
    },
    "af61ec3e5faf43e29446c0fa50d68150": {
     "model_module": "@jupyter-widgets/base",
     "model_module_version": "1.2.0",
     "model_name": "LayoutModel",
     "state": {
      "_model_module": "@jupyter-widgets/base",
      "_model_module_version": "1.2.0",
      "_model_name": "LayoutModel",
      "_view_count": null,
      "_view_module": "@jupyter-widgets/base",
      "_view_module_version": "1.2.0",
      "_view_name": "LayoutView",
      "align_content": null,
      "align_items": null,
      "align_self": null,
      "border": null,
      "bottom": null,
      "display": null,
      "flex": null,
      "flex_flow": null,
      "grid_area": null,
      "grid_auto_columns": null,
      "grid_auto_flow": null,
      "grid_auto_rows": null,
      "grid_column": null,
      "grid_gap": null,
      "grid_row": null,
      "grid_template_areas": null,
      "grid_template_columns": null,
      "grid_template_rows": null,
      "height": null,
      "justify_content": null,
      "justify_items": null,
      "left": null,
      "margin": null,
      "max_height": null,
      "max_width": null,
      "min_height": null,
      "min_width": null,
      "object_fit": null,
      "object_position": null,
      "order": null,
      "overflow": null,
      "overflow_x": null,
      "overflow_y": null,
      "padding": null,
      "right": null,
      "top": null,
      "visibility": null,
      "width": null
     }
    },
    "b1d5a8acff4e477587a9bdcdff53928f": {
     "model_module": "@jupyter-widgets/base",
     "model_module_version": "1.2.0",
     "model_name": "LayoutModel",
     "state": {
      "_model_module": "@jupyter-widgets/base",
      "_model_module_version": "1.2.0",
      "_model_name": "LayoutModel",
      "_view_count": null,
      "_view_module": "@jupyter-widgets/base",
      "_view_module_version": "1.2.0",
      "_view_name": "LayoutView",
      "align_content": null,
      "align_items": null,
      "align_self": null,
      "border": null,
      "bottom": null,
      "display": null,
      "flex": null,
      "flex_flow": null,
      "grid_area": null,
      "grid_auto_columns": null,
      "grid_auto_flow": null,
      "grid_auto_rows": null,
      "grid_column": null,
      "grid_gap": null,
      "grid_row": null,
      "grid_template_areas": null,
      "grid_template_columns": null,
      "grid_template_rows": null,
      "height": null,
      "justify_content": null,
      "justify_items": null,
      "left": null,
      "margin": null,
      "max_height": null,
      "max_width": null,
      "min_height": null,
      "min_width": null,
      "object_fit": null,
      "object_position": null,
      "order": null,
      "overflow": null,
      "overflow_x": null,
      "overflow_y": null,
      "padding": null,
      "right": null,
      "top": null,
      "visibility": null,
      "width": null
     }
    },
    "b44b6fb0b28c4a3b98d4c87259e6a10c": {
     "model_module": "@jupyter-widgets/controls",
     "model_module_version": "1.5.0",
     "model_name": "ProgressStyleModel",
     "state": {
      "_model_module": "@jupyter-widgets/controls",
      "_model_module_version": "1.5.0",
      "_model_name": "ProgressStyleModel",
      "_view_count": null,
      "_view_module": "@jupyter-widgets/base",
      "_view_module_version": "1.2.0",
      "_view_name": "StyleView",
      "bar_color": null,
      "description_width": ""
     }
    },
    "b79dc6e0bccd40d2819a7bf04a7984f8": {
     "model_module": "@jupyter-widgets/base",
     "model_module_version": "1.2.0",
     "model_name": "LayoutModel",
     "state": {
      "_model_module": "@jupyter-widgets/base",
      "_model_module_version": "1.2.0",
      "_model_name": "LayoutModel",
      "_view_count": null,
      "_view_module": "@jupyter-widgets/base",
      "_view_module_version": "1.2.0",
      "_view_name": "LayoutView",
      "align_content": null,
      "align_items": null,
      "align_self": null,
      "border": null,
      "bottom": null,
      "display": null,
      "flex": null,
      "flex_flow": null,
      "grid_area": null,
      "grid_auto_columns": null,
      "grid_auto_flow": null,
      "grid_auto_rows": null,
      "grid_column": null,
      "grid_gap": null,
      "grid_row": null,
      "grid_template_areas": null,
      "grid_template_columns": null,
      "grid_template_rows": null,
      "height": null,
      "justify_content": null,
      "justify_items": null,
      "left": null,
      "margin": null,
      "max_height": null,
      "max_width": null,
      "min_height": null,
      "min_width": null,
      "object_fit": null,
      "object_position": null,
      "order": null,
      "overflow": null,
      "overflow_x": null,
      "overflow_y": null,
      "padding": null,
      "right": null,
      "top": null,
      "visibility": null,
      "width": null
     }
    },
    "bd7d4a6adb314d6eb6d5868aca611f25": {
     "model_module": "@jupyter-widgets/base",
     "model_module_version": "1.2.0",
     "model_name": "LayoutModel",
     "state": {
      "_model_module": "@jupyter-widgets/base",
      "_model_module_version": "1.2.0",
      "_model_name": "LayoutModel",
      "_view_count": null,
      "_view_module": "@jupyter-widgets/base",
      "_view_module_version": "1.2.0",
      "_view_name": "LayoutView",
      "align_content": null,
      "align_items": null,
      "align_self": null,
      "border": null,
      "bottom": null,
      "display": null,
      "flex": null,
      "flex_flow": null,
      "grid_area": null,
      "grid_auto_columns": null,
      "grid_auto_flow": null,
      "grid_auto_rows": null,
      "grid_column": null,
      "grid_gap": null,
      "grid_row": null,
      "grid_template_areas": null,
      "grid_template_columns": null,
      "grid_template_rows": null,
      "height": null,
      "justify_content": null,
      "justify_items": null,
      "left": null,
      "margin": null,
      "max_height": null,
      "max_width": null,
      "min_height": null,
      "min_width": null,
      "object_fit": null,
      "object_position": null,
      "order": null,
      "overflow": null,
      "overflow_x": null,
      "overflow_y": null,
      "padding": null,
      "right": null,
      "top": null,
      "visibility": null,
      "width": null
     }
    },
    "c08f9dbd80734150bed5fbf3bd610eea": {
     "model_module": "@jupyter-widgets/controls",
     "model_module_version": "1.5.0",
     "model_name": "FloatProgressModel",
     "state": {
      "_dom_classes": [],
      "_model_module": "@jupyter-widgets/controls",
      "_model_module_version": "1.5.0",
      "_model_name": "FloatProgressModel",
      "_view_count": null,
      "_view_module": "@jupyter-widgets/controls",
      "_view_module_version": "1.5.0",
      "_view_name": "ProgressView",
      "bar_style": "success",
      "description": "",
      "description_tooltip": null,
      "layout": "IPY_MODEL_b79dc6e0bccd40d2819a7bf04a7984f8",
      "max": 10,
      "min": 0,
      "orientation": "horizontal",
      "style": "IPY_MODEL_2078cf1aa65448b3bd87ef58077a253a",
      "value": 10
     }
    },
    "c281abb94bca41b48a2741256db3bb74": {
     "model_module": "@jupyter-widgets/controls",
     "model_module_version": "1.5.0",
     "model_name": "DescriptionStyleModel",
     "state": {
      "_model_module": "@jupyter-widgets/controls",
      "_model_module_version": "1.5.0",
      "_model_name": "DescriptionStyleModel",
      "_view_count": null,
      "_view_module": "@jupyter-widgets/base",
      "_view_module_version": "1.2.0",
      "_view_name": "StyleView",
      "description_width": ""
     }
    },
    "c6f73ccbe582498f87b2d6376afc2a3a": {
     "model_module": "@jupyter-widgets/base",
     "model_module_version": "1.2.0",
     "model_name": "LayoutModel",
     "state": {
      "_model_module": "@jupyter-widgets/base",
      "_model_module_version": "1.2.0",
      "_model_name": "LayoutModel",
      "_view_count": null,
      "_view_module": "@jupyter-widgets/base",
      "_view_module_version": "1.2.0",
      "_view_name": "LayoutView",
      "align_content": null,
      "align_items": null,
      "align_self": null,
      "border": null,
      "bottom": null,
      "display": null,
      "flex": null,
      "flex_flow": null,
      "grid_area": null,
      "grid_auto_columns": null,
      "grid_auto_flow": null,
      "grid_auto_rows": null,
      "grid_column": null,
      "grid_gap": null,
      "grid_row": null,
      "grid_template_areas": null,
      "grid_template_columns": null,
      "grid_template_rows": null,
      "height": null,
      "justify_content": null,
      "justify_items": null,
      "left": null,
      "margin": null,
      "max_height": null,
      "max_width": null,
      "min_height": null,
      "min_width": null,
      "object_fit": null,
      "object_position": null,
      "order": null,
      "overflow": null,
      "overflow_x": null,
      "overflow_y": null,
      "padding": null,
      "right": null,
      "top": null,
      "visibility": null,
      "width": null
     }
    },
    "ce7ff5de58734d40bafabbc99cbc75ee": {
     "model_module": "@jupyter-widgets/base",
     "model_module_version": "1.2.0",
     "model_name": "LayoutModel",
     "state": {
      "_model_module": "@jupyter-widgets/base",
      "_model_module_version": "1.2.0",
      "_model_name": "LayoutModel",
      "_view_count": null,
      "_view_module": "@jupyter-widgets/base",
      "_view_module_version": "1.2.0",
      "_view_name": "LayoutView",
      "align_content": null,
      "align_items": null,
      "align_self": null,
      "border": null,
      "bottom": null,
      "display": null,
      "flex": null,
      "flex_flow": null,
      "grid_area": null,
      "grid_auto_columns": null,
      "grid_auto_flow": null,
      "grid_auto_rows": null,
      "grid_column": null,
      "grid_gap": null,
      "grid_row": null,
      "grid_template_areas": null,
      "grid_template_columns": null,
      "grid_template_rows": null,
      "height": null,
      "justify_content": null,
      "justify_items": null,
      "left": null,
      "margin": null,
      "max_height": null,
      "max_width": null,
      "min_height": null,
      "min_width": null,
      "object_fit": null,
      "object_position": null,
      "order": null,
      "overflow": null,
      "overflow_x": null,
      "overflow_y": null,
      "padding": null,
      "right": null,
      "top": null,
      "visibility": null,
      "width": null
     }
    },
    "d01434e07f4a47b5a941118285e4529b": {
     "model_module": "@jupyter-widgets/controls",
     "model_module_version": "1.5.0",
     "model_name": "DescriptionStyleModel",
     "state": {
      "_model_module": "@jupyter-widgets/controls",
      "_model_module_version": "1.5.0",
      "_model_name": "DescriptionStyleModel",
      "_view_count": null,
      "_view_module": "@jupyter-widgets/base",
      "_view_module_version": "1.2.0",
      "_view_name": "StyleView",
      "description_width": ""
     }
    },
    "d15edfea5c54436c8745daec6e090679": {
     "model_module": "@jupyter-widgets/controls",
     "model_module_version": "1.5.0",
     "model_name": "DescriptionStyleModel",
     "state": {
      "_model_module": "@jupyter-widgets/controls",
      "_model_module_version": "1.5.0",
      "_model_name": "DescriptionStyleModel",
      "_view_count": null,
      "_view_module": "@jupyter-widgets/base",
      "_view_module_version": "1.2.0",
      "_view_name": "StyleView",
      "description_width": ""
     }
    },
    "e3089dd334214893b1a54e6fa596ac49": {
     "model_module": "@jupyter-widgets/controls",
     "model_module_version": "1.5.0",
     "model_name": "HTMLModel",
     "state": {
      "_dom_classes": [],
      "_model_module": "@jupyter-widgets/controls",
      "_model_module_version": "1.5.0",
      "_model_name": "HTMLModel",
      "_view_count": null,
      "_view_module": "@jupyter-widgets/controls",
      "_view_module_version": "1.5.0",
      "_view_name": "HTMLView",
      "description": "",
      "description_tooltip": null,
      "layout": "IPY_MODEL_b1d5a8acff4e477587a9bdcdff53928f",
      "placeholder": "​",
      "style": "IPY_MODEL_380ecf5f60284919b8b3e28c8fcb8cb3",
      "value": " 5418/5418 [00:16&lt;00:00, 313.99 examples/s]"
     }
    },
    "e58008c959dc44c787282a44dc14f7a7": {
     "model_module": "@jupyter-widgets/controls",
     "model_module_version": "1.5.0",
     "model_name": "DescriptionStyleModel",
     "state": {
      "_model_module": "@jupyter-widgets/controls",
      "_model_module_version": "1.5.0",
      "_model_name": "DescriptionStyleModel",
      "_view_count": null,
      "_view_module": "@jupyter-widgets/base",
      "_view_module_version": "1.2.0",
      "_view_name": "StyleView",
      "description_width": ""
     }
    },
    "ee6953e798bb46ebaee43099e81e419e": {
     "model_module": "@jupyter-widgets/controls",
     "model_module_version": "1.5.0",
     "model_name": "FloatProgressModel",
     "state": {
      "_dom_classes": [],
      "_model_module": "@jupyter-widgets/controls",
      "_model_module_version": "1.5.0",
      "_model_name": "FloatProgressModel",
      "_view_count": null,
      "_view_module": "@jupyter-widgets/controls",
      "_view_module_version": "1.5.0",
      "_view_name": "ProgressView",
      "bar_style": "success",
      "description": "",
      "description_tooltip": null,
      "layout": "IPY_MODEL_88fcf138b2ac439ab6ca1eec7b417719",
      "max": 25281,
      "min": 0,
      "orientation": "horizontal",
      "style": "IPY_MODEL_53ae4c38ddbf43958eade1be9965b5bd",
      "value": 25281
     }
    },
    "efc8803428614d50bd9ff83c556aff98": {
     "model_module": "@jupyter-widgets/base",
     "model_module_version": "1.2.0",
     "model_name": "LayoutModel",
     "state": {
      "_model_module": "@jupyter-widgets/base",
      "_model_module_version": "1.2.0",
      "_model_name": "LayoutModel",
      "_view_count": null,
      "_view_module": "@jupyter-widgets/base",
      "_view_module_version": "1.2.0",
      "_view_name": "LayoutView",
      "align_content": null,
      "align_items": null,
      "align_self": null,
      "border": null,
      "bottom": null,
      "display": null,
      "flex": null,
      "flex_flow": null,
      "grid_area": null,
      "grid_auto_columns": null,
      "grid_auto_flow": null,
      "grid_auto_rows": null,
      "grid_column": null,
      "grid_gap": null,
      "grid_row": null,
      "grid_template_areas": null,
      "grid_template_columns": null,
      "grid_template_rows": null,
      "height": null,
      "justify_content": null,
      "justify_items": null,
      "left": null,
      "margin": null,
      "max_height": null,
      "max_width": null,
      "min_height": null,
      "min_width": null,
      "object_fit": null,
      "object_position": null,
      "order": null,
      "overflow": null,
      "overflow_x": null,
      "overflow_y": null,
      "padding": null,
      "right": null,
      "top": null,
      "visibility": null,
      "width": null
     }
    },
    "f6a7045d9a2d477faa4bb8c8fa848c4b": {
     "model_module": "@jupyter-widgets/base",
     "model_module_version": "1.2.0",
     "model_name": "LayoutModel",
     "state": {
      "_model_module": "@jupyter-widgets/base",
      "_model_module_version": "1.2.0",
      "_model_name": "LayoutModel",
      "_view_count": null,
      "_view_module": "@jupyter-widgets/base",
      "_view_module_version": "1.2.0",
      "_view_name": "LayoutView",
      "align_content": null,
      "align_items": null,
      "align_self": null,
      "border": null,
      "bottom": null,
      "display": null,
      "flex": null,
      "flex_flow": null,
      "grid_area": null,
      "grid_auto_columns": null,
      "grid_auto_flow": null,
      "grid_auto_rows": null,
      "grid_column": null,
      "grid_gap": null,
      "grid_row": null,
      "grid_template_areas": null,
      "grid_template_columns": null,
      "grid_template_rows": null,
      "height": null,
      "justify_content": null,
      "justify_items": null,
      "left": null,
      "margin": null,
      "max_height": null,
      "max_width": null,
      "min_height": null,
      "min_width": null,
      "object_fit": null,
      "object_position": null,
      "order": null,
      "overflow": null,
      "overflow_x": null,
      "overflow_y": null,
      "padding": null,
      "right": null,
      "top": null,
      "visibility": null,
      "width": null
     }
    },
    "f7afc93c60db4b0d917844593637d6f3": {
     "model_module": "@jupyter-widgets/controls",
     "model_module_version": "1.5.0",
     "model_name": "HTMLModel",
     "state": {
      "_dom_classes": [],
      "_model_module": "@jupyter-widgets/controls",
      "_model_module_version": "1.5.0",
      "_model_name": "HTMLModel",
      "_view_count": null,
      "_view_module": "@jupyter-widgets/controls",
      "_view_module_version": "1.5.0",
      "_view_name": "HTMLView",
      "description": "",
      "description_tooltip": null,
      "layout": "IPY_MODEL_63fd357087194ac2857966dc11688bb2",
      "placeholder": "​",
      "style": "IPY_MODEL_d01434e07f4a47b5a941118285e4529b",
      "value": " 25281/25281 [01:22&lt;00:00, 301.33 examples/s]"
     }
    },
    "f81db139a4d44fa89133f78c062537fa": {
     "model_module": "@jupyter-widgets/controls",
     "model_module_version": "1.5.0",
     "model_name": "HTMLModel",
     "state": {
      "_dom_classes": [],
      "_model_module": "@jupyter-widgets/controls",
      "_model_module_version": "1.5.0",
      "_model_name": "HTMLModel",
      "_view_count": null,
      "_view_module": "@jupyter-widgets/controls",
      "_view_module_version": "1.5.0",
      "_view_name": "HTMLView",
      "description": "",
      "description_tooltip": null,
      "layout": "IPY_MODEL_51e9de3ef2ec47ff9608f9e91abd09ce",
      "placeholder": "​",
      "style": "IPY_MODEL_c281abb94bca41b48a2741256db3bb74",
      "value": "Map: 100%"
     }
    }
   }
  }
 },
 "nbformat": 4,
 "nbformat_minor": 5
}
