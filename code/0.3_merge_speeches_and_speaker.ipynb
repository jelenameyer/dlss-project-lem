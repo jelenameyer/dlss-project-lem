{
 "cells": [
  {
   "cell_type": "markdown",
   "id": "ec1b4c32",
   "metadata": {},
   "source": [
    "# Merging all speeches with Speaker names and parties by Speaker_ID\n",
    "\n",
    "Using the csv files for speeches and the one for all speaker names to merge all to one Dataframe."
   ]
  },
  {
   "cell_type": "code",
   "execution_count": 1,
   "id": "463c3c46",
   "metadata": {},
   "outputs": [],
   "source": [
    "# Setup -load packages\n",
    "import pandas as pd\n",
    "\n",
    "# load data \n",
    "speeches = pd.read_csv(\"../data/speeches.csv\")\n",
    "speakers = pd.read_csv(\"../data/speaker_names.csv\")"
   ]
  },
  {
   "cell_type": "code",
   "execution_count": 2,
   "id": "8f5e2195",
   "metadata": {},
   "outputs": [],
   "source": [
    "# Merge using inner join\n",
    "merged_df = pd.merge(\n",
    "    speeches,\n",
    "    speakers,\n",
    "    left_on='speaker_id',\n",
    "    right_on='speakerId',\n",
    "    how='inner'  # only keep speeches where speaker id was identifyable, -> none excluded! \n",
    ")\n",
    "\n",
    "# drop double index column\n",
    "merged_df = merged_df.drop(columns=['index'])"
   ]
  },
  {
   "cell_type": "code",
   "execution_count": 3,
   "id": "4ca74571",
   "metadata": {},
   "outputs": [
    {
     "data": {
      "text/plain": [
       "True"
      ]
     },
     "execution_count": 3,
     "metadata": {},
     "output_type": "execute_result"
    }
   ],
   "source": [
    "# testing if it worked -> I think Yes :)\n",
    "merged_df[merged_df['speaker_id'] == 11001235]\n",
    "merged_df[merged_df['lastName'] == \"Kubicki\"]\n",
    "\n",
    "len(merged_df[merged_df['speaker_id'] == 11001235]) == len(merged_df[merged_df['lastName'] == \"Kubicki\"])"
   ]
  },
  {
   "cell_type": "code",
   "execution_count": 4,
   "id": "c0be24dc",
   "metadata": {},
   "outputs": [],
   "source": [
    "# save data \n",
    "merged_df.to_csv(\"../data/complete_data.csv\",index=False)"
   ]
  }
 ],
 "metadata": {
  "kernelspec": {
   "display_name": "DeepLearn",
   "language": "python",
   "name": "python3"
  },
  "language_info": {
   "codemirror_mode": {
    "name": "ipython",
    "version": 3
   },
   "file_extension": ".py",
   "mimetype": "text/x-python",
   "name": "python",
   "nbconvert_exporter": "python",
   "pygments_lexer": "ipython3",
   "version": "3.13.2"
  }
 },
 "nbformat": 4,
 "nbformat_minor": 5
}
